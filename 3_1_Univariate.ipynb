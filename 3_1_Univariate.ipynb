{
  "nbformat": 4,
  "nbformat_minor": 0,
  "metadata": {
    "colab": {
      "name": "3.1_Univariate.ipynb",
      "provenance": [],
      "collapsed_sections": [],
      "include_colab_link": true
    },
    "kernelspec": {
      "name": "python3",
      "display_name": "Python 3"
    }
  },
  "cells": [
    {
      "cell_type": "markdown",
      "metadata": {
        "id": "view-in-github",
        "colab_type": "text"
      },
      "source": [
        "<a href=\"https://colab.research.google.com/github/SaiVamshiKatkuri/MLnow_2.0/blob/main/3_1_Univariate.ipynb\" target=\"_parent\"><img src=\"https://colab.research.google.com/assets/colab-badge.svg\" alt=\"Open In Colab\"/></a>"
      ]
    },
    {
      "cell_type": "markdown",
      "metadata": {
        "id": "q_569ugy6lyY"
      },
      "source": [
        "**Topic**: `Univariate Linear Regression`\n",
        "\n",
        "[Link to download the Dataset](https://archive.ics.uci.edu/ml/datasets/Student+Performance)\n",
        "\n",
        "**Date Created** :June 6,2021\n",
        "\n",
        "**AUTHOR**: Sai Vamshi Katkuri\n",
        "[Assessment Repository](https://github.com/SaiVamshiKatkuri/MLnow_2.0)\n",
        "\n",
        "**Reach out** :[Email](https://mail.google.com/mail/u/0/?tab=rm&ogbl#inbox) | [Linkedin](https://www.linkedin.com/in/katkuri-sai-vamshi-2209281a8/) | [Github](https://github.com/SaiVamshiKatkuri)\n",
        "\n",
        "**Changes** : Used Simple Linear Regression as well as Support Vector Machines\n",
        "\n",
        "\n"
      ]
    },
    {
      "cell_type": "markdown",
      "metadata": {
        "id": "KmW9S6zjaauQ"
      },
      "source": [
        "## Setup"
      ]
    },
    {
      "cell_type": "code",
      "metadata": {
        "colab": {
          "base_uri": "https://localhost:8080/"
        },
        "id": "oX_QibhWsnnX",
        "outputId": "d76b98ac-4265-4a1b-a00e-700f2cab3d25"
      },
      "source": [
        "from google.colab import drive\n",
        "drive.mount('/content/drive')"
      ],
      "execution_count": 1,
      "outputs": [
        {
          "output_type": "stream",
          "text": [
            "Mounted at /content/drive\n"
          ],
          "name": "stdout"
        }
      ]
    },
    {
      "cell_type": "code",
      "metadata": {
        "colab": {
          "base_uri": "https://localhost:8080/"
        },
        "id": "wYuNn17Isvml",
        "outputId": "23851473-0fa1-4bf0-9e80-842154fae085"
      },
      "source": [
        "cd '/content/drive/MyDrive/Datasets'"
      ],
      "execution_count": 2,
      "outputs": [
        {
          "output_type": "stream",
          "text": [
            "/content/drive/MyDrive/Datasets\n"
          ],
          "name": "stdout"
        }
      ]
    },
    {
      "cell_type": "code",
      "metadata": {
        "colab": {
          "base_uri": "https://localhost:8080/"
        },
        "id": "oR69jwALs-uP",
        "outputId": "46162097-fc0b-41d4-cffa-553b50207aa1"
      },
      "source": [
        "ls"
      ],
      "execution_count": 3,
      "outputs": [
        {
          "output_type": "stream",
          "text": [
            "student-mat.csv  student-por.csv  univariate_MathData_2.csv  w-h.csv\n"
          ],
          "name": "stdout"
        }
      ]
    },
    {
      "cell_type": "code",
      "metadata": {
        "id": "0rYwvbeMtPJg"
      },
      "source": [
        "import os"
      ],
      "execution_count": 4,
      "outputs": []
    },
    {
      "cell_type": "code",
      "metadata": {
        "id": "cnGQRbmes_tZ"
      },
      "source": [
        "import pandas as pd #working with csv or excel files\n",
        "import numpy as np #working with numbers/ arrays/ tensors\n",
        "import tensorflow as tf #framework\n",
        "from tensorflow import keras #API / library \n",
        "import os #using os commands between the python language"
      ],
      "execution_count": 5,
      "outputs": []
    },
    {
      "cell_type": "code",
      "metadata": {
        "id": "VV-Ps6dJtX6B"
      },
      "source": [
        "mathData = pd.read_csv('student-mat.csv', sep=';') #load the csv file as dataframe"
      ],
      "execution_count": 6,
      "outputs": []
    },
    {
      "cell_type": "code",
      "metadata": {
        "colab": {
          "base_uri": "https://localhost:8080/",
          "height": 382
        },
        "id": "2_KId_bptr05",
        "outputId": "72e10f29-2883-4184-9303-53426aa8468d"
      },
      "source": [
        "mathData.head(10) #print the first ten rows of the dataframe"
      ],
      "execution_count": 7,
      "outputs": [
        {
          "output_type": "execute_result",
          "data": {
            "text/html": [
              "<div>\n",
              "<style scoped>\n",
              "    .dataframe tbody tr th:only-of-type {\n",
              "        vertical-align: middle;\n",
              "    }\n",
              "\n",
              "    .dataframe tbody tr th {\n",
              "        vertical-align: top;\n",
              "    }\n",
              "\n",
              "    .dataframe thead th {\n",
              "        text-align: right;\n",
              "    }\n",
              "</style>\n",
              "<table border=\"1\" class=\"dataframe\">\n",
              "  <thead>\n",
              "    <tr style=\"text-align: right;\">\n",
              "      <th></th>\n",
              "      <th>school</th>\n",
              "      <th>sex</th>\n",
              "      <th>age</th>\n",
              "      <th>address</th>\n",
              "      <th>famsize</th>\n",
              "      <th>Pstatus</th>\n",
              "      <th>Medu</th>\n",
              "      <th>Fedu</th>\n",
              "      <th>Mjob</th>\n",
              "      <th>Fjob</th>\n",
              "      <th>reason</th>\n",
              "      <th>guardian</th>\n",
              "      <th>traveltime</th>\n",
              "      <th>studytime</th>\n",
              "      <th>failures</th>\n",
              "      <th>schoolsup</th>\n",
              "      <th>famsup</th>\n",
              "      <th>paid</th>\n",
              "      <th>activities</th>\n",
              "      <th>nursery</th>\n",
              "      <th>higher</th>\n",
              "      <th>internet</th>\n",
              "      <th>romantic</th>\n",
              "      <th>famrel</th>\n",
              "      <th>freetime</th>\n",
              "      <th>goout</th>\n",
              "      <th>Dalc</th>\n",
              "      <th>Walc</th>\n",
              "      <th>health</th>\n",
              "      <th>absences</th>\n",
              "      <th>G1</th>\n",
              "      <th>G2</th>\n",
              "      <th>G3</th>\n",
              "    </tr>\n",
              "  </thead>\n",
              "  <tbody>\n",
              "    <tr>\n",
              "      <th>0</th>\n",
              "      <td>GP</td>\n",
              "      <td>F</td>\n",
              "      <td>18</td>\n",
              "      <td>U</td>\n",
              "      <td>GT3</td>\n",
              "      <td>A</td>\n",
              "      <td>4</td>\n",
              "      <td>4</td>\n",
              "      <td>at_home</td>\n",
              "      <td>teacher</td>\n",
              "      <td>course</td>\n",
              "      <td>mother</td>\n",
              "      <td>2</td>\n",
              "      <td>2</td>\n",
              "      <td>0</td>\n",
              "      <td>yes</td>\n",
              "      <td>no</td>\n",
              "      <td>no</td>\n",
              "      <td>no</td>\n",
              "      <td>yes</td>\n",
              "      <td>yes</td>\n",
              "      <td>no</td>\n",
              "      <td>no</td>\n",
              "      <td>4</td>\n",
              "      <td>3</td>\n",
              "      <td>4</td>\n",
              "      <td>1</td>\n",
              "      <td>1</td>\n",
              "      <td>3</td>\n",
              "      <td>6</td>\n",
              "      <td>5</td>\n",
              "      <td>6</td>\n",
              "      <td>6</td>\n",
              "    </tr>\n",
              "    <tr>\n",
              "      <th>1</th>\n",
              "      <td>GP</td>\n",
              "      <td>F</td>\n",
              "      <td>17</td>\n",
              "      <td>U</td>\n",
              "      <td>GT3</td>\n",
              "      <td>T</td>\n",
              "      <td>1</td>\n",
              "      <td>1</td>\n",
              "      <td>at_home</td>\n",
              "      <td>other</td>\n",
              "      <td>course</td>\n",
              "      <td>father</td>\n",
              "      <td>1</td>\n",
              "      <td>2</td>\n",
              "      <td>0</td>\n",
              "      <td>no</td>\n",
              "      <td>yes</td>\n",
              "      <td>no</td>\n",
              "      <td>no</td>\n",
              "      <td>no</td>\n",
              "      <td>yes</td>\n",
              "      <td>yes</td>\n",
              "      <td>no</td>\n",
              "      <td>5</td>\n",
              "      <td>3</td>\n",
              "      <td>3</td>\n",
              "      <td>1</td>\n",
              "      <td>1</td>\n",
              "      <td>3</td>\n",
              "      <td>4</td>\n",
              "      <td>5</td>\n",
              "      <td>5</td>\n",
              "      <td>6</td>\n",
              "    </tr>\n",
              "    <tr>\n",
              "      <th>2</th>\n",
              "      <td>GP</td>\n",
              "      <td>F</td>\n",
              "      <td>15</td>\n",
              "      <td>U</td>\n",
              "      <td>LE3</td>\n",
              "      <td>T</td>\n",
              "      <td>1</td>\n",
              "      <td>1</td>\n",
              "      <td>at_home</td>\n",
              "      <td>other</td>\n",
              "      <td>other</td>\n",
              "      <td>mother</td>\n",
              "      <td>1</td>\n",
              "      <td>2</td>\n",
              "      <td>3</td>\n",
              "      <td>yes</td>\n",
              "      <td>no</td>\n",
              "      <td>yes</td>\n",
              "      <td>no</td>\n",
              "      <td>yes</td>\n",
              "      <td>yes</td>\n",
              "      <td>yes</td>\n",
              "      <td>no</td>\n",
              "      <td>4</td>\n",
              "      <td>3</td>\n",
              "      <td>2</td>\n",
              "      <td>2</td>\n",
              "      <td>3</td>\n",
              "      <td>3</td>\n",
              "      <td>10</td>\n",
              "      <td>7</td>\n",
              "      <td>8</td>\n",
              "      <td>10</td>\n",
              "    </tr>\n",
              "    <tr>\n",
              "      <th>3</th>\n",
              "      <td>GP</td>\n",
              "      <td>F</td>\n",
              "      <td>15</td>\n",
              "      <td>U</td>\n",
              "      <td>GT3</td>\n",
              "      <td>T</td>\n",
              "      <td>4</td>\n",
              "      <td>2</td>\n",
              "      <td>health</td>\n",
              "      <td>services</td>\n",
              "      <td>home</td>\n",
              "      <td>mother</td>\n",
              "      <td>1</td>\n",
              "      <td>3</td>\n",
              "      <td>0</td>\n",
              "      <td>no</td>\n",
              "      <td>yes</td>\n",
              "      <td>yes</td>\n",
              "      <td>yes</td>\n",
              "      <td>yes</td>\n",
              "      <td>yes</td>\n",
              "      <td>yes</td>\n",
              "      <td>yes</td>\n",
              "      <td>3</td>\n",
              "      <td>2</td>\n",
              "      <td>2</td>\n",
              "      <td>1</td>\n",
              "      <td>1</td>\n",
              "      <td>5</td>\n",
              "      <td>2</td>\n",
              "      <td>15</td>\n",
              "      <td>14</td>\n",
              "      <td>15</td>\n",
              "    </tr>\n",
              "    <tr>\n",
              "      <th>4</th>\n",
              "      <td>GP</td>\n",
              "      <td>F</td>\n",
              "      <td>16</td>\n",
              "      <td>U</td>\n",
              "      <td>GT3</td>\n",
              "      <td>T</td>\n",
              "      <td>3</td>\n",
              "      <td>3</td>\n",
              "      <td>other</td>\n",
              "      <td>other</td>\n",
              "      <td>home</td>\n",
              "      <td>father</td>\n",
              "      <td>1</td>\n",
              "      <td>2</td>\n",
              "      <td>0</td>\n",
              "      <td>no</td>\n",
              "      <td>yes</td>\n",
              "      <td>yes</td>\n",
              "      <td>no</td>\n",
              "      <td>yes</td>\n",
              "      <td>yes</td>\n",
              "      <td>no</td>\n",
              "      <td>no</td>\n",
              "      <td>4</td>\n",
              "      <td>3</td>\n",
              "      <td>2</td>\n",
              "      <td>1</td>\n",
              "      <td>2</td>\n",
              "      <td>5</td>\n",
              "      <td>4</td>\n",
              "      <td>6</td>\n",
              "      <td>10</td>\n",
              "      <td>10</td>\n",
              "    </tr>\n",
              "    <tr>\n",
              "      <th>5</th>\n",
              "      <td>GP</td>\n",
              "      <td>M</td>\n",
              "      <td>16</td>\n",
              "      <td>U</td>\n",
              "      <td>LE3</td>\n",
              "      <td>T</td>\n",
              "      <td>4</td>\n",
              "      <td>3</td>\n",
              "      <td>services</td>\n",
              "      <td>other</td>\n",
              "      <td>reputation</td>\n",
              "      <td>mother</td>\n",
              "      <td>1</td>\n",
              "      <td>2</td>\n",
              "      <td>0</td>\n",
              "      <td>no</td>\n",
              "      <td>yes</td>\n",
              "      <td>yes</td>\n",
              "      <td>yes</td>\n",
              "      <td>yes</td>\n",
              "      <td>yes</td>\n",
              "      <td>yes</td>\n",
              "      <td>no</td>\n",
              "      <td>5</td>\n",
              "      <td>4</td>\n",
              "      <td>2</td>\n",
              "      <td>1</td>\n",
              "      <td>2</td>\n",
              "      <td>5</td>\n",
              "      <td>10</td>\n",
              "      <td>15</td>\n",
              "      <td>15</td>\n",
              "      <td>15</td>\n",
              "    </tr>\n",
              "    <tr>\n",
              "      <th>6</th>\n",
              "      <td>GP</td>\n",
              "      <td>M</td>\n",
              "      <td>16</td>\n",
              "      <td>U</td>\n",
              "      <td>LE3</td>\n",
              "      <td>T</td>\n",
              "      <td>2</td>\n",
              "      <td>2</td>\n",
              "      <td>other</td>\n",
              "      <td>other</td>\n",
              "      <td>home</td>\n",
              "      <td>mother</td>\n",
              "      <td>1</td>\n",
              "      <td>2</td>\n",
              "      <td>0</td>\n",
              "      <td>no</td>\n",
              "      <td>no</td>\n",
              "      <td>no</td>\n",
              "      <td>no</td>\n",
              "      <td>yes</td>\n",
              "      <td>yes</td>\n",
              "      <td>yes</td>\n",
              "      <td>no</td>\n",
              "      <td>4</td>\n",
              "      <td>4</td>\n",
              "      <td>4</td>\n",
              "      <td>1</td>\n",
              "      <td>1</td>\n",
              "      <td>3</td>\n",
              "      <td>0</td>\n",
              "      <td>12</td>\n",
              "      <td>12</td>\n",
              "      <td>11</td>\n",
              "    </tr>\n",
              "    <tr>\n",
              "      <th>7</th>\n",
              "      <td>GP</td>\n",
              "      <td>F</td>\n",
              "      <td>17</td>\n",
              "      <td>U</td>\n",
              "      <td>GT3</td>\n",
              "      <td>A</td>\n",
              "      <td>4</td>\n",
              "      <td>4</td>\n",
              "      <td>other</td>\n",
              "      <td>teacher</td>\n",
              "      <td>home</td>\n",
              "      <td>mother</td>\n",
              "      <td>2</td>\n",
              "      <td>2</td>\n",
              "      <td>0</td>\n",
              "      <td>yes</td>\n",
              "      <td>yes</td>\n",
              "      <td>no</td>\n",
              "      <td>no</td>\n",
              "      <td>yes</td>\n",
              "      <td>yes</td>\n",
              "      <td>no</td>\n",
              "      <td>no</td>\n",
              "      <td>4</td>\n",
              "      <td>1</td>\n",
              "      <td>4</td>\n",
              "      <td>1</td>\n",
              "      <td>1</td>\n",
              "      <td>1</td>\n",
              "      <td>6</td>\n",
              "      <td>6</td>\n",
              "      <td>5</td>\n",
              "      <td>6</td>\n",
              "    </tr>\n",
              "    <tr>\n",
              "      <th>8</th>\n",
              "      <td>GP</td>\n",
              "      <td>M</td>\n",
              "      <td>15</td>\n",
              "      <td>U</td>\n",
              "      <td>LE3</td>\n",
              "      <td>A</td>\n",
              "      <td>3</td>\n",
              "      <td>2</td>\n",
              "      <td>services</td>\n",
              "      <td>other</td>\n",
              "      <td>home</td>\n",
              "      <td>mother</td>\n",
              "      <td>1</td>\n",
              "      <td>2</td>\n",
              "      <td>0</td>\n",
              "      <td>no</td>\n",
              "      <td>yes</td>\n",
              "      <td>yes</td>\n",
              "      <td>no</td>\n",
              "      <td>yes</td>\n",
              "      <td>yes</td>\n",
              "      <td>yes</td>\n",
              "      <td>no</td>\n",
              "      <td>4</td>\n",
              "      <td>2</td>\n",
              "      <td>2</td>\n",
              "      <td>1</td>\n",
              "      <td>1</td>\n",
              "      <td>1</td>\n",
              "      <td>0</td>\n",
              "      <td>16</td>\n",
              "      <td>18</td>\n",
              "      <td>19</td>\n",
              "    </tr>\n",
              "    <tr>\n",
              "      <th>9</th>\n",
              "      <td>GP</td>\n",
              "      <td>M</td>\n",
              "      <td>15</td>\n",
              "      <td>U</td>\n",
              "      <td>GT3</td>\n",
              "      <td>T</td>\n",
              "      <td>3</td>\n",
              "      <td>4</td>\n",
              "      <td>other</td>\n",
              "      <td>other</td>\n",
              "      <td>home</td>\n",
              "      <td>mother</td>\n",
              "      <td>1</td>\n",
              "      <td>2</td>\n",
              "      <td>0</td>\n",
              "      <td>no</td>\n",
              "      <td>yes</td>\n",
              "      <td>yes</td>\n",
              "      <td>yes</td>\n",
              "      <td>yes</td>\n",
              "      <td>yes</td>\n",
              "      <td>yes</td>\n",
              "      <td>no</td>\n",
              "      <td>5</td>\n",
              "      <td>5</td>\n",
              "      <td>1</td>\n",
              "      <td>1</td>\n",
              "      <td>1</td>\n",
              "      <td>5</td>\n",
              "      <td>0</td>\n",
              "      <td>14</td>\n",
              "      <td>15</td>\n",
              "      <td>15</td>\n",
              "    </tr>\n",
              "  </tbody>\n",
              "</table>\n",
              "</div>"
            ],
            "text/plain": [
              "  school sex  age address famsize Pstatus  ...  Walc  health absences  G1  G2  G3\n",
              "0     GP   F   18       U     GT3       A  ...     1       3        6   5   6   6\n",
              "1     GP   F   17       U     GT3       T  ...     1       3        4   5   5   6\n",
              "2     GP   F   15       U     LE3       T  ...     3       3       10   7   8  10\n",
              "3     GP   F   15       U     GT3       T  ...     1       5        2  15  14  15\n",
              "4     GP   F   16       U     GT3       T  ...     2       5        4   6  10  10\n",
              "5     GP   M   16       U     LE3       T  ...     2       5       10  15  15  15\n",
              "6     GP   M   16       U     LE3       T  ...     1       3        0  12  12  11\n",
              "7     GP   F   17       U     GT3       A  ...     1       1        6   6   5   6\n",
              "8     GP   M   15       U     LE3       A  ...     1       1        0  16  18  19\n",
              "9     GP   M   15       U     GT3       T  ...     1       5        0  14  15  15\n",
              "\n",
              "[10 rows x 33 columns]"
            ]
          },
          "metadata": {
            "tags": []
          },
          "execution_count": 7
        }
      ]
    },
    {
      "cell_type": "markdown",
      "metadata": {
        "id": "i2bal50yG_PZ"
      },
      "source": [
        "We are just going to consider the columns `G1` and `G3` for univariate linear regression\n",
        "\n",
        "$G3_i = G1_i  \\cdot \\theta_1 + \\theta_0$"
      ]
    },
    {
      "cell_type": "code",
      "metadata": {
        "colab": {
          "base_uri": "https://localhost:8080/",
          "height": 205
        },
        "id": "Yw0PNCuTSEDC",
        "outputId": "3fbfef89-d57b-4aba-d2d6-fd085707b726"
      },
      "source": [
        "uniMathData = mathData[['G1', 'G3']]\n",
        "uniMathData.head(5)"
      ],
      "execution_count": 8,
      "outputs": [
        {
          "output_type": "execute_result",
          "data": {
            "text/html": [
              "<div>\n",
              "<style scoped>\n",
              "    .dataframe tbody tr th:only-of-type {\n",
              "        vertical-align: middle;\n",
              "    }\n",
              "\n",
              "    .dataframe tbody tr th {\n",
              "        vertical-align: top;\n",
              "    }\n",
              "\n",
              "    .dataframe thead th {\n",
              "        text-align: right;\n",
              "    }\n",
              "</style>\n",
              "<table border=\"1\" class=\"dataframe\">\n",
              "  <thead>\n",
              "    <tr style=\"text-align: right;\">\n",
              "      <th></th>\n",
              "      <th>G1</th>\n",
              "      <th>G3</th>\n",
              "    </tr>\n",
              "  </thead>\n",
              "  <tbody>\n",
              "    <tr>\n",
              "      <th>0</th>\n",
              "      <td>5</td>\n",
              "      <td>6</td>\n",
              "    </tr>\n",
              "    <tr>\n",
              "      <th>1</th>\n",
              "      <td>5</td>\n",
              "      <td>6</td>\n",
              "    </tr>\n",
              "    <tr>\n",
              "      <th>2</th>\n",
              "      <td>7</td>\n",
              "      <td>10</td>\n",
              "    </tr>\n",
              "    <tr>\n",
              "      <th>3</th>\n",
              "      <td>15</td>\n",
              "      <td>15</td>\n",
              "    </tr>\n",
              "    <tr>\n",
              "      <th>4</th>\n",
              "      <td>6</td>\n",
              "      <td>10</td>\n",
              "    </tr>\n",
              "  </tbody>\n",
              "</table>\n",
              "</div>"
            ],
            "text/plain": [
              "   G1  G3\n",
              "0   5   6\n",
              "1   5   6\n",
              "2   7  10\n",
              "3  15  15\n",
              "4   6  10"
            ]
          },
          "metadata": {
            "tags": []
          },
          "execution_count": 8
        }
      ]
    },
    {
      "cell_type": "code",
      "metadata": {
        "id": "eyzP9mL4Hmb5"
      },
      "source": [
        "uniMathData.to_csv('univariate_MathData_2.csv')"
      ],
      "execution_count": 9,
      "outputs": []
    },
    {
      "cell_type": "code",
      "metadata": {
        "colab": {
          "base_uri": "https://localhost:8080/"
        },
        "id": "I-3qK_nNxnTA",
        "outputId": "b235e790-c7bd-4120-bc37-84d2c666d55e"
      },
      "source": [
        "ls"
      ],
      "execution_count": 10,
      "outputs": [
        {
          "output_type": "stream",
          "text": [
            "student-mat.csv  student-por.csv  univariate_MathData_2.csv  w-h.csv\n"
          ],
          "name": "stdout"
        }
      ]
    },
    {
      "cell_type": "markdown",
      "metadata": {
        "id": "ImV3p6AKxszU"
      },
      "source": [
        "## Data visualization"
      ]
    },
    {
      "cell_type": "code",
      "metadata": {
        "colab": {
          "base_uri": "https://localhost:8080/",
          "height": 157
        },
        "id": "RqumcsZLxq4v",
        "outputId": "b3517eb4-5647-4744-efd8-261fe2b91c88"
      },
      "source": [
        "import seaborn as sns\n",
        "sns.palplot(sns.color_palette('PuOr')) #Purple to Orange colors\n",
        "pal = sns.color_palette('PuOr', 6) #print 6 color shades from Purple to Orange\n",
        "pal.as_hex() #set hex code values for colors\n",
        "\n",
        "import matplotlib.pyplot as plt\n",
        "plt.style.use(['seaborn'])\n",
        "sns_colors = ['#c6690c', '#664697'] #orange Purple hex codes\n",
        "sns.set_palette(sns_colors) #set the palette as sns_colors \n",
        "sns.palplot(sns.color_palette(sns_colors)) #plot the color codes"
      ],
      "execution_count": 11,
      "outputs": [
        {
          "output_type": "display_data",
          "data": {
            "image/png": "[encoded data removed]",
            "text/plain": [
              "<Figure size 432x72 with 1 Axes>"
            ]
          },
          "metadata": {
            "tags": [],
            "needs_background": "light"
          }
        },
        {
          "output_type": "display_data",
          "data": {
            "image/png": "[encoded data removed]",
            "text/plain": [
              "<Figure size 144x72 with 1 Axes>"
            ]
          },
          "metadata": {
            "tags": []
          }
        }
      ]
    },
    {
      "cell_type": "code",
      "metadata": {
        "colab": {
          "base_uri": "https://localhost:8080/"
        },
        "id": "A6MT5E8Fy7MZ",
        "outputId": "1abebd0e-c0b1-4f09-d7e1-9891a5d4757d"
      },
      "source": [
        "uniMathData.columns #columns in the dataframe"
      ],
      "execution_count": 12,
      "outputs": [
        {
          "output_type": "execute_result",
          "data": {
            "text/plain": [
              "Index(['G1', 'G3'], dtype='object')"
            ]
          },
          "metadata": {
            "tags": []
          },
          "execution_count": 12
        }
      ]
    },
    {
      "cell_type": "code",
      "metadata": {
        "colab": {
          "base_uri": "https://localhost:8080/",
          "height": 391
        },
        "id": "PrsTwdHHzBbk",
        "outputId": "4e5931cf-b2fe-47d2-d3ef-97bd7212f908"
      },
      "source": [
        "#pairplot for all the values\n",
        "\n",
        "sns.pairplot(uniMathData,\n",
        "             x_vars = ['G1', 'G3'],\n",
        "             y_vars =  ['G1', 'G3'],\n",
        "       diag_kind='kde'\n",
        "             )"
      ],
      "execution_count": 13,
      "outputs": [
        {
          "output_type": "execute_result",
          "data": {
            "text/plain": [
              "<seaborn.axisgrid.PairGrid at 0x7f78cf7ef150>"
            ]
          },
          "metadata": {
            "tags": []
          },
          "execution_count": 13
        },
        {
          "output_type": "display_data",
          "data": {
            "image/png": "[encoded data removed]",
            "text/plain": [
              "<Figure size 360x360 with 6 Axes>"
            ]
          },
          "metadata": {
            "tags": []
          }
        }
      ]
    },
    {
      "cell_type": "markdown",
      "metadata": {
        "id": "Klm33YcpKZkl"
      },
      "source": [
        "## Data Splits"
      ]
    },
    {
      "cell_type": "code",
      "metadata": {
        "colab": {
          "base_uri": "https://localhost:8080/"
        },
        "id": "UwrSOCKS1NhN",
        "outputId": "7274f7fb-6b3a-42a2-b52b-5f9d9992b8e4"
      },
      "source": [
        "#80-20 train-test percent split\n",
        "\n",
        "trainDataset = uniMathData.sample(frac=0.8, random_state=0) \n",
        "testDataset = uniMathData.drop(trainDataset.index)\n",
        "\n",
        "print(trainDataset.head())\n",
        "print(testDataset.head())"
      ],
      "execution_count": 14,
      "outputs": [
        {
          "output_type": "stream",
          "text": [
            "     G1  G3\n",
            "329  14  14\n",
            "318  11  10\n",
            "317   9   9\n",
            "65   16  15\n",
            "59   15  16\n",
            "    G1  G3\n",
            "9   14  15\n",
            "25   6   8\n",
            "28  11  11\n",
            "31  17  17\n",
            "32  17  16\n"
          ],
          "name": "stdout"
        }
      ]
    },
    {
      "cell_type": "code",
      "metadata": {
        "colab": {
          "base_uri": "https://localhost:8080/"
        },
        "id": "YWO2xRV53wV-",
        "outputId": "a6daf2e5-cea7-4146-ac11-48b5da7d70ea"
      },
      "source": [
        "print(trainDataset.shape)\n",
        "print(testDataset.shape)"
      ],
      "execution_count": 15,
      "outputs": [
        {
          "output_type": "stream",
          "text": [
            "(316, 2)\n",
            "(79, 2)\n"
          ],
          "name": "stdout"
        }
      ]
    },
    {
      "cell_type": "code",
      "metadata": {
        "colab": {
          "base_uri": "https://localhost:8080/"
        },
        "id": "OmDTbvMC32hg",
        "outputId": "043807be-178f-4490-baa5-2da3c6a0707f"
      },
      "source": [
        "#copy the trainDataset dataframe for getting the features\n",
        "\n",
        "trainFeatures = trainDataset.copy()\n",
        "testFeatures = testDataset.copy()\n",
        "\n",
        "print(trainFeatures.head())\n",
        "print(testFeatures.head())"
      ],
      "execution_count": 16,
      "outputs": [
        {
          "output_type": "stream",
          "text": [
            "     G1  G3\n",
            "329  14  14\n",
            "318  11  10\n",
            "317   9   9\n",
            "65   16  15\n",
            "59   15  16\n",
            "    G1  G3\n",
            "9   14  15\n",
            "25   6   8\n",
            "28  11  11\n",
            "31  17  17\n",
            "32  17  16\n"
          ],
          "name": "stdout"
        }
      ]
    },
    {
      "cell_type": "code",
      "metadata": {
        "colab": {
          "base_uri": "https://localhost:8080/"
        },
        "id": "jSR0_uni4ayh",
        "outputId": "ed773741-07e5-401c-9819-b4172a06ea22"
      },
      "source": [
        "#removing the G3 column and saving it into the labels variable\n",
        "\n",
        "trainLabels = trainFeatures.pop('G3')\n",
        "testLabels = testFeatures.pop('G3')\n",
        "\n",
        "print(trainLabels.head())\n",
        "print(testLabels.head())"
      ],
      "execution_count": 17,
      "outputs": [
        {
          "output_type": "stream",
          "text": [
            "329    14\n",
            "318    10\n",
            "317     9\n",
            "65     15\n",
            "59     16\n",
            "Name: G3, dtype: int64\n",
            "9     15\n",
            "25     8\n",
            "28    11\n",
            "31    17\n",
            "32    16\n",
            "Name: G3, dtype: int64\n"
          ],
          "name": "stdout"
        }
      ]
    },
    {
      "cell_type": "code",
      "metadata": {
        "colab": {
          "base_uri": "https://localhost:8080/"
        },
        "id": "4I-CMCqmmGDX",
        "outputId": "efb32ca8-863f-46b3-d7be-0c718baf0e08"
      },
      "source": [
        "print(trainLabels.describe())"
      ],
      "execution_count": 18,
      "outputs": [
        {
          "output_type": "stream",
          "text": [
            "count    316.000000\n",
            "mean      10.303797\n",
            "std        4.575586\n",
            "min        0.000000\n",
            "25%        8.000000\n",
            "50%       11.000000\n",
            "75%       13.000000\n",
            "max       19.000000\n",
            "Name: G3, dtype: float64\n"
          ],
          "name": "stdout"
        }
      ]
    },
    {
      "cell_type": "code",
      "metadata": {
        "colab": {
          "base_uri": "https://localhost:8080/"
        },
        "id": "HnGSqb-q4wk8",
        "outputId": "782bd215-f20f-45f2-d06b-2786b1a78b7f"
      },
      "source": [
        "print(trainFeatures.head())\n",
        "print(testFeatures.head())"
      ],
      "execution_count": 19,
      "outputs": [
        {
          "output_type": "stream",
          "text": [
            "     G1\n",
            "329  14\n",
            "318  11\n",
            "317   9\n",
            "65   16\n",
            "59   15\n",
            "    G1\n",
            "9   14\n",
            "25   6\n",
            "28  11\n",
            "31  17\n",
            "32  17\n"
          ],
          "name": "stdout"
        }
      ]
    },
    {
      "cell_type": "code",
      "metadata": {
        "id": "XPTSq34jk4o_"
      },
      "source": [
        "# univariate -> num(features) = 1\n",
        "# multvariate -> num(features) > 1 = 11\n",
        "\n",
        "\n",
        "model = tf.keras.Sequential([\n",
        "                             tf.keras.layers.Dense(1)\n",
        "\n",
        "])"
      ],
      "execution_count": 20,
      "outputs": []
    },
    {
      "cell_type": "code",
      "metadata": {
        "id": "4C4GKBdE6iCE"
      },
      "source": [
        "model.compile(\n",
        "    loss = 'mean_absolute_error', #minimizing the MAE loss\n",
        "    optimizer = tf.keras.optimizers.Adam(0.001), #learning rate specified as 0.001\n",
        "    # optimizer = 'adam', #takes the default learning rate\n",
        "    metrics = ['mae', 'mse'] #meanSquare and meanAbsolute error metrics\n",
        ")"
      ],
      "execution_count": 21,
      "outputs": []
    },
    {
      "cell_type": "code",
      "metadata": {
        "colab": {
          "base_uri": "https://localhost:8080/"
        },
        "id": "d_A7DrhB6zvm",
        "outputId": "5d68d31c-cca8-4544-fe90-c21a4f38ae4c"
      },
      "source": [
        "numEpochs = 300\n",
        "history = model.fit(x = trainFeatures, y = trainLabels, validation_data = (testFeatures, testLabels), epochs = numEpochs)"
      ],
      "execution_count": 22,
      "outputs": [
        {
          "output_type": "stream",
          "text": [
            "Epoch 1/300\n",
            "10/10 [==============================] - 1s 21ms/step - loss: 12.5684 - mae: 12.5684 - mse: 184.2562 - val_loss: 13.2035 - val_mae: 13.2035 - val_mse: 201.2973\n",
            "Epoch 2/300\n",
            "10/10 [==============================] - 0s 4ms/step - loss: 12.4508 - mae: 12.4508 - mse: 181.0531 - val_loss: 13.0789 - val_mae: 13.0789 - val_mse: 197.7084\n",
            "Epoch 3/300\n",
            "10/10 [==============================] - 0s 4ms/step - loss: 12.3337 - mae: 12.3337 - mse: 177.8827 - val_loss: 12.9542 - val_mae: 12.9542 - val_mse: 194.1485\n",
            "Epoch 4/300\n",
            "10/10 [==============================] - 0s 3ms/step - loss: 12.2154 - mae: 12.2154 - mse: 174.6603 - val_loss: 12.8300 - val_mae: 12.8300 - val_mse: 190.6355\n",
            "Epoch 5/300\n",
            "10/10 [==============================] - 0s 3ms/step - loss: 12.0984 - mae: 12.0984 - mse: 171.5806 - val_loss: 12.7054 - val_mae: 12.7054 - val_mse: 187.1438\n",
            "Epoch 6/300\n",
            "10/10 [==============================] - 0s 4ms/step - loss: 11.9804 - mae: 11.9804 - mse: 168.4356 - val_loss: 12.5810 - val_mae: 12.5810 - val_mse: 183.6932\n",
            "Epoch 7/300\n",
            "10/10 [==============================] - 0s 4ms/step - loss: 11.8631 - mae: 11.8631 - mse: 165.3795 - val_loss: 12.4565 - val_mae: 12.4565 - val_mse: 180.2712\n",
            "Epoch 8/300\n",
            "10/10 [==============================] - 0s 3ms/step - loss: 11.7458 - mae: 11.7458 - mse: 162.3700 - val_loss: 12.3318 - val_mae: 12.3318 - val_mse: 176.8794\n",
            "Epoch 9/300\n",
            "10/10 [==============================] - 0s 4ms/step - loss: 11.6277 - mae: 11.6277 - mse: 159.3245 - val_loss: 12.2074 - val_mae: 12.2074 - val_mse: 173.5295\n",
            "Epoch 10/300\n",
            "10/10 [==============================] - 0s 4ms/step - loss: 11.5103 - mae: 11.5103 - mse: 156.3405 - val_loss: 12.0830 - val_mae: 12.0830 - val_mse: 170.2091\n",
            "Epoch 11/300\n",
            "10/10 [==============================] - 0s 4ms/step - loss: 11.3934 - mae: 11.3934 - mse: 153.4345 - val_loss: 11.9578 - val_mae: 11.9578 - val_mse: 166.9043\n",
            "Epoch 12/300\n",
            "10/10 [==============================] - 0s 3ms/step - loss: 11.2746 - mae: 11.2746 - mse: 150.4530 - val_loss: 11.8338 - val_mae: 11.8338 - val_mse: 163.6628\n",
            "Epoch 13/300\n",
            "10/10 [==============================] - 0s 4ms/step - loss: 11.1577 - mae: 11.1577 - mse: 147.5817 - val_loss: 11.7090 - val_mae: 11.7090 - val_mse: 160.4353\n",
            "Epoch 14/300\n",
            "10/10 [==============================] - 0s 3ms/step - loss: 11.0397 - mae: 11.0397 - mse: 144.6985 - val_loss: 11.5846 - val_mae: 11.5846 - val_mse: 157.2512\n",
            "Epoch 15/300\n",
            "10/10 [==============================] - 0s 3ms/step - loss: 10.9229 - mae: 10.9229 - mse: 141.9202 - val_loss: 11.4595 - val_mae: 11.4595 - val_mse: 154.0800\n",
            "Epoch 16/300\n",
            "10/10 [==============================] - 0s 3ms/step - loss: 10.8048 - mae: 10.8048 - mse: 139.0962 - val_loss: 11.3349 - val_mae: 11.3349 - val_mse: 150.9582\n",
            "Epoch 17/300\n",
            "10/10 [==============================] - 0s 3ms/step - loss: 10.6864 - mae: 10.6864 - mse: 136.2706 - val_loss: 11.2111 - val_mae: 11.2111 - val_mse: 147.8888\n",
            "Epoch 18/300\n",
            "10/10 [==============================] - 0s 3ms/step - loss: 10.5700 - mae: 10.5700 - mse: 133.5741 - val_loss: 11.0860 - val_mae: 11.0860 - val_mse: 144.8201\n",
            "Epoch 19/300\n",
            "10/10 [==============================] - 0s 3ms/step - loss: 10.4534 - mae: 10.4534 - mse: 130.8520 - val_loss: 10.9643 - val_mae: 10.9643 - val_mse: 141.8138\n",
            "Epoch 20/300\n",
            "10/10 [==============================] - 0s 3ms/step - loss: 10.3447 - mae: 10.3447 - mse: 128.2254 - val_loss: 10.8591 - val_mae: 10.8591 - val_mse: 138.9779\n",
            "Epoch 21/300\n",
            "10/10 [==============================] - 0s 4ms/step - loss: 10.2516 - mae: 10.2516 - mse: 125.7932 - val_loss: 10.7590 - val_mae: 10.7590 - val_mse: 136.2880\n",
            "Epoch 22/300\n",
            "10/10 [==============================] - 0s 4ms/step - loss: 10.1609 - mae: 10.1609 - mse: 123.4387 - val_loss: 10.6618 - val_mae: 10.6618 - val_mse: 133.7023\n",
            "Epoch 23/300\n",
            "10/10 [==============================] - 0s 4ms/step - loss: 10.0717 - mae: 10.0717 - mse: 121.1236 - val_loss: 10.5653 - val_mae: 10.5653 - val_mse: 131.1632\n",
            "Epoch 24/300\n",
            "10/10 [==============================] - 0s 4ms/step - loss: 9.9843 - mae: 9.9843 - mse: 118.8797 - val_loss: 10.4677 - val_mae: 10.4677 - val_mse: 128.6176\n",
            "Epoch 25/300\n",
            "10/10 [==============================] - 0s 4ms/step - loss: 9.8938 - mae: 9.8938 - mse: 116.5869 - val_loss: 10.3712 - val_mae: 10.3712 - val_mse: 126.1299\n",
            "Epoch 26/300\n",
            "10/10 [==============================] - 0s 5ms/step - loss: 9.8055 - mae: 9.8055 - mse: 114.3704 - val_loss: 10.2731 - val_mae: 10.2731 - val_mse: 123.6270\n",
            "Epoch 27/300\n",
            "10/10 [==============================] - 0s 4ms/step - loss: 9.7148 - mae: 9.7148 - mse: 112.1548 - val_loss: 10.1757 - val_mae: 10.1757 - val_mse: 121.1655\n",
            "Epoch 28/300\n",
            "10/10 [==============================] - 0s 3ms/step - loss: 9.6263 - mae: 9.6263 - mse: 109.9511 - val_loss: 10.0761 - val_mae: 10.0761 - val_mse: 118.6782\n",
            "Epoch 29/300\n",
            "10/10 [==============================] - 0s 3ms/step - loss: 9.5349 - mae: 9.5349 - mse: 107.7537 - val_loss: 9.9772 - val_mae: 9.9772 - val_mse: 116.2337\n",
            "Epoch 30/300\n",
            "10/10 [==============================] - 0s 4ms/step - loss: 9.4445 - mae: 9.4445 - mse: 105.5651 - val_loss: 9.8776 - val_mae: 9.8776 - val_mse: 113.7988\n",
            "Epoch 31/300\n",
            "10/10 [==============================] - 0s 5ms/step - loss: 9.3533 - mae: 9.3533 - mse: 103.4173 - val_loss: 9.7774 - val_mae: 9.7774 - val_mse: 111.3789\n",
            "Epoch 32/300\n",
            "10/10 [==============================] - 0s 3ms/step - loss: 9.2619 - mae: 9.2619 - mse: 101.2600 - val_loss: 9.6770 - val_mae: 9.6770 - val_mse: 108.9798\n",
            "Epoch 33/300\n",
            "10/10 [==============================] - 0s 4ms/step - loss: 9.1705 - mae: 9.1705 - mse: 99.1078 - val_loss: 9.5762 - val_mae: 9.5762 - val_mse: 106.6003\n",
            "Epoch 34/300\n",
            "10/10 [==============================] - 0s 4ms/step - loss: 9.0779 - mae: 9.0779 - mse: 97.0049 - val_loss: 9.4760 - val_mae: 9.4760 - val_mse: 104.2610\n",
            "Epoch 35/300\n",
            "10/10 [==============================] - 0s 4ms/step - loss: 8.9861 - mae: 8.9861 - mse: 94.9204 - val_loss: 9.3753 - val_mae: 9.3753 - val_mse: 101.9389\n",
            "Epoch 36/300\n",
            "10/10 [==============================] - 0s 4ms/step - loss: 8.8943 - mae: 8.8943 - mse: 92.8575 - val_loss: 9.2737 - val_mae: 9.2737 - val_mse: 99.6246\n",
            "Epoch 37/300\n",
            "10/10 [==============================] - 0s 4ms/step - loss: 8.8004 - mae: 8.8004 - mse: 90.7976 - val_loss: 9.1730 - val_mae: 9.1730 - val_mse: 97.3583\n",
            "Epoch 38/300\n",
            "10/10 [==============================] - 0s 4ms/step - loss: 8.7082 - mae: 8.7082 - mse: 88.7620 - val_loss: 9.0710 - val_mae: 9.0710 - val_mse: 95.0938\n",
            "Epoch 39/300\n",
            "10/10 [==============================] - 0s 4ms/step - loss: 8.6146 - mae: 8.6146 - mse: 86.7633 - val_loss: 8.9693 - val_mae: 8.9693 - val_mse: 92.8613\n",
            "Epoch 40/300\n",
            "10/10 [==============================] - 0s 4ms/step - loss: 8.5225 - mae: 8.5225 - mse: 84.7968 - val_loss: 8.8660 - val_mae: 8.8660 - val_mse: 90.6227\n",
            "Epoch 41/300\n",
            "10/10 [==============================] - 0s 4ms/step - loss: 8.4286 - mae: 8.4286 - mse: 82.8232 - val_loss: 8.7630 - val_mae: 8.7630 - val_mse: 88.4222\n",
            "Epoch 42/300\n",
            "10/10 [==============================] - 0s 5ms/step - loss: 8.3343 - mae: 8.3343 - mse: 80.8717 - val_loss: 8.6607 - val_mae: 8.6607 - val_mse: 86.2640\n",
            "Epoch 43/300\n",
            "10/10 [==============================] - 0s 3ms/step - loss: 8.2411 - mae: 8.2411 - mse: 78.9532 - val_loss: 8.5576 - val_mae: 8.5576 - val_mse: 84.1178\n",
            "Epoch 44/300\n",
            "10/10 [==============================] - 0s 4ms/step - loss: 8.1453 - mae: 8.1453 - mse: 77.0329 - val_loss: 8.4561 - val_mae: 8.4561 - val_mse: 82.0337\n",
            "Epoch 45/300\n",
            "10/10 [==============================] - 0s 3ms/step - loss: 8.0529 - mae: 8.0529 - mse: 75.1842 - val_loss: 8.3525 - val_mae: 8.3525 - val_mse: 79.9359\n",
            "Epoch 46/300\n",
            "10/10 [==============================] - 0s 4ms/step - loss: 7.9580 - mae: 7.9580 - mse: 73.3284 - val_loss: 8.2492 - val_mae: 8.2492 - val_mse: 77.8748\n",
            "Epoch 47/300\n",
            "10/10 [==============================] - 0s 4ms/step - loss: 7.8630 - mae: 7.8630 - mse: 71.4657 - val_loss: 8.1465 - val_mae: 8.1465 - val_mse: 75.8529\n",
            "Epoch 48/300\n",
            "10/10 [==============================] - 0s 3ms/step - loss: 7.7696 - mae: 7.7696 - mse: 69.6715 - val_loss: 8.0425 - val_mae: 8.0425 - val_mse: 73.8356\n",
            "Epoch 49/300\n",
            "10/10 [==============================] - 0s 6ms/step - loss: 7.6737 - mae: 7.6737 - mse: 67.9002 - val_loss: 7.9398 - val_mae: 7.9398 - val_mse: 71.8735\n",
            "Epoch 50/300\n",
            "10/10 [==============================] - 0s 4ms/step - loss: 7.5795 - mae: 7.5795 - mse: 66.1295 - val_loss: 7.8362 - val_mae: 7.8362 - val_mse: 69.9225\n",
            "Epoch 51/300\n",
            "10/10 [==============================] - 0s 3ms/step - loss: 7.4872 - mae: 7.4872 - mse: 64.4489 - val_loss: 7.7297 - val_mae: 7.7297 - val_mse: 67.9472\n",
            "Epoch 52/300\n",
            "10/10 [==============================] - 0s 4ms/step - loss: 7.3887 - mae: 7.3887 - mse: 62.6903 - val_loss: 7.6267 - val_mae: 7.6267 - val_mse: 66.0686\n",
            "Epoch 53/300\n",
            "10/10 [==============================] - 0s 5ms/step - loss: 7.2938 - mae: 7.2938 - mse: 61.0194 - val_loss: 7.5232 - val_mae: 7.5232 - val_mse: 64.2085\n",
            "Epoch 54/300\n",
            "10/10 [==============================] - 0s 5ms/step - loss: 7.1991 - mae: 7.1991 - mse: 59.3683 - val_loss: 7.4188 - val_mae: 7.4188 - val_mse: 62.3635\n",
            "Epoch 55/300\n",
            "10/10 [==============================] - 0s 4ms/step - loss: 7.1043 - mae: 7.1043 - mse: 57.7357 - val_loss: 7.3138 - val_mae: 7.3138 - val_mse: 60.5369\n",
            "Epoch 56/300\n",
            "10/10 [==============================] - 0s 4ms/step - loss: 7.0082 - mae: 7.0082 - mse: 56.1132 - val_loss: 7.2094 - val_mae: 7.2094 - val_mse: 58.7502\n",
            "Epoch 57/300\n",
            "10/10 [==============================] - 0s 5ms/step - loss: 6.9127 - mae: 6.9127 - mse: 54.5378 - val_loss: 7.1047 - val_mae: 7.1047 - val_mse: 56.9897\n",
            "Epoch 58/300\n",
            "10/10 [==============================] - 0s 4ms/step - loss: 6.8163 - mae: 6.8163 - mse: 52.9594 - val_loss: 7.0007 - val_mae: 7.0007 - val_mse: 55.2703\n",
            "Epoch 59/300\n",
            "10/10 [==============================] - 0s 4ms/step - loss: 6.7221 - mae: 6.7221 - mse: 51.4477 - val_loss: 6.8950 - val_mae: 6.8950 - val_mse: 53.5532\n",
            "Epoch 60/300\n",
            "10/10 [==============================] - 0s 4ms/step - loss: 6.6253 - mae: 6.6253 - mse: 49.9221 - val_loss: 6.7905 - val_mae: 6.7905 - val_mse: 51.8860\n",
            "Epoch 61/300\n",
            "10/10 [==============================] - 0s 3ms/step - loss: 6.5298 - mae: 6.5298 - mse: 48.4398 - val_loss: 6.6853 - val_mae: 6.6853 - val_mse: 50.2395\n",
            "Epoch 62/300\n",
            "10/10 [==============================] - 0s 3ms/step - loss: 6.4328 - mae: 6.4328 - mse: 46.9740 - val_loss: 6.5810 - val_mae: 6.5810 - val_mse: 48.6359\n",
            "Epoch 63/300\n",
            "10/10 [==============================] - 0s 4ms/step - loss: 6.3392 - mae: 6.3392 - mse: 45.5831 - val_loss: 6.4739 - val_mae: 6.4739 - val_mse: 47.0195\n",
            "Epoch 64/300\n",
            "10/10 [==============================] - 0s 4ms/step - loss: 6.2409 - mae: 6.2409 - mse: 44.1477 - val_loss: 6.3690 - val_mae: 6.3690 - val_mse: 45.4673\n",
            "Epoch 65/300\n",
            "10/10 [==============================] - 0s 4ms/step - loss: 6.1444 - mae: 6.1444 - mse: 42.7740 - val_loss: 6.2643 - val_mae: 6.2643 - val_mse: 43.9492\n",
            "Epoch 66/300\n",
            "10/10 [==============================] - 0s 3ms/step - loss: 6.0484 - mae: 6.0484 - mse: 41.4062 - val_loss: 6.1591 - val_mae: 6.1591 - val_mse: 42.4532\n",
            "Epoch 67/300\n",
            "10/10 [==============================] - 0s 5ms/step - loss: 5.9519 - mae: 5.9519 - mse: 40.0922 - val_loss: 6.0539 - val_mae: 6.0539 - val_mse: 40.9875\n",
            "Epoch 68/300\n",
            "10/10 [==============================] - 0s 4ms/step - loss: 5.8558 - mae: 5.8558 - mse: 38.7989 - val_loss: 5.9479 - val_mae: 5.9479 - val_mse: 39.5429\n",
            "Epoch 69/300\n",
            "10/10 [==============================] - 0s 3ms/step - loss: 5.7594 - mae: 5.7594 - mse: 37.5166 - val_loss: 5.8417 - val_mae: 5.8417 - val_mse: 38.1256\n",
            "Epoch 70/300\n",
            "10/10 [==============================] - 0s 4ms/step - loss: 5.6624 - mae: 5.6624 - mse: 36.2542 - val_loss: 5.7359 - val_mae: 5.7359 - val_mse: 36.7436\n",
            "Epoch 71/300\n",
            "10/10 [==============================] - 0s 4ms/step - loss: 5.5662 - mae: 5.5662 - mse: 35.0671 - val_loss: 5.6294 - val_mae: 5.6294 - val_mse: 35.3851\n",
            "Epoch 72/300\n",
            "10/10 [==============================] - 0s 7ms/step - loss: 5.4688 - mae: 5.4688 - mse: 33.8437 - val_loss: 5.5237 - val_mae: 5.5237 - val_mse: 34.0674\n",
            "Epoch 73/300\n",
            "10/10 [==============================] - 0s 4ms/step - loss: 5.3714 - mae: 5.3714 - mse: 32.6786 - val_loss: 5.4186 - val_mae: 5.4186 - val_mse: 32.7872\n",
            "Epoch 74/300\n",
            "10/10 [==============================] - 0s 4ms/step - loss: 5.2753 - mae: 5.2753 - mse: 31.5535 - val_loss: 5.3126 - val_mae: 5.3126 - val_mse: 31.5268\n",
            "Epoch 75/300\n",
            "10/10 [==============================] - 0s 3ms/step - loss: 5.1784 - mae: 5.1784 - mse: 30.4338 - val_loss: 5.2065 - val_mae: 5.2065 - val_mse: 30.2957\n",
            "Epoch 76/300\n",
            "10/10 [==============================] - 0s 4ms/step - loss: 5.0818 - mae: 5.0818 - mse: 29.3418 - val_loss: 5.1000 - val_mae: 5.1000 - val_mse: 29.0921\n",
            "Epoch 77/300\n",
            "10/10 [==============================] - 0s 4ms/step - loss: 4.9849 - mae: 4.9849 - mse: 28.2945 - val_loss: 4.9934 - val_mae: 4.9934 - val_mse: 27.9182\n",
            "Epoch 78/300\n",
            "10/10 [==============================] - 0s 4ms/step - loss: 4.8877 - mae: 4.8877 - mse: 27.2586 - val_loss: 4.8870 - val_mae: 4.8870 - val_mse: 26.7773\n",
            "Epoch 79/300\n",
            "10/10 [==============================] - 0s 4ms/step - loss: 4.7898 - mae: 4.7898 - mse: 26.2629 - val_loss: 4.7820 - val_mae: 4.7820 - val_mse: 25.6752\n",
            "Epoch 80/300\n",
            "10/10 [==============================] - 0s 4ms/step - loss: 4.6919 - mae: 4.6919 - mse: 25.2653 - val_loss: 4.6791 - val_mae: 4.6791 - val_mse: 24.6095\n",
            "Epoch 81/300\n",
            "10/10 [==============================] - 0s 3ms/step - loss: 4.5973 - mae: 4.5973 - mse: 24.3330 - val_loss: 4.5737 - val_mae: 4.5737 - val_mse: 23.5508\n",
            "Epoch 82/300\n",
            "10/10 [==============================] - 0s 4ms/step - loss: 4.4990 - mae: 4.4990 - mse: 23.3963 - val_loss: 4.4703 - val_mae: 4.4703 - val_mse: 22.5419\n",
            "Epoch 83/300\n",
            "10/10 [==============================] - 0s 4ms/step - loss: 4.4028 - mae: 4.4028 - mse: 22.5060 - val_loss: 4.3664 - val_mae: 4.3664 - val_mse: 21.5592\n",
            "Epoch 84/300\n",
            "10/10 [==============================] - 0s 4ms/step - loss: 4.3059 - mae: 4.3059 - mse: 21.6352 - val_loss: 4.2628 - val_mae: 4.2628 - val_mse: 20.6106\n",
            "Epoch 85/300\n",
            "10/10 [==============================] - 0s 4ms/step - loss: 4.2102 - mae: 4.2102 - mse: 20.7989 - val_loss: 4.1590 - val_mae: 4.1590 - val_mse: 19.6905\n",
            "Epoch 86/300\n",
            "10/10 [==============================] - 0s 3ms/step - loss: 4.1150 - mae: 4.1150 - mse: 20.0017 - val_loss: 4.0551 - val_mae: 4.0551 - val_mse: 18.8008\n",
            "Epoch 87/300\n",
            "10/10 [==============================] - 0s 4ms/step - loss: 4.0206 - mae: 4.0206 - mse: 19.2420 - val_loss: 3.9510 - val_mae: 3.9510 - val_mse: 17.9407\n",
            "Epoch 88/300\n",
            "10/10 [==============================] - 0s 4ms/step - loss: 3.9238 - mae: 3.9238 - mse: 18.4588 - val_loss: 3.8496 - val_mae: 3.8496 - val_mse: 17.1321\n",
            "Epoch 89/300\n",
            "10/10 [==============================] - 0s 4ms/step - loss: 3.8316 - mae: 3.8316 - mse: 17.7518 - val_loss: 3.7465 - val_mae: 3.7465 - val_mse: 16.3404\n",
            "Epoch 90/300\n",
            "10/10 [==============================] - 0s 4ms/step - loss: 3.7386 - mae: 3.7386 - mse: 17.0870 - val_loss: 3.6428 - val_mae: 3.6428 - val_mse: 15.5750\n",
            "Epoch 91/300\n",
            "10/10 [==============================] - 0s 4ms/step - loss: 3.6438 - mae: 3.6438 - mse: 16.3938 - val_loss: 3.5415 - val_mae: 3.5415 - val_mse: 14.8571\n",
            "Epoch 92/300\n",
            "10/10 [==============================] - 0s 4ms/step - loss: 3.5539 - mae: 3.5539 - mse: 15.7582 - val_loss: 3.4407 - val_mae: 3.4407 - val_mse: 14.1717\n",
            "Epoch 93/300\n",
            "10/10 [==============================] - 0s 3ms/step - loss: 3.4644 - mae: 3.4644 - mse: 15.1797 - val_loss: 3.3402 - val_mae: 3.3402 - val_mse: 13.5180\n",
            "Epoch 94/300\n",
            "10/10 [==============================] - 0s 4ms/step - loss: 3.3760 - mae: 3.3760 - mse: 14.6067 - val_loss: 3.2390 - val_mae: 3.2390 - val_mse: 12.8881\n",
            "Epoch 95/300\n",
            "10/10 [==============================] - 0s 3ms/step - loss: 3.2849 - mae: 3.2849 - mse: 14.0501 - val_loss: 3.1404 - val_mae: 3.1404 - val_mse: 12.3031\n",
            "Epoch 96/300\n",
            "10/10 [==============================] - 0s 4ms/step - loss: 3.1989 - mae: 3.1989 - mse: 13.5328 - val_loss: 3.0412 - val_mae: 3.0412 - val_mse: 11.7430\n",
            "Epoch 97/300\n",
            "10/10 [==============================] - 0s 4ms/step - loss: 3.1137 - mae: 3.1137 - mse: 13.0495 - val_loss: 2.9439 - val_mae: 2.9439 - val_mse: 11.2074\n",
            "Epoch 98/300\n",
            "10/10 [==============================] - 0s 4ms/step - loss: 3.0266 - mae: 3.0266 - mse: 12.5777 - val_loss: 2.8486 - val_mae: 2.8486 - val_mse: 10.7072\n",
            "Epoch 99/300\n",
            "10/10 [==============================] - 0s 3ms/step - loss: 2.9426 - mae: 2.9426 - mse: 12.1361 - val_loss: 2.7539 - val_mae: 2.7539 - val_mse: 10.2368\n",
            "Epoch 100/300\n",
            "10/10 [==============================] - 0s 3ms/step - loss: 2.8601 - mae: 2.8601 - mse: 11.7316 - val_loss: 2.6660 - val_mae: 2.6660 - val_mse: 9.8091\n",
            "Epoch 101/300\n",
            "10/10 [==============================] - 0s 3ms/step - loss: 2.7838 - mae: 2.7838 - mse: 11.3721 - val_loss: 2.5796 - val_mae: 2.5796 - val_mse: 9.4018\n",
            "Epoch 102/300\n",
            "10/10 [==============================] - 0s 4ms/step - loss: 2.7078 - mae: 2.7078 - mse: 11.0346 - val_loss: 2.4940 - val_mae: 2.4940 - val_mse: 9.0242\n",
            "Epoch 103/300\n",
            "10/10 [==============================] - 0s 5ms/step - loss: 2.6305 - mae: 2.6305 - mse: 10.6838 - val_loss: 2.4118 - val_mae: 2.4118 - val_mse: 8.6860\n",
            "Epoch 104/300\n",
            "10/10 [==============================] - 0s 4ms/step - loss: 2.5584 - mae: 2.5584 - mse: 10.4022 - val_loss: 2.3303 - val_mae: 2.3303 - val_mse: 8.3744\n",
            "Epoch 105/300\n",
            "10/10 [==============================] - 0s 4ms/step - loss: 2.4887 - mae: 2.4887 - mse: 10.1285 - val_loss: 2.2496 - val_mae: 2.2496 - val_mse: 8.0886\n",
            "Epoch 106/300\n",
            "10/10 [==============================] - 0s 4ms/step - loss: 2.4256 - mae: 2.4256 - mse: 9.8940 - val_loss: 2.1723 - val_mae: 2.1723 - val_mse: 7.8330\n",
            "Epoch 107/300\n",
            "10/10 [==============================] - 0s 4ms/step - loss: 2.3667 - mae: 2.3667 - mse: 9.6939 - val_loss: 2.0981 - val_mae: 2.0981 - val_mse: 7.6054\n",
            "Epoch 108/300\n",
            "10/10 [==============================] - 0s 4ms/step - loss: 2.3102 - mae: 2.3102 - mse: 9.4928 - val_loss: 2.0275 - val_mae: 2.0275 - val_mse: 7.4078\n",
            "Epoch 109/300\n",
            "10/10 [==============================] - 0s 4ms/step - loss: 2.2569 - mae: 2.2569 - mse: 9.3177 - val_loss: 1.9673 - val_mae: 1.9673 - val_mse: 7.2429\n",
            "Epoch 110/300\n",
            "10/10 [==============================] - 0s 4ms/step - loss: 2.2149 - mae: 2.2149 - mse: 9.1737 - val_loss: 1.9087 - val_mae: 1.9087 - val_mse: 7.0972\n",
            "Epoch 111/300\n",
            "10/10 [==============================] - 0s 3ms/step - loss: 2.1731 - mae: 2.1731 - mse: 9.0472 - val_loss: 1.8548 - val_mae: 1.8548 - val_mse: 6.9723\n",
            "Epoch 112/300\n",
            "10/10 [==============================] - 0s 4ms/step - loss: 2.1391 - mae: 2.1391 - mse: 8.9527 - val_loss: 1.8071 - val_mae: 1.8071 - val_mse: 6.8692\n",
            "Epoch 113/300\n",
            "10/10 [==============================] - 0s 4ms/step - loss: 2.1081 - mae: 2.1081 - mse: 8.8678 - val_loss: 1.7630 - val_mae: 1.7630 - val_mse: 6.7822\n",
            "Epoch 114/300\n",
            "10/10 [==============================] - 0s 4ms/step - loss: 2.0811 - mae: 2.0811 - mse: 8.7954 - val_loss: 1.7330 - val_mae: 1.7330 - val_mse: 6.7070\n",
            "Epoch 115/300\n",
            "10/10 [==============================] - 0s 4ms/step - loss: 2.0557 - mae: 2.0557 - mse: 8.7302 - val_loss: 1.7040 - val_mae: 1.7040 - val_mse: 6.6435\n",
            "Epoch 116/300\n",
            "10/10 [==============================] - 0s 3ms/step - loss: 2.0318 - mae: 2.0318 - mse: 8.6732 - val_loss: 1.6806 - val_mae: 1.6806 - val_mse: 6.5912\n",
            "Epoch 117/300\n",
            "10/10 [==============================] - 0s 4ms/step - loss: 2.0106 - mae: 2.0106 - mse: 8.6461 - val_loss: 1.6591 - val_mae: 1.6591 - val_mse: 6.5485\n",
            "Epoch 118/300\n",
            "10/10 [==============================] - 0s 3ms/step - loss: 1.9888 - mae: 1.9888 - mse: 8.5907 - val_loss: 1.6427 - val_mae: 1.6427 - val_mse: 6.5169\n",
            "Epoch 119/300\n",
            "10/10 [==============================] - 0s 4ms/step - loss: 1.9757 - mae: 1.9757 - mse: 8.5818 - val_loss: 1.6265 - val_mae: 1.6265 - val_mse: 6.4900\n",
            "Epoch 120/300\n",
            "10/10 [==============================] - 0s 5ms/step - loss: 1.9588 - mae: 1.9588 - mse: 8.5515 - val_loss: 1.6149 - val_mae: 1.6149 - val_mse: 6.4734\n",
            "Epoch 121/300\n",
            "10/10 [==============================] - 0s 4ms/step - loss: 1.9474 - mae: 1.9474 - mse: 8.5460 - val_loss: 1.6055 - val_mae: 1.6055 - val_mse: 6.4619\n",
            "Epoch 122/300\n",
            "10/10 [==============================] - 0s 4ms/step - loss: 1.9385 - mae: 1.9385 - mse: 8.5378 - val_loss: 1.5989 - val_mae: 1.5989 - val_mse: 6.4545\n",
            "Epoch 123/300\n",
            "10/10 [==============================] - 0s 4ms/step - loss: 1.9301 - mae: 1.9301 - mse: 8.5263 - val_loss: 1.5975 - val_mae: 1.5975 - val_mse: 6.4514\n",
            "Epoch 124/300\n",
            "10/10 [==============================] - 0s 4ms/step - loss: 1.9249 - mae: 1.9249 - mse: 8.5246 - val_loss: 1.5962 - val_mae: 1.5962 - val_mse: 6.4505\n",
            "Epoch 125/300\n",
            "10/10 [==============================] - 0s 4ms/step - loss: 1.9203 - mae: 1.9203 - mse: 8.5249 - val_loss: 1.5952 - val_mae: 1.5952 - val_mse: 6.4515\n",
            "Epoch 126/300\n",
            "10/10 [==============================] - 0s 4ms/step - loss: 1.9148 - mae: 1.9148 - mse: 8.5265 - val_loss: 1.5951 - val_mae: 1.5951 - val_mse: 6.4537\n",
            "Epoch 127/300\n",
            "10/10 [==============================] - 0s 4ms/step - loss: 1.9118 - mae: 1.9118 - mse: 8.5306 - val_loss: 1.5954 - val_mae: 1.5954 - val_mse: 6.4580\n",
            "Epoch 128/300\n",
            "10/10 [==============================] - 0s 6ms/step - loss: 1.9080 - mae: 1.9080 - mse: 8.5319 - val_loss: 1.5957 - val_mae: 1.5957 - val_mse: 6.4626\n",
            "Epoch 129/300\n",
            "10/10 [==============================] - 0s 8ms/step - loss: 1.9050 - mae: 1.9050 - mse: 8.5379 - val_loss: 1.5959 - val_mae: 1.5959 - val_mse: 6.4684\n",
            "Epoch 130/300\n",
            "10/10 [==============================] - 0s 4ms/step - loss: 1.9017 - mae: 1.9017 - mse: 8.5416 - val_loss: 1.5962 - val_mae: 1.5962 - val_mse: 6.4745\n",
            "Epoch 131/300\n",
            "10/10 [==============================] - 0s 5ms/step - loss: 1.8991 - mae: 1.8991 - mse: 8.5477 - val_loss: 1.5966 - val_mae: 1.5966 - val_mse: 6.4827\n",
            "Epoch 132/300\n",
            "10/10 [==============================] - 0s 4ms/step - loss: 1.8964 - mae: 1.8964 - mse: 8.5595 - val_loss: 1.5986 - val_mae: 1.5986 - val_mse: 6.4933\n",
            "Epoch 133/300\n",
            "10/10 [==============================] - 0s 4ms/step - loss: 1.8938 - mae: 1.8938 - mse: 8.5666 - val_loss: 1.6009 - val_mae: 1.6009 - val_mse: 6.5020\n",
            "Epoch 134/300\n",
            "10/10 [==============================] - 0s 4ms/step - loss: 1.8923 - mae: 1.8923 - mse: 8.5713 - val_loss: 1.6027 - val_mae: 1.6027 - val_mse: 6.5088\n",
            "Epoch 135/300\n",
            "10/10 [==============================] - 0s 4ms/step - loss: 1.8913 - mae: 1.8913 - mse: 8.5786 - val_loss: 1.6046 - val_mae: 1.6046 - val_mse: 6.5170\n",
            "Epoch 136/300\n",
            "10/10 [==============================] - 0s 3ms/step - loss: 1.8900 - mae: 1.8900 - mse: 8.5863 - val_loss: 1.6064 - val_mae: 1.6064 - val_mse: 6.5254\n",
            "Epoch 137/300\n",
            "10/10 [==============================] - 0s 6ms/step - loss: 1.8886 - mae: 1.8886 - mse: 8.5934 - val_loss: 1.6080 - val_mae: 1.6080 - val_mse: 6.5330\n",
            "Epoch 138/300\n",
            "10/10 [==============================] - 0s 4ms/step - loss: 1.8874 - mae: 1.8874 - mse: 8.5992 - val_loss: 1.6096 - val_mae: 1.6096 - val_mse: 6.5406\n",
            "Epoch 139/300\n",
            "10/10 [==============================] - 0s 4ms/step - loss: 1.8865 - mae: 1.8865 - mse: 8.6073 - val_loss: 1.6116 - val_mae: 1.6116 - val_mse: 6.5503\n",
            "Epoch 140/300\n",
            "10/10 [==============================] - 0s 5ms/step - loss: 1.8857 - mae: 1.8857 - mse: 8.6151 - val_loss: 1.6134 - val_mae: 1.6134 - val_mse: 6.5564\n",
            "Epoch 141/300\n",
            "10/10 [==============================] - 0s 4ms/step - loss: 1.8854 - mae: 1.8854 - mse: 8.6191 - val_loss: 1.6144 - val_mae: 1.6144 - val_mse: 6.5595\n",
            "Epoch 142/300\n",
            "10/10 [==============================] - 0s 4ms/step - loss: 1.8852 - mae: 1.8852 - mse: 8.6216 - val_loss: 1.6151 - val_mae: 1.6151 - val_mse: 6.5620\n",
            "Epoch 143/300\n",
            "10/10 [==============================] - 0s 3ms/step - loss: 1.8851 - mae: 1.8851 - mse: 8.6241 - val_loss: 1.6162 - val_mae: 1.6162 - val_mse: 6.5657\n",
            "Epoch 144/300\n",
            "10/10 [==============================] - 0s 4ms/step - loss: 1.8849 - mae: 1.8849 - mse: 8.6265 - val_loss: 1.6170 - val_mae: 1.6170 - val_mse: 6.5684\n",
            "Epoch 145/300\n",
            "10/10 [==============================] - 0s 4ms/step - loss: 1.8849 - mae: 1.8849 - mse: 8.6317 - val_loss: 1.6186 - val_mae: 1.6186 - val_mse: 6.5741\n",
            "Epoch 146/300\n",
            "10/10 [==============================] - 0s 4ms/step - loss: 1.8846 - mae: 1.8846 - mse: 8.6338 - val_loss: 1.6190 - val_mae: 1.6190 - val_mse: 6.5753\n",
            "Epoch 147/300\n",
            "10/10 [==============================] - 0s 6ms/step - loss: 1.8845 - mae: 1.8845 - mse: 8.6362 - val_loss: 1.6198 - val_mae: 1.6198 - val_mse: 6.5781\n",
            "Epoch 148/300\n",
            "10/10 [==============================] - 0s 4ms/step - loss: 1.8843 - mae: 1.8843 - mse: 8.6384 - val_loss: 1.6209 - val_mae: 1.6209 - val_mse: 6.5824\n",
            "Epoch 149/300\n",
            "10/10 [==============================] - 0s 4ms/step - loss: 1.8842 - mae: 1.8842 - mse: 8.6430 - val_loss: 1.6223 - val_mae: 1.6223 - val_mse: 6.5877\n",
            "Epoch 150/300\n",
            "10/10 [==============================] - 0s 4ms/step - loss: 1.8840 - mae: 1.8840 - mse: 8.6455 - val_loss: 1.6226 - val_mae: 1.6226 - val_mse: 6.5887\n",
            "Epoch 151/300\n",
            "10/10 [==============================] - 0s 4ms/step - loss: 1.8838 - mae: 1.8838 - mse: 8.6473 - val_loss: 1.6236 - val_mae: 1.6236 - val_mse: 6.5926\n",
            "Epoch 152/300\n",
            "10/10 [==============================] - 0s 4ms/step - loss: 1.8836 - mae: 1.8836 - mse: 8.6510 - val_loss: 1.6245 - val_mae: 1.6245 - val_mse: 6.5962\n",
            "Epoch 153/300\n",
            "10/10 [==============================] - 0s 4ms/step - loss: 1.8835 - mae: 1.8835 - mse: 8.6564 - val_loss: 1.6260 - val_mae: 1.6260 - val_mse: 6.6019\n",
            "Epoch 154/300\n",
            "10/10 [==============================] - 0s 4ms/step - loss: 1.8833 - mae: 1.8833 - mse: 8.6592 - val_loss: 1.6269 - val_mae: 1.6269 - val_mse: 6.6056\n",
            "Epoch 155/300\n",
            "10/10 [==============================] - 0s 4ms/step - loss: 1.8832 - mae: 1.8832 - mse: 8.6632 - val_loss: 1.6280 - val_mae: 1.6280 - val_mse: 6.6103\n",
            "Epoch 156/300\n",
            "10/10 [==============================] - 0s 4ms/step - loss: 1.8831 - mae: 1.8831 - mse: 8.6654 - val_loss: 1.6282 - val_mae: 1.6282 - val_mse: 6.6107\n",
            "Epoch 157/300\n",
            "10/10 [==============================] - 0s 5ms/step - loss: 1.8828 - mae: 1.8828 - mse: 8.6673 - val_loss: 1.6292 - val_mae: 1.6292 - val_mse: 6.6147\n",
            "Epoch 158/300\n",
            "10/10 [==============================] - 0s 4ms/step - loss: 1.8829 - mae: 1.8829 - mse: 8.6694 - val_loss: 1.6287 - val_mae: 1.6287 - val_mse: 6.6126\n",
            "Epoch 159/300\n",
            "10/10 [==============================] - 0s 4ms/step - loss: 1.8828 - mae: 1.8828 - mse: 8.6675 - val_loss: 1.6287 - val_mae: 1.6287 - val_mse: 6.6121\n",
            "Epoch 160/300\n",
            "10/10 [==============================] - 0s 3ms/step - loss: 1.8830 - mae: 1.8830 - mse: 8.6657 - val_loss: 1.6279 - val_mae: 1.6279 - val_mse: 6.6083\n",
            "Epoch 161/300\n",
            "10/10 [==============================] - 0s 4ms/step - loss: 1.8830 - mae: 1.8830 - mse: 8.6668 - val_loss: 1.6293 - val_mae: 1.6293 - val_mse: 6.6142\n",
            "Epoch 162/300\n",
            "10/10 [==============================] - 0s 4ms/step - loss: 1.8827 - mae: 1.8827 - mse: 8.6674 - val_loss: 1.6285 - val_mae: 1.6285 - val_mse: 6.6106\n",
            "Epoch 163/300\n",
            "10/10 [==============================] - 0s 4ms/step - loss: 1.8828 - mae: 1.8828 - mse: 8.6668 - val_loss: 1.6290 - val_mae: 1.6290 - val_mse: 6.6124\n",
            "Epoch 164/300\n",
            "10/10 [==============================] - 0s 4ms/step - loss: 1.8827 - mae: 1.8827 - mse: 8.6654 - val_loss: 1.6281 - val_mae: 1.6281 - val_mse: 6.6080\n",
            "Epoch 165/300\n",
            "10/10 [==============================] - 0s 4ms/step - loss: 1.8826 - mae: 1.8826 - mse: 8.6643 - val_loss: 1.6287 - val_mae: 1.6287 - val_mse: 6.6106\n",
            "Epoch 166/300\n",
            "10/10 [==============================] - 0s 4ms/step - loss: 1.8826 - mae: 1.8826 - mse: 8.6664 - val_loss: 1.6287 - val_mae: 1.6287 - val_mse: 6.6103\n",
            "Epoch 167/300\n",
            "10/10 [==============================] - 0s 4ms/step - loss: 1.8825 - mae: 1.8825 - mse: 8.6647 - val_loss: 1.6286 - val_mae: 1.6286 - val_mse: 6.6095\n",
            "Epoch 168/300\n",
            "10/10 [==============================] - 0s 4ms/step - loss: 1.8826 - mae: 1.8826 - mse: 8.6640 - val_loss: 1.6284 - val_mae: 1.6284 - val_mse: 6.6081\n",
            "Epoch 169/300\n",
            "10/10 [==============================] - 0s 4ms/step - loss: 1.8824 - mae: 1.8824 - mse: 8.6639 - val_loss: 1.6289 - val_mae: 1.6289 - val_mse: 6.6099\n",
            "Epoch 170/300\n",
            "10/10 [==============================] - 0s 4ms/step - loss: 1.8826 - mae: 1.8826 - mse: 8.6673 - val_loss: 1.6296 - val_mae: 1.6296 - val_mse: 6.6124\n",
            "Epoch 171/300\n",
            "10/10 [==============================] - 0s 5ms/step - loss: 1.8825 - mae: 1.8825 - mse: 8.6654 - val_loss: 1.6286 - val_mae: 1.6286 - val_mse: 6.6084\n",
            "Epoch 172/300\n",
            "10/10 [==============================] - 0s 6ms/step - loss: 1.8825 - mae: 1.8825 - mse: 8.6620 - val_loss: 1.6274 - val_mae: 1.6274 - val_mse: 6.6026\n",
            "Epoch 173/300\n",
            "10/10 [==============================] - 0s 4ms/step - loss: 1.8825 - mae: 1.8825 - mse: 8.6621 - val_loss: 1.6287 - val_mae: 1.6287 - val_mse: 6.6081\n",
            "Epoch 174/300\n",
            "10/10 [==============================] - 0s 4ms/step - loss: 1.8823 - mae: 1.8823 - mse: 8.6638 - val_loss: 1.6286 - val_mae: 1.6286 - val_mse: 6.6071\n",
            "Epoch 175/300\n",
            "10/10 [==============================] - 0s 5ms/step - loss: 1.8824 - mae: 1.8824 - mse: 8.6606 - val_loss: 1.6275 - val_mae: 1.6275 - val_mse: 6.6022\n",
            "Epoch 176/300\n",
            "10/10 [==============================] - 0s 4ms/step - loss: 1.8822 - mae: 1.8822 - mse: 8.6590 - val_loss: 1.6283 - val_mae: 1.6283 - val_mse: 6.6054\n",
            "Epoch 177/300\n",
            "10/10 [==============================] - 0s 4ms/step - loss: 1.8822 - mae: 1.8822 - mse: 8.6614 - val_loss: 1.6288 - val_mae: 1.6288 - val_mse: 6.6071\n",
            "Epoch 178/300\n",
            "10/10 [==============================] - 0s 5ms/step - loss: 1.8822 - mae: 1.8822 - mse: 8.6621 - val_loss: 1.6281 - val_mae: 1.6281 - val_mse: 6.6041\n",
            "Epoch 179/300\n",
            "10/10 [==============================] - 0s 4ms/step - loss: 1.8821 - mae: 1.8821 - mse: 8.6594 - val_loss: 1.6280 - val_mae: 1.6280 - val_mse: 6.6033\n",
            "Epoch 180/300\n",
            "10/10 [==============================] - 0s 4ms/step - loss: 1.8820 - mae: 1.8820 - mse: 8.6598 - val_loss: 1.6285 - val_mae: 1.6285 - val_mse: 6.6050\n",
            "Epoch 181/300\n",
            "10/10 [==============================] - 0s 3ms/step - loss: 1.8821 - mae: 1.8821 - mse: 8.6617 - val_loss: 1.6289 - val_mae: 1.6289 - val_mse: 6.6064\n",
            "Epoch 182/300\n",
            "10/10 [==============================] - 0s 6ms/step - loss: 1.8820 - mae: 1.8820 - mse: 8.6613 - val_loss: 1.6280 - val_mae: 1.6280 - val_mse: 6.6021\n",
            "Epoch 183/300\n",
            "10/10 [==============================] - 0s 4ms/step - loss: 1.8820 - mae: 1.8820 - mse: 8.6569 - val_loss: 1.6273 - val_mae: 1.6273 - val_mse: 6.5987\n",
            "Epoch 184/300\n",
            "10/10 [==============================] - 0s 5ms/step - loss: 1.8819 - mae: 1.8819 - mse: 8.6568 - val_loss: 1.6280 - val_mae: 1.6280 - val_mse: 6.6016\n",
            "Epoch 185/300\n",
            "10/10 [==============================] - 0s 4ms/step - loss: 1.8822 - mae: 1.8822 - mse: 8.6633 - val_loss: 1.6295 - val_mae: 1.6295 - val_mse: 6.6074\n",
            "Epoch 186/300\n",
            "10/10 [==============================] - 0s 5ms/step - loss: 1.8820 - mae: 1.8820 - mse: 8.6620 - val_loss: 1.6289 - val_mae: 1.6289 - val_mse: 6.6046\n",
            "Epoch 187/300\n",
            "10/10 [==============================] - 0s 4ms/step - loss: 1.8819 - mae: 1.8819 - mse: 8.6579 - val_loss: 1.6274 - val_mae: 1.6274 - val_mse: 6.5980\n",
            "Epoch 188/300\n",
            "10/10 [==============================] - 0s 4ms/step - loss: 1.8817 - mae: 1.8817 - mse: 8.6553 - val_loss: 1.6281 - val_mae: 1.6281 - val_mse: 6.6008\n",
            "Epoch 189/300\n",
            "10/10 [==============================] - 0s 5ms/step - loss: 1.8817 - mae: 1.8817 - mse: 8.6577 - val_loss: 1.6283 - val_mae: 1.6283 - val_mse: 6.6012\n",
            "Epoch 190/300\n",
            "10/10 [==============================] - 0s 4ms/step - loss: 1.8817 - mae: 1.8817 - mse: 8.6557 - val_loss: 1.6274 - val_mae: 1.6274 - val_mse: 6.5972\n",
            "Epoch 191/300\n",
            "10/10 [==============================] - 0s 4ms/step - loss: 1.8816 - mae: 1.8816 - mse: 8.6548 - val_loss: 1.6281 - val_mae: 1.6281 - val_mse: 6.5995\n",
            "Epoch 192/300\n",
            "10/10 [==============================] - 0s 4ms/step - loss: 1.8818 - mae: 1.8818 - mse: 8.6585 - val_loss: 1.6287 - val_mae: 1.6287 - val_mse: 6.6016\n",
            "Epoch 193/300\n",
            "10/10 [==============================] - 0s 4ms/step - loss: 1.8817 - mae: 1.8817 - mse: 8.6547 - val_loss: 1.6269 - val_mae: 1.6269 - val_mse: 6.5938\n",
            "Epoch 194/300\n",
            "10/10 [==============================] - 0s 4ms/step - loss: 1.8817 - mae: 1.8817 - mse: 8.6523 - val_loss: 1.6277 - val_mae: 1.6277 - val_mse: 6.5972\n",
            "Epoch 195/300\n",
            "10/10 [==============================] - 0s 4ms/step - loss: 1.8818 - mae: 1.8818 - mse: 8.6565 - val_loss: 1.6288 - val_mae: 1.6288 - val_mse: 6.6010\n",
            "Epoch 196/300\n",
            "10/10 [==============================] - 0s 5ms/step - loss: 1.8813 - mae: 1.8813 - mse: 8.6561 - val_loss: 1.6277 - val_mae: 1.6277 - val_mse: 6.5961\n",
            "Epoch 197/300\n",
            "10/10 [==============================] - 0s 4ms/step - loss: 1.8815 - mae: 1.8815 - mse: 8.6508 - val_loss: 1.6263 - val_mae: 1.6263 - val_mse: 6.5900\n",
            "Epoch 198/300\n",
            "10/10 [==============================] - 0s 4ms/step - loss: 1.8815 - mae: 1.8815 - mse: 8.6473 - val_loss: 1.6264 - val_mae: 1.6264 - val_mse: 6.5898\n",
            "Epoch 199/300\n",
            "10/10 [==============================] - 0s 4ms/step - loss: 1.8816 - mae: 1.8816 - mse: 8.6509 - val_loss: 1.6282 - val_mae: 1.6282 - val_mse: 6.5974\n",
            "Epoch 200/300\n",
            "10/10 [==============================] - 0s 4ms/step - loss: 1.8812 - mae: 1.8812 - mse: 8.6541 - val_loss: 1.6277 - val_mae: 1.6277 - val_mse: 6.5951\n",
            "Epoch 201/300\n",
            "10/10 [==============================] - 0s 3ms/step - loss: 1.8812 - mae: 1.8812 - mse: 8.6519 - val_loss: 1.6273 - val_mae: 1.6273 - val_mse: 6.5931\n",
            "Epoch 202/300\n",
            "10/10 [==============================] - 0s 4ms/step - loss: 1.8812 - mae: 1.8812 - mse: 8.6509 - val_loss: 1.6274 - val_mae: 1.6274 - val_mse: 6.5932\n",
            "Epoch 203/300\n",
            "10/10 [==============================] - 0s 4ms/step - loss: 1.8811 - mae: 1.8811 - mse: 8.6510 - val_loss: 1.6275 - val_mae: 1.6275 - val_mse: 6.5931\n",
            "Epoch 204/300\n",
            "10/10 [==============================] - 0s 3ms/step - loss: 1.8811 - mae: 1.8811 - mse: 8.6508 - val_loss: 1.6272 - val_mae: 1.6272 - val_mse: 6.5914\n",
            "Epoch 205/300\n",
            "10/10 [==============================] - 0s 3ms/step - loss: 1.8811 - mae: 1.8811 - mse: 8.6479 - val_loss: 1.6267 - val_mae: 1.6267 - val_mse: 6.5887\n",
            "Epoch 206/300\n",
            "10/10 [==============================] - 0s 5ms/step - loss: 1.8811 - mae: 1.8811 - mse: 8.6475 - val_loss: 1.6275 - val_mae: 1.6275 - val_mse: 6.5921\n",
            "Epoch 207/300\n",
            "10/10 [==============================] - 0s 4ms/step - loss: 1.8809 - mae: 1.8809 - mse: 8.6497 - val_loss: 1.6275 - val_mae: 1.6275 - val_mse: 6.5917\n",
            "Epoch 208/300\n",
            "10/10 [==============================] - 0s 4ms/step - loss: 1.8809 - mae: 1.8809 - mse: 8.6491 - val_loss: 1.6274 - val_mae: 1.6274 - val_mse: 6.5910\n",
            "Epoch 209/300\n",
            "10/10 [==============================] - 0s 4ms/step - loss: 1.8810 - mae: 1.8810 - mse: 8.6507 - val_loss: 1.6278 - val_mae: 1.6278 - val_mse: 6.5921\n",
            "Epoch 210/300\n",
            "10/10 [==============================] - 0s 4ms/step - loss: 1.8809 - mae: 1.8809 - mse: 8.6481 - val_loss: 1.6273 - val_mae: 1.6273 - val_mse: 6.5900\n",
            "Epoch 211/300\n",
            "10/10 [==============================] - 0s 4ms/step - loss: 1.8810 - mae: 1.8810 - mse: 8.6484 - val_loss: 1.6279 - val_mae: 1.6279 - val_mse: 6.5917\n",
            "Epoch 212/300\n",
            "10/10 [==============================] - 0s 4ms/step - loss: 1.8807 - mae: 1.8807 - mse: 8.6470 - val_loss: 1.6270 - val_mae: 1.6270 - val_mse: 6.5877\n",
            "Epoch 213/300\n",
            "10/10 [==============================] - 0s 5ms/step - loss: 1.8806 - mae: 1.8806 - mse: 8.6462 - val_loss: 1.6273 - val_mae: 1.6273 - val_mse: 6.5886\n",
            "Epoch 214/300\n",
            "10/10 [==============================] - 0s 4ms/step - loss: 1.8806 - mae: 1.8806 - mse: 8.6466 - val_loss: 1.6274 - val_mae: 1.6274 - val_mse: 6.5886\n",
            "Epoch 215/300\n",
            "10/10 [==============================] - 0s 5ms/step - loss: 1.8806 - mae: 1.8806 - mse: 8.6472 - val_loss: 1.6276 - val_mae: 1.6276 - val_mse: 6.5890\n",
            "Epoch 216/300\n",
            "10/10 [==============================] - 0s 5ms/step - loss: 1.8806 - mae: 1.8806 - mse: 8.6461 - val_loss: 1.6275 - val_mae: 1.6275 - val_mse: 6.5883\n",
            "Epoch 217/300\n",
            "10/10 [==============================] - 0s 4ms/step - loss: 1.8805 - mae: 1.8805 - mse: 8.6445 - val_loss: 1.6270 - val_mae: 1.6270 - val_mse: 6.5859\n",
            "Epoch 218/300\n",
            "10/10 [==============================] - 0s 4ms/step - loss: 1.8805 - mae: 1.8805 - mse: 8.6461 - val_loss: 1.6280 - val_mae: 1.6280 - val_mse: 6.5896\n",
            "Epoch 219/300\n",
            "10/10 [==============================] - 0s 4ms/step - loss: 1.8804 - mae: 1.8804 - mse: 8.6468 - val_loss: 1.6271 - val_mae: 1.6271 - val_mse: 6.5856\n",
            "Epoch 220/300\n",
            "10/10 [==============================] - 0s 4ms/step - loss: 1.8803 - mae: 1.8803 - mse: 8.6437 - val_loss: 1.6270 - val_mae: 1.6270 - val_mse: 6.5846\n",
            "Epoch 221/300\n",
            "10/10 [==============================] - 0s 4ms/step - loss: 1.8803 - mae: 1.8803 - mse: 8.6425 - val_loss: 1.6268 - val_mae: 1.6268 - val_mse: 6.5834\n",
            "Epoch 222/300\n",
            "10/10 [==============================] - 0s 4ms/step - loss: 1.8803 - mae: 1.8803 - mse: 8.6442 - val_loss: 1.6274 - val_mae: 1.6274 - val_mse: 6.5856\n",
            "Epoch 223/300\n",
            "10/10 [==============================] - 0s 4ms/step - loss: 1.8803 - mae: 1.8803 - mse: 8.6426 - val_loss: 1.6263 - val_mae: 1.6263 - val_mse: 6.5804\n",
            "Epoch 224/300\n",
            "10/10 [==============================] - 0s 4ms/step - loss: 1.8802 - mae: 1.8802 - mse: 8.6419 - val_loss: 1.6273 - val_mae: 1.6273 - val_mse: 6.5844\n",
            "Epoch 225/300\n",
            "10/10 [==============================] - 0s 5ms/step - loss: 1.8801 - mae: 1.8801 - mse: 8.6421 - val_loss: 1.6263 - val_mae: 1.6263 - val_mse: 6.5798\n",
            "Epoch 226/300\n",
            "10/10 [==============================] - 0s 5ms/step - loss: 1.8802 - mae: 1.8802 - mse: 8.6389 - val_loss: 1.6268 - val_mae: 1.6268 - val_mse: 6.5814\n",
            "Epoch 227/300\n",
            "10/10 [==============================] - 0s 5ms/step - loss: 1.8801 - mae: 1.8801 - mse: 8.6428 - val_loss: 1.6276 - val_mae: 1.6276 - val_mse: 6.5844\n",
            "Epoch 228/300\n",
            "10/10 [==============================] - 0s 4ms/step - loss: 1.8800 - mae: 1.8800 - mse: 8.6433 - val_loss: 1.6273 - val_mae: 1.6273 - val_mse: 6.5828\n",
            "Epoch 229/300\n",
            "10/10 [==============================] - 0s 5ms/step - loss: 1.8800 - mae: 1.8800 - mse: 8.6380 - val_loss: 1.6253 - val_mae: 1.6253 - val_mse: 6.5739\n",
            "Epoch 230/300\n",
            "10/10 [==============================] - 0s 4ms/step - loss: 1.8800 - mae: 1.8800 - mse: 8.6345 - val_loss: 1.6259 - val_mae: 1.6259 - val_mse: 6.5761\n",
            "Epoch 231/300\n",
            "10/10 [==============================] - 0s 4ms/step - loss: 1.8798 - mae: 1.8798 - mse: 8.6374 - val_loss: 1.6272 - val_mae: 1.6272 - val_mse: 6.5810\n",
            "Epoch 232/300\n",
            "10/10 [==============================] - 0s 4ms/step - loss: 1.8800 - mae: 1.8800 - mse: 8.6410 - val_loss: 1.6275 - val_mae: 1.6275 - val_mse: 6.5818\n",
            "Epoch 233/300\n",
            "10/10 [==============================] - 0s 4ms/step - loss: 1.8799 - mae: 1.8799 - mse: 8.6389 - val_loss: 1.6265 - val_mae: 1.6265 - val_mse: 6.5773\n",
            "Epoch 234/300\n",
            "10/10 [==============================] - 0s 4ms/step - loss: 1.8796 - mae: 1.8796 - mse: 8.6365 - val_loss: 1.6265 - val_mae: 1.6265 - val_mse: 6.5770\n",
            "Epoch 235/300\n",
            "10/10 [==============================] - 0s 4ms/step - loss: 1.8796 - mae: 1.8796 - mse: 8.6354 - val_loss: 1.6270 - val_mae: 1.6270 - val_mse: 6.5787\n",
            "Epoch 236/300\n",
            "10/10 [==============================] - 0s 4ms/step - loss: 1.8796 - mae: 1.8796 - mse: 8.6388 - val_loss: 1.6271 - val_mae: 1.6271 - val_mse: 6.5787\n",
            "Epoch 237/300\n",
            "10/10 [==============================] - 0s 3ms/step - loss: 1.8796 - mae: 1.8796 - mse: 8.6371 - val_loss: 1.6262 - val_mae: 1.6262 - val_mse: 6.5746\n",
            "Epoch 238/300\n",
            "10/10 [==============================] - 0s 4ms/step - loss: 1.8795 - mae: 1.8795 - mse: 8.6355 - val_loss: 1.6265 - val_mae: 1.6265 - val_mse: 6.5756\n",
            "Epoch 239/300\n",
            "10/10 [==============================] - 0s 4ms/step - loss: 1.8794 - mae: 1.8794 - mse: 8.6347 - val_loss: 1.6263 - val_mae: 1.6263 - val_mse: 6.5743\n",
            "Epoch 240/300\n",
            "10/10 [==============================] - 0s 4ms/step - loss: 1.8795 - mae: 1.8795 - mse: 8.6321 - val_loss: 1.6256 - val_mae: 1.6256 - val_mse: 6.5707\n",
            "Epoch 241/300\n",
            "10/10 [==============================] - 0s 4ms/step - loss: 1.8792 - mae: 1.8792 - mse: 8.6319 - val_loss: 1.6267 - val_mae: 1.6267 - val_mse: 6.5750\n",
            "Epoch 242/300\n",
            "10/10 [==============================] - 0s 4ms/step - loss: 1.8792 - mae: 1.8792 - mse: 8.6352 - val_loss: 1.6267 - val_mae: 1.6267 - val_mse: 6.5747\n",
            "Epoch 243/300\n",
            "10/10 [==============================] - 0s 4ms/step - loss: 1.8794 - mae: 1.8794 - mse: 8.6331 - val_loss: 1.6251 - val_mae: 1.6251 - val_mse: 6.5670\n",
            "Epoch 244/300\n",
            "10/10 [==============================] - 0s 4ms/step - loss: 1.8794 - mae: 1.8794 - mse: 8.6312 - val_loss: 1.6265 - val_mae: 1.6265 - val_mse: 6.5730\n",
            "Epoch 245/300\n",
            "10/10 [==============================] - 0s 4ms/step - loss: 1.8791 - mae: 1.8791 - mse: 8.6324 - val_loss: 1.6260 - val_mae: 1.6260 - val_mse: 6.5703\n",
            "Epoch 246/300\n",
            "10/10 [==============================] - 0s 4ms/step - loss: 1.8790 - mae: 1.8790 - mse: 8.6314 - val_loss: 1.6262 - val_mae: 1.6262 - val_mse: 6.5709\n",
            "Epoch 247/300\n",
            "10/10 [==============================] - 0s 4ms/step - loss: 1.8793 - mae: 1.8793 - mse: 8.6299 - val_loss: 1.6254 - val_mae: 1.6254 - val_mse: 6.5668\n",
            "Epoch 248/300\n",
            "10/10 [==============================] - 0s 4ms/step - loss: 1.8791 - mae: 1.8791 - mse: 8.6326 - val_loss: 1.6280 - val_mae: 1.6280 - val_mse: 6.5771\n",
            "Epoch 249/300\n",
            "10/10 [==============================] - 0s 4ms/step - loss: 1.8791 - mae: 1.8791 - mse: 8.6357 - val_loss: 1.6271 - val_mae: 1.6271 - val_mse: 6.5730\n",
            "Epoch 250/300\n",
            "10/10 [==============================] - 0s 3ms/step - loss: 1.8788 - mae: 1.8788 - mse: 8.6312 - val_loss: 1.6257 - val_mae: 1.6257 - val_mse: 6.5670\n",
            "Epoch 251/300\n",
            "10/10 [==============================] - 0s 4ms/step - loss: 1.8788 - mae: 1.8788 - mse: 8.6274 - val_loss: 1.6254 - val_mae: 1.6254 - val_mse: 6.5650\n",
            "Epoch 252/300\n",
            "10/10 [==============================] - 0s 4ms/step - loss: 1.8788 - mae: 1.8788 - mse: 8.6275 - val_loss: 1.6260 - val_mae: 1.6260 - val_mse: 6.5672\n",
            "Epoch 253/300\n",
            "10/10 [==============================] - 0s 7ms/step - loss: 1.8788 - mae: 1.8788 - mse: 8.6301 - val_loss: 1.6263 - val_mae: 1.6263 - val_mse: 6.5684\n",
            "Epoch 254/300\n",
            "10/10 [==============================] - 0s 6ms/step - loss: 1.8785 - mae: 1.8785 - mse: 8.6273 - val_loss: 1.6257 - val_mae: 1.6257 - val_mse: 6.5653\n",
            "Epoch 255/300\n",
            "10/10 [==============================] - 0s 4ms/step - loss: 1.8785 - mae: 1.8785 - mse: 8.6267 - val_loss: 1.6260 - val_mae: 1.6260 - val_mse: 6.5662\n",
            "Epoch 256/300\n",
            "10/10 [==============================] - 0s 5ms/step - loss: 1.8785 - mae: 1.8785 - mse: 8.6273 - val_loss: 1.6260 - val_mae: 1.6260 - val_mse: 6.5656\n",
            "Epoch 257/300\n",
            "10/10 [==============================] - 0s 4ms/step - loss: 1.8785 - mae: 1.8785 - mse: 8.6244 - val_loss: 1.6252 - val_mae: 1.6252 - val_mse: 6.5618\n",
            "Epoch 258/300\n",
            "10/10 [==============================] - 0s 5ms/step - loss: 1.8784 - mae: 1.8784 - mse: 8.6257 - val_loss: 1.6256 - val_mae: 1.6256 - val_mse: 6.5633\n",
            "Epoch 259/300\n",
            "10/10 [==============================] - 0s 4ms/step - loss: 1.8783 - mae: 1.8783 - mse: 8.6249 - val_loss: 1.6256 - val_mae: 1.6256 - val_mse: 6.5626\n",
            "Epoch 260/300\n",
            "10/10 [==============================] - 0s 4ms/step - loss: 1.8782 - mae: 1.8782 - mse: 8.6246 - val_loss: 1.6252 - val_mae: 1.6252 - val_mse: 6.5604\n",
            "Epoch 261/300\n",
            "10/10 [==============================] - 0s 4ms/step - loss: 1.8783 - mae: 1.8783 - mse: 8.6212 - val_loss: 1.6254 - val_mae: 1.6254 - val_mse: 6.5608\n",
            "Epoch 262/300\n",
            "10/10 [==============================] - 0s 5ms/step - loss: 1.8784 - mae: 1.8784 - mse: 8.6262 - val_loss: 1.6261 - val_mae: 1.6261 - val_mse: 6.5635\n",
            "Epoch 263/300\n",
            "10/10 [==============================] - 0s 4ms/step - loss: 1.8780 - mae: 1.8780 - mse: 8.6208 - val_loss: 1.6244 - val_mae: 1.6244 - val_mse: 6.5554\n",
            "Epoch 264/300\n",
            "10/10 [==============================] - 0s 4ms/step - loss: 1.8783 - mae: 1.8783 - mse: 8.6164 - val_loss: 1.6241 - val_mae: 1.6241 - val_mse: 6.5540\n",
            "Epoch 265/300\n",
            "10/10 [==============================] - 0s 4ms/step - loss: 1.8782 - mae: 1.8782 - mse: 8.6209 - val_loss: 1.6255 - val_mae: 1.6255 - val_mse: 6.5597\n",
            "Epoch 266/300\n",
            "10/10 [==============================] - 0s 5ms/step - loss: 1.8780 - mae: 1.8780 - mse: 8.6213 - val_loss: 1.6247 - val_mae: 1.6247 - val_mse: 6.5554\n",
            "Epoch 267/300\n",
            "10/10 [==============================] - 0s 4ms/step - loss: 1.8779 - mae: 1.8779 - mse: 8.6190 - val_loss: 1.6255 - val_mae: 1.6255 - val_mse: 6.5588\n",
            "Epoch 268/300\n",
            "10/10 [==============================] - 0s 4ms/step - loss: 1.8780 - mae: 1.8780 - mse: 8.6207 - val_loss: 1.6254 - val_mae: 1.6254 - val_mse: 6.5576\n",
            "Epoch 269/300\n",
            "10/10 [==============================] - 0s 4ms/step - loss: 1.8788 - mae: 1.8788 - mse: 8.6303 - val_loss: 1.6281 - val_mae: 1.6281 - val_mse: 6.5683\n",
            "Epoch 270/300\n",
            "10/10 [==============================] - 0s 4ms/step - loss: 1.8781 - mae: 1.8781 - mse: 8.6245 - val_loss: 1.6250 - val_mae: 1.6250 - val_mse: 6.5552\n",
            "Epoch 271/300\n",
            "10/10 [==============================] - 0s 5ms/step - loss: 1.8779 - mae: 1.8779 - mse: 8.6218 - val_loss: 1.6262 - val_mae: 1.6262 - val_mse: 6.5594\n",
            "Epoch 272/300\n",
            "10/10 [==============================] - 0s 4ms/step - loss: 1.8775 - mae: 1.8775 - mse: 8.6191 - val_loss: 1.6241 - val_mae: 1.6241 - val_mse: 6.5500\n",
            "Epoch 273/300\n",
            "10/10 [==============================] - 0s 4ms/step - loss: 1.8777 - mae: 1.8777 - mse: 8.6136 - val_loss: 1.6241 - val_mae: 1.6241 - val_mse: 6.5499\n",
            "Epoch 274/300\n",
            "10/10 [==============================] - 0s 4ms/step - loss: 1.8776 - mae: 1.8776 - mse: 8.6128 - val_loss: 1.6241 - val_mae: 1.6241 - val_mse: 6.5493\n",
            "Epoch 275/300\n",
            "10/10 [==============================] - 0s 4ms/step - loss: 1.8775 - mae: 1.8775 - mse: 8.6153 - val_loss: 1.6260 - val_mae: 1.6260 - val_mse: 6.5569\n",
            "Epoch 276/300\n",
            "10/10 [==============================] - 0s 4ms/step - loss: 1.8775 - mae: 1.8775 - mse: 8.6202 - val_loss: 1.6252 - val_mae: 1.6252 - val_mse: 6.5532\n",
            "Epoch 277/300\n",
            "10/10 [==============================] - 0s 4ms/step - loss: 1.8773 - mae: 1.8773 - mse: 8.6151 - val_loss: 1.6250 - val_mae: 1.6250 - val_mse: 6.5519\n",
            "Epoch 278/300\n",
            "10/10 [==============================] - 0s 4ms/step - loss: 1.8772 - mae: 1.8772 - mse: 8.6146 - val_loss: 1.6250 - val_mae: 1.6250 - val_mse: 6.5515\n",
            "Epoch 279/300\n",
            "10/10 [==============================] - 0s 4ms/step - loss: 1.8771 - mae: 1.8771 - mse: 8.6140 - val_loss: 1.6253 - val_mae: 1.6253 - val_mse: 6.5523\n",
            "Epoch 280/300\n",
            "10/10 [==============================] - 0s 4ms/step - loss: 1.8772 - mae: 1.8772 - mse: 8.6157 - val_loss: 1.6250 - val_mae: 1.6250 - val_mse: 6.5503\n",
            "Epoch 281/300\n",
            "10/10 [==============================] - 0s 4ms/step - loss: 1.8770 - mae: 1.8770 - mse: 8.6124 - val_loss: 1.6248 - val_mae: 1.6248 - val_mse: 6.5489\n",
            "Epoch 282/300\n",
            "10/10 [==============================] - 0s 4ms/step - loss: 1.8769 - mae: 1.8769 - mse: 8.6133 - val_loss: 1.6248 - val_mae: 1.6248 - val_mse: 6.5485\n",
            "Epoch 283/300\n",
            "10/10 [==============================] - 0s 4ms/step - loss: 1.8769 - mae: 1.8769 - mse: 8.6106 - val_loss: 1.6243 - val_mae: 1.6243 - val_mse: 6.5461\n",
            "Epoch 284/300\n",
            "10/10 [==============================] - 0s 4ms/step - loss: 1.8769 - mae: 1.8769 - mse: 8.6127 - val_loss: 1.6254 - val_mae: 1.6254 - val_mse: 6.5500\n",
            "Epoch 285/300\n",
            "10/10 [==============================] - 0s 4ms/step - loss: 1.8770 - mae: 1.8770 - mse: 8.6096 - val_loss: 1.6240 - val_mae: 1.6240 - val_mse: 6.5438\n",
            "Epoch 286/300\n",
            "10/10 [==============================] - 0s 4ms/step - loss: 1.8772 - mae: 1.8772 - mse: 8.6133 - val_loss: 1.6258 - val_mae: 1.6258 - val_mse: 6.5505\n",
            "Epoch 287/300\n",
            "10/10 [==============================] - 0s 5ms/step - loss: 1.8768 - mae: 1.8768 - mse: 8.6135 - val_loss: 1.6249 - val_mae: 1.6249 - val_mse: 6.5468\n",
            "Epoch 288/300\n",
            "10/10 [==============================] - 0s 5ms/step - loss: 1.8767 - mae: 1.8767 - mse: 8.6080 - val_loss: 1.6243 - val_mae: 1.6243 - val_mse: 6.5438\n",
            "Epoch 289/300\n",
            "10/10 [==============================] - 0s 4ms/step - loss: 1.8765 - mae: 1.8765 - mse: 8.6084 - val_loss: 1.6245 - val_mae: 1.6245 - val_mse: 6.5440\n",
            "Epoch 290/300\n",
            "10/10 [==============================] - 0s 5ms/step - loss: 1.8764 - mae: 1.8764 - mse: 8.6082 - val_loss: 1.6245 - val_mae: 1.6245 - val_mse: 6.5437\n",
            "Epoch 291/300\n",
            "10/10 [==============================] - 0s 4ms/step - loss: 1.8764 - mae: 1.8764 - mse: 8.6058 - val_loss: 1.6238 - val_mae: 1.6238 - val_mse: 6.5397\n",
            "Epoch 292/300\n",
            "10/10 [==============================] - 0s 5ms/step - loss: 1.8764 - mae: 1.8764 - mse: 8.6073 - val_loss: 1.6244 - val_mae: 1.6244 - val_mse: 6.5422\n",
            "Epoch 293/300\n",
            "10/10 [==============================] - 0s 7ms/step - loss: 1.8764 - mae: 1.8764 - mse: 8.6034 - val_loss: 1.6233 - val_mae: 1.6233 - val_mse: 6.5367\n",
            "Epoch 294/300\n",
            "10/10 [==============================] - 0s 3ms/step - loss: 1.8764 - mae: 1.8764 - mse: 8.6062 - val_loss: 1.6251 - val_mae: 1.6251 - val_mse: 6.5438\n",
            "Epoch 295/300\n",
            "10/10 [==============================] - 0s 3ms/step - loss: 1.8763 - mae: 1.8763 - mse: 8.6086 - val_loss: 1.6246 - val_mae: 1.6246 - val_mse: 6.5412\n",
            "Epoch 296/300\n",
            "10/10 [==============================] - 0s 4ms/step - loss: 1.8765 - mae: 1.8765 - mse: 8.6014 - val_loss: 1.6224 - val_mae: 1.6224 - val_mse: 6.5314\n",
            "Epoch 297/300\n",
            "10/10 [==============================] - 0s 4ms/step - loss: 1.8762 - mae: 1.8762 - mse: 8.6022 - val_loss: 1.6248 - val_mae: 1.6248 - val_mse: 6.5412\n",
            "Epoch 298/300\n",
            "10/10 [==============================] - 0s 4ms/step - loss: 1.8759 - mae: 1.8759 - mse: 8.6049 - val_loss: 1.6238 - val_mae: 1.6238 - val_mse: 6.5365\n",
            "Epoch 299/300\n",
            "10/10 [==============================] - 0s 4ms/step - loss: 1.8762 - mae: 1.8762 - mse: 8.6026 - val_loss: 1.6245 - val_mae: 1.6245 - val_mse: 6.5390\n",
            "Epoch 300/300\n",
            "10/10 [==============================] - 0s 4ms/step - loss: 1.8761 - mae: 1.8761 - mse: 8.6035 - val_loss: 1.6246 - val_mae: 1.6246 - val_mse: 6.5386\n"
          ],
          "name": "stdout"
        }
      ]
    },
    {
      "cell_type": "code",
      "metadata": {
        "id": "6zYkLGS6wQyy",
        "colab": {
          "base_uri": "https://localhost:8080/"
        },
        "outputId": "217a4bba-95df-4667-8cb6-fb401ab38fd9"
      },
      "source": [
        "print(history)"
      ],
      "execution_count": 23,
      "outputs": [
        {
          "output_type": "stream",
          "text": [
            "<tensorflow.python.keras.callbacks.History object at 0x7f78c1d90150>\n"
          ],
          "name": "stdout"
        }
      ]
    },
    {
      "cell_type": "code",
      "metadata": {
        "colab": {
          "base_uri": "https://localhost:8080/"
        },
        "id": "1lsbk_ohAu1j",
        "outputId": "0b2a65f9-6b33-468f-f790-cf3f0818180c"
      },
      "source": [
        "model.summary()"
      ],
      "execution_count": 24,
      "outputs": [
        {
          "output_type": "stream",
          "text": [
            "Model: \"sequential\"\n",
            "_________________________________________________________________\n",
            "Layer (type)                 Output Shape              Param #   \n",
            "=================================================================\n",
            "dense (Dense)                (None, 1)                 2         \n",
            "=================================================================\n",
            "Total params: 2\n",
            "Trainable params: 2\n",
            "Non-trainable params: 0\n",
            "_________________________________________________________________\n"
          ],
          "name": "stdout"
        }
      ]
    },
    {
      "cell_type": "code",
      "metadata": {
        "colab": {
          "base_uri": "https://localhost:8080/",
          "height": 1000
        },
        "id": "P6VnkPim7tH7",
        "outputId": "0675545a-654c-4f68-96b3-6765f405f810"
      },
      "source": [
        "# tempString = 'mse'\n",
        "def curvePlots(tempString):\n",
        "  plt.plot(history.history[tempString])\n",
        "  plt.plot(history.history[f'val_{tempString}'])\n",
        "  plt.xlabel('NumEpochs')\n",
        "  plt.ylabel(tempString)\n",
        "  plt.legend([tempString, f'val_{tempString}'])\n",
        "  plt.show()\n",
        "\n",
        "\n",
        "curvePlots('mse')\n",
        "curvePlots('mae')\n",
        "curvePlots('loss')"
      ],
      "execution_count": 25,
      "outputs": [
        {
          "output_type": "display_data",
          "data": {
            "image/png": "[encoded data removed]",
            "text/plain": [
              "<Figure size 576x396 with 1 Axes>"
            ]
          },
          "metadata": {
            "tags": []
          }
        },
        {
          "output_type": "display_data",
          "data": {
            "image/png": "[encoded data removed]",
            "text/plain": [
              "<Figure size 576x396 with 1 Axes>"
            ]
          },
          "metadata": {
            "tags": []
          }
        },
        {
          "output_type": "display_data",
          "data": {
            "image/png": "[encoded data removed]",
            "text/plain": [
              "<Figure size 576x396 with 1 Axes>"
            ]
          },
          "metadata": {
            "tags": []
          }
        }
      ]
    },
    {
      "cell_type": "code",
      "metadata": {
        "id": "esW0eHQbzoj4",
        "colab": {
          "base_uri": "https://localhost:8080/"
        },
        "outputId": "6eadf411-1f33-4137-e958-ceb2305a22c0"
      },
      "source": [
        "model.predict([1])"
      ],
      "execution_count": 26,
      "outputs": [
        {
          "output_type": "execute_result",
          "data": {
            "text/plain": [
              "array([[1.8429775]], dtype=float32)"
            ]
          },
          "metadata": {
            "tags": []
          },
          "execution_count": 26
        }
      ]
    },
    {
      "cell_type": "code",
      "metadata": {
        "colab": {
          "base_uri": "https://localhost:8080/"
        },
        "id": "KJrLWamX8Tg-",
        "outputId": "27b46ef5-2cc6-4d0e-8f2f-93f0c68c33a8"
      },
      "source": [
        "# testPreds = model.predict(testFeatures).flatten() #array of all prediction values\n",
        "\n",
        "#for single values\n",
        "\n",
        "print(f'Prediction for input value 1: {model.predict([1])}')\n",
        "\n",
        "\n",
        "# for a list of values\n",
        "tempListforPreds = [1,2,3,4,5]\n",
        "print(f'''\n",
        "\n",
        "input List = {tempListforPreds}\n",
        "\n",
        "\n",
        "List of Predictions:\n",
        "{model.predict(tempListforPreds)}\n",
        "\n",
        "List of Predictions (flattened out):\n",
        "{model.predict(tempListforPreds).flatten()}\n",
        "''')"
      ],
      "execution_count": 27,
      "outputs": [
        {
          "output_type": "stream",
          "text": [
            "Prediction for input value 1: [[1.8429775]]\n",
            "\n",
            "\n",
            "input List = [1, 2, 3, 4, 5]\n",
            "\n",
            "\n",
            "List of Predictions:\n",
            "[[1.8429775]\n",
            " [2.766572 ]\n",
            " [3.6901665]\n",
            " [4.613761 ]\n",
            " [5.5373554]]\n",
            "\n",
            "List of Predictions (flattened out):\n",
            "[1.8429775 2.766572  3.6901665 4.613761  5.5373554]\n",
            "\n"
          ],
          "name": "stdout"
        }
      ]
    },
    {
      "cell_type": "code",
      "metadata": {
        "id": "vJNFh6hc0K6r",
        "colab": {
          "base_uri": "https://localhost:8080/"
        },
        "outputId": "cedddeff-fe89-441d-f4e4-fca373f8eee6"
      },
      "source": [
        "print(testFeatures)"
      ],
      "execution_count": 28,
      "outputs": [
        {
          "output_type": "stream",
          "text": [
            "     G1\n",
            "9    14\n",
            "25    6\n",
            "28   11\n",
            "31   17\n",
            "32   17\n",
            "..   ..\n",
            "365  10\n",
            "367   7\n",
            "379  10\n",
            "381   7\n",
            "393  11\n",
            "\n",
            "[79 rows x 1 columns]\n"
          ],
          "name": "stdout"
        }
      ]
    },
    {
      "cell_type": "code",
      "metadata": {
        "id": "MniGZOu50IyN"
      },
      "source": [
        "testPreds = model.predict(testFeatures)\n",
        "testPreds_Array=testPreds.flatten() #array of all prediction values"
      ],
      "execution_count": 29,
      "outputs": []
    },
    {
      "cell_type": "code",
      "metadata": {
        "id": "du0Orwu40Qan",
        "colab": {
          "base_uri": "https://localhost:8080/"
        },
        "outputId": "799dff75-92ee-4a9f-c239-0a18bb9021bc"
      },
      "source": [
        "print(len(testPreds_Array))\n",
        "print(testPreds_Array)"
      ],
      "execution_count": 30,
      "outputs": [
        {
          "output_type": "stream",
          "text": [
            "79\n",
            "[13.849706   6.46095   11.078922  16.62049   16.62049   12.002517\n",
            " 13.849706  18.467678  18.467678   8.308139  13.849706  12.926111\n",
            "  8.308139   7.3845444  9.231733  12.926111  11.078922  15.696895\n",
            "  7.3845444 10.155328  14.7733    12.926111  13.849706  15.696895\n",
            "  7.3845444  7.3845444  8.308139  10.155328  12.002517  10.155328\n",
            " 12.002517  12.926111  10.155328   6.46095    9.231733  12.002517\n",
            "  7.3845444  8.308139  13.849706   9.231733   9.231733   7.3845444\n",
            " 12.002517   6.46095   12.926111   7.3845444  7.3845444 11.078922\n",
            " 12.926111  16.62049   12.002517  14.7733     9.231733  12.002517\n",
            " 14.7733    12.002517  14.7733    12.002517  14.7733    11.078922\n",
            " 12.002517   8.308139  15.696895   7.3845444 15.696895  11.078922\n",
            " 15.696895  12.926111   8.308139   8.308139  12.002517  17.544083\n",
            " 12.926111  15.696895  10.155328   7.3845444 10.155328   7.3845444\n",
            " 11.078922 ]\n"
          ],
          "name": "stdout"
        }
      ]
    },
    {
      "cell_type": "code",
      "metadata": {
        "colab": {
          "base_uri": "https://localhost:8080/",
          "height": 361
        },
        "id": "EfP8bB_v89Wa",
        "outputId": "6b1e4106-d970-4ee3-a4f6-e63295acfbd5"
      },
      "source": [
        "# prediciton plot --> how well is your model predicting across the actual labels\n",
        "\n",
        "def predPlot(labels, predictions):\n",
        "  plt.scatter(labels, predictions)\n",
        "  plt.ylabel('Predictions')\n",
        "  plt.xlabel('True Value or Labels')\n",
        "  plt.axis('equal')\n",
        "  plt.axis('square')\n",
        "  plt.xlim([0, plt.xlim()[1]])\n",
        "  plt.ylim([0, plt.ylim()[1]])\n",
        "  plt.show()\n",
        "\n",
        "predPlot(testLabels, testPreds_Array)"
      ],
      "execution_count": 31,
      "outputs": [
        {
          "output_type": "display_data",
          "data": {
            "image/png": "[encoded data removed]",
            "text/plain": [
              "<Figure size 576x396 with 1 Axes>"
            ]
          },
          "metadata": {
            "tags": []
          }
        }
      ]
    },
    {
      "cell_type": "code",
      "metadata": {
        "colab": {
          "base_uri": "https://localhost:8080/",
          "height": 361
        },
        "id": "70608Z0o9tWL",
        "outputId": "dec2efc3-f73f-43c7-ad9c-9f6edc53f7c2"
      },
      "source": [
        "#error plot --> gaussian distribution \n",
        "\n",
        "def errorPlot(preds, labels, counts):\n",
        "  errors = preds - labels\n",
        "  plt.hist(errors, counts)\n",
        "  plt.xlabel('Error')\n",
        "  plt.ylabel('Counts')\n",
        "  plt.show()\n",
        "\n",
        "errorPlot(testPreds_Array, testLabels, numEpochs)"
      ],
      "execution_count": 32,
      "outputs": [
        {
          "output_type": "display_data",
          "data": {
            "image/png": "[encoded data removed]",
            "text/plain": [
              "<Figure size 576x396 with 1 Axes>"
            ]
          },
          "metadata": {
            "tags": []
          }
        }
      ]
    },
    {
      "cell_type": "markdown",
      "metadata": {
        "id": "oshf2mUG1vPk"
      },
      "source": [
        "Note: \n",
        "\n",
        "\n",
        "Validation loss `val_loss` is a metric that tells you how much deviation from the actual label can you expect in the predicted label\n",
        "\n",
        "To optimize your predicitons -->\n",
        "\n",
        "- Hyperparameter tuning --> `numEpochs`, `optimizer`, `learning_rate`, lossFunctions"
      ]
    },
    {
      "cell_type": "markdown",
      "metadata": {
        "id": "J6x0_esQFovO"
      },
      "source": [
        "# Using Other models on the dataset"
      ]
    },
    {
      "cell_type": "markdown",
      "metadata": {
        "id": "LXfduKP3SaBG"
      },
      "source": [
        "## Simple Linear Regression"
      ]
    },
    {
      "cell_type": "code",
      "metadata": {
        "colab": {
          "base_uri": "https://localhost:8080/"
        },
        "id": "3ebuB6ukFyUc",
        "outputId": "7a557906-1d9d-41f8-ed23-de8e3167c4f5"
      },
      "source": [
        "from sklearn.linear_model import LinearRegression\n",
        "regressor = LinearRegression()\n",
        "regressor.fit(trainFeatures, trainLabels)"
      ],
      "execution_count": 33,
      "outputs": [
        {
          "output_type": "execute_result",
          "data": {
            "text/plain": [
              "LinearRegression(copy_X=True, fit_intercept=True, n_jobs=None, normalize=False)"
            ]
          },
          "metadata": {
            "tags": []
          },
          "execution_count": 33
        }
      ]
    },
    {
      "cell_type": "code",
      "metadata": {
        "id": "ZGTuAo2eGXju"
      },
      "source": [
        "testPreds_LR = regressor.predict(testFeatures)\n",
        "testPreds_LR_Array=testPreds_LR.flatten()   #Flattening to 1d array"
      ],
      "execution_count": 34,
      "outputs": []
    },
    {
      "cell_type": "code",
      "metadata": {
        "colab": {
          "base_uri": "https://localhost:8080/",
          "height": 376
        },
        "id": "ePCvYbO0Lpyu",
        "outputId": "b3023c93-7141-40f9-f335-dd35c5231eec"
      },
      "source": [
        "plt.grid(True)\n",
        "plt.scatter(testFeatures, testLabels, color = 'red')\n",
        "plt.plot(trainFeatures, regressor.predict(trainFeatures), color = 'blue')\n",
        "plt.title('G1 Vs G3 (Test set)')\n",
        "plt.xlabel('G1')\n",
        "plt.ylabel('G3')\n",
        "plt.show()"
      ],
      "execution_count": 35,
      "outputs": [
        {
          "output_type": "display_data",
          "data": {
            "image/png": "[encoded data removed]",
            "text/plain": [
              "<Figure size 576x396 with 1 Axes>"
            ]
          },
          "metadata": {
            "tags": []
          }
        }
      ]
    },
    {
      "cell_type": "markdown",
      "metadata": {
        "id": "Yc7zOGENODzv"
      },
      "source": [
        "#Support Vector Machine"
      ]
    },
    {
      "cell_type": "code",
      "metadata": {
        "colab": {
          "base_uri": "https://localhost:8080/"
        },
        "id": "oXO3CYUxOFmv",
        "outputId": "36738055-b592-42a9-b401-6cca1304e132"
      },
      "source": [
        "from sklearn.svm import SVR\n",
        "SVM_regressor = SVR(kernel = 'rbf')\n",
        "SVM_regressor.fit(trainFeatures, trainLabels)"
      ],
      "execution_count": 36,
      "outputs": [
        {
          "output_type": "execute_result",
          "data": {
            "text/plain": [
              "SVR(C=1.0, cache_size=200, coef0=0.0, degree=3, epsilon=0.1, gamma='scale',\n",
              "    kernel='rbf', max_iter=-1, shrinking=True, tol=0.001, verbose=False)"
            ]
          },
          "metadata": {
            "tags": []
          },
          "execution_count": 36
        }
      ]
    },
    {
      "cell_type": "code",
      "metadata": {
        "id": "i1EM-cj4RCwS"
      },
      "source": [
        "testPreds_SVM=SVM_regressor.predict(testFeatures)\n",
        "testPreds_SVM_Array=testPreds_SVM.flatten()"
      ],
      "execution_count": 37,
      "outputs": []
    },
    {
      "cell_type": "code",
      "metadata": {
        "colab": {
          "base_uri": "https://localhost:8080/"
        },
        "id": "ySOSzJbJRfE0",
        "outputId": "0a162092-4c54-4e18-ef0d-2f4a841ce19c"
      },
      "source": [
        "CompareModels_df=pd.DataFrame({'testLabels':testLabels,'testPreds':testPreds_Array,'testPreds_LR':testPreds_LR_Array,'testPreds_SVM':testPreds_SVM_Array})\n",
        "print(CompareModels_df.head(15))"
      ],
      "execution_count": 38,
      "outputs": [
        {
          "output_type": "stream",
          "text": [
            "    testLabels  testPreds  testPreds_LR  testPreds_SVM\n",
            "9           15  13.849706     13.850873      13.841499\n",
            "25           8   6.460950      5.068301       6.099613\n",
            "28          11  11.078922     10.557408      10.900065\n",
            "31          17  16.620489     17.144337      17.308386\n",
            "32          16  16.620489     17.144337      17.308386\n",
            "38          11  12.002517     11.655230      11.922990\n",
            "39          13  13.849706     13.850873      13.841499\n",
            "42          18  18.467678     19.339980      17.531246\n",
            "47          20  18.467678     19.339980      17.531246\n",
            "53          11   8.308139      7.263944       8.162019\n",
            "57          15  13.849706     13.850873      13.841499\n",
            "70          15  12.926111     12.753051      12.900435\n",
            "72           5   8.308139      7.263944       8.162019\n",
            "82           6   7.384544      6.166122       7.057937\n",
            "84          10   9.231733      8.361765       9.100437\n"
          ],
          "name": "stdout"
        }
      ]
    },
    {
      "cell_type": "code",
      "metadata": {
        "colab": {
          "base_uri": "https://localhost:8080/"
        },
        "id": "q0-daU_uUzEf",
        "outputId": "2f5ce4ba-a96b-462a-dfdd-2836e1c14219"
      },
      "source": [
        "Errors_df=pd.DataFrame({'PerceptronError':abs(testLabels-testPreds_Array),'LR_Error':abs(testLabels-testPreds_LR_Array),'SVM_Error':abs(testLabels-testPreds_SVM_Array)})\n",
        "print(Errors_df.head(15))"
      ],
      "execution_count": 39,
      "outputs": [
        {
          "output_type": "stream",
          "text": [
            "    PerceptronError  LR_Error  SVM_Error\n",
            "9          1.150294  1.149127   1.158501\n",
            "25         1.539050  2.931699   1.900387\n",
            "28         0.078922  0.442592   0.099935\n",
            "31         0.379511  0.144337   0.308386\n",
            "32         0.620489  1.144337   1.308386\n",
            "38         1.002517  0.655230   0.922990\n",
            "39         0.849706  0.850873   0.841499\n",
            "42         0.467678  1.339980   0.468754\n",
            "47         1.532322  0.660020   2.468754\n",
            "53         2.691861  3.736056   2.837981\n",
            "57         1.150294  1.149127   1.158501\n",
            "70         2.073889  2.246949   2.099565\n",
            "72         3.308139  2.263944   3.162019\n",
            "82         1.384544  0.166122   1.057937\n",
            "84         0.768267  1.638235   0.899563\n"
          ],
          "name": "stdout"
        }
      ]
    },
    {
      "cell_type": "markdown",
      "metadata": {
        "id": "eaeuZpC5Sqqi"
      },
      "source": [
        "# Rsquared test"
      ]
    },
    {
      "cell_type": "code",
      "metadata": {
        "colab": {
          "base_uri": "https://localhost:8080/"
        },
        "id": "m2-DXp39QxHN",
        "outputId": "5e65c2c6-361f-4473-c609-f9e52dc143b9"
      },
      "source": [
        "r2_score_LR=regressor.score(testFeatures,testLabels)\n",
        "print(r2_score_LR*100)"
      ],
      "execution_count": 41,
      "outputs": [
        {
          "output_type": "stream",
          "text": [
            "73.2702363266345\n"
          ],
          "name": "stdout"
        }
      ]
    },
    {
      "cell_type": "code",
      "metadata": {
        "colab": {
          "base_uri": "https://localhost:8080/"
        },
        "id": "dVrzinQ0RMKB",
        "outputId": "ce84b983-af6d-4144-8bb9-3662caca043c"
      },
      "source": [
        "r2_score_SVM=SVM_regressor.score(testFeatures,testLabels)\n",
        "print(r2_score_SVM*100)"
      ],
      "execution_count": 42,
      "outputs": [
        {
          "output_type": "stream",
          "text": [
            "69.88915230248718\n"
          ],
          "name": "stdout"
        }
      ]
    },
    {
      "cell_type": "markdown",
      "metadata": {
        "id": "4KM43GFITCs5"
      },
      "source": [
        "` The model is performing well on Simple Linear Regression then SVM`"
      ]
    }
  ]
}