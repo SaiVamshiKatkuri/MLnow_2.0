{
  "nbformat": 4,
  "nbformat_minor": 0,
  "metadata": {
    "colab": {
      "name": "3.1_Univariate.ipynb",
      "provenance": [],
      "include_colab_link": true
    },
    "kernelspec": {
      "name": "python3",
      "display_name": "Python 3"
    }
  },
  "cells": [
    {
      "cell_type": "markdown",
      "metadata": {
        "id": "view-in-github",
        "colab_type": "text"
      },
      "source": [
        "<a href=\"https://colab.research.google.com/github/SaiVamshiKatkuri/MLnow_2.0/blob/main/3_1_Univariate.ipynb\" target=\"_parent\"><img src=\"https://colab.research.google.com/assets/colab-badge.svg\" alt=\"Open In Colab\"/></a>"
      ]
    },
    {
      "cell_type": "markdown",
      "metadata": {
        "id": "q_569ugy6lyY"
      },
      "source": [
        "**Topic**: `Univariate Linear Regression`\n",
        "\n",
        "[Link to download the Dataset](https://archive.ics.uci.edu/ml/datasets/Student+Performance)\n",
        "\n",
        "**Date Created** :June 6,2021\n",
        "\n",
        "**AUTHOR**: Sai Vamshi Katkuri\n",
        "[Assessment Repository](https://github.com/SaiVamshiKatkuri/MLnow_2.0)\n",
        "\n",
        "**Reach out** :[Email](https://mail.google.com/mail/u/0/?tab=rm&ogbl#inbox) | [Linkedin](https://www.linkedin.com/in/katkuri-sai-vamshi-2209281a8/) | [Github](https://github.com/SaiVamshiKatkuri)\n",
        "\n",
        "**Main Change**: Predicting values of `G3` using `G2`\n",
        "\n",
        "\n"
      ]
    },
    {
      "cell_type": "markdown",
      "metadata": {
        "id": "KmW9S6zjaauQ"
      },
      "source": [
        "## Setup"
      ]
    },
    {
      "cell_type": "code",
      "metadata": {
        "colab": {
          "base_uri": "https://localhost:8080/"
        },
        "id": "oX_QibhWsnnX",
        "outputId": "1def6753-33c5-4a94-8519-58fa9f7cb724"
      },
      "source": [
        "from google.colab import drive\n",
        "drive.mount('/content/drive')"
      ],
      "execution_count": 1,
      "outputs": [
        {
          "output_type": "stream",
          "text": [
            "Mounted at /content/drive\n"
          ],
          "name": "stdout"
        }
      ]
    },
    {
      "cell_type": "code",
      "metadata": {
        "colab": {
          "base_uri": "https://localhost:8080/"
        },
        "id": "wYuNn17Isvml",
        "outputId": "3f37f969-0120-4926-eac4-2cb5ff4e63c5"
      },
      "source": [
        "cd '/content/drive/MyDrive/Datasets'"
      ],
      "execution_count": 2,
      "outputs": [
        {
          "output_type": "stream",
          "text": [
            "/content/drive/MyDrive/Datasets\n"
          ],
          "name": "stdout"
        }
      ]
    },
    {
      "cell_type": "code",
      "metadata": {
        "colab": {
          "base_uri": "https://localhost:8080/"
        },
        "id": "oR69jwALs-uP",
        "outputId": "ab16e432-a70f-42a0-9205-49f9dbbb3d99"
      },
      "source": [
        "ls"
      ],
      "execution_count": 3,
      "outputs": [
        {
          "output_type": "stream",
          "text": [
            "student-mat.csv  student-por.csv  univariate_MathData_2.csv  w-h.csv\n"
          ],
          "name": "stdout"
        }
      ]
    },
    {
      "cell_type": "code",
      "metadata": {
        "id": "0rYwvbeMtPJg"
      },
      "source": [
        "import os"
      ],
      "execution_count": 4,
      "outputs": []
    },
    {
      "cell_type": "code",
      "metadata": {
        "id": "cnGQRbmes_tZ"
      },
      "source": [
        "import pandas as pd #working with csv or excel files\n",
        "import numpy as np #working with numbers/ arrays/ tensors\n",
        "import tensorflow as tf #framework\n",
        "from tensorflow import keras #API / library \n",
        "import os #using os commands between the python language"
      ],
      "execution_count": 5,
      "outputs": []
    },
    {
      "cell_type": "code",
      "metadata": {
        "id": "VV-Ps6dJtX6B"
      },
      "source": [
        "mathData = pd.read_csv('student-mat.csv', sep=';') #load the csv file as dataframe"
      ],
      "execution_count": 6,
      "outputs": []
    },
    {
      "cell_type": "code",
      "metadata": {
        "colab": {
          "base_uri": "https://localhost:8080/",
          "height": 382
        },
        "id": "2_KId_bptr05",
        "outputId": "c15386fe-14b6-4d1e-b3a5-8bdfcdaf4069"
      },
      "source": [
        "mathData.head(10) #print the first ten rows of the dataframe"
      ],
      "execution_count": 7,
      "outputs": [
        {
          "output_type": "execute_result",
          "data": {
            "text/html": [
              "<div>\n",
              "<style scoped>\n",
              "    .dataframe tbody tr th:only-of-type {\n",
              "        vertical-align: middle;\n",
              "    }\n",
              "\n",
              "    .dataframe tbody tr th {\n",
              "        vertical-align: top;\n",
              "    }\n",
              "\n",
              "    .dataframe thead th {\n",
              "        text-align: right;\n",
              "    }\n",
              "</style>\n",
              "<table border=\"1\" class=\"dataframe\">\n",
              "  <thead>\n",
              "    <tr style=\"text-align: right;\">\n",
              "      <th></th>\n",
              "      <th>school</th>\n",
              "      <th>sex</th>\n",
              "      <th>age</th>\n",
              "      <th>address</th>\n",
              "      <th>famsize</th>\n",
              "      <th>Pstatus</th>\n",
              "      <th>Medu</th>\n",
              "      <th>Fedu</th>\n",
              "      <th>Mjob</th>\n",
              "      <th>Fjob</th>\n",
              "      <th>reason</th>\n",
              "      <th>guardian</th>\n",
              "      <th>traveltime</th>\n",
              "      <th>studytime</th>\n",
              "      <th>failures</th>\n",
              "      <th>schoolsup</th>\n",
              "      <th>famsup</th>\n",
              "      <th>paid</th>\n",
              "      <th>activities</th>\n",
              "      <th>nursery</th>\n",
              "      <th>higher</th>\n",
              "      <th>internet</th>\n",
              "      <th>romantic</th>\n",
              "      <th>famrel</th>\n",
              "      <th>freetime</th>\n",
              "      <th>goout</th>\n",
              "      <th>Dalc</th>\n",
              "      <th>Walc</th>\n",
              "      <th>health</th>\n",
              "      <th>absences</th>\n",
              "      <th>G1</th>\n",
              "      <th>G2</th>\n",
              "      <th>G3</th>\n",
              "    </tr>\n",
              "  </thead>\n",
              "  <tbody>\n",
              "    <tr>\n",
              "      <th>0</th>\n",
              "      <td>GP</td>\n",
              "      <td>F</td>\n",
              "      <td>18</td>\n",
              "      <td>U</td>\n",
              "      <td>GT3</td>\n",
              "      <td>A</td>\n",
              "      <td>4</td>\n",
              "      <td>4</td>\n",
              "      <td>at_home</td>\n",
              "      <td>teacher</td>\n",
              "      <td>course</td>\n",
              "      <td>mother</td>\n",
              "      <td>2</td>\n",
              "      <td>2</td>\n",
              "      <td>0</td>\n",
              "      <td>yes</td>\n",
              "      <td>no</td>\n",
              "      <td>no</td>\n",
              "      <td>no</td>\n",
              "      <td>yes</td>\n",
              "      <td>yes</td>\n",
              "      <td>no</td>\n",
              "      <td>no</td>\n",
              "      <td>4</td>\n",
              "      <td>3</td>\n",
              "      <td>4</td>\n",
              "      <td>1</td>\n",
              "      <td>1</td>\n",
              "      <td>3</td>\n",
              "      <td>6</td>\n",
              "      <td>5</td>\n",
              "      <td>6</td>\n",
              "      <td>6</td>\n",
              "    </tr>\n",
              "    <tr>\n",
              "      <th>1</th>\n",
              "      <td>GP</td>\n",
              "      <td>F</td>\n",
              "      <td>17</td>\n",
              "      <td>U</td>\n",
              "      <td>GT3</td>\n",
              "      <td>T</td>\n",
              "      <td>1</td>\n",
              "      <td>1</td>\n",
              "      <td>at_home</td>\n",
              "      <td>other</td>\n",
              "      <td>course</td>\n",
              "      <td>father</td>\n",
              "      <td>1</td>\n",
              "      <td>2</td>\n",
              "      <td>0</td>\n",
              "      <td>no</td>\n",
              "      <td>yes</td>\n",
              "      <td>no</td>\n",
              "      <td>no</td>\n",
              "      <td>no</td>\n",
              "      <td>yes</td>\n",
              "      <td>yes</td>\n",
              "      <td>no</td>\n",
              "      <td>5</td>\n",
              "      <td>3</td>\n",
              "      <td>3</td>\n",
              "      <td>1</td>\n",
              "      <td>1</td>\n",
              "      <td>3</td>\n",
              "      <td>4</td>\n",
              "      <td>5</td>\n",
              "      <td>5</td>\n",
              "      <td>6</td>\n",
              "    </tr>\n",
              "    <tr>\n",
              "      <th>2</th>\n",
              "      <td>GP</td>\n",
              "      <td>F</td>\n",
              "      <td>15</td>\n",
              "      <td>U</td>\n",
              "      <td>LE3</td>\n",
              "      <td>T</td>\n",
              "      <td>1</td>\n",
              "      <td>1</td>\n",
              "      <td>at_home</td>\n",
              "      <td>other</td>\n",
              "      <td>other</td>\n",
              "      <td>mother</td>\n",
              "      <td>1</td>\n",
              "      <td>2</td>\n",
              "      <td>3</td>\n",
              "      <td>yes</td>\n",
              "      <td>no</td>\n",
              "      <td>yes</td>\n",
              "      <td>no</td>\n",
              "      <td>yes</td>\n",
              "      <td>yes</td>\n",
              "      <td>yes</td>\n",
              "      <td>no</td>\n",
              "      <td>4</td>\n",
              "      <td>3</td>\n",
              "      <td>2</td>\n",
              "      <td>2</td>\n",
              "      <td>3</td>\n",
              "      <td>3</td>\n",
              "      <td>10</td>\n",
              "      <td>7</td>\n",
              "      <td>8</td>\n",
              "      <td>10</td>\n",
              "    </tr>\n",
              "    <tr>\n",
              "      <th>3</th>\n",
              "      <td>GP</td>\n",
              "      <td>F</td>\n",
              "      <td>15</td>\n",
              "      <td>U</td>\n",
              "      <td>GT3</td>\n",
              "      <td>T</td>\n",
              "      <td>4</td>\n",
              "      <td>2</td>\n",
              "      <td>health</td>\n",
              "      <td>services</td>\n",
              "      <td>home</td>\n",
              "      <td>mother</td>\n",
              "      <td>1</td>\n",
              "      <td>3</td>\n",
              "      <td>0</td>\n",
              "      <td>no</td>\n",
              "      <td>yes</td>\n",
              "      <td>yes</td>\n",
              "      <td>yes</td>\n",
              "      <td>yes</td>\n",
              "      <td>yes</td>\n",
              "      <td>yes</td>\n",
              "      <td>yes</td>\n",
              "      <td>3</td>\n",
              "      <td>2</td>\n",
              "      <td>2</td>\n",
              "      <td>1</td>\n",
              "      <td>1</td>\n",
              "      <td>5</td>\n",
              "      <td>2</td>\n",
              "      <td>15</td>\n",
              "      <td>14</td>\n",
              "      <td>15</td>\n",
              "    </tr>\n",
              "    <tr>\n",
              "      <th>4</th>\n",
              "      <td>GP</td>\n",
              "      <td>F</td>\n",
              "      <td>16</td>\n",
              "      <td>U</td>\n",
              "      <td>GT3</td>\n",
              "      <td>T</td>\n",
              "      <td>3</td>\n",
              "      <td>3</td>\n",
              "      <td>other</td>\n",
              "      <td>other</td>\n",
              "      <td>home</td>\n",
              "      <td>father</td>\n",
              "      <td>1</td>\n",
              "      <td>2</td>\n",
              "      <td>0</td>\n",
              "      <td>no</td>\n",
              "      <td>yes</td>\n",
              "      <td>yes</td>\n",
              "      <td>no</td>\n",
              "      <td>yes</td>\n",
              "      <td>yes</td>\n",
              "      <td>no</td>\n",
              "      <td>no</td>\n",
              "      <td>4</td>\n",
              "      <td>3</td>\n",
              "      <td>2</td>\n",
              "      <td>1</td>\n",
              "      <td>2</td>\n",
              "      <td>5</td>\n",
              "      <td>4</td>\n",
              "      <td>6</td>\n",
              "      <td>10</td>\n",
              "      <td>10</td>\n",
              "    </tr>\n",
              "    <tr>\n",
              "      <th>5</th>\n",
              "      <td>GP</td>\n",
              "      <td>M</td>\n",
              "      <td>16</td>\n",
              "      <td>U</td>\n",
              "      <td>LE3</td>\n",
              "      <td>T</td>\n",
              "      <td>4</td>\n",
              "      <td>3</td>\n",
              "      <td>services</td>\n",
              "      <td>other</td>\n",
              "      <td>reputation</td>\n",
              "      <td>mother</td>\n",
              "      <td>1</td>\n",
              "      <td>2</td>\n",
              "      <td>0</td>\n",
              "      <td>no</td>\n",
              "      <td>yes</td>\n",
              "      <td>yes</td>\n",
              "      <td>yes</td>\n",
              "      <td>yes</td>\n",
              "      <td>yes</td>\n",
              "      <td>yes</td>\n",
              "      <td>no</td>\n",
              "      <td>5</td>\n",
              "      <td>4</td>\n",
              "      <td>2</td>\n",
              "      <td>1</td>\n",
              "      <td>2</td>\n",
              "      <td>5</td>\n",
              "      <td>10</td>\n",
              "      <td>15</td>\n",
              "      <td>15</td>\n",
              "      <td>15</td>\n",
              "    </tr>\n",
              "    <tr>\n",
              "      <th>6</th>\n",
              "      <td>GP</td>\n",
              "      <td>M</td>\n",
              "      <td>16</td>\n",
              "      <td>U</td>\n",
              "      <td>LE3</td>\n",
              "      <td>T</td>\n",
              "      <td>2</td>\n",
              "      <td>2</td>\n",
              "      <td>other</td>\n",
              "      <td>other</td>\n",
              "      <td>home</td>\n",
              "      <td>mother</td>\n",
              "      <td>1</td>\n",
              "      <td>2</td>\n",
              "      <td>0</td>\n",
              "      <td>no</td>\n",
              "      <td>no</td>\n",
              "      <td>no</td>\n",
              "      <td>no</td>\n",
              "      <td>yes</td>\n",
              "      <td>yes</td>\n",
              "      <td>yes</td>\n",
              "      <td>no</td>\n",
              "      <td>4</td>\n",
              "      <td>4</td>\n",
              "      <td>4</td>\n",
              "      <td>1</td>\n",
              "      <td>1</td>\n",
              "      <td>3</td>\n",
              "      <td>0</td>\n",
              "      <td>12</td>\n",
              "      <td>12</td>\n",
              "      <td>11</td>\n",
              "    </tr>\n",
              "    <tr>\n",
              "      <th>7</th>\n",
              "      <td>GP</td>\n",
              "      <td>F</td>\n",
              "      <td>17</td>\n",
              "      <td>U</td>\n",
              "      <td>GT3</td>\n",
              "      <td>A</td>\n",
              "      <td>4</td>\n",
              "      <td>4</td>\n",
              "      <td>other</td>\n",
              "      <td>teacher</td>\n",
              "      <td>home</td>\n",
              "      <td>mother</td>\n",
              "      <td>2</td>\n",
              "      <td>2</td>\n",
              "      <td>0</td>\n",
              "      <td>yes</td>\n",
              "      <td>yes</td>\n",
              "      <td>no</td>\n",
              "      <td>no</td>\n",
              "      <td>yes</td>\n",
              "      <td>yes</td>\n",
              "      <td>no</td>\n",
              "      <td>no</td>\n",
              "      <td>4</td>\n",
              "      <td>1</td>\n",
              "      <td>4</td>\n",
              "      <td>1</td>\n",
              "      <td>1</td>\n",
              "      <td>1</td>\n",
              "      <td>6</td>\n",
              "      <td>6</td>\n",
              "      <td>5</td>\n",
              "      <td>6</td>\n",
              "    </tr>\n",
              "    <tr>\n",
              "      <th>8</th>\n",
              "      <td>GP</td>\n",
              "      <td>M</td>\n",
              "      <td>15</td>\n",
              "      <td>U</td>\n",
              "      <td>LE3</td>\n",
              "      <td>A</td>\n",
              "      <td>3</td>\n",
              "      <td>2</td>\n",
              "      <td>services</td>\n",
              "      <td>other</td>\n",
              "      <td>home</td>\n",
              "      <td>mother</td>\n",
              "      <td>1</td>\n",
              "      <td>2</td>\n",
              "      <td>0</td>\n",
              "      <td>no</td>\n",
              "      <td>yes</td>\n",
              "      <td>yes</td>\n",
              "      <td>no</td>\n",
              "      <td>yes</td>\n",
              "      <td>yes</td>\n",
              "      <td>yes</td>\n",
              "      <td>no</td>\n",
              "      <td>4</td>\n",
              "      <td>2</td>\n",
              "      <td>2</td>\n",
              "      <td>1</td>\n",
              "      <td>1</td>\n",
              "      <td>1</td>\n",
              "      <td>0</td>\n",
              "      <td>16</td>\n",
              "      <td>18</td>\n",
              "      <td>19</td>\n",
              "    </tr>\n",
              "    <tr>\n",
              "      <th>9</th>\n",
              "      <td>GP</td>\n",
              "      <td>M</td>\n",
              "      <td>15</td>\n",
              "      <td>U</td>\n",
              "      <td>GT3</td>\n",
              "      <td>T</td>\n",
              "      <td>3</td>\n",
              "      <td>4</td>\n",
              "      <td>other</td>\n",
              "      <td>other</td>\n",
              "      <td>home</td>\n",
              "      <td>mother</td>\n",
              "      <td>1</td>\n",
              "      <td>2</td>\n",
              "      <td>0</td>\n",
              "      <td>no</td>\n",
              "      <td>yes</td>\n",
              "      <td>yes</td>\n",
              "      <td>yes</td>\n",
              "      <td>yes</td>\n",
              "      <td>yes</td>\n",
              "      <td>yes</td>\n",
              "      <td>no</td>\n",
              "      <td>5</td>\n",
              "      <td>5</td>\n",
              "      <td>1</td>\n",
              "      <td>1</td>\n",
              "      <td>1</td>\n",
              "      <td>5</td>\n",
              "      <td>0</td>\n",
              "      <td>14</td>\n",
              "      <td>15</td>\n",
              "      <td>15</td>\n",
              "    </tr>\n",
              "  </tbody>\n",
              "</table>\n",
              "</div>"
            ],
            "text/plain": [
              "  school sex  age address famsize Pstatus  ...  Walc  health absences  G1  G2  G3\n",
              "0     GP   F   18       U     GT3       A  ...     1       3        6   5   6   6\n",
              "1     GP   F   17       U     GT3       T  ...     1       3        4   5   5   6\n",
              "2     GP   F   15       U     LE3       T  ...     3       3       10   7   8  10\n",
              "3     GP   F   15       U     GT3       T  ...     1       5        2  15  14  15\n",
              "4     GP   F   16       U     GT3       T  ...     2       5        4   6  10  10\n",
              "5     GP   M   16       U     LE3       T  ...     2       5       10  15  15  15\n",
              "6     GP   M   16       U     LE3       T  ...     1       3        0  12  12  11\n",
              "7     GP   F   17       U     GT3       A  ...     1       1        6   6   5   6\n",
              "8     GP   M   15       U     LE3       A  ...     1       1        0  16  18  19\n",
              "9     GP   M   15       U     GT3       T  ...     1       5        0  14  15  15\n",
              "\n",
              "[10 rows x 33 columns]"
            ]
          },
          "metadata": {
            "tags": []
          },
          "execution_count": 7
        }
      ]
    },
    {
      "cell_type": "markdown",
      "metadata": {
        "id": "i2bal50yG_PZ"
      },
      "source": [
        "We are just going to consider the columns `G1` and `G3` for univariate linear regression\n",
        "\n",
        "$G3_i = G1_i  \\cdot \\theta_1 + \\theta_0$"
      ]
    },
    {
      "cell_type": "code",
      "metadata": {
        "colab": {
          "base_uri": "https://localhost:8080/",
          "height": 205
        },
        "id": "Yw0PNCuTSEDC",
        "outputId": "7f9c158b-3a05-4b79-e02b-d60f596b3bf8"
      },
      "source": [
        "uniMathData = mathData[['G2', 'G3']]\n",
        "uniMathData.head(5)"
      ],
      "execution_count": 8,
      "outputs": [
        {
          "output_type": "execute_result",
          "data": {
            "text/html": [
              "<div>\n",
              "<style scoped>\n",
              "    .dataframe tbody tr th:only-of-type {\n",
              "        vertical-align: middle;\n",
              "    }\n",
              "\n",
              "    .dataframe tbody tr th {\n",
              "        vertical-align: top;\n",
              "    }\n",
              "\n",
              "    .dataframe thead th {\n",
              "        text-align: right;\n",
              "    }\n",
              "</style>\n",
              "<table border=\"1\" class=\"dataframe\">\n",
              "  <thead>\n",
              "    <tr style=\"text-align: right;\">\n",
              "      <th></th>\n",
              "      <th>G2</th>\n",
              "      <th>G3</th>\n",
              "    </tr>\n",
              "  </thead>\n",
              "  <tbody>\n",
              "    <tr>\n",
              "      <th>0</th>\n",
              "      <td>6</td>\n",
              "      <td>6</td>\n",
              "    </tr>\n",
              "    <tr>\n",
              "      <th>1</th>\n",
              "      <td>5</td>\n",
              "      <td>6</td>\n",
              "    </tr>\n",
              "    <tr>\n",
              "      <th>2</th>\n",
              "      <td>8</td>\n",
              "      <td>10</td>\n",
              "    </tr>\n",
              "    <tr>\n",
              "      <th>3</th>\n",
              "      <td>14</td>\n",
              "      <td>15</td>\n",
              "    </tr>\n",
              "    <tr>\n",
              "      <th>4</th>\n",
              "      <td>10</td>\n",
              "      <td>10</td>\n",
              "    </tr>\n",
              "  </tbody>\n",
              "</table>\n",
              "</div>"
            ],
            "text/plain": [
              "   G2  G3\n",
              "0   6   6\n",
              "1   5   6\n",
              "2   8  10\n",
              "3  14  15\n",
              "4  10  10"
            ]
          },
          "metadata": {
            "tags": []
          },
          "execution_count": 8
        }
      ]
    },
    {
      "cell_type": "code",
      "metadata": {
        "id": "eyzP9mL4Hmb5"
      },
      "source": [
        "uniMathData.to_csv('univariate_MathData_2.csv')"
      ],
      "execution_count": 9,
      "outputs": []
    },
    {
      "cell_type": "code",
      "metadata": {
        "colab": {
          "base_uri": "https://localhost:8080/"
        },
        "id": "I-3qK_nNxnTA",
        "outputId": "38dc71d1-57b6-4c96-ad06-275d1b4a167d"
      },
      "source": [
        "ls"
      ],
      "execution_count": 10,
      "outputs": [
        {
          "output_type": "stream",
          "text": [
            "student-mat.csv  student-por.csv  univariate_MathData_2.csv  w-h.csv\n"
          ],
          "name": "stdout"
        }
      ]
    },
    {
      "cell_type": "markdown",
      "metadata": {
        "id": "ImV3p6AKxszU"
      },
      "source": [
        "## Data visualization"
      ]
    },
    {
      "cell_type": "code",
      "metadata": {
        "colab": {
          "base_uri": "https://localhost:8080/",
          "height": 157
        },
        "id": "RqumcsZLxq4v",
        "outputId": "6b1f48c3-41dc-4494-8228-c84da016d0ea"
      },
      "source": [
        "import seaborn as sns\n",
        "sns.palplot(sns.color_palette('PuOr')) #Purple to Orange colors\n",
        "pal = sns.color_palette('PuOr', 6) #print 6 color shades from Purple to Orange\n",
        "pal.as_hex() #set hex code values for colors\n",
        "\n",
        "import matplotlib.pyplot as plt\n",
        "plt.style.use(['seaborn'])\n",
        "sns_colors = ['#c6690c', '#664697'] #orange Purple hex codes\n",
        "sns.set_palette(sns_colors) #set the palette as sns_colors \n",
        "sns.palplot(sns.color_palette(sns_colors)) #plot the color codes"
      ],
      "execution_count": 11,
      "outputs": [
        {
          "output_type": "display_data",
          "data": {
            "image/png": "[encoded data removed]",
            "text/plain": [
              "<Figure size 432x72 with 1 Axes>"
            ]
          },
          "metadata": {
            "tags": [],
            "needs_background": "light"
          }
        },
        {
          "output_type": "display_data",
          "data": {
            "image/png": "[encoded data removed]",
            "text/plain": [
              "<Figure size 144x72 with 1 Axes>"
            ]
          },
          "metadata": {
            "tags": []
          }
        }
      ]
    },
    {
      "cell_type": "code",
      "metadata": {
        "colab": {
          "base_uri": "https://localhost:8080/"
        },
        "id": "A6MT5E8Fy7MZ",
        "outputId": "1f64b255-281a-464d-e3e8-3fd6abf1f61d"
      },
      "source": [
        "uniMathData.columns #columns in the dataframe"
      ],
      "execution_count": 12,
      "outputs": [
        {
          "output_type": "execute_result",
          "data": {
            "text/plain": [
              "Index(['G2', 'G3'], dtype='object')"
            ]
          },
          "metadata": {
            "tags": []
          },
          "execution_count": 12
        }
      ]
    },
    {
      "cell_type": "code",
      "metadata": {
        "colab": {
          "base_uri": "https://localhost:8080/",
          "height": 391
        },
        "id": "PrsTwdHHzBbk",
        "outputId": "3aafb4d5-95aa-4bbc-9ce4-d02226c1a839"
      },
      "source": [
        "#pairplot for all the values\n",
        "\n",
        "sns.pairplot(uniMathData,\n",
        "             x_vars = ['G2', 'G3'],\n",
        "             y_vars =  ['G2', 'G3'],\n",
        "       diag_kind='kde'\n",
        "             )"
      ],
      "execution_count": 13,
      "outputs": [
        {
          "output_type": "execute_result",
          "data": {
            "text/plain": [
              "<seaborn.axisgrid.PairGrid at 0x7f471db76450>"
            ]
          },
          "metadata": {
            "tags": []
          },
          "execution_count": 13
        },
        {
          "output_type": "display_data",
          "data": {
            "image/png": "[encoded data removed]",
            "text/plain": [
              "<Figure size 360x360 with 6 Axes>"
            ]
          },
          "metadata": {
            "tags": []
          }
        }
      ]
    },
    {
      "cell_type": "markdown",
      "metadata": {
        "id": "Klm33YcpKZkl"
      },
      "source": [
        "## Data Splits"
      ]
    },
    {
      "cell_type": "code",
      "metadata": {
        "colab": {
          "base_uri": "https://localhost:8080/"
        },
        "id": "UwrSOCKS1NhN",
        "outputId": "ce63645d-f7c6-44e1-85cb-12f3c6b6e007"
      },
      "source": [
        "#80-20 train-test percent split\n",
        "\n",
        "trainDataset = uniMathData.sample(frac=0.8, random_state=0) \n",
        "testDataset = uniMathData.drop(trainDataset.index)\n",
        "\n",
        "print(trainDataset.head())\n",
        "print(testDataset.head())"
      ],
      "execution_count": 14,
      "outputs": [
        {
          "output_type": "stream",
          "text": [
            "     G2  G3\n",
            "329  14  14\n",
            "318  11  10\n",
            "317  10   9\n",
            "65   15  15\n",
            "59   16  16\n",
            "    G2  G3\n",
            "9   15  15\n",
            "25   9   8\n",
            "28  11  11\n",
            "31  16  17\n",
            "32  16  16\n"
          ],
          "name": "stdout"
        }
      ]
    },
    {
      "cell_type": "code",
      "metadata": {
        "colab": {
          "base_uri": "https://localhost:8080/"
        },
        "id": "YWO2xRV53wV-",
        "outputId": "c370fc16-99c4-4fc4-c715-a049f3fbbffa"
      },
      "source": [
        "print(trainDataset.shape)\n",
        "print(testDataset.shape)"
      ],
      "execution_count": 15,
      "outputs": [
        {
          "output_type": "stream",
          "text": [
            "(316, 2)\n",
            "(79, 2)\n"
          ],
          "name": "stdout"
        }
      ]
    },
    {
      "cell_type": "code",
      "metadata": {
        "colab": {
          "base_uri": "https://localhost:8080/"
        },
        "id": "OmDTbvMC32hg",
        "outputId": "d9832a16-7acc-495d-89e5-2bb8c2eba044"
      },
      "source": [
        "#copy the trainDataset dataframe for getting the features\n",
        "\n",
        "trainFeatures = trainDataset.copy()\n",
        "testFeatures = testDataset.copy()\n",
        "\n",
        "print(trainFeatures.head())\n",
        "print(testFeatures.head())"
      ],
      "execution_count": 17,
      "outputs": [
        {
          "output_type": "stream",
          "text": [
            "     G2  G3\n",
            "329  14  14\n",
            "318  11  10\n",
            "317  10   9\n",
            "65   15  15\n",
            "59   16  16\n",
            "    G2  G3\n",
            "9   15  15\n",
            "25   9   8\n",
            "28  11  11\n",
            "31  16  17\n",
            "32  16  16\n"
          ],
          "name": "stdout"
        }
      ]
    },
    {
      "cell_type": "code",
      "metadata": {
        "colab": {
          "base_uri": "https://localhost:8080/"
        },
        "id": "jSR0_uni4ayh",
        "outputId": "0a352fed-6a2b-4d72-a6ad-f4eca950e829"
      },
      "source": [
        "#removing the G3 column and saving it into the labels variable\n",
        "\n",
        "trainLabels = trainFeatures.pop('G3')\n",
        "testLabels = testFeatures.pop('G3')\n",
        "\n",
        "print(trainLabels.head())\n",
        "print(testLabels.head())"
      ],
      "execution_count": 18,
      "outputs": [
        {
          "output_type": "stream",
          "text": [
            "329    14\n",
            "318    10\n",
            "317     9\n",
            "65     15\n",
            "59     16\n",
            "Name: G3, dtype: int64\n",
            "9     15\n",
            "25     8\n",
            "28    11\n",
            "31    17\n",
            "32    16\n",
            "Name: G3, dtype: int64\n"
          ],
          "name": "stdout"
        }
      ]
    },
    {
      "cell_type": "code",
      "metadata": {
        "colab": {
          "base_uri": "https://localhost:8080/"
        },
        "id": "HnGSqb-q4wk8",
        "outputId": "32180743-c7a5-4ee1-d9ca-5dde658e375f"
      },
      "source": [
        "print(trainFeatures.head())\n",
        "print(testFeatures.head())"
      ],
      "execution_count": 19,
      "outputs": [
        {
          "output_type": "stream",
          "text": [
            "     G2\n",
            "329  14\n",
            "318  11\n",
            "317  10\n",
            "65   15\n",
            "59   16\n",
            "    G2\n",
            "9   15\n",
            "25   9\n",
            "28  11\n",
            "31  16\n",
            "32  16\n"
          ],
          "name": "stdout"
        }
      ]
    },
    {
      "cell_type": "code",
      "metadata": {
        "id": "XPTSq34jk4o_"
      },
      "source": [
        "# univariate -> num(features) = 1\n",
        "# multvariate -> num(features) > 1 = 11\n",
        "\n",
        "\n",
        "model = tf.keras.Sequential([\n",
        "                             tf.keras.layers.Dense(1)\n",
        "\n",
        "])"
      ],
      "execution_count": 20,
      "outputs": []
    },
    {
      "cell_type": "code",
      "metadata": {
        "id": "4C4GKBdE6iCE"
      },
      "source": [
        "model.compile(\n",
        "    loss = 'mean_absolute_error', #minimizing the MAE loss\n",
        "    optimizer = tf.keras.optimizers.Adagrad(0.001), #learning rate specified as 0.001\n",
        "    # optimizer = 'adam', #takes the default learning rate\n",
        "    metrics = ['mae', 'mse'] #meanSquare and meanAbsolute error metrics\n",
        ")"
      ],
      "execution_count": 40,
      "outputs": []
    },
    {
      "cell_type": "code",
      "metadata": {
        "colab": {
          "base_uri": "https://localhost:8080/"
        },
        "id": "d_A7DrhB6zvm",
        "outputId": "2a9331ed-b4af-4d60-ad70-c0c5a2afc8e5"
      },
      "source": [
        "numEpochs = 300\n",
        "history = model.fit(x = trainFeatures, y = trainLabels, validation_data = (testFeatures, testLabels), epochs = numEpochs)"
      ],
      "execution_count": 41,
      "outputs": [
        {
          "output_type": "stream",
          "text": [
            "Epoch 1/300\n",
            "10/10 [==============================] - 0s 18ms/step - loss: 1.0044 - mae: 1.0044 - mse: 4.3322 - val_loss: 0.7976 - val_mae: 0.7976 - val_mse: 2.8227\n",
            "Epoch 2/300\n",
            "10/10 [==============================] - 0s 3ms/step - loss: 1.0041 - mae: 1.0041 - mse: 4.3313 - val_loss: 0.7983 - val_mae: 0.7983 - val_mse: 2.8231\n",
            "Epoch 3/300\n",
            "10/10 [==============================] - 0s 4ms/step - loss: 1.0038 - mae: 1.0038 - mse: 4.3327 - val_loss: 0.7982 - val_mae: 0.7982 - val_mse: 2.8230\n",
            "Epoch 4/300\n",
            "10/10 [==============================] - 0s 3ms/step - loss: 1.0036 - mae: 1.0036 - mse: 4.3324 - val_loss: 0.7976 - val_mae: 0.7976 - val_mse: 2.8228\n",
            "Epoch 5/300\n",
            "10/10 [==============================] - 0s 3ms/step - loss: 1.0036 - mae: 1.0036 - mse: 4.3323 - val_loss: 0.7981 - val_mae: 0.7981 - val_mse: 2.8230\n",
            "Epoch 6/300\n",
            "10/10 [==============================] - 0s 3ms/step - loss: 1.0036 - mae: 1.0036 - mse: 4.3323 - val_loss: 0.7977 - val_mae: 0.7977 - val_mse: 2.8227\n",
            "Epoch 7/300\n",
            "10/10 [==============================] - 0s 5ms/step - loss: 1.0035 - mae: 1.0035 - mse: 4.3321 - val_loss: 0.7983 - val_mae: 0.7983 - val_mse: 2.8231\n",
            "Epoch 8/300\n",
            "10/10 [==============================] - 0s 4ms/step - loss: 1.0035 - mae: 1.0035 - mse: 4.3327 - val_loss: 0.7981 - val_mae: 0.7981 - val_mse: 2.8226\n",
            "Epoch 9/300\n",
            "10/10 [==============================] - 0s 4ms/step - loss: 1.0034 - mae: 1.0034 - mse: 4.3321 - val_loss: 0.7977 - val_mae: 0.7977 - val_mse: 2.8229\n",
            "Epoch 10/300\n",
            "10/10 [==============================] - 0s 4ms/step - loss: 1.0035 - mae: 1.0035 - mse: 4.3323 - val_loss: 0.7978 - val_mae: 0.7978 - val_mse: 2.8227\n",
            "Epoch 11/300\n",
            "10/10 [==============================] - 0s 4ms/step - loss: 1.0035 - mae: 1.0035 - mse: 4.3323 - val_loss: 0.7978 - val_mae: 0.7978 - val_mse: 2.8229\n",
            "Epoch 12/300\n",
            "10/10 [==============================] - 0s 4ms/step - loss: 1.0035 - mae: 1.0035 - mse: 4.3325 - val_loss: 0.7975 - val_mae: 0.7975 - val_mse: 2.8228\n",
            "Epoch 13/300\n",
            "10/10 [==============================] - 0s 4ms/step - loss: 1.0034 - mae: 1.0034 - mse: 4.3324 - val_loss: 0.7977 - val_mae: 0.7977 - val_mse: 2.8227\n",
            "Epoch 14/300\n",
            "10/10 [==============================] - 0s 4ms/step - loss: 1.0034 - mae: 1.0034 - mse: 4.3323 - val_loss: 0.7977 - val_mae: 0.7977 - val_mse: 2.8227\n",
            "Epoch 15/300\n",
            "10/10 [==============================] - 0s 3ms/step - loss: 1.0034 - mae: 1.0034 - mse: 4.3323 - val_loss: 0.7976 - val_mae: 0.7976 - val_mse: 2.8228\n",
            "Epoch 16/300\n",
            "10/10 [==============================] - 0s 4ms/step - loss: 1.0034 - mae: 1.0034 - mse: 4.3321 - val_loss: 0.7976 - val_mae: 0.7976 - val_mse: 2.8227\n",
            "Epoch 17/300\n",
            "10/10 [==============================] - 0s 5ms/step - loss: 1.0034 - mae: 1.0034 - mse: 4.3323 - val_loss: 0.7978 - val_mae: 0.7978 - val_mse: 2.8229\n",
            "Epoch 18/300\n",
            "10/10 [==============================] - 0s 4ms/step - loss: 1.0035 - mae: 1.0035 - mse: 4.3326 - val_loss: 0.7975 - val_mae: 0.7975 - val_mse: 2.8227\n",
            "Epoch 19/300\n",
            "10/10 [==============================] - 0s 4ms/step - loss: 1.0034 - mae: 1.0034 - mse: 4.3324 - val_loss: 0.7975 - val_mae: 0.7975 - val_mse: 2.8228\n",
            "Epoch 20/300\n",
            "10/10 [==============================] - 0s 3ms/step - loss: 1.0034 - mae: 1.0034 - mse: 4.3324 - val_loss: 0.7976 - val_mae: 0.7976 - val_mse: 2.8227\n",
            "Epoch 21/300\n",
            "10/10 [==============================] - 0s 4ms/step - loss: 1.0034 - mae: 1.0034 - mse: 4.3323 - val_loss: 0.7977 - val_mae: 0.7977 - val_mse: 2.8229\n",
            "Epoch 22/300\n",
            "10/10 [==============================] - 0s 4ms/step - loss: 1.0034 - mae: 1.0034 - mse: 4.3322 - val_loss: 0.7977 - val_mae: 0.7977 - val_mse: 2.8229\n",
            "Epoch 23/300\n",
            "10/10 [==============================] - 0s 4ms/step - loss: 1.0033 - mae: 1.0033 - mse: 4.3323 - val_loss: 0.7976 - val_mae: 0.7976 - val_mse: 2.8227\n",
            "Epoch 24/300\n",
            "10/10 [==============================] - 0s 4ms/step - loss: 1.0034 - mae: 1.0034 - mse: 4.3322 - val_loss: 0.7977 - val_mae: 0.7977 - val_mse: 2.8229\n",
            "Epoch 25/300\n",
            "10/10 [==============================] - 0s 4ms/step - loss: 1.0034 - mae: 1.0034 - mse: 4.3325 - val_loss: 0.7977 - val_mae: 0.7977 - val_mse: 2.8227\n",
            "Epoch 26/300\n",
            "10/10 [==============================] - 0s 4ms/step - loss: 1.0034 - mae: 1.0034 - mse: 4.3324 - val_loss: 0.7977 - val_mae: 0.7977 - val_mse: 2.8228\n",
            "Epoch 27/300\n",
            "10/10 [==============================] - 0s 4ms/step - loss: 1.0033 - mae: 1.0033 - mse: 4.3323 - val_loss: 0.7977 - val_mae: 0.7977 - val_mse: 2.8229\n",
            "Epoch 28/300\n",
            "10/10 [==============================] - 0s 5ms/step - loss: 1.0034 - mae: 1.0034 - mse: 4.3322 - val_loss: 0.7976 - val_mae: 0.7976 - val_mse: 2.8227\n",
            "Epoch 29/300\n",
            "10/10 [==============================] - 0s 4ms/step - loss: 1.0034 - mae: 1.0034 - mse: 4.3324 - val_loss: 0.7978 - val_mae: 0.7978 - val_mse: 2.8229\n",
            "Epoch 30/300\n",
            "10/10 [==============================] - 0s 4ms/step - loss: 1.0033 - mae: 1.0033 - mse: 4.3321 - val_loss: 0.7977 - val_mae: 0.7977 - val_mse: 2.8229\n",
            "Epoch 31/300\n",
            "10/10 [==============================] - 0s 4ms/step - loss: 1.0033 - mae: 1.0033 - mse: 4.3323 - val_loss: 0.7975 - val_mae: 0.7975 - val_mse: 2.8228\n",
            "Epoch 32/300\n",
            "10/10 [==============================] - 0s 4ms/step - loss: 1.0033 - mae: 1.0033 - mse: 4.3323 - val_loss: 0.7976 - val_mae: 0.7976 - val_mse: 2.8228\n",
            "Epoch 33/300\n",
            "10/10 [==============================] - 0s 4ms/step - loss: 1.0033 - mae: 1.0033 - mse: 4.3324 - val_loss: 0.7976 - val_mae: 0.7976 - val_mse: 2.8228\n",
            "Epoch 34/300\n",
            "10/10 [==============================] - 0s 4ms/step - loss: 1.0033 - mae: 1.0033 - mse: 4.3322 - val_loss: 0.7975 - val_mae: 0.7975 - val_mse: 2.8228\n",
            "Epoch 35/300\n",
            "10/10 [==============================] - 0s 4ms/step - loss: 1.0033 - mae: 1.0033 - mse: 4.3323 - val_loss: 0.7978 - val_mae: 0.7978 - val_mse: 2.8227\n",
            "Epoch 36/300\n",
            "10/10 [==============================] - 0s 4ms/step - loss: 1.0033 - mae: 1.0033 - mse: 4.3322 - val_loss: 0.7975 - val_mae: 0.7975 - val_mse: 2.8228\n",
            "Epoch 37/300\n",
            "10/10 [==============================] - 0s 5ms/step - loss: 1.0033 - mae: 1.0033 - mse: 4.3321 - val_loss: 0.7975 - val_mae: 0.7975 - val_mse: 2.8228\n",
            "Epoch 38/300\n",
            "10/10 [==============================] - 0s 4ms/step - loss: 1.0033 - mae: 1.0033 - mse: 4.3323 - val_loss: 0.7975 - val_mae: 0.7975 - val_mse: 2.8228\n",
            "Epoch 39/300\n",
            "10/10 [==============================] - 0s 4ms/step - loss: 1.0033 - mae: 1.0033 - mse: 4.3324 - val_loss: 0.7979 - val_mae: 0.7979 - val_mse: 2.8227\n",
            "Epoch 40/300\n",
            "10/10 [==============================] - 0s 4ms/step - loss: 1.0033 - mae: 1.0033 - mse: 4.3323 - val_loss: 0.7979 - val_mae: 0.7979 - val_mse: 2.8227\n",
            "Epoch 41/300\n",
            "10/10 [==============================] - 0s 5ms/step - loss: 1.0033 - mae: 1.0033 - mse: 4.3322 - val_loss: 0.7976 - val_mae: 0.7976 - val_mse: 2.8228\n",
            "Epoch 42/300\n",
            "10/10 [==============================] - 0s 4ms/step - loss: 1.0033 - mae: 1.0033 - mse: 4.3320 - val_loss: 0.7976 - val_mae: 0.7976 - val_mse: 2.8227\n",
            "Epoch 43/300\n",
            "10/10 [==============================] - 0s 5ms/step - loss: 1.0033 - mae: 1.0033 - mse: 4.3323 - val_loss: 0.7975 - val_mae: 0.7975 - val_mse: 2.8228\n",
            "Epoch 44/300\n",
            "10/10 [==============================] - 0s 4ms/step - loss: 1.0034 - mae: 1.0034 - mse: 4.3322 - val_loss: 0.7976 - val_mae: 0.7976 - val_mse: 2.8228\n",
            "Epoch 45/300\n",
            "10/10 [==============================] - 0s 4ms/step - loss: 1.0033 - mae: 1.0033 - mse: 4.3324 - val_loss: 0.7975 - val_mae: 0.7975 - val_mse: 2.8228\n",
            "Epoch 46/300\n",
            "10/10 [==============================] - 0s 4ms/step - loss: 1.0033 - mae: 1.0033 - mse: 4.3324 - val_loss: 0.7975 - val_mae: 0.7975 - val_mse: 2.8228\n",
            "Epoch 47/300\n",
            "10/10 [==============================] - 0s 4ms/step - loss: 1.0033 - mae: 1.0033 - mse: 4.3323 - val_loss: 0.7975 - val_mae: 0.7975 - val_mse: 2.8228\n",
            "Epoch 48/300\n",
            "10/10 [==============================] - 0s 4ms/step - loss: 1.0033 - mae: 1.0033 - mse: 4.3323 - val_loss: 0.7978 - val_mae: 0.7978 - val_mse: 2.8227\n",
            "Epoch 49/300\n",
            "10/10 [==============================] - 0s 4ms/step - loss: 1.0033 - mae: 1.0033 - mse: 4.3324 - val_loss: 0.7975 - val_mae: 0.7975 - val_mse: 2.8228\n",
            "Epoch 50/300\n",
            "10/10 [==============================] - 0s 4ms/step - loss: 1.0033 - mae: 1.0033 - mse: 4.3323 - val_loss: 0.7977 - val_mae: 0.7977 - val_mse: 2.8227\n",
            "Epoch 51/300\n",
            "10/10 [==============================] - 0s 3ms/step - loss: 1.0033 - mae: 1.0033 - mse: 4.3322 - val_loss: 0.7976 - val_mae: 0.7976 - val_mse: 2.8228\n",
            "Epoch 52/300\n",
            "10/10 [==============================] - 0s 3ms/step - loss: 1.0033 - mae: 1.0033 - mse: 4.3323 - val_loss: 0.7977 - val_mae: 0.7977 - val_mse: 2.8229\n",
            "Epoch 53/300\n",
            "10/10 [==============================] - 0s 4ms/step - loss: 1.0033 - mae: 1.0033 - mse: 4.3323 - val_loss: 0.7975 - val_mae: 0.7975 - val_mse: 2.8228\n",
            "Epoch 54/300\n",
            "10/10 [==============================] - 0s 4ms/step - loss: 1.0033 - mae: 1.0033 - mse: 4.3324 - val_loss: 0.7976 - val_mae: 0.7976 - val_mse: 2.8228\n",
            "Epoch 55/300\n",
            "10/10 [==============================] - 0s 4ms/step - loss: 1.0033 - mae: 1.0033 - mse: 4.3324 - val_loss: 0.7975 - val_mae: 0.7975 - val_mse: 2.8228\n",
            "Epoch 56/300\n",
            "10/10 [==============================] - 0s 4ms/step - loss: 1.0033 - mae: 1.0033 - mse: 4.3324 - val_loss: 0.7976 - val_mae: 0.7976 - val_mse: 2.8227\n",
            "Epoch 57/300\n",
            "10/10 [==============================] - 0s 5ms/step - loss: 1.0033 - mae: 1.0033 - mse: 4.3324 - val_loss: 0.7976 - val_mae: 0.7976 - val_mse: 2.8228\n",
            "Epoch 58/300\n",
            "10/10 [==============================] - 0s 4ms/step - loss: 1.0033 - mae: 1.0033 - mse: 4.3323 - val_loss: 0.7977 - val_mae: 0.7977 - val_mse: 2.8229\n",
            "Epoch 59/300\n",
            "10/10 [==============================] - 0s 4ms/step - loss: 1.0033 - mae: 1.0033 - mse: 4.3324 - val_loss: 0.7976 - val_mae: 0.7976 - val_mse: 2.8227\n",
            "Epoch 60/300\n",
            "10/10 [==============================] - 0s 5ms/step - loss: 1.0033 - mae: 1.0033 - mse: 4.3324 - val_loss: 0.7977 - val_mae: 0.7977 - val_mse: 2.8227\n",
            "Epoch 61/300\n",
            "10/10 [==============================] - 0s 5ms/step - loss: 1.0033 - mae: 1.0033 - mse: 4.3323 - val_loss: 0.7977 - val_mae: 0.7977 - val_mse: 2.8229\n",
            "Epoch 62/300\n",
            "10/10 [==============================] - 0s 4ms/step - loss: 1.0033 - mae: 1.0033 - mse: 4.3323 - val_loss: 0.7976 - val_mae: 0.7976 - val_mse: 2.8227\n",
            "Epoch 63/300\n",
            "10/10 [==============================] - 0s 4ms/step - loss: 1.0033 - mae: 1.0033 - mse: 4.3324 - val_loss: 0.7976 - val_mae: 0.7976 - val_mse: 2.8228\n",
            "Epoch 64/300\n",
            "10/10 [==============================] - 0s 4ms/step - loss: 1.0033 - mae: 1.0033 - mse: 4.3323 - val_loss: 0.7977 - val_mae: 0.7977 - val_mse: 2.8229\n",
            "Epoch 65/300\n",
            "10/10 [==============================] - 0s 5ms/step - loss: 1.0033 - mae: 1.0033 - mse: 4.3323 - val_loss: 0.7975 - val_mae: 0.7975 - val_mse: 2.8228\n",
            "Epoch 66/300\n",
            "10/10 [==============================] - 0s 5ms/step - loss: 1.0033 - mae: 1.0033 - mse: 4.3323 - val_loss: 0.7976 - val_mae: 0.7976 - val_mse: 2.8228\n",
            "Epoch 67/300\n",
            "10/10 [==============================] - 0s 4ms/step - loss: 1.0032 - mae: 1.0032 - mse: 4.3323 - val_loss: 0.7976 - val_mae: 0.7976 - val_mse: 2.8228\n",
            "Epoch 68/300\n",
            "10/10 [==============================] - 0s 5ms/step - loss: 1.0033 - mae: 1.0033 - mse: 4.3323 - val_loss: 0.7976 - val_mae: 0.7976 - val_mse: 2.8227\n",
            "Epoch 69/300\n",
            "10/10 [==============================] - 0s 4ms/step - loss: 1.0033 - mae: 1.0033 - mse: 4.3322 - val_loss: 0.7976 - val_mae: 0.7976 - val_mse: 2.8228\n",
            "Epoch 70/300\n",
            "10/10 [==============================] - 0s 4ms/step - loss: 1.0033 - mae: 1.0033 - mse: 4.3323 - val_loss: 0.7975 - val_mae: 0.7975 - val_mse: 2.8228\n",
            "Epoch 71/300\n",
            "10/10 [==============================] - 0s 4ms/step - loss: 1.0032 - mae: 1.0032 - mse: 4.3322 - val_loss: 0.7976 - val_mae: 0.7976 - val_mse: 2.8227\n",
            "Epoch 72/300\n",
            "10/10 [==============================] - 0s 3ms/step - loss: 1.0033 - mae: 1.0033 - mse: 4.3323 - val_loss: 0.7975 - val_mae: 0.7975 - val_mse: 2.8228\n",
            "Epoch 73/300\n",
            "10/10 [==============================] - 0s 3ms/step - loss: 1.0032 - mae: 1.0032 - mse: 4.3321 - val_loss: 0.7976 - val_mae: 0.7976 - val_mse: 2.8228\n",
            "Epoch 74/300\n",
            "10/10 [==============================] - 0s 4ms/step - loss: 1.0033 - mae: 1.0033 - mse: 4.3324 - val_loss: 0.7975 - val_mae: 0.7975 - val_mse: 2.8228\n",
            "Epoch 75/300\n",
            "10/10 [==============================] - 0s 4ms/step - loss: 1.0033 - mae: 1.0033 - mse: 4.3324 - val_loss: 0.7975 - val_mae: 0.7975 - val_mse: 2.8228\n",
            "Epoch 76/300\n",
            "10/10 [==============================] - 0s 4ms/step - loss: 1.0033 - mae: 1.0033 - mse: 4.3323 - val_loss: 0.7975 - val_mae: 0.7975 - val_mse: 2.8228\n",
            "Epoch 77/300\n",
            "10/10 [==============================] - 0s 4ms/step - loss: 1.0033 - mae: 1.0033 - mse: 4.3323 - val_loss: 0.7978 - val_mae: 0.7978 - val_mse: 2.8227\n",
            "Epoch 78/300\n",
            "10/10 [==============================] - 0s 5ms/step - loss: 1.0033 - mae: 1.0033 - mse: 4.3323 - val_loss: 0.7977 - val_mae: 0.7977 - val_mse: 2.8229\n",
            "Epoch 79/300\n",
            "10/10 [==============================] - 0s 4ms/step - loss: 1.0033 - mae: 1.0033 - mse: 4.3323 - val_loss: 0.7978 - val_mae: 0.7978 - val_mse: 2.8227\n",
            "Epoch 80/300\n",
            "10/10 [==============================] - 0s 4ms/step - loss: 1.0033 - mae: 1.0033 - mse: 4.3323 - val_loss: 0.7976 - val_mae: 0.7976 - val_mse: 2.8227\n",
            "Epoch 81/300\n",
            "10/10 [==============================] - 0s 4ms/step - loss: 1.0033 - mae: 1.0033 - mse: 4.3323 - val_loss: 0.7978 - val_mae: 0.7978 - val_mse: 2.8227\n",
            "Epoch 82/300\n",
            "10/10 [==============================] - 0s 4ms/step - loss: 1.0033 - mae: 1.0033 - mse: 4.3323 - val_loss: 0.7977 - val_mae: 0.7977 - val_mse: 2.8227\n",
            "Epoch 83/300\n",
            "10/10 [==============================] - 0s 4ms/step - loss: 1.0033 - mae: 1.0033 - mse: 4.3323 - val_loss: 0.7975 - val_mae: 0.7975 - val_mse: 2.8228\n",
            "Epoch 84/300\n",
            "10/10 [==============================] - 0s 3ms/step - loss: 1.0033 - mae: 1.0033 - mse: 4.3323 - val_loss: 0.7975 - val_mae: 0.7975 - val_mse: 2.8228\n",
            "Epoch 85/300\n",
            "10/10 [==============================] - 0s 5ms/step - loss: 1.0032 - mae: 1.0032 - mse: 4.3323 - val_loss: 0.7975 - val_mae: 0.7975 - val_mse: 2.8228\n",
            "Epoch 86/300\n",
            "10/10 [==============================] - 0s 4ms/step - loss: 1.0032 - mae: 1.0032 - mse: 4.3323 - val_loss: 0.7976 - val_mae: 0.7976 - val_mse: 2.8228\n",
            "Epoch 87/300\n",
            "10/10 [==============================] - 0s 4ms/step - loss: 1.0033 - mae: 1.0033 - mse: 4.3324 - val_loss: 0.7977 - val_mae: 0.7977 - val_mse: 2.8229\n",
            "Epoch 88/300\n",
            "10/10 [==============================] - 0s 4ms/step - loss: 1.0033 - mae: 1.0033 - mse: 4.3323 - val_loss: 0.7977 - val_mae: 0.7977 - val_mse: 2.8229\n",
            "Epoch 89/300\n",
            "10/10 [==============================] - 0s 4ms/step - loss: 1.0033 - mae: 1.0033 - mse: 4.3324 - val_loss: 0.7976 - val_mae: 0.7976 - val_mse: 2.8227\n",
            "Epoch 90/300\n",
            "10/10 [==============================] - 0s 4ms/step - loss: 1.0033 - mae: 1.0033 - mse: 4.3324 - val_loss: 0.7975 - val_mae: 0.7975 - val_mse: 2.8228\n",
            "Epoch 91/300\n",
            "10/10 [==============================] - 0s 4ms/step - loss: 1.0033 - mae: 1.0033 - mse: 4.3322 - val_loss: 0.7975 - val_mae: 0.7975 - val_mse: 2.8228\n",
            "Epoch 92/300\n",
            "10/10 [==============================] - 0s 4ms/step - loss: 1.0032 - mae: 1.0032 - mse: 4.3323 - val_loss: 0.7976 - val_mae: 0.7976 - val_mse: 2.8228\n",
            "Epoch 93/300\n",
            "10/10 [==============================] - 0s 4ms/step - loss: 1.0033 - mae: 1.0033 - mse: 4.3323 - val_loss: 0.7976 - val_mae: 0.7976 - val_mse: 2.8228\n",
            "Epoch 94/300\n",
            "10/10 [==============================] - 0s 4ms/step - loss: 1.0033 - mae: 1.0033 - mse: 4.3322 - val_loss: 0.7975 - val_mae: 0.7975 - val_mse: 2.8228\n",
            "Epoch 95/300\n",
            "10/10 [==============================] - 0s 4ms/step - loss: 1.0033 - mae: 1.0033 - mse: 4.3323 - val_loss: 0.7976 - val_mae: 0.7976 - val_mse: 2.8228\n",
            "Epoch 96/300\n",
            "10/10 [==============================] - 0s 4ms/step - loss: 1.0033 - mae: 1.0033 - mse: 4.3323 - val_loss: 0.7976 - val_mae: 0.7976 - val_mse: 2.8228\n",
            "Epoch 97/300\n",
            "10/10 [==============================] - 0s 3ms/step - loss: 1.0033 - mae: 1.0033 - mse: 4.3323 - val_loss: 0.7976 - val_mae: 0.7976 - val_mse: 2.8228\n",
            "Epoch 98/300\n",
            "10/10 [==============================] - 0s 4ms/step - loss: 1.0033 - mae: 1.0033 - mse: 4.3323 - val_loss: 0.7975 - val_mae: 0.7975 - val_mse: 2.8228\n",
            "Epoch 99/300\n",
            "10/10 [==============================] - 0s 4ms/step - loss: 1.0032 - mae: 1.0032 - mse: 4.3323 - val_loss: 0.7976 - val_mae: 0.7976 - val_mse: 2.8228\n",
            "Epoch 100/300\n",
            "10/10 [==============================] - 0s 4ms/step - loss: 1.0033 - mae: 1.0033 - mse: 4.3323 - val_loss: 0.7976 - val_mae: 0.7976 - val_mse: 2.8228\n",
            "Epoch 101/300\n",
            "10/10 [==============================] - 0s 4ms/step - loss: 1.0032 - mae: 1.0032 - mse: 4.3323 - val_loss: 0.7976 - val_mae: 0.7976 - val_mse: 2.8228\n",
            "Epoch 102/300\n",
            "10/10 [==============================] - 0s 4ms/step - loss: 1.0033 - mae: 1.0033 - mse: 4.3323 - val_loss: 0.7976 - val_mae: 0.7976 - val_mse: 2.8228\n",
            "Epoch 103/300\n",
            "10/10 [==============================] - 0s 4ms/step - loss: 1.0032 - mae: 1.0032 - mse: 4.3322 - val_loss: 0.7975 - val_mae: 0.7975 - val_mse: 2.8228\n",
            "Epoch 104/300\n",
            "10/10 [==============================] - 0s 4ms/step - loss: 1.0032 - mae: 1.0032 - mse: 4.3322 - val_loss: 0.7975 - val_mae: 0.7975 - val_mse: 2.8228\n",
            "Epoch 105/300\n",
            "10/10 [==============================] - 0s 4ms/step - loss: 1.0033 - mae: 1.0033 - mse: 4.3323 - val_loss: 0.7976 - val_mae: 0.7976 - val_mse: 2.8228\n",
            "Epoch 106/300\n",
            "10/10 [==============================] - 0s 4ms/step - loss: 1.0032 - mae: 1.0032 - mse: 4.3323 - val_loss: 0.7975 - val_mae: 0.7975 - val_mse: 2.8228\n",
            "Epoch 107/300\n",
            "10/10 [==============================] - 0s 3ms/step - loss: 1.0033 - mae: 1.0033 - mse: 4.3323 - val_loss: 0.7975 - val_mae: 0.7975 - val_mse: 2.8228\n",
            "Epoch 108/300\n",
            "10/10 [==============================] - 0s 4ms/step - loss: 1.0032 - mae: 1.0032 - mse: 4.3323 - val_loss: 0.7976 - val_mae: 0.7976 - val_mse: 2.8227\n",
            "Epoch 109/300\n",
            "10/10 [==============================] - 0s 4ms/step - loss: 1.0033 - mae: 1.0033 - mse: 4.3323 - val_loss: 0.7977 - val_mae: 0.7977 - val_mse: 2.8227\n",
            "Epoch 110/300\n",
            "10/10 [==============================] - 0s 4ms/step - loss: 1.0033 - mae: 1.0033 - mse: 4.3323 - val_loss: 0.7975 - val_mae: 0.7975 - val_mse: 2.8228\n",
            "Epoch 111/300\n",
            "10/10 [==============================] - 0s 3ms/step - loss: 1.0033 - mae: 1.0033 - mse: 4.3323 - val_loss: 0.7975 - val_mae: 0.7975 - val_mse: 2.8228\n",
            "Epoch 112/300\n",
            "10/10 [==============================] - 0s 4ms/step - loss: 1.0033 - mae: 1.0033 - mse: 4.3323 - val_loss: 0.7978 - val_mae: 0.7978 - val_mse: 2.8229\n",
            "Epoch 113/300\n",
            "10/10 [==============================] - 0s 4ms/step - loss: 1.0033 - mae: 1.0033 - mse: 4.3323 - val_loss: 0.7975 - val_mae: 0.7975 - val_mse: 2.8228\n",
            "Epoch 114/300\n",
            "10/10 [==============================] - 0s 4ms/step - loss: 1.0033 - mae: 1.0033 - mse: 4.3323 - val_loss: 0.7976 - val_mae: 0.7976 - val_mse: 2.8228\n",
            "Epoch 115/300\n",
            "10/10 [==============================] - 0s 4ms/step - loss: 1.0033 - mae: 1.0033 - mse: 4.3323 - val_loss: 0.7975 - val_mae: 0.7975 - val_mse: 2.8228\n",
            "Epoch 116/300\n",
            "10/10 [==============================] - 0s 4ms/step - loss: 1.0032 - mae: 1.0032 - mse: 4.3323 - val_loss: 0.7975 - val_mae: 0.7975 - val_mse: 2.8228\n",
            "Epoch 117/300\n",
            "10/10 [==============================] - 0s 3ms/step - loss: 1.0032 - mae: 1.0032 - mse: 4.3323 - val_loss: 0.7975 - val_mae: 0.7975 - val_mse: 2.8228\n",
            "Epoch 118/300\n",
            "10/10 [==============================] - 0s 4ms/step - loss: 1.0033 - mae: 1.0033 - mse: 4.3324 - val_loss: 0.7977 - val_mae: 0.7977 - val_mse: 2.8229\n",
            "Epoch 119/300\n",
            "10/10 [==============================] - 0s 4ms/step - loss: 1.0033 - mae: 1.0033 - mse: 4.3323 - val_loss: 0.7976 - val_mae: 0.7976 - val_mse: 2.8228\n",
            "Epoch 120/300\n",
            "10/10 [==============================] - 0s 4ms/step - loss: 1.0033 - mae: 1.0033 - mse: 4.3323 - val_loss: 0.7975 - val_mae: 0.7975 - val_mse: 2.8228\n",
            "Epoch 121/300\n",
            "10/10 [==============================] - 0s 4ms/step - loss: 1.0032 - mae: 1.0032 - mse: 4.3323 - val_loss: 0.7976 - val_mae: 0.7976 - val_mse: 2.8227\n",
            "Epoch 122/300\n",
            "10/10 [==============================] - 0s 4ms/step - loss: 1.0033 - mae: 1.0033 - mse: 4.3322 - val_loss: 0.7976 - val_mae: 0.7976 - val_mse: 2.8228\n",
            "Epoch 123/300\n",
            "10/10 [==============================] - 0s 4ms/step - loss: 1.0033 - mae: 1.0033 - mse: 4.3323 - val_loss: 0.7976 - val_mae: 0.7976 - val_mse: 2.8227\n",
            "Epoch 124/300\n",
            "10/10 [==============================] - 0s 4ms/step - loss: 1.0033 - mae: 1.0033 - mse: 4.3323 - val_loss: 0.7975 - val_mae: 0.7975 - val_mse: 2.8228\n",
            "Epoch 125/300\n",
            "10/10 [==============================] - 0s 4ms/step - loss: 1.0033 - mae: 1.0033 - mse: 4.3323 - val_loss: 0.7975 - val_mae: 0.7975 - val_mse: 2.8228\n",
            "Epoch 126/300\n",
            "10/10 [==============================] - 0s 4ms/step - loss: 1.0033 - mae: 1.0033 - mse: 4.3323 - val_loss: 0.7975 - val_mae: 0.7975 - val_mse: 2.8228\n",
            "Epoch 127/300\n",
            "10/10 [==============================] - 0s 4ms/step - loss: 1.0033 - mae: 1.0033 - mse: 4.3323 - val_loss: 0.7975 - val_mae: 0.7975 - val_mse: 2.8228\n",
            "Epoch 128/300\n",
            "10/10 [==============================] - 0s 4ms/step - loss: 1.0033 - mae: 1.0033 - mse: 4.3323 - val_loss: 0.7975 - val_mae: 0.7975 - val_mse: 2.8228\n",
            "Epoch 129/300\n",
            "10/10 [==============================] - 0s 4ms/step - loss: 1.0032 - mae: 1.0032 - mse: 4.3323 - val_loss: 0.7975 - val_mae: 0.7975 - val_mse: 2.8228\n",
            "Epoch 130/300\n",
            "10/10 [==============================] - 0s 4ms/step - loss: 1.0033 - mae: 1.0033 - mse: 4.3324 - val_loss: 0.7976 - val_mae: 0.7976 - val_mse: 2.8228\n",
            "Epoch 131/300\n",
            "10/10 [==============================] - 0s 7ms/step - loss: 1.0032 - mae: 1.0032 - mse: 4.3322 - val_loss: 0.7976 - val_mae: 0.7976 - val_mse: 2.8228\n",
            "Epoch 132/300\n",
            "10/10 [==============================] - 0s 4ms/step - loss: 1.0032 - mae: 1.0032 - mse: 4.3323 - val_loss: 0.7976 - val_mae: 0.7976 - val_mse: 2.8227\n",
            "Epoch 133/300\n",
            "10/10 [==============================] - 0s 4ms/step - loss: 1.0033 - mae: 1.0033 - mse: 4.3323 - val_loss: 0.7976 - val_mae: 0.7976 - val_mse: 2.8227\n",
            "Epoch 134/300\n",
            "10/10 [==============================] - 0s 4ms/step - loss: 1.0033 - mae: 1.0033 - mse: 4.3323 - val_loss: 0.7975 - val_mae: 0.7975 - val_mse: 2.8228\n",
            "Epoch 135/300\n",
            "10/10 [==============================] - 0s 3ms/step - loss: 1.0032 - mae: 1.0032 - mse: 4.3323 - val_loss: 0.7976 - val_mae: 0.7976 - val_mse: 2.8227\n",
            "Epoch 136/300\n",
            "10/10 [==============================] - 0s 4ms/step - loss: 1.0032 - mae: 1.0032 - mse: 4.3323 - val_loss: 0.7975 - val_mae: 0.7975 - val_mse: 2.8228\n",
            "Epoch 137/300\n",
            "10/10 [==============================] - 0s 4ms/step - loss: 1.0032 - mae: 1.0032 - mse: 4.3323 - val_loss: 0.7976 - val_mae: 0.7976 - val_mse: 2.8228\n",
            "Epoch 138/300\n",
            "10/10 [==============================] - 0s 4ms/step - loss: 1.0032 - mae: 1.0032 - mse: 4.3323 - val_loss: 0.7976 - val_mae: 0.7976 - val_mse: 2.8228\n",
            "Epoch 139/300\n",
            "10/10 [==============================] - 0s 4ms/step - loss: 1.0033 - mae: 1.0033 - mse: 4.3323 - val_loss: 0.7976 - val_mae: 0.7976 - val_mse: 2.8227\n",
            "Epoch 140/300\n",
            "10/10 [==============================] - 0s 4ms/step - loss: 1.0033 - mae: 1.0033 - mse: 4.3323 - val_loss: 0.7976 - val_mae: 0.7976 - val_mse: 2.8228\n",
            "Epoch 141/300\n",
            "10/10 [==============================] - 0s 6ms/step - loss: 1.0032 - mae: 1.0032 - mse: 4.3323 - val_loss: 0.7976 - val_mae: 0.7976 - val_mse: 2.8228\n",
            "Epoch 142/300\n",
            "10/10 [==============================] - 0s 3ms/step - loss: 1.0032 - mae: 1.0032 - mse: 4.3323 - val_loss: 0.7976 - val_mae: 0.7976 - val_mse: 2.8228\n",
            "Epoch 143/300\n",
            "10/10 [==============================] - 0s 5ms/step - loss: 1.0033 - mae: 1.0033 - mse: 4.3323 - val_loss: 0.7975 - val_mae: 0.7975 - val_mse: 2.8228\n",
            "Epoch 144/300\n",
            "10/10 [==============================] - 0s 4ms/step - loss: 1.0033 - mae: 1.0033 - mse: 4.3323 - val_loss: 0.7977 - val_mae: 0.7977 - val_mse: 2.8227\n",
            "Epoch 145/300\n",
            "10/10 [==============================] - 0s 4ms/step - loss: 1.0033 - mae: 1.0033 - mse: 4.3323 - val_loss: 0.7975 - val_mae: 0.7975 - val_mse: 2.8228\n",
            "Epoch 146/300\n",
            "10/10 [==============================] - 0s 4ms/step - loss: 1.0032 - mae: 1.0032 - mse: 4.3323 - val_loss: 0.7975 - val_mae: 0.7975 - val_mse: 2.8228\n",
            "Epoch 147/300\n",
            "10/10 [==============================] - 0s 4ms/step - loss: 1.0033 - mae: 1.0033 - mse: 4.3324 - val_loss: 0.7975 - val_mae: 0.7975 - val_mse: 2.8228\n",
            "Epoch 148/300\n",
            "10/10 [==============================] - 0s 4ms/step - loss: 1.0033 - mae: 1.0033 - mse: 4.3323 - val_loss: 0.7975 - val_mae: 0.7975 - val_mse: 2.8228\n",
            "Epoch 149/300\n",
            "10/10 [==============================] - 0s 4ms/step - loss: 1.0032 - mae: 1.0032 - mse: 4.3323 - val_loss: 0.7976 - val_mae: 0.7976 - val_mse: 2.8227\n",
            "Epoch 150/300\n",
            "10/10 [==============================] - 0s 4ms/step - loss: 1.0033 - mae: 1.0033 - mse: 4.3322 - val_loss: 0.7975 - val_mae: 0.7975 - val_mse: 2.8228\n",
            "Epoch 151/300\n",
            "10/10 [==============================] - 0s 4ms/step - loss: 1.0032 - mae: 1.0032 - mse: 4.3323 - val_loss: 0.7975 - val_mae: 0.7975 - val_mse: 2.8228\n",
            "Epoch 152/300\n",
            "10/10 [==============================] - 0s 4ms/step - loss: 1.0032 - mae: 1.0032 - mse: 4.3323 - val_loss: 0.7975 - val_mae: 0.7975 - val_mse: 2.8228\n",
            "Epoch 153/300\n",
            "10/10 [==============================] - 0s 3ms/step - loss: 1.0032 - mae: 1.0032 - mse: 4.3323 - val_loss: 0.7975 - val_mae: 0.7975 - val_mse: 2.8228\n",
            "Epoch 154/300\n",
            "10/10 [==============================] - 0s 4ms/step - loss: 1.0032 - mae: 1.0032 - mse: 4.3323 - val_loss: 0.7976 - val_mae: 0.7976 - val_mse: 2.8227\n",
            "Epoch 155/300\n",
            "10/10 [==============================] - 0s 4ms/step - loss: 1.0032 - mae: 1.0032 - mse: 4.3324 - val_loss: 0.7976 - val_mae: 0.7976 - val_mse: 2.8227\n",
            "Epoch 156/300\n",
            "10/10 [==============================] - 0s 4ms/step - loss: 1.0033 - mae: 1.0033 - mse: 4.3323 - val_loss: 0.7975 - val_mae: 0.7975 - val_mse: 2.8228\n",
            "Epoch 157/300\n",
            "10/10 [==============================] - 0s 4ms/step - loss: 1.0032 - mae: 1.0032 - mse: 4.3323 - val_loss: 0.7975 - val_mae: 0.7975 - val_mse: 2.8228\n",
            "Epoch 158/300\n",
            "10/10 [==============================] - 0s 4ms/step - loss: 1.0032 - mae: 1.0032 - mse: 4.3322 - val_loss: 0.7975 - val_mae: 0.7975 - val_mse: 2.8228\n",
            "Epoch 159/300\n",
            "10/10 [==============================] - 0s 6ms/step - loss: 1.0032 - mae: 1.0032 - mse: 4.3323 - val_loss: 0.7976 - val_mae: 0.7976 - val_mse: 2.8228\n",
            "Epoch 160/300\n",
            "10/10 [==============================] - 0s 4ms/step - loss: 1.0032 - mae: 1.0032 - mse: 4.3323 - val_loss: 0.7975 - val_mae: 0.7975 - val_mse: 2.8228\n",
            "Epoch 161/300\n",
            "10/10 [==============================] - 0s 4ms/step - loss: 1.0032 - mae: 1.0032 - mse: 4.3323 - val_loss: 0.7976 - val_mae: 0.7976 - val_mse: 2.8228\n",
            "Epoch 162/300\n",
            "10/10 [==============================] - 0s 4ms/step - loss: 1.0032 - mae: 1.0032 - mse: 4.3322 - val_loss: 0.7976 - val_mae: 0.7976 - val_mse: 2.8228\n",
            "Epoch 163/300\n",
            "10/10 [==============================] - 0s 4ms/step - loss: 1.0033 - mae: 1.0033 - mse: 4.3323 - val_loss: 0.7977 - val_mae: 0.7977 - val_mse: 2.8227\n",
            "Epoch 164/300\n",
            "10/10 [==============================] - 0s 5ms/step - loss: 1.0032 - mae: 1.0032 - mse: 4.3323 - val_loss: 0.7975 - val_mae: 0.7975 - val_mse: 2.8228\n",
            "Epoch 165/300\n",
            "10/10 [==============================] - 0s 4ms/step - loss: 1.0032 - mae: 1.0032 - mse: 4.3323 - val_loss: 0.7976 - val_mae: 0.7976 - val_mse: 2.8228\n",
            "Epoch 166/300\n",
            "10/10 [==============================] - 0s 5ms/step - loss: 1.0032 - mae: 1.0032 - mse: 4.3323 - val_loss: 0.7975 - val_mae: 0.7975 - val_mse: 2.8228\n",
            "Epoch 167/300\n",
            "10/10 [==============================] - 0s 5ms/step - loss: 1.0032 - mae: 1.0032 - mse: 4.3322 - val_loss: 0.7975 - val_mae: 0.7975 - val_mse: 2.8228\n",
            "Epoch 168/300\n",
            "10/10 [==============================] - 0s 4ms/step - loss: 1.0033 - mae: 1.0033 - mse: 4.3323 - val_loss: 0.7975 - val_mae: 0.7975 - val_mse: 2.8228\n",
            "Epoch 169/300\n",
            "10/10 [==============================] - 0s 4ms/step - loss: 1.0032 - mae: 1.0032 - mse: 4.3323 - val_loss: 0.7976 - val_mae: 0.7976 - val_mse: 2.8228\n",
            "Epoch 170/300\n",
            "10/10 [==============================] - 0s 4ms/step - loss: 1.0032 - mae: 1.0032 - mse: 4.3323 - val_loss: 0.7975 - val_mae: 0.7975 - val_mse: 2.8228\n",
            "Epoch 171/300\n",
            "10/10 [==============================] - 0s 4ms/step - loss: 1.0032 - mae: 1.0032 - mse: 4.3323 - val_loss: 0.7977 - val_mae: 0.7977 - val_mse: 2.8227\n",
            "Epoch 172/300\n",
            "10/10 [==============================] - 0s 4ms/step - loss: 1.0032 - mae: 1.0032 - mse: 4.3322 - val_loss: 0.7975 - val_mae: 0.7975 - val_mse: 2.8228\n",
            "Epoch 173/300\n",
            "10/10 [==============================] - 0s 4ms/step - loss: 1.0032 - mae: 1.0032 - mse: 4.3323 - val_loss: 0.7977 - val_mae: 0.7977 - val_mse: 2.8227\n",
            "Epoch 174/300\n",
            "10/10 [==============================] - 0s 5ms/step - loss: 1.0033 - mae: 1.0033 - mse: 4.3323 - val_loss: 0.7976 - val_mae: 0.7976 - val_mse: 2.8228\n",
            "Epoch 175/300\n",
            "10/10 [==============================] - 0s 4ms/step - loss: 1.0032 - mae: 1.0032 - mse: 4.3324 - val_loss: 0.7975 - val_mae: 0.7975 - val_mse: 2.8228\n",
            "Epoch 176/300\n",
            "10/10 [==============================] - 0s 4ms/step - loss: 1.0033 - mae: 1.0033 - mse: 4.3323 - val_loss: 0.7976 - val_mae: 0.7976 - val_mse: 2.8227\n",
            "Epoch 177/300\n",
            "10/10 [==============================] - 0s 4ms/step - loss: 1.0033 - mae: 1.0033 - mse: 4.3323 - val_loss: 0.7975 - val_mae: 0.7975 - val_mse: 2.8228\n",
            "Epoch 178/300\n",
            "10/10 [==============================] - 0s 5ms/step - loss: 1.0032 - mae: 1.0032 - mse: 4.3323 - val_loss: 0.7975 - val_mae: 0.7975 - val_mse: 2.8228\n",
            "Epoch 179/300\n",
            "10/10 [==============================] - 0s 4ms/step - loss: 1.0032 - mae: 1.0032 - mse: 4.3324 - val_loss: 0.7975 - val_mae: 0.7975 - val_mse: 2.8228\n",
            "Epoch 180/300\n",
            "10/10 [==============================] - 0s 4ms/step - loss: 1.0032 - mae: 1.0032 - mse: 4.3323 - val_loss: 0.7975 - val_mae: 0.7975 - val_mse: 2.8228\n",
            "Epoch 181/300\n",
            "10/10 [==============================] - 0s 4ms/step - loss: 1.0032 - mae: 1.0032 - mse: 4.3323 - val_loss: 0.7976 - val_mae: 0.7976 - val_mse: 2.8228\n",
            "Epoch 182/300\n",
            "10/10 [==============================] - 0s 4ms/step - loss: 1.0032 - mae: 1.0032 - mse: 4.3323 - val_loss: 0.7975 - val_mae: 0.7975 - val_mse: 2.8228\n",
            "Epoch 183/300\n",
            "10/10 [==============================] - 0s 4ms/step - loss: 1.0032 - mae: 1.0032 - mse: 4.3323 - val_loss: 0.7976 - val_mae: 0.7976 - val_mse: 2.8228\n",
            "Epoch 184/300\n",
            "10/10 [==============================] - 0s 4ms/step - loss: 1.0032 - mae: 1.0032 - mse: 4.3323 - val_loss: 0.7975 - val_mae: 0.7975 - val_mse: 2.8228\n",
            "Epoch 185/300\n",
            "10/10 [==============================] - 0s 4ms/step - loss: 1.0032 - mae: 1.0032 - mse: 4.3323 - val_loss: 0.7976 - val_mae: 0.7976 - val_mse: 2.8228\n",
            "Epoch 186/300\n",
            "10/10 [==============================] - 0s 4ms/step - loss: 1.0032 - mae: 1.0032 - mse: 4.3323 - val_loss: 0.7976 - val_mae: 0.7976 - val_mse: 2.8227\n",
            "Epoch 187/300\n",
            "10/10 [==============================] - 0s 5ms/step - loss: 1.0032 - mae: 1.0032 - mse: 4.3323 - val_loss: 0.7976 - val_mae: 0.7976 - val_mse: 2.8228\n",
            "Epoch 188/300\n",
            "10/10 [==============================] - 0s 4ms/step - loss: 1.0032 - mae: 1.0032 - mse: 4.3323 - val_loss: 0.7976 - val_mae: 0.7976 - val_mse: 2.8228\n",
            "Epoch 189/300\n",
            "10/10 [==============================] - 0s 4ms/step - loss: 1.0032 - mae: 1.0032 - mse: 4.3323 - val_loss: 0.7976 - val_mae: 0.7976 - val_mse: 2.8228\n",
            "Epoch 190/300\n",
            "10/10 [==============================] - 0s 4ms/step - loss: 1.0032 - mae: 1.0032 - mse: 4.3323 - val_loss: 0.7975 - val_mae: 0.7975 - val_mse: 2.8228\n",
            "Epoch 191/300\n",
            "10/10 [==============================] - 0s 4ms/step - loss: 1.0032 - mae: 1.0032 - mse: 4.3323 - val_loss: 0.7975 - val_mae: 0.7975 - val_mse: 2.8228\n",
            "Epoch 192/300\n",
            "10/10 [==============================] - 0s 4ms/step - loss: 1.0032 - mae: 1.0032 - mse: 4.3323 - val_loss: 0.7975 - val_mae: 0.7975 - val_mse: 2.8228\n",
            "Epoch 193/300\n",
            "10/10 [==============================] - 0s 4ms/step - loss: 1.0032 - mae: 1.0032 - mse: 4.3322 - val_loss: 0.7976 - val_mae: 0.7976 - val_mse: 2.8227\n",
            "Epoch 194/300\n",
            "10/10 [==============================] - 0s 5ms/step - loss: 1.0032 - mae: 1.0032 - mse: 4.3323 - val_loss: 0.7975 - val_mae: 0.7975 - val_mse: 2.8228\n",
            "Epoch 195/300\n",
            "10/10 [==============================] - 0s 5ms/step - loss: 1.0032 - mae: 1.0032 - mse: 4.3323 - val_loss: 0.7975 - val_mae: 0.7975 - val_mse: 2.8228\n",
            "Epoch 196/300\n",
            "10/10 [==============================] - 0s 4ms/step - loss: 1.0032 - mae: 1.0032 - mse: 4.3323 - val_loss: 0.7976 - val_mae: 0.7976 - val_mse: 2.8227\n",
            "Epoch 197/300\n",
            "10/10 [==============================] - 0s 5ms/step - loss: 1.0032 - mae: 1.0032 - mse: 4.3323 - val_loss: 0.7976 - val_mae: 0.7976 - val_mse: 2.8228\n",
            "Epoch 198/300\n",
            "10/10 [==============================] - 0s 4ms/step - loss: 1.0032 - mae: 1.0032 - mse: 4.3323 - val_loss: 0.7976 - val_mae: 0.7976 - val_mse: 2.8227\n",
            "Epoch 199/300\n",
            "10/10 [==============================] - 0s 4ms/step - loss: 1.0032 - mae: 1.0032 - mse: 4.3323 - val_loss: 0.7975 - val_mae: 0.7975 - val_mse: 2.8228\n",
            "Epoch 200/300\n",
            "10/10 [==============================] - 0s 4ms/step - loss: 1.0032 - mae: 1.0032 - mse: 4.3324 - val_loss: 0.7975 - val_mae: 0.7975 - val_mse: 2.8228\n",
            "Epoch 201/300\n",
            "10/10 [==============================] - 0s 4ms/step - loss: 1.0032 - mae: 1.0032 - mse: 4.3323 - val_loss: 0.7977 - val_mae: 0.7977 - val_mse: 2.8227\n",
            "Epoch 202/300\n",
            "10/10 [==============================] - 0s 6ms/step - loss: 1.0032 - mae: 1.0032 - mse: 4.3323 - val_loss: 0.7976 - val_mae: 0.7976 - val_mse: 2.8228\n",
            "Epoch 203/300\n",
            "10/10 [==============================] - 0s 4ms/step - loss: 1.0032 - mae: 1.0032 - mse: 4.3323 - val_loss: 0.7975 - val_mae: 0.7975 - val_mse: 2.8228\n",
            "Epoch 204/300\n",
            "10/10 [==============================] - 0s 4ms/step - loss: 1.0032 - mae: 1.0032 - mse: 4.3323 - val_loss: 0.7975 - val_mae: 0.7975 - val_mse: 2.8228\n",
            "Epoch 205/300\n",
            "10/10 [==============================] - 0s 5ms/step - loss: 1.0032 - mae: 1.0032 - mse: 4.3323 - val_loss: 0.7975 - val_mae: 0.7975 - val_mse: 2.8228\n",
            "Epoch 206/300\n",
            "10/10 [==============================] - 0s 4ms/step - loss: 1.0032 - mae: 1.0032 - mse: 4.3323 - val_loss: 0.7976 - val_mae: 0.7976 - val_mse: 2.8228\n",
            "Epoch 207/300\n",
            "10/10 [==============================] - 0s 4ms/step - loss: 1.0032 - mae: 1.0032 - mse: 4.3322 - val_loss: 0.7975 - val_mae: 0.7975 - val_mse: 2.8228\n",
            "Epoch 208/300\n",
            "10/10 [==============================] - 0s 4ms/step - loss: 1.0032 - mae: 1.0032 - mse: 4.3323 - val_loss: 0.7976 - val_mae: 0.7976 - val_mse: 2.8228\n",
            "Epoch 209/300\n",
            "10/10 [==============================] - 0s 5ms/step - loss: 1.0032 - mae: 1.0032 - mse: 4.3322 - val_loss: 0.7976 - val_mae: 0.7976 - val_mse: 2.8227\n",
            "Epoch 210/300\n",
            "10/10 [==============================] - 0s 4ms/step - loss: 1.0032 - mae: 1.0032 - mse: 4.3323 - val_loss: 0.7975 - val_mae: 0.7975 - val_mse: 2.8228\n",
            "Epoch 211/300\n",
            "10/10 [==============================] - 0s 4ms/step - loss: 1.0033 - mae: 1.0033 - mse: 4.3324 - val_loss: 0.7975 - val_mae: 0.7975 - val_mse: 2.8228\n",
            "Epoch 212/300\n",
            "10/10 [==============================] - 0s 4ms/step - loss: 1.0032 - mae: 1.0032 - mse: 4.3323 - val_loss: 0.7976 - val_mae: 0.7976 - val_mse: 2.8228\n",
            "Epoch 213/300\n",
            "10/10 [==============================] - 0s 4ms/step - loss: 1.0032 - mae: 1.0032 - mse: 4.3322 - val_loss: 0.7975 - val_mae: 0.7975 - val_mse: 2.8228\n",
            "Epoch 214/300\n",
            "10/10 [==============================] - 0s 5ms/step - loss: 1.0032 - mae: 1.0032 - mse: 4.3323 - val_loss: 0.7975 - val_mae: 0.7975 - val_mse: 2.8228\n",
            "Epoch 215/300\n",
            "10/10 [==============================] - 0s 3ms/step - loss: 1.0032 - mae: 1.0032 - mse: 4.3323 - val_loss: 0.7976 - val_mae: 0.7976 - val_mse: 2.8228\n",
            "Epoch 216/300\n",
            "10/10 [==============================] - 0s 4ms/step - loss: 1.0032 - mae: 1.0032 - mse: 4.3322 - val_loss: 0.7975 - val_mae: 0.7975 - val_mse: 2.8228\n",
            "Epoch 217/300\n",
            "10/10 [==============================] - 0s 4ms/step - loss: 1.0032 - mae: 1.0032 - mse: 4.3323 - val_loss: 0.7976 - val_mae: 0.7976 - val_mse: 2.8228\n",
            "Epoch 218/300\n",
            "10/10 [==============================] - 0s 4ms/step - loss: 1.0032 - mae: 1.0032 - mse: 4.3323 - val_loss: 0.7975 - val_mae: 0.7975 - val_mse: 2.8228\n",
            "Epoch 219/300\n",
            "10/10 [==============================] - 0s 5ms/step - loss: 1.0032 - mae: 1.0032 - mse: 4.3323 - val_loss: 0.7975 - val_mae: 0.7975 - val_mse: 2.8228\n",
            "Epoch 220/300\n",
            "10/10 [==============================] - 0s 4ms/step - loss: 1.0032 - mae: 1.0032 - mse: 4.3323 - val_loss: 0.7975 - val_mae: 0.7975 - val_mse: 2.8228\n",
            "Epoch 221/300\n",
            "10/10 [==============================] - 0s 5ms/step - loss: 1.0032 - mae: 1.0032 - mse: 4.3323 - val_loss: 0.7976 - val_mae: 0.7976 - val_mse: 2.8228\n",
            "Epoch 222/300\n",
            "10/10 [==============================] - 0s 4ms/step - loss: 1.0032 - mae: 1.0032 - mse: 4.3323 - val_loss: 0.7976 - val_mae: 0.7976 - val_mse: 2.8228\n",
            "Epoch 223/300\n",
            "10/10 [==============================] - 0s 4ms/step - loss: 1.0032 - mae: 1.0032 - mse: 4.3323 - val_loss: 0.7976 - val_mae: 0.7976 - val_mse: 2.8228\n",
            "Epoch 224/300\n",
            "10/10 [==============================] - 0s 4ms/step - loss: 1.0032 - mae: 1.0032 - mse: 4.3323 - val_loss: 0.7975 - val_mae: 0.7975 - val_mse: 2.8228\n",
            "Epoch 225/300\n",
            "10/10 [==============================] - 0s 4ms/step - loss: 1.0032 - mae: 1.0032 - mse: 4.3323 - val_loss: 0.7975 - val_mae: 0.7975 - val_mse: 2.8228\n",
            "Epoch 226/300\n",
            "10/10 [==============================] - 0s 4ms/step - loss: 1.0032 - mae: 1.0032 - mse: 4.3323 - val_loss: 0.7976 - val_mae: 0.7976 - val_mse: 2.8227\n",
            "Epoch 227/300\n",
            "10/10 [==============================] - 0s 4ms/step - loss: 1.0032 - mae: 1.0032 - mse: 4.3323 - val_loss: 0.7976 - val_mae: 0.7976 - val_mse: 2.8227\n",
            "Epoch 228/300\n",
            "10/10 [==============================] - 0s 4ms/step - loss: 1.0032 - mae: 1.0032 - mse: 4.3323 - val_loss: 0.7975 - val_mae: 0.7975 - val_mse: 2.8228\n",
            "Epoch 229/300\n",
            "10/10 [==============================] - 0s 5ms/step - loss: 1.0032 - mae: 1.0032 - mse: 4.3323 - val_loss: 0.7976 - val_mae: 0.7976 - val_mse: 2.8227\n",
            "Epoch 230/300\n",
            "10/10 [==============================] - 0s 4ms/step - loss: 1.0032 - mae: 1.0032 - mse: 4.3323 - val_loss: 0.7975 - val_mae: 0.7975 - val_mse: 2.8228\n",
            "Epoch 231/300\n",
            "10/10 [==============================] - 0s 5ms/step - loss: 1.0032 - mae: 1.0032 - mse: 4.3323 - val_loss: 0.7976 - val_mae: 0.7976 - val_mse: 2.8227\n",
            "Epoch 232/300\n",
            "10/10 [==============================] - 0s 5ms/step - loss: 1.0032 - mae: 1.0032 - mse: 4.3322 - val_loss: 0.7975 - val_mae: 0.7975 - val_mse: 2.8228\n",
            "Epoch 233/300\n",
            "10/10 [==============================] - 0s 6ms/step - loss: 1.0032 - mae: 1.0032 - mse: 4.3323 - val_loss: 0.7975 - val_mae: 0.7975 - val_mse: 2.8228\n",
            "Epoch 234/300\n",
            "10/10 [==============================] - 0s 4ms/step - loss: 1.0032 - mae: 1.0032 - mse: 4.3323 - val_loss: 0.7975 - val_mae: 0.7975 - val_mse: 2.8228\n",
            "Epoch 235/300\n",
            "10/10 [==============================] - 0s 4ms/step - loss: 1.0032 - mae: 1.0032 - mse: 4.3323 - val_loss: 0.7975 - val_mae: 0.7975 - val_mse: 2.8228\n",
            "Epoch 236/300\n",
            "10/10 [==============================] - 0s 4ms/step - loss: 1.0032 - mae: 1.0032 - mse: 4.3323 - val_loss: 0.7975 - val_mae: 0.7975 - val_mse: 2.8228\n",
            "Epoch 237/300\n",
            "10/10 [==============================] - 0s 5ms/step - loss: 1.0032 - mae: 1.0032 - mse: 4.3323 - val_loss: 0.7975 - val_mae: 0.7975 - val_mse: 2.8228\n",
            "Epoch 238/300\n",
            "10/10 [==============================] - 0s 4ms/step - loss: 1.0032 - mae: 1.0032 - mse: 4.3323 - val_loss: 0.7975 - val_mae: 0.7975 - val_mse: 2.8228\n",
            "Epoch 239/300\n",
            "10/10 [==============================] - 0s 4ms/step - loss: 1.0032 - mae: 1.0032 - mse: 4.3323 - val_loss: 0.7975 - val_mae: 0.7975 - val_mse: 2.8228\n",
            "Epoch 240/300\n",
            "10/10 [==============================] - 0s 5ms/step - loss: 1.0032 - mae: 1.0032 - mse: 4.3323 - val_loss: 0.7975 - val_mae: 0.7975 - val_mse: 2.8228\n",
            "Epoch 241/300\n",
            "10/10 [==============================] - 0s 4ms/step - loss: 1.0032 - mae: 1.0032 - mse: 4.3323 - val_loss: 0.7976 - val_mae: 0.7976 - val_mse: 2.8228\n",
            "Epoch 242/300\n",
            "10/10 [==============================] - 0s 5ms/step - loss: 1.0032 - mae: 1.0032 - mse: 4.3324 - val_loss: 0.7976 - val_mae: 0.7976 - val_mse: 2.8228\n",
            "Epoch 243/300\n",
            "10/10 [==============================] - 0s 5ms/step - loss: 1.0032 - mae: 1.0032 - mse: 4.3323 - val_loss: 0.7975 - val_mae: 0.7975 - val_mse: 2.8228\n",
            "Epoch 244/300\n",
            "10/10 [==============================] - 0s 4ms/step - loss: 1.0032 - mae: 1.0032 - mse: 4.3323 - val_loss: 0.7975 - val_mae: 0.7975 - val_mse: 2.8228\n",
            "Epoch 245/300\n",
            "10/10 [==============================] - 0s 4ms/step - loss: 1.0032 - mae: 1.0032 - mse: 4.3322 - val_loss: 0.7975 - val_mae: 0.7975 - val_mse: 2.8228\n",
            "Epoch 246/300\n",
            "10/10 [==============================] - 0s 4ms/step - loss: 1.0032 - mae: 1.0032 - mse: 4.3323 - val_loss: 0.7975 - val_mae: 0.7975 - val_mse: 2.8228\n",
            "Epoch 247/300\n",
            "10/10 [==============================] - 0s 4ms/step - loss: 1.0032 - mae: 1.0032 - mse: 4.3322 - val_loss: 0.7976 - val_mae: 0.7976 - val_mse: 2.8228\n",
            "Epoch 248/300\n",
            "10/10 [==============================] - 0s 6ms/step - loss: 1.0032 - mae: 1.0032 - mse: 4.3323 - val_loss: 0.7975 - val_mae: 0.7975 - val_mse: 2.8228\n",
            "Epoch 249/300\n",
            "10/10 [==============================] - 0s 4ms/step - loss: 1.0032 - mae: 1.0032 - mse: 4.3323 - val_loss: 0.7976 - val_mae: 0.7976 - val_mse: 2.8228\n",
            "Epoch 250/300\n",
            "10/10 [==============================] - 0s 4ms/step - loss: 1.0032 - mae: 1.0032 - mse: 4.3323 - val_loss: 0.7975 - val_mae: 0.7975 - val_mse: 2.8228\n",
            "Epoch 251/300\n",
            "10/10 [==============================] - 0s 4ms/step - loss: 1.0032 - mae: 1.0032 - mse: 4.3323 - val_loss: 0.7976 - val_mae: 0.7976 - val_mse: 2.8228\n",
            "Epoch 252/300\n",
            "10/10 [==============================] - 0s 4ms/step - loss: 1.0032 - mae: 1.0032 - mse: 4.3323 - val_loss: 0.7976 - val_mae: 0.7976 - val_mse: 2.8228\n",
            "Epoch 253/300\n",
            "10/10 [==============================] - 0s 5ms/step - loss: 1.0032 - mae: 1.0032 - mse: 4.3323 - val_loss: 0.7975 - val_mae: 0.7975 - val_mse: 2.8228\n",
            "Epoch 254/300\n",
            "10/10 [==============================] - 0s 5ms/step - loss: 1.0032 - mae: 1.0032 - mse: 4.3322 - val_loss: 0.7976 - val_mae: 0.7976 - val_mse: 2.8228\n",
            "Epoch 255/300\n",
            "10/10 [==============================] - 0s 4ms/step - loss: 1.0032 - mae: 1.0032 - mse: 4.3323 - val_loss: 0.7976 - val_mae: 0.7976 - val_mse: 2.8227\n",
            "Epoch 256/300\n",
            "10/10 [==============================] - 0s 4ms/step - loss: 1.0032 - mae: 1.0032 - mse: 4.3323 - val_loss: 0.7976 - val_mae: 0.7976 - val_mse: 2.8227\n",
            "Epoch 257/300\n",
            "10/10 [==============================] - 0s 4ms/step - loss: 1.0032 - mae: 1.0032 - mse: 4.3323 - val_loss: 0.7975 - val_mae: 0.7975 - val_mse: 2.8228\n",
            "Epoch 258/300\n",
            "10/10 [==============================] - 0s 4ms/step - loss: 1.0032 - mae: 1.0032 - mse: 4.3323 - val_loss: 0.7975 - val_mae: 0.7975 - val_mse: 2.8228\n",
            "Epoch 259/300\n",
            "10/10 [==============================] - 0s 5ms/step - loss: 1.0032 - mae: 1.0032 - mse: 4.3322 - val_loss: 0.7975 - val_mae: 0.7975 - val_mse: 2.8228\n",
            "Epoch 260/300\n",
            "10/10 [==============================] - 0s 4ms/step - loss: 1.0032 - mae: 1.0032 - mse: 4.3323 - val_loss: 0.7976 - val_mae: 0.7976 - val_mse: 2.8228\n",
            "Epoch 261/300\n",
            "10/10 [==============================] - 0s 5ms/step - loss: 1.0032 - mae: 1.0032 - mse: 4.3323 - val_loss: 0.7976 - val_mae: 0.7976 - val_mse: 2.8228\n",
            "Epoch 262/300\n",
            "10/10 [==============================] - 0s 5ms/step - loss: 1.0032 - mae: 1.0032 - mse: 4.3323 - val_loss: 0.7975 - val_mae: 0.7975 - val_mse: 2.8228\n",
            "Epoch 263/300\n",
            "10/10 [==============================] - 0s 5ms/step - loss: 1.0032 - mae: 1.0032 - mse: 4.3323 - val_loss: 0.7975 - val_mae: 0.7975 - val_mse: 2.8228\n",
            "Epoch 264/300\n",
            "10/10 [==============================] - 0s 4ms/step - loss: 1.0032 - mae: 1.0032 - mse: 4.3323 - val_loss: 0.7975 - val_mae: 0.7975 - val_mse: 2.8228\n",
            "Epoch 265/300\n",
            "10/10 [==============================] - 0s 5ms/step - loss: 1.0032 - mae: 1.0032 - mse: 4.3323 - val_loss: 0.7976 - val_mae: 0.7976 - val_mse: 2.8228\n",
            "Epoch 266/300\n",
            "10/10 [==============================] - 0s 4ms/step - loss: 1.0032 - mae: 1.0032 - mse: 4.3323 - val_loss: 0.7975 - val_mae: 0.7975 - val_mse: 2.8228\n",
            "Epoch 267/300\n",
            "10/10 [==============================] - 0s 4ms/step - loss: 1.0032 - mae: 1.0032 - mse: 4.3323 - val_loss: 0.7976 - val_mae: 0.7976 - val_mse: 2.8228\n",
            "Epoch 268/300\n",
            "10/10 [==============================] - 0s 3ms/step - loss: 1.0032 - mae: 1.0032 - mse: 4.3323 - val_loss: 0.7975 - val_mae: 0.7975 - val_mse: 2.8228\n",
            "Epoch 269/300\n",
            "10/10 [==============================] - 0s 4ms/step - loss: 1.0032 - mae: 1.0032 - mse: 4.3323 - val_loss: 0.7976 - val_mae: 0.7976 - val_mse: 2.8228\n",
            "Epoch 270/300\n",
            "10/10 [==============================] - 0s 4ms/step - loss: 1.0032 - mae: 1.0032 - mse: 4.3323 - val_loss: 0.7975 - val_mae: 0.7975 - val_mse: 2.8228\n",
            "Epoch 271/300\n",
            "10/10 [==============================] - 0s 4ms/step - loss: 1.0032 - mae: 1.0032 - mse: 4.3323 - val_loss: 0.7975 - val_mae: 0.7975 - val_mse: 2.8228\n",
            "Epoch 272/300\n",
            "10/10 [==============================] - 0s 5ms/step - loss: 1.0032 - mae: 1.0032 - mse: 4.3323 - val_loss: 0.7976 - val_mae: 0.7976 - val_mse: 2.8228\n",
            "Epoch 273/300\n",
            "10/10 [==============================] - 0s 4ms/step - loss: 1.0032 - mae: 1.0032 - mse: 4.3323 - val_loss: 0.7975 - val_mae: 0.7975 - val_mse: 2.8228\n",
            "Epoch 274/300\n",
            "10/10 [==============================] - 0s 4ms/step - loss: 1.0032 - mae: 1.0032 - mse: 4.3323 - val_loss: 0.7975 - val_mae: 0.7975 - val_mse: 2.8228\n",
            "Epoch 275/300\n",
            "10/10 [==============================] - 0s 5ms/step - loss: 1.0032 - mae: 1.0032 - mse: 4.3323 - val_loss: 0.7975 - val_mae: 0.7975 - val_mse: 2.8228\n",
            "Epoch 276/300\n",
            "10/10 [==============================] - 0s 4ms/step - loss: 1.0032 - mae: 1.0032 - mse: 4.3323 - val_loss: 0.7976 - val_mae: 0.7976 - val_mse: 2.8227\n",
            "Epoch 277/300\n",
            "10/10 [==============================] - 0s 5ms/step - loss: 1.0032 - mae: 1.0032 - mse: 4.3323 - val_loss: 0.7975 - val_mae: 0.7975 - val_mse: 2.8228\n",
            "Epoch 278/300\n",
            "10/10 [==============================] - 0s 5ms/step - loss: 1.0032 - mae: 1.0032 - mse: 4.3323 - val_loss: 0.7975 - val_mae: 0.7975 - val_mse: 2.8228\n",
            "Epoch 279/300\n",
            "10/10 [==============================] - 0s 5ms/step - loss: 1.0032 - mae: 1.0032 - mse: 4.3323 - val_loss: 0.7976 - val_mae: 0.7976 - val_mse: 2.8228\n",
            "Epoch 280/300\n",
            "10/10 [==============================] - 0s 4ms/step - loss: 1.0032 - mae: 1.0032 - mse: 4.3323 - val_loss: 0.7975 - val_mae: 0.7975 - val_mse: 2.8228\n",
            "Epoch 281/300\n",
            "10/10 [==============================] - 0s 4ms/step - loss: 1.0032 - mae: 1.0032 - mse: 4.3323 - val_loss: 0.7975 - val_mae: 0.7975 - val_mse: 2.8228\n",
            "Epoch 282/300\n",
            "10/10 [==============================] - 0s 4ms/step - loss: 1.0032 - mae: 1.0032 - mse: 4.3323 - val_loss: 0.7976 - val_mae: 0.7976 - val_mse: 2.8228\n",
            "Epoch 283/300\n",
            "10/10 [==============================] - 0s 5ms/step - loss: 1.0032 - mae: 1.0032 - mse: 4.3323 - val_loss: 0.7975 - val_mae: 0.7975 - val_mse: 2.8228\n",
            "Epoch 284/300\n",
            "10/10 [==============================] - 0s 5ms/step - loss: 1.0032 - mae: 1.0032 - mse: 4.3323 - val_loss: 0.7976 - val_mae: 0.7976 - val_mse: 2.8227\n",
            "Epoch 285/300\n",
            "10/10 [==============================] - 0s 4ms/step - loss: 1.0032 - mae: 1.0032 - mse: 4.3323 - val_loss: 0.7975 - val_mae: 0.7975 - val_mse: 2.8228\n",
            "Epoch 286/300\n",
            "10/10 [==============================] - 0s 7ms/step - loss: 1.0032 - mae: 1.0032 - mse: 4.3323 - val_loss: 0.7976 - val_mae: 0.7976 - val_mse: 2.8228\n",
            "Epoch 287/300\n",
            "10/10 [==============================] - 0s 5ms/step - loss: 1.0032 - mae: 1.0032 - mse: 4.3324 - val_loss: 0.7976 - val_mae: 0.7976 - val_mse: 2.8227\n",
            "Epoch 288/300\n",
            "10/10 [==============================] - 0s 5ms/step - loss: 1.0032 - mae: 1.0032 - mse: 4.3323 - val_loss: 0.7975 - val_mae: 0.7975 - val_mse: 2.8228\n",
            "Epoch 289/300\n",
            "10/10 [==============================] - 0s 4ms/step - loss: 1.0032 - mae: 1.0032 - mse: 4.3323 - val_loss: 0.7975 - val_mae: 0.7975 - val_mse: 2.8228\n",
            "Epoch 290/300\n",
            "10/10 [==============================] - 0s 4ms/step - loss: 1.0032 - mae: 1.0032 - mse: 4.3323 - val_loss: 0.7976 - val_mae: 0.7976 - val_mse: 2.8228\n",
            "Epoch 291/300\n",
            "10/10 [==============================] - 0s 6ms/step - loss: 1.0032 - mae: 1.0032 - mse: 4.3323 - val_loss: 0.7976 - val_mae: 0.7976 - val_mse: 2.8227\n",
            "Epoch 292/300\n",
            "10/10 [==============================] - 0s 4ms/step - loss: 1.0032 - mae: 1.0032 - mse: 4.3323 - val_loss: 0.7976 - val_mae: 0.7976 - val_mse: 2.8228\n",
            "Epoch 293/300\n",
            "10/10 [==============================] - 0s 5ms/step - loss: 1.0032 - mae: 1.0032 - mse: 4.3323 - val_loss: 0.7975 - val_mae: 0.7975 - val_mse: 2.8228\n",
            "Epoch 294/300\n",
            "10/10 [==============================] - 0s 4ms/step - loss: 1.0032 - mae: 1.0032 - mse: 4.3323 - val_loss: 0.7975 - val_mae: 0.7975 - val_mse: 2.8228\n",
            "Epoch 295/300\n",
            "10/10 [==============================] - 0s 5ms/step - loss: 1.0032 - mae: 1.0032 - mse: 4.3323 - val_loss: 0.7975 - val_mae: 0.7975 - val_mse: 2.8228\n",
            "Epoch 296/300\n",
            "10/10 [==============================] - 0s 5ms/step - loss: 1.0032 - mae: 1.0032 - mse: 4.3323 - val_loss: 0.7976 - val_mae: 0.7976 - val_mse: 2.8227\n",
            "Epoch 297/300\n",
            "10/10 [==============================] - 0s 4ms/step - loss: 1.0032 - mae: 1.0032 - mse: 4.3323 - val_loss: 0.7976 - val_mae: 0.7976 - val_mse: 2.8228\n",
            "Epoch 298/300\n",
            "10/10 [==============================] - 0s 4ms/step - loss: 1.0032 - mae: 1.0032 - mse: 4.3323 - val_loss: 0.7975 - val_mae: 0.7975 - val_mse: 2.8228\n",
            "Epoch 299/300\n",
            "10/10 [==============================] - 0s 4ms/step - loss: 1.0032 - mae: 1.0032 - mse: 4.3323 - val_loss: 0.7976 - val_mae: 0.7976 - val_mse: 2.8228\n",
            "Epoch 300/300\n",
            "10/10 [==============================] - 0s 5ms/step - loss: 1.0032 - mae: 1.0032 - mse: 4.3323 - val_loss: 0.7976 - val_mae: 0.7976 - val_mse: 2.8227\n"
          ],
          "name": "stdout"
        }
      ]
    },
    {
      "cell_type": "markdown",
      "metadata": {
        "id": "vf5m9CTIkWTM"
      },
      "source": [
        "``` From the above code cell as the number of epochs increased... Loss and other parameteres decreased ```"
      ]
    },
    {
      "cell_type": "code",
      "metadata": {
        "id": "6zYkLGS6wQyy",
        "colab": {
          "base_uri": "https://localhost:8080/"
        },
        "outputId": "7ac594ce-a44a-4eb7-9953-802a674e9a91"
      },
      "source": [
        "print(history)"
      ],
      "execution_count": 37,
      "outputs": [
        {
          "output_type": "stream",
          "text": [
            "<tensorflow.python.keras.callbacks.History object at 0x7f47100f0150>\n"
          ],
          "name": "stdout"
        }
      ]
    },
    {
      "cell_type": "code",
      "metadata": {
        "colab": {
          "base_uri": "https://localhost:8080/"
        },
        "id": "1lsbk_ohAu1j",
        "outputId": "eae9c3b5-758f-41ca-85d3-b9c9cc37598b"
      },
      "source": [
        "model.summary()"
      ],
      "execution_count": 38,
      "outputs": [
        {
          "output_type": "stream",
          "text": [
            "Model: \"sequential\"\n",
            "_________________________________________________________________\n",
            "Layer (type)                 Output Shape              Param #   \n",
            "=================================================================\n",
            "dense (Dense)                (None, 1)                 2         \n",
            "=================================================================\n",
            "Total params: 2\n",
            "Trainable params: 2\n",
            "Non-trainable params: 0\n",
            "_________________________________________________________________\n"
          ],
          "name": "stdout"
        }
      ]
    },
    {
      "cell_type": "code",
      "metadata": {
        "colab": {
          "base_uri": "https://localhost:8080/",
          "height": 1000
        },
        "id": "P6VnkPim7tH7",
        "outputId": "d734b9cc-bdf4-4ab7-93f1-9bcb9ebe0d16"
      },
      "source": [
        "# tempString = 'mse'\n",
        "def curvePlots(tempString):\n",
        "  plt.plot(history.history[tempString])\n",
        "  plt.plot(history.history[f'val_{tempString}'])\n",
        "  plt.xlabel('NumEpochs')\n",
        "  plt.ylabel(tempString)\n",
        "  plt.legend([tempString, f'val_{tempString}'])\n",
        "  plt.show()\n",
        "\n",
        "\n",
        "curvePlots('mse')\n",
        "curvePlots('mae')\n",
        "curvePlots('loss')"
      ],
      "execution_count": 39,
      "outputs": [
        {
          "output_type": "display_data",
          "data": {
            "image/png": "[encoded data removed]",
            "text/plain": [
              "<Figure size 576x396 with 1 Axes>"
            ]
          },
          "metadata": {
            "tags": []
          }
        },
        {
          "output_type": "display_data",
          "data": {
            "image/png": "[encoded data removed]",
            "text/plain": [
              "<Figure size 576x396 with 1 Axes>"
            ]
          },
          "metadata": {
            "tags": []
          }
        },
        {
          "output_type": "display_data",
          "data": {
            "image/png": "[encoded data removed]",
            "text/plain": [
              "<Figure size 576x396 with 1 Axes>"
            ]
          },
          "metadata": {
            "tags": []
          }
        }
      ]
    },
    {
      "cell_type": "code",
      "metadata": {
        "id": "esW0eHQbzoj4",
        "colab": {
          "base_uri": "https://localhost:8080/"
        },
        "outputId": "fa7a45f3-efb4-4dc9-8cba-3f1ebeba032b"
      },
      "source": [
        "model.predict([1])"
      ],
      "execution_count": 29,
      "outputs": [
        {
          "output_type": "execute_result",
          "data": {
            "text/plain": [
              "array([[1.0000987]], dtype=float32)"
            ]
          },
          "metadata": {
            "tags": []
          },
          "execution_count": 29
        }
      ]
    },
    {
      "cell_type": "code",
      "metadata": {
        "colab": {
          "base_uri": "https://localhost:8080/"
        },
        "id": "KJrLWamX8Tg-",
        "outputId": "1476ff9a-7234-4f11-82c1-cdc9276b5d18"
      },
      "source": [
        "# testPreds = model.predict(testFeatures).flatten() #array of all prediction values\n",
        "\n",
        "#for single values\n",
        "\n",
        "print(f'Prediction for input value 1: {model.predict([1])}')\n",
        "\n",
        "\n",
        "# for a list of values\n",
        "tempListforPreds = [1,2,3,4,5]\n",
        "print(f'''\n",
        "\n",
        "input List = {tempListforPreds}\n",
        "\n",
        "\n",
        "List of Predictions:\n",
        "{model.predict(tempListforPreds)}\n",
        "\n",
        "List of Predictions (flattened out):\n",
        "{model.predict(tempListforPreds).flatten()}\n",
        "''')"
      ],
      "execution_count": 30,
      "outputs": [
        {
          "output_type": "stream",
          "text": [
            "Prediction for input value 1: [[1.0000987]]\n",
            "\n",
            "\n",
            "input List = [1, 2, 3, 4, 5]\n",
            "\n",
            "\n",
            "List of Predictions:\n",
            "[[1.0000987]\n",
            " [2.0001462]\n",
            " [3.0001936]\n",
            " [4.000241 ]\n",
            " [5.000288 ]]\n",
            "\n",
            "List of Predictions (flattened out):\n",
            "[1.0000987 2.0001462 3.0001936 4.000241  5.000288 ]\n",
            "\n"
          ],
          "name": "stdout"
        }
      ]
    },
    {
      "cell_type": "code",
      "metadata": {
        "id": "vJNFh6hc0K6r",
        "colab": {
          "base_uri": "https://localhost:8080/"
        },
        "outputId": "6e401980-aa3e-4ffa-afa2-5f1761583427"
      },
      "source": [
        "print(testFeatures)"
      ],
      "execution_count": 31,
      "outputs": [
        {
          "output_type": "stream",
          "text": [
            "     G2\n",
            "9    15\n",
            "25    9\n",
            "28   11\n",
            "31   16\n",
            "32   16\n",
            "..   ..\n",
            "365  10\n",
            "367   6\n",
            "379  10\n",
            "381   6\n",
            "393  12\n",
            "\n",
            "[79 rows x 1 columns]\n"
          ],
          "name": "stdout"
        }
      ]
    },
    {
      "cell_type": "code",
      "metadata": {
        "id": "MniGZOu50IyN"
      },
      "source": [
        "testPreds = model.predict(testFeatures).flatten() #array of all prediction values"
      ],
      "execution_count": 32,
      "outputs": []
    },
    {
      "cell_type": "code",
      "metadata": {
        "id": "du0Orwu40Qan",
        "colab": {
          "base_uri": "https://localhost:8080/"
        },
        "outputId": "2f4db14a-2510-431b-bf2c-75862684f0fa"
      },
      "source": [
        "print(len(testPreds))\n",
        "print(testPreds)"
      ],
      "execution_count": 33,
      "outputs": [
        {
          "output_type": "stream",
          "text": [
            "79\n",
            "[1.50007610e+01 9.00047779e+00 1.10005722e+01 1.60008087e+01\n",
            " 1.60008087e+01 1.20006199e+01 1.30006666e+01 1.80009041e+01\n",
            " 1.90009499e+01 1.00005245e+01 1.50007610e+01 1.50007610e+01\n",
            " 6.00033569e+00 6.00033569e+00 1.00005245e+01 1.40007143e+01\n",
            " 1.00005245e+01 1.70008564e+01 9.00047779e+00 1.10005722e+01\n",
            " 1.50007610e+01 1.40007143e+01 1.30006666e+01 1.40007143e+01\n",
            " 8.00043011e+00 4.00024080e+00 5.14367057e-05 1.10005722e+01\n",
            " 1.30006666e+01 1.00005245e+01 1.10005722e+01 1.10005722e+01\n",
            " 1.10005722e+01 5.00028801e+00 9.00047779e+00 1.20006199e+01\n",
            " 8.00043011e+00 9.00047779e+00 1.50007610e+01 9.00047779e+00\n",
            " 9.00047779e+00 6.00033569e+00 1.20006199e+01 5.14367057e-05\n",
            " 1.20006199e+01 5.14367057e-05 1.00005245e+01 1.10005722e+01\n",
            " 1.20006199e+01 1.70008564e+01 1.00005245e+01 1.40007143e+01\n",
            " 9.00047779e+00 1.00005245e+01 1.40007143e+01 1.10005722e+01\n",
            " 1.50007610e+01 1.20006199e+01 1.30006666e+01 9.00047779e+00\n",
            " 1.40007143e+01 8.00043011e+00 1.50007610e+01 8.00043011e+00\n",
            " 1.50007610e+01 1.20006199e+01 1.50007610e+01 1.50007610e+01\n",
            " 7.00038290e+00 7.00038290e+00 1.20006199e+01 1.60008087e+01\n",
            " 1.20006199e+01 1.50007610e+01 1.00005245e+01 6.00033569e+00\n",
            " 1.00005245e+01 6.00033569e+00 1.20006199e+01]\n"
          ],
          "name": "stdout"
        }
      ]
    },
    {
      "cell_type": "code",
      "metadata": {
        "colab": {
          "base_uri": "https://localhost:8080/",
          "height": 361
        },
        "id": "EfP8bB_v89Wa",
        "outputId": "9aaf308e-e9a8-4f98-c103-ed3f3401eff0"
      },
      "source": [
        "# prediciton plot --> how well is your model predicting across the actual labels\n",
        "\n",
        "def predPlot(labels, predictions):\n",
        "  plt.scatter(labels, predictions)\n",
        "  plt.ylabel('Predictions')\n",
        "  plt.xlabel('True Value or Labels')\n",
        "  plt.axis('equal')\n",
        "  plt.axis('square')\n",
        "  plt.xlim([0, plt.xlim()[1]])\n",
        "  plt.ylim([0, plt.ylim()[1]])\n",
        "  plt.show()\n",
        "\n",
        "predPlot(testLabels, testPreds)"
      ],
      "execution_count": 34,
      "outputs": [
        {
          "output_type": "display_data",
          "data": {
            "image/png": "[encoded data removed]",
            "text/plain": [
              "<Figure size 576x396 with 1 Axes>"
            ]
          },
          "metadata": {
            "tags": []
          }
        }
      ]
    },
    {
      "cell_type": "code",
      "metadata": {
        "colab": {
          "base_uri": "https://localhost:8080/",
          "height": 361
        },
        "id": "70608Z0o9tWL",
        "outputId": "864ab77d-eea5-498e-84bb-98de347d528f"
      },
      "source": [
        "#error plot --> gaussian distribution \n",
        "\n",
        "def errorPlot(preds, labels, counts):\n",
        "  errors = preds - labels\n",
        "  plt.hist(errors, counts)\n",
        "  plt.xlabel('Error')\n",
        "  plt.ylabel('Counts')\n",
        "  plt.show()\n",
        "\n",
        "errorPlot(testPreds, testLabels, numEpochs)"
      ],
      "execution_count": 35,
      "outputs": [
        {
          "output_type": "display_data",
          "data": {
            "image/png": "[encoded data removed]",
            "text/plain": [
              "<Figure size 576x396 with 1 Axes>"
            ]
          },
          "metadata": {
            "tags": []
          }
        }
      ]
    },
    {
      "cell_type": "markdown",
      "metadata": {
        "id": "oshf2mUG1vPk"
      },
      "source": [
        "Note: \n",
        "\n",
        "\n",
        "Validation loss `val_loss` is a metric that tells you how much deviation from the actual label can you expect in the predicted label\n",
        "\n",
        "To optimize your predicitons -->\n",
        "\n",
        "- Hyperparameter tuning --> `numEpochs`, `optimizer`, `learning_rate`, lossFunctions"
      ]
    }
  ]
}