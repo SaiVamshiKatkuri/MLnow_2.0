{
  "nbformat": 4,
  "nbformat_minor": 0,
  "metadata": {
    "colab": {
      "name": "3.1_Univariate.ipynb",
      "provenance": [],
      "collapsed_sections": [
        "Klm33YcpKZkl"
      ],
      "include_colab_link": true
    },
    "kernelspec": {
      "name": "python3",
      "display_name": "Python 3"
    }
  },
  "cells": [
    {
      "cell_type": "markdown",
      "metadata": {
        "id": "view-in-github",
        "colab_type": "text"
      },
      "source": [
        "<a href=\"https://colab.research.google.com/github/SaiVamshiKatkuri/MLnow_2.0/blob/main/3_1_Univariate.ipynb\" target=\"_parent\"><img src=\"https://colab.research.google.com/assets/colab-badge.svg\" alt=\"Open In Colab\"/></a>"
      ]
    },
    {
      "cell_type": "markdown",
      "metadata": {
        "id": "q_569ugy6lyY"
      },
      "source": [
        "**Topic**: `Univariate Linear Regression`\n",
        "\n",
        "[Link to download the Dataset](https://archive.ics.uci.edu/ml/datasets/Student+Performance)\n",
        "\n",
        "**Date Created** :June 6,2021\n",
        "\n",
        "**AUTHOR**: Sai Vamshi Katkuri\n",
        "[Assessment Repository](https://github.com/SaiVamshiKatkuri/MLnow_2.0)\n",
        "\n",
        "**Reach out** :[Email](https://mail.google.com/mail/u/0/?tab=rm&ogbl#inbox) | [Linkedin](https://www.linkedin.com/in/katkuri-sai-vamshi-2209281a8/) | [Github](https://github.com/SaiVamshiKatkuri)\n",
        "\n",
        "**Changes** : Used Simple Linear Regression as well as Support Vector Machines\n",
        "\n",
        "\n"
      ]
    },
    {
      "cell_type": "markdown",
      "metadata": {
        "id": "KmW9S6zjaauQ"
      },
      "source": [
        "## Setup"
      ]
    },
    {
      "cell_type": "code",
      "metadata": {
        "colab": {
          "base_uri": "https://localhost:8080/"
        },
        "id": "oX_QibhWsnnX",
        "outputId": "a8579a35-cf5b-42e1-a87b-1baeca180cee"
      },
      "source": [
        "from google.colab import drive\n",
        "drive.mount('/content/drive')"
      ],
      "execution_count": 1,
      "outputs": [
        {
          "output_type": "stream",
          "text": [
            "Drive already mounted at /content/drive; to attempt to forcibly remount, call drive.mount(\"/content/drive\", force_remount=True).\n"
          ],
          "name": "stdout"
        }
      ]
    },
    {
      "cell_type": "code",
      "metadata": {
        "colab": {
          "base_uri": "https://localhost:8080/"
        },
        "id": "wYuNn17Isvml",
        "outputId": "13265aa3-c074-4696-c409-5bedde63c2cd"
      },
      "source": [
        "cd '/content/drive/MyDrive/Datasets'"
      ],
      "execution_count": 2,
      "outputs": [
        {
          "output_type": "stream",
          "text": [
            "/content/drive/MyDrive/Datasets\n"
          ],
          "name": "stdout"
        }
      ]
    },
    {
      "cell_type": "code",
      "metadata": {
        "colab": {
          "base_uri": "https://localhost:8080/"
        },
        "id": "oR69jwALs-uP",
        "outputId": "72abcd20-d8dd-4c27-9496-0a2c733487e1"
      },
      "source": [
        "ls"
      ],
      "execution_count": 3,
      "outputs": [
        {
          "output_type": "stream",
          "text": [
            "student-mat.csv  student-por.csv  univariate_MathData_2.csv  w-h.csv\n"
          ],
          "name": "stdout"
        }
      ]
    },
    {
      "cell_type": "code",
      "metadata": {
        "id": "0rYwvbeMtPJg"
      },
      "source": [
        "import os"
      ],
      "execution_count": 4,
      "outputs": []
    },
    {
      "cell_type": "code",
      "metadata": {
        "id": "cnGQRbmes_tZ"
      },
      "source": [
        "import pandas as pd #working with csv or excel files\n",
        "import numpy as np #working with numbers/ arrays/ tensors\n",
        "import tensorflow as tf #framework\n",
        "from tensorflow import keras #API / library \n",
        "import os #using os commands between the python language"
      ],
      "execution_count": 5,
      "outputs": []
    },
    {
      "cell_type": "code",
      "metadata": {
        "id": "VV-Ps6dJtX6B"
      },
      "source": [
        "mathData = pd.read_csv('student-mat.csv', sep=';') #load the csv file as dataframe"
      ],
      "execution_count": 6,
      "outputs": []
    },
    {
      "cell_type": "code",
      "metadata": {
        "colab": {
          "base_uri": "https://localhost:8080/",
          "height": 382
        },
        "id": "2_KId_bptr05",
        "outputId": "2ac5137f-7948-4de8-a901-cba90ce91a27"
      },
      "source": [
        "mathData.head(10) #print the first ten rows of the dataframe"
      ],
      "execution_count": 7,
      "outputs": [
        {
          "output_type": "execute_result",
          "data": {
            "text/html": [
              "<div>\n",
              "<style scoped>\n",
              "    .dataframe tbody tr th:only-of-type {\n",
              "        vertical-align: middle;\n",
              "    }\n",
              "\n",
              "    .dataframe tbody tr th {\n",
              "        vertical-align: top;\n",
              "    }\n",
              "\n",
              "    .dataframe thead th {\n",
              "        text-align: right;\n",
              "    }\n",
              "</style>\n",
              "<table border=\"1\" class=\"dataframe\">\n",
              "  <thead>\n",
              "    <tr style=\"text-align: right;\">\n",
              "      <th></th>\n",
              "      <th>school</th>\n",
              "      <th>sex</th>\n",
              "      <th>age</th>\n",
              "      <th>address</th>\n",
              "      <th>famsize</th>\n",
              "      <th>Pstatus</th>\n",
              "      <th>Medu</th>\n",
              "      <th>Fedu</th>\n",
              "      <th>Mjob</th>\n",
              "      <th>Fjob</th>\n",
              "      <th>reason</th>\n",
              "      <th>guardian</th>\n",
              "      <th>traveltime</th>\n",
              "      <th>studytime</th>\n",
              "      <th>failures</th>\n",
              "      <th>schoolsup</th>\n",
              "      <th>famsup</th>\n",
              "      <th>paid</th>\n",
              "      <th>activities</th>\n",
              "      <th>nursery</th>\n",
              "      <th>higher</th>\n",
              "      <th>internet</th>\n",
              "      <th>romantic</th>\n",
              "      <th>famrel</th>\n",
              "      <th>freetime</th>\n",
              "      <th>goout</th>\n",
              "      <th>Dalc</th>\n",
              "      <th>Walc</th>\n",
              "      <th>health</th>\n",
              "      <th>absences</th>\n",
              "      <th>G1</th>\n",
              "      <th>G2</th>\n",
              "      <th>G3</th>\n",
              "    </tr>\n",
              "  </thead>\n",
              "  <tbody>\n",
              "    <tr>\n",
              "      <th>0</th>\n",
              "      <td>GP</td>\n",
              "      <td>F</td>\n",
              "      <td>18</td>\n",
              "      <td>U</td>\n",
              "      <td>GT3</td>\n",
              "      <td>A</td>\n",
              "      <td>4</td>\n",
              "      <td>4</td>\n",
              "      <td>at_home</td>\n",
              "      <td>teacher</td>\n",
              "      <td>course</td>\n",
              "      <td>mother</td>\n",
              "      <td>2</td>\n",
              "      <td>2</td>\n",
              "      <td>0</td>\n",
              "      <td>yes</td>\n",
              "      <td>no</td>\n",
              "      <td>no</td>\n",
              "      <td>no</td>\n",
              "      <td>yes</td>\n",
              "      <td>yes</td>\n",
              "      <td>no</td>\n",
              "      <td>no</td>\n",
              "      <td>4</td>\n",
              "      <td>3</td>\n",
              "      <td>4</td>\n",
              "      <td>1</td>\n",
              "      <td>1</td>\n",
              "      <td>3</td>\n",
              "      <td>6</td>\n",
              "      <td>5</td>\n",
              "      <td>6</td>\n",
              "      <td>6</td>\n",
              "    </tr>\n",
              "    <tr>\n",
              "      <th>1</th>\n",
              "      <td>GP</td>\n",
              "      <td>F</td>\n",
              "      <td>17</td>\n",
              "      <td>U</td>\n",
              "      <td>GT3</td>\n",
              "      <td>T</td>\n",
              "      <td>1</td>\n",
              "      <td>1</td>\n",
              "      <td>at_home</td>\n",
              "      <td>other</td>\n",
              "      <td>course</td>\n",
              "      <td>father</td>\n",
              "      <td>1</td>\n",
              "      <td>2</td>\n",
              "      <td>0</td>\n",
              "      <td>no</td>\n",
              "      <td>yes</td>\n",
              "      <td>no</td>\n",
              "      <td>no</td>\n",
              "      <td>no</td>\n",
              "      <td>yes</td>\n",
              "      <td>yes</td>\n",
              "      <td>no</td>\n",
              "      <td>5</td>\n",
              "      <td>3</td>\n",
              "      <td>3</td>\n",
              "      <td>1</td>\n",
              "      <td>1</td>\n",
              "      <td>3</td>\n",
              "      <td>4</td>\n",
              "      <td>5</td>\n",
              "      <td>5</td>\n",
              "      <td>6</td>\n",
              "    </tr>\n",
              "    <tr>\n",
              "      <th>2</th>\n",
              "      <td>GP</td>\n",
              "      <td>F</td>\n",
              "      <td>15</td>\n",
              "      <td>U</td>\n",
              "      <td>LE3</td>\n",
              "      <td>T</td>\n",
              "      <td>1</td>\n",
              "      <td>1</td>\n",
              "      <td>at_home</td>\n",
              "      <td>other</td>\n",
              "      <td>other</td>\n",
              "      <td>mother</td>\n",
              "      <td>1</td>\n",
              "      <td>2</td>\n",
              "      <td>3</td>\n",
              "      <td>yes</td>\n",
              "      <td>no</td>\n",
              "      <td>yes</td>\n",
              "      <td>no</td>\n",
              "      <td>yes</td>\n",
              "      <td>yes</td>\n",
              "      <td>yes</td>\n",
              "      <td>no</td>\n",
              "      <td>4</td>\n",
              "      <td>3</td>\n",
              "      <td>2</td>\n",
              "      <td>2</td>\n",
              "      <td>3</td>\n",
              "      <td>3</td>\n",
              "      <td>10</td>\n",
              "      <td>7</td>\n",
              "      <td>8</td>\n",
              "      <td>10</td>\n",
              "    </tr>\n",
              "    <tr>\n",
              "      <th>3</th>\n",
              "      <td>GP</td>\n",
              "      <td>F</td>\n",
              "      <td>15</td>\n",
              "      <td>U</td>\n",
              "      <td>GT3</td>\n",
              "      <td>T</td>\n",
              "      <td>4</td>\n",
              "      <td>2</td>\n",
              "      <td>health</td>\n",
              "      <td>services</td>\n",
              "      <td>home</td>\n",
              "      <td>mother</td>\n",
              "      <td>1</td>\n",
              "      <td>3</td>\n",
              "      <td>0</td>\n",
              "      <td>no</td>\n",
              "      <td>yes</td>\n",
              "      <td>yes</td>\n",
              "      <td>yes</td>\n",
              "      <td>yes</td>\n",
              "      <td>yes</td>\n",
              "      <td>yes</td>\n",
              "      <td>yes</td>\n",
              "      <td>3</td>\n",
              "      <td>2</td>\n",
              "      <td>2</td>\n",
              "      <td>1</td>\n",
              "      <td>1</td>\n",
              "      <td>5</td>\n",
              "      <td>2</td>\n",
              "      <td>15</td>\n",
              "      <td>14</td>\n",
              "      <td>15</td>\n",
              "    </tr>\n",
              "    <tr>\n",
              "      <th>4</th>\n",
              "      <td>GP</td>\n",
              "      <td>F</td>\n",
              "      <td>16</td>\n",
              "      <td>U</td>\n",
              "      <td>GT3</td>\n",
              "      <td>T</td>\n",
              "      <td>3</td>\n",
              "      <td>3</td>\n",
              "      <td>other</td>\n",
              "      <td>other</td>\n",
              "      <td>home</td>\n",
              "      <td>father</td>\n",
              "      <td>1</td>\n",
              "      <td>2</td>\n",
              "      <td>0</td>\n",
              "      <td>no</td>\n",
              "      <td>yes</td>\n",
              "      <td>yes</td>\n",
              "      <td>no</td>\n",
              "      <td>yes</td>\n",
              "      <td>yes</td>\n",
              "      <td>no</td>\n",
              "      <td>no</td>\n",
              "      <td>4</td>\n",
              "      <td>3</td>\n",
              "      <td>2</td>\n",
              "      <td>1</td>\n",
              "      <td>2</td>\n",
              "      <td>5</td>\n",
              "      <td>4</td>\n",
              "      <td>6</td>\n",
              "      <td>10</td>\n",
              "      <td>10</td>\n",
              "    </tr>\n",
              "    <tr>\n",
              "      <th>5</th>\n",
              "      <td>GP</td>\n",
              "      <td>M</td>\n",
              "      <td>16</td>\n",
              "      <td>U</td>\n",
              "      <td>LE3</td>\n",
              "      <td>T</td>\n",
              "      <td>4</td>\n",
              "      <td>3</td>\n",
              "      <td>services</td>\n",
              "      <td>other</td>\n",
              "      <td>reputation</td>\n",
              "      <td>mother</td>\n",
              "      <td>1</td>\n",
              "      <td>2</td>\n",
              "      <td>0</td>\n",
              "      <td>no</td>\n",
              "      <td>yes</td>\n",
              "      <td>yes</td>\n",
              "      <td>yes</td>\n",
              "      <td>yes</td>\n",
              "      <td>yes</td>\n",
              "      <td>yes</td>\n",
              "      <td>no</td>\n",
              "      <td>5</td>\n",
              "      <td>4</td>\n",
              "      <td>2</td>\n",
              "      <td>1</td>\n",
              "      <td>2</td>\n",
              "      <td>5</td>\n",
              "      <td>10</td>\n",
              "      <td>15</td>\n",
              "      <td>15</td>\n",
              "      <td>15</td>\n",
              "    </tr>\n",
              "    <tr>\n",
              "      <th>6</th>\n",
              "      <td>GP</td>\n",
              "      <td>M</td>\n",
              "      <td>16</td>\n",
              "      <td>U</td>\n",
              "      <td>LE3</td>\n",
              "      <td>T</td>\n",
              "      <td>2</td>\n",
              "      <td>2</td>\n",
              "      <td>other</td>\n",
              "      <td>other</td>\n",
              "      <td>home</td>\n",
              "      <td>mother</td>\n",
              "      <td>1</td>\n",
              "      <td>2</td>\n",
              "      <td>0</td>\n",
              "      <td>no</td>\n",
              "      <td>no</td>\n",
              "      <td>no</td>\n",
              "      <td>no</td>\n",
              "      <td>yes</td>\n",
              "      <td>yes</td>\n",
              "      <td>yes</td>\n",
              "      <td>no</td>\n",
              "      <td>4</td>\n",
              "      <td>4</td>\n",
              "      <td>4</td>\n",
              "      <td>1</td>\n",
              "      <td>1</td>\n",
              "      <td>3</td>\n",
              "      <td>0</td>\n",
              "      <td>12</td>\n",
              "      <td>12</td>\n",
              "      <td>11</td>\n",
              "    </tr>\n",
              "    <tr>\n",
              "      <th>7</th>\n",
              "      <td>GP</td>\n",
              "      <td>F</td>\n",
              "      <td>17</td>\n",
              "      <td>U</td>\n",
              "      <td>GT3</td>\n",
              "      <td>A</td>\n",
              "      <td>4</td>\n",
              "      <td>4</td>\n",
              "      <td>other</td>\n",
              "      <td>teacher</td>\n",
              "      <td>home</td>\n",
              "      <td>mother</td>\n",
              "      <td>2</td>\n",
              "      <td>2</td>\n",
              "      <td>0</td>\n",
              "      <td>yes</td>\n",
              "      <td>yes</td>\n",
              "      <td>no</td>\n",
              "      <td>no</td>\n",
              "      <td>yes</td>\n",
              "      <td>yes</td>\n",
              "      <td>no</td>\n",
              "      <td>no</td>\n",
              "      <td>4</td>\n",
              "      <td>1</td>\n",
              "      <td>4</td>\n",
              "      <td>1</td>\n",
              "      <td>1</td>\n",
              "      <td>1</td>\n",
              "      <td>6</td>\n",
              "      <td>6</td>\n",
              "      <td>5</td>\n",
              "      <td>6</td>\n",
              "    </tr>\n",
              "    <tr>\n",
              "      <th>8</th>\n",
              "      <td>GP</td>\n",
              "      <td>M</td>\n",
              "      <td>15</td>\n",
              "      <td>U</td>\n",
              "      <td>LE3</td>\n",
              "      <td>A</td>\n",
              "      <td>3</td>\n",
              "      <td>2</td>\n",
              "      <td>services</td>\n",
              "      <td>other</td>\n",
              "      <td>home</td>\n",
              "      <td>mother</td>\n",
              "      <td>1</td>\n",
              "      <td>2</td>\n",
              "      <td>0</td>\n",
              "      <td>no</td>\n",
              "      <td>yes</td>\n",
              "      <td>yes</td>\n",
              "      <td>no</td>\n",
              "      <td>yes</td>\n",
              "      <td>yes</td>\n",
              "      <td>yes</td>\n",
              "      <td>no</td>\n",
              "      <td>4</td>\n",
              "      <td>2</td>\n",
              "      <td>2</td>\n",
              "      <td>1</td>\n",
              "      <td>1</td>\n",
              "      <td>1</td>\n",
              "      <td>0</td>\n",
              "      <td>16</td>\n",
              "      <td>18</td>\n",
              "      <td>19</td>\n",
              "    </tr>\n",
              "    <tr>\n",
              "      <th>9</th>\n",
              "      <td>GP</td>\n",
              "      <td>M</td>\n",
              "      <td>15</td>\n",
              "      <td>U</td>\n",
              "      <td>GT3</td>\n",
              "      <td>T</td>\n",
              "      <td>3</td>\n",
              "      <td>4</td>\n",
              "      <td>other</td>\n",
              "      <td>other</td>\n",
              "      <td>home</td>\n",
              "      <td>mother</td>\n",
              "      <td>1</td>\n",
              "      <td>2</td>\n",
              "      <td>0</td>\n",
              "      <td>no</td>\n",
              "      <td>yes</td>\n",
              "      <td>yes</td>\n",
              "      <td>yes</td>\n",
              "      <td>yes</td>\n",
              "      <td>yes</td>\n",
              "      <td>yes</td>\n",
              "      <td>no</td>\n",
              "      <td>5</td>\n",
              "      <td>5</td>\n",
              "      <td>1</td>\n",
              "      <td>1</td>\n",
              "      <td>1</td>\n",
              "      <td>5</td>\n",
              "      <td>0</td>\n",
              "      <td>14</td>\n",
              "      <td>15</td>\n",
              "      <td>15</td>\n",
              "    </tr>\n",
              "  </tbody>\n",
              "</table>\n",
              "</div>"
            ],
            "text/plain": [
              "  school sex  age address famsize Pstatus  ...  Walc  health absences  G1  G2  G3\n",
              "0     GP   F   18       U     GT3       A  ...     1       3        6   5   6   6\n",
              "1     GP   F   17       U     GT3       T  ...     1       3        4   5   5   6\n",
              "2     GP   F   15       U     LE3       T  ...     3       3       10   7   8  10\n",
              "3     GP   F   15       U     GT3       T  ...     1       5        2  15  14  15\n",
              "4     GP   F   16       U     GT3       T  ...     2       5        4   6  10  10\n",
              "5     GP   M   16       U     LE3       T  ...     2       5       10  15  15  15\n",
              "6     GP   M   16       U     LE3       T  ...     1       3        0  12  12  11\n",
              "7     GP   F   17       U     GT3       A  ...     1       1        6   6   5   6\n",
              "8     GP   M   15       U     LE3       A  ...     1       1        0  16  18  19\n",
              "9     GP   M   15       U     GT3       T  ...     1       5        0  14  15  15\n",
              "\n",
              "[10 rows x 33 columns]"
            ]
          },
          "metadata": {
            "tags": []
          },
          "execution_count": 7
        }
      ]
    },
    {
      "cell_type": "markdown",
      "metadata": {
        "id": "i2bal50yG_PZ"
      },
      "source": [
        "We are just going to consider the columns `G1` and `G3` for univariate linear regression\n",
        "\n",
        "$G3_i = G1_i  \\cdot \\theta_1 + \\theta_0$"
      ]
    },
    {
      "cell_type": "code",
      "metadata": {
        "colab": {
          "base_uri": "https://localhost:8080/",
          "height": 205
        },
        "id": "Yw0PNCuTSEDC",
        "outputId": "2ab6aa9e-5e8c-481f-e9ba-955632f1a4f0"
      },
      "source": [
        "uniMathData = mathData[['G1', 'G3']]\n",
        "uniMathData.head(5)"
      ],
      "execution_count": 8,
      "outputs": [
        {
          "output_type": "execute_result",
          "data": {
            "text/html": [
              "<div>\n",
              "<style scoped>\n",
              "    .dataframe tbody tr th:only-of-type {\n",
              "        vertical-align: middle;\n",
              "    }\n",
              "\n",
              "    .dataframe tbody tr th {\n",
              "        vertical-align: top;\n",
              "    }\n",
              "\n",
              "    .dataframe thead th {\n",
              "        text-align: right;\n",
              "    }\n",
              "</style>\n",
              "<table border=\"1\" class=\"dataframe\">\n",
              "  <thead>\n",
              "    <tr style=\"text-align: right;\">\n",
              "      <th></th>\n",
              "      <th>G1</th>\n",
              "      <th>G3</th>\n",
              "    </tr>\n",
              "  </thead>\n",
              "  <tbody>\n",
              "    <tr>\n",
              "      <th>0</th>\n",
              "      <td>5</td>\n",
              "      <td>6</td>\n",
              "    </tr>\n",
              "    <tr>\n",
              "      <th>1</th>\n",
              "      <td>5</td>\n",
              "      <td>6</td>\n",
              "    </tr>\n",
              "    <tr>\n",
              "      <th>2</th>\n",
              "      <td>7</td>\n",
              "      <td>10</td>\n",
              "    </tr>\n",
              "    <tr>\n",
              "      <th>3</th>\n",
              "      <td>15</td>\n",
              "      <td>15</td>\n",
              "    </tr>\n",
              "    <tr>\n",
              "      <th>4</th>\n",
              "      <td>6</td>\n",
              "      <td>10</td>\n",
              "    </tr>\n",
              "  </tbody>\n",
              "</table>\n",
              "</div>"
            ],
            "text/plain": [
              "   G1  G3\n",
              "0   5   6\n",
              "1   5   6\n",
              "2   7  10\n",
              "3  15  15\n",
              "4   6  10"
            ]
          },
          "metadata": {
            "tags": []
          },
          "execution_count": 8
        }
      ]
    },
    {
      "cell_type": "code",
      "metadata": {
        "id": "eyzP9mL4Hmb5"
      },
      "source": [
        "uniMathData.to_csv('univariate_MathData_2.csv')"
      ],
      "execution_count": 9,
      "outputs": []
    },
    {
      "cell_type": "code",
      "metadata": {
        "colab": {
          "base_uri": "https://localhost:8080/"
        },
        "id": "I-3qK_nNxnTA",
        "outputId": "531cc3ea-d725-4394-de28-b4e055510e96"
      },
      "source": [
        "ls"
      ],
      "execution_count": 10,
      "outputs": [
        {
          "output_type": "stream",
          "text": [
            "student-mat.csv  student-por.csv  univariate_MathData_2.csv  w-h.csv\n"
          ],
          "name": "stdout"
        }
      ]
    },
    {
      "cell_type": "markdown",
      "metadata": {
        "id": "ImV3p6AKxszU"
      },
      "source": [
        "## Data visualization"
      ]
    },
    {
      "cell_type": "code",
      "metadata": {
        "colab": {
          "base_uri": "https://localhost:8080/",
          "height": 157
        },
        "id": "RqumcsZLxq4v",
        "outputId": "0458734e-7a09-448f-9b35-84ba1f4ea047"
      },
      "source": [
        "import seaborn as sns\n",
        "sns.palplot(sns.color_palette('PuOr')) #Purple to Orange colors\n",
        "pal = sns.color_palette('PuOr', 6) #print 6 color shades from Purple to Orange\n",
        "pal.as_hex() #set hex code values for colors\n",
        "\n",
        "import matplotlib.pyplot as plt\n",
        "plt.style.use(['seaborn'])\n",
        "sns_colors = ['#c6690c', '#664697'] #orange Purple hex codes\n",
        "sns.set_palette(sns_colors) #set the palette as sns_colors \n",
        "sns.palplot(sns.color_palette(sns_colors)) #plot the color codes"
      ],
      "execution_count": 11,
      "outputs": [
        {
          "output_type": "display_data",
          "data": {
            "image/png": "[encoded data removed]",
            "text/plain": [
              "<Figure size 432x72 with 1 Axes>"
            ]
          },
          "metadata": {
            "tags": [],
            "needs_background": "light"
          }
        },
        {
          "output_type": "display_data",
          "data": {
            "image/png": "[encoded data removed]",
            "text/plain": [
              "<Figure size 144x72 with 1 Axes>"
            ]
          },
          "metadata": {
            "tags": []
          }
        }
      ]
    },
    {
      "cell_type": "code",
      "metadata": {
        "colab": {
          "base_uri": "https://localhost:8080/"
        },
        "id": "A6MT5E8Fy7MZ",
        "outputId": "261a482b-c3cd-4acb-d3ae-89df4adc2eca"
      },
      "source": [
        "uniMathData.columns #columns in the dataframe"
      ],
      "execution_count": 12,
      "outputs": [
        {
          "output_type": "execute_result",
          "data": {
            "text/plain": [
              "Index(['G1', 'G3'], dtype='object')"
            ]
          },
          "metadata": {
            "tags": []
          },
          "execution_count": 12
        }
      ]
    },
    {
      "cell_type": "code",
      "metadata": {
        "colab": {
          "base_uri": "https://localhost:8080/",
          "height": 391
        },
        "id": "PrsTwdHHzBbk",
        "outputId": "90f72183-bbe7-4f5a-b8f0-01d71058320c"
      },
      "source": [
        "#pairplot for all the values\n",
        "\n",
        "sns.pairplot(uniMathData,\n",
        "             x_vars = ['G1', 'G3'],\n",
        "             y_vars =  ['G1', 'G3'],\n",
        "       diag_kind='kde'\n",
        "             )"
      ],
      "execution_count": 13,
      "outputs": [
        {
          "output_type": "execute_result",
          "data": {
            "text/plain": [
              "<seaborn.axisgrid.PairGrid at 0x7f17236c4ed0>"
            ]
          },
          "metadata": {
            "tags": []
          },
          "execution_count": 13
        },
        {
          "output_type": "display_data",
          "data": {
            "image/png": "[encoded data removed]",
            "text/plain": [
              "<Figure size 360x360 with 6 Axes>"
            ]
          },
          "metadata": {
            "tags": []
          }
        }
      ]
    },
    {
      "cell_type": "markdown",
      "metadata": {
        "id": "Klm33YcpKZkl"
      },
      "source": [
        "## Data Splits"
      ]
    },
    {
      "cell_type": "code",
      "metadata": {
        "colab": {
          "base_uri": "https://localhost:8080/"
        },
        "id": "UwrSOCKS1NhN",
        "outputId": "cbe6e0c9-bbff-45ed-e7f8-eb374602060c"
      },
      "source": [
        "#80-20 train-test percent split\n",
        "\n",
        "trainDataset = uniMathData.sample(frac=0.8, random_state=0) \n",
        "testDataset = uniMathData.drop(trainDataset.index)\n",
        "\n",
        "print(trainDataset.head())\n",
        "print(testDataset.head())"
      ],
      "execution_count": 14,
      "outputs": [
        {
          "output_type": "stream",
          "text": [
            "     G1  G3\n",
            "329  14  14\n",
            "318  11  10\n",
            "317   9   9\n",
            "65   16  15\n",
            "59   15  16\n",
            "    G1  G3\n",
            "9   14  15\n",
            "25   6   8\n",
            "28  11  11\n",
            "31  17  17\n",
            "32  17  16\n"
          ],
          "name": "stdout"
        }
      ]
    },
    {
      "cell_type": "code",
      "metadata": {
        "colab": {
          "base_uri": "https://localhost:8080/"
        },
        "id": "YWO2xRV53wV-",
        "outputId": "268de4d5-71ca-4cfb-a045-19a0ded64ceb"
      },
      "source": [
        "print(trainDataset.shape)\n",
        "print(testDataset.shape)"
      ],
      "execution_count": 15,
      "outputs": [
        {
          "output_type": "stream",
          "text": [
            "(316, 2)\n",
            "(79, 2)\n"
          ],
          "name": "stdout"
        }
      ]
    },
    {
      "cell_type": "code",
      "metadata": {
        "colab": {
          "base_uri": "https://localhost:8080/"
        },
        "id": "OmDTbvMC32hg",
        "outputId": "22ca37ed-5242-471e-c7e0-92b0ff003f1a"
      },
      "source": [
        "#copy the trainDataset dataframe for getting the features\n",
        "\n",
        "trainFeatures = trainDataset.copy()\n",
        "testFeatures = testDataset.copy()\n",
        "\n",
        "print(trainFeatures.head())\n",
        "print(testFeatures.head())"
      ],
      "execution_count": 16,
      "outputs": [
        {
          "output_type": "stream",
          "text": [
            "     G1  G3\n",
            "329  14  14\n",
            "318  11  10\n",
            "317   9   9\n",
            "65   16  15\n",
            "59   15  16\n",
            "    G1  G3\n",
            "9   14  15\n",
            "25   6   8\n",
            "28  11  11\n",
            "31  17  17\n",
            "32  17  16\n"
          ],
          "name": "stdout"
        }
      ]
    },
    {
      "cell_type": "code",
      "metadata": {
        "colab": {
          "base_uri": "https://localhost:8080/"
        },
        "id": "jSR0_uni4ayh",
        "outputId": "c866c61c-a5e0-4698-e696-61f80d06e16f"
      },
      "source": [
        "#removing the G3 column and saving it into the labels variable\n",
        "\n",
        "trainLabels = trainFeatures.pop('G3')\n",
        "testLabels = testFeatures.pop('G3')\n",
        "\n",
        "print(trainLabels.head())\n",
        "print(testLabels.head())"
      ],
      "execution_count": 17,
      "outputs": [
        {
          "output_type": "stream",
          "text": [
            "329    14\n",
            "318    10\n",
            "317     9\n",
            "65     15\n",
            "59     16\n",
            "Name: G3, dtype: int64\n",
            "9     15\n",
            "25     8\n",
            "28    11\n",
            "31    17\n",
            "32    16\n",
            "Name: G3, dtype: int64\n"
          ],
          "name": "stdout"
        }
      ]
    },
    {
      "cell_type": "code",
      "metadata": {
        "colab": {
          "base_uri": "https://localhost:8080/"
        },
        "id": "4I-CMCqmmGDX",
        "outputId": "86c5018c-b774-4920-899d-27dfa4b32315"
      },
      "source": [
        "print(trainLabels.describe())"
      ],
      "execution_count": 79,
      "outputs": [
        {
          "output_type": "stream",
          "text": [
            "count    316.000000\n",
            "mean      10.303797\n",
            "std        4.575586\n",
            "min        0.000000\n",
            "25%        8.000000\n",
            "50%       11.000000\n",
            "75%       13.000000\n",
            "max       19.000000\n",
            "Name: G3, dtype: float64\n"
          ],
          "name": "stdout"
        }
      ]
    },
    {
      "cell_type": "code",
      "metadata": {
        "colab": {
          "base_uri": "https://localhost:8080/"
        },
        "id": "HnGSqb-q4wk8",
        "outputId": "844fd0dd-bcff-4f9d-e714-295bfb2a2f14"
      },
      "source": [
        "print(trainFeatures.head())\n",
        "print(testFeatures.head())"
      ],
      "execution_count": 18,
      "outputs": [
        {
          "output_type": "stream",
          "text": [
            "     G1\n",
            "329  14\n",
            "318  11\n",
            "317   9\n",
            "65   16\n",
            "59   15\n",
            "    G1\n",
            "9   14\n",
            "25   6\n",
            "28  11\n",
            "31  17\n",
            "32  17\n"
          ],
          "name": "stdout"
        }
      ]
    },
    {
      "cell_type": "code",
      "metadata": {
        "id": "XPTSq34jk4o_"
      },
      "source": [
        "# univariate -> num(features) = 1\n",
        "# multvariate -> num(features) > 1 = 11\n",
        "\n",
        "\n",
        "model = tf.keras.Sequential([\n",
        "                             tf.keras.layers.Dense(1)\n",
        "\n",
        "])"
      ],
      "execution_count": 35,
      "outputs": []
    },
    {
      "cell_type": "code",
      "metadata": {
        "id": "4C4GKBdE6iCE"
      },
      "source": [
        "model.compile(\n",
        "    loss = 'mean_absolute_error', #minimizing the MAE loss\n",
        "    optimizer = tf.keras.optimizers.Adam(0.001), #learning rate specified as 0.001\n",
        "    # optimizer = 'adam', #takes the default learning rate\n",
        "    metrics = ['mae', 'mse'] #meanSquare and meanAbsolute error metrics\n",
        ")"
      ],
      "execution_count": 36,
      "outputs": []
    },
    {
      "cell_type": "code",
      "metadata": {
        "colab": {
          "base_uri": "https://localhost:8080/"
        },
        "id": "d_A7DrhB6zvm",
        "outputId": "39d8eccb-6f36-4857-95e5-a7d0b1955c91"
      },
      "source": [
        "numEpochs = 300\n",
        "history = model.fit(x = trainFeatures, y = trainLabels, validation_data = (testFeatures, testLabels), epochs = numEpochs)"
      ],
      "execution_count": 37,
      "outputs": [
        {
          "output_type": "stream",
          "text": [
            "Epoch 1/300\n",
            "10/10 [==============================] - 0s 17ms/step - loss: 18.1256 - mae: 18.1256 - mse: 372.1845 - val_loss: 19.1212 - val_mae: 19.1212 - val_mse: 412.0621\n",
            "Epoch 2/300\n",
            "10/10 [==============================] - 0s 4ms/step - loss: 18.0077 - mae: 18.0077 - mse: 367.4999 - val_loss: 18.9971 - val_mae: 18.9971 - val_mse: 406.8950\n",
            "Epoch 3/300\n",
            "10/10 [==============================] - 0s 3ms/step - loss: 17.8899 - mae: 17.8899 - mse: 362.8549 - val_loss: 18.8728 - val_mae: 18.8728 - val_mse: 401.7568\n",
            "Epoch 4/300\n",
            "10/10 [==============================] - 0s 4ms/step - loss: 17.7727 - mae: 17.7727 - mse: 358.2838 - val_loss: 18.7481 - val_mae: 18.7481 - val_mse: 396.6334\n",
            "Epoch 5/300\n",
            "10/10 [==============================] - 0s 4ms/step - loss: 17.6558 - mae: 17.6558 - mse: 353.8352 - val_loss: 18.6231 - val_mae: 18.6231 - val_mse: 391.5292\n",
            "Epoch 6/300\n",
            "10/10 [==============================] - 0s 3ms/step - loss: 17.5374 - mae: 17.5374 - mse: 349.2525 - val_loss: 18.4988 - val_mae: 18.4988 - val_mse: 386.4909\n",
            "Epoch 7/300\n",
            "10/10 [==============================] - 0s 4ms/step - loss: 17.4194 - mae: 17.4194 - mse: 344.7216 - val_loss: 18.3747 - val_mae: 18.3747 - val_mse: 381.4929\n",
            "Epoch 8/300\n",
            "10/10 [==============================] - 0s 3ms/step - loss: 17.3027 - mae: 17.3027 - mse: 340.3127 - val_loss: 18.2498 - val_mae: 18.2498 - val_mse: 376.4924\n",
            "Epoch 9/300\n",
            "10/10 [==============================] - 0s 4ms/step - loss: 17.1848 - mae: 17.1848 - mse: 335.8646 - val_loss: 18.1253 - val_mae: 18.1253 - val_mse: 371.5430\n",
            "Epoch 10/300\n",
            "10/10 [==============================] - 0s 3ms/step - loss: 17.0675 - mae: 17.0675 - mse: 331.4865 - val_loss: 18.0005 - val_mae: 18.0005 - val_mse: 366.6190\n",
            "Epoch 11/300\n",
            "10/10 [==============================] - 0s 4ms/step - loss: 16.9501 - mae: 16.9501 - mse: 327.1487 - val_loss: 17.8758 - val_mae: 17.8758 - val_mse: 361.7271\n",
            "Epoch 12/300\n",
            "10/10 [==============================] - 0s 4ms/step - loss: 16.8322 - mae: 16.8322 - mse: 322.7827 - val_loss: 17.7514 - val_mae: 17.7514 - val_mse: 356.8839\n",
            "Epoch 13/300\n",
            "10/10 [==============================] - 0s 4ms/step - loss: 16.7150 - mae: 16.7150 - mse: 318.4980 - val_loss: 17.6267 - val_mae: 17.6267 - val_mse: 352.0624\n",
            "Epoch 14/300\n",
            "10/10 [==============================] - 0s 4ms/step - loss: 16.5974 - mae: 16.5974 - mse: 314.2075 - val_loss: 17.5022 - val_mae: 17.5022 - val_mse: 347.2798\n",
            "Epoch 15/300\n",
            "10/10 [==============================] - 0s 4ms/step - loss: 16.4798 - mae: 16.4798 - mse: 309.9477 - val_loss: 17.3778 - val_mae: 17.3778 - val_mse: 342.5340\n",
            "Epoch 16/300\n",
            "10/10 [==============================] - 0s 4ms/step - loss: 16.3619 - mae: 16.3619 - mse: 305.7110 - val_loss: 17.2536 - val_mae: 17.2536 - val_mse: 337.8319\n",
            "Epoch 17/300\n",
            "10/10 [==============================] - 0s 4ms/step - loss: 16.2448 - mae: 16.2448 - mse: 301.5235 - val_loss: 17.1291 - val_mae: 17.1291 - val_mse: 333.1486\n",
            "Epoch 18/300\n",
            "10/10 [==============================] - 0s 7ms/step - loss: 16.1273 - mae: 16.1273 - mse: 297.3847 - val_loss: 17.0043 - val_mae: 17.0043 - val_mse: 328.4905\n",
            "Epoch 19/300\n",
            "10/10 [==============================] - 0s 4ms/step - loss: 16.0099 - mae: 16.0099 - mse: 293.2805 - val_loss: 16.8795 - val_mae: 16.8795 - val_mse: 323.8660\n",
            "Epoch 20/300\n",
            "10/10 [==============================] - 0s 4ms/step - loss: 15.8916 - mae: 15.8916 - mse: 289.1219 - val_loss: 16.7555 - val_mae: 16.7555 - val_mse: 319.3025\n",
            "Epoch 21/300\n",
            "10/10 [==============================] - 0s 4ms/step - loss: 15.7747 - mae: 15.7747 - mse: 285.0703 - val_loss: 16.6309 - val_mae: 16.6309 - val_mse: 314.7484\n",
            "Epoch 22/300\n",
            "10/10 [==============================] - 0s 4ms/step - loss: 15.6570 - mae: 15.6570 - mse: 281.0365 - val_loss: 16.5064 - val_mae: 16.5064 - val_mse: 310.2348\n",
            "Epoch 23/300\n",
            "10/10 [==============================] - 0s 4ms/step - loss: 15.5397 - mae: 15.5397 - mse: 277.0419 - val_loss: 16.3816 - val_mae: 16.3816 - val_mse: 305.7443\n",
            "Epoch 24/300\n",
            "10/10 [==============================] - 0s 4ms/step - loss: 15.4216 - mae: 15.4216 - mse: 273.0248 - val_loss: 16.2575 - val_mae: 16.2575 - val_mse: 301.3085\n",
            "Epoch 25/300\n",
            "10/10 [==============================] - 0s 3ms/step - loss: 15.3044 - mae: 15.3044 - mse: 269.0887 - val_loss: 16.1330 - val_mae: 16.1330 - val_mse: 296.8940\n",
            "Epoch 26/300\n",
            "10/10 [==============================] - 0s 4ms/step - loss: 15.1874 - mae: 15.1874 - mse: 265.2318 - val_loss: 16.0080 - val_mae: 16.0080 - val_mse: 292.4936\n",
            "Epoch 27/300\n",
            "10/10 [==============================] - 0s 4ms/step - loss: 15.0694 - mae: 15.0694 - mse: 261.2780 - val_loss: 15.8835 - val_mae: 15.8835 - val_mse: 288.1477\n",
            "Epoch 28/300\n",
            "10/10 [==============================] - 0s 4ms/step - loss: 14.9521 - mae: 14.9521 - mse: 257.4626 - val_loss: 15.7587 - val_mae: 15.7587 - val_mse: 283.8215\n",
            "Epoch 29/300\n",
            "10/10 [==============================] - 0s 4ms/step - loss: 14.8339 - mae: 14.8339 - mse: 253.5814 - val_loss: 15.6347 - val_mae: 15.6347 - val_mse: 279.5555\n",
            "Epoch 30/300\n",
            "10/10 [==============================] - 0s 4ms/step - loss: 14.7167 - mae: 14.7167 - mse: 249.7675 - val_loss: 15.5103 - val_mae: 15.5103 - val_mse: 275.3112\n",
            "Epoch 31/300\n",
            "10/10 [==============================] - 0s 4ms/step - loss: 14.5994 - mae: 14.5994 - mse: 246.0227 - val_loss: 15.3856 - val_mae: 15.3856 - val_mse: 271.0905\n",
            "Epoch 32/300\n",
            "10/10 [==============================] - 0s 5ms/step - loss: 14.4816 - mae: 14.4816 - mse: 242.2574 - val_loss: 15.2613 - val_mae: 15.2613 - val_mse: 266.9152\n",
            "Epoch 33/300\n",
            "10/10 [==============================] - 0s 4ms/step - loss: 14.3639 - mae: 14.3639 - mse: 238.5191 - val_loss: 15.1370 - val_mae: 15.1370 - val_mse: 262.7746\n",
            "Epoch 34/300\n",
            "10/10 [==============================] - 0s 4ms/step - loss: 14.2470 - mae: 14.2470 - mse: 234.8954 - val_loss: 15.0121 - val_mae: 15.0121 - val_mse: 258.6470\n",
            "Epoch 35/300\n",
            "10/10 [==============================] - 0s 4ms/step - loss: 14.1296 - mae: 14.1296 - mse: 231.2549 - val_loss: 14.8871 - val_mae: 14.8871 - val_mse: 254.5495\n",
            "Epoch 36/300\n",
            "10/10 [==============================] - 0s 4ms/step - loss: 14.0120 - mae: 14.0120 - mse: 227.6403 - val_loss: 14.7623 - val_mae: 14.7623 - val_mse: 250.4908\n",
            "Epoch 37/300\n",
            "10/10 [==============================] - 0s 4ms/step - loss: 13.8930 - mae: 13.8930 - mse: 223.9192 - val_loss: 14.6390 - val_mae: 14.6390 - val_mse: 246.5143\n",
            "Epoch 38/300\n",
            "10/10 [==============================] - 0s 4ms/step - loss: 13.7773 - mae: 13.7773 - mse: 220.4752 - val_loss: 14.5137 - val_mae: 14.5137 - val_mse: 242.5074\n",
            "Epoch 39/300\n",
            "10/10 [==============================] - 0s 5ms/step - loss: 13.6590 - mae: 13.6590 - mse: 216.9119 - val_loss: 14.3893 - val_mae: 14.3893 - val_mse: 238.5628\n",
            "Epoch 40/300\n",
            "10/10 [==============================] - 0s 4ms/step - loss: 13.5406 - mae: 13.5406 - mse: 213.3320 - val_loss: 14.2658 - val_mae: 14.2658 - val_mse: 234.6792\n",
            "Epoch 41/300\n",
            "10/10 [==============================] - 0s 4ms/step - loss: 13.4243 - mae: 13.4243 - mse: 209.9307 - val_loss: 14.1408 - val_mae: 14.1408 - val_mse: 230.7842\n",
            "Epoch 42/300\n",
            "10/10 [==============================] - 0s 4ms/step - loss: 13.3068 - mae: 13.3068 - mse: 206.5066 - val_loss: 14.0161 - val_mae: 14.0161 - val_mse: 226.9268\n",
            "Epoch 43/300\n",
            "10/10 [==============================] - 0s 5ms/step - loss: 13.1897 - mae: 13.1897 - mse: 203.1221 - val_loss: 13.8909 - val_mae: 13.8909 - val_mse: 223.0928\n",
            "Epoch 44/300\n",
            "10/10 [==============================] - 0s 4ms/step - loss: 13.0710 - mae: 13.0710 - mse: 199.6613 - val_loss: 13.7670 - val_mae: 13.7670 - val_mse: 219.3302\n",
            "Epoch 45/300\n",
            "10/10 [==============================] - 0s 5ms/step - loss: 12.9539 - mae: 12.9539 - mse: 196.3165 - val_loss: 13.6426 - val_mae: 13.6426 - val_mse: 215.5841\n",
            "Epoch 46/300\n",
            "10/10 [==============================] - 0s 4ms/step - loss: 12.8362 - mae: 12.8362 - mse: 192.9856 - val_loss: 13.5184 - val_mae: 13.5184 - val_mse: 211.8778\n",
            "Epoch 47/300\n",
            "10/10 [==============================] - 0s 4ms/step - loss: 12.7184 - mae: 12.7184 - mse: 189.6564 - val_loss: 13.3943 - val_mae: 13.3943 - val_mse: 208.2084\n",
            "Epoch 48/300\n",
            "10/10 [==============================] - 0s 3ms/step - loss: 12.6024 - mae: 12.6024 - mse: 186.4901 - val_loss: 13.2687 - val_mae: 13.2687 - val_mse: 204.5271\n",
            "Epoch 49/300\n",
            "10/10 [==============================] - 0s 4ms/step - loss: 12.4838 - mae: 12.4838 - mse: 183.2014 - val_loss: 13.1443 - val_mae: 13.1443 - val_mse: 200.9165\n",
            "Epoch 50/300\n",
            "10/10 [==============================] - 0s 5ms/step - loss: 12.3660 - mae: 12.3660 - mse: 179.9679 - val_loss: 13.0203 - val_mae: 13.0203 - val_mse: 197.3491\n",
            "Epoch 51/300\n",
            "10/10 [==============================] - 0s 6ms/step - loss: 12.2494 - mae: 12.2494 - mse: 176.8447 - val_loss: 12.8952 - val_mae: 12.8952 - val_mse: 193.7856\n",
            "Epoch 52/300\n",
            "10/10 [==============================] - 0s 5ms/step - loss: 12.1307 - mae: 12.1307 - mse: 173.6415 - val_loss: 12.7714 - val_mae: 12.7714 - val_mse: 190.2893\n",
            "Epoch 53/300\n",
            "10/10 [==============================] - 0s 4ms/step - loss: 12.0140 - mae: 12.0140 - mse: 170.5470 - val_loss: 12.6466 - val_mae: 12.6466 - val_mse: 186.8004\n",
            "Epoch 54/300\n",
            "10/10 [==============================] - 0s 5ms/step - loss: 11.8957 - mae: 11.8957 - mse: 167.4076 - val_loss: 12.5227 - val_mae: 12.5227 - val_mse: 183.3682\n",
            "Epoch 55/300\n",
            "10/10 [==============================] - 0s 5ms/step - loss: 11.7793 - mae: 11.7793 - mse: 164.4246 - val_loss: 12.3975 - val_mae: 12.3975 - val_mse: 179.9341\n",
            "Epoch 56/300\n",
            "10/10 [==============================] - 0s 7ms/step - loss: 11.6612 - mae: 11.6612 - mse: 161.3802 - val_loss: 12.2729 - val_mae: 12.2729 - val_mse: 176.5505\n",
            "Epoch 57/300\n",
            "10/10 [==============================] - 0s 4ms/step - loss: 11.5439 - mae: 11.5439 - mse: 158.3763 - val_loss: 12.1482 - val_mae: 12.1482 - val_mse: 173.1978\n",
            "Epoch 58/300\n",
            "10/10 [==============================] - 0s 4ms/step - loss: 11.4257 - mae: 11.4257 - mse: 155.3747 - val_loss: 12.0242 - val_mae: 12.0242 - val_mse: 169.8963\n",
            "Epoch 59/300\n",
            "10/10 [==============================] - 0s 3ms/step - loss: 11.3093 - mae: 11.3093 - mse: 152.5018 - val_loss: 11.8991 - val_mae: 11.8991 - val_mse: 166.5994\n",
            "Epoch 60/300\n",
            "10/10 [==============================] - 0s 4ms/step - loss: 11.1909 - mae: 11.1909 - mse: 149.5158 - val_loss: 11.7758 - val_mae: 11.7758 - val_mse: 163.3801\n",
            "Epoch 61/300\n",
            "10/10 [==============================] - 0s 4ms/step - loss: 11.0750 - mae: 11.0750 - mse: 146.7142 - val_loss: 11.6512 - val_mae: 11.6512 - val_mse: 160.1649\n",
            "Epoch 62/300\n",
            "10/10 [==============================] - 0s 3ms/step - loss: 10.9581 - mae: 10.9581 - mse: 143.8383 - val_loss: 11.5274 - val_mae: 11.5274 - val_mse: 157.0010\n",
            "Epoch 63/300\n",
            "10/10 [==============================] - 0s 4ms/step - loss: 10.8428 - mae: 10.8428 - mse: 141.0354 - val_loss: 11.4040 - val_mae: 11.4040 - val_mse: 153.8683\n",
            "Epoch 64/300\n",
            "10/10 [==============================] - 0s 5ms/step - loss: 10.7301 - mae: 10.7301 - mse: 138.2912 - val_loss: 11.2837 - val_mae: 11.2837 - val_mse: 150.8138\n",
            "Epoch 65/300\n",
            "10/10 [==============================] - 0s 4ms/step - loss: 10.6212 - mae: 10.6212 - mse: 135.5963 - val_loss: 11.1730 - val_mae: 11.1730 - val_mse: 147.8582\n",
            "Epoch 66/300\n",
            "10/10 [==============================] - 0s 6ms/step - loss: 10.5186 - mae: 10.5186 - mse: 133.0295 - val_loss: 11.0680 - val_mae: 11.0680 - val_mse: 144.9676\n",
            "Epoch 67/300\n",
            "10/10 [==============================] - 0s 4ms/step - loss: 10.4168 - mae: 10.4168 - mse: 130.4482 - val_loss: 10.9679 - val_mae: 10.9679 - val_mse: 142.2215\n",
            "Epoch 68/300\n",
            "10/10 [==============================] - 0s 4ms/step - loss: 10.3243 - mae: 10.3243 - mse: 128.0662 - val_loss: 10.8693 - val_mae: 10.8693 - val_mse: 139.5416\n",
            "Epoch 69/300\n",
            "10/10 [==============================] - 0s 4ms/step - loss: 10.2340 - mae: 10.2340 - mse: 125.6800 - val_loss: 10.7730 - val_mae: 10.7730 - val_mse: 136.9513\n",
            "Epoch 70/300\n",
            "10/10 [==============================] - 0s 4ms/step - loss: 10.1473 - mae: 10.1473 - mse: 123.4233 - val_loss: 10.6761 - val_mae: 10.6761 - val_mse: 134.3712\n",
            "Epoch 71/300\n",
            "10/10 [==============================] - 0s 4ms/step - loss: 10.0575 - mae: 10.0575 - mse: 121.0975 - val_loss: 10.5816 - val_mae: 10.5816 - val_mse: 131.8787\n",
            "Epoch 72/300\n",
            "10/10 [==============================] - 0s 4ms/step - loss: 9.9716 - mae: 9.9716 - mse: 118.8979 - val_loss: 10.4848 - val_mae: 10.4848 - val_mse: 129.3530\n",
            "Epoch 73/300\n",
            "10/10 [==============================] - 0s 4ms/step - loss: 9.8829 - mae: 9.8829 - mse: 116.6727 - val_loss: 10.3888 - val_mae: 10.3888 - val_mse: 126.8700\n",
            "Epoch 74/300\n",
            "10/10 [==============================] - 0s 4ms/step - loss: 9.7961 - mae: 9.7961 - mse: 114.4708 - val_loss: 10.2913 - val_mae: 10.2913 - val_mse: 124.3776\n",
            "Epoch 75/300\n",
            "10/10 [==============================] - 0s 6ms/step - loss: 9.7065 - mae: 9.7065 - mse: 112.2647 - val_loss: 10.1954 - val_mae: 10.1954 - val_mse: 121.9500\n",
            "Epoch 76/300\n",
            "10/10 [==============================] - 0s 4ms/step - loss: 9.6180 - mae: 9.6180 - mse: 110.1187 - val_loss: 10.0991 - val_mae: 10.0991 - val_mse: 119.5378\n",
            "Epoch 77/300\n",
            "10/10 [==============================] - 0s 5ms/step - loss: 9.5306 - mae: 9.5306 - mse: 107.9642 - val_loss: 10.0012 - val_mae: 10.0012 - val_mse: 117.1128\n",
            "Epoch 78/300\n",
            "10/10 [==============================] - 0s 4ms/step - loss: 9.4412 - mae: 9.4412 - mse: 105.8398 - val_loss: 9.9041 - val_mae: 9.9041 - val_mse: 114.7326\n",
            "Epoch 79/300\n",
            "10/10 [==============================] - 0s 4ms/step - loss: 9.3528 - mae: 9.3528 - mse: 103.7134 - val_loss: 9.8061 - val_mae: 9.8061 - val_mse: 112.3583\n",
            "Epoch 80/300\n",
            "10/10 [==============================] - 0s 4ms/step - loss: 9.2641 - mae: 9.2641 - mse: 101.6350 - val_loss: 9.7077 - val_mae: 9.7077 - val_mse: 109.9985\n",
            "Epoch 81/300\n",
            "10/10 [==============================] - 0s 4ms/step - loss: 9.1734 - mae: 9.1734 - mse: 99.5417 - val_loss: 9.6105 - val_mae: 9.6105 - val_mse: 107.6938\n",
            "Epoch 82/300\n",
            "10/10 [==============================] - 0s 4ms/step - loss: 9.0839 - mae: 9.0839 - mse: 97.4832 - val_loss: 9.5131 - val_mae: 9.5131 - val_mse: 105.4123\n",
            "Epoch 83/300\n",
            "10/10 [==============================] - 0s 4ms/step - loss: 8.9943 - mae: 8.9943 - mse: 95.4296 - val_loss: 9.4157 - val_mae: 9.4157 - val_mse: 103.1568\n",
            "Epoch 84/300\n",
            "10/10 [==============================] - 0s 4ms/step - loss: 8.9052 - mae: 8.9052 - mse: 93.4385 - val_loss: 9.3174 - val_mae: 9.3174 - val_mse: 100.9039\n",
            "Epoch 85/300\n",
            "10/10 [==============================] - 0s 4ms/step - loss: 8.8146 - mae: 8.8146 - mse: 91.4427 - val_loss: 9.2196 - val_mae: 9.2196 - val_mse: 98.6911\n",
            "Epoch 86/300\n",
            "10/10 [==============================] - 0s 4ms/step - loss: 8.7253 - mae: 8.7253 - mse: 89.4741 - val_loss: 9.1209 - val_mae: 9.1209 - val_mse: 96.4847\n",
            "Epoch 87/300\n",
            "10/10 [==============================] - 0s 4ms/step - loss: 8.6355 - mae: 8.6355 - mse: 87.5314 - val_loss: 9.0217 - val_mae: 9.0217 - val_mse: 94.2954\n",
            "Epoch 88/300\n",
            "10/10 [==============================] - 0s 5ms/step - loss: 8.5456 - mae: 8.5456 - mse: 85.6217 - val_loss: 8.9221 - val_mae: 8.9221 - val_mse: 92.1211\n",
            "Epoch 89/300\n",
            "10/10 [==============================] - 0s 4ms/step - loss: 8.4535 - mae: 8.4535 - mse: 83.6651 - val_loss: 8.8239 - val_mae: 8.8239 - val_mse: 90.0075\n",
            "Epoch 90/300\n",
            "10/10 [==============================] - 0s 4ms/step - loss: 8.3638 - mae: 8.3638 - mse: 81.8093 - val_loss: 8.7245 - val_mae: 8.7245 - val_mse: 87.8921\n",
            "Epoch 91/300\n",
            "10/10 [==============================] - 0s 5ms/step - loss: 8.2726 - mae: 8.2726 - mse: 79.9259 - val_loss: 8.6253 - val_mae: 8.6253 - val_mse: 85.8112\n",
            "Epoch 92/300\n",
            "10/10 [==============================] - 0s 4ms/step - loss: 8.1817 - mae: 8.1817 - mse: 78.0991 - val_loss: 8.5259 - val_mae: 8.5259 - val_mse: 83.7502\n",
            "Epoch 93/300\n",
            "10/10 [==============================] - 0s 4ms/step - loss: 8.0914 - mae: 8.0914 - mse: 76.2646 - val_loss: 8.4254 - val_mae: 8.4254 - val_mse: 81.6965\n",
            "Epoch 94/300\n",
            "10/10 [==============================] - 0s 4ms/step - loss: 7.9989 - mae: 7.9989 - mse: 74.4293 - val_loss: 8.3262 - val_mae: 8.3262 - val_mse: 79.6946\n",
            "Epoch 95/300\n",
            "10/10 [==============================] - 0s 4ms/step - loss: 7.9081 - mae: 7.9081 - mse: 72.6716 - val_loss: 8.2262 - val_mae: 8.2262 - val_mse: 77.7047\n",
            "Epoch 96/300\n",
            "10/10 [==============================] - 0s 4ms/step - loss: 7.8178 - mae: 7.8178 - mse: 70.9275 - val_loss: 8.1248 - val_mae: 8.1248 - val_mse: 75.7154\n",
            "Epoch 97/300\n",
            "10/10 [==============================] - 0s 5ms/step - loss: 7.7251 - mae: 7.7251 - mse: 69.1718 - val_loss: 8.0248 - val_mae: 8.0248 - val_mse: 73.7815\n",
            "Epoch 98/300\n",
            "10/10 [==============================] - 0s 5ms/step - loss: 7.6331 - mae: 7.6331 - mse: 67.4522 - val_loss: 7.9249 - val_mae: 7.9249 - val_mse: 71.8763\n",
            "Epoch 99/300\n",
            "10/10 [==============================] - 0s 5ms/step - loss: 7.5436 - mae: 7.5436 - mse: 65.8011 - val_loss: 7.8226 - val_mae: 7.8226 - val_mse: 69.9536\n",
            "Epoch 100/300\n",
            "10/10 [==============================] - 0s 4ms/step - loss: 7.4492 - mae: 7.4492 - mse: 64.0656 - val_loss: 7.7230 - val_mae: 7.7230 - val_mse: 68.1090\n",
            "Epoch 101/300\n",
            "10/10 [==============================] - 0s 4ms/step - loss: 7.3580 - mae: 7.3580 - mse: 62.4360 - val_loss: 7.6224 - val_mae: 7.6224 - val_mse: 66.2743\n",
            "Epoch 102/300\n",
            "10/10 [==============================] - 0s 4ms/step - loss: 7.2658 - mae: 7.2658 - mse: 60.8115 - val_loss: 7.5218 - val_mae: 7.5218 - val_mse: 64.4680\n",
            "Epoch 103/300\n",
            "10/10 [==============================] - 0s 4ms/step - loss: 7.1741 - mae: 7.1741 - mse: 59.2263 - val_loss: 7.4206 - val_mae: 7.4206 - val_mse: 62.6787\n",
            "Epoch 104/300\n",
            "10/10 [==============================] - 0s 4ms/step - loss: 7.0823 - mae: 7.0823 - mse: 57.6653 - val_loss: 7.3189 - val_mae: 7.3189 - val_mse: 60.9090\n",
            "Epoch 105/300\n",
            "10/10 [==============================] - 0s 4ms/step - loss: 6.9883 - mae: 6.9883 - mse: 56.0854 - val_loss: 7.2189 - val_mae: 7.2189 - val_mse: 59.1956\n",
            "Epoch 106/300\n",
            "10/10 [==============================] - 0s 5ms/step - loss: 6.8975 - mae: 6.8975 - mse: 54.5562 - val_loss: 7.1168 - val_mae: 7.1168 - val_mse: 57.4752\n",
            "Epoch 107/300\n",
            "10/10 [==============================] - 0s 4ms/step - loss: 6.8038 - mae: 6.8038 - mse: 53.0657 - val_loss: 7.0158 - val_mae: 7.0158 - val_mse: 55.8028\n",
            "Epoch 108/300\n",
            "10/10 [==============================] - 0s 4ms/step - loss: 6.7126 - mae: 6.7126 - mse: 51.5844 - val_loss: 6.9133 - val_mae: 6.9133 - val_mse: 54.1328\n",
            "Epoch 109/300\n",
            "10/10 [==============================] - 0s 5ms/step - loss: 6.6176 - mae: 6.6176 - mse: 50.0986 - val_loss: 6.8132 - val_mae: 6.8132 - val_mse: 52.5306\n",
            "Epoch 110/300\n",
            "10/10 [==============================] - 0s 5ms/step - loss: 6.5251 - mae: 6.5251 - mse: 48.6845 - val_loss: 6.7127 - val_mae: 6.7127 - val_mse: 50.9493\n",
            "Epoch 111/300\n",
            "10/10 [==============================] - 0s 4ms/step - loss: 6.4338 - mae: 6.4338 - mse: 47.2843 - val_loss: 6.6101 - val_mae: 6.6101 - val_mse: 49.3633\n",
            "Epoch 112/300\n",
            "10/10 [==============================] - 0s 4ms/step - loss: 6.3395 - mae: 6.3395 - mse: 45.8748 - val_loss: 6.5087 - val_mae: 6.5087 - val_mse: 47.8236\n",
            "Epoch 113/300\n",
            "10/10 [==============================] - 0s 5ms/step - loss: 6.2461 - mae: 6.2461 - mse: 44.5005 - val_loss: 6.4071 - val_mae: 6.4071 - val_mse: 46.3106\n",
            "Epoch 114/300\n",
            "10/10 [==============================] - 0s 4ms/step - loss: 6.1531 - mae: 6.1531 - mse: 43.1604 - val_loss: 6.3051 - val_mae: 6.3051 - val_mse: 44.8201\n",
            "Epoch 115/300\n",
            "10/10 [==============================] - 0s 4ms/step - loss: 6.0600 - mae: 6.0600 - mse: 41.8665 - val_loss: 6.2024 - val_mae: 6.2024 - val_mse: 43.3478\n",
            "Epoch 116/300\n",
            "10/10 [==============================] - 0s 4ms/step - loss: 5.9672 - mae: 5.9672 - mse: 40.5884 - val_loss: 6.0988 - val_mae: 6.0988 - val_mse: 41.8927\n",
            "Epoch 117/300\n",
            "10/10 [==============================] - 0s 7ms/step - loss: 5.8723 - mae: 5.8723 - mse: 39.3035 - val_loss: 5.9968 - val_mae: 5.9968 - val_mse: 40.4873\n",
            "Epoch 118/300\n",
            "10/10 [==============================] - 0s 5ms/step - loss: 5.7786 - mae: 5.7786 - mse: 38.0618 - val_loss: 5.8945 - val_mae: 5.8945 - val_mse: 39.1075\n",
            "Epoch 119/300\n",
            "10/10 [==============================] - 0s 4ms/step - loss: 5.6847 - mae: 5.6847 - mse: 36.8402 - val_loss: 5.7922 - val_mae: 5.7922 - val_mse: 37.7575\n",
            "Epoch 120/300\n",
            "10/10 [==============================] - 0s 4ms/step - loss: 5.5913 - mae: 5.5913 - mse: 35.6586 - val_loss: 5.6894 - val_mae: 5.6894 - val_mse: 36.4290\n",
            "Epoch 121/300\n",
            "10/10 [==============================] - 0s 4ms/step - loss: 5.4983 - mae: 5.4983 - mse: 34.4908 - val_loss: 5.5856 - val_mae: 5.5856 - val_mse: 35.1164\n",
            "Epoch 122/300\n",
            "10/10 [==============================] - 0s 4ms/step - loss: 5.4031 - mae: 5.4031 - mse: 33.3384 - val_loss: 5.4831 - val_mae: 5.4831 - val_mse: 33.8500\n",
            "Epoch 123/300\n",
            "10/10 [==============================] - 0s 4ms/step - loss: 5.3102 - mae: 5.3102 - mse: 32.2364 - val_loss: 5.3795 - val_mae: 5.3795 - val_mse: 32.5993\n",
            "Epoch 124/300\n",
            "10/10 [==============================] - 0s 5ms/step - loss: 5.2147 - mae: 5.2147 - mse: 31.1108 - val_loss: 5.2772 - val_mae: 5.2772 - val_mse: 31.3941\n",
            "Epoch 125/300\n",
            "10/10 [==============================] - 0s 5ms/step - loss: 5.1214 - mae: 5.1214 - mse: 30.0673 - val_loss: 5.1738 - val_mae: 5.1738 - val_mse: 30.2044\n",
            "Epoch 126/300\n",
            "10/10 [==============================] - 0s 5ms/step - loss: 5.0277 - mae: 5.0277 - mse: 29.0323 - val_loss: 5.0698 - val_mae: 5.0698 - val_mse: 29.0374\n",
            "Epoch 127/300\n",
            "10/10 [==============================] - 0s 4ms/step - loss: 4.9327 - mae: 4.9327 - mse: 28.0127 - val_loss: 4.9686 - val_mae: 4.9686 - val_mse: 27.9185\n",
            "Epoch 128/300\n",
            "10/10 [==============================] - 0s 4ms/step - loss: 4.8379 - mae: 4.8379 - mse: 26.9970 - val_loss: 4.8696 - val_mae: 4.8696 - val_mse: 26.8407\n",
            "Epoch 129/300\n",
            "10/10 [==============================] - 0s 4ms/step - loss: 4.7463 - mae: 4.7463 - mse: 26.0615 - val_loss: 4.7681 - val_mae: 4.7681 - val_mse: 25.7660\n",
            "Epoch 130/300\n",
            "10/10 [==============================] - 0s 4ms/step - loss: 4.6521 - mae: 4.6521 - mse: 25.1308 - val_loss: 4.6672 - val_mae: 4.6672 - val_mse: 24.7264\n",
            "Epoch 131/300\n",
            "10/10 [==============================] - 0s 5ms/step - loss: 4.5591 - mae: 4.5591 - mse: 24.2183 - val_loss: 4.5655 - val_mae: 4.5655 - val_mse: 23.7079\n",
            "Epoch 132/300\n",
            "10/10 [==============================] - 0s 4ms/step - loss: 4.4646 - mae: 4.4646 - mse: 23.3285 - val_loss: 4.4642 - val_mae: 4.4642 - val_mse: 22.7231\n",
            "Epoch 133/300\n",
            "10/10 [==============================] - 0s 4ms/step - loss: 4.3712 - mae: 4.3712 - mse: 22.4630 - val_loss: 4.3629 - val_mae: 4.3629 - val_mse: 21.7673\n",
            "Epoch 134/300\n",
            "10/10 [==============================] - 0s 4ms/step - loss: 4.2766 - mae: 4.2766 - mse: 21.6205 - val_loss: 4.2643 - val_mae: 4.2643 - val_mse: 20.8653\n",
            "Epoch 135/300\n",
            "10/10 [==============================] - 0s 5ms/step - loss: 4.1859 - mae: 4.1859 - mse: 20.8418 - val_loss: 4.1641 - val_mae: 4.1641 - val_mse: 19.9777\n",
            "Epoch 136/300\n",
            "10/10 [==============================] - 0s 4ms/step - loss: 4.0949 - mae: 4.0949 - mse: 20.0638 - val_loss: 4.0627 - val_mae: 4.0627 - val_mse: 19.1087\n",
            "Epoch 137/300\n",
            "10/10 [==============================] - 0s 4ms/step - loss: 4.0008 - mae: 4.0008 - mse: 19.3021 - val_loss: 3.9635 - val_mae: 3.9635 - val_mse: 18.2872\n",
            "Epoch 138/300\n",
            "10/10 [==============================] - 0s 4ms/step - loss: 3.9110 - mae: 3.9110 - mse: 18.5988 - val_loss: 3.8624 - val_mae: 3.8624 - val_mse: 17.4780\n",
            "Epoch 139/300\n",
            "10/10 [==============================] - 0s 4ms/step - loss: 3.8190 - mae: 3.8190 - mse: 17.8883 - val_loss: 3.7625 - val_mae: 3.7625 - val_mse: 16.7086\n",
            "Epoch 140/300\n",
            "10/10 [==============================] - 0s 4ms/step - loss: 3.7300 - mae: 3.7300 - mse: 17.2190 - val_loss: 3.6630 - val_mae: 3.6630 - val_mse: 15.9701\n",
            "Epoch 141/300\n",
            "10/10 [==============================] - 0s 4ms/step - loss: 3.6406 - mae: 3.6406 - mse: 16.5775 - val_loss: 3.5649 - val_mae: 3.5649 - val_mse: 15.2693\n",
            "Epoch 142/300\n",
            "10/10 [==============================] - 0s 4ms/step - loss: 3.5518 - mae: 3.5518 - mse: 15.9464 - val_loss: 3.4683 - val_mae: 3.4683 - val_mse: 14.6068\n",
            "Epoch 143/300\n",
            "10/10 [==============================] - 0s 4ms/step - loss: 3.4675 - mae: 3.4675 - mse: 15.3913 - val_loss: 3.3708 - val_mae: 3.3708 - val_mse: 13.9651\n",
            "Epoch 144/300\n",
            "10/10 [==============================] - 0s 4ms/step - loss: 3.3844 - mae: 3.3844 - mse: 14.8554 - val_loss: 3.2723 - val_mae: 3.2723 - val_mse: 13.3439\n",
            "Epoch 145/300\n",
            "10/10 [==============================] - 0s 4ms/step - loss: 3.2985 - mae: 3.2985 - mse: 14.3076 - val_loss: 3.1762 - val_mae: 3.1762 - val_mse: 12.7653\n",
            "Epoch 146/300\n",
            "10/10 [==============================] - 0s 3ms/step - loss: 3.2154 - mae: 3.2154 - mse: 13.8115 - val_loss: 3.0792 - val_mae: 3.0792 - val_mse: 12.2081\n",
            "Epoch 147/300\n",
            "10/10 [==============================] - 0s 4ms/step - loss: 3.1299 - mae: 3.1299 - mse: 13.3030 - val_loss: 2.9864 - val_mae: 2.9864 - val_mse: 11.6894\n",
            "Epoch 148/300\n",
            "10/10 [==============================] - 0s 4ms/step - loss: 3.0513 - mae: 3.0513 - mse: 12.8889 - val_loss: 2.8967 - val_mae: 2.8967 - val_mse: 11.1879\n",
            "Epoch 149/300\n",
            "10/10 [==============================] - 0s 4ms/step - loss: 2.9693 - mae: 2.9693 - mse: 12.4440 - val_loss: 2.8102 - val_mae: 2.8102 - val_mse: 10.7299\n",
            "Epoch 150/300\n",
            "10/10 [==============================] - 0s 4ms/step - loss: 2.8906 - mae: 2.8906 - mse: 12.0530 - val_loss: 2.7240 - val_mae: 2.7240 - val_mse: 10.2971\n",
            "Epoch 151/300\n",
            "10/10 [==============================] - 0s 4ms/step - loss: 2.8148 - mae: 2.8148 - mse: 11.6918 - val_loss: 2.6401 - val_mae: 2.6401 - val_mse: 9.8885\n",
            "Epoch 152/300\n",
            "10/10 [==============================] - 0s 4ms/step - loss: 2.7395 - mae: 2.7395 - mse: 11.3311 - val_loss: 2.5576 - val_mae: 2.5576 - val_mse: 9.5105\n",
            "Epoch 153/300\n",
            "10/10 [==============================] - 0s 6ms/step - loss: 2.6649 - mae: 2.6649 - mse: 11.0120 - val_loss: 2.4773 - val_mae: 2.4773 - val_mse: 9.1661\n",
            "Epoch 154/300\n",
            "10/10 [==============================] - 0s 5ms/step - loss: 2.5944 - mae: 2.5944 - mse: 10.7195 - val_loss: 2.3961 - val_mae: 2.3961 - val_mse: 8.8410\n",
            "Epoch 155/300\n",
            "10/10 [==============================] - 0s 5ms/step - loss: 2.5246 - mae: 2.5246 - mse: 10.4499 - val_loss: 2.3166 - val_mae: 2.3166 - val_mse: 8.5415\n",
            "Epoch 156/300\n",
            "10/10 [==============================] - 0s 4ms/step - loss: 2.4578 - mae: 2.4578 - mse: 10.1943 - val_loss: 2.2425 - val_mae: 2.2425 - val_mse: 8.2793\n",
            "Epoch 157/300\n",
            "10/10 [==============================] - 0s 5ms/step - loss: 2.4013 - mae: 2.4013 - mse: 9.9869 - val_loss: 2.1692 - val_mae: 2.1692 - val_mse: 8.0403\n",
            "Epoch 158/300\n",
            "10/10 [==============================] - 0s 4ms/step - loss: 2.3438 - mae: 2.3438 - mse: 9.7877 - val_loss: 2.0995 - val_mae: 2.0995 - val_mse: 7.8296\n",
            "Epoch 159/300\n",
            "10/10 [==============================] - 0s 4ms/step - loss: 2.2945 - mae: 2.2945 - mse: 9.6158 - val_loss: 2.0398 - val_mae: 2.0398 - val_mse: 7.6572\n",
            "Epoch 160/300\n",
            "10/10 [==============================] - 0s 4ms/step - loss: 2.2537 - mae: 2.2537 - mse: 9.4727 - val_loss: 1.9831 - val_mae: 1.9831 - val_mse: 7.5057\n",
            "Epoch 161/300\n",
            "10/10 [==============================] - 0s 4ms/step - loss: 2.2147 - mae: 2.2147 - mse: 9.3474 - val_loss: 1.9303 - val_mae: 1.9303 - val_mse: 7.3703\n",
            "Epoch 162/300\n",
            "10/10 [==============================] - 0s 5ms/step - loss: 2.1812 - mae: 2.1812 - mse: 9.2409 - val_loss: 1.8827 - val_mae: 1.8827 - val_mse: 7.2528\n",
            "Epoch 163/300\n",
            "10/10 [==============================] - 0s 4ms/step - loss: 2.1505 - mae: 2.1505 - mse: 9.1487 - val_loss: 1.8388 - val_mae: 1.8388 - val_mse: 7.1549\n",
            "Epoch 164/300\n",
            "10/10 [==============================] - 0s 4ms/step - loss: 2.1218 - mae: 2.1218 - mse: 9.0753 - val_loss: 1.7989 - val_mae: 1.7989 - val_mse: 7.0704\n",
            "Epoch 165/300\n",
            "10/10 [==============================] - 0s 4ms/step - loss: 2.0970 - mae: 2.0970 - mse: 9.0071 - val_loss: 1.7685 - val_mae: 1.7685 - val_mse: 6.9959\n",
            "Epoch 166/300\n",
            "10/10 [==============================] - 0s 4ms/step - loss: 2.0734 - mae: 2.0734 - mse: 8.9509 - val_loss: 1.7398 - val_mae: 1.7398 - val_mse: 6.9335\n",
            "Epoch 167/300\n",
            "10/10 [==============================] - 0s 4ms/step - loss: 2.0488 - mae: 2.0488 - mse: 8.8882 - val_loss: 1.7151 - val_mae: 1.7151 - val_mse: 6.8833\n",
            "Epoch 168/300\n",
            "10/10 [==============================] - 0s 4ms/step - loss: 2.0280 - mae: 2.0280 - mse: 8.8482 - val_loss: 1.6962 - val_mae: 1.6962 - val_mse: 6.8408\n",
            "Epoch 169/300\n",
            "10/10 [==============================] - 0s 7ms/step - loss: 2.0122 - mae: 2.0122 - mse: 8.8278 - val_loss: 1.6786 - val_mae: 1.6786 - val_mse: 6.8038\n",
            "Epoch 170/300\n",
            "10/10 [==============================] - 0s 4ms/step - loss: 1.9952 - mae: 1.9952 - mse: 8.7953 - val_loss: 1.6635 - val_mae: 1.6635 - val_mse: 6.7765\n",
            "Epoch 171/300\n",
            "10/10 [==============================] - 0s 5ms/step - loss: 1.9812 - mae: 1.9812 - mse: 8.7734 - val_loss: 1.6526 - val_mae: 1.6526 - val_mse: 6.7574\n",
            "Epoch 172/300\n",
            "10/10 [==============================] - 0s 5ms/step - loss: 1.9704 - mae: 1.9704 - mse: 8.7631 - val_loss: 1.6420 - val_mae: 1.6420 - val_mse: 6.7428\n",
            "Epoch 173/300\n",
            "10/10 [==============================] - 0s 6ms/step - loss: 1.9592 - mae: 1.9592 - mse: 8.7503 - val_loss: 1.6324 - val_mae: 1.6324 - val_mse: 6.7328\n",
            "Epoch 174/300\n",
            "10/10 [==============================] - 0s 4ms/step - loss: 1.9510 - mae: 1.9510 - mse: 8.7508 - val_loss: 1.6260 - val_mae: 1.6260 - val_mse: 6.7264\n",
            "Epoch 175/300\n",
            "10/10 [==============================] - 0s 4ms/step - loss: 1.9446 - mae: 1.9446 - mse: 8.7428 - val_loss: 1.6207 - val_mae: 1.6207 - val_mse: 6.7232\n",
            "Epoch 176/300\n",
            "10/10 [==============================] - 0s 4ms/step - loss: 1.9386 - mae: 1.9386 - mse: 8.7424 - val_loss: 1.6159 - val_mae: 1.6159 - val_mse: 6.7222\n",
            "Epoch 177/300\n",
            "10/10 [==============================] - 0s 4ms/step - loss: 1.9332 - mae: 1.9332 - mse: 8.7463 - val_loss: 1.6114 - val_mae: 1.6114 - val_mse: 6.7232\n",
            "Epoch 178/300\n",
            "10/10 [==============================] - 0s 4ms/step - loss: 1.9288 - mae: 1.9288 - mse: 8.7516 - val_loss: 1.6107 - val_mae: 1.6107 - val_mse: 6.7259\n",
            "Epoch 179/300\n",
            "10/10 [==============================] - 0s 5ms/step - loss: 1.9247 - mae: 1.9247 - mse: 8.7528 - val_loss: 1.6101 - val_mae: 1.6101 - val_mse: 6.7295\n",
            "Epoch 180/300\n",
            "10/10 [==============================] - 0s 4ms/step - loss: 1.9217 - mae: 1.9217 - mse: 8.7555 - val_loss: 1.6107 - val_mae: 1.6107 - val_mse: 6.7339\n",
            "Epoch 181/300\n",
            "10/10 [==============================] - 0s 4ms/step - loss: 1.9205 - mae: 1.9205 - mse: 8.7639 - val_loss: 1.6117 - val_mae: 1.6117 - val_mse: 6.7393\n",
            "Epoch 182/300\n",
            "10/10 [==============================] - 0s 4ms/step - loss: 1.9181 - mae: 1.9181 - mse: 8.7678 - val_loss: 1.6124 - val_mae: 1.6124 - val_mse: 6.7429\n",
            "Epoch 183/300\n",
            "10/10 [==============================] - 0s 4ms/step - loss: 1.9170 - mae: 1.9170 - mse: 8.7734 - val_loss: 1.6135 - val_mae: 1.6135 - val_mse: 6.7473\n",
            "Epoch 184/300\n",
            "10/10 [==============================] - 0s 4ms/step - loss: 1.9157 - mae: 1.9157 - mse: 8.7750 - val_loss: 1.6145 - val_mae: 1.6145 - val_mse: 6.7515\n",
            "Epoch 185/300\n",
            "10/10 [==============================] - 0s 5ms/step - loss: 1.9147 - mae: 1.9147 - mse: 8.7810 - val_loss: 1.6156 - val_mae: 1.6156 - val_mse: 6.7567\n",
            "Epoch 186/300\n",
            "10/10 [==============================] - 0s 4ms/step - loss: 1.9136 - mae: 1.9136 - mse: 8.7862 - val_loss: 1.6168 - val_mae: 1.6168 - val_mse: 6.7624\n",
            "Epoch 187/300\n",
            "10/10 [==============================] - 0s 4ms/step - loss: 1.9126 - mae: 1.9126 - mse: 8.7908 - val_loss: 1.6180 - val_mae: 1.6180 - val_mse: 6.7690\n",
            "Epoch 188/300\n",
            "10/10 [==============================] - 0s 4ms/step - loss: 1.9111 - mae: 1.9111 - mse: 8.7977 - val_loss: 1.6189 - val_mae: 1.6189 - val_mse: 6.7743\n",
            "Epoch 189/300\n",
            "10/10 [==============================] - 0s 4ms/step - loss: 1.9100 - mae: 1.9100 - mse: 8.8032 - val_loss: 1.6198 - val_mae: 1.6198 - val_mse: 6.7796\n",
            "Epoch 190/300\n",
            "10/10 [==============================] - 0s 4ms/step - loss: 1.9090 - mae: 1.9090 - mse: 8.8092 - val_loss: 1.6212 - val_mae: 1.6212 - val_mse: 6.7877\n",
            "Epoch 191/300\n",
            "10/10 [==============================] - 0s 4ms/step - loss: 1.9086 - mae: 1.9086 - mse: 8.8190 - val_loss: 1.6233 - val_mae: 1.6233 - val_mse: 6.7950\n",
            "Epoch 192/300\n",
            "10/10 [==============================] - 0s 5ms/step - loss: 1.9082 - mae: 1.9082 - mse: 8.8237 - val_loss: 1.6243 - val_mae: 1.6243 - val_mse: 6.7985\n",
            "Epoch 193/300\n",
            "10/10 [==============================] - 0s 5ms/step - loss: 1.9079 - mae: 1.9079 - mse: 8.8268 - val_loss: 1.6251 - val_mae: 1.6251 - val_mse: 6.8014\n",
            "Epoch 194/300\n",
            "10/10 [==============================] - 0s 5ms/step - loss: 1.9078 - mae: 1.9078 - mse: 8.8287 - val_loss: 1.6258 - val_mae: 1.6258 - val_mse: 6.8041\n",
            "Epoch 195/300\n",
            "10/10 [==============================] - 0s 6ms/step - loss: 1.9076 - mae: 1.9076 - mse: 8.8312 - val_loss: 1.6265 - val_mae: 1.6265 - val_mse: 6.8065\n",
            "Epoch 196/300\n",
            "10/10 [==============================] - 0s 4ms/step - loss: 1.9074 - mae: 1.9074 - mse: 8.8334 - val_loss: 1.6269 - val_mae: 1.6269 - val_mse: 6.8081\n",
            "Epoch 197/300\n",
            "10/10 [==============================] - 0s 4ms/step - loss: 1.9073 - mae: 1.9073 - mse: 8.8352 - val_loss: 1.6276 - val_mae: 1.6276 - val_mse: 6.8107\n",
            "Epoch 198/300\n",
            "10/10 [==============================] - 0s 5ms/step - loss: 1.9071 - mae: 1.9071 - mse: 8.8377 - val_loss: 1.6283 - val_mae: 1.6283 - val_mse: 6.8133\n",
            "Epoch 199/300\n",
            "10/10 [==============================] - 0s 4ms/step - loss: 1.9070 - mae: 1.9070 - mse: 8.8398 - val_loss: 1.6288 - val_mae: 1.6288 - val_mse: 6.8152\n",
            "Epoch 200/300\n",
            "10/10 [==============================] - 0s 4ms/step - loss: 1.9070 - mae: 1.9070 - mse: 8.8439 - val_loss: 1.6299 - val_mae: 1.6299 - val_mse: 6.8199\n",
            "Epoch 201/300\n",
            "10/10 [==============================] - 0s 4ms/step - loss: 1.9067 - mae: 1.9067 - mse: 8.8457 - val_loss: 1.6302 - val_mae: 1.6302 - val_mse: 6.8209\n",
            "Epoch 202/300\n",
            "10/10 [==============================] - 0s 5ms/step - loss: 1.9068 - mae: 1.9068 - mse: 8.8504 - val_loss: 1.6317 - val_mae: 1.6317 - val_mse: 6.8266\n",
            "Epoch 203/300\n",
            "10/10 [==============================] - 0s 4ms/step - loss: 1.9064 - mae: 1.9064 - mse: 8.8531 - val_loss: 1.6324 - val_mae: 1.6324 - val_mse: 6.8289\n",
            "Epoch 204/300\n",
            "10/10 [==============================] - 0s 4ms/step - loss: 1.9062 - mae: 1.9062 - mse: 8.8548 - val_loss: 1.6328 - val_mae: 1.6328 - val_mse: 6.8298\n",
            "Epoch 205/300\n",
            "10/10 [==============================] - 0s 4ms/step - loss: 1.9063 - mae: 1.9063 - mse: 8.8587 - val_loss: 1.6342 - val_mae: 1.6342 - val_mse: 6.8350\n",
            "Epoch 206/300\n",
            "10/10 [==============================] - 0s 4ms/step - loss: 1.9059 - mae: 1.9059 - mse: 8.8606 - val_loss: 1.6345 - val_mae: 1.6345 - val_mse: 6.8357\n",
            "Epoch 207/300\n",
            "10/10 [==============================] - 0s 4ms/step - loss: 1.9058 - mae: 1.9058 - mse: 8.8620 - val_loss: 1.6353 - val_mae: 1.6353 - val_mse: 6.8383\n",
            "Epoch 208/300\n",
            "10/10 [==============================] - 0s 4ms/step - loss: 1.9058 - mae: 1.9058 - mse: 8.8684 - val_loss: 1.6369 - val_mae: 1.6369 - val_mse: 6.8443\n",
            "Epoch 209/300\n",
            "10/10 [==============================] - 0s 4ms/step - loss: 1.9054 - mae: 1.9054 - mse: 8.8703 - val_loss: 1.6377 - val_mae: 1.6377 - val_mse: 6.8470\n",
            "Epoch 210/300\n",
            "10/10 [==============================] - 0s 4ms/step - loss: 1.9055 - mae: 1.9055 - mse: 8.8760 - val_loss: 1.6393 - val_mae: 1.6393 - val_mse: 6.8533\n",
            "Epoch 211/300\n",
            "10/10 [==============================] - 0s 4ms/step - loss: 1.9051 - mae: 1.9051 - mse: 8.8778 - val_loss: 1.6393 - val_mae: 1.6393 - val_mse: 6.8531\n",
            "Epoch 212/300\n",
            "10/10 [==============================] - 0s 4ms/step - loss: 1.9050 - mae: 1.9050 - mse: 8.8781 - val_loss: 1.6403 - val_mae: 1.6403 - val_mse: 6.8566\n",
            "Epoch 213/300\n",
            "10/10 [==============================] - 0s 4ms/step - loss: 1.9048 - mae: 1.9048 - mse: 8.8838 - val_loss: 1.6417 - val_mae: 1.6417 - val_mse: 6.8623\n",
            "Epoch 214/300\n",
            "10/10 [==============================] - 0s 4ms/step - loss: 1.9046 - mae: 1.9046 - mse: 8.8878 - val_loss: 1.6425 - val_mae: 1.6425 - val_mse: 6.8652\n",
            "Epoch 215/300\n",
            "10/10 [==============================] - 0s 4ms/step - loss: 1.9044 - mae: 1.9044 - mse: 8.8904 - val_loss: 1.6434 - val_mae: 1.6434 - val_mse: 6.8686\n",
            "Epoch 216/300\n",
            "10/10 [==============================] - 0s 5ms/step - loss: 1.9045 - mae: 1.9045 - mse: 8.8943 - val_loss: 1.6438 - val_mae: 1.6438 - val_mse: 6.8698\n",
            "Epoch 217/300\n",
            "10/10 [==============================] - 0s 4ms/step - loss: 1.9044 - mae: 1.9044 - mse: 8.8920 - val_loss: 1.6430 - val_mae: 1.6430 - val_mse: 6.8663\n",
            "Epoch 218/300\n",
            "10/10 [==============================] - 0s 4ms/step - loss: 1.9044 - mae: 1.9044 - mse: 8.8897 - val_loss: 1.6431 - val_mae: 1.6431 - val_mse: 6.8666\n",
            "Epoch 219/300\n",
            "10/10 [==============================] - 0s 5ms/step - loss: 1.9043 - mae: 1.9043 - mse: 8.8914 - val_loss: 1.6432 - val_mae: 1.6432 - val_mse: 6.8665\n",
            "Epoch 220/300\n",
            "10/10 [==============================] - 0s 4ms/step - loss: 1.9043 - mae: 1.9043 - mse: 8.8896 - val_loss: 1.6429 - val_mae: 1.6429 - val_mse: 6.8651\n",
            "Epoch 221/300\n",
            "10/10 [==============================] - 0s 4ms/step - loss: 1.9042 - mae: 1.9042 - mse: 8.8899 - val_loss: 1.6432 - val_mae: 1.6432 - val_mse: 6.8656\n",
            "Epoch 222/300\n",
            "10/10 [==============================] - 0s 5ms/step - loss: 1.9042 - mae: 1.9042 - mse: 8.8894 - val_loss: 1.6430 - val_mae: 1.6430 - val_mse: 6.8647\n",
            "Epoch 223/300\n",
            "10/10 [==============================] - 0s 4ms/step - loss: 1.9042 - mae: 1.9042 - mse: 8.8880 - val_loss: 1.6427 - val_mae: 1.6427 - val_mse: 6.8630\n",
            "Epoch 224/300\n",
            "10/10 [==============================] - 0s 4ms/step - loss: 1.9041 - mae: 1.9041 - mse: 8.8890 - val_loss: 1.6434 - val_mae: 1.6434 - val_mse: 6.8653\n",
            "Epoch 225/300\n",
            "10/10 [==============================] - 0s 4ms/step - loss: 1.9042 - mae: 1.9042 - mse: 8.8884 - val_loss: 1.6427 - val_mae: 1.6427 - val_mse: 6.8622\n",
            "Epoch 226/300\n",
            "10/10 [==============================] - 0s 5ms/step - loss: 1.9041 - mae: 1.9041 - mse: 8.8877 - val_loss: 1.6436 - val_mae: 1.6436 - val_mse: 6.8656\n",
            "Epoch 227/300\n",
            "10/10 [==============================] - 0s 4ms/step - loss: 1.9041 - mae: 1.9041 - mse: 8.8894 - val_loss: 1.6433 - val_mae: 1.6433 - val_mse: 6.8639\n",
            "Epoch 228/300\n",
            "10/10 [==============================] - 0s 5ms/step - loss: 1.9041 - mae: 1.9041 - mse: 8.8863 - val_loss: 1.6424 - val_mae: 1.6424 - val_mse: 6.8602\n",
            "Epoch 229/300\n",
            "10/10 [==============================] - 0s 4ms/step - loss: 1.9041 - mae: 1.9041 - mse: 8.8841 - val_loss: 1.6424 - val_mae: 1.6424 - val_mse: 6.8599\n",
            "Epoch 230/300\n",
            "10/10 [==============================] - 0s 4ms/step - loss: 1.9040 - mae: 1.9040 - mse: 8.8880 - val_loss: 1.6437 - val_mae: 1.6437 - val_mse: 6.8643\n",
            "Epoch 231/300\n",
            "10/10 [==============================] - 0s 4ms/step - loss: 1.9039 - mae: 1.9039 - mse: 8.8877 - val_loss: 1.6431 - val_mae: 1.6431 - val_mse: 6.8617\n",
            "Epoch 232/300\n",
            "10/10 [==============================] - 0s 5ms/step - loss: 1.9039 - mae: 1.9039 - mse: 8.8836 - val_loss: 1.6418 - val_mae: 1.6418 - val_mse: 6.8558\n",
            "Epoch 233/300\n",
            "10/10 [==============================] - 0s 4ms/step - loss: 1.9040 - mae: 1.9040 - mse: 8.8804 - val_loss: 1.6420 - val_mae: 1.6420 - val_mse: 6.8565\n",
            "Epoch 234/300\n",
            "10/10 [==============================] - 0s 4ms/step - loss: 1.9039 - mae: 1.9039 - mse: 8.8829 - val_loss: 1.6424 - val_mae: 1.6424 - val_mse: 6.8580\n",
            "Epoch 235/300\n",
            "10/10 [==============================] - 0s 4ms/step - loss: 1.9038 - mae: 1.9038 - mse: 8.8874 - val_loss: 1.6442 - val_mae: 1.6442 - val_mse: 6.8647\n",
            "Epoch 236/300\n",
            "10/10 [==============================] - 0s 4ms/step - loss: 1.9040 - mae: 1.9040 - mse: 8.8912 - val_loss: 1.6445 - val_mae: 1.6445 - val_mse: 6.8654\n",
            "Epoch 237/300\n",
            "10/10 [==============================] - 0s 5ms/step - loss: 1.9038 - mae: 1.9038 - mse: 8.8880 - val_loss: 1.6433 - val_mae: 1.6433 - val_mse: 6.8604\n",
            "Epoch 238/300\n",
            "10/10 [==============================] - 0s 4ms/step - loss: 1.9037 - mae: 1.9037 - mse: 8.8820 - val_loss: 1.6421 - val_mae: 1.6421 - val_mse: 6.8551\n",
            "Epoch 239/300\n",
            "10/10 [==============================] - 0s 4ms/step - loss: 1.9036 - mae: 1.9036 - mse: 8.8813 - val_loss: 1.6427 - val_mae: 1.6427 - val_mse: 6.8574\n",
            "Epoch 240/300\n",
            "10/10 [==============================] - 0s 4ms/step - loss: 1.9036 - mae: 1.9036 - mse: 8.8811 - val_loss: 1.6426 - val_mae: 1.6426 - val_mse: 6.8563\n",
            "Epoch 241/300\n",
            "10/10 [==============================] - 0s 4ms/step - loss: 1.9035 - mae: 1.9035 - mse: 8.8824 - val_loss: 1.6428 - val_mae: 1.6428 - val_mse: 6.8569\n",
            "Epoch 242/300\n",
            "10/10 [==============================] - 0s 5ms/step - loss: 1.9037 - mae: 1.9037 - mse: 8.8806 - val_loss: 1.6422 - val_mae: 1.6422 - val_mse: 6.8539\n",
            "Epoch 243/300\n",
            "10/10 [==============================] - 0s 4ms/step - loss: 1.9037 - mae: 1.9037 - mse: 8.8837 - val_loss: 1.6436 - val_mae: 1.6436 - val_mse: 6.8593\n",
            "Epoch 244/300\n",
            "10/10 [==============================] - 0s 5ms/step - loss: 1.9035 - mae: 1.9035 - mse: 8.8825 - val_loss: 1.6424 - val_mae: 1.6424 - val_mse: 6.8543\n",
            "Epoch 245/300\n",
            "10/10 [==============================] - 0s 4ms/step - loss: 1.9035 - mae: 1.9035 - mse: 8.8778 - val_loss: 1.6418 - val_mae: 1.6418 - val_mse: 6.8514\n",
            "Epoch 246/300\n",
            "10/10 [==============================] - 0s 5ms/step - loss: 1.9034 - mae: 1.9034 - mse: 8.8781 - val_loss: 1.6425 - val_mae: 1.6425 - val_mse: 6.8537\n",
            "Epoch 247/300\n",
            "10/10 [==============================] - 0s 4ms/step - loss: 1.9034 - mae: 1.9034 - mse: 8.8803 - val_loss: 1.6432 - val_mae: 1.6432 - val_mse: 6.8560\n",
            "Epoch 248/300\n",
            "10/10 [==============================] - 0s 4ms/step - loss: 1.9032 - mae: 1.9032 - mse: 8.8802 - val_loss: 1.6423 - val_mae: 1.6423 - val_mse: 6.8523\n",
            "Epoch 249/300\n",
            "10/10 [==============================] - 0s 5ms/step - loss: 1.9033 - mae: 1.9033 - mse: 8.8762 - val_loss: 1.6418 - val_mae: 1.6418 - val_mse: 6.8499\n",
            "Epoch 250/300\n",
            "10/10 [==============================] - 0s 5ms/step - loss: 1.9032 - mae: 1.9032 - mse: 8.8760 - val_loss: 1.6424 - val_mae: 1.6424 - val_mse: 6.8517\n",
            "Epoch 251/300\n",
            "10/10 [==============================] - 0s 4ms/step - loss: 1.9031 - mae: 1.9031 - mse: 8.8784 - val_loss: 1.6429 - val_mae: 1.6429 - val_mse: 6.8536\n",
            "Epoch 252/300\n",
            "10/10 [==============================] - 0s 4ms/step - loss: 1.9031 - mae: 1.9031 - mse: 8.8784 - val_loss: 1.6422 - val_mae: 1.6422 - val_mse: 6.8503\n",
            "Epoch 253/300\n",
            "10/10 [==============================] - 0s 4ms/step - loss: 1.9031 - mae: 1.9031 - mse: 8.8738 - val_loss: 1.6413 - val_mae: 1.6413 - val_mse: 6.8463\n",
            "Epoch 254/300\n",
            "10/10 [==============================] - 0s 5ms/step - loss: 1.9031 - mae: 1.9031 - mse: 8.8733 - val_loss: 1.6420 - val_mae: 1.6420 - val_mse: 6.8487\n",
            "Epoch 255/300\n",
            "10/10 [==============================] - 0s 4ms/step - loss: 1.9029 - mae: 1.9029 - mse: 8.8746 - val_loss: 1.6426 - val_mae: 1.6426 - val_mse: 6.8505\n",
            "Epoch 256/300\n",
            "10/10 [==============================] - 0s 4ms/step - loss: 1.9031 - mae: 1.9031 - mse: 8.8784 - val_loss: 1.6426 - val_mae: 1.6426 - val_mse: 6.8502\n",
            "Epoch 257/300\n",
            "10/10 [==============================] - 0s 4ms/step - loss: 1.9031 - mae: 1.9031 - mse: 8.8783 - val_loss: 1.6430 - val_mae: 1.6430 - val_mse: 6.8513\n",
            "Epoch 258/300\n",
            "10/10 [==============================] - 0s 5ms/step - loss: 1.9029 - mae: 1.9029 - mse: 8.8742 - val_loss: 1.6415 - val_mae: 1.6415 - val_mse: 6.8447\n",
            "Epoch 259/300\n",
            "10/10 [==============================] - 0s 7ms/step - loss: 1.9028 - mae: 1.9028 - mse: 8.8712 - val_loss: 1.6417 - val_mae: 1.6417 - val_mse: 6.8455\n",
            "Epoch 260/300\n",
            "10/10 [==============================] - 0s 5ms/step - loss: 1.9028 - mae: 1.9028 - mse: 8.8716 - val_loss: 1.6420 - val_mae: 1.6420 - val_mse: 6.8463\n",
            "Epoch 261/300\n",
            "10/10 [==============================] - 0s 5ms/step - loss: 1.9027 - mae: 1.9027 - mse: 8.8743 - val_loss: 1.6425 - val_mae: 1.6425 - val_mse: 6.8476\n",
            "Epoch 262/300\n",
            "10/10 [==============================] - 0s 4ms/step - loss: 1.9027 - mae: 1.9027 - mse: 8.8726 - val_loss: 1.6422 - val_mae: 1.6422 - val_mse: 6.8461\n",
            "Epoch 263/300\n",
            "10/10 [==============================] - 0s 4ms/step - loss: 1.9027 - mae: 1.9027 - mse: 8.8719 - val_loss: 1.6420 - val_mae: 1.6420 - val_mse: 6.8451\n",
            "Epoch 264/300\n",
            "10/10 [==============================] - 0s 4ms/step - loss: 1.9027 - mae: 1.9027 - mse: 8.8745 - val_loss: 1.6430 - val_mae: 1.6430 - val_mse: 6.8486\n",
            "Epoch 265/300\n",
            "10/10 [==============================] - 0s 4ms/step - loss: 1.9027 - mae: 1.9027 - mse: 8.8732 - val_loss: 1.6417 - val_mae: 1.6417 - val_mse: 6.8429\n",
            "Epoch 266/300\n",
            "10/10 [==============================] - 0s 4ms/step - loss: 1.9026 - mae: 1.9026 - mse: 8.8714 - val_loss: 1.6421 - val_mae: 1.6421 - val_mse: 6.8442\n",
            "Epoch 267/300\n",
            "10/10 [==============================] - 0s 4ms/step - loss: 1.9024 - mae: 1.9024 - mse: 8.8697 - val_loss: 1.6417 - val_mae: 1.6417 - val_mse: 6.8421\n",
            "Epoch 268/300\n",
            "10/10 [==============================] - 0s 4ms/step - loss: 1.9025 - mae: 1.9025 - mse: 8.8692 - val_loss: 1.6413 - val_mae: 1.6413 - val_mse: 6.8399\n",
            "Epoch 269/300\n",
            "10/10 [==============================] - 0s 4ms/step - loss: 1.9024 - mae: 1.9024 - mse: 8.8676 - val_loss: 1.6417 - val_mae: 1.6417 - val_mse: 6.8413\n",
            "Epoch 270/300\n",
            "10/10 [==============================] - 0s 4ms/step - loss: 1.9024 - mae: 1.9024 - mse: 8.8686 - val_loss: 1.6420 - val_mae: 1.6420 - val_mse: 6.8420\n",
            "Epoch 271/300\n",
            "10/10 [==============================] - 0s 5ms/step - loss: 1.9024 - mae: 1.9024 - mse: 8.8700 - val_loss: 1.6420 - val_mae: 1.6420 - val_mse: 6.8415\n",
            "Epoch 272/300\n",
            "10/10 [==============================] - 0s 4ms/step - loss: 1.9025 - mae: 1.9025 - mse: 8.8664 - val_loss: 1.6406 - val_mae: 1.6406 - val_mse: 6.8351\n",
            "Epoch 273/300\n",
            "10/10 [==============================] - 0s 4ms/step - loss: 1.9023 - mae: 1.9023 - mse: 8.8635 - val_loss: 1.6414 - val_mae: 1.6414 - val_mse: 6.8384\n",
            "Epoch 274/300\n",
            "10/10 [==============================] - 0s 5ms/step - loss: 1.9021 - mae: 1.9021 - mse: 8.8661 - val_loss: 1.6417 - val_mae: 1.6417 - val_mse: 6.8393\n",
            "Epoch 275/300\n",
            "10/10 [==============================] - 0s 4ms/step - loss: 1.9027 - mae: 1.9027 - mse: 8.8645 - val_loss: 1.6407 - val_mae: 1.6407 - val_mse: 6.8345\n",
            "Epoch 276/300\n",
            "10/10 [==============================] - 0s 4ms/step - loss: 1.9021 - mae: 1.9021 - mse: 8.8655 - val_loss: 1.6423 - val_mae: 1.6423 - val_mse: 6.8404\n",
            "Epoch 277/300\n",
            "10/10 [==============================] - 0s 4ms/step - loss: 1.9021 - mae: 1.9021 - mse: 8.8673 - val_loss: 1.6417 - val_mae: 1.6417 - val_mse: 6.8376\n",
            "Epoch 278/300\n",
            "10/10 [==============================] - 0s 4ms/step - loss: 1.9021 - mae: 1.9021 - mse: 8.8660 - val_loss: 1.6413 - val_mae: 1.6413 - val_mse: 6.8355\n",
            "Epoch 279/300\n",
            "10/10 [==============================] - 0s 6ms/step - loss: 1.9020 - mae: 1.9020 - mse: 8.8616 - val_loss: 1.6405 - val_mae: 1.6405 - val_mse: 6.8319\n",
            "Epoch 280/300\n",
            "10/10 [==============================] - 0s 4ms/step - loss: 1.9020 - mae: 1.9020 - mse: 8.8618 - val_loss: 1.6416 - val_mae: 1.6416 - val_mse: 6.8362\n",
            "Epoch 281/300\n",
            "10/10 [==============================] - 0s 4ms/step - loss: 1.9020 - mae: 1.9020 - mse: 8.8622 - val_loss: 1.6409 - val_mae: 1.6409 - val_mse: 6.8326\n",
            "Epoch 282/300\n",
            "10/10 [==============================] - 0s 4ms/step - loss: 1.9018 - mae: 1.9018 - mse: 8.8619 - val_loss: 1.6424 - val_mae: 1.6424 - val_mse: 6.8381\n",
            "Epoch 283/300\n",
            "10/10 [==============================] - 0s 5ms/step - loss: 1.9019 - mae: 1.9019 - mse: 8.8643 - val_loss: 1.6414 - val_mae: 1.6414 - val_mse: 6.8341\n",
            "Epoch 284/300\n",
            "10/10 [==============================] - 0s 4ms/step - loss: 1.9017 - mae: 1.9017 - mse: 8.8625 - val_loss: 1.6416 - val_mae: 1.6416 - val_mse: 6.8342\n",
            "Epoch 285/300\n",
            "10/10 [==============================] - 0s 5ms/step - loss: 1.9017 - mae: 1.9017 - mse: 8.8602 - val_loss: 1.6404 - val_mae: 1.6404 - val_mse: 6.8286\n",
            "Epoch 286/300\n",
            "10/10 [==============================] - 0s 4ms/step - loss: 1.9019 - mae: 1.9019 - mse: 8.8565 - val_loss: 1.6406 - val_mae: 1.6406 - val_mse: 6.8293\n",
            "Epoch 287/300\n",
            "10/10 [==============================] - 0s 4ms/step - loss: 1.9016 - mae: 1.9016 - mse: 8.8594 - val_loss: 1.6416 - val_mae: 1.6416 - val_mse: 6.8329\n",
            "Epoch 288/300\n",
            "10/10 [==============================] - 0s 4ms/step - loss: 1.9019 - mae: 1.9019 - mse: 8.8596 - val_loss: 1.6407 - val_mae: 1.6407 - val_mse: 6.8288\n",
            "Epoch 289/300\n",
            "10/10 [==============================] - 0s 5ms/step - loss: 1.9015 - mae: 1.9015 - mse: 8.8589 - val_loss: 1.6416 - val_mae: 1.6416 - val_mse: 6.8319\n",
            "Epoch 290/300\n",
            "10/10 [==============================] - 0s 5ms/step - loss: 1.9014 - mae: 1.9014 - mse: 8.8592 - val_loss: 1.6408 - val_mae: 1.6408 - val_mse: 6.8283\n",
            "Epoch 291/300\n",
            "10/10 [==============================] - 0s 4ms/step - loss: 1.9014 - mae: 1.9014 - mse: 8.8576 - val_loss: 1.6411 - val_mae: 1.6411 - val_mse: 6.8291\n",
            "Epoch 292/300\n",
            "10/10 [==============================] - 0s 4ms/step - loss: 1.9014 - mae: 1.9014 - mse: 8.8561 - val_loss: 1.6406 - val_mae: 1.6406 - val_mse: 6.8264\n",
            "Epoch 293/300\n",
            "10/10 [==============================] - 0s 4ms/step - loss: 1.9014 - mae: 1.9014 - mse: 8.8577 - val_loss: 1.6414 - val_mae: 1.6414 - val_mse: 6.8291\n",
            "Epoch 294/300\n",
            "10/10 [==============================] - 0s 4ms/step - loss: 1.9015 - mae: 1.9015 - mse: 8.8545 - val_loss: 1.6397 - val_mae: 1.6397 - val_mse: 6.8215\n",
            "Epoch 295/300\n",
            "10/10 [==============================] - 0s 4ms/step - loss: 1.9012 - mae: 1.9012 - mse: 8.8517 - val_loss: 1.6405 - val_mae: 1.6405 - val_mse: 6.8247\n",
            "Epoch 296/300\n",
            "10/10 [==============================] - 0s 4ms/step - loss: 1.9013 - mae: 1.9013 - mse: 8.8576 - val_loss: 1.6421 - val_mae: 1.6421 - val_mse: 6.8306\n",
            "Epoch 297/300\n",
            "10/10 [==============================] - 0s 5ms/step - loss: 1.9012 - mae: 1.9012 - mse: 8.8560 - val_loss: 1.6409 - val_mae: 1.6409 - val_mse: 6.8252\n",
            "Epoch 298/300\n",
            "10/10 [==============================] - 0s 5ms/step - loss: 1.9012 - mae: 1.9012 - mse: 8.8531 - val_loss: 1.6410 - val_mae: 1.6410 - val_mse: 6.8252\n",
            "Epoch 299/300\n",
            "10/10 [==============================] - 0s 5ms/step - loss: 1.9009 - mae: 1.9009 - mse: 8.8537 - val_loss: 1.6410 - val_mae: 1.6410 - val_mse: 6.8250\n",
            "Epoch 300/300\n",
            "10/10 [==============================] - 0s 4ms/step - loss: 1.9011 - mae: 1.9011 - mse: 8.8516 - val_loss: 1.6404 - val_mae: 1.6404 - val_mse: 6.8218\n"
          ],
          "name": "stdout"
        }
      ]
    },
    {
      "cell_type": "code",
      "metadata": {
        "id": "6zYkLGS6wQyy",
        "colab": {
          "base_uri": "https://localhost:8080/"
        },
        "outputId": "2cbedb80-ea19-429e-89b8-885b8253fb18"
      },
      "source": [
        "print(history)"
      ],
      "execution_count": 38,
      "outputs": [
        {
          "output_type": "stream",
          "text": [
            "<tensorflow.python.keras.callbacks.History object at 0x7f173ad6db10>\n"
          ],
          "name": "stdout"
        }
      ]
    },
    {
      "cell_type": "code",
      "metadata": {
        "colab": {
          "base_uri": "https://localhost:8080/"
        },
        "id": "1lsbk_ohAu1j",
        "outputId": "985a1a3e-6109-4b46-ce18-c5fd1c7e9174"
      },
      "source": [
        "model.summary()"
      ],
      "execution_count": 39,
      "outputs": [
        {
          "output_type": "stream",
          "text": [
            "Model: \"sequential_1\"\n",
            "_________________________________________________________________\n",
            "Layer (type)                 Output Shape              Param #   \n",
            "=================================================================\n",
            "dense_1 (Dense)              (None, 1)                 2         \n",
            "=================================================================\n",
            "Total params: 2\n",
            "Trainable params: 2\n",
            "Non-trainable params: 0\n",
            "_________________________________________________________________\n"
          ],
          "name": "stdout"
        }
      ]
    },
    {
      "cell_type": "code",
      "metadata": {
        "colab": {
          "base_uri": "https://localhost:8080/",
          "height": 1000
        },
        "id": "P6VnkPim7tH7",
        "outputId": "3105492e-e92f-49e1-959f-f5ffa0c15b7a"
      },
      "source": [
        "# tempString = 'mse'\n",
        "def curvePlots(tempString):\n",
        "  plt.plot(history.history[tempString])\n",
        "  plt.plot(history.history[f'val_{tempString}'])\n",
        "  plt.xlabel('NumEpochs')\n",
        "  plt.ylabel(tempString)\n",
        "  plt.legend([tempString, f'val_{tempString}'])\n",
        "  plt.show()\n",
        "\n",
        "\n",
        "curvePlots('mse')\n",
        "curvePlots('mae')\n",
        "curvePlots('loss')"
      ],
      "execution_count": 40,
      "outputs": [
        {
          "output_type": "display_data",
          "data": {
            "image/png": "[encoded data removed]",
            "text/plain": [
              "<Figure size 576x396 with 1 Axes>"
            ]
          },
          "metadata": {
            "tags": []
          }
        },
        {
          "output_type": "display_data",
          "data": {
            "image/png": "[encoded data removed]",
            "text/plain": [
              "<Figure size 576x396 with 1 Axes>"
            ]
          },
          "metadata": {
            "tags": []
          }
        },
        {
          "output_type": "display_data",
          "data": {
            "image/png": "[encoded data removed]",
            "text/plain": [
              "<Figure size 576x396 with 1 Axes>"
            ]
          },
          "metadata": {
            "tags": []
          }
        }
      ]
    },
    {
      "cell_type": "code",
      "metadata": {
        "id": "esW0eHQbzoj4",
        "colab": {
          "base_uri": "https://localhost:8080/"
        },
        "outputId": "af6381ba-4f9d-42bf-a836-7f0600c22ca0"
      },
      "source": [
        "model.predict([1])"
      ],
      "execution_count": 41,
      "outputs": [
        {
          "output_type": "execute_result",
          "data": {
            "text/plain": [
              "array([[2.3306983]], dtype=float32)"
            ]
          },
          "metadata": {
            "tags": []
          },
          "execution_count": 41
        }
      ]
    },
    {
      "cell_type": "code",
      "metadata": {
        "colab": {
          "base_uri": "https://localhost:8080/"
        },
        "id": "KJrLWamX8Tg-",
        "outputId": "e28cf8b7-e3d4-455c-b8a7-8d18495c7c17"
      },
      "source": [
        "# testPreds = model.predict(testFeatures).flatten() #array of all prediction values\n",
        "\n",
        "#for single values\n",
        "\n",
        "print(f'Prediction for input value 1: {model.predict([1])}')\n",
        "\n",
        "\n",
        "# for a list of values\n",
        "tempListforPreds = [1,2,3,4,5]\n",
        "print(f'''\n",
        "\n",
        "input List = {tempListforPreds}\n",
        "\n",
        "\n",
        "List of Predictions:\n",
        "{model.predict(tempListforPreds)}\n",
        "\n",
        "List of Predictions (flattened out):\n",
        "{model.predict(tempListforPreds).flatten()}\n",
        "''')"
      ],
      "execution_count": 42,
      "outputs": [
        {
          "output_type": "stream",
          "text": [
            "Prediction for input value 1: [[2.3306983]]\n",
            "\n",
            "\n",
            "input List = [1, 2, 3, 4, 5]\n",
            "\n",
            "\n",
            "List of Predictions:\n",
            "[[2.3306983]\n",
            " [3.2094862]\n",
            " [4.0882745]\n",
            " [4.9670625]\n",
            " [5.8458505]]\n",
            "\n",
            "List of Predictions (flattened out):\n",
            "[2.3306983 3.2094862 4.0882745 4.9670625 5.8458505]\n",
            "\n"
          ],
          "name": "stdout"
        }
      ]
    },
    {
      "cell_type": "code",
      "metadata": {
        "id": "vJNFh6hc0K6r",
        "colab": {
          "base_uri": "https://localhost:8080/"
        },
        "outputId": "47f7b0b6-562c-43a1-cde4-d3f14cc32fc7"
      },
      "source": [
        "print(testFeatures)"
      ],
      "execution_count": 43,
      "outputs": [
        {
          "output_type": "stream",
          "text": [
            "     G1\n",
            "9    14\n",
            "25    6\n",
            "28   11\n",
            "31   17\n",
            "32   17\n",
            "..   ..\n",
            "365  10\n",
            "367   7\n",
            "379  10\n",
            "381   7\n",
            "393  11\n",
            "\n",
            "[79 rows x 1 columns]\n"
          ],
          "name": "stdout"
        }
      ]
    },
    {
      "cell_type": "code",
      "metadata": {
        "id": "MniGZOu50IyN"
      },
      "source": [
        "testPreds = model.predict(testFeatures)\n",
        "testPreds_Array=testPreds.flatten() #array of all prediction values"
      ],
      "execution_count": 44,
      "outputs": []
    },
    {
      "cell_type": "code",
      "metadata": {
        "id": "du0Orwu40Qan",
        "colab": {
          "base_uri": "https://localhost:8080/"
        },
        "outputId": "9c3cb6ec-a48c-4195-afe3-6f31ba808488"
      },
      "source": [
        "print(len(testPreds_Array))\n",
        "print(testPreds_Array)"
      ],
      "execution_count": 45,
      "outputs": [
        {
          "output_type": "stream",
          "text": [
            "79\n",
            "[13.754943   6.7246385 11.118579  16.391308  16.391308  11.997367\n",
            " 13.754943  18.148884  18.148884   8.482215  13.754943  12.876155\n",
            "  8.482215   7.6034265  9.361003  12.876155  11.118579  15.512519\n",
            "  7.6034265 10.239791  14.633731  12.876155  13.754943  15.512519\n",
            "  7.6034265  7.6034265  8.482215  10.239791  11.997367  10.239791\n",
            " 11.997367  12.876155  10.239791   6.7246385  9.361003  11.997367\n",
            "  7.6034265  8.482215  13.754943   9.361003   9.361003   7.6034265\n",
            " 11.997367   6.7246385 12.876155   7.6034265  7.6034265 11.118579\n",
            " 12.876155  16.391308  11.997367  14.633731   9.361003  11.997367\n",
            " 14.633731  11.997367  14.633731  11.997367  14.633731  11.118579\n",
            " 11.997367   8.482215  15.512519   7.6034265 15.512519  11.118579\n",
            " 15.512519  12.876155   8.482215   8.482215  11.997367  17.270096\n",
            " 12.876155  15.512519  10.239791   7.6034265 10.239791   7.6034265\n",
            " 11.118579 ]\n"
          ],
          "name": "stdout"
        }
      ]
    },
    {
      "cell_type": "code",
      "metadata": {
        "colab": {
          "base_uri": "https://localhost:8080/",
          "height": 361
        },
        "id": "EfP8bB_v89Wa",
        "outputId": "ddebe688-5784-41ba-fe84-038c8046ee87"
      },
      "source": [
        "# prediciton plot --> how well is your model predicting across the actual labels\n",
        "\n",
        "def predPlot(labels, predictions):\n",
        "  plt.scatter(labels, predictions)\n",
        "  plt.ylabel('Predictions')\n",
        "  plt.xlabel('True Value or Labels')\n",
        "  plt.axis('equal')\n",
        "  plt.axis('square')\n",
        "  plt.xlim([0, plt.xlim()[1]])\n",
        "  plt.ylim([0, plt.ylim()[1]])\n",
        "  plt.show()\n",
        "\n",
        "predPlot(testLabels, testPreds_Array)"
      ],
      "execution_count": 46,
      "outputs": [
        {
          "output_type": "display_data",
          "data": {
            "image/png": "[encoded data removed]",
            "text/plain": [
              "<Figure size 576x396 with 1 Axes>"
            ]
          },
          "metadata": {
            "tags": []
          }
        }
      ]
    },
    {
      "cell_type": "code",
      "metadata": {
        "colab": {
          "base_uri": "https://localhost:8080/",
          "height": 361
        },
        "id": "70608Z0o9tWL",
        "outputId": "37cf7785-d57d-495e-97b0-04c3bf237c5d"
      },
      "source": [
        "#error plot --> gaussian distribution \n",
        "\n",
        "def errorPlot(preds, labels, counts):\n",
        "  errors = preds - labels\n",
        "  plt.hist(errors, counts)\n",
        "  plt.xlabel('Error')\n",
        "  plt.ylabel('Counts')\n",
        "  plt.show()\n",
        "\n",
        "errorPlot(testPreds_Array, testLabels, numEpochs)"
      ],
      "execution_count": 47,
      "outputs": [
        {
          "output_type": "display_data",
          "data": {
            "image/png": "[encoded data removed]",
            "text/plain": [
              "<Figure size 576x396 with 1 Axes>"
            ]
          },
          "metadata": {
            "tags": []
          }
        }
      ]
    },
    {
      "cell_type": "markdown",
      "metadata": {
        "id": "oshf2mUG1vPk"
      },
      "source": [
        "Note: \n",
        "\n",
        "\n",
        "Validation loss `val_loss` is a metric that tells you how much deviation from the actual label can you expect in the predicted label\n",
        "\n",
        "To optimize your predicitons -->\n",
        "\n",
        "- Hyperparameter tuning --> `numEpochs`, `optimizer`, `learning_rate`, lossFunctions"
      ]
    },
    {
      "cell_type": "markdown",
      "metadata": {
        "id": "J6x0_esQFovO"
      },
      "source": [
        "# Using Other models on the dataset"
      ]
    },
    {
      "cell_type": "markdown",
      "metadata": {
        "id": "LXfduKP3SaBG"
      },
      "source": [
        "## Simple Linear Regression"
      ]
    },
    {
      "cell_type": "code",
      "metadata": {
        "colab": {
          "base_uri": "https://localhost:8080/"
        },
        "id": "3ebuB6ukFyUc",
        "outputId": "25e58be3-1291-4f36-966b-5fb0b7f0e406"
      },
      "source": [
        "from sklearn.linear_model import LinearRegression\n",
        "regressor = LinearRegression()\n",
        "regressor.fit(trainFeatures, trainLabels)"
      ],
      "execution_count": 48,
      "outputs": [
        {
          "output_type": "execute_result",
          "data": {
            "text/plain": [
              "LinearRegression(copy_X=True, fit_intercept=True, n_jobs=None, normalize=False)"
            ]
          },
          "metadata": {
            "tags": []
          },
          "execution_count": 48
        }
      ]
    },
    {
      "cell_type": "code",
      "metadata": {
        "id": "ZGTuAo2eGXju"
      },
      "source": [
        "testPreds_LR = regressor.predict(testFeatures)\n",
        "testPreds_LR_Array=testPreds_LR.flatten()   #Flattening to 1d array"
      ],
      "execution_count": 51,
      "outputs": []
    },
    {
      "cell_type": "code",
      "metadata": {
        "colab": {
          "base_uri": "https://localhost:8080/",
          "height": 376
        },
        "id": "ePCvYbO0Lpyu",
        "outputId": "44cdf554-dc68-4c92-d378-d2f0eea8704c"
      },
      "source": [
        "plt.grid(True)\n",
        "plt.scatter(testFeatures, testLabels, color = 'red')\n",
        "plt.plot(trainFeatures, regressor.predict(trainFeatures), color = 'blue')\n",
        "plt.title('G1 Vs G3 (Test set)')\n",
        "plt.xlabel('G1')\n",
        "plt.ylabel('G3')\n",
        "plt.show()"
      ],
      "execution_count": 68,
      "outputs": [
        {
          "output_type": "display_data",
          "data": {
            "image/png": "[encoded data removed]",
            "text/plain": [
              "<Figure size 576x396 with 1 Axes>"
            ]
          },
          "metadata": {
            "tags": []
          }
        }
      ]
    },
    {
      "cell_type": "markdown",
      "metadata": {
        "id": "Yc7zOGENODzv"
      },
      "source": [
        "#Support Vector Machine"
      ]
    },
    {
      "cell_type": "code",
      "metadata": {
        "colab": {
          "base_uri": "https://localhost:8080/"
        },
        "id": "oXO3CYUxOFmv",
        "outputId": "2d697cb2-eb97-4475-8337-306b5c3918e3"
      },
      "source": [
        "from sklearn.svm import SVR\n",
        "SVM_regressor = SVR(kernel = 'rbf')\n",
        "SVM_regressor.fit(trainFeatures, trainLabels)"
      ],
      "execution_count": 64,
      "outputs": [
        {
          "output_type": "execute_result",
          "data": {
            "text/plain": [
              "SVR(C=1.0, cache_size=200, coef0=0.0, degree=3, epsilon=0.1, gamma='scale',\n",
              "    kernel='rbf', max_iter=-1, shrinking=True, tol=0.001, verbose=False)"
            ]
          },
          "metadata": {
            "tags": []
          },
          "execution_count": 64
        }
      ]
    },
    {
      "cell_type": "code",
      "metadata": {
        "id": "i1EM-cj4RCwS"
      },
      "source": [
        "testPreds_SVM=SVM_regressor.predict(testFeatures)\n",
        "testPreds_SVM_Array=testPreds_SVM.flatten()"
      ],
      "execution_count": 72,
      "outputs": []
    },
    {
      "cell_type": "code",
      "metadata": {
        "colab": {
          "base_uri": "https://localhost:8080/"
        },
        "id": "ySOSzJbJRfE0",
        "outputId": "c5446ffb-b4f1-48fb-f76f-af685f3b77c8"
      },
      "source": [
        "CompareModels_df=pd.DataFrame({'testLabels':testLabels,'testPreds':testPreds_Array,'testPreds_LR':testPreds_LR_Array,'testPreds_SVM':testPreds_SVM_Array})\n",
        "print(CompareModels_df.head(15))"
      ],
      "execution_count": 73,
      "outputs": [
        {
          "output_type": "stream",
          "text": [
            "    testLabels  testPreds  testPreds_LR  testPreds_SVM\n",
            "9           15  13.754943     13.850873      13.841499\n",
            "25           8   6.724638      5.068301       6.099613\n",
            "28          11  11.118579     10.557408      10.900065\n",
            "31          17  16.391308     17.144337      17.308386\n",
            "32          16  16.391308     17.144337      17.308386\n",
            "38          11  11.997367     11.655230      11.922990\n",
            "39          13  13.754943     13.850873      13.841499\n",
            "42          18  18.148884     19.339980      17.531246\n",
            "47          20  18.148884     19.339980      17.531246\n",
            "53          11   8.482215      7.263944       8.162019\n",
            "57          15  13.754943     13.850873      13.841499\n",
            "70          15  12.876155     12.753051      12.900435\n",
            "72           5   8.482215      7.263944       8.162019\n",
            "82           6   7.603426      6.166122       7.057937\n",
            "84          10   9.361003      8.361765       9.100437\n"
          ],
          "name": "stdout"
        }
      ]
    },
    {
      "cell_type": "code",
      "metadata": {
        "colab": {
          "base_uri": "https://localhost:8080/"
        },
        "id": "q0-daU_uUzEf",
        "outputId": "d10c579f-8d8a-4472-c034-d5ec13922395"
      },
      "source": [
        "Errors_df=pd.DataFrame({'PerceptronError':abs(testLabels-testPreds_Array),'LR_Error':abs(testLabels-testPreds_LR_Array),'SVM_Error':abs(testLabels-testPreds_SVM_Array)})\n",
        "print(Errors_df.head(15))"
      ],
      "execution_count": 78,
      "outputs": [
        {
          "output_type": "stream",
          "text": [
            "    PerceptronError  LR_Error  SVM_Error\n",
            "9          1.245057  1.149127   1.158501\n",
            "25         1.275362  2.931699   1.900387\n",
            "28         0.118579  0.442592   0.099935\n",
            "31         0.608692  0.144337   0.308386\n",
            "32         0.391308  1.144337   1.308386\n",
            "38         0.997367  0.655230   0.922990\n",
            "39         0.754943  0.850873   0.841499\n",
            "42         0.148884  1.339980   0.468754\n",
            "47         1.851116  0.660020   2.468754\n",
            "53         2.517785  3.736056   2.837981\n",
            "57         1.245057  1.149127   1.158501\n",
            "70         2.123845  2.246949   2.099565\n",
            "72         3.482215  2.263944   3.162019\n",
            "82         1.603426  0.166122   1.057937\n",
            "84         0.638997  1.638235   0.899563\n"
          ],
          "name": "stdout"
        }
      ]
    }
  ]
}