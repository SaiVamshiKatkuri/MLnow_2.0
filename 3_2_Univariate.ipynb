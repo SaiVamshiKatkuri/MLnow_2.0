{
  "nbformat": 4,
  "nbformat_minor": 0,
  "metadata": {
    "colab": {
      "name": "3.2_Univariate.ipynb",
      "provenance": [],
      "authorship_tag": "ABX9TyOh2zbzlEnB2IeksjXpzsI2",
      "include_colab_link": true
    },
    "kernelspec": {
      "name": "python3",
      "display_name": "Python 3"
    },
    "language_info": {
      "name": "python"
    }
  },
  "cells": [
    {
      "cell_type": "markdown",
      "metadata": {
        "id": "view-in-github",
        "colab_type": "text"
      },
      "source": [
        "<a href=\"https://colab.research.google.com/github/SaiVamshiKatkuri/MLnow_2.0/blob/main/3_2_Univariate.ipynb\" target=\"_parent\"><img src=\"https://colab.research.google.com/assets/colab-badge.svg\" alt=\"Open In Colab\"/></a>"
      ]
    },
    {
      "cell_type": "markdown",
      "metadata": {
        "id": "B5I4gy6-23i5"
      },
      "source": [
        "**Topic**: `Univariate Linear Regression`\n",
        "\n",
        "[Link to download the Dataset](https://www.kaggle.com/mustafaali96/weight-height?select=weight-height.csv)\n",
        "\n",
        "**Date Created** :June 11,2021\n",
        "\n",
        "**AUTHOR**: Sai Vamshi Katkuri\n",
        "[Assessment Repository](https://github.com/SaiVamshiKatkuri/MLnow_2.0)\n",
        "\n",
        "**Reach out** :[Email](https://mail.google.com/mail/u/0/?tab=rm&ogbl#inbox) | [Linkedin](https://www.linkedin.com/in/katkuri-sai-vamshi-2209281a8/) | [Github](https://github.com/SaiVamshiKatkuri)\n",
        "\n",
        "\n",
        "\n"
      ]
    },
    {
      "cell_type": "markdown",
      "metadata": {
        "id": "2SYirMvuZp-S"
      },
      "source": [
        "## EDA and Univariate Modelling"
      ]
    },
    {
      "cell_type": "markdown",
      "metadata": {
        "id": "8wjWHQnBZvNt"
      },
      "source": [
        "## SETUP"
      ]
    },
    {
      "cell_type": "code",
      "metadata": {
        "colab": {
          "base_uri": "https://localhost:8080/"
        },
        "id": "YKAsxUQEbBPX",
        "outputId": "be22a2da-155a-46e5-8f64-ad6efe46a1c5"
      },
      "source": [
        "from google.colab import drive\n",
        "drive.mount('/content/drive')"
      ],
      "execution_count": 1,
      "outputs": [
        {
          "output_type": "stream",
          "text": [
            "Drive already mounted at /content/drive; to attempt to forcibly remount, call drive.mount(\"/content/drive\", force_remount=True).\n"
          ],
          "name": "stdout"
        }
      ]
    },
    {
      "cell_type": "code",
      "metadata": {
        "colab": {
          "base_uri": "https://localhost:8080/"
        },
        "id": "MWcsqM2bbSRI",
        "outputId": "be3bdfec-1566-4390-db13-61aff80f5912"
      },
      "source": [
        "cd '/content/drive/MyDrive/Datasets'"
      ],
      "execution_count": 2,
      "outputs": [
        {
          "output_type": "stream",
          "text": [
            "/content/drive/MyDrive/Datasets\n"
          ],
          "name": "stdout"
        }
      ]
    },
    {
      "cell_type": "code",
      "metadata": {
        "colab": {
          "base_uri": "https://localhost:8080/"
        },
        "id": "PHygaOE6bYIh",
        "outputId": "d02362c4-f636-4b21-b3aa-675b523a4800"
      },
      "source": [
        "ls -a"
      ],
      "execution_count": 3,
      "outputs": [
        {
          "output_type": "stream",
          "text": [
            "student-mat.csv  student-por.csv  univariate_MathData_2.csv  w-h.csv\n"
          ],
          "name": "stdout"
        }
      ]
    },
    {
      "cell_type": "markdown",
      "metadata": {
        "id": "kyKNZVwLbdup"
      },
      "source": [
        "###We're  going to work on `w-h.csv (Weight-Height)`"
      ]
    },
    {
      "cell_type": "markdown",
      "metadata": {
        "id": "4g5D4mxSb4AI"
      },
      "source": [
        "## Data Preprocessing"
      ]
    },
    {
      "cell_type": "code",
      "metadata": {
        "id": "b0FUVxNsb7VW"
      },
      "source": [
        "# Import necessary libraries\n",
        "import pandas as pd                    # For handling csv files(constructs dataframes)\n",
        "import numpy as np                     # For scientific computations as well as hanlding arrays,vectors,tensors\n",
        "import matplotlib.pyplot as plt        # For visualisation of Data\n",
        "import seaborn as sns                  # For visualisation with different plots \n",
        "import tensorflow as tf                # Framework\n"
      ],
      "execution_count": 4,
      "outputs": []
    },
    {
      "cell_type": "code",
      "metadata": {
        "id": "tWttOhaxctSe"
      },
      "source": [
        "dataset=pd.read_csv('w-h.csv')         # Reading the csv and creates a dataframe\n"
      ],
      "execution_count": 5,
      "outputs": []
    },
    {
      "cell_type": "code",
      "metadata": {
        "colab": {
          "base_uri": "https://localhost:8080/"
        },
        "id": "DE4x-za7dEy7",
        "outputId": "8b6ce955-45e4-43e5-e515-f0838d451c81"
      },
      "source": [
        "dataset.info()"
      ],
      "execution_count": 6,
      "outputs": [
        {
          "output_type": "stream",
          "text": [
            "<class 'pandas.core.frame.DataFrame'>\n",
            "RangeIndex: 5000 entries, 0 to 4999\n",
            "Data columns (total 4 columns):\n",
            " #   Column      Non-Null Count  Dtype  \n",
            "---  ------      --------------  -----  \n",
            " 0   Unnamed: 0  5000 non-null   int64  \n",
            " 1   Gender      5000 non-null   object \n",
            " 2   Height      5000 non-null   float64\n",
            " 3   Weight      5000 non-null   float64\n",
            "dtypes: float64(2), int64(1), object(1)\n",
            "memory usage: 156.4+ KB\n"
          ],
          "name": "stdout"
        }
      ]
    },
    {
      "cell_type": "code",
      "metadata": {
        "colab": {
          "base_uri": "https://localhost:8080/"
        },
        "id": "YXkOc-sFdNX4",
        "outputId": "aa1e579e-d344-45ca-8c04-2c702dea3b49"
      },
      "source": [
        "dataset.shape                         # Shape of the Dataset"
      ],
      "execution_count": 7,
      "outputs": [
        {
          "output_type": "execute_result",
          "data": {
            "text/plain": [
              "(5000, 4)"
            ]
          },
          "metadata": {
            "tags": []
          },
          "execution_count": 7
        }
      ]
    },
    {
      "cell_type": "code",
      "metadata": {
        "id": "Rm7yjbGSFjYp"
      },
      "source": [
        "dataset=dataset.iloc[0:500,0:]        # Adjusting the samples from 5000 to 500"
      ],
      "execution_count": 8,
      "outputs": []
    },
    {
      "cell_type": "code",
      "metadata": {
        "colab": {
          "base_uri": "https://localhost:8080/",
          "height": 362
        },
        "id": "-GBt11XLdXjD",
        "outputId": "db4ba322-0113-48cb-d66e-e8c4c6f5214d"
      },
      "source": [
        "dataset.head(10)                      # Prints 10 rows from the top"
      ],
      "execution_count": 9,
      "outputs": [
        {
          "output_type": "execute_result",
          "data": {
            "text/html": [
              "<div>\n",
              "<style scoped>\n",
              "    .dataframe tbody tr th:only-of-type {\n",
              "        vertical-align: middle;\n",
              "    }\n",
              "\n",
              "    .dataframe tbody tr th {\n",
              "        vertical-align: top;\n",
              "    }\n",
              "\n",
              "    .dataframe thead th {\n",
              "        text-align: right;\n",
              "    }\n",
              "</style>\n",
              "<table border=\"1\" class=\"dataframe\">\n",
              "  <thead>\n",
              "    <tr style=\"text-align: right;\">\n",
              "      <th></th>\n",
              "      <th>Unnamed: 0</th>\n",
              "      <th>Gender</th>\n",
              "      <th>Height</th>\n",
              "      <th>Weight</th>\n",
              "    </tr>\n",
              "  </thead>\n",
              "  <tbody>\n",
              "    <tr>\n",
              "      <th>0</th>\n",
              "      <td>0</td>\n",
              "      <td>Male</td>\n",
              "      <td>73.847017</td>\n",
              "      <td>241.893563</td>\n",
              "    </tr>\n",
              "    <tr>\n",
              "      <th>1</th>\n",
              "      <td>1</td>\n",
              "      <td>Male</td>\n",
              "      <td>68.781904</td>\n",
              "      <td>162.310473</td>\n",
              "    </tr>\n",
              "    <tr>\n",
              "      <th>2</th>\n",
              "      <td>2</td>\n",
              "      <td>Male</td>\n",
              "      <td>74.110105</td>\n",
              "      <td>212.740856</td>\n",
              "    </tr>\n",
              "    <tr>\n",
              "      <th>3</th>\n",
              "      <td>3</td>\n",
              "      <td>Male</td>\n",
              "      <td>71.730978</td>\n",
              "      <td>220.042470</td>\n",
              "    </tr>\n",
              "    <tr>\n",
              "      <th>4</th>\n",
              "      <td>4</td>\n",
              "      <td>Male</td>\n",
              "      <td>69.881796</td>\n",
              "      <td>206.349801</td>\n",
              "    </tr>\n",
              "    <tr>\n",
              "      <th>5</th>\n",
              "      <td>5</td>\n",
              "      <td>Male</td>\n",
              "      <td>67.253016</td>\n",
              "      <td>152.212156</td>\n",
              "    </tr>\n",
              "    <tr>\n",
              "      <th>6</th>\n",
              "      <td>6</td>\n",
              "      <td>Male</td>\n",
              "      <td>68.785081</td>\n",
              "      <td>183.927889</td>\n",
              "    </tr>\n",
              "    <tr>\n",
              "      <th>7</th>\n",
              "      <td>7</td>\n",
              "      <td>Male</td>\n",
              "      <td>68.348516</td>\n",
              "      <td>167.971110</td>\n",
              "    </tr>\n",
              "    <tr>\n",
              "      <th>8</th>\n",
              "      <td>8</td>\n",
              "      <td>Male</td>\n",
              "      <td>67.018950</td>\n",
              "      <td>175.929440</td>\n",
              "    </tr>\n",
              "    <tr>\n",
              "      <th>9</th>\n",
              "      <td>9</td>\n",
              "      <td>Male</td>\n",
              "      <td>63.456494</td>\n",
              "      <td>156.399676</td>\n",
              "    </tr>\n",
              "  </tbody>\n",
              "</table>\n",
              "</div>"
            ],
            "text/plain": [
              "   Unnamed: 0 Gender     Height      Weight\n",
              "0           0   Male  73.847017  241.893563\n",
              "1           1   Male  68.781904  162.310473\n",
              "2           2   Male  74.110105  212.740856\n",
              "3           3   Male  71.730978  220.042470\n",
              "4           4   Male  69.881796  206.349801\n",
              "5           5   Male  67.253016  152.212156\n",
              "6           6   Male  68.785081  183.927889\n",
              "7           7   Male  68.348516  167.971110\n",
              "8           8   Male  67.018950  175.929440\n",
              "9           9   Male  63.456494  156.399676"
            ]
          },
          "metadata": {
            "tags": []
          },
          "execution_count": 9
        }
      ]
    },
    {
      "cell_type": "code",
      "metadata": {
        "colab": {
          "base_uri": "https://localhost:8080/",
          "height": 362
        },
        "id": "BtAyKmLqddfj",
        "outputId": "5d7781be-144c-4bf4-801d-57debb74afcd"
      },
      "source": [
        "dataset.tail(10)                         # Prints ten rows from the bottom"
      ],
      "execution_count": 10,
      "outputs": [
        {
          "output_type": "execute_result",
          "data": {
            "text/html": [
              "<div>\n",
              "<style scoped>\n",
              "    .dataframe tbody tr th:only-of-type {\n",
              "        vertical-align: middle;\n",
              "    }\n",
              "\n",
              "    .dataframe tbody tr th {\n",
              "        vertical-align: top;\n",
              "    }\n",
              "\n",
              "    .dataframe thead th {\n",
              "        text-align: right;\n",
              "    }\n",
              "</style>\n",
              "<table border=\"1\" class=\"dataframe\">\n",
              "  <thead>\n",
              "    <tr style=\"text-align: right;\">\n",
              "      <th></th>\n",
              "      <th>Unnamed: 0</th>\n",
              "      <th>Gender</th>\n",
              "      <th>Height</th>\n",
              "      <th>Weight</th>\n",
              "    </tr>\n",
              "  </thead>\n",
              "  <tbody>\n",
              "    <tr>\n",
              "      <th>490</th>\n",
              "      <td>490</td>\n",
              "      <td>Male</td>\n",
              "      <td>68.792984</td>\n",
              "      <td>174.489486</td>\n",
              "    </tr>\n",
              "    <tr>\n",
              "      <th>491</th>\n",
              "      <td>491</td>\n",
              "      <td>Male</td>\n",
              "      <td>68.445747</td>\n",
              "      <td>183.783383</td>\n",
              "    </tr>\n",
              "    <tr>\n",
              "      <th>492</th>\n",
              "      <td>492</td>\n",
              "      <td>Male</td>\n",
              "      <td>69.201578</td>\n",
              "      <td>188.103506</td>\n",
              "    </tr>\n",
              "    <tr>\n",
              "      <th>493</th>\n",
              "      <td>493</td>\n",
              "      <td>Male</td>\n",
              "      <td>69.426017</td>\n",
              "      <td>176.193430</td>\n",
              "    </tr>\n",
              "    <tr>\n",
              "      <th>494</th>\n",
              "      <td>494</td>\n",
              "      <td>Male</td>\n",
              "      <td>69.606225</td>\n",
              "      <td>194.200712</td>\n",
              "    </tr>\n",
              "    <tr>\n",
              "      <th>495</th>\n",
              "      <td>495</td>\n",
              "      <td>Male</td>\n",
              "      <td>72.881707</td>\n",
              "      <td>194.199509</td>\n",
              "    </tr>\n",
              "    <tr>\n",
              "      <th>496</th>\n",
              "      <td>496</td>\n",
              "      <td>Male</td>\n",
              "      <td>62.178331</td>\n",
              "      <td>145.898842</td>\n",
              "    </tr>\n",
              "    <tr>\n",
              "      <th>497</th>\n",
              "      <td>497</td>\n",
              "      <td>Male</td>\n",
              "      <td>68.874707</td>\n",
              "      <td>191.833709</td>\n",
              "    </tr>\n",
              "    <tr>\n",
              "      <th>498</th>\n",
              "      <td>498</td>\n",
              "      <td>Male</td>\n",
              "      <td>71.080084</td>\n",
              "      <td>209.853554</td>\n",
              "    </tr>\n",
              "    <tr>\n",
              "      <th>499</th>\n",
              "      <td>499</td>\n",
              "      <td>Male</td>\n",
              "      <td>72.182534</td>\n",
              "      <td>201.261464</td>\n",
              "    </tr>\n",
              "  </tbody>\n",
              "</table>\n",
              "</div>"
            ],
            "text/plain": [
              "     Unnamed: 0 Gender     Height      Weight\n",
              "490         490   Male  68.792984  174.489486\n",
              "491         491   Male  68.445747  183.783383\n",
              "492         492   Male  69.201578  188.103506\n",
              "493         493   Male  69.426017  176.193430\n",
              "494         494   Male  69.606225  194.200712\n",
              "495         495   Male  72.881707  194.199509\n",
              "496         496   Male  62.178331  145.898842\n",
              "497         497   Male  68.874707  191.833709\n",
              "498         498   Male  71.080084  209.853554\n",
              "499         499   Male  72.182534  201.261464"
            ]
          },
          "metadata": {
            "tags": []
          },
          "execution_count": 10
        }
      ]
    },
    {
      "cell_type": "code",
      "metadata": {
        "id": "Lg1ghHxVdhlT"
      },
      "source": [
        "dataset.columns = ['S.no','Gender','Height','Weight']              #  Renaming columns"
      ],
      "execution_count": 11,
      "outputs": []
    },
    {
      "cell_type": "code",
      "metadata": {
        "colab": {
          "base_uri": "https://localhost:8080/"
        },
        "id": "skEpRxivefEQ",
        "outputId": "7a50c0b5-bd25-48bf-ea26-b85d9a32389e"
      },
      "source": [
        "print(f\"There are {len(dataset.columns)} columns in the dataset\")  # Finding number of  cols\n",
        "print(dataset.columns)"
      ],
      "execution_count": 12,
      "outputs": [
        {
          "output_type": "stream",
          "text": [
            "There are 4 columns in the dataset\n",
            "Index(['S.no', 'Gender', 'Height', 'Weight'], dtype='object')\n"
          ],
          "name": "stdout"
        }
      ]
    },
    {
      "cell_type": "code",
      "metadata": {
        "id": "GaO_Q1okejCq"
      },
      "source": [
        "dataset=dataset.drop(['S.no','Gender'],axis=1)                     # Dropping Unnecessary cols"
      ],
      "execution_count": 13,
      "outputs": []
    },
    {
      "cell_type": "code",
      "metadata": {
        "colab": {
          "base_uri": "https://localhost:8080/",
          "height": 299
        },
        "id": "euQNPkFuer7b",
        "outputId": "d6454be8-967f-4702-e281-25e7c1333324"
      },
      "source": [
        "dataset.iloc[:,1:].describe()                                      # Basic analysis over the dataset"
      ],
      "execution_count": 14,
      "outputs": [
        {
          "output_type": "execute_result",
          "data": {
            "text/html": [
              "<div>\n",
              "<style scoped>\n",
              "    .dataframe tbody tr th:only-of-type {\n",
              "        vertical-align: middle;\n",
              "    }\n",
              "\n",
              "    .dataframe tbody tr th {\n",
              "        vertical-align: top;\n",
              "    }\n",
              "\n",
              "    .dataframe thead th {\n",
              "        text-align: right;\n",
              "    }\n",
              "</style>\n",
              "<table border=\"1\" class=\"dataframe\">\n",
              "  <thead>\n",
              "    <tr style=\"text-align: right;\">\n",
              "      <th></th>\n",
              "      <th>Weight</th>\n",
              "    </tr>\n",
              "  </thead>\n",
              "  <tbody>\n",
              "    <tr>\n",
              "      <th>count</th>\n",
              "      <td>500.000000</td>\n",
              "    </tr>\n",
              "    <tr>\n",
              "      <th>mean</th>\n",
              "      <td>187.141335</td>\n",
              "    </tr>\n",
              "    <tr>\n",
              "      <th>std</th>\n",
              "      <td>19.305476</td>\n",
              "    </tr>\n",
              "    <tr>\n",
              "      <th>min</th>\n",
              "      <td>135.655876</td>\n",
              "    </tr>\n",
              "    <tr>\n",
              "      <th>25%</th>\n",
              "      <td>173.027386</td>\n",
              "    </tr>\n",
              "    <tr>\n",
              "      <th>50%</th>\n",
              "      <td>186.885972</td>\n",
              "    </tr>\n",
              "    <tr>\n",
              "      <th>75%</th>\n",
              "      <td>200.038625</td>\n",
              "    </tr>\n",
              "    <tr>\n",
              "      <th>max</th>\n",
              "      <td>241.893563</td>\n",
              "    </tr>\n",
              "  </tbody>\n",
              "</table>\n",
              "</div>"
            ],
            "text/plain": [
              "           Weight\n",
              "count  500.000000\n",
              "mean   187.141335\n",
              "std     19.305476\n",
              "min    135.655876\n",
              "25%    173.027386\n",
              "50%    186.885972\n",
              "75%    200.038625\n",
              "max    241.893563"
            ]
          },
          "metadata": {
            "tags": []
          },
          "execution_count": 14
        }
      ]
    },
    {
      "cell_type": "code",
      "metadata": {
        "colab": {
          "base_uri": "https://localhost:8080/"
        },
        "id": "xbNdApQ6gkug",
        "outputId": "98d5168c-a94f-4b33-a2e2-62634988fa99"
      },
      "source": [
        "dataset.isnull().sum()                                              # Checking Null values"
      ],
      "execution_count": 15,
      "outputs": [
        {
          "output_type": "execute_result",
          "data": {
            "text/plain": [
              "Height    0\n",
              "Weight    0\n",
              "dtype: int64"
            ]
          },
          "metadata": {
            "tags": []
          },
          "execution_count": 15
        }
      ]
    },
    {
      "cell_type": "markdown",
      "metadata": {
        "id": "1EQmZJFKg_xl"
      },
      "source": [
        "## Data Visualisation"
      ]
    },
    {
      "cell_type": "markdown",
      "metadata": {
        "id": "-Jhfl7e0HRan"
      },
      "source": [
        "**Scatter Plot**"
      ]
    },
    {
      "cell_type": "code",
      "metadata": {
        "colab": {
          "base_uri": "https://localhost:8080/",
          "height": 322
        },
        "id": "sshQCNHthCgI",
        "outputId": "4bff5332-2ea5-4fdc-d1cb-c2bd446ad8ad"
      },
      "source": [
        "plt.grid(True)\n",
        "font = {'family': 'serif',\n",
        "        'color':  'darkred',\n",
        "        'weight': 'normal',\n",
        "        'size': 16,\n",
        "        }\n",
        "plt.scatter(dataset['Height'],dataset['Weight'],s=40,color='cornflowerblue')\n",
        "plt.title('Height vs Weight',fontdict=font)\n",
        "plt.xlabel('Height',fontdict=font)\n",
        "plt.ylabel('Weight',fontdict=font)\n",
        "plt.figure(figsize=(40,40))\n",
        "plt.show()"
      ],
      "execution_count": 16,
      "outputs": [
        {
          "output_type": "display_data",
          "data": {
            "image/png": "[encoded data removed]",
            "text/plain": [
              "<Figure size 432x288 with 1 Axes>"
            ]
          },
          "metadata": {
            "tags": [],
            "needs_background": "light"
          }
        },
        {
          "output_type": "display_data",
          "data": {
            "text/plain": [
              "<Figure size 2880x2880 with 0 Axes>"
            ]
          },
          "metadata": {
            "tags": []
          }
        }
      ]
    },
    {
      "cell_type": "code",
      "metadata": {
        "colab": {
          "base_uri": "https://localhost:8080/",
          "height": 157
        },
        "id": "_pfXMB9ljMBZ",
        "outputId": "d806eb23-fdf8-46e7-dd25-0efbc37512e0"
      },
      "source": [
        "sns.palplot(sns.color_palette('PuOr')) #Purple to Orange colors\n",
        "pal = sns.color_palette('PuOr', 6) #print 6 color shades from Purple to Orange\n",
        "pal.as_hex() #set hex code values for colors\n",
        "\n",
        "import matplotlib.pyplot as plt\n",
        "plt.style.use(['seaborn'])\n",
        "sns_colors = ['#c6690c', '#664697'] #orange Purple hex codes\n",
        "sns.set_palette(sns_colors) #set the palette as sns_colors \n",
        "sns.palplot(sns.color_palette(sns_colors)) #plot the color codes"
      ],
      "execution_count": 17,
      "outputs": [
        {
          "output_type": "display_data",
          "data": {
            "image/png": "[encoded data removed]",
            "text/plain": [
              "<Figure size 432x72 with 1 Axes>"
            ]
          },
          "metadata": {
            "tags": [],
            "needs_background": "light"
          }
        },
        {
          "output_type": "display_data",
          "data": {
            "image/png": "[encoded data removed]",
            "text/plain": [
              "<Figure size 144x72 with 1 Axes>"
            ]
          },
          "metadata": {
            "tags": []
          }
        }
      ]
    },
    {
      "cell_type": "markdown",
      "metadata": {
        "id": "acAh7thzHYyk"
      },
      "source": [
        "**Pair Plot**"
      ]
    },
    {
      "cell_type": "code",
      "metadata": {
        "colab": {
          "base_uri": "https://localhost:8080/",
          "height": 461
        },
        "id": "xzeU092_jaJv",
        "outputId": "48ef9dad-3254-4157-e8b8-8f31dcb55960"
      },
      "source": [
        "\n",
        "sns.pairplot(dataset,x_vars=['Height','Weight'],y_vars=['Height','Weight'],diag_kind='kde',palette=\"hls\",height=3)\n"
      ],
      "execution_count": 18,
      "outputs": [
        {
          "output_type": "execute_result",
          "data": {
            "text/plain": [
              "<seaborn.axisgrid.PairGrid at 0x7fad62ff0f10>"
            ]
          },
          "metadata": {
            "tags": []
          },
          "execution_count": 18
        },
        {
          "output_type": "display_data",
          "data": {
            "image/png": "[encoded data removed]",
            "text/plain": [
              "<Figure size 432x432 with 6 Axes>"
            ]
          },
          "metadata": {
            "tags": []
          }
        }
      ]
    },
    {
      "cell_type": "markdown",
      "metadata": {
        "id": "_ZTZIUzVHba8"
      },
      "source": [
        "**Box Plot**"
      ]
    },
    {
      "cell_type": "code",
      "metadata": {
        "id": "BIiIUEKyphym",
        "colab": {
          "base_uri": "https://localhost:8080/",
          "height": 347
        },
        "outputId": "af278311-8fa1-4a40-c92b-7ccd4f724106"
      },
      "source": [
        "\n",
        "sns.boxplot(y=dataset['Weight'],palette='muted')"
      ],
      "execution_count": 19,
      "outputs": [
        {
          "output_type": "execute_result",
          "data": {
            "text/plain": [
              "<matplotlib.axes._subplots.AxesSubplot at 0x7fad576950d0>"
            ]
          },
          "metadata": {
            "tags": []
          },
          "execution_count": 19
        },
        {
          "output_type": "display_data",
          "data": {
            "image/png": "[encoded data removed]",
            "text/plain": [
              "<Figure size 576x396 with 1 Axes>"
            ]
          },
          "metadata": {
            "tags": []
          }
        }
      ]
    },
    {
      "cell_type": "markdown",
      "metadata": {
        "id": "fMxF3PwQHgNv"
      },
      "source": [
        "**Violin Plot**"
      ]
    },
    {
      "cell_type": "code",
      "metadata": {
        "colab": {
          "base_uri": "https://localhost:8080/",
          "height": 349
        },
        "id": "RD5uOn9v4I4W",
        "outputId": "3c4cc62d-0632-40d5-9c67-7d48a988f1d9"
      },
      "source": [
        "sns.violinplot(y=dataset[\"Weight\"])"
      ],
      "execution_count": 20,
      "outputs": [
        {
          "output_type": "execute_result",
          "data": {
            "text/plain": [
              "<matplotlib.axes._subplots.AxesSubplot at 0x7fad55e3de90>"
            ]
          },
          "metadata": {
            "tags": []
          },
          "execution_count": 20
        },
        {
          "output_type": "display_data",
          "data": {
            "image/png": "[encoded data removed]",
            "text/plain": [
              "<Figure size 576x396 with 1 Axes>"
            ]
          },
          "metadata": {
            "tags": []
          }
        }
      ]
    },
    {
      "cell_type": "code",
      "metadata": {
        "colab": {
          "base_uri": "https://localhost:8080/",
          "height": 112
        },
        "id": "uFFle0z95Ej3",
        "outputId": "a796f64b-38ee-439b-e0d3-21a7909d0ab1"
      },
      "source": [
        "dataset.corr()                                          # Finding the correlation b/w variables"
      ],
      "execution_count": 21,
      "outputs": [
        {
          "output_type": "execute_result",
          "data": {
            "text/html": [
              "<div>\n",
              "<style scoped>\n",
              "    .dataframe tbody tr th:only-of-type {\n",
              "        vertical-align: middle;\n",
              "    }\n",
              "\n",
              "    .dataframe tbody tr th {\n",
              "        vertical-align: top;\n",
              "    }\n",
              "\n",
              "    .dataframe thead th {\n",
              "        text-align: right;\n",
              "    }\n",
              "</style>\n",
              "<table border=\"1\" class=\"dataframe\">\n",
              "  <thead>\n",
              "    <tr style=\"text-align: right;\">\n",
              "      <th></th>\n",
              "      <th>Height</th>\n",
              "      <th>Weight</th>\n",
              "    </tr>\n",
              "  </thead>\n",
              "  <tbody>\n",
              "    <tr>\n",
              "      <th>Height</th>\n",
              "      <td>1.000000</td>\n",
              "      <td>0.837903</td>\n",
              "    </tr>\n",
              "    <tr>\n",
              "      <th>Weight</th>\n",
              "      <td>0.837903</td>\n",
              "      <td>1.000000</td>\n",
              "    </tr>\n",
              "  </tbody>\n",
              "</table>\n",
              "</div>"
            ],
            "text/plain": [
              "          Height    Weight\n",
              "Height  1.000000  0.837903\n",
              "Weight  0.837903  1.000000"
            ]
          },
          "metadata": {
            "tags": []
          },
          "execution_count": 21
        }
      ]
    },
    {
      "cell_type": "markdown",
      "metadata": {
        "id": "zud5kwPDHpD_"
      },
      "source": [
        "**Heat Map**"
      ]
    },
    {
      "cell_type": "code",
      "metadata": {
        "colab": {
          "base_uri": "https://localhost:8080/",
          "height": 368
        },
        "id": "qr53vel55rAr",
        "outputId": "9b1e52bd-daa9-4b46-8639-c6ea05d07904"
      },
      "source": [
        "sns.heatmap(dataset.corr(),annot=True,cmap=\"PuBuGn\")"
      ],
      "execution_count": 22,
      "outputs": [
        {
          "output_type": "execute_result",
          "data": {
            "text/plain": [
              "<matplotlib.axes._subplots.AxesSubplot at 0x7fad62fcbb50>"
            ]
          },
          "metadata": {
            "tags": []
          },
          "execution_count": 22
        },
        {
          "output_type": "display_data",
          "data": {
            "image/png": "[encoded data removed]",
            "text/plain": [
              "<Figure size 576x396 with 2 Axes>"
            ]
          },
          "metadata": {
            "tags": []
          }
        }
      ]
    },
    {
      "cell_type": "markdown",
      "metadata": {
        "id": "i_z8EB7lJg2I"
      },
      "source": [
        "*There exists a positive correlation between the variables `Height` and `Weight`*"
      ]
    },
    {
      "cell_type": "markdown",
      "metadata": {
        "id": "b4RDbxMJ6tb6"
      },
      "source": [
        "# Data Split"
      ]
    },
    {
      "cell_type": "code",
      "metadata": {
        "id": "5BcSCeOJ6PLF"
      },
      "source": [
        "trainDataset = dataset.sample(frac=0.8, random_state=0)                                  # Dividing datasets into parts (80% and 20%)\n",
        "testDataset = dataset.drop(trainDataset.index)\n"
      ],
      "execution_count": 23,
      "outputs": []
    },
    {
      "cell_type": "code",
      "metadata": {
        "colab": {
          "base_uri": "https://localhost:8080/"
        },
        "id": "9nNzrsNc7AfD",
        "outputId": "2919872b-efc6-4bd7-b112-a57d4dac2bc2"
      },
      "source": [
        "print(f'After split the number of samples in trainDataset {trainDataset.shape[0]}')      # Counting the samples\n",
        "print(f'After split the number of samples in testDataset {testDataset.shape[0]}')"
      ],
      "execution_count": 24,
      "outputs": [
        {
          "output_type": "stream",
          "text": [
            "After split the number of samples in trainDataset 400\n",
            "After split the number of samples in testDataset 100\n"
          ],
          "name": "stdout"
        }
      ]
    },
    {
      "cell_type": "code",
      "metadata": {
        "colab": {
          "base_uri": "https://localhost:8080/"
        },
        "id": "HurN4GVS8mFZ",
        "outputId": "7be9ed8f-b8c0-4930-f743-54674fe6815a"
      },
      "source": [
        "trainFeatures = trainDataset.copy()\n",
        "testFeatures = testDataset.copy()\n",
        "\n",
        "print(trainFeatures.head())\n",
        "print(testFeatures.head())"
      ],
      "execution_count": 25,
      "outputs": [
        {
          "output_type": "stream",
          "text": [
            "        Height      Weight\n",
            "90   71.815420  201.620667\n",
            "254  69.164381  196.892315\n",
            "283  66.414882  155.194772\n",
            "445  71.433376  216.634000\n",
            "461  66.676781  183.197307\n",
            "       Height      Weight\n",
            "9   63.456494  156.399676\n",
            "25  68.144033  192.343977\n",
            "28  67.421242  175.213922\n",
            "31  74.033808  212.910225\n",
            "32  71.528216  195.032243\n"
          ],
          "name": "stdout"
        }
      ]
    },
    {
      "cell_type": "code",
      "metadata": {
        "colab": {
          "base_uri": "https://localhost:8080/"
        },
        "id": "HzWMWklJ8o9Q",
        "outputId": "88f5049c-26a6-4749-a94d-837abb0cea1c"
      },
      "source": [
        "trainLabels = trainFeatures.pop('Weight')\n",
        "testLabels = testFeatures.pop('Weight')\n",
        "\n",
        "print(trainLabels.head())\n",
        "print(testLabels.head())"
      ],
      "execution_count": 26,
      "outputs": [
        {
          "output_type": "stream",
          "text": [
            "90     201.620667\n",
            "254    196.892315\n",
            "283    155.194772\n",
            "445    216.634000\n",
            "461    183.197307\n",
            "Name: Weight, dtype: float64\n",
            "9     156.399676\n",
            "25    192.343977\n",
            "28    175.213922\n",
            "31    212.910225\n",
            "32    195.032243\n",
            "Name: Weight, dtype: float64\n"
          ],
          "name": "stdout"
        }
      ]
    },
    {
      "cell_type": "code",
      "metadata": {
        "colab": {
          "base_uri": "https://localhost:8080/"
        },
        "id": "Tvz6-pjB7_Is",
        "outputId": "a4c3ea2c-767b-44aa-ee7a-f2aa0864eae2"
      },
      "source": [
        "print(trainLabels.describe())\n"
      ],
      "execution_count": 27,
      "outputs": [
        {
          "output_type": "stream",
          "text": [
            "count    400.000000\n",
            "mean     186.853132\n",
            "std       19.441716\n",
            "min      135.655876\n",
            "25%      172.746315\n",
            "50%      186.346299\n",
            "75%      199.938897\n",
            "max      241.893563\n",
            "Name: Weight, dtype: float64\n"
          ],
          "name": "stdout"
        }
      ]
    },
    {
      "cell_type": "markdown",
      "metadata": {
        "id": "Jkbq7cSxH9NT"
      },
      "source": [
        "### Training a Perceptron"
      ]
    },
    {
      "cell_type": "code",
      "metadata": {
        "id": "sgK73w-79UrP"
      },
      "source": [
        "model=tf.keras.models.Sequential()"
      ],
      "execution_count": 28,
      "outputs": []
    },
    {
      "cell_type": "code",
      "metadata": {
        "id": "S4G7XrB89bmV"
      },
      "source": [
        "model.add(tf.keras.layers.Dense(units=6, activation='relu'))   # Adding a hidden layer"
      ],
      "execution_count": 29,
      "outputs": []
    },
    {
      "cell_type": "code",
      "metadata": {
        "id": "orOao82K9juC"
      },
      "source": [
        "model.add(tf.keras.layers.Dense(units=1))"
      ],
      "execution_count": 30,
      "outputs": []
    },
    {
      "cell_type": "code",
      "metadata": {
        "id": "5oflf1eJ90Q2"
      },
      "source": [
        "model.compile(\n",
        "    loss = 'mean_absolute_error', #minimizing the MAE loss\n",
        "    optimizer = tf.keras.optimizers.Adam(0.001), #learning rate specified as 0.001\n",
        "    # optimizer = 'adam', #takes the default learning rate\n",
        "    metrics = ['mae', 'mse'] #meanSquare and meanAbsolute error metrics\n",
        ")"
      ],
      "execution_count": 31,
      "outputs": []
    },
    {
      "cell_type": "code",
      "metadata": {
        "colab": {
          "base_uri": "https://localhost:8080/"
        },
        "id": "pXedvHW59-gc",
        "outputId": "950368d9-2735-4fec-b724-767af3f0ddd0"
      },
      "source": [
        "numEpochs = 600\n",
        "history = model.fit(x = trainFeatures, y = trainLabels, validation_data = (testFeatures, testLabels),epochs = numEpochs)"
      ],
      "execution_count": 32,
      "outputs": [
        {
          "output_type": "stream",
          "text": [
            "Epoch 1/600\n",
            "13/13 [==============================] - 1s 16ms/step - loss: 165.4955 - mae: 165.4955 - mse: 27739.7266 - val_loss: 165.1302 - val_mae: 165.1302 - val_mse: 27590.2656\n",
            "Epoch 2/600\n",
            "13/13 [==============================] - 0s 3ms/step - loss: 162.2694 - mae: 162.2694 - mse: 26677.3359 - val_loss: 161.8706 - val_mae: 161.8706 - val_mse: 26520.6523\n",
            "Epoch 3/600\n",
            "13/13 [==============================] - 0s 4ms/step - loss: 158.9852 - mae: 158.9852 - mse: 25619.3496 - val_loss: 158.5372 - val_mae: 158.5372 - val_mse: 25448.8223\n",
            "Epoch 4/600\n",
            "13/13 [==============================] - 0s 4ms/step - loss: 155.6218 - mae: 155.6218 - mse: 24559.5078 - val_loss: 155.1275 - val_mae: 155.1275 - val_mse: 24375.5020\n",
            "Epoch 5/600\n",
            "13/13 [==============================] - 0s 3ms/step - loss: 152.1749 - mae: 152.1749 - mse: 23492.4629 - val_loss: 151.6315 - val_mae: 151.6315 - val_mse: 23299.1602\n",
            "Epoch 6/600\n",
            "13/13 [==============================] - 0s 4ms/step - loss: 148.6420 - mae: 148.6420 - mse: 22425.5156 - val_loss: 148.0419 - val_mae: 148.0419 - val_mse: 22219.4941\n",
            "Epoch 7/600\n",
            "13/13 [==============================] - 0s 3ms/step - loss: 145.0155 - mae: 145.0155 - mse: 21358.2383 - val_loss: 144.3553 - val_mae: 144.3553 - val_mse: 21137.5254\n",
            "Epoch 8/600\n",
            "13/13 [==============================] - 0s 3ms/step - loss: 141.2869 - mae: 141.2869 - mse: 20283.1094 - val_loss: 140.5744 - val_mae: 140.5744 - val_mse: 20056.1504\n",
            "Epoch 9/600\n",
            "13/13 [==============================] - 0s 3ms/step - loss: 137.4648 - mae: 137.4648 - mse: 19217.4395 - val_loss: 136.6865 - val_mae: 136.6865 - val_mse: 18974.0293\n",
            "Epoch 10/600\n",
            "13/13 [==============================] - 0s 5ms/step - loss: 133.5314 - mae: 133.5314 - mse: 18141.6035 - val_loss: 132.6949 - val_mae: 132.6949 - val_mse: 17894.5469\n",
            "Epoch 11/600\n",
            "13/13 [==============================] - 0s 3ms/step - loss: 129.4958 - mae: 129.4958 - mse: 17080.9023 - val_loss: 128.5877 - val_mae: 128.5877 - val_mse: 16817.1055\n",
            "Epoch 12/600\n",
            "13/13 [==============================] - 0s 5ms/step - loss: 125.3435 - mae: 125.3435 - mse: 16016.6904 - val_loss: 124.3734 - val_mae: 124.3734 - val_mse: 15746.7070\n",
            "Epoch 13/600\n",
            "13/13 [==============================] - 0s 5ms/step - loss: 121.0829 - mae: 121.0829 - mse: 14960.1387 - val_loss: 120.0443 - val_mae: 120.0443 - val_mse: 14684.1992\n",
            "Epoch 14/600\n",
            "13/13 [==============================] - 0s 4ms/step - loss: 116.7052 - mae: 116.7052 - mse: 13916.8750 - val_loss: 115.5946 - val_mae: 115.5946 - val_mse: 13631.1963\n",
            "Epoch 15/600\n",
            "13/13 [==============================] - 0s 5ms/step - loss: 112.2039 - mae: 112.2039 - mse: 12879.4502 - val_loss: 111.0250 - val_mae: 111.0250 - val_mse: 12591.1123\n",
            "Epoch 16/600\n",
            "13/13 [==============================] - 0s 4ms/step - loss: 107.5846 - mae: 107.5846 - mse: 11859.1504 - val_loss: 106.3300 - val_mae: 106.3300 - val_mse: 11566.0439\n",
            "Epoch 17/600\n",
            "13/13 [==============================] - 0s 3ms/step - loss: 102.8403 - mae: 102.8403 - mse: 10859.5146 - val_loss: 101.5083 - val_mae: 101.5083 - val_mse: 10559.2549\n",
            "Epoch 18/600\n",
            "13/13 [==============================] - 0s 4ms/step - loss: 97.9666 - mae: 97.9666 - mse: 9877.6416 - val_loss: 96.5607 - val_mae: 96.5607 - val_mse: 9574.5840\n",
            "Epoch 19/600\n",
            "13/13 [==============================] - 0s 4ms/step - loss: 92.9634 - mae: 92.9634 - mse: 8911.2334 - val_loss: 91.4837 - val_mae: 91.4837 - val_mse: 8615.1523\n",
            "Epoch 20/600\n",
            "13/13 [==============================] - 0s 5ms/step - loss: 87.8358 - mae: 87.8358 - mse: 7981.5029 - val_loss: 86.2709 - val_mae: 86.2709 - val_mse: 7683.7642\n",
            "Epoch 21/600\n",
            "13/13 [==============================] - 0s 3ms/step - loss: 82.5705 - mae: 82.5705 - mse: 7086.4795 - val_loss: 80.9236 - val_mae: 80.9236 - val_mse: 6784.8989\n",
            "Epoch 22/600\n",
            "13/13 [==============================] - 0s 3ms/step - loss: 77.1632 - mae: 77.1632 - mse: 6210.7612 - val_loss: 75.4439 - val_mae: 75.4439 - val_mse: 5923.2012\n",
            "Epoch 23/600\n",
            "13/13 [==============================] - 0s 3ms/step - loss: 71.6300 - mae: 71.6300 - mse: 5391.5908 - val_loss: 69.8158 - val_mae: 69.8158 - val_mse: 5100.7754\n",
            "Epoch 24/600\n",
            "13/13 [==============================] - 0s 5ms/step - loss: 65.9416 - mae: 65.9416 - mse: 4598.6914 - val_loss: 64.0508 - val_mae: 64.0508 - val_mse: 4324.1377\n",
            "Epoch 25/600\n",
            "13/13 [==============================] - 0s 3ms/step - loss: 60.1165 - mae: 60.1165 - mse: 3855.8948 - val_loss: 58.1432 - val_mae: 58.1432 - val_mse: 3597.3315\n",
            "Epoch 26/600\n",
            "13/13 [==============================] - 0s 3ms/step - loss: 54.1528 - mae: 54.1528 - mse: 3177.5728 - val_loss: 52.0778 - val_mae: 52.0778 - val_mse: 2923.8538\n",
            "Epoch 27/600\n",
            "13/13 [==============================] - 0s 4ms/step - loss: 48.0262 - mae: 48.0262 - mse: 2538.1299 - val_loss: 45.8712 - val_mae: 45.8712 - val_mse: 2310.9736\n",
            "Epoch 28/600\n",
            "13/13 [==============================] - 0s 3ms/step - loss: 41.8126 - mae: 41.8126 - mse: 1977.5171 - val_loss: 39.6963 - val_mae: 39.6963 - val_mse: 1777.7147\n",
            "Epoch 29/600\n",
            "13/13 [==============================] - 0s 3ms/step - loss: 35.6808 - mae: 35.6808 - mse: 1488.8766 - val_loss: 33.4566 - val_mae: 33.4566 - val_mse: 1316.3203\n",
            "Epoch 30/600\n",
            "13/13 [==============================] - 0s 3ms/step - loss: 29.5311 - mae: 29.5311 - mse: 1083.2537 - val_loss: 27.2832 - val_mae: 27.2832 - val_mse: 930.2260\n",
            "Epoch 31/600\n",
            "13/13 [==============================] - 0s 4ms/step - loss: 23.6318 - mae: 23.6318 - mse: 748.6473 - val_loss: 21.2794 - val_mae: 21.2794 - val_mse: 627.4915\n",
            "Epoch 32/600\n",
            "13/13 [==============================] - 0s 4ms/step - loss: 18.4691 - mae: 18.4691 - mse: 497.3661 - val_loss: 16.1211 - val_mae: 16.1211 - val_mse: 413.8173\n",
            "Epoch 33/600\n",
            "13/13 [==============================] - 0s 3ms/step - loss: 14.7200 - mae: 14.7200 - mse: 335.4052 - val_loss: 13.2127 - val_mae: 13.2127 - val_mse: 284.2920\n",
            "Epoch 34/600\n",
            "13/13 [==============================] - 0s 3ms/step - loss: 12.5144 - mae: 12.5144 - mse: 248.6786 - val_loss: 11.9553 - val_mae: 11.9553 - val_mse: 220.8489\n",
            "Epoch 35/600\n",
            "13/13 [==============================] - 0s 5ms/step - loss: 11.6490 - mae: 11.6490 - mse: 213.7718 - val_loss: 11.3355 - val_mae: 11.3355 - val_mse: 194.1021\n",
            "Epoch 36/600\n",
            "13/13 [==============================] - 0s 3ms/step - loss: 11.3804 - mae: 11.3804 - mse: 200.6634 - val_loss: 11.0356 - val_mae: 11.0356 - val_mse: 182.6377\n",
            "Epoch 37/600\n",
            "13/13 [==============================] - 0s 3ms/step - loss: 11.2705 - mae: 11.2705 - mse: 195.4125 - val_loss: 10.9523 - val_mae: 10.9523 - val_mse: 179.2317\n",
            "Epoch 38/600\n",
            "13/13 [==============================] - 0s 3ms/step - loss: 11.2584 - mae: 11.2584 - mse: 194.4929 - val_loss: 10.9156 - val_mae: 10.9156 - val_mse: 177.5146\n",
            "Epoch 39/600\n",
            "13/13 [==============================] - 0s 3ms/step - loss: 11.2566 - mae: 11.2566 - mse: 194.1126 - val_loss: 10.9092 - val_mae: 10.9092 - val_mse: 177.2030\n",
            "Epoch 40/600\n",
            "13/13 [==============================] - 0s 3ms/step - loss: 11.2569 - mae: 11.2569 - mse: 193.9691 - val_loss: 10.8959 - val_mae: 10.8959 - val_mse: 176.5956\n",
            "Epoch 41/600\n",
            "13/13 [==============================] - 0s 3ms/step - loss: 11.2556 - mae: 11.2556 - mse: 193.9401 - val_loss: 10.9131 - val_mae: 10.9131 - val_mse: 177.3922\n",
            "Epoch 42/600\n",
            "13/13 [==============================] - 0s 4ms/step - loss: 11.2599 - mae: 11.2599 - mse: 194.2842 - val_loss: 10.9260 - val_mae: 10.9260 - val_mse: 178.0489\n",
            "Epoch 43/600\n",
            "13/13 [==============================] - 0s 3ms/step - loss: 11.2557 - mae: 11.2557 - mse: 194.2238 - val_loss: 10.8990 - val_mae: 10.8990 - val_mse: 176.7348\n",
            "Epoch 44/600\n",
            "13/13 [==============================] - 0s 3ms/step - loss: 11.2548 - mae: 11.2548 - mse: 193.7539 - val_loss: 10.8950 - val_mae: 10.8950 - val_mse: 176.5583\n",
            "Epoch 45/600\n",
            "13/13 [==============================] - 0s 3ms/step - loss: 11.2531 - mae: 11.2531 - mse: 193.7922 - val_loss: 10.9074 - val_mae: 10.9074 - val_mse: 177.1178\n",
            "Epoch 46/600\n",
            "13/13 [==============================] - 0s 4ms/step - loss: 11.2609 - mae: 11.2609 - mse: 194.1954 - val_loss: 10.9234 - val_mae: 10.9234 - val_mse: 177.9182\n",
            "Epoch 47/600\n",
            "13/13 [==============================] - 0s 3ms/step - loss: 11.2540 - mae: 11.2540 - mse: 194.1502 - val_loss: 10.9152 - val_mae: 10.9152 - val_mse: 177.4962\n",
            "Epoch 48/600\n",
            "13/13 [==============================] - 0s 3ms/step - loss: 11.2553 - mae: 11.2553 - mse: 193.9934 - val_loss: 10.9075 - val_mae: 10.9075 - val_mse: 177.1254\n",
            "Epoch 49/600\n",
            "13/13 [==============================] - 0s 3ms/step - loss: 11.2623 - mae: 11.2623 - mse: 193.9639 - val_loss: 10.8944 - val_mae: 10.8944 - val_mse: 176.5343\n",
            "Epoch 50/600\n",
            "13/13 [==============================] - 0s 3ms/step - loss: 11.2566 - mae: 11.2566 - mse: 193.7871 - val_loss: 10.9013 - val_mae: 10.9013 - val_mse: 176.8381\n",
            "Epoch 51/600\n",
            "13/13 [==============================] - 0s 3ms/step - loss: 11.2536 - mae: 11.2536 - mse: 193.8205 - val_loss: 10.9027 - val_mae: 10.9027 - val_mse: 176.9017\n",
            "Epoch 52/600\n",
            "13/13 [==============================] - 0s 3ms/step - loss: 11.2537 - mae: 11.2537 - mse: 193.9763 - val_loss: 10.9148 - val_mae: 10.9148 - val_mse: 177.4814\n",
            "Epoch 53/600\n",
            "13/13 [==============================] - 0s 4ms/step - loss: 11.2625 - mae: 11.2625 - mse: 194.5267 - val_loss: 10.9297 - val_mae: 10.9297 - val_mse: 178.2110\n",
            "Epoch 54/600\n",
            "13/13 [==============================] - 0s 3ms/step - loss: 11.2550 - mae: 11.2550 - mse: 194.2047 - val_loss: 10.9156 - val_mae: 10.9156 - val_mse: 177.5195\n",
            "Epoch 55/600\n",
            "13/13 [==============================] - 0s 3ms/step - loss: 11.2547 - mae: 11.2547 - mse: 194.0293 - val_loss: 10.9099 - val_mae: 10.9099 - val_mse: 177.2433\n",
            "Epoch 56/600\n",
            "13/13 [==============================] - 0s 3ms/step - loss: 11.2548 - mae: 11.2548 - mse: 193.8753 - val_loss: 10.9009 - val_mae: 10.9009 - val_mse: 176.8235\n",
            "Epoch 57/600\n",
            "13/13 [==============================] - 0s 3ms/step - loss: 11.2552 - mae: 11.2552 - mse: 193.9277 - val_loss: 10.9074 - val_mae: 10.9074 - val_mse: 177.1239\n",
            "Epoch 58/600\n",
            "13/13 [==============================] - 0s 4ms/step - loss: 11.2527 - mae: 11.2527 - mse: 193.8640 - val_loss: 10.9059 - val_mae: 10.9059 - val_mse: 177.0513\n",
            "Epoch 59/600\n",
            "13/13 [==============================] - 0s 4ms/step - loss: 11.2571 - mae: 11.2571 - mse: 194.0377 - val_loss: 10.9053 - val_mae: 10.9053 - val_mse: 177.0262\n",
            "Epoch 60/600\n",
            "13/13 [==============================] - 0s 4ms/step - loss: 11.2542 - mae: 11.2542 - mse: 193.9866 - val_loss: 10.9107 - val_mae: 10.9107 - val_mse: 177.2835\n",
            "Epoch 61/600\n",
            "13/13 [==============================] - 0s 4ms/step - loss: 11.2551 - mae: 11.2551 - mse: 194.1232 - val_loss: 10.9142 - val_mae: 10.9142 - val_mse: 177.4555\n",
            "Epoch 62/600\n",
            "13/13 [==============================] - 0s 3ms/step - loss: 11.2536 - mae: 11.2536 - mse: 193.9445 - val_loss: 10.9023 - val_mae: 10.9023 - val_mse: 176.8888\n",
            "Epoch 63/600\n",
            "13/13 [==============================] - 0s 5ms/step - loss: 11.2563 - mae: 11.2563 - mse: 193.8688 - val_loss: 10.8989 - val_mae: 10.8989 - val_mse: 176.7368\n",
            "Epoch 64/600\n",
            "13/13 [==============================] - 0s 4ms/step - loss: 11.2527 - mae: 11.2527 - mse: 193.7953 - val_loss: 10.9033 - val_mae: 10.9033 - val_mse: 176.9345\n",
            "Epoch 65/600\n",
            "13/13 [==============================] - 0s 4ms/step - loss: 11.2607 - mae: 11.2607 - mse: 194.3490 - val_loss: 10.9241 - val_mae: 10.9241 - val_mse: 177.9632\n",
            "Epoch 66/600\n",
            "13/13 [==============================] - 0s 3ms/step - loss: 11.2564 - mae: 11.2564 - mse: 194.2152 - val_loss: 10.9195 - val_mae: 10.9195 - val_mse: 177.7265\n",
            "Epoch 67/600\n",
            "13/13 [==============================] - 0s 5ms/step - loss: 11.2553 - mae: 11.2553 - mse: 194.1859 - val_loss: 10.9251 - val_mae: 10.9251 - val_mse: 178.0165\n",
            "Epoch 68/600\n",
            "13/13 [==============================] - 0s 3ms/step - loss: 11.2549 - mae: 11.2549 - mse: 194.2440 - val_loss: 10.9233 - val_mae: 10.9233 - val_mse: 177.9245\n",
            "Epoch 69/600\n",
            "13/13 [==============================] - 0s 4ms/step - loss: 11.2555 - mae: 11.2555 - mse: 194.1175 - val_loss: 10.9167 - val_mae: 10.9167 - val_mse: 177.5829\n",
            "Epoch 70/600\n",
            "13/13 [==============================] - 0s 3ms/step - loss: 11.2531 - mae: 11.2531 - mse: 194.1020 - val_loss: 10.9183 - val_mae: 10.9183 - val_mse: 177.6668\n",
            "Epoch 71/600\n",
            "13/13 [==============================] - 0s 4ms/step - loss: 11.2533 - mae: 11.2533 - mse: 194.0613 - val_loss: 10.9110 - val_mae: 10.9110 - val_mse: 177.3007\n",
            "Epoch 72/600\n",
            "13/13 [==============================] - 0s 5ms/step - loss: 11.2554 - mae: 11.2554 - mse: 194.1562 - val_loss: 10.9158 - val_mae: 10.9158 - val_mse: 177.5388\n",
            "Epoch 73/600\n",
            "13/13 [==============================] - 0s 4ms/step - loss: 11.2621 - mae: 11.2621 - mse: 193.9974 - val_loss: 10.8859 - val_mae: 10.8859 - val_mse: 176.1848\n",
            "Epoch 74/600\n",
            "13/13 [==============================] - 0s 3ms/step - loss: 11.2671 - mae: 11.2671 - mse: 193.7891 - val_loss: 10.8737 - val_mae: 10.8737 - val_mse: 175.6834\n",
            "Epoch 75/600\n",
            "13/13 [==============================] - 0s 3ms/step - loss: 11.2542 - mae: 11.2542 - mse: 193.5471 - val_loss: 10.8943 - val_mae: 10.8943 - val_mse: 176.5377\n",
            "Epoch 76/600\n",
            "13/13 [==============================] - 0s 3ms/step - loss: 11.2609 - mae: 11.2609 - mse: 194.1865 - val_loss: 10.9148 - val_mae: 10.9148 - val_mse: 177.4938\n",
            "Epoch 77/600\n",
            "13/13 [==============================] - 0s 3ms/step - loss: 11.2530 - mae: 11.2530 - mse: 194.0872 - val_loss: 10.9166 - val_mae: 10.9166 - val_mse: 177.5842\n",
            "Epoch 78/600\n",
            "13/13 [==============================] - 0s 3ms/step - loss: 11.2582 - mae: 11.2582 - mse: 194.0320 - val_loss: 10.8995 - val_mae: 10.8995 - val_mse: 176.7670\n",
            "Epoch 79/600\n",
            "13/13 [==============================] - 0s 3ms/step - loss: 11.2570 - mae: 11.2570 - mse: 194.0840 - val_loss: 10.9120 - val_mae: 10.9120 - val_mse: 177.3576\n",
            "Epoch 80/600\n",
            "13/13 [==============================] - 0s 3ms/step - loss: 11.2538 - mae: 11.2538 - mse: 194.0470 - val_loss: 10.9084 - val_mae: 10.9084 - val_mse: 177.1821\n",
            "Epoch 81/600\n",
            "13/13 [==============================] - 0s 4ms/step - loss: 11.2550 - mae: 11.2550 - mse: 194.0142 - val_loss: 10.9076 - val_mae: 10.9076 - val_mse: 177.1470\n",
            "Epoch 82/600\n",
            "13/13 [==============================] - 0s 3ms/step - loss: 11.2506 - mae: 11.2506 - mse: 193.7992 - val_loss: 10.8981 - val_mae: 10.8981 - val_mse: 176.7056\n",
            "Epoch 83/600\n",
            "13/13 [==============================] - 0s 4ms/step - loss: 11.2556 - mae: 11.2556 - mse: 193.6859 - val_loss: 10.8860 - val_mae: 10.8860 - val_mse: 176.1911\n",
            "Epoch 84/600\n",
            "13/13 [==============================] - 0s 5ms/step - loss: 11.2583 - mae: 11.2583 - mse: 193.7924 - val_loss: 10.8905 - val_mae: 10.8905 - val_mse: 176.3762\n",
            "Epoch 85/600\n",
            "13/13 [==============================] - 0s 3ms/step - loss: 11.2567 - mae: 11.2567 - mse: 193.6911 - val_loss: 10.8901 - val_mae: 10.8901 - val_mse: 176.3630\n",
            "Epoch 86/600\n",
            "13/13 [==============================] - 0s 5ms/step - loss: 11.2503 - mae: 11.2503 - mse: 193.7070 - val_loss: 10.9089 - val_mae: 10.9089 - val_mse: 177.2076\n",
            "Epoch 87/600\n",
            "13/13 [==============================] - 0s 3ms/step - loss: 11.2580 - mae: 11.2580 - mse: 194.3418 - val_loss: 10.9329 - val_mae: 10.9329 - val_mse: 178.3624\n",
            "Epoch 88/600\n",
            "13/13 [==============================] - 0s 4ms/step - loss: 11.2637 - mae: 11.2637 - mse: 194.8521 - val_loss: 10.9433 - val_mae: 10.9433 - val_mse: 178.8320\n",
            "Epoch 89/600\n",
            "13/13 [==============================] - 0s 3ms/step - loss: 11.2574 - mae: 11.2574 - mse: 194.4795 - val_loss: 10.9047 - val_mae: 10.9047 - val_mse: 177.0125\n",
            "Epoch 90/600\n",
            "13/13 [==============================] - 0s 3ms/step - loss: 11.2621 - mae: 11.2621 - mse: 194.1649 - val_loss: 10.9090 - val_mae: 10.9090 - val_mse: 177.2164\n",
            "Epoch 91/600\n",
            "13/13 [==============================] - 0s 4ms/step - loss: 11.2607 - mae: 11.2607 - mse: 193.8772 - val_loss: 10.8897 - val_mae: 10.8897 - val_mse: 176.3458\n",
            "Epoch 92/600\n",
            "13/13 [==============================] - 0s 3ms/step - loss: 11.2524 - mae: 11.2524 - mse: 193.8324 - val_loss: 10.9134 - val_mae: 10.9134 - val_mse: 177.4325\n",
            "Epoch 93/600\n",
            "13/13 [==============================] - 0s 4ms/step - loss: 11.2558 - mae: 11.2558 - mse: 194.2149 - val_loss: 10.9344 - val_mae: 10.9344 - val_mse: 178.4292\n",
            "Epoch 94/600\n",
            "13/13 [==============================] - 0s 3ms/step - loss: 11.2657 - mae: 11.2657 - mse: 194.9113 - val_loss: 10.9575 - val_mae: 10.9575 - val_mse: 179.4717\n",
            "Epoch 95/600\n",
            "13/13 [==============================] - 0s 3ms/step - loss: 11.2617 - mae: 11.2617 - mse: 194.4803 - val_loss: 10.9063 - val_mae: 10.9063 - val_mse: 177.0913\n",
            "Epoch 96/600\n",
            "13/13 [==============================] - 0s 5ms/step - loss: 11.2563 - mae: 11.2563 - mse: 193.9854 - val_loss: 10.9105 - val_mae: 10.9105 - val_mse: 177.2922\n",
            "Epoch 97/600\n",
            "13/13 [==============================] - 0s 4ms/step - loss: 11.2517 - mae: 11.2517 - mse: 193.8758 - val_loss: 10.9057 - val_mae: 10.9057 - val_mse: 177.0626\n",
            "Epoch 98/600\n",
            "13/13 [==============================] - 0s 4ms/step - loss: 11.2534 - mae: 11.2534 - mse: 193.7358 - val_loss: 10.9012 - val_mae: 10.9012 - val_mse: 176.8566\n",
            "Epoch 99/600\n",
            "13/13 [==============================] - 0s 3ms/step - loss: 11.2572 - mae: 11.2572 - mse: 194.0218 - val_loss: 10.9228 - val_mae: 10.9228 - val_mse: 177.9203\n",
            "Epoch 100/600\n",
            "13/13 [==============================] - 0s 3ms/step - loss: 11.2666 - mae: 11.2666 - mse: 193.8741 - val_loss: 10.8908 - val_mae: 10.8908 - val_mse: 176.3956\n",
            "Epoch 101/600\n",
            "13/13 [==============================] - 0s 3ms/step - loss: 11.2561 - mae: 11.2561 - mse: 193.6364 - val_loss: 10.8914 - val_mae: 10.8914 - val_mse: 176.4228\n",
            "Epoch 102/600\n",
            "13/13 [==============================] - 0s 4ms/step - loss: 11.2650 - mae: 11.2650 - mse: 194.4869 - val_loss: 10.9337 - val_mae: 10.9337 - val_mse: 178.4016\n",
            "Epoch 103/600\n",
            "13/13 [==============================] - 0s 4ms/step - loss: 11.2572 - mae: 11.2572 - mse: 194.1423 - val_loss: 10.9109 - val_mae: 10.9109 - val_mse: 177.3196\n",
            "Epoch 104/600\n",
            "13/13 [==============================] - 0s 3ms/step - loss: 11.2516 - mae: 11.2516 - mse: 193.9969 - val_loss: 10.9159 - val_mae: 10.9159 - val_mse: 177.5696\n",
            "Epoch 105/600\n",
            "13/13 [==============================] - 0s 3ms/step - loss: 11.2595 - mae: 11.2595 - mse: 193.9398 - val_loss: 10.8872 - val_mae: 10.8872 - val_mse: 176.2475\n",
            "Epoch 106/600\n",
            "13/13 [==============================] - 0s 3ms/step - loss: 11.2541 - mae: 11.2541 - mse: 193.6521 - val_loss: 10.8996 - val_mae: 10.8996 - val_mse: 176.7840\n",
            "Epoch 107/600\n",
            "13/13 [==============================] - 0s 3ms/step - loss: 11.2527 - mae: 11.2527 - mse: 193.6938 - val_loss: 10.8920 - val_mae: 10.8920 - val_mse: 176.4496\n",
            "Epoch 108/600\n",
            "13/13 [==============================] - 0s 3ms/step - loss: 11.2579 - mae: 11.2579 - mse: 193.8670 - val_loss: 10.9189 - val_mae: 10.9189 - val_mse: 177.7246\n",
            "Epoch 109/600\n",
            "13/13 [==============================] - 0s 3ms/step - loss: 11.2645 - mae: 11.2645 - mse: 194.3235 - val_loss: 10.8869 - val_mae: 10.8869 - val_mse: 176.2363\n",
            "Epoch 110/600\n",
            "13/13 [==============================] - 0s 3ms/step - loss: 11.2587 - mae: 11.2587 - mse: 193.9981 - val_loss: 10.9080 - val_mae: 10.9080 - val_mse: 177.1801\n",
            "Epoch 111/600\n",
            "13/13 [==============================] - 0s 3ms/step - loss: 11.2501 - mae: 11.2501 - mse: 193.8058 - val_loss: 10.9079 - val_mae: 10.9079 - val_mse: 177.1780\n",
            "Epoch 112/600\n",
            "13/13 [==============================] - 0s 3ms/step - loss: 11.2640 - mae: 11.2640 - mse: 194.6329 - val_loss: 10.9263 - val_mae: 10.9263 - val_mse: 178.0833\n",
            "Epoch 113/600\n",
            "13/13 [==============================] - 0s 3ms/step - loss: 11.2571 - mae: 11.2571 - mse: 194.2666 - val_loss: 10.9262 - val_mae: 10.9262 - val_mse: 178.0821\n",
            "Epoch 114/600\n",
            "13/13 [==============================] - 0s 3ms/step - loss: 11.2535 - mae: 11.2535 - mse: 194.0646 - val_loss: 10.8969 - val_mae: 10.8969 - val_mse: 176.6671\n",
            "Epoch 115/600\n",
            "13/13 [==============================] - 0s 4ms/step - loss: 11.2749 - mae: 11.2749 - mse: 194.5126 - val_loss: 10.9235 - val_mae: 10.9235 - val_mse: 177.9641\n",
            "Epoch 116/600\n",
            "13/13 [==============================] - 0s 3ms/step - loss: 11.2559 - mae: 11.2559 - mse: 194.0455 - val_loss: 10.8943 - val_mae: 10.8943 - val_mse: 176.5559\n",
            "Epoch 117/600\n",
            "13/13 [==============================] - 0s 3ms/step - loss: 11.2539 - mae: 11.2539 - mse: 193.9182 - val_loss: 10.9101 - val_mae: 10.9101 - val_mse: 177.2873\n",
            "Epoch 118/600\n",
            "13/13 [==============================] - 0s 4ms/step - loss: 11.2564 - mae: 11.2564 - mse: 193.7567 - val_loss: 10.8901 - val_mae: 10.8901 - val_mse: 176.3719\n",
            "Epoch 119/600\n",
            "13/13 [==============================] - 0s 3ms/step - loss: 11.2553 - mae: 11.2553 - mse: 193.6286 - val_loss: 10.8883 - val_mae: 10.8883 - val_mse: 176.2968\n",
            "Epoch 120/600\n",
            "13/13 [==============================] - 0s 3ms/step - loss: 11.2490 - mae: 11.2490 - mse: 193.6495 - val_loss: 10.9061 - val_mae: 10.9061 - val_mse: 177.0978\n",
            "Epoch 121/600\n",
            "13/13 [==============================] - 0s 3ms/step - loss: 11.2546 - mae: 11.2546 - mse: 193.8490 - val_loss: 10.9039 - val_mae: 10.9039 - val_mse: 176.9939\n",
            "Epoch 122/600\n",
            "13/13 [==============================] - 0s 3ms/step - loss: 11.2494 - mae: 11.2494 - mse: 193.7580 - val_loss: 10.9059 - val_mae: 10.9059 - val_mse: 177.0871\n",
            "Epoch 123/600\n",
            "13/13 [==============================] - 0s 3ms/step - loss: 11.2561 - mae: 11.2561 - mse: 194.0245 - val_loss: 10.9143 - val_mae: 10.9143 - val_mse: 177.5047\n",
            "Epoch 124/600\n",
            "13/13 [==============================] - 0s 3ms/step - loss: 11.2566 - mae: 11.2566 - mse: 194.3384 - val_loss: 10.9199 - val_mae: 10.9199 - val_mse: 177.7933\n",
            "Epoch 125/600\n",
            "13/13 [==============================] - 0s 3ms/step - loss: 11.2543 - mae: 11.2543 - mse: 194.2475 - val_loss: 10.9187 - val_mae: 10.9187 - val_mse: 177.7270\n",
            "Epoch 126/600\n",
            "13/13 [==============================] - 0s 3ms/step - loss: 11.2541 - mae: 11.2541 - mse: 194.2031 - val_loss: 10.9180 - val_mae: 10.9180 - val_mse: 177.6966\n",
            "Epoch 127/600\n",
            "13/13 [==============================] - 0s 3ms/step - loss: 11.2526 - mae: 11.2526 - mse: 194.0244 - val_loss: 10.9201 - val_mae: 10.9201 - val_mse: 177.8040\n",
            "Epoch 128/600\n",
            "13/13 [==============================] - 0s 3ms/step - loss: 11.2579 - mae: 11.2579 - mse: 194.4315 - val_loss: 10.9291 - val_mae: 10.9291 - val_mse: 178.2134\n",
            "Epoch 129/600\n",
            "13/13 [==============================] - 0s 3ms/step - loss: 11.2581 - mae: 11.2581 - mse: 193.6880 - val_loss: 10.8861 - val_mae: 10.8861 - val_mse: 176.2115\n",
            "Epoch 130/600\n",
            "13/13 [==============================] - 0s 3ms/step - loss: 11.2529 - mae: 11.2529 - mse: 193.6226 - val_loss: 10.8931 - val_mae: 10.8931 - val_mse: 176.5095\n",
            "Epoch 131/600\n",
            "13/13 [==============================] - 0s 3ms/step - loss: 11.2531 - mae: 11.2531 - mse: 193.5898 - val_loss: 10.8868 - val_mae: 10.8868 - val_mse: 176.2397\n",
            "Epoch 132/600\n",
            "13/13 [==============================] - 0s 3ms/step - loss: 11.2591 - mae: 11.2591 - mse: 193.6076 - val_loss: 10.8829 - val_mae: 10.8829 - val_mse: 176.0781\n",
            "Epoch 133/600\n",
            "13/13 [==============================] - 0s 4ms/step - loss: 11.2634 - mae: 11.2634 - mse: 194.0484 - val_loss: 10.9241 - val_mae: 10.9241 - val_mse: 177.9978\n",
            "Epoch 134/600\n",
            "13/13 [==============================] - 0s 4ms/step - loss: 11.2498 - mae: 11.2498 - mse: 194.0043 - val_loss: 10.9085 - val_mae: 10.9085 - val_mse: 177.2259\n",
            "Epoch 135/600\n",
            "13/13 [==============================] - 0s 5ms/step - loss: 11.2743 - mae: 11.2743 - mse: 194.1531 - val_loss: 10.8762 - val_mae: 10.8762 - val_mse: 175.8170\n",
            "Epoch 136/600\n",
            "13/13 [==============================] - 0s 3ms/step - loss: 11.2569 - mae: 11.2569 - mse: 194.0067 - val_loss: 10.9266 - val_mae: 10.9266 - val_mse: 178.1091\n",
            "Epoch 137/600\n",
            "13/13 [==============================] - 0s 3ms/step - loss: 11.2566 - mae: 11.2566 - mse: 194.3250 - val_loss: 10.9400 - val_mae: 10.9400 - val_mse: 178.7067\n",
            "Epoch 138/600\n",
            "13/13 [==============================] - 0s 3ms/step - loss: 11.2554 - mae: 11.2554 - mse: 194.2969 - val_loss: 10.9069 - val_mae: 10.9069 - val_mse: 177.1505\n",
            "Epoch 139/600\n",
            "13/13 [==============================] - 0s 5ms/step - loss: 11.2558 - mae: 11.2558 - mse: 194.0752 - val_loss: 10.9049 - val_mae: 10.9049 - val_mse: 177.0555\n",
            "Epoch 140/600\n",
            "13/13 [==============================] - 0s 4ms/step - loss: 11.2710 - mae: 11.2710 - mse: 194.7917 - val_loss: 10.9457 - val_mae: 10.9457 - val_mse: 178.9772\n",
            "Epoch 141/600\n",
            "13/13 [==============================] - 0s 3ms/step - loss: 11.2518 - mae: 11.2518 - mse: 194.4265 - val_loss: 10.9279 - val_mae: 10.9279 - val_mse: 178.1661\n",
            "Epoch 142/600\n",
            "13/13 [==============================] - 0s 3ms/step - loss: 11.2793 - mae: 11.2793 - mse: 194.5101 - val_loss: 10.8721 - val_mae: 10.8721 - val_mse: 175.6485\n",
            "Epoch 143/600\n",
            "13/13 [==============================] - 0s 3ms/step - loss: 11.2664 - mae: 11.2664 - mse: 194.4207 - val_loss: 10.9226 - val_mae: 10.9226 - val_mse: 177.9415\n",
            "Epoch 144/600\n",
            "13/13 [==============================] - 0s 3ms/step - loss: 11.2536 - mae: 11.2536 - mse: 193.9188 - val_loss: 10.9052 - val_mae: 10.9052 - val_mse: 177.0744\n",
            "Epoch 145/600\n",
            "13/13 [==============================] - 0s 3ms/step - loss: 11.2509 - mae: 11.2509 - mse: 193.9972 - val_loss: 10.9238 - val_mae: 10.9238 - val_mse: 177.9908\n",
            "Epoch 146/600\n",
            "13/13 [==============================] - 0s 3ms/step - loss: 11.2570 - mae: 11.2570 - mse: 194.0376 - val_loss: 10.9014 - val_mae: 10.9014 - val_mse: 176.8930\n",
            "Epoch 147/600\n",
            "13/13 [==============================] - 0s 3ms/step - loss: 11.2513 - mae: 11.2513 - mse: 193.7692 - val_loss: 10.9029 - val_mae: 10.9029 - val_mse: 176.9675\n",
            "Epoch 148/600\n",
            "13/13 [==============================] - 0s 3ms/step - loss: 11.2780 - mae: 11.2780 - mse: 195.1906 - val_loss: 10.9320 - val_mae: 10.9320 - val_mse: 178.3512\n",
            "Epoch 149/600\n",
            "13/13 [==============================] - 0s 3ms/step - loss: 11.2752 - mae: 11.2752 - mse: 194.3138 - val_loss: 10.8681 - val_mae: 10.8681 - val_mse: 175.4578\n",
            "Epoch 150/600\n",
            "13/13 [==============================] - 0s 4ms/step - loss: 11.2561 - mae: 11.2561 - mse: 193.4273 - val_loss: 10.8779 - val_mae: 10.8779 - val_mse: 175.8859\n",
            "Epoch 151/600\n",
            "13/13 [==============================] - 0s 3ms/step - loss: 11.2456 - mae: 11.2456 - mse: 193.5486 - val_loss: 10.9110 - val_mae: 10.9110 - val_mse: 177.3635\n",
            "Epoch 152/600\n",
            "13/13 [==============================] - 0s 3ms/step - loss: 11.2720 - mae: 11.2720 - mse: 194.9468 - val_loss: 10.9550 - val_mae: 10.9550 - val_mse: 179.3848\n",
            "Epoch 153/600\n",
            "13/13 [==============================] - 0s 4ms/step - loss: 11.2593 - mae: 11.2593 - mse: 194.0967 - val_loss: 10.8982 - val_mae: 10.8982 - val_mse: 176.7489\n",
            "Epoch 154/600\n",
            "13/13 [==============================] - 0s 3ms/step - loss: 11.2497 - mae: 11.2497 - mse: 193.6559 - val_loss: 10.9059 - val_mae: 10.9059 - val_mse: 177.1141\n",
            "Epoch 155/600\n",
            "13/13 [==============================] - 0s 3ms/step - loss: 11.2521 - mae: 11.2521 - mse: 194.0068 - val_loss: 10.9172 - val_mae: 10.9172 - val_mse: 177.6838\n",
            "Epoch 156/600\n",
            "13/13 [==============================] - 0s 3ms/step - loss: 11.2737 - mae: 11.2737 - mse: 194.2158 - val_loss: 10.8629 - val_mae: 10.8629 - val_mse: 175.2190\n",
            "Epoch 157/600\n",
            "13/13 [==============================] - 0s 3ms/step - loss: 11.2612 - mae: 11.2612 - mse: 193.7194 - val_loss: 10.9022 - val_mae: 10.9022 - val_mse: 176.9397\n",
            "Epoch 158/600\n",
            "13/13 [==============================] - 0s 4ms/step - loss: 11.2628 - mae: 11.2628 - mse: 194.0140 - val_loss: 10.9133 - val_mae: 10.9133 - val_mse: 177.4854\n",
            "Epoch 159/600\n",
            "13/13 [==============================] - 0s 3ms/step - loss: 11.2451 - mae: 11.2451 - mse: 193.5521 - val_loss: 10.8762 - val_mae: 10.8762 - val_mse: 175.8209\n",
            "Epoch 160/600\n",
            "13/13 [==============================] - 0s 3ms/step - loss: 11.2592 - mae: 11.2592 - mse: 193.7537 - val_loss: 10.8820 - val_mae: 10.8820 - val_mse: 176.0535\n",
            "Epoch 161/600\n",
            "13/13 [==============================] - 0s 4ms/step - loss: 11.2596 - mae: 11.2596 - mse: 193.4869 - val_loss: 10.8713 - val_mae: 10.8713 - val_mse: 175.6235\n",
            "Epoch 162/600\n",
            "13/13 [==============================] - 0s 3ms/step - loss: 11.2445 - mae: 11.2445 - mse: 193.3580 - val_loss: 10.9283 - val_mae: 10.9283 - val_mse: 178.1982\n",
            "Epoch 163/600\n",
            "13/13 [==============================] - 0s 4ms/step - loss: 11.2561 - mae: 11.2561 - mse: 194.4828 - val_loss: 10.9276 - val_mae: 10.9276 - val_mse: 178.1661\n",
            "Epoch 164/600\n",
            "13/13 [==============================] - 0s 3ms/step - loss: 11.2522 - mae: 11.2522 - mse: 194.4080 - val_loss: 10.9375 - val_mae: 10.9375 - val_mse: 178.6105\n",
            "Epoch 165/600\n",
            "13/13 [==============================] - 0s 3ms/step - loss: 11.2660 - mae: 11.2660 - mse: 194.3631 - val_loss: 10.9115 - val_mae: 10.9115 - val_mse: 177.4024\n",
            "Epoch 166/600\n",
            "13/13 [==============================] - 0s 3ms/step - loss: 11.2660 - mae: 11.2660 - mse: 194.6862 - val_loss: 10.9347 - val_mae: 10.9347 - val_mse: 178.4853\n",
            "Epoch 167/600\n",
            "13/13 [==============================] - 0s 3ms/step - loss: 11.2472 - mae: 11.2472 - mse: 194.0233 - val_loss: 10.8808 - val_mae: 10.8808 - val_mse: 176.0092\n",
            "Epoch 168/600\n",
            "13/13 [==============================] - 0s 3ms/step - loss: 11.2698 - mae: 11.2698 - mse: 193.5044 - val_loss: 10.8569 - val_mae: 10.8569 - val_mse: 174.9656\n",
            "Epoch 169/600\n",
            "13/13 [==============================] - 0s 3ms/step - loss: 11.2614 - mae: 11.2614 - mse: 193.7391 - val_loss: 10.9156 - val_mae: 10.9156 - val_mse: 177.6147\n",
            "Epoch 170/600\n",
            "13/13 [==============================] - 0s 3ms/step - loss: 11.2524 - mae: 11.2524 - mse: 194.0711 - val_loss: 10.9151 - val_mae: 10.9151 - val_mse: 177.5924\n",
            "Epoch 171/600\n",
            "13/13 [==============================] - 0s 5ms/step - loss: 11.2505 - mae: 11.2505 - mse: 194.1998 - val_loss: 10.9304 - val_mae: 10.9304 - val_mse: 178.2971\n",
            "Epoch 172/600\n",
            "13/13 [==============================] - 0s 3ms/step - loss: 11.2562 - mae: 11.2562 - mse: 194.1023 - val_loss: 10.9095 - val_mae: 10.9095 - val_mse: 177.3069\n",
            "Epoch 173/600\n",
            "13/13 [==============================] - 0s 5ms/step - loss: 11.2482 - mae: 11.2482 - mse: 193.8163 - val_loss: 10.9167 - val_mae: 10.9167 - val_mse: 177.6760\n",
            "Epoch 174/600\n",
            "13/13 [==============================] - 0s 3ms/step - loss: 11.2579 - mae: 11.2579 - mse: 194.4002 - val_loss: 10.9316 - val_mae: 10.9316 - val_mse: 178.3517\n",
            "Epoch 175/600\n",
            "13/13 [==============================] - 0s 4ms/step - loss: 11.2496 - mae: 11.2496 - mse: 194.3405 - val_loss: 10.9359 - val_mae: 10.9359 - val_mse: 178.5501\n",
            "Epoch 176/600\n",
            "13/13 [==============================] - 0s 3ms/step - loss: 11.2543 - mae: 11.2543 - mse: 193.9367 - val_loss: 10.9005 - val_mae: 10.9005 - val_mse: 176.8760\n",
            "Epoch 177/600\n",
            "13/13 [==============================] - 0s 5ms/step - loss: 11.2506 - mae: 11.2506 - mse: 193.8502 - val_loss: 10.9025 - val_mae: 10.9025 - val_mse: 176.9724\n",
            "Epoch 178/600\n",
            "13/13 [==============================] - 0s 3ms/step - loss: 11.2469 - mae: 11.2469 - mse: 193.4923 - val_loss: 10.8849 - val_mae: 10.8849 - val_mse: 176.1828\n",
            "Epoch 179/600\n",
            "13/13 [==============================] - 0s 3ms/step - loss: 11.2520 - mae: 11.2520 - mse: 193.5286 - val_loss: 10.8734 - val_mae: 10.8734 - val_mse: 175.7174\n",
            "Epoch 180/600\n",
            "13/13 [==============================] - 0s 3ms/step - loss: 11.2544 - mae: 11.2544 - mse: 193.8190 - val_loss: 10.9212 - val_mae: 10.9212 - val_mse: 177.9025\n",
            "Epoch 181/600\n",
            "13/13 [==============================] - 0s 3ms/step - loss: 11.2490 - mae: 11.2490 - mse: 193.8773 - val_loss: 10.8920 - val_mae: 10.8920 - val_mse: 176.4920\n",
            "Epoch 182/600\n",
            "13/13 [==============================] - 0s 3ms/step - loss: 11.2549 - mae: 11.2549 - mse: 193.6344 - val_loss: 10.8795 - val_mae: 10.8795 - val_mse: 175.9593\n",
            "Epoch 183/600\n",
            "13/13 [==============================] - 0s 3ms/step - loss: 11.2509 - mae: 11.2509 - mse: 193.4769 - val_loss: 10.8926 - val_mae: 10.8926 - val_mse: 176.5199\n",
            "Epoch 184/600\n",
            "13/13 [==============================] - 0s 3ms/step - loss: 11.2444 - mae: 11.2444 - mse: 193.6096 - val_loss: 10.9073 - val_mae: 10.9073 - val_mse: 177.2124\n",
            "Epoch 185/600\n",
            "13/13 [==============================] - 0s 3ms/step - loss: 11.2512 - mae: 11.2512 - mse: 193.7514 - val_loss: 10.9031 - val_mae: 10.9031 - val_mse: 177.0063\n",
            "Epoch 186/600\n",
            "13/13 [==============================] - 0s 3ms/step - loss: 11.2469 - mae: 11.2469 - mse: 193.7365 - val_loss: 10.9034 - val_mae: 10.9034 - val_mse: 177.0232\n",
            "Epoch 187/600\n",
            "13/13 [==============================] - 0s 3ms/step - loss: 11.2638 - mae: 11.2638 - mse: 194.4664 - val_loss: 10.9237 - val_mae: 10.9237 - val_mse: 178.0120\n",
            "Epoch 188/600\n",
            "13/13 [==============================] - 0s 4ms/step - loss: 11.2914 - mae: 11.2914 - mse: 194.4382 - val_loss: 10.8632 - val_mae: 10.8632 - val_mse: 175.2562\n",
            "Epoch 189/600\n",
            "13/13 [==============================] - 0s 3ms/step - loss: 11.2471 - mae: 11.2471 - mse: 193.2496 - val_loss: 10.8884 - val_mae: 10.8884 - val_mse: 176.3386\n",
            "Epoch 190/600\n",
            "13/13 [==============================] - 0s 4ms/step - loss: 11.2436 - mae: 11.2436 - mse: 193.5786 - val_loss: 10.9168 - val_mae: 10.9168 - val_mse: 177.7037\n",
            "Epoch 191/600\n",
            "13/13 [==============================] - 0s 5ms/step - loss: 11.2551 - mae: 11.2551 - mse: 194.2701 - val_loss: 10.9177 - val_mae: 10.9177 - val_mse: 177.7542\n",
            "Epoch 192/600\n",
            "13/13 [==============================] - 0s 5ms/step - loss: 11.2619 - mae: 11.2619 - mse: 194.9444 - val_loss: 10.9538 - val_mae: 10.9538 - val_mse: 179.3473\n",
            "Epoch 193/600\n",
            "13/13 [==============================] - 0s 3ms/step - loss: 11.2542 - mae: 11.2542 - mse: 194.6704 - val_loss: 10.9183 - val_mae: 10.9183 - val_mse: 177.7848\n",
            "Epoch 194/600\n",
            "13/13 [==============================] - 0s 4ms/step - loss: 11.2557 - mae: 11.2557 - mse: 194.4754 - val_loss: 10.9304 - val_mae: 10.9304 - val_mse: 178.3151\n",
            "Epoch 195/600\n",
            "13/13 [==============================] - 0s 3ms/step - loss: 11.2655 - mae: 11.2655 - mse: 194.0198 - val_loss: 10.8674 - val_mae: 10.8674 - val_mse: 175.4666\n",
            "Epoch 196/600\n",
            "13/13 [==============================] - 0s 5ms/step - loss: 11.2487 - mae: 11.2487 - mse: 193.4666 - val_loss: 10.9047 - val_mae: 10.9047 - val_mse: 177.0955\n",
            "Epoch 197/600\n",
            "13/13 [==============================] - 0s 5ms/step - loss: 11.2607 - mae: 11.2607 - mse: 193.9781 - val_loss: 10.8762 - val_mae: 10.8762 - val_mse: 175.8348\n",
            "Epoch 198/600\n",
            "13/13 [==============================] - 0s 4ms/step - loss: 11.2475 - mae: 11.2475 - mse: 193.5873 - val_loss: 10.9109 - val_mae: 10.9109 - val_mse: 177.4100\n",
            "Epoch 199/600\n",
            "13/13 [==============================] - 0s 3ms/step - loss: 11.2580 - mae: 11.2580 - mse: 194.2206 - val_loss: 10.9457 - val_mae: 10.9457 - val_mse: 179.0182\n",
            "Epoch 200/600\n",
            "13/13 [==============================] - 0s 3ms/step - loss: 11.2481 - mae: 11.2481 - mse: 193.9882 - val_loss: 10.8996 - val_mae: 10.8996 - val_mse: 176.8539\n",
            "Epoch 201/600\n",
            "13/13 [==============================] - 0s 5ms/step - loss: 11.2473 - mae: 11.2473 - mse: 193.5789 - val_loss: 10.8943 - val_mae: 10.8943 - val_mse: 176.6119\n",
            "Epoch 202/600\n",
            "13/13 [==============================] - 0s 4ms/step - loss: 11.2558 - mae: 11.2558 - mse: 194.0282 - val_loss: 10.9154 - val_mae: 10.9154 - val_mse: 177.6456\n",
            "Epoch 203/600\n",
            "13/13 [==============================] - 0s 3ms/step - loss: 11.2457 - mae: 11.2457 - mse: 193.5631 - val_loss: 10.8663 - val_mae: 10.8663 - val_mse: 175.4170\n",
            "Epoch 204/600\n",
            "13/13 [==============================] - 0s 5ms/step - loss: 11.2551 - mae: 11.2551 - mse: 193.3529 - val_loss: 10.8681 - val_mae: 10.8681 - val_mse: 175.5092\n",
            "Epoch 205/600\n",
            "13/13 [==============================] - 0s 3ms/step - loss: 11.2475 - mae: 11.2475 - mse: 193.5854 - val_loss: 10.9023 - val_mae: 10.9023 - val_mse: 176.9884\n",
            "Epoch 206/600\n",
            "13/13 [==============================] - 0s 4ms/step - loss: 11.2484 - mae: 11.2484 - mse: 193.9564 - val_loss: 10.9177 - val_mae: 10.9177 - val_mse: 177.7693\n",
            "Epoch 207/600\n",
            "13/13 [==============================] - 0s 3ms/step - loss: 11.2478 - mae: 11.2478 - mse: 193.7943 - val_loss: 10.8960 - val_mae: 10.8960 - val_mse: 176.6944\n",
            "Epoch 208/600\n",
            "13/13 [==============================] - 0s 3ms/step - loss: 11.2480 - mae: 11.2480 - mse: 193.9633 - val_loss: 10.9166 - val_mae: 10.9166 - val_mse: 177.7160\n",
            "Epoch 209/600\n",
            "13/13 [==============================] - 0s 4ms/step - loss: 11.2480 - mae: 11.2480 - mse: 193.8479 - val_loss: 10.8989 - val_mae: 10.8989 - val_mse: 176.8333\n",
            "Epoch 210/600\n",
            "13/13 [==============================] - 0s 3ms/step - loss: 11.2461 - mae: 11.2461 - mse: 193.7847 - val_loss: 10.9114 - val_mae: 10.9114 - val_mse: 177.4500\n",
            "Epoch 211/600\n",
            "13/13 [==============================] - 0s 4ms/step - loss: 11.2619 - mae: 11.2619 - mse: 193.6667 - val_loss: 10.8795 - val_mae: 10.8795 - val_mse: 175.9750\n",
            "Epoch 212/600\n",
            "13/13 [==============================] - 0s 3ms/step - loss: 11.2476 - mae: 11.2476 - mse: 193.4793 - val_loss: 10.8916 - val_mae: 10.8916 - val_mse: 176.4958\n",
            "Epoch 213/600\n",
            "13/13 [==============================] - 0s 3ms/step - loss: 11.2483 - mae: 11.2483 - mse: 193.5625 - val_loss: 10.8841 - val_mae: 10.8841 - val_mse: 176.1691\n",
            "Epoch 214/600\n",
            "13/13 [==============================] - 0s 4ms/step - loss: 11.2571 - mae: 11.2571 - mse: 194.1283 - val_loss: 10.9075 - val_mae: 10.9075 - val_mse: 177.2581\n",
            "Epoch 215/600\n",
            "13/13 [==============================] - 0s 3ms/step - loss: 11.2528 - mae: 11.2528 - mse: 193.9053 - val_loss: 10.9027 - val_mae: 10.9027 - val_mse: 177.0211\n",
            "Epoch 216/600\n",
            "13/13 [==============================] - 0s 3ms/step - loss: 11.2606 - mae: 11.2606 - mse: 193.4400 - val_loss: 10.8525 - val_mae: 10.8525 - val_mse: 174.8039\n",
            "Epoch 217/600\n",
            "13/13 [==============================] - 0s 3ms/step - loss: 11.2656 - mae: 11.2656 - mse: 193.6309 - val_loss: 10.9092 - val_mae: 10.9092 - val_mse: 177.3449\n",
            "Epoch 218/600\n",
            "13/13 [==============================] - 0s 3ms/step - loss: 11.2813 - mae: 11.2813 - mse: 194.1989 - val_loss: 10.8695 - val_mae: 10.8695 - val_mse: 175.5809\n",
            "Epoch 219/600\n",
            "13/13 [==============================] - 0s 3ms/step - loss: 11.2444 - mae: 11.2444 - mse: 193.2311 - val_loss: 10.8953 - val_mae: 10.8953 - val_mse: 176.6729\n",
            "Epoch 220/600\n",
            "13/13 [==============================] - 0s 3ms/step - loss: 11.2590 - mae: 11.2590 - mse: 194.3093 - val_loss: 10.9212 - val_mae: 10.9212 - val_mse: 177.9268\n",
            "Epoch 221/600\n",
            "13/13 [==============================] - 0s 3ms/step - loss: 11.2661 - mae: 11.2661 - mse: 195.1264 - val_loss: 10.9633 - val_mae: 10.9633 - val_mse: 179.7591\n",
            "Epoch 222/600\n",
            "13/13 [==============================] - 0s 3ms/step - loss: 11.2511 - mae: 11.2511 - mse: 194.0524 - val_loss: 10.8732 - val_mae: 10.8732 - val_mse: 175.7265\n",
            "Epoch 223/600\n",
            "13/13 [==============================] - 0s 3ms/step - loss: 11.2512 - mae: 11.2512 - mse: 193.5206 - val_loss: 10.9020 - val_mae: 10.9020 - val_mse: 176.9949\n",
            "Epoch 224/600\n",
            "13/13 [==============================] - 0s 3ms/step - loss: 11.2449 - mae: 11.2449 - mse: 193.4883 - val_loss: 10.8859 - val_mae: 10.8859 - val_mse: 176.2550\n",
            "Epoch 225/600\n",
            "13/13 [==============================] - 0s 5ms/step - loss: 11.2447 - mae: 11.2447 - mse: 193.4284 - val_loss: 10.8951 - val_mae: 10.8951 - val_mse: 176.6692\n",
            "Epoch 226/600\n",
            "13/13 [==============================] - 0s 4ms/step - loss: 11.2526 - mae: 11.2526 - mse: 194.0539 - val_loss: 10.9135 - val_mae: 10.9135 - val_mse: 177.5807\n",
            "Epoch 227/600\n",
            "13/13 [==============================] - 0s 4ms/step - loss: 11.2539 - mae: 11.2539 - mse: 193.6403 - val_loss: 10.8803 - val_mae: 10.8803 - val_mse: 176.0167\n",
            "Epoch 228/600\n",
            "13/13 [==============================] - 0s 3ms/step - loss: 11.2462 - mae: 11.2462 - mse: 193.5343 - val_loss: 10.8979 - val_mae: 10.8979 - val_mse: 176.8036\n",
            "Epoch 229/600\n",
            "13/13 [==============================] - 0s 3ms/step - loss: 11.2510 - mae: 11.2510 - mse: 193.6826 - val_loss: 10.9060 - val_mae: 10.9060 - val_mse: 177.1991\n",
            "Epoch 230/600\n",
            "13/13 [==============================] - 0s 4ms/step - loss: 11.2528 - mae: 11.2528 - mse: 193.6817 - val_loss: 10.9009 - val_mae: 10.9009 - val_mse: 176.9471\n",
            "Epoch 231/600\n",
            "13/13 [==============================] - 0s 3ms/step - loss: 11.2608 - mae: 11.2608 - mse: 194.4121 - val_loss: 10.9332 - val_mae: 10.9332 - val_mse: 178.4719\n",
            "Epoch 232/600\n",
            "13/13 [==============================] - 0s 3ms/step - loss: 11.2386 - mae: 11.2386 - mse: 193.7077 - val_loss: 10.8918 - val_mae: 10.8918 - val_mse: 176.5226\n",
            "Epoch 233/600\n",
            "13/13 [==============================] - 0s 4ms/step - loss: 11.2649 - mae: 11.2649 - mse: 194.3566 - val_loss: 10.9124 - val_mae: 10.9124 - val_mse: 177.5336\n",
            "Epoch 234/600\n",
            "13/13 [==============================] - 0s 3ms/step - loss: 11.2522 - mae: 11.2522 - mse: 193.3700 - val_loss: 10.8591 - val_mae: 10.8591 - val_mse: 175.1018\n",
            "Epoch 235/600\n",
            "13/13 [==============================] - 0s 3ms/step - loss: 11.2511 - mae: 11.2511 - mse: 193.3470 - val_loss: 10.8866 - val_mae: 10.8866 - val_mse: 176.2945\n",
            "Epoch 236/600\n",
            "13/13 [==============================] - 0s 4ms/step - loss: 11.2446 - mae: 11.2446 - mse: 193.3891 - val_loss: 10.8861 - val_mae: 10.8861 - val_mse: 176.2706\n",
            "Epoch 237/600\n",
            "13/13 [==============================] - 0s 3ms/step - loss: 11.2487 - mae: 11.2487 - mse: 193.5557 - val_loss: 10.9101 - val_mae: 10.9101 - val_mse: 177.4177\n",
            "Epoch 238/600\n",
            "13/13 [==============================] - 0s 5ms/step - loss: 11.2423 - mae: 11.2423 - mse: 193.5954 - val_loss: 10.8871 - val_mae: 10.8871 - val_mse: 176.3190\n",
            "Epoch 239/600\n",
            "13/13 [==============================] - 0s 3ms/step - loss: 11.2613 - mae: 11.2613 - mse: 193.5886 - val_loss: 10.8753 - val_mae: 10.8753 - val_mse: 175.8165\n",
            "Epoch 240/600\n",
            "13/13 [==============================] - 0s 3ms/step - loss: 11.2503 - mae: 11.2503 - mse: 193.8805 - val_loss: 10.9173 - val_mae: 10.9173 - val_mse: 177.7749\n",
            "Epoch 241/600\n",
            "13/13 [==============================] - 0s 3ms/step - loss: 11.2548 - mae: 11.2548 - mse: 194.1242 - val_loss: 10.9173 - val_mae: 10.9173 - val_mse: 177.7723\n",
            "Epoch 242/600\n",
            "13/13 [==============================] - 0s 4ms/step - loss: 11.2602 - mae: 11.2602 - mse: 193.8202 - val_loss: 10.8739 - val_mae: 10.8739 - val_mse: 175.7610\n",
            "Epoch 243/600\n",
            "13/13 [==============================] - 0s 5ms/step - loss: 11.2329 - mae: 11.2329 - mse: 193.2587 - val_loss: 10.9199 - val_mae: 10.9199 - val_mse: 177.8890\n",
            "Epoch 244/600\n",
            "13/13 [==============================] - 0s 4ms/step - loss: 11.3007 - mae: 11.3007 - mse: 195.9381 - val_loss: 10.9724 - val_mae: 10.9724 - val_mse: 180.1429\n",
            "Epoch 245/600\n",
            "13/13 [==============================] - 0s 3ms/step - loss: 11.2425 - mae: 11.2425 - mse: 194.2076 - val_loss: 10.9091 - val_mae: 10.9091 - val_mse: 177.3783\n",
            "Epoch 246/600\n",
            "13/13 [==============================] - 0s 4ms/step - loss: 11.2483 - mae: 11.2483 - mse: 193.4609 - val_loss: 10.8881 - val_mae: 10.8881 - val_mse: 176.3666\n",
            "Epoch 247/600\n",
            "13/13 [==============================] - 0s 5ms/step - loss: 11.2675 - mae: 11.2675 - mse: 193.5891 - val_loss: 10.8656 - val_mae: 10.8656 - val_mse: 175.4311\n",
            "Epoch 248/600\n",
            "13/13 [==============================] - 0s 3ms/step - loss: 11.2516 - mae: 11.2516 - mse: 193.2888 - val_loss: 10.8741 - val_mae: 10.8741 - val_mse: 175.7714\n",
            "Epoch 249/600\n",
            "13/13 [==============================] - 0s 4ms/step - loss: 11.2439 - mae: 11.2439 - mse: 193.5499 - val_loss: 10.9022 - val_mae: 10.9022 - val_mse: 177.0359\n",
            "Epoch 250/600\n",
            "13/13 [==============================] - 0s 4ms/step - loss: 11.2437 - mae: 11.2437 - mse: 193.6272 - val_loss: 10.8988 - val_mae: 10.8988 - val_mse: 176.8690\n",
            "Epoch 251/600\n",
            "13/13 [==============================] - 0s 3ms/step - loss: 11.2656 - mae: 11.2656 - mse: 193.5620 - val_loss: 10.8644 - val_mae: 10.8644 - val_mse: 175.3782\n",
            "Epoch 252/600\n",
            "13/13 [==============================] - 0s 3ms/step - loss: 11.2401 - mae: 11.2401 - mse: 193.1682 - val_loss: 10.9038 - val_mae: 10.9038 - val_mse: 177.1192\n",
            "Epoch 253/600\n",
            "13/13 [==============================] - 0s 4ms/step - loss: 11.2458 - mae: 11.2458 - mse: 194.0124 - val_loss: 10.9278 - val_mae: 10.9278 - val_mse: 178.2492\n",
            "Epoch 254/600\n",
            "13/13 [==============================] - 0s 3ms/step - loss: 11.2444 - mae: 11.2444 - mse: 193.5743 - val_loss: 10.8854 - val_mae: 10.8854 - val_mse: 176.2561\n",
            "Epoch 255/600\n",
            "13/13 [==============================] - 0s 4ms/step - loss: 11.2463 - mae: 11.2463 - mse: 193.4146 - val_loss: 10.8987 - val_mae: 10.8987 - val_mse: 176.8707\n",
            "Epoch 256/600\n",
            "13/13 [==============================] - 0s 3ms/step - loss: 11.2424 - mae: 11.2424 - mse: 193.6933 - val_loss: 10.9103 - val_mae: 10.9103 - val_mse: 177.4547\n",
            "Epoch 257/600\n",
            "13/13 [==============================] - 0s 4ms/step - loss: 11.2408 - mae: 11.2408 - mse: 193.6610 - val_loss: 10.8948 - val_mae: 10.8948 - val_mse: 176.6852\n",
            "Epoch 258/600\n",
            "13/13 [==============================] - 0s 4ms/step - loss: 11.2549 - mae: 11.2549 - mse: 194.0437 - val_loss: 10.9065 - val_mae: 10.9065 - val_mse: 177.2659\n",
            "Epoch 259/600\n",
            "13/13 [==============================] - 0s 4ms/step - loss: 11.2439 - mae: 11.2439 - mse: 193.6056 - val_loss: 10.8821 - val_mae: 10.8821 - val_mse: 176.1153\n",
            "Epoch 260/600\n",
            "13/13 [==============================] - 0s 4ms/step - loss: 11.2555 - mae: 11.2555 - mse: 193.6489 - val_loss: 10.8730 - val_mae: 10.8730 - val_mse: 175.7345\n",
            "Epoch 261/600\n",
            "13/13 [==============================] - 0s 4ms/step - loss: 11.2382 - mae: 11.2382 - mse: 193.4281 - val_loss: 10.9034 - val_mae: 10.9034 - val_mse: 177.1121\n",
            "Epoch 262/600\n",
            "13/13 [==============================] - 0s 4ms/step - loss: 11.2406 - mae: 11.2406 - mse: 193.6183 - val_loss: 10.9079 - val_mae: 10.9079 - val_mse: 177.3402\n",
            "Epoch 263/600\n",
            "13/13 [==============================] - 0s 3ms/step - loss: 11.2440 - mae: 11.2440 - mse: 193.8034 - val_loss: 10.9119 - val_mae: 10.9119 - val_mse: 177.5504\n",
            "Epoch 264/600\n",
            "13/13 [==============================] - 0s 3ms/step - loss: 11.2448 - mae: 11.2448 - mse: 194.1375 - val_loss: 10.9290 - val_mae: 10.9290 - val_mse: 178.3124\n",
            "Epoch 265/600\n",
            "13/13 [==============================] - 0s 4ms/step - loss: 11.2622 - mae: 11.2622 - mse: 194.1498 - val_loss: 10.8928 - val_mae: 10.8928 - val_mse: 176.5998\n",
            "Epoch 266/600\n",
            "13/13 [==============================] - 0s 4ms/step - loss: 11.2469 - mae: 11.2469 - mse: 193.6343 - val_loss: 10.8671 - val_mae: 10.8671 - val_mse: 175.5058\n",
            "Epoch 267/600\n",
            "13/13 [==============================] - 0s 3ms/step - loss: 11.2463 - mae: 11.2463 - mse: 193.4099 - val_loss: 10.8887 - val_mae: 10.8887 - val_mse: 176.4148\n",
            "Epoch 268/600\n",
            "13/13 [==============================] - 0s 5ms/step - loss: 11.2435 - mae: 11.2435 - mse: 193.4685 - val_loss: 10.8817 - val_mae: 10.8817 - val_mse: 176.1048\n",
            "Epoch 269/600\n",
            "13/13 [==============================] - 0s 5ms/step - loss: 11.2511 - mae: 11.2511 - mse: 193.2323 - val_loss: 10.8642 - val_mae: 10.8642 - val_mse: 175.3923\n",
            "Epoch 270/600\n",
            "13/13 [==============================] - 0s 3ms/step - loss: 11.2452 - mae: 11.2452 - mse: 193.1168 - val_loss: 10.8675 - val_mae: 10.8675 - val_mse: 175.5215\n",
            "Epoch 271/600\n",
            "13/13 [==============================] - 0s 5ms/step - loss: 11.2375 - mae: 11.2375 - mse: 193.1907 - val_loss: 10.9043 - val_mae: 10.9043 - val_mse: 177.1723\n",
            "Epoch 272/600\n",
            "13/13 [==============================] - 0s 5ms/step - loss: 11.2454 - mae: 11.2454 - mse: 193.5883 - val_loss: 10.9030 - val_mae: 10.9030 - val_mse: 177.1038\n",
            "Epoch 273/600\n",
            "13/13 [==============================] - 0s 3ms/step - loss: 11.2489 - mae: 11.2489 - mse: 193.6829 - val_loss: 10.8912 - val_mae: 10.8912 - val_mse: 176.5368\n",
            "Epoch 274/600\n",
            "13/13 [==============================] - 0s 3ms/step - loss: 11.2410 - mae: 11.2410 - mse: 193.5608 - val_loss: 10.9001 - val_mae: 10.9001 - val_mse: 176.9659\n",
            "Epoch 275/600\n",
            "13/13 [==============================] - 0s 3ms/step - loss: 11.2686 - mae: 11.2686 - mse: 194.6271 - val_loss: 10.9189 - val_mae: 10.9189 - val_mse: 177.8697\n",
            "Epoch 276/600\n",
            "13/13 [==============================] - 0s 3ms/step - loss: 11.2436 - mae: 11.2436 - mse: 193.5706 - val_loss: 10.8777 - val_mae: 10.8777 - val_mse: 175.9400\n",
            "Epoch 277/600\n",
            "13/13 [==============================] - 0s 3ms/step - loss: 11.2442 - mae: 11.2442 - mse: 193.2224 - val_loss: 10.8838 - val_mae: 10.8838 - val_mse: 176.2048\n",
            "Epoch 278/600\n",
            "13/13 [==============================] - 0s 4ms/step - loss: 11.2359 - mae: 11.2359 - mse: 193.4002 - val_loss: 10.9125 - val_mae: 10.9125 - val_mse: 177.5960\n",
            "Epoch 279/600\n",
            "13/13 [==============================] - 0s 3ms/step - loss: 11.2413 - mae: 11.2413 - mse: 193.9096 - val_loss: 10.9233 - val_mae: 10.9233 - val_mse: 178.0679\n",
            "Epoch 280/600\n",
            "13/13 [==============================] - 0s 3ms/step - loss: 11.2564 - mae: 11.2564 - mse: 194.7527 - val_loss: 10.9210 - val_mae: 10.9210 - val_mse: 177.9677\n",
            "Epoch 281/600\n",
            "13/13 [==============================] - 0s 3ms/step - loss: 11.2612 - mae: 11.2612 - mse: 193.9888 - val_loss: 10.8406 - val_mae: 10.8406 - val_mse: 174.3535\n",
            "Epoch 282/600\n",
            "13/13 [==============================] - 0s 4ms/step - loss: 11.2591 - mae: 11.2591 - mse: 193.2896 - val_loss: 10.9064 - val_mae: 10.9064 - val_mse: 177.2960\n",
            "Epoch 283/600\n",
            "13/13 [==============================] - 0s 3ms/step - loss: 11.2603 - mae: 11.2603 - mse: 193.8227 - val_loss: 10.8589 - val_mae: 10.8589 - val_mse: 175.1439\n",
            "Epoch 284/600\n",
            "13/13 [==============================] - 0s 3ms/step - loss: 11.2441 - mae: 11.2441 - mse: 193.1549 - val_loss: 10.9076 - val_mae: 10.9076 - val_mse: 177.3599\n",
            "Epoch 285/600\n",
            "13/13 [==============================] - 0s 5ms/step - loss: 11.2649 - mae: 11.2649 - mse: 193.6636 - val_loss: 10.8620 - val_mae: 10.8620 - val_mse: 175.2990\n",
            "Epoch 286/600\n",
            "13/13 [==============================] - 0s 4ms/step - loss: 11.2527 - mae: 11.2527 - mse: 193.7459 - val_loss: 10.9086 - val_mae: 10.9086 - val_mse: 177.4137\n",
            "Epoch 287/600\n",
            "13/13 [==============================] - 0s 4ms/step - loss: 11.2397 - mae: 11.2397 - mse: 193.1964 - val_loss: 10.8710 - val_mae: 10.8710 - val_mse: 175.6699\n",
            "Epoch 288/600\n",
            "13/13 [==============================] - 0s 5ms/step - loss: 11.2577 - mae: 11.2577 - mse: 193.5232 - val_loss: 10.8682 - val_mae: 10.8682 - val_mse: 175.5579\n",
            "Epoch 289/600\n",
            "13/13 [==============================] - 0s 3ms/step - loss: 11.2407 - mae: 11.2407 - mse: 193.4692 - val_loss: 10.9289 - val_mae: 10.9289 - val_mse: 178.3354\n",
            "Epoch 290/600\n",
            "13/13 [==============================] - 0s 3ms/step - loss: 11.2447 - mae: 11.2447 - mse: 194.2897 - val_loss: 10.9316 - val_mae: 10.9316 - val_mse: 178.4597\n",
            "Epoch 291/600\n",
            "13/13 [==============================] - 0s 4ms/step - loss: 11.2434 - mae: 11.2434 - mse: 193.7203 - val_loss: 10.9044 - val_mae: 10.9044 - val_mse: 177.2032\n",
            "Epoch 292/600\n",
            "13/13 [==============================] - 0s 4ms/step - loss: 11.2669 - mae: 11.2669 - mse: 193.9920 - val_loss: 10.8567 - val_mae: 10.8567 - val_mse: 175.0466\n",
            "Epoch 293/600\n",
            "13/13 [==============================] - 0s 5ms/step - loss: 11.2438 - mae: 11.2438 - mse: 193.2893 - val_loss: 10.8942 - val_mae: 10.8942 - val_mse: 176.6989\n",
            "Epoch 294/600\n",
            "13/13 [==============================] - 0s 3ms/step - loss: 11.2459 - mae: 11.2459 - mse: 193.7750 - val_loss: 10.8961 - val_mae: 10.8961 - val_mse: 176.7954\n",
            "Epoch 295/600\n",
            "13/13 [==============================] - 0s 4ms/step - loss: 11.2482 - mae: 11.2482 - mse: 193.8190 - val_loss: 10.9012 - val_mae: 10.9012 - val_mse: 177.0495\n",
            "Epoch 296/600\n",
            "13/13 [==============================] - 0s 3ms/step - loss: 11.2795 - mae: 11.2795 - mse: 194.2594 - val_loss: 10.8453 - val_mae: 10.8453 - val_mse: 174.5439\n",
            "Epoch 297/600\n",
            "13/13 [==============================] - 0s 4ms/step - loss: 11.2356 - mae: 11.2356 - mse: 193.1263 - val_loss: 10.9058 - val_mae: 10.9058 - val_mse: 177.2854\n",
            "Epoch 298/600\n",
            "13/13 [==============================] - 0s 3ms/step - loss: 11.2509 - mae: 11.2509 - mse: 194.2177 - val_loss: 10.9245 - val_mae: 10.9245 - val_mse: 178.1420\n",
            "Epoch 299/600\n",
            "13/13 [==============================] - 0s 3ms/step - loss: 11.2446 - mae: 11.2446 - mse: 193.6929 - val_loss: 10.8870 - val_mae: 10.8870 - val_mse: 176.3681\n",
            "Epoch 300/600\n",
            "13/13 [==============================] - 0s 4ms/step - loss: 11.2625 - mae: 11.2625 - mse: 194.4515 - val_loss: 10.9200 - val_mae: 10.9200 - val_mse: 177.9418\n",
            "Epoch 301/600\n",
            "13/13 [==============================] - 0s 3ms/step - loss: 11.2467 - mae: 11.2467 - mse: 193.3101 - val_loss: 10.8598 - val_mae: 10.8598 - val_mse: 175.2090\n",
            "Epoch 302/600\n",
            "13/13 [==============================] - 0s 5ms/step - loss: 11.2443 - mae: 11.2443 - mse: 193.1095 - val_loss: 10.8720 - val_mae: 10.8720 - val_mse: 175.7174\n",
            "Epoch 303/600\n",
            "13/13 [==============================] - 0s 3ms/step - loss: 11.2375 - mae: 11.2375 - mse: 193.1518 - val_loss: 10.8905 - val_mae: 10.8905 - val_mse: 176.5374\n",
            "Epoch 304/600\n",
            "13/13 [==============================] - 0s 3ms/step - loss: 11.2379 - mae: 11.2379 - mse: 193.3770 - val_loss: 10.8950 - val_mae: 10.8950 - val_mse: 176.7559\n",
            "Epoch 305/600\n",
            "13/13 [==============================] - 0s 5ms/step - loss: 11.2372 - mae: 11.2372 - mse: 193.3369 - val_loss: 10.8900 - val_mae: 10.8900 - val_mse: 176.5147\n",
            "Epoch 306/600\n",
            "13/13 [==============================] - 0s 4ms/step - loss: 11.2359 - mae: 11.2359 - mse: 193.4317 - val_loss: 10.9042 - val_mae: 10.9042 - val_mse: 177.2192\n",
            "Epoch 307/600\n",
            "13/13 [==============================] - 0s 3ms/step - loss: 11.2471 - mae: 11.2471 - mse: 193.6625 - val_loss: 10.8879 - val_mae: 10.8879 - val_mse: 176.4202\n",
            "Epoch 308/600\n",
            "13/13 [==============================] - 0s 4ms/step - loss: 11.2350 - mae: 11.2350 - mse: 193.2662 - val_loss: 10.8950 - val_mae: 10.8950 - val_mse: 176.7587\n",
            "Epoch 309/600\n",
            "13/13 [==============================] - 0s 5ms/step - loss: 11.2445 - mae: 11.2445 - mse: 193.4238 - val_loss: 10.9032 - val_mae: 10.9032 - val_mse: 177.1688\n",
            "Epoch 310/600\n",
            "13/13 [==============================] - 0s 3ms/step - loss: 11.2636 - mae: 11.2636 - mse: 194.6252 - val_loss: 10.9484 - val_mae: 10.9484 - val_mse: 179.1750\n",
            "Epoch 311/600\n",
            "13/13 [==============================] - 0s 4ms/step - loss: 11.2447 - mae: 11.2447 - mse: 193.8506 - val_loss: 10.8975 - val_mae: 10.8975 - val_mse: 176.8877\n",
            "Epoch 312/600\n",
            "13/13 [==============================] - 0s 5ms/step - loss: 11.2433 - mae: 11.2433 - mse: 193.6257 - val_loss: 10.8962 - val_mae: 10.8962 - val_mse: 176.8234\n",
            "Epoch 313/600\n",
            "13/13 [==============================] - 0s 3ms/step - loss: 11.2393 - mae: 11.2393 - mse: 193.5277 - val_loss: 10.9017 - val_mae: 10.9017 - val_mse: 177.1000\n",
            "Epoch 314/600\n",
            "13/13 [==============================] - 0s 3ms/step - loss: 11.2622 - mae: 11.2622 - mse: 194.6454 - val_loss: 10.9365 - val_mae: 10.9365 - val_mse: 178.6885\n",
            "Epoch 315/600\n",
            "13/13 [==============================] - 0s 4ms/step - loss: 11.2387 - mae: 11.2387 - mse: 194.0208 - val_loss: 10.8942 - val_mae: 10.8942 - val_mse: 176.7274\n",
            "Epoch 316/600\n",
            "13/13 [==============================] - 0s 5ms/step - loss: 11.2313 - mae: 11.2313 - mse: 193.0486 - val_loss: 10.8512 - val_mae: 10.8512 - val_mse: 174.8131\n",
            "Epoch 317/600\n",
            "13/13 [==============================] - 0s 3ms/step - loss: 11.2408 - mae: 11.2408 - mse: 192.9806 - val_loss: 10.8593 - val_mae: 10.8593 - val_mse: 175.2074\n",
            "Epoch 318/600\n",
            "13/13 [==============================] - 0s 3ms/step - loss: 11.2542 - mae: 11.2542 - mse: 193.7431 - val_loss: 10.9016 - val_mae: 10.9016 - val_mse: 177.1022\n",
            "Epoch 319/600\n",
            "13/13 [==============================] - 0s 4ms/step - loss: 11.2351 - mae: 11.2351 - mse: 193.2664 - val_loss: 10.8740 - val_mae: 10.8740 - val_mse: 175.8130\n",
            "Epoch 320/600\n",
            "13/13 [==============================] - 0s 3ms/step - loss: 11.2516 - mae: 11.2516 - mse: 193.3495 - val_loss: 10.8504 - val_mae: 10.8504 - val_mse: 174.7804\n",
            "Epoch 321/600\n",
            "13/13 [==============================] - 0s 3ms/step - loss: 11.2396 - mae: 11.2396 - mse: 193.2589 - val_loss: 10.9280 - val_mae: 10.9280 - val_mse: 178.3263\n",
            "Epoch 322/600\n",
            "13/13 [==============================] - 0s 4ms/step - loss: 11.2435 - mae: 11.2435 - mse: 194.2577 - val_loss: 10.9420 - val_mae: 10.9420 - val_mse: 178.9157\n",
            "Epoch 323/600\n",
            "13/13 [==============================] - 0s 3ms/step - loss: 11.2468 - mae: 11.2468 - mse: 194.3602 - val_loss: 10.9145 - val_mae: 10.9145 - val_mse: 177.7183\n",
            "Epoch 324/600\n",
            "13/13 [==============================] - 0s 3ms/step - loss: 11.2474 - mae: 11.2474 - mse: 193.7373 - val_loss: 10.8640 - val_mae: 10.8640 - val_mse: 175.4088\n",
            "Epoch 325/600\n",
            "13/13 [==============================] - 0s 6ms/step - loss: 11.2350 - mae: 11.2350 - mse: 193.1137 - val_loss: 10.8972 - val_mae: 10.8972 - val_mse: 176.8916\n",
            "Epoch 326/600\n",
            "13/13 [==============================] - 0s 4ms/step - loss: 11.2521 - mae: 11.2521 - mse: 193.5246 - val_loss: 10.8655 - val_mae: 10.8655 - val_mse: 175.4699\n",
            "Epoch 327/600\n",
            "13/13 [==============================] - 0s 4ms/step - loss: 11.2369 - mae: 11.2369 - mse: 193.3729 - val_loss: 10.9104 - val_mae: 10.9104 - val_mse: 177.5464\n",
            "Epoch 328/600\n",
            "13/13 [==============================] - 0s 3ms/step - loss: 11.2388 - mae: 11.2388 - mse: 193.6961 - val_loss: 10.9118 - val_mae: 10.9118 - val_mse: 177.6061\n",
            "Epoch 329/600\n",
            "13/13 [==============================] - 0s 3ms/step - loss: 11.2556 - mae: 11.2556 - mse: 193.5991 - val_loss: 10.8720 - val_mae: 10.8720 - val_mse: 175.7360\n",
            "Epoch 330/600\n",
            "13/13 [==============================] - 0s 3ms/step - loss: 11.2343 - mae: 11.2343 - mse: 193.1429 - val_loss: 10.9077 - val_mae: 10.9077 - val_mse: 177.4300\n",
            "Epoch 331/600\n",
            "13/13 [==============================] - 0s 3ms/step - loss: 11.2429 - mae: 11.2429 - mse: 193.6998 - val_loss: 10.8921 - val_mae: 10.8921 - val_mse: 176.6503\n",
            "Epoch 332/600\n",
            "13/13 [==============================] - 0s 4ms/step - loss: 11.2386 - mae: 11.2386 - mse: 193.9293 - val_loss: 10.9118 - val_mae: 10.9118 - val_mse: 177.6078\n",
            "Epoch 333/600\n",
            "13/13 [==============================] - 0s 3ms/step - loss: 11.2437 - mae: 11.2437 - mse: 193.5501 - val_loss: 10.8994 - val_mae: 10.8994 - val_mse: 177.0144\n",
            "Epoch 334/600\n",
            "13/13 [==============================] - 0s 4ms/step - loss: 11.2368 - mae: 11.2368 - mse: 193.1635 - val_loss: 10.8794 - val_mae: 10.8794 - val_mse: 176.0603\n",
            "Epoch 335/600\n",
            "13/13 [==============================] - 0s 3ms/step - loss: 11.2375 - mae: 11.2375 - mse: 193.5629 - val_loss: 10.9240 - val_mae: 10.9240 - val_mse: 178.1598\n",
            "Epoch 336/600\n",
            "13/13 [==============================] - 0s 3ms/step - loss: 11.2494 - mae: 11.2494 - mse: 194.3737 - val_loss: 10.9223 - val_mae: 10.9223 - val_mse: 178.0789\n",
            "Epoch 337/600\n",
            "13/13 [==============================] - 0s 4ms/step - loss: 11.2365 - mae: 11.2365 - mse: 193.7416 - val_loss: 10.9014 - val_mae: 10.9014 - val_mse: 177.1250\n",
            "Epoch 338/600\n",
            "13/13 [==============================] - 0s 4ms/step - loss: 11.2400 - mae: 11.2400 - mse: 193.3076 - val_loss: 10.8832 - val_mae: 10.8832 - val_mse: 176.2350\n",
            "Epoch 339/600\n",
            "13/13 [==============================] - 0s 3ms/step - loss: 11.2377 - mae: 11.2377 - mse: 193.4592 - val_loss: 10.8880 - val_mae: 10.8880 - val_mse: 176.4599\n",
            "Epoch 340/600\n",
            "13/13 [==============================] - 0s 5ms/step - loss: 11.2710 - mae: 11.2710 - mse: 193.6343 - val_loss: 10.8326 - val_mae: 10.8326 - val_mse: 174.0659\n",
            "Epoch 341/600\n",
            "13/13 [==============================] - 0s 5ms/step - loss: 11.2450 - mae: 11.2450 - mse: 193.1985 - val_loss: 10.8950 - val_mae: 10.8950 - val_mse: 176.8036\n",
            "Epoch 342/600\n",
            "13/13 [==============================] - 0s 4ms/step - loss: 11.2347 - mae: 11.2347 - mse: 193.4486 - val_loss: 10.9009 - val_mae: 10.9009 - val_mse: 177.1037\n",
            "Epoch 343/600\n",
            "13/13 [==============================] - 0s 4ms/step - loss: 11.2326 - mae: 11.2326 - mse: 193.3941 - val_loss: 10.9028 - val_mae: 10.9028 - val_mse: 177.2061\n",
            "Epoch 344/600\n",
            "13/13 [==============================] - 0s 5ms/step - loss: 11.2434 - mae: 11.2434 - mse: 193.7142 - val_loss: 10.9149 - val_mae: 10.9149 - val_mse: 177.7570\n",
            "Epoch 345/600\n",
            "13/13 [==============================] - 0s 3ms/step - loss: 11.2391 - mae: 11.2391 - mse: 193.9996 - val_loss: 10.9048 - val_mae: 10.9048 - val_mse: 177.3152\n",
            "Epoch 346/600\n",
            "13/13 [==============================] - 0s 4ms/step - loss: 11.2330 - mae: 11.2330 - mse: 193.1271 - val_loss: 10.8707 - val_mae: 10.8707 - val_mse: 175.6921\n",
            "Epoch 347/600\n",
            "13/13 [==============================] - 0s 3ms/step - loss: 11.2358 - mae: 11.2358 - mse: 193.1234 - val_loss: 10.8856 - val_mae: 10.8856 - val_mse: 176.3576\n",
            "Epoch 348/600\n",
            "13/13 [==============================] - 0s 3ms/step - loss: 11.2504 - mae: 11.2504 - mse: 194.0331 - val_loss: 10.9280 - val_mae: 10.9280 - val_mse: 178.3574\n",
            "Epoch 349/600\n",
            "13/13 [==============================] - 0s 4ms/step - loss: 11.2480 - mae: 11.2480 - mse: 193.0698 - val_loss: 10.8711 - val_mae: 10.8711 - val_mse: 175.7141\n",
            "Epoch 350/600\n",
            "13/13 [==============================] - 0s 4ms/step - loss: 11.2406 - mae: 11.2406 - mse: 193.8538 - val_loss: 10.9281 - val_mae: 10.9281 - val_mse: 178.3661\n",
            "Epoch 351/600\n",
            "13/13 [==============================] - 0s 4ms/step - loss: 11.2296 - mae: 11.2296 - mse: 193.5033 - val_loss: 10.8807 - val_mae: 10.8807 - val_mse: 176.1348\n",
            "Epoch 352/600\n",
            "13/13 [==============================] - 0s 4ms/step - loss: 11.2400 - mae: 11.2400 - mse: 193.0548 - val_loss: 10.8472 - val_mae: 10.8472 - val_mse: 174.6666\n",
            "Epoch 353/600\n",
            "13/13 [==============================] - 0s 6ms/step - loss: 11.2477 - mae: 11.2477 - mse: 193.0580 - val_loss: 10.8559 - val_mae: 10.8559 - val_mse: 175.0857\n",
            "Epoch 354/600\n",
            "13/13 [==============================] - 0s 4ms/step - loss: 11.2304 - mae: 11.2304 - mse: 192.8938 - val_loss: 10.8792 - val_mae: 10.8792 - val_mse: 176.0706\n",
            "Epoch 355/600\n",
            "13/13 [==============================] - 0s 3ms/step - loss: 11.2347 - mae: 11.2347 - mse: 193.3753 - val_loss: 10.8990 - val_mae: 10.8990 - val_mse: 177.0285\n",
            "Epoch 356/600\n",
            "13/13 [==============================] - 0s 4ms/step - loss: 11.2430 - mae: 11.2430 - mse: 194.1426 - val_loss: 10.9268 - val_mae: 10.9268 - val_mse: 178.3138\n",
            "Epoch 357/600\n",
            "13/13 [==============================] - 0s 3ms/step - loss: 11.2262 - mae: 11.2262 - mse: 192.9010 - val_loss: 10.8631 - val_mae: 10.8631 - val_mse: 175.3867\n",
            "Epoch 358/600\n",
            "13/13 [==============================] - 0s 3ms/step - loss: 11.2394 - mae: 11.2394 - mse: 192.7755 - val_loss: 10.8406 - val_mae: 10.8406 - val_mse: 174.3842\n",
            "Epoch 359/600\n",
            "13/13 [==============================] - 0s 4ms/step - loss: 11.2386 - mae: 11.2386 - mse: 192.9030 - val_loss: 10.8990 - val_mae: 10.8990 - val_mse: 177.0338\n",
            "Epoch 360/600\n",
            "13/13 [==============================] - 0s 4ms/step - loss: 11.2376 - mae: 11.2376 - mse: 193.6118 - val_loss: 10.9075 - val_mae: 10.9075 - val_mse: 177.4474\n",
            "Epoch 361/600\n",
            "13/13 [==============================] - 0s 4ms/step - loss: 11.2384 - mae: 11.2384 - mse: 193.9198 - val_loss: 10.9151 - val_mae: 10.9151 - val_mse: 177.7825\n",
            "Epoch 362/600\n",
            "13/13 [==============================] - 0s 4ms/step - loss: 11.2360 - mae: 11.2360 - mse: 193.8595 - val_loss: 10.9253 - val_mae: 10.9253 - val_mse: 178.2511\n",
            "Epoch 363/600\n",
            "13/13 [==============================] - 0s 5ms/step - loss: 11.2341 - mae: 11.2341 - mse: 193.2556 - val_loss: 10.8666 - val_mae: 10.8666 - val_mse: 175.5320\n",
            "Epoch 364/600\n",
            "13/13 [==============================] - 0s 3ms/step - loss: 11.2353 - mae: 11.2353 - mse: 193.1538 - val_loss: 10.8840 - val_mae: 10.8840 - val_mse: 176.3040\n",
            "Epoch 365/600\n",
            "13/13 [==============================] - 0s 4ms/step - loss: 11.2778 - mae: 11.2778 - mse: 194.3060 - val_loss: 10.8500 - val_mae: 10.8500 - val_mse: 174.8115\n",
            "Epoch 366/600\n",
            "13/13 [==============================] - 0s 3ms/step - loss: 11.2399 - mae: 11.2399 - mse: 193.4540 - val_loss: 10.9285 - val_mae: 10.9285 - val_mse: 178.3895\n",
            "Epoch 367/600\n",
            "13/13 [==============================] - 0s 5ms/step - loss: 11.2476 - mae: 11.2476 - mse: 193.5767 - val_loss: 10.8954 - val_mae: 10.8954 - val_mse: 176.8647\n",
            "Epoch 368/600\n",
            "13/13 [==============================] - 0s 3ms/step - loss: 11.2368 - mae: 11.2368 - mse: 193.5881 - val_loss: 10.9356 - val_mae: 10.9356 - val_mse: 178.6765\n",
            "Epoch 369/600\n",
            "13/13 [==============================] - 0s 3ms/step - loss: 11.2562 - mae: 11.2562 - mse: 194.6869 - val_loss: 10.9315 - val_mae: 10.9315 - val_mse: 178.5095\n",
            "Epoch 370/600\n",
            "13/13 [==============================] - 0s 3ms/step - loss: 11.3277 - mae: 11.3277 - mse: 194.3433 - val_loss: 10.8058 - val_mae: 10.8058 - val_mse: 173.2507\n",
            "Epoch 371/600\n",
            "13/13 [==============================] - 0s 3ms/step - loss: 11.2979 - mae: 11.2979 - mse: 194.4265 - val_loss: 10.8999 - val_mae: 10.8999 - val_mse: 177.1015\n",
            "Epoch 372/600\n",
            "13/13 [==============================] - 0s 4ms/step - loss: 11.2337 - mae: 11.2337 - mse: 193.1134 - val_loss: 10.8761 - val_mae: 10.8761 - val_mse: 175.9496\n",
            "Epoch 373/600\n",
            "13/13 [==============================] - 0s 5ms/step - loss: 11.2368 - mae: 11.2368 - mse: 192.9778 - val_loss: 10.8599 - val_mae: 10.8599 - val_mse: 175.2694\n",
            "Epoch 374/600\n",
            "13/13 [==============================] - 0s 4ms/step - loss: 11.2628 - mae: 11.2628 - mse: 194.2620 - val_loss: 10.9020 - val_mae: 10.9020 - val_mse: 177.2174\n",
            "Epoch 375/600\n",
            "13/13 [==============================] - 0s 3ms/step - loss: 11.2440 - mae: 11.2440 - mse: 193.3833 - val_loss: 10.8625 - val_mae: 10.8625 - val_mse: 175.3749\n",
            "Epoch 376/600\n",
            "13/13 [==============================] - 0s 3ms/step - loss: 11.2395 - mae: 11.2395 - mse: 193.3122 - val_loss: 10.8754 - val_mae: 10.8754 - val_mse: 175.9214\n",
            "Epoch 377/600\n",
            "13/13 [==============================] - 0s 4ms/step - loss: 11.2302 - mae: 11.2302 - mse: 193.1544 - val_loss: 10.8877 - val_mae: 10.8877 - val_mse: 176.4949\n",
            "Epoch 378/600\n",
            "13/13 [==============================] - 0s 4ms/step - loss: 11.2474 - mae: 11.2474 - mse: 192.8157 - val_loss: 10.8647 - val_mae: 10.8647 - val_mse: 175.4646\n",
            "Epoch 379/600\n",
            "13/13 [==============================] - 0s 4ms/step - loss: 11.2358 - mae: 11.2358 - mse: 193.2088 - val_loss: 10.8860 - val_mae: 10.8860 - val_mse: 176.4165\n",
            "Epoch 380/600\n",
            "13/13 [==============================] - 0s 5ms/step - loss: 11.2313 - mae: 11.2313 - mse: 193.3070 - val_loss: 10.8945 - val_mae: 10.8945 - val_mse: 176.8385\n",
            "Epoch 381/600\n",
            "13/13 [==============================] - 0s 4ms/step - loss: 11.2319 - mae: 11.2319 - mse: 193.3436 - val_loss: 10.8866 - val_mae: 10.8866 - val_mse: 176.4493\n",
            "Epoch 382/600\n",
            "13/13 [==============================] - 0s 3ms/step - loss: 11.2357 - mae: 11.2357 - mse: 193.2098 - val_loss: 10.8885 - val_mae: 10.8885 - val_mse: 176.5433\n",
            "Epoch 383/600\n",
            "13/13 [==============================] - 0s 3ms/step - loss: 11.2404 - mae: 11.2404 - mse: 193.9111 - val_loss: 10.9084 - val_mae: 10.9084 - val_mse: 177.5063\n",
            "Epoch 384/600\n",
            "13/13 [==============================] - 0s 4ms/step - loss: 11.2378 - mae: 11.2378 - mse: 192.9541 - val_loss: 10.8612 - val_mae: 10.8612 - val_mse: 175.3268\n",
            "Epoch 385/600\n",
            "13/13 [==============================] - 0s 5ms/step - loss: 11.2485 - mae: 11.2485 - mse: 193.4575 - val_loss: 10.8719 - val_mae: 10.8719 - val_mse: 175.7780\n",
            "Epoch 386/600\n",
            "13/13 [==============================] - 0s 3ms/step - loss: 11.2291 - mae: 11.2291 - mse: 192.6968 - val_loss: 10.8590 - val_mae: 10.8590 - val_mse: 175.2399\n",
            "Epoch 387/600\n",
            "13/13 [==============================] - 0s 3ms/step - loss: 11.2308 - mae: 11.2308 - mse: 192.8186 - val_loss: 10.8725 - val_mae: 10.8725 - val_mse: 175.8046\n",
            "Epoch 388/600\n",
            "13/13 [==============================] - 0s 4ms/step - loss: 11.2360 - mae: 11.2360 - mse: 193.2169 - val_loss: 10.8933 - val_mae: 10.8933 - val_mse: 176.7870\n",
            "Epoch 389/600\n",
            "13/13 [==============================] - 0s 4ms/step - loss: 11.2358 - mae: 11.2358 - mse: 192.8467 - val_loss: 10.8604 - val_mae: 10.8604 - val_mse: 175.2962\n",
            "Epoch 390/600\n",
            "13/13 [==============================] - 0s 4ms/step - loss: 11.2409 - mae: 11.2409 - mse: 193.0995 - val_loss: 10.8718 - val_mae: 10.8718 - val_mse: 175.7775\n",
            "Epoch 391/600\n",
            "13/13 [==============================] - 0s 3ms/step - loss: 11.2309 - mae: 11.2309 - mse: 192.8088 - val_loss: 10.8729 - val_mae: 10.8729 - val_mse: 175.8261\n",
            "Epoch 392/600\n",
            "13/13 [==============================] - 0s 3ms/step - loss: 11.2237 - mae: 11.2237 - mse: 192.8598 - val_loss: 10.9124 - val_mae: 10.9124 - val_mse: 177.6896\n",
            "Epoch 393/600\n",
            "13/13 [==============================] - 0s 4ms/step - loss: 11.2432 - mae: 11.2432 - mse: 194.0872 - val_loss: 10.9126 - val_mae: 10.9126 - val_mse: 177.7036\n",
            "Epoch 394/600\n",
            "13/13 [==============================] - 0s 5ms/step - loss: 11.2299 - mae: 11.2299 - mse: 193.1416 - val_loss: 10.8751 - val_mae: 10.8751 - val_mse: 175.9254\n",
            "Epoch 395/600\n",
            "13/13 [==============================] - 0s 4ms/step - loss: 11.2289 - mae: 11.2289 - mse: 193.1911 - val_loss: 10.8986 - val_mae: 10.8986 - val_mse: 177.0751\n",
            "Epoch 396/600\n",
            "13/13 [==============================] - 0s 3ms/step - loss: 11.2660 - mae: 11.2660 - mse: 195.2038 - val_loss: 10.9420 - val_mae: 10.9420 - val_mse: 178.9568\n",
            "Epoch 397/600\n",
            "13/13 [==============================] - 0s 3ms/step - loss: 11.2765 - mae: 11.2765 - mse: 193.8536 - val_loss: 10.8205 - val_mae: 10.8205 - val_mse: 173.6479\n",
            "Epoch 398/600\n",
            "13/13 [==============================] - 0s 5ms/step - loss: 11.2417 - mae: 11.2417 - mse: 192.6452 - val_loss: 10.8370 - val_mae: 10.8370 - val_mse: 174.2564\n",
            "Epoch 399/600\n",
            "13/13 [==============================] - 0s 3ms/step - loss: 11.2418 - mae: 11.2418 - mse: 193.0752 - val_loss: 10.9103 - val_mae: 10.9103 - val_mse: 177.6031\n",
            "Epoch 400/600\n",
            "13/13 [==============================] - 0s 5ms/step - loss: 11.2287 - mae: 11.2287 - mse: 193.4117 - val_loss: 10.8952 - val_mae: 10.8952 - val_mse: 176.9064\n",
            "Epoch 401/600\n",
            "13/13 [==============================] - 0s 5ms/step - loss: 11.2454 - mae: 11.2454 - mse: 193.8712 - val_loss: 10.8985 - val_mae: 10.8985 - val_mse: 177.0806\n",
            "Epoch 402/600\n",
            "13/13 [==============================] - 0s 3ms/step - loss: 11.2338 - mae: 11.2338 - mse: 193.0868 - val_loss: 10.8695 - val_mae: 10.8695 - val_mse: 175.6848\n",
            "Epoch 403/600\n",
            "13/13 [==============================] - 0s 3ms/step - loss: 11.2284 - mae: 11.2284 - mse: 193.0583 - val_loss: 10.8851 - val_mae: 10.8851 - val_mse: 176.4043\n",
            "Epoch 404/600\n",
            "13/13 [==============================] - 0s 3ms/step - loss: 11.2324 - mae: 11.2324 - mse: 193.4470 - val_loss: 10.9106 - val_mae: 10.9106 - val_mse: 177.6234\n",
            "Epoch 405/600\n",
            "13/13 [==============================] - 0s 3ms/step - loss: 11.2317 - mae: 11.2317 - mse: 193.6882 - val_loss: 10.9107 - val_mae: 10.9107 - val_mse: 177.6284\n",
            "Epoch 406/600\n",
            "13/13 [==============================] - 0s 6ms/step - loss: 11.2379 - mae: 11.2379 - mse: 193.9150 - val_loss: 10.9218 - val_mae: 10.9218 - val_mse: 178.1388\n",
            "Epoch 407/600\n",
            "13/13 [==============================] - 0s 3ms/step - loss: 11.2388 - mae: 11.2388 - mse: 193.2766 - val_loss: 10.8502 - val_mae: 10.8502 - val_mse: 174.8731\n",
            "Epoch 408/600\n",
            "13/13 [==============================] - 0s 3ms/step - loss: 11.2301 - mae: 11.2301 - mse: 192.9287 - val_loss: 10.8794 - val_mae: 10.8794 - val_mse: 176.1400\n",
            "Epoch 409/600\n",
            "13/13 [==============================] - 0s 3ms/step - loss: 11.2268 - mae: 11.2268 - mse: 193.0408 - val_loss: 10.8922 - val_mae: 10.8922 - val_mse: 176.7670\n",
            "Epoch 410/600\n",
            "13/13 [==============================] - 0s 3ms/step - loss: 11.2285 - mae: 11.2285 - mse: 193.4069 - val_loss: 10.9139 - val_mae: 10.9139 - val_mse: 177.7797\n",
            "Epoch 411/600\n",
            "13/13 [==============================] - 0s 4ms/step - loss: 11.2421 - mae: 11.2421 - mse: 193.5986 - val_loss: 10.8764 - val_mae: 10.8764 - val_mse: 176.0044\n",
            "Epoch 412/600\n",
            "13/13 [==============================] - 0s 3ms/step - loss: 11.2290 - mae: 11.2290 - mse: 193.2711 - val_loss: 10.9166 - val_mae: 10.9166 - val_mse: 177.9037\n",
            "Epoch 413/600\n",
            "13/13 [==============================] - 0s 4ms/step - loss: 11.2330 - mae: 11.2330 - mse: 193.9068 - val_loss: 10.9053 - val_mae: 10.9053 - val_mse: 177.3973\n",
            "Epoch 414/600\n",
            "13/13 [==============================] - 0s 4ms/step - loss: 11.2444 - mae: 11.2444 - mse: 193.4591 - val_loss: 10.8875 - val_mae: 10.8875 - val_mse: 176.5391\n",
            "Epoch 415/600\n",
            "13/13 [==============================] - 0s 4ms/step - loss: 11.2291 - mae: 11.2291 - mse: 193.0510 - val_loss: 10.8810 - val_mae: 10.8810 - val_mse: 176.2235\n",
            "Epoch 416/600\n",
            "13/13 [==============================] - 0s 5ms/step - loss: 11.2358 - mae: 11.2358 - mse: 192.9491 - val_loss: 10.8598 - val_mae: 10.8598 - val_mse: 175.2905\n",
            "Epoch 417/600\n",
            "13/13 [==============================] - 0s 3ms/step - loss: 11.2242 - mae: 11.2242 - mse: 192.8833 - val_loss: 10.9019 - val_mae: 10.9019 - val_mse: 177.2524\n",
            "Epoch 418/600\n",
            "13/13 [==============================] - 0s 3ms/step - loss: 11.2347 - mae: 11.2347 - mse: 193.5618 - val_loss: 10.8769 - val_mae: 10.8769 - val_mse: 176.0345\n",
            "Epoch 419/600\n",
            "13/13 [==============================] - 0s 3ms/step - loss: 11.2499 - mae: 11.2499 - mse: 193.1610 - val_loss: 10.8581 - val_mae: 10.8581 - val_mse: 175.2197\n",
            "Epoch 420/600\n",
            "13/13 [==============================] - 0s 3ms/step - loss: 11.2233 - mae: 11.2233 - mse: 193.1958 - val_loss: 10.9204 - val_mae: 10.9204 - val_mse: 178.0869\n",
            "Epoch 421/600\n",
            "13/13 [==============================] - 0s 4ms/step - loss: 11.2307 - mae: 11.2307 - mse: 193.6722 - val_loss: 10.9064 - val_mae: 10.9064 - val_mse: 177.4526\n",
            "Epoch 422/600\n",
            "13/13 [==============================] - 0s 3ms/step - loss: 11.2432 - mae: 11.2432 - mse: 194.2610 - val_loss: 10.9207 - val_mae: 10.9207 - val_mse: 178.1003\n",
            "Epoch 423/600\n",
            "13/13 [==============================] - 0s 4ms/step - loss: 11.2279 - mae: 11.2279 - mse: 192.6137 - val_loss: 10.8460 - val_mae: 10.8460 - val_mse: 174.6877\n",
            "Epoch 424/600\n",
            "13/13 [==============================] - 0s 3ms/step - loss: 11.2461 - mae: 11.2461 - mse: 192.9122 - val_loss: 10.8567 - val_mae: 10.8567 - val_mse: 175.1673\n",
            "Epoch 425/600\n",
            "13/13 [==============================] - 0s 4ms/step - loss: 11.2240 - mae: 11.2240 - mse: 192.8561 - val_loss: 10.8816 - val_mae: 10.8816 - val_mse: 176.2661\n",
            "Epoch 426/600\n",
            "13/13 [==============================] - 0s 3ms/step - loss: 11.2222 - mae: 11.2222 - mse: 193.1275 - val_loss: 10.9089 - val_mae: 10.9089 - val_mse: 177.5713\n",
            "Epoch 427/600\n",
            "13/13 [==============================] - 0s 4ms/step - loss: 11.2453 - mae: 11.2453 - mse: 193.5740 - val_loss: 10.8852 - val_mae: 10.8852 - val_mse: 176.4451\n",
            "Epoch 428/600\n",
            "13/13 [==============================] - 0s 4ms/step - loss: 11.2255 - mae: 11.2255 - mse: 192.6955 - val_loss: 10.8482 - val_mae: 10.8482 - val_mse: 174.8016\n",
            "Epoch 429/600\n",
            "13/13 [==============================] - 0s 4ms/step - loss: 11.2358 - mae: 11.2358 - mse: 192.6662 - val_loss: 10.8508 - val_mae: 10.8508 - val_mse: 174.9340\n",
            "Epoch 430/600\n",
            "13/13 [==============================] - 0s 4ms/step - loss: 11.2783 - mae: 11.2783 - mse: 193.4806 - val_loss: 10.8387 - val_mae: 10.8387 - val_mse: 174.3530\n",
            "Epoch 431/600\n",
            "13/13 [==============================] - 0s 4ms/step - loss: 11.2272 - mae: 11.2272 - mse: 193.2744 - val_loss: 10.9544 - val_mae: 10.9544 - val_mse: 179.4959\n",
            "Epoch 432/600\n",
            "13/13 [==============================] - 0s 3ms/step - loss: 11.2424 - mae: 11.2424 - mse: 194.6279 - val_loss: 10.9473 - val_mae: 10.9473 - val_mse: 179.2067\n",
            "Epoch 433/600\n",
            "13/13 [==============================] - 0s 3ms/step - loss: 11.2306 - mae: 11.2306 - mse: 193.3296 - val_loss: 10.8846 - val_mae: 10.8846 - val_mse: 176.4240\n",
            "Epoch 434/600\n",
            "13/13 [==============================] - 0s 3ms/step - loss: 11.2259 - mae: 11.2259 - mse: 193.1155 - val_loss: 10.8915 - val_mae: 10.8915 - val_mse: 176.7726\n",
            "Epoch 435/600\n",
            "13/13 [==============================] - 0s 4ms/step - loss: 11.2289 - mae: 11.2289 - mse: 193.3457 - val_loss: 10.8847 - val_mae: 10.8847 - val_mse: 176.4314\n",
            "Epoch 436/600\n",
            "13/13 [==============================] - 0s 4ms/step - loss: 11.2212 - mae: 11.2212 - mse: 192.7375 - val_loss: 10.8610 - val_mae: 10.8610 - val_mse: 175.3528\n",
            "Epoch 437/600\n",
            "13/13 [==============================] - 0s 3ms/step - loss: 11.2369 - mae: 11.2369 - mse: 192.5276 - val_loss: 10.8335 - val_mae: 10.8335 - val_mse: 174.1332\n",
            "Epoch 438/600\n",
            "13/13 [==============================] - 0s 4ms/step - loss: 11.2371 - mae: 11.2371 - mse: 192.6876 - val_loss: 10.8515 - val_mae: 10.8515 - val_mse: 174.9706\n",
            "Epoch 439/600\n",
            "13/13 [==============================] - 0s 3ms/step - loss: 11.2239 - mae: 11.2239 - mse: 192.9260 - val_loss: 10.8993 - val_mae: 10.8993 - val_mse: 177.1611\n",
            "Epoch 440/600\n",
            "13/13 [==============================] - 0s 5ms/step - loss: 11.2393 - mae: 11.2393 - mse: 194.0207 - val_loss: 10.9226 - val_mae: 10.9226 - val_mse: 178.1808\n",
            "Epoch 441/600\n",
            "13/13 [==============================] - 0s 3ms/step - loss: 11.2221 - mae: 11.2221 - mse: 193.3842 - val_loss: 10.8834 - val_mae: 10.8834 - val_mse: 176.3753\n",
            "Epoch 442/600\n",
            "13/13 [==============================] - 0s 4ms/step - loss: 11.2265 - mae: 11.2265 - mse: 192.6550 - val_loss: 10.8391 - val_mae: 10.8391 - val_mse: 174.3833\n",
            "Epoch 443/600\n",
            "13/13 [==============================] - 0s 3ms/step - loss: 11.2274 - mae: 11.2274 - mse: 192.6273 - val_loss: 10.8723 - val_mae: 10.8723 - val_mse: 175.8527\n",
            "Epoch 444/600\n",
            "13/13 [==============================] - 0s 4ms/step - loss: 11.2687 - mae: 11.2687 - mse: 194.5697 - val_loss: 10.9363 - val_mae: 10.9363 - val_mse: 178.7413\n",
            "Epoch 445/600\n",
            "13/13 [==============================] - 0s 3ms/step - loss: 11.2389 - mae: 11.2389 - mse: 192.7102 - val_loss: 10.8350 - val_mae: 10.8350 - val_mse: 174.2060\n",
            "Epoch 446/600\n",
            "13/13 [==============================] - 0s 4ms/step - loss: 11.2342 - mae: 11.2342 - mse: 192.7848 - val_loss: 10.8631 - val_mae: 10.8631 - val_mse: 175.4500\n",
            "Epoch 447/600\n",
            "13/13 [==============================] - 0s 4ms/step - loss: 11.2188 - mae: 11.2188 - mse: 192.7657 - val_loss: 10.8896 - val_mae: 10.8896 - val_mse: 176.6930\n",
            "Epoch 448/600\n",
            "13/13 [==============================] - 0s 4ms/step - loss: 11.2417 - mae: 11.2417 - mse: 194.0044 - val_loss: 10.9220 - val_mae: 10.9220 - val_mse: 178.1615\n",
            "Epoch 449/600\n",
            "13/13 [==============================] - 0s 3ms/step - loss: 11.2404 - mae: 11.2404 - mse: 192.4158 - val_loss: 10.8358 - val_mae: 10.8358 - val_mse: 174.2414\n",
            "Epoch 450/600\n",
            "13/13 [==============================] - 0s 4ms/step - loss: 11.2406 - mae: 11.2406 - mse: 192.5698 - val_loss: 10.8449 - val_mae: 10.8449 - val_mse: 174.6652\n",
            "Epoch 451/600\n",
            "13/13 [==============================] - 0s 3ms/step - loss: 11.2264 - mae: 11.2264 - mse: 192.8840 - val_loss: 10.9126 - val_mae: 10.9126 - val_mse: 177.7637\n",
            "Epoch 452/600\n",
            "13/13 [==============================] - 0s 3ms/step - loss: 11.2316 - mae: 11.2316 - mse: 193.9437 - val_loss: 10.9067 - val_mae: 10.9067 - val_mse: 177.4983\n",
            "Epoch 453/600\n",
            "13/13 [==============================] - 0s 4ms/step - loss: 11.2205 - mae: 11.2205 - mse: 192.9640 - val_loss: 10.8618 - val_mae: 10.8618 - val_mse: 175.3970\n",
            "Epoch 454/600\n",
            "13/13 [==============================] - 0s 4ms/step - loss: 11.2229 - mae: 11.2229 - mse: 192.6133 - val_loss: 10.8570 - val_mae: 10.8570 - val_mse: 175.1969\n",
            "Epoch 455/600\n",
            "13/13 [==============================] - 0s 4ms/step - loss: 11.2205 - mae: 11.2205 - mse: 192.5670 - val_loss: 10.8741 - val_mae: 10.8741 - val_mse: 175.9485\n",
            "Epoch 456/600\n",
            "13/13 [==============================] - 0s 3ms/step - loss: 11.2278 - mae: 11.2278 - mse: 193.5252 - val_loss: 10.9178 - val_mae: 10.9178 - val_mse: 177.9963\n",
            "Epoch 457/600\n",
            "13/13 [==============================] - 0s 4ms/step - loss: 11.2213 - mae: 11.2213 - mse: 193.0365 - val_loss: 10.8590 - val_mae: 10.8590 - val_mse: 175.2834\n",
            "Epoch 458/600\n",
            "13/13 [==============================] - 0s 5ms/step - loss: 11.2255 - mae: 11.2255 - mse: 192.6917 - val_loss: 10.8674 - val_mae: 10.8674 - val_mse: 175.6453\n",
            "Epoch 459/600\n",
            "13/13 [==============================] - 0s 4ms/step - loss: 11.2512 - mae: 11.2512 - mse: 193.0158 - val_loss: 10.8502 - val_mae: 10.8502 - val_mse: 174.9290\n",
            "Epoch 460/600\n",
            "13/13 [==============================] - 0s 5ms/step - loss: 11.2245 - mae: 11.2245 - mse: 193.1356 - val_loss: 10.9174 - val_mae: 10.9174 - val_mse: 177.9834\n",
            "Epoch 461/600\n",
            "13/13 [==============================] - 0s 5ms/step - loss: 11.2260 - mae: 11.2260 - mse: 193.5345 - val_loss: 10.8913 - val_mae: 10.8913 - val_mse: 176.8046\n",
            "Epoch 462/600\n",
            "13/13 [==============================] - 0s 4ms/step - loss: 11.2620 - mae: 11.2620 - mse: 193.4296 - val_loss: 10.8230 - val_mae: 10.8230 - val_mse: 173.7308\n",
            "Epoch 463/600\n",
            "13/13 [==============================] - 0s 6ms/step - loss: 11.2346 - mae: 11.2346 - mse: 193.6623 - val_loss: 10.9131 - val_mae: 10.9131 - val_mse: 177.8015\n",
            "Epoch 464/600\n",
            "13/13 [==============================] - 0s 4ms/step - loss: 11.2286 - mae: 11.2286 - mse: 193.4309 - val_loss: 10.8856 - val_mae: 10.8856 - val_mse: 176.5172\n",
            "Epoch 465/600\n",
            "13/13 [==============================] - 0s 5ms/step - loss: 11.2240 - mae: 11.2240 - mse: 193.0231 - val_loss: 10.8769 - val_mae: 10.8769 - val_mse: 176.0922\n",
            "Epoch 466/600\n",
            "13/13 [==============================] - 0s 4ms/step - loss: 11.2270 - mae: 11.2270 - mse: 192.5699 - val_loss: 10.8461 - val_mae: 10.8461 - val_mse: 174.7486\n",
            "Epoch 467/600\n",
            "13/13 [==============================] - 0s 4ms/step - loss: 11.2352 - mae: 11.2352 - mse: 192.9753 - val_loss: 10.8901 - val_mae: 10.8901 - val_mse: 176.7533\n",
            "Epoch 468/600\n",
            "13/13 [==============================] - 0s 5ms/step - loss: 11.2206 - mae: 11.2206 - mse: 192.8847 - val_loss: 10.8763 - val_mae: 10.8763 - val_mse: 176.0670\n",
            "Epoch 469/600\n",
            "13/13 [==============================] - 0s 3ms/step - loss: 11.2235 - mae: 11.2235 - mse: 192.6855 - val_loss: 10.8666 - val_mae: 10.8666 - val_mse: 175.6195\n",
            "Epoch 470/600\n",
            "13/13 [==============================] - 0s 3ms/step - loss: 11.2264 - mae: 11.2264 - mse: 193.2407 - val_loss: 10.9010 - val_mae: 10.9010 - val_mse: 177.2643\n",
            "Epoch 471/600\n",
            "13/13 [==============================] - 0s 5ms/step - loss: 11.2258 - mae: 11.2258 - mse: 193.0830 - val_loss: 10.8870 - val_mae: 10.8870 - val_mse: 176.6009\n",
            "Epoch 472/600\n",
            "13/13 [==============================] - 0s 4ms/step - loss: 11.2562 - mae: 11.2562 - mse: 194.4343 - val_loss: 10.9310 - val_mae: 10.9310 - val_mse: 178.5394\n",
            "Epoch 473/600\n",
            "13/13 [==============================] - 0s 5ms/step - loss: 11.2328 - mae: 11.2328 - mse: 193.4741 - val_loss: 10.8731 - val_mae: 10.8731 - val_mse: 175.9221\n",
            "Epoch 474/600\n",
            "13/13 [==============================] - 0s 4ms/step - loss: 11.2196 - mae: 11.2196 - mse: 192.7899 - val_loss: 10.8718 - val_mae: 10.8718 - val_mse: 175.8637\n",
            "Epoch 475/600\n",
            "13/13 [==============================] - 0s 3ms/step - loss: 11.2212 - mae: 11.2212 - mse: 192.6185 - val_loss: 10.8642 - val_mae: 10.8642 - val_mse: 175.5196\n",
            "Epoch 476/600\n",
            "13/13 [==============================] - 0s 4ms/step - loss: 11.2240 - mae: 11.2240 - mse: 192.6502 - val_loss: 10.8722 - val_mae: 10.8722 - val_mse: 175.8862\n",
            "Epoch 477/600\n",
            "13/13 [==============================] - 0s 4ms/step - loss: 11.2523 - mae: 11.2523 - mse: 193.1905 - val_loss: 10.8411 - val_mae: 10.8411 - val_mse: 174.5166\n",
            "Epoch 478/600\n",
            "13/13 [==============================] - 0s 5ms/step - loss: 11.2140 - mae: 11.2140 - mse: 192.7726 - val_loss: 10.9077 - val_mae: 10.9077 - val_mse: 177.5716\n",
            "Epoch 479/600\n",
            "13/13 [==============================] - 0s 3ms/step - loss: 11.2668 - mae: 11.2668 - mse: 194.9148 - val_loss: 10.9592 - val_mae: 10.9592 - val_mse: 179.6908\n",
            "Epoch 480/600\n",
            "13/13 [==============================] - 0s 4ms/step - loss: 11.2364 - mae: 11.2364 - mse: 193.0307 - val_loss: 10.8272 - val_mae: 10.8272 - val_mse: 173.8976\n",
            "Epoch 481/600\n",
            "13/13 [==============================] - 0s 4ms/step - loss: 11.2260 - mae: 11.2260 - mse: 192.4268 - val_loss: 10.8628 - val_mae: 10.8628 - val_mse: 175.4644\n",
            "Epoch 482/600\n",
            "13/13 [==============================] - 0s 4ms/step - loss: 11.2324 - mae: 11.2324 - mse: 193.0485 - val_loss: 10.8854 - val_mae: 10.8854 - val_mse: 176.5392\n",
            "Epoch 483/600\n",
            "13/13 [==============================] - 0s 4ms/step - loss: 11.2195 - mae: 11.2195 - mse: 192.9366 - val_loss: 10.8901 - val_mae: 10.8901 - val_mse: 176.7829\n",
            "Epoch 484/600\n",
            "13/13 [==============================] - 0s 4ms/step - loss: 11.2200 - mae: 11.2200 - mse: 192.8946 - val_loss: 10.8847 - val_mae: 10.8847 - val_mse: 176.5035\n",
            "Epoch 485/600\n",
            "13/13 [==============================] - 0s 4ms/step - loss: 11.2229 - mae: 11.2229 - mse: 193.1540 - val_loss: 10.8970 - val_mae: 10.8970 - val_mse: 177.1032\n",
            "Epoch 486/600\n",
            "13/13 [==============================] - 0s 3ms/step - loss: 11.2327 - mae: 11.2327 - mse: 193.6613 - val_loss: 10.9120 - val_mae: 10.9120 - val_mse: 177.7766\n",
            "Epoch 487/600\n",
            "13/13 [==============================] - 0s 5ms/step - loss: 11.2221 - mae: 11.2221 - mse: 193.2974 - val_loss: 10.8750 - val_mae: 10.8750 - val_mse: 176.0321\n",
            "Epoch 488/600\n",
            "13/13 [==============================] - 0s 4ms/step - loss: 11.2148 - mae: 11.2148 - mse: 192.5763 - val_loss: 10.8435 - val_mae: 10.8435 - val_mse: 174.6489\n",
            "Epoch 489/600\n",
            "13/13 [==============================] - 0s 4ms/step - loss: 11.2414 - mae: 11.2414 - mse: 193.0027 - val_loss: 10.8753 - val_mae: 10.8753 - val_mse: 176.0462\n",
            "Epoch 490/600\n",
            "13/13 [==============================] - 0s 4ms/step - loss: 11.2277 - mae: 11.2277 - mse: 192.5774 - val_loss: 10.8333 - val_mae: 10.8333 - val_mse: 174.1643\n",
            "Epoch 491/600\n",
            "13/13 [==============================] - 0s 4ms/step - loss: 11.2297 - mae: 11.2297 - mse: 192.6130 - val_loss: 10.8634 - val_mae: 10.8634 - val_mse: 175.5018\n",
            "Epoch 492/600\n",
            "13/13 [==============================] - 0s 4ms/step - loss: 11.2213 - mae: 11.2213 - mse: 192.5557 - val_loss: 10.8398 - val_mae: 10.8398 - val_mse: 174.4719\n",
            "Epoch 493/600\n",
            "13/13 [==============================] - 0s 4ms/step - loss: 11.2371 - mae: 11.2371 - mse: 193.3245 - val_loss: 10.8788 - val_mae: 10.8788 - val_mse: 176.2238\n",
            "Epoch 494/600\n",
            "13/13 [==============================] - 0s 5ms/step - loss: 11.2515 - mae: 11.2515 - mse: 193.9767 - val_loss: 10.8915 - val_mae: 10.8915 - val_mse: 176.8737\n",
            "Epoch 495/600\n",
            "13/13 [==============================] - 0s 4ms/step - loss: 11.2104 - mae: 11.2104 - mse: 192.5386 - val_loss: 10.8428 - val_mae: 10.8428 - val_mse: 174.6263\n",
            "Epoch 496/600\n",
            "13/13 [==============================] - 0s 4ms/step - loss: 11.2377 - mae: 11.2377 - mse: 192.7546 - val_loss: 10.8228 - val_mae: 10.8228 - val_mse: 173.7319\n",
            "Epoch 497/600\n",
            "13/13 [==============================] - 0s 5ms/step - loss: 11.2457 - mae: 11.2457 - mse: 192.5900 - val_loss: 10.8999 - val_mae: 10.8999 - val_mse: 177.2395\n",
            "Epoch 498/600\n",
            "13/13 [==============================] - 0s 3ms/step - loss: 11.2192 - mae: 11.2192 - mse: 192.9945 - val_loss: 10.8771 - val_mae: 10.8771 - val_mse: 176.1483\n",
            "Epoch 499/600\n",
            "13/13 [==============================] - 0s 3ms/step - loss: 11.2460 - mae: 11.2460 - mse: 193.2553 - val_loss: 10.8593 - val_mae: 10.8593 - val_mse: 175.3312\n",
            "Epoch 500/600\n",
            "13/13 [==============================] - 0s 3ms/step - loss: 11.2272 - mae: 11.2272 - mse: 193.1012 - val_loss: 10.8837 - val_mae: 10.8837 - val_mse: 176.4815\n",
            "Epoch 501/600\n",
            "13/13 [==============================] - 0s 3ms/step - loss: 11.2332 - mae: 11.2332 - mse: 193.0695 - val_loss: 10.8431 - val_mae: 10.8431 - val_mse: 174.6497\n",
            "Epoch 502/600\n",
            "13/13 [==============================] - 0s 6ms/step - loss: 11.2478 - mae: 11.2478 - mse: 193.8363 - val_loss: 10.9201 - val_mae: 10.9201 - val_mse: 178.1055\n",
            "Epoch 503/600\n",
            "13/13 [==============================] - 0s 3ms/step - loss: 11.2209 - mae: 11.2209 - mse: 192.7556 - val_loss: 10.8587 - val_mae: 10.8587 - val_mse: 175.3062\n",
            "Epoch 504/600\n",
            "13/13 [==============================] - 0s 3ms/step - loss: 11.2208 - mae: 11.2208 - mse: 192.5357 - val_loss: 10.8632 - val_mae: 10.8632 - val_mse: 175.5055\n",
            "Epoch 505/600\n",
            "13/13 [==============================] - 0s 3ms/step - loss: 11.2182 - mae: 11.2182 - mse: 192.4998 - val_loss: 10.8409 - val_mae: 10.8409 - val_mse: 174.5446\n",
            "Epoch 506/600\n",
            "13/13 [==============================] - 0s 4ms/step - loss: 11.2207 - mae: 11.2207 - mse: 192.3049 - val_loss: 10.8582 - val_mae: 10.8582 - val_mse: 175.2893\n",
            "Epoch 507/600\n",
            "13/13 [==============================] - 0s 4ms/step - loss: 11.2286 - mae: 11.2286 - mse: 193.3128 - val_loss: 10.8829 - val_mae: 10.8829 - val_mse: 176.4503\n",
            "Epoch 508/600\n",
            "13/13 [==============================] - 0s 4ms/step - loss: 11.2156 - mae: 11.2156 - mse: 192.3753 - val_loss: 10.8363 - val_mae: 10.8363 - val_mse: 174.3220\n",
            "Epoch 509/600\n",
            "13/13 [==============================] - 0s 3ms/step - loss: 11.2260 - mae: 11.2260 - mse: 192.2635 - val_loss: 10.8310 - val_mae: 10.8310 - val_mse: 174.0795\n",
            "Epoch 510/600\n",
            "13/13 [==============================] - 0s 4ms/step - loss: 11.2355 - mae: 11.2355 - mse: 193.0485 - val_loss: 10.9018 - val_mae: 10.9018 - val_mse: 177.3380\n",
            "Epoch 511/600\n",
            "13/13 [==============================] - 0s 4ms/step - loss: 11.2284 - mae: 11.2284 - mse: 193.4477 - val_loss: 10.8752 - val_mae: 10.8752 - val_mse: 176.0705\n",
            "Epoch 512/600\n",
            "13/13 [==============================] - 0s 3ms/step - loss: 11.2190 - mae: 11.2190 - mse: 192.7574 - val_loss: 10.8667 - val_mae: 10.8667 - val_mse: 175.6718\n",
            "Epoch 513/600\n",
            "13/13 [==============================] - 0s 3ms/step - loss: 11.2192 - mae: 11.2192 - mse: 192.5192 - val_loss: 10.8693 - val_mae: 10.8693 - val_mse: 175.7951\n",
            "Epoch 514/600\n",
            "13/13 [==============================] - 0s 5ms/step - loss: 11.2218 - mae: 11.2218 - mse: 192.7444 - val_loss: 10.8813 - val_mae: 10.8813 - val_mse: 176.3813\n",
            "Epoch 515/600\n",
            "13/13 [==============================] - 0s 4ms/step - loss: 11.2374 - mae: 11.2374 - mse: 192.9340 - val_loss: 10.8384 - val_mae: 10.8384 - val_mse: 174.4348\n",
            "Epoch 516/600\n",
            "13/13 [==============================] - 0s 4ms/step - loss: 11.2310 - mae: 11.2310 - mse: 193.0373 - val_loss: 10.9158 - val_mae: 10.9158 - val_mse: 177.9406\n",
            "Epoch 517/600\n",
            "13/13 [==============================] - 0s 4ms/step - loss: 11.2269 - mae: 11.2269 - mse: 193.5158 - val_loss: 10.8937 - val_mae: 10.8937 - val_mse: 176.9895\n",
            "Epoch 518/600\n",
            "13/13 [==============================] - 0s 3ms/step - loss: 11.2147 - mae: 11.2147 - mse: 192.4205 - val_loss: 10.8390 - val_mae: 10.8390 - val_mse: 174.4688\n",
            "Epoch 519/600\n",
            "13/13 [==============================] - 0s 4ms/step - loss: 11.2458 - mae: 11.2458 - mse: 192.4911 - val_loss: 10.8141 - val_mae: 10.8141 - val_mse: 173.4115\n",
            "Epoch 520/600\n",
            "13/13 [==============================] - 0s 4ms/step - loss: 11.2346 - mae: 11.2346 - mse: 193.1533 - val_loss: 10.8856 - val_mae: 10.8856 - val_mse: 176.6096\n",
            "Epoch 521/600\n",
            "13/13 [==============================] - 0s 3ms/step - loss: 11.2190 - mae: 11.2190 - mse: 192.7639 - val_loss: 10.8744 - val_mae: 10.8744 - val_mse: 176.0483\n",
            "Epoch 522/600\n",
            "13/13 [==============================] - 0s 4ms/step - loss: 11.2200 - mae: 11.2200 - mse: 193.1513 - val_loss: 10.8877 - val_mae: 10.8877 - val_mse: 176.7263\n",
            "Epoch 523/600\n",
            "13/13 [==============================] - 0s 3ms/step - loss: 11.2178 - mae: 11.2178 - mse: 193.0057 - val_loss: 10.8912 - val_mae: 10.8912 - val_mse: 176.8860\n",
            "Epoch 524/600\n",
            "13/13 [==============================] - 0s 4ms/step - loss: 11.2600 - mae: 11.2600 - mse: 195.0704 - val_loss: 10.9164 - val_mae: 10.9164 - val_mse: 177.9646\n",
            "Epoch 525/600\n",
            "13/13 [==============================] - 0s 4ms/step - loss: 11.2646 - mae: 11.2646 - mse: 193.5145 - val_loss: 10.8085 - val_mae: 10.8085 - val_mse: 173.2257\n",
            "Epoch 526/600\n",
            "13/13 [==============================] - 0s 4ms/step - loss: 11.2519 - mae: 11.2519 - mse: 193.1439 - val_loss: 10.8780 - val_mae: 10.8780 - val_mse: 176.2308\n",
            "Epoch 527/600\n",
            "13/13 [==============================] - 0s 4ms/step - loss: 11.2268 - mae: 11.2268 - mse: 192.6079 - val_loss: 10.8394 - val_mae: 10.8394 - val_mse: 174.5016\n",
            "Epoch 528/600\n",
            "13/13 [==============================] - 0s 5ms/step - loss: 11.2213 - mae: 11.2213 - mse: 192.6928 - val_loss: 10.8882 - val_mae: 10.8882 - val_mse: 176.7613\n",
            "Epoch 529/600\n",
            "13/13 [==============================] - 0s 4ms/step - loss: 11.2179 - mae: 11.2179 - mse: 192.5669 - val_loss: 10.8402 - val_mae: 10.8402 - val_mse: 174.5433\n",
            "Epoch 530/600\n",
            "13/13 [==============================] - 0s 4ms/step - loss: 11.2165 - mae: 11.2165 - mse: 192.3520 - val_loss: 10.8552 - val_mae: 10.8552 - val_mse: 175.1775\n",
            "Epoch 531/600\n",
            "13/13 [==============================] - 0s 4ms/step - loss: 11.2140 - mae: 11.2140 - mse: 192.4104 - val_loss: 10.8657 - val_mae: 10.8657 - val_mse: 175.6484\n",
            "Epoch 532/600\n",
            "13/13 [==============================] - 0s 3ms/step - loss: 11.2143 - mae: 11.2143 - mse: 192.5018 - val_loss: 10.8852 - val_mae: 10.8852 - val_mse: 176.6126\n",
            "Epoch 533/600\n",
            "13/13 [==============================] - 0s 3ms/step - loss: 11.2269 - mae: 11.2269 - mse: 193.5212 - val_loss: 10.9017 - val_mae: 10.9017 - val_mse: 177.3598\n",
            "Epoch 534/600\n",
            "13/13 [==============================] - 0s 6ms/step - loss: 11.2191 - mae: 11.2191 - mse: 192.5292 - val_loss: 10.8397 - val_mae: 10.8397 - val_mse: 174.5251\n",
            "Epoch 535/600\n",
            "13/13 [==============================] - 0s 4ms/step - loss: 11.2182 - mae: 11.2182 - mse: 192.1939 - val_loss: 10.8335 - val_mae: 10.8335 - val_mse: 174.2237\n",
            "Epoch 536/600\n",
            "13/13 [==============================] - 0s 4ms/step - loss: 11.2246 - mae: 11.2246 - mse: 192.1013 - val_loss: 10.8252 - val_mae: 10.8252 - val_mse: 173.8500\n",
            "Epoch 537/600\n",
            "13/13 [==============================] - 0s 4ms/step - loss: 11.2223 - mae: 11.2223 - mse: 192.4059 - val_loss: 10.8557 - val_mae: 10.8557 - val_mse: 175.2079\n",
            "Epoch 538/600\n",
            "13/13 [==============================] - 0s 6ms/step - loss: 11.2106 - mae: 11.2106 - mse: 192.2914 - val_loss: 10.8705 - val_mae: 10.8705 - val_mse: 175.8840\n",
            "Epoch 539/600\n",
            "13/13 [==============================] - 0s 4ms/step - loss: 11.2878 - mae: 11.2878 - mse: 195.8143 - val_loss: 10.9664 - val_mae: 10.9664 - val_mse: 179.9975\n",
            "Epoch 540/600\n",
            "13/13 [==============================] - 0s 4ms/step - loss: 11.2471 - mae: 11.2471 - mse: 192.9409 - val_loss: 10.8454 - val_mae: 10.8454 - val_mse: 174.7796\n",
            "Epoch 541/600\n",
            "13/13 [==============================] - 0s 4ms/step - loss: 11.2236 - mae: 11.2236 - mse: 192.3536 - val_loss: 10.8378 - val_mae: 10.8378 - val_mse: 174.4393\n",
            "Epoch 542/600\n",
            "13/13 [==============================] - 0s 3ms/step - loss: 11.2241 - mae: 11.2241 - mse: 192.8626 - val_loss: 10.8756 - val_mae: 10.8756 - val_mse: 176.1374\n",
            "Epoch 543/600\n",
            "13/13 [==============================] - 0s 4ms/step - loss: 11.2119 - mae: 11.2119 - mse: 192.4889 - val_loss: 10.8573 - val_mae: 10.8573 - val_mse: 175.2827\n",
            "Epoch 544/600\n",
            "13/13 [==============================] - 0s 3ms/step - loss: 11.2165 - mae: 11.2165 - mse: 192.6442 - val_loss: 10.8777 - val_mae: 10.8777 - val_mse: 176.2464\n",
            "Epoch 545/600\n",
            "13/13 [==============================] - 0s 3ms/step - loss: 11.2384 - mae: 11.2384 - mse: 193.4915 - val_loss: 10.8907 - val_mae: 10.8907 - val_mse: 176.8815\n",
            "Epoch 546/600\n",
            "13/13 [==============================] - 0s 4ms/step - loss: 11.2186 - mae: 11.2186 - mse: 192.7872 - val_loss: 10.8480 - val_mae: 10.8480 - val_mse: 174.8885\n",
            "Epoch 547/600\n",
            "13/13 [==============================] - 0s 4ms/step - loss: 11.2140 - mae: 11.2140 - mse: 192.2447 - val_loss: 10.8494 - val_mae: 10.8494 - val_mse: 174.9473\n",
            "Epoch 548/600\n",
            "13/13 [==============================] - 0s 4ms/step - loss: 11.2178 - mae: 11.2178 - mse: 192.4137 - val_loss: 10.8668 - val_mae: 10.8668 - val_mse: 175.7176\n",
            "Epoch 549/600\n",
            "13/13 [==============================] - 0s 4ms/step - loss: 11.2364 - mae: 11.2364 - mse: 192.8591 - val_loss: 10.8692 - val_mae: 10.8692 - val_mse: 175.8334\n",
            "Epoch 550/600\n",
            "13/13 [==============================] - 0s 4ms/step - loss: 11.2119 - mae: 11.2119 - mse: 192.4251 - val_loss: 10.8553 - val_mae: 10.8553 - val_mse: 175.2013\n",
            "Epoch 551/600\n",
            "13/13 [==============================] - 0s 4ms/step - loss: 11.2154 - mae: 11.2154 - mse: 192.1902 - val_loss: 10.8394 - val_mae: 10.8394 - val_mse: 174.5356\n",
            "Epoch 552/600\n",
            "13/13 [==============================] - 0s 5ms/step - loss: 11.2292 - mae: 11.2292 - mse: 192.8357 - val_loss: 10.8805 - val_mae: 10.8805 - val_mse: 176.4029\n",
            "Epoch 553/600\n",
            "13/13 [==============================] - 0s 4ms/step - loss: 11.2132 - mae: 11.2132 - mse: 192.5263 - val_loss: 10.8596 - val_mae: 10.8596 - val_mse: 175.3954\n",
            "Epoch 554/600\n",
            "13/13 [==============================] - 0s 3ms/step - loss: 11.2199 - mae: 11.2199 - mse: 192.6819 - val_loss: 10.8731 - val_mae: 10.8731 - val_mse: 176.0326\n",
            "Epoch 555/600\n",
            "13/13 [==============================] - 0s 3ms/step - loss: 11.2129 - mae: 11.2129 - mse: 192.5083 - val_loss: 10.8618 - val_mae: 10.8618 - val_mse: 175.4942\n",
            "Epoch 556/600\n",
            "13/13 [==============================] - 0s 3ms/step - loss: 11.2186 - mae: 11.2186 - mse: 193.0823 - val_loss: 10.9035 - val_mae: 10.9035 - val_mse: 177.4689\n",
            "Epoch 557/600\n",
            "13/13 [==============================] - 0s 3ms/step - loss: 11.2234 - mae: 11.2234 - mse: 193.0798 - val_loss: 10.8773 - val_mae: 10.8773 - val_mse: 176.2433\n",
            "Epoch 558/600\n",
            "13/13 [==============================] - 0s 5ms/step - loss: 11.2152 - mae: 11.2152 - mse: 193.1044 - val_loss: 10.8940 - val_mae: 10.8940 - val_mse: 177.0419\n",
            "Epoch 559/600\n",
            "13/13 [==============================] - 0s 4ms/step - loss: 11.2146 - mae: 11.2146 - mse: 192.9607 - val_loss: 10.8934 - val_mae: 10.8934 - val_mse: 177.0122\n",
            "Epoch 560/600\n",
            "13/13 [==============================] - 0s 4ms/step - loss: 11.2248 - mae: 11.2248 - mse: 192.6147 - val_loss: 10.8388 - val_mae: 10.8388 - val_mse: 174.5187\n",
            "Epoch 561/600\n",
            "13/13 [==============================] - 0s 4ms/step - loss: 11.2179 - mae: 11.2179 - mse: 192.3186 - val_loss: 10.8535 - val_mae: 10.8535 - val_mse: 175.1329\n",
            "Epoch 562/600\n",
            "13/13 [==============================] - 0s 4ms/step - loss: 11.2130 - mae: 11.2130 - mse: 192.4277 - val_loss: 10.8959 - val_mae: 10.8959 - val_mse: 177.1281\n",
            "Epoch 563/600\n",
            "13/13 [==============================] - 0s 4ms/step - loss: 11.2122 - mae: 11.2122 - mse: 192.9936 - val_loss: 10.8834 - val_mae: 10.8834 - val_mse: 176.5740\n",
            "Epoch 564/600\n",
            "13/13 [==============================] - 0s 4ms/step - loss: 11.2111 - mae: 11.2111 - mse: 192.6046 - val_loss: 10.8634 - val_mae: 10.8634 - val_mse: 175.5774\n",
            "Epoch 565/600\n",
            "13/13 [==============================] - 0s 3ms/step - loss: 11.2127 - mae: 11.2127 - mse: 192.3748 - val_loss: 10.8548 - val_mae: 10.8548 - val_mse: 175.1948\n",
            "Epoch 566/600\n",
            "13/13 [==============================] - 0s 4ms/step - loss: 11.2311 - mae: 11.2311 - mse: 192.2820 - val_loss: 10.8457 - val_mae: 10.8457 - val_mse: 174.8069\n",
            "Epoch 567/600\n",
            "13/13 [==============================] - 0s 3ms/step - loss: 11.2201 - mae: 11.2201 - mse: 192.3390 - val_loss: 10.8604 - val_mae: 10.8604 - val_mse: 175.4434\n",
            "Epoch 568/600\n",
            "13/13 [==============================] - 0s 3ms/step - loss: 11.2096 - mae: 11.2096 - mse: 192.2377 - val_loss: 10.8422 - val_mae: 10.8422 - val_mse: 174.6675\n",
            "Epoch 569/600\n",
            "13/13 [==============================] - 0s 4ms/step - loss: 11.2168 - mae: 11.2168 - mse: 192.4240 - val_loss: 10.8725 - val_mae: 10.8725 - val_mse: 176.0221\n",
            "Epoch 570/600\n",
            "13/13 [==============================] - 0s 4ms/step - loss: 11.2252 - mae: 11.2252 - mse: 192.6294 - val_loss: 10.8307 - val_mae: 10.8307 - val_mse: 174.1280\n",
            "Epoch 571/600\n",
            "13/13 [==============================] - 0s 5ms/step - loss: 11.2098 - mae: 11.2098 - mse: 192.4745 - val_loss: 10.8753 - val_mae: 10.8753 - val_mse: 176.1680\n",
            "Epoch 572/600\n",
            "13/13 [==============================] - 0s 3ms/step - loss: 11.2241 - mae: 11.2241 - mse: 192.6328 - val_loss: 10.8565 - val_mae: 10.8565 - val_mse: 175.2746\n",
            "Epoch 573/600\n",
            "13/13 [==============================] - 0s 4ms/step - loss: 11.2598 - mae: 11.2598 - mse: 194.4371 - val_loss: 10.9297 - val_mae: 10.9297 - val_mse: 178.5417\n",
            "Epoch 574/600\n",
            "13/13 [==============================] - 0s 4ms/step - loss: 11.2109 - mae: 11.2109 - mse: 193.0959 - val_loss: 10.8720 - val_mae: 10.8720 - val_mse: 176.0083\n",
            "Epoch 575/600\n",
            "13/13 [==============================] - 0s 4ms/step - loss: 11.2122 - mae: 11.2122 - mse: 192.5807 - val_loss: 10.8607 - val_mae: 10.8607 - val_mse: 175.4672\n",
            "Epoch 576/600\n",
            "13/13 [==============================] - 0s 5ms/step - loss: 11.2737 - mae: 11.2737 - mse: 193.4441 - val_loss: 10.8008 - val_mae: 10.8008 - val_mse: 172.9652\n",
            "Epoch 577/600\n",
            "13/13 [==============================] - 0s 5ms/step - loss: 11.2235 - mae: 11.2235 - mse: 192.0299 - val_loss: 10.8455 - val_mae: 10.8455 - val_mse: 174.8080\n",
            "Epoch 578/600\n",
            "13/13 [==============================] - 0s 3ms/step - loss: 11.2118 - mae: 11.2118 - mse: 193.0559 - val_loss: 10.9027 - val_mae: 10.9027 - val_mse: 177.4454\n",
            "Epoch 579/600\n",
            "13/13 [==============================] - 0s 4ms/step - loss: 11.2225 - mae: 11.2225 - mse: 193.5551 - val_loss: 10.8875 - val_mae: 10.8875 - val_mse: 176.7759\n",
            "Epoch 580/600\n",
            "13/13 [==============================] - 0s 4ms/step - loss: 11.2059 - mae: 11.2059 - mse: 192.3827 - val_loss: 10.8474 - val_mae: 10.8474 - val_mse: 174.8878\n",
            "Epoch 581/600\n",
            "13/13 [==============================] - 0s 4ms/step - loss: 11.2151 - mae: 11.2151 - mse: 192.0786 - val_loss: 10.8317 - val_mae: 10.8317 - val_mse: 174.1937\n",
            "Epoch 582/600\n",
            "13/13 [==============================] - 0s 3ms/step - loss: 11.2091 - mae: 11.2091 - mse: 192.0756 - val_loss: 10.8634 - val_mae: 10.8634 - val_mse: 175.6007\n",
            "Epoch 583/600\n",
            "13/13 [==============================] - 0s 4ms/step - loss: 11.2280 - mae: 11.2280 - mse: 193.3095 - val_loss: 10.9152 - val_mae: 10.9152 - val_mse: 177.9455\n",
            "Epoch 584/600\n",
            "13/13 [==============================] - 0s 4ms/step - loss: 11.2339 - mae: 11.2339 - mse: 193.3125 - val_loss: 10.8344 - val_mae: 10.8344 - val_mse: 174.3293\n",
            "Epoch 585/600\n",
            "13/13 [==============================] - 0s 4ms/step - loss: 11.2184 - mae: 11.2184 - mse: 191.9665 - val_loss: 10.8224 - val_mae: 10.8224 - val_mse: 173.7671\n",
            "Epoch 586/600\n",
            "13/13 [==============================] - 0s 4ms/step - loss: 11.2307 - mae: 11.2307 - mse: 193.2156 - val_loss: 10.8933 - val_mae: 10.8933 - val_mse: 177.0385\n",
            "Epoch 587/600\n",
            "13/13 [==============================] - 0s 3ms/step - loss: 11.2225 - mae: 11.2225 - mse: 193.3526 - val_loss: 10.9147 - val_mae: 10.9147 - val_mse: 177.9256\n",
            "Epoch 588/600\n",
            "13/13 [==============================] - 0s 3ms/step - loss: 11.2229 - mae: 11.2229 - mse: 192.5924 - val_loss: 10.8439 - val_mae: 10.8439 - val_mse: 174.7484\n",
            "Epoch 589/600\n",
            "13/13 [==============================] - 0s 4ms/step - loss: 11.2148 - mae: 11.2148 - mse: 192.3235 - val_loss: 10.8632 - val_mae: 10.8632 - val_mse: 175.6028\n",
            "Epoch 590/600\n",
            "13/13 [==============================] - 0s 5ms/step - loss: 11.2184 - mae: 11.2184 - mse: 192.6086 - val_loss: 10.8982 - val_mae: 10.8982 - val_mse: 177.2634\n",
            "Epoch 591/600\n",
            "13/13 [==============================] - 0s 4ms/step - loss: 11.2296 - mae: 11.2296 - mse: 192.9826 - val_loss: 10.8741 - val_mae: 10.8741 - val_mse: 176.1356\n",
            "Epoch 592/600\n",
            "13/13 [==============================] - 0s 5ms/step - loss: 11.2076 - mae: 11.2076 - mse: 192.4799 - val_loss: 10.8638 - val_mae: 10.8638 - val_mse: 175.6316\n",
            "Epoch 593/600\n",
            "13/13 [==============================] - 0s 4ms/step - loss: 11.2075 - mae: 11.2075 - mse: 192.3097 - val_loss: 10.8574 - val_mae: 10.8574 - val_mse: 175.3393\n",
            "Epoch 594/600\n",
            "13/13 [==============================] - 0s 4ms/step - loss: 11.2166 - mae: 11.2166 - mse: 192.8702 - val_loss: 10.9098 - val_mae: 10.9098 - val_mse: 177.7298\n",
            "Epoch 595/600\n",
            "13/13 [==============================] - 0s 3ms/step - loss: 11.2143 - mae: 11.2143 - mse: 193.2778 - val_loss: 10.8748 - val_mae: 10.8748 - val_mse: 176.1800\n",
            "Epoch 596/600\n",
            "13/13 [==============================] - 0s 4ms/step - loss: 11.2080 - mae: 11.2080 - mse: 191.9337 - val_loss: 10.8301 - val_mae: 10.8301 - val_mse: 174.1332\n",
            "Epoch 597/600\n",
            "13/13 [==============================] - 0s 5ms/step - loss: 11.2123 - mae: 11.2123 - mse: 191.8997 - val_loss: 10.8331 - val_mae: 10.8331 - val_mse: 174.2847\n",
            "Epoch 598/600\n",
            "13/13 [==============================] - 0s 4ms/step - loss: 11.2175 - mae: 11.2175 - mse: 192.1169 - val_loss: 10.8336 - val_mae: 10.8336 - val_mse: 174.3087\n",
            "Epoch 599/600\n",
            "13/13 [==============================] - 0s 4ms/step - loss: 11.2103 - mae: 11.2103 - mse: 192.0331 - val_loss: 10.8617 - val_mae: 10.8617 - val_mse: 175.5445\n",
            "Epoch 600/600\n",
            "13/13 [==============================] - 0s 4ms/step - loss: 11.2121 - mae: 11.2121 - mse: 192.6689 - val_loss: 10.8861 - val_mae: 10.8861 - val_mse: 176.7351\n"
          ],
          "name": "stdout"
        }
      ]
    },
    {
      "cell_type": "code",
      "metadata": {
        "colab": {
          "base_uri": "https://localhost:8080/"
        },
        "id": "7Naj7L0w-7jW",
        "outputId": "2473d16c-4c1f-4858-aaed-0b5d87b83afc"
      },
      "source": [
        "print(history)"
      ],
      "execution_count": 33,
      "outputs": [
        {
          "output_type": "stream",
          "text": [
            "<tensorflow.python.keras.callbacks.History object at 0x7fad51c73890>\n"
          ],
          "name": "stdout"
        }
      ]
    },
    {
      "cell_type": "code",
      "metadata": {
        "colab": {
          "base_uri": "https://localhost:8080/"
        },
        "id": "YPRbkJ0x-8tR",
        "outputId": "b681aa46-ef38-4024-e216-a17f1f59a203"
      },
      "source": [
        "model.summary()"
      ],
      "execution_count": 34,
      "outputs": [
        {
          "output_type": "stream",
          "text": [
            "Model: \"sequential\"\n",
            "_________________________________________________________________\n",
            "Layer (type)                 Output Shape              Param #   \n",
            "=================================================================\n",
            "dense (Dense)                (None, 6)                 12        \n",
            "_________________________________________________________________\n",
            "dense_1 (Dense)              (None, 1)                 7         \n",
            "=================================================================\n",
            "Total params: 19\n",
            "Trainable params: 19\n",
            "Non-trainable params: 0\n",
            "_________________________________________________________________\n"
          ],
          "name": "stdout"
        }
      ]
    },
    {
      "cell_type": "code",
      "metadata": {
        "colab": {
          "base_uri": "https://localhost:8080/",
          "height": 1000
        },
        "id": "R-RO5mvlAaxi",
        "outputId": "6c2055a2-0f0f-4b5c-f05f-96c69d7ad6ed"
      },
      "source": [
        "# tempString = 'mse'\n",
        "def curvePlots(tempString):\n",
        "  plt.plot(history.history[tempString])\n",
        "  plt.plot(history.history[f'val_{tempString}'])\n",
        "  plt.xlabel('NumEpochs')\n",
        "  plt.ylabel(tempString)\n",
        "  plt.legend([tempString, f'val_{tempString}'])\n",
        "  plt.show()\n",
        "\n",
        "\n",
        "curvePlots('mse')\n",
        "curvePlots('mae')\n",
        "curvePlots('loss')"
      ],
      "execution_count": 35,
      "outputs": [
        {
          "output_type": "display_data",
          "data": {
            "image/png": "[encoded data removed]",
            "text/plain": [
              "<Figure size 576x396 with 1 Axes>"
            ]
          },
          "metadata": {
            "tags": []
          }
        },
        {
          "output_type": "display_data",
          "data": {
            "image/png": "[encoded data removed]",
            "text/plain": [
              "<Figure size 576x396 with 1 Axes>"
            ]
          },
          "metadata": {
            "tags": []
          }
        },
        {
          "output_type": "display_data",
          "data": {
            "image/png": "[encoded data removed]",
            "text/plain": [
              "<Figure size 576x396 with 1 Axes>"
            ]
          },
          "metadata": {
            "tags": []
          }
        }
      ]
    },
    {
      "cell_type": "code",
      "metadata": {
        "colab": {
          "base_uri": "https://localhost:8080/"
        },
        "id": "r5ud2BfzBLWi",
        "outputId": "645293e5-c2c2-481a-d1dc-64e00d202e34"
      },
      "source": [
        "model.predict([77.2])"
      ],
      "execution_count": 36,
      "outputs": [
        {
          "output_type": "execute_result",
          "data": {
            "text/plain": [
              "array([[208.92967]], dtype=float32)"
            ]
          },
          "metadata": {
            "tags": []
          },
          "execution_count": 36
        }
      ]
    },
    {
      "cell_type": "code",
      "metadata": {
        "id": "8LtRcZY5BjSD"
      },
      "source": [
        "testPreds = model.predict(testFeatures)\n",
        "testPreds_Array=testPreds.flatten() #array of all prediction values"
      ],
      "execution_count": 37,
      "outputs": []
    },
    {
      "cell_type": "code",
      "metadata": {
        "colab": {
          "base_uri": "https://localhost:8080/"
        },
        "id": "ogmo8gy3Bl06",
        "outputId": "c039dd01-0117-422c-c25c-253c74fefb7c"
      },
      "source": [
        "print(len(testPreds_Array))\n",
        "print(testPreds_Array)"
      ],
      "execution_count": 38,
      "outputs": [
        {
          "output_type": "stream",
          "text": [
            "100\n",
            "[171.62805 184.35063 182.38889 200.33621 193.53572 178.00847 173.9288\n",
            " 176.55107 195.28496 182.14351 191.48993 187.45961 188.47527 199.77255\n",
            " 178.42174 186.54231 184.62321 176.46072 187.79077 185.94913 199.39005\n",
            " 184.80533 194.01761 185.91713 191.56349 187.50102 178.00558 192.10736\n",
            " 176.76839 181.88051 176.13898 184.44699 178.70825 184.62721 184.45024\n",
            " 180.13864 184.73877 188.6519  196.98541 195.6162  205.52197 203.3408\n",
            " 174.22014 190.26938 181.91342 186.8133  191.21387 184.58704 172.13713\n",
            " 192.08347 175.63098 191.90971 195.51949 179.17316 184.05421 191.54575\n",
            " 202.377   192.28368 187.58089 182.2671  194.18779 176.59364 191.88995\n",
            " 194.11671 180.56882 190.48315 186.7274  190.7204  180.59991 187.00134\n",
            " 193.99423 181.91661 185.10202 186.37755 184.73195 184.00044 181.96852\n",
            " 178.02919 188.54604 191.05917 195.43399 178.34799 185.45486 183.7069\n",
            " 181.5514  172.21455 187.28537 178.59859 186.88484 188.51689 197.42628\n",
            " 194.69849 181.18303 185.25708 180.5993  186.6536  195.93059 176.99687\n",
            " 192.66988 192.31944]\n"
          ],
          "name": "stdout"
        }
      ]
    },
    {
      "cell_type": "code",
      "metadata": {
        "colab": {
          "base_uri": "https://localhost:8080/",
          "height": 361
        },
        "id": "D3GwZkABBn6D",
        "outputId": "a1dcd8ee-8295-42c6-c940-2cd486f47d8a"
      },
      "source": [
        "# prediciton plot --> how well is your model predicting across the actual labels\n",
        "\n",
        "def predPlot(labels, predictions):\n",
        "  plt.scatter(labels, predictions)\n",
        "  plt.ylabel('Predictions')\n",
        "  plt.xlabel('True Value or Labels')\n",
        "  plt.axis('equal')\n",
        "  plt.axis('square')\n",
        "  plt.xlim([0, plt.xlim()[1]])\n",
        "  plt.ylim([0, plt.ylim()[1]])\n",
        "  plt.show()\n",
        "\n",
        "predPlot(testLabels, testPreds_Array)"
      ],
      "execution_count": 39,
      "outputs": [
        {
          "output_type": "display_data",
          "data": {
            "image/png": "[encoded data removed]",
            "text/plain": [
              "<Figure size 576x396 with 1 Axes>"
            ]
          },
          "metadata": {
            "tags": []
          }
        }
      ]
    },
    {
      "cell_type": "code",
      "metadata": {
        "colab": {
          "base_uri": "https://localhost:8080/",
          "height": 361
        },
        "id": "AKg26JRzBv77",
        "outputId": "97587d91-4d94-4800-92d2-a381314febf5"
      },
      "source": [
        "\n",
        "#error plot --> gaussian distribution \n",
        "\n",
        "def errorPlot(preds, labels, counts):\n",
        "  errors = preds - labels\n",
        "  plt.hist(errors, counts)\n",
        "  plt.xlabel('Error')\n",
        "  plt.ylabel('Counts')\n",
        "  plt.show()\n",
        "\n",
        "errorPlot(testPreds_Array, testLabels, numEpochs)"
      ],
      "execution_count": 40,
      "outputs": [
        {
          "output_type": "display_data",
          "data": {
            "image/png": "[encoded data removed]",
            "text/plain": [
              "<Figure size 576x396 with 1 Axes>"
            ]
          },
          "metadata": {
            "tags": []
          }
        }
      ]
    },
    {
      "cell_type": "markdown",
      "metadata": {
        "id": "M5zZPXA3CPVs"
      },
      "source": [
        "# Using Other models on the dataset"
      ]
    },
    {
      "cell_type": "markdown",
      "metadata": {
        "id": "CGoUFjUHCR_u"
      },
      "source": [
        "## Simple Linear Regression"
      ]
    },
    {
      "cell_type": "code",
      "metadata": {
        "colab": {
          "base_uri": "https://localhost:8080/"
        },
        "id": "HPz14SBoCJn3",
        "outputId": "36523181-eb18-43bd-80ad-2a199a56ad74"
      },
      "source": [
        "from sklearn.linear_model import LinearRegression\n",
        "regressor = LinearRegression()\n",
        "regressor.fit(trainFeatures, trainLabels)"
      ],
      "execution_count": 41,
      "outputs": [
        {
          "output_type": "execute_result",
          "data": {
            "text/plain": [
              "LinearRegression(copy_X=True, fit_intercept=True, n_jobs=None, normalize=False)"
            ]
          },
          "metadata": {
            "tags": []
          },
          "execution_count": 41
        }
      ]
    },
    {
      "cell_type": "code",
      "metadata": {
        "id": "NE5DdkRbCWcM"
      },
      "source": [
        "testPreds_LR = regressor.predict(testFeatures)\n",
        "testPreds_LR_Array=testPreds_LR.flatten()   #Flattening to 1d array"
      ],
      "execution_count": 42,
      "outputs": []
    },
    {
      "cell_type": "code",
      "metadata": {
        "colab": {
          "base_uri": "https://localhost:8080/",
          "height": 376
        },
        "id": "aNsnKV-iCXHa",
        "outputId": "496b01bd-45e2-419a-d5ac-e682fb426a34"
      },
      "source": [
        "plt.grid(True)\n",
        "plt.scatter(testFeatures, testLabels, color = 'red')\n",
        "plt.plot(trainFeatures, regressor.predict(trainFeatures), color = 'blue')\n",
        "plt.title('G1 Vs G3 (Test set)')\n",
        "plt.xlabel('G1')\n",
        "plt.ylabel('G3')\n",
        "plt.show()"
      ],
      "execution_count": 43,
      "outputs": [
        {
          "output_type": "display_data",
          "data": {
            "image/png": "[encoded data removed]",
            "text/plain": [
              "<Figure size 576x396 with 1 Axes>"
            ]
          },
          "metadata": {
            "tags": []
          }
        }
      ]
    },
    {
      "cell_type": "markdown",
      "metadata": {
        "id": "vN-EituMF9cE"
      },
      "source": [
        "#Support Vector Machine"
      ]
    },
    {
      "cell_type": "code",
      "metadata": {
        "colab": {
          "base_uri": "https://localhost:8080/"
        },
        "id": "PSufi2WzF-OU",
        "outputId": "b2723b04-1555-48e4-9376-58ab1f56ca7b"
      },
      "source": [
        "from sklearn.svm import SVR\n",
        "SVM_regressor = SVR(kernel = 'rbf')\n",
        "SVM_regressor.fit(trainFeatures, trainLabels)"
      ],
      "execution_count": 44,
      "outputs": [
        {
          "output_type": "execute_result",
          "data": {
            "text/plain": [
              "SVR(C=1.0, cache_size=200, coef0=0.0, degree=3, epsilon=0.1, gamma='scale',\n",
              "    kernel='rbf', max_iter=-1, shrinking=True, tol=0.001, verbose=False)"
            ]
          },
          "metadata": {
            "tags": []
          },
          "execution_count": 44
        }
      ]
    },
    {
      "cell_type": "code",
      "metadata": {
        "id": "d4zQVo89GA2t"
      },
      "source": [
        "testPreds_SVM=SVM_regressor.predict(testFeatures)\n",
        "testPreds_SVM_Array=testPreds_SVM.flatten()"
      ],
      "execution_count": 45,
      "outputs": []
    },
    {
      "cell_type": "code",
      "metadata": {
        "colab": {
          "base_uri": "https://localhost:8080/"
        },
        "id": "EFN3Ox5xGC2-",
        "outputId": "e0df8202-395b-4bcb-e99e-f5ecccce5e5a"
      },
      "source": [
        "CompareModels_df=pd.DataFrame({'testLabels':testLabels,'testPreds':testPreds_Array,'testPreds_LR':testPreds_LR_Array,'testPreds_SVM':testPreds_SVM_Array})\n",
        "print(CompareModels_df.head(15))"
      ],
      "execution_count": 46,
      "outputs": [
        {
          "output_type": "stream",
          "text": [
            "    testLabels   testPreds  testPreds_LR  testPreds_SVM\n",
            "9   156.399676  171.628052    154.261263     168.690299\n",
            "25  192.343977  184.350632    182.534349     182.130680\n",
            "28  175.213922  182.388885    178.174808     176.977416\n",
            "31  212.910225  200.336212    218.058772     208.414757\n",
            "32  195.032243  193.535721    202.946192     201.194730\n",
            "38  163.851825  178.008469    168.440342     168.873780\n",
            "39  163.108017  173.928802    159.374164     167.352368\n",
            "42  168.617746  176.551071    165.201584     167.670971\n",
            "47  209.070863  195.284958    206.833479     203.967716\n",
            "53  181.407679  182.143509    177.629488     176.373930\n",
            "57  192.124847  191.489929    198.399875     197.924805\n",
            "70  184.595608  187.459610    189.443343     190.168517\n",
            "72  177.200929  188.475266    191.700438     192.425933\n",
            "82  237.916736  199.772552    216.806138     208.446641\n",
            "84  160.683917  178.421738    169.358717     169.357372\n"
          ],
          "name": "stdout"
        }
      ]
    },
    {
      "cell_type": "code",
      "metadata": {
        "colab": {
          "base_uri": "https://localhost:8080/"
        },
        "id": "AfsrYqvSGJ7e",
        "outputId": "7503c320-efef-49c2-bbc5-5575d0245fac"
      },
      "source": [
        "Errors_df=pd.DataFrame({'PerceptronError':abs(testLabels-testPreds_Array),'LR_Error':abs(testLabels-testPreds_LR_Array),'SVM_Error':abs(testLabels-testPreds_SVM_Array)})\n",
        "print(Errors_df.head(15))"
      ],
      "execution_count": 47,
      "outputs": [
        {
          "output_type": "stream",
          "text": [
            "    PerceptronError   LR_Error  SVM_Error\n",
            "9         15.228375   2.138414  12.290623\n",
            "25         7.993345   9.809627  10.213297\n",
            "28         7.174963   2.960886   1.763494\n",
            "31        12.574013   5.148547   4.495468\n",
            "32         1.496522   7.913949   6.162487\n",
            "38        14.156644   4.588517   5.021956\n",
            "39        10.820785   3.733853   4.244350\n",
            "42         7.933325   3.416162   0.946775\n",
            "47        13.785906   2.237385   5.103148\n",
            "53         0.735830   3.778192   5.033750\n",
            "57         0.634918   6.275028   5.799957\n",
            "70         2.864002   4.847734   5.572909\n",
            "72        11.274337  14.499509  15.225004\n",
            "82        38.144183  21.110598  29.470095\n",
            "84        17.737821   8.674801   8.673456\n"
          ],
          "name": "stdout"
        }
      ]
    },
    {
      "cell_type": "markdown",
      "metadata": {
        "id": "cs32WxRZGPrC"
      },
      "source": [
        "# Rsquared test"
      ]
    },
    {
      "cell_type": "code",
      "metadata": {
        "colab": {
          "base_uri": "https://localhost:8080/"
        },
        "id": "iuTMHehuGQUv",
        "outputId": "db6ec9dc-dd67-4379-fef6-5a4a0ba6ec0d"
      },
      "source": [
        "r2_score_LR=regressor.score(testFeatures,testLabels)\n",
        "print(r2_score_LR*100)"
      ],
      "execution_count": 48,
      "outputs": [
        {
          "output_type": "stream",
          "text": [
            "69.894516942171\n"
          ],
          "name": "stdout"
        }
      ]
    },
    {
      "cell_type": "code",
      "metadata": {
        "colab": {
          "base_uri": "https://localhost:8080/"
        },
        "id": "e9dHM0gXGTmp",
        "outputId": "d75241eb-4821-4b86-d29b-b5dc58044117"
      },
      "source": [
        "r2_score_SVM=SVM_regressor.score(testFeatures,testLabels)\n",
        "print(r2_score_SVM*100)"
      ],
      "execution_count": 49,
      "outputs": [
        {
          "output_type": "stream",
          "text": [
            "61.22648934303421\n"
          ],
          "name": "stdout"
        }
      ]
    },
    {
      "cell_type": "markdown",
      "metadata": {
        "id": "kBauAKyjGdzE"
      },
      "source": [
        "` The model is performing well on Simple Linear Regression then SVM`"
      ]
    },
    {
      "cell_type": "markdown",
      "metadata": {
        "id": "zNu6GXDxI2Nu"
      },
      "source": [
        "``` Predicting the target value with a single feature is insufficient and the loss is too high which can't be minimized in anyway ```\n",
        "###### Multiple Features are must to train a good model. Hence on the above dataset I can't find anything that I can Improve."
      ]
    }
  ]
}