{
  "nbformat": 4,
  "nbformat_minor": 0,
  "metadata": {
    "colab": {
      "name": "3.2_Univariate.ipynb",
      "provenance": [],
      "authorship_tag": "ABX9TyNwBtMT0LzMtf4i0TrG35AQ",
      "include_colab_link": true
    },
    "kernelspec": {
      "name": "python3",
      "display_name": "Python 3"
    },
    "language_info": {
      "name": "python"
    }
  },
  "cells": [
    {
      "cell_type": "markdown",
      "metadata": {
        "id": "view-in-github",
        "colab_type": "text"
      },
      "source": [
        "<a href=\"https://colab.research.google.com/github/SaiVamshiKatkuri/MLnow_2.0/blob/main/3_2_Univariate.ipynb\" target=\"_parent\"><img src=\"https://colab.research.google.com/assets/colab-badge.svg\" alt=\"Open In Colab\"/></a>"
      ]
    },
    {
      "cell_type": "markdown",
      "metadata": {
        "id": "B5I4gy6-23i5"
      },
      "source": [
        "**Topic**: `Univariate Linear Regression`\n",
        "\n",
        "[Link to download the Dataset](https://www.kaggle.com/mustafaali96/weight-height?select=weight-height.csv)\n",
        "\n",
        "**Date Created** :June 11,2021\n",
        "\n",
        "**AUTHOR**: Sai Vamshi Katkuri\n",
        "[Assessment Repository](https://github.com/SaiVamshiKatkuri/MLnow_2.0)\n",
        "\n",
        "**Reach out** :[Email](https://mail.google.com/mail/u/0/?tab=rm&ogbl#inbox) | [Linkedin](https://www.linkedin.com/in/katkuri-sai-vamshi-2209281a8/) | [Github](https://github.com/SaiVamshiKatkuri)\n",
        "\n",
        "\n",
        "\n"
      ]
    },
    {
      "cell_type": "markdown",
      "metadata": {
        "id": "2SYirMvuZp-S"
      },
      "source": [
        "## EDA and Univariate Modelling"
      ]
    },
    {
      "cell_type": "markdown",
      "metadata": {
        "id": "8wjWHQnBZvNt"
      },
      "source": [
        "## SETUP"
      ]
    },
    {
      "cell_type": "code",
      "metadata": {
        "colab": {
          "base_uri": "https://localhost:8080/"
        },
        "id": "YKAsxUQEbBPX",
        "outputId": "b698d41e-bdac-462f-9f34-501284e5f5d5"
      },
      "source": [
        "from google.colab import drive\n",
        "drive.mount('/content/drive')"
      ],
      "execution_count": 1,
      "outputs": [
        {
          "output_type": "stream",
          "text": [
            "Mounted at /content/drive\n"
          ],
          "name": "stdout"
        }
      ]
    },
    {
      "cell_type": "code",
      "metadata": {
        "colab": {
          "base_uri": "https://localhost:8080/"
        },
        "id": "MWcsqM2bbSRI",
        "outputId": "446a0278-1615-431f-e2ac-ec2d7572448b"
      },
      "source": [
        "cd '/content/drive/MyDrive/Datasets'"
      ],
      "execution_count": 2,
      "outputs": [
        {
          "output_type": "stream",
          "text": [
            "/content/drive/MyDrive/Datasets\n"
          ],
          "name": "stdout"
        }
      ]
    },
    {
      "cell_type": "code",
      "metadata": {
        "colab": {
          "base_uri": "https://localhost:8080/"
        },
        "id": "PHygaOE6bYIh",
        "outputId": "06f05cba-fc35-4494-a891-51e773398abb"
      },
      "source": [
        "ls -a"
      ],
      "execution_count": null,
      "outputs": [
        {
          "output_type": "stream",
          "text": [
            "Churn_Modelling.csv  student-por.csv            w-h.csv\n",
            "student-mat.csv      univariate_MathData_2.csv\n"
          ],
          "name": "stdout"
        }
      ]
    },
    {
      "cell_type": "markdown",
      "metadata": {
        "id": "kyKNZVwLbdup"
      },
      "source": [
        "###We're  going to work on `w-h.csv (Weight-Height)`"
      ]
    },
    {
      "cell_type": "markdown",
      "metadata": {
        "id": "4g5D4mxSb4AI"
      },
      "source": [
        "## Data Preprocessing"
      ]
    },
    {
      "cell_type": "code",
      "metadata": {
        "id": "b0FUVxNsb7VW"
      },
      "source": [
        "# Import necessary libraries\n",
        "import pandas as pd                    # For handling csv files(constructs dataframes)\n",
        "import numpy as np                     # For scientific computations as well as hanlding arrays,vectors,tensors\n",
        "import matplotlib.pyplot as plt        # For visualisation of Data\n",
        "import seaborn as sns                  # For visualisation with different plots \n",
        "import tensorflow as tf                # Framework\n"
      ],
      "execution_count": 3,
      "outputs": []
    },
    {
      "cell_type": "code",
      "metadata": {
        "id": "tWttOhaxctSe"
      },
      "source": [
        "dataset=pd.read_csv('w-h.csv')         # Reading the csv and creates a dataframe\n"
      ],
      "execution_count": 5,
      "outputs": []
    },
    {
      "cell_type": "code",
      "metadata": {
        "colab": {
          "base_uri": "https://localhost:8080/"
        },
        "id": "DE4x-za7dEy7",
        "outputId": "2c34b845-a88f-4078-cce7-54986c5ee625"
      },
      "source": [
        "dataset.info()"
      ],
      "execution_count": 6,
      "outputs": [
        {
          "output_type": "stream",
          "text": [
            "<class 'pandas.core.frame.DataFrame'>\n",
            "RangeIndex: 5000 entries, 0 to 4999\n",
            "Data columns (total 4 columns):\n",
            " #   Column      Non-Null Count  Dtype  \n",
            "---  ------      --------------  -----  \n",
            " 0   Unnamed: 0  5000 non-null   int64  \n",
            " 1   Gender      5000 non-null   object \n",
            " 2   Height      5000 non-null   float64\n",
            " 3   Weight      5000 non-null   float64\n",
            "dtypes: float64(2), int64(1), object(1)\n",
            "memory usage: 156.4+ KB\n"
          ],
          "name": "stdout"
        }
      ]
    },
    {
      "cell_type": "code",
      "metadata": {
        "colab": {
          "base_uri": "https://localhost:8080/"
        },
        "id": "YXkOc-sFdNX4",
        "outputId": "61ea723b-de00-4275-e8d0-538a495ee31d"
      },
      "source": [
        "dataset.shape                         # Shape of the Dataset"
      ],
      "execution_count": 7,
      "outputs": [
        {
          "output_type": "execute_result",
          "data": {
            "text/plain": [
              "(5000, 4)"
            ]
          },
          "metadata": {
            "tags": []
          },
          "execution_count": 7
        }
      ]
    },
    {
      "cell_type": "code",
      "metadata": {
        "id": "Rm7yjbGSFjYp"
      },
      "source": [
        "dataset=dataset.iloc[0:500,0:]        # Adjusting the samples from 5000 to 500"
      ],
      "execution_count": 8,
      "outputs": []
    },
    {
      "cell_type": "code",
      "metadata": {
        "colab": {
          "base_uri": "https://localhost:8080/",
          "height": 362
        },
        "id": "-GBt11XLdXjD",
        "outputId": "b11cc836-da8f-4017-a599-541a0ea08d57"
      },
      "source": [
        "dataset.head(10)                      # Prints 10 rows from the top"
      ],
      "execution_count": 9,
      "outputs": [
        {
          "output_type": "execute_result",
          "data": {
            "text/html": [
              "<div>\n",
              "<style scoped>\n",
              "    .dataframe tbody tr th:only-of-type {\n",
              "        vertical-align: middle;\n",
              "    }\n",
              "\n",
              "    .dataframe tbody tr th {\n",
              "        vertical-align: top;\n",
              "    }\n",
              "\n",
              "    .dataframe thead th {\n",
              "        text-align: right;\n",
              "    }\n",
              "</style>\n",
              "<table border=\"1\" class=\"dataframe\">\n",
              "  <thead>\n",
              "    <tr style=\"text-align: right;\">\n",
              "      <th></th>\n",
              "      <th>Unnamed: 0</th>\n",
              "      <th>Gender</th>\n",
              "      <th>Height</th>\n",
              "      <th>Weight</th>\n",
              "    </tr>\n",
              "  </thead>\n",
              "  <tbody>\n",
              "    <tr>\n",
              "      <th>0</th>\n",
              "      <td>0</td>\n",
              "      <td>Male</td>\n",
              "      <td>73.847017</td>\n",
              "      <td>241.893563</td>\n",
              "    </tr>\n",
              "    <tr>\n",
              "      <th>1</th>\n",
              "      <td>1</td>\n",
              "      <td>Male</td>\n",
              "      <td>68.781904</td>\n",
              "      <td>162.310473</td>\n",
              "    </tr>\n",
              "    <tr>\n",
              "      <th>2</th>\n",
              "      <td>2</td>\n",
              "      <td>Male</td>\n",
              "      <td>74.110105</td>\n",
              "      <td>212.740856</td>\n",
              "    </tr>\n",
              "    <tr>\n",
              "      <th>3</th>\n",
              "      <td>3</td>\n",
              "      <td>Male</td>\n",
              "      <td>71.730978</td>\n",
              "      <td>220.042470</td>\n",
              "    </tr>\n",
              "    <tr>\n",
              "      <th>4</th>\n",
              "      <td>4</td>\n",
              "      <td>Male</td>\n",
              "      <td>69.881796</td>\n",
              "      <td>206.349801</td>\n",
              "    </tr>\n",
              "    <tr>\n",
              "      <th>5</th>\n",
              "      <td>5</td>\n",
              "      <td>Male</td>\n",
              "      <td>67.253016</td>\n",
              "      <td>152.212156</td>\n",
              "    </tr>\n",
              "    <tr>\n",
              "      <th>6</th>\n",
              "      <td>6</td>\n",
              "      <td>Male</td>\n",
              "      <td>68.785081</td>\n",
              "      <td>183.927889</td>\n",
              "    </tr>\n",
              "    <tr>\n",
              "      <th>7</th>\n",
              "      <td>7</td>\n",
              "      <td>Male</td>\n",
              "      <td>68.348516</td>\n",
              "      <td>167.971110</td>\n",
              "    </tr>\n",
              "    <tr>\n",
              "      <th>8</th>\n",
              "      <td>8</td>\n",
              "      <td>Male</td>\n",
              "      <td>67.018950</td>\n",
              "      <td>175.929440</td>\n",
              "    </tr>\n",
              "    <tr>\n",
              "      <th>9</th>\n",
              "      <td>9</td>\n",
              "      <td>Male</td>\n",
              "      <td>63.456494</td>\n",
              "      <td>156.399676</td>\n",
              "    </tr>\n",
              "  </tbody>\n",
              "</table>\n",
              "</div>"
            ],
            "text/plain": [
              "   Unnamed: 0 Gender     Height      Weight\n",
              "0           0   Male  73.847017  241.893563\n",
              "1           1   Male  68.781904  162.310473\n",
              "2           2   Male  74.110105  212.740856\n",
              "3           3   Male  71.730978  220.042470\n",
              "4           4   Male  69.881796  206.349801\n",
              "5           5   Male  67.253016  152.212156\n",
              "6           6   Male  68.785081  183.927889\n",
              "7           7   Male  68.348516  167.971110\n",
              "8           8   Male  67.018950  175.929440\n",
              "9           9   Male  63.456494  156.399676"
            ]
          },
          "metadata": {
            "tags": []
          },
          "execution_count": 9
        }
      ]
    },
    {
      "cell_type": "code",
      "metadata": {
        "colab": {
          "base_uri": "https://localhost:8080/",
          "height": 362
        },
        "id": "BtAyKmLqddfj",
        "outputId": "6b3a713f-6920-4a55-e042-ff73707ebaa6"
      },
      "source": [
        "dataset.tail(10)                         # Prints ten rows from the bottom"
      ],
      "execution_count": 10,
      "outputs": [
        {
          "output_type": "execute_result",
          "data": {
            "text/html": [
              "<div>\n",
              "<style scoped>\n",
              "    .dataframe tbody tr th:only-of-type {\n",
              "        vertical-align: middle;\n",
              "    }\n",
              "\n",
              "    .dataframe tbody tr th {\n",
              "        vertical-align: top;\n",
              "    }\n",
              "\n",
              "    .dataframe thead th {\n",
              "        text-align: right;\n",
              "    }\n",
              "</style>\n",
              "<table border=\"1\" class=\"dataframe\">\n",
              "  <thead>\n",
              "    <tr style=\"text-align: right;\">\n",
              "      <th></th>\n",
              "      <th>Unnamed: 0</th>\n",
              "      <th>Gender</th>\n",
              "      <th>Height</th>\n",
              "      <th>Weight</th>\n",
              "    </tr>\n",
              "  </thead>\n",
              "  <tbody>\n",
              "    <tr>\n",
              "      <th>490</th>\n",
              "      <td>490</td>\n",
              "      <td>Male</td>\n",
              "      <td>68.792984</td>\n",
              "      <td>174.489486</td>\n",
              "    </tr>\n",
              "    <tr>\n",
              "      <th>491</th>\n",
              "      <td>491</td>\n",
              "      <td>Male</td>\n",
              "      <td>68.445747</td>\n",
              "      <td>183.783383</td>\n",
              "    </tr>\n",
              "    <tr>\n",
              "      <th>492</th>\n",
              "      <td>492</td>\n",
              "      <td>Male</td>\n",
              "      <td>69.201578</td>\n",
              "      <td>188.103506</td>\n",
              "    </tr>\n",
              "    <tr>\n",
              "      <th>493</th>\n",
              "      <td>493</td>\n",
              "      <td>Male</td>\n",
              "      <td>69.426017</td>\n",
              "      <td>176.193430</td>\n",
              "    </tr>\n",
              "    <tr>\n",
              "      <th>494</th>\n",
              "      <td>494</td>\n",
              "      <td>Male</td>\n",
              "      <td>69.606225</td>\n",
              "      <td>194.200712</td>\n",
              "    </tr>\n",
              "    <tr>\n",
              "      <th>495</th>\n",
              "      <td>495</td>\n",
              "      <td>Male</td>\n",
              "      <td>72.881707</td>\n",
              "      <td>194.199509</td>\n",
              "    </tr>\n",
              "    <tr>\n",
              "      <th>496</th>\n",
              "      <td>496</td>\n",
              "      <td>Male</td>\n",
              "      <td>62.178331</td>\n",
              "      <td>145.898842</td>\n",
              "    </tr>\n",
              "    <tr>\n",
              "      <th>497</th>\n",
              "      <td>497</td>\n",
              "      <td>Male</td>\n",
              "      <td>68.874707</td>\n",
              "      <td>191.833709</td>\n",
              "    </tr>\n",
              "    <tr>\n",
              "      <th>498</th>\n",
              "      <td>498</td>\n",
              "      <td>Male</td>\n",
              "      <td>71.080084</td>\n",
              "      <td>209.853554</td>\n",
              "    </tr>\n",
              "    <tr>\n",
              "      <th>499</th>\n",
              "      <td>499</td>\n",
              "      <td>Male</td>\n",
              "      <td>72.182534</td>\n",
              "      <td>201.261464</td>\n",
              "    </tr>\n",
              "  </tbody>\n",
              "</table>\n",
              "</div>"
            ],
            "text/plain": [
              "     Unnamed: 0 Gender     Height      Weight\n",
              "490         490   Male  68.792984  174.489486\n",
              "491         491   Male  68.445747  183.783383\n",
              "492         492   Male  69.201578  188.103506\n",
              "493         493   Male  69.426017  176.193430\n",
              "494         494   Male  69.606225  194.200712\n",
              "495         495   Male  72.881707  194.199509\n",
              "496         496   Male  62.178331  145.898842\n",
              "497         497   Male  68.874707  191.833709\n",
              "498         498   Male  71.080084  209.853554\n",
              "499         499   Male  72.182534  201.261464"
            ]
          },
          "metadata": {
            "tags": []
          },
          "execution_count": 10
        }
      ]
    },
    {
      "cell_type": "code",
      "metadata": {
        "id": "Lg1ghHxVdhlT"
      },
      "source": [
        "dataset.columns = ['S.no','Gender','Height','Weight']              #  Renaming columns"
      ],
      "execution_count": 11,
      "outputs": []
    },
    {
      "cell_type": "code",
      "metadata": {
        "colab": {
          "base_uri": "https://localhost:8080/"
        },
        "id": "skEpRxivefEQ",
        "outputId": "2d2d429f-9df0-4185-fa5f-48f4fd9881bb"
      },
      "source": [
        "print(f\"There are {len(dataset.columns)} columns in the dataset\")  # Finding number of  cols\n",
        "print(dataset.columns)"
      ],
      "execution_count": 12,
      "outputs": [
        {
          "output_type": "stream",
          "text": [
            "There are 4 columns in the dataset\n",
            "Index(['S.no', 'Gender', 'Height', 'Weight'], dtype='object')\n"
          ],
          "name": "stdout"
        }
      ]
    },
    {
      "cell_type": "code",
      "metadata": {
        "id": "GaO_Q1okejCq"
      },
      "source": [
        "dataset=dataset.drop(['S.no','Gender'],axis=1)                     # Dropping Unnecessary cols"
      ],
      "execution_count": 13,
      "outputs": []
    },
    {
      "cell_type": "code",
      "metadata": {
        "colab": {
          "base_uri": "https://localhost:8080/",
          "height": 299
        },
        "id": "euQNPkFuer7b",
        "outputId": "25ea65d9-55eb-40bc-a790-7d8f2aa47251"
      },
      "source": [
        "dataset.iloc[:,1:].describe()                                      # Basic analysis over the dataset"
      ],
      "execution_count": 14,
      "outputs": [
        {
          "output_type": "execute_result",
          "data": {
            "text/html": [
              "<div>\n",
              "<style scoped>\n",
              "    .dataframe tbody tr th:only-of-type {\n",
              "        vertical-align: middle;\n",
              "    }\n",
              "\n",
              "    .dataframe tbody tr th {\n",
              "        vertical-align: top;\n",
              "    }\n",
              "\n",
              "    .dataframe thead th {\n",
              "        text-align: right;\n",
              "    }\n",
              "</style>\n",
              "<table border=\"1\" class=\"dataframe\">\n",
              "  <thead>\n",
              "    <tr style=\"text-align: right;\">\n",
              "      <th></th>\n",
              "      <th>Weight</th>\n",
              "    </tr>\n",
              "  </thead>\n",
              "  <tbody>\n",
              "    <tr>\n",
              "      <th>count</th>\n",
              "      <td>500.000000</td>\n",
              "    </tr>\n",
              "    <tr>\n",
              "      <th>mean</th>\n",
              "      <td>187.141335</td>\n",
              "    </tr>\n",
              "    <tr>\n",
              "      <th>std</th>\n",
              "      <td>19.305476</td>\n",
              "    </tr>\n",
              "    <tr>\n",
              "      <th>min</th>\n",
              "      <td>135.655876</td>\n",
              "    </tr>\n",
              "    <tr>\n",
              "      <th>25%</th>\n",
              "      <td>173.027386</td>\n",
              "    </tr>\n",
              "    <tr>\n",
              "      <th>50%</th>\n",
              "      <td>186.885972</td>\n",
              "    </tr>\n",
              "    <tr>\n",
              "      <th>75%</th>\n",
              "      <td>200.038625</td>\n",
              "    </tr>\n",
              "    <tr>\n",
              "      <th>max</th>\n",
              "      <td>241.893563</td>\n",
              "    </tr>\n",
              "  </tbody>\n",
              "</table>\n",
              "</div>"
            ],
            "text/plain": [
              "           Weight\n",
              "count  500.000000\n",
              "mean   187.141335\n",
              "std     19.305476\n",
              "min    135.655876\n",
              "25%    173.027386\n",
              "50%    186.885972\n",
              "75%    200.038625\n",
              "max    241.893563"
            ]
          },
          "metadata": {
            "tags": []
          },
          "execution_count": 14
        }
      ]
    },
    {
      "cell_type": "code",
      "metadata": {
        "colab": {
          "base_uri": "https://localhost:8080/"
        },
        "id": "xbNdApQ6gkug",
        "outputId": "565ab169-14bf-4391-ecef-a24fce45d1bc"
      },
      "source": [
        "dataset.isnull().sum()                                              # Checking Null values"
      ],
      "execution_count": 15,
      "outputs": [
        {
          "output_type": "execute_result",
          "data": {
            "text/plain": [
              "Height    0\n",
              "Weight    0\n",
              "dtype: int64"
            ]
          },
          "metadata": {
            "tags": []
          },
          "execution_count": 15
        }
      ]
    },
    {
      "cell_type": "markdown",
      "metadata": {
        "id": "1EQmZJFKg_xl"
      },
      "source": [
        "## Data Visualisation"
      ]
    },
    {
      "cell_type": "markdown",
      "metadata": {
        "id": "-Jhfl7e0HRan"
      },
      "source": [
        "**Scatter Plot**"
      ]
    },
    {
      "cell_type": "code",
      "metadata": {
        "colab": {
          "base_uri": "https://localhost:8080/",
          "height": 322
        },
        "id": "sshQCNHthCgI",
        "outputId": "2f117b95-63c9-472a-8833-860c4edacfcd"
      },
      "source": [
        "plt.grid(True)\n",
        "font = {'family': 'serif',\n",
        "        'color':  'darkred',\n",
        "        'weight': 'normal',\n",
        "        'size': 16,\n",
        "        }\n",
        "plt.scatter(dataset['Height'],dataset['Weight'],s=40,color='cornflowerblue')\n",
        "plt.title('Height vs Weight',fontdict=font)\n",
        "plt.xlabel('Height',fontdict=font)\n",
        "plt.ylabel('Weight',fontdict=font)\n",
        "plt.figure(figsize=(40,40))\n",
        "plt.show()"
      ],
      "execution_count": 16,
      "outputs": [
        {
          "output_type": "display_data",
          "data": {
            "image/png": "[encoded data removed]",
            "text/plain": [
              "<Figure size 432x288 with 1 Axes>"
            ]
          },
          "metadata": {
            "tags": [],
            "needs_background": "light"
          }
        },
        {
          "output_type": "display_data",
          "data": {
            "text/plain": [
              "<Figure size 2880x2880 with 0 Axes>"
            ]
          },
          "metadata": {
            "tags": []
          }
        }
      ]
    },
    {
      "cell_type": "code",
      "metadata": {
        "colab": {
          "base_uri": "https://localhost:8080/",
          "height": 157
        },
        "id": "_pfXMB9ljMBZ",
        "outputId": "db98c6b2-527c-4e0c-c763-b7d9bfaef0f2"
      },
      "source": [
        "sns.palplot(sns.color_palette('PuOr')) #Purple to Orange colors\n",
        "pal = sns.color_palette('PuOr', 6) #print 6 color shades from Purple to Orange\n",
        "pal.as_hex() #set hex code values for colors\n",
        "\n",
        "import matplotlib.pyplot as plt\n",
        "plt.style.use(['seaborn'])\n",
        "sns_colors = ['#c6690c', '#664697'] #orange Purple hex codes\n",
        "sns.set_palette(sns_colors) #set the palette as sns_colors \n",
        "sns.palplot(sns.color_palette(sns_colors)) #plot the color codes"
      ],
      "execution_count": 17,
      "outputs": [
        {
          "output_type": "display_data",
          "data": {
            "image/png": "[encoded data removed]",
            "text/plain": [
              "<Figure size 432x72 with 1 Axes>"
            ]
          },
          "metadata": {
            "tags": [],
            "needs_background": "light"
          }
        },
        {
          "output_type": "display_data",
          "data": {
            "image/png": "[encoded data removed]",
            "text/plain": [
              "<Figure size 144x72 with 1 Axes>"
            ]
          },
          "metadata": {
            "tags": []
          }
        }
      ]
    },
    {
      "cell_type": "markdown",
      "metadata": {
        "id": "acAh7thzHYyk"
      },
      "source": [
        "**Pair Plot**"
      ]
    },
    {
      "cell_type": "code",
      "metadata": {
        "colab": {
          "base_uri": "https://localhost:8080/",
          "height": 461
        },
        "id": "xzeU092_jaJv",
        "outputId": "6d3acfc7-e469-4935-f0a0-9ccf440cbf60"
      },
      "source": [
        "\n",
        "sns.pairplot(dataset,x_vars=['Height','Weight'],y_vars=['Height','Weight'],diag_kind='kde',palette=\"hls\",height=3)\n"
      ],
      "execution_count": 18,
      "outputs": [
        {
          "output_type": "execute_result",
          "data": {
            "text/plain": [
              "<seaborn.axisgrid.PairGrid at 0x7efd9ca5c7d0>"
            ]
          },
          "metadata": {
            "tags": []
          },
          "execution_count": 18
        },
        {
          "output_type": "display_data",
          "data": {
            "image/png": "[encoded data removed]",
            "text/plain": [
              "<Figure size 432x432 with 6 Axes>"
            ]
          },
          "metadata": {
            "tags": []
          }
        }
      ]
    },
    {
      "cell_type": "markdown",
      "metadata": {
        "id": "_ZTZIUzVHba8"
      },
      "source": [
        "**Box Plot**"
      ]
    },
    {
      "cell_type": "code",
      "metadata": {
        "id": "BIiIUEKyphym",
        "colab": {
          "base_uri": "https://localhost:8080/",
          "height": 347
        },
        "outputId": "da17d7e9-9cc5-4d43-9458-cac0e0d86b2b"
      },
      "source": [
        "\n",
        "sns.boxplot(y=dataset['Weight'],palette='muted')"
      ],
      "execution_count": 19,
      "outputs": [
        {
          "output_type": "execute_result",
          "data": {
            "text/plain": [
              "<matplotlib.axes._subplots.AxesSubplot at 0x7efd90d74350>"
            ]
          },
          "metadata": {
            "tags": []
          },
          "execution_count": 19
        },
        {
          "output_type": "display_data",
          "data": {
            "image/png": "[encoded data removed]",
            "text/plain": [
              "<Figure size 576x396 with 1 Axes>"
            ]
          },
          "metadata": {
            "tags": []
          }
        }
      ]
    },
    {
      "cell_type": "markdown",
      "metadata": {
        "id": "fMxF3PwQHgNv"
      },
      "source": [
        "**Violin Plot**"
      ]
    },
    {
      "cell_type": "code",
      "metadata": {
        "colab": {
          "base_uri": "https://localhost:8080/",
          "height": 349
        },
        "id": "RD5uOn9v4I4W",
        "outputId": "08174670-4d09-4baf-aa95-715e638675d2"
      },
      "source": [
        "sns.violinplot(y=dataset[\"Weight\"])"
      ],
      "execution_count": 20,
      "outputs": [
        {
          "output_type": "execute_result",
          "data": {
            "text/plain": [
              "<matplotlib.axes._subplots.AxesSubplot at 0x7efd8f4c8490>"
            ]
          },
          "metadata": {
            "tags": []
          },
          "execution_count": 20
        },
        {
          "output_type": "display_data",
          "data": {
            "image/png": "[encoded data removed]",
            "text/plain": [
              "<Figure size 576x396 with 1 Axes>"
            ]
          },
          "metadata": {
            "tags": []
          }
        }
      ]
    },
    {
      "cell_type": "code",
      "metadata": {
        "colab": {
          "base_uri": "https://localhost:8080/",
          "height": 112
        },
        "id": "uFFle0z95Ej3",
        "outputId": "0c8a3746-c115-49f3-f77c-3fa15a35741f"
      },
      "source": [
        "dataset.corr()                                          # Finding the correlation b/w variables"
      ],
      "execution_count": 21,
      "outputs": [
        {
          "output_type": "execute_result",
          "data": {
            "text/html": [
              "<div>\n",
              "<style scoped>\n",
              "    .dataframe tbody tr th:only-of-type {\n",
              "        vertical-align: middle;\n",
              "    }\n",
              "\n",
              "    .dataframe tbody tr th {\n",
              "        vertical-align: top;\n",
              "    }\n",
              "\n",
              "    .dataframe thead th {\n",
              "        text-align: right;\n",
              "    }\n",
              "</style>\n",
              "<table border=\"1\" class=\"dataframe\">\n",
              "  <thead>\n",
              "    <tr style=\"text-align: right;\">\n",
              "      <th></th>\n",
              "      <th>Height</th>\n",
              "      <th>Weight</th>\n",
              "    </tr>\n",
              "  </thead>\n",
              "  <tbody>\n",
              "    <tr>\n",
              "      <th>Height</th>\n",
              "      <td>1.000000</td>\n",
              "      <td>0.837903</td>\n",
              "    </tr>\n",
              "    <tr>\n",
              "      <th>Weight</th>\n",
              "      <td>0.837903</td>\n",
              "      <td>1.000000</td>\n",
              "    </tr>\n",
              "  </tbody>\n",
              "</table>\n",
              "</div>"
            ],
            "text/plain": [
              "          Height    Weight\n",
              "Height  1.000000  0.837903\n",
              "Weight  0.837903  1.000000"
            ]
          },
          "metadata": {
            "tags": []
          },
          "execution_count": 21
        }
      ]
    },
    {
      "cell_type": "markdown",
      "metadata": {
        "id": "zud5kwPDHpD_"
      },
      "source": [
        "**Heat Map**"
      ]
    },
    {
      "cell_type": "code",
      "metadata": {
        "colab": {
          "base_uri": "https://localhost:8080/",
          "height": 368
        },
        "id": "qr53vel55rAr",
        "outputId": "48837f1d-d0f8-41a5-d683-2545a57e5adc"
      },
      "source": [
        "sns.heatmap(dataset.corr(),annot=True,cmap=\"PuBuGn\")"
      ],
      "execution_count": 22,
      "outputs": [
        {
          "output_type": "execute_result",
          "data": {
            "text/plain": [
              "<matplotlib.axes._subplots.AxesSubplot at 0x7efd8f4a5210>"
            ]
          },
          "metadata": {
            "tags": []
          },
          "execution_count": 22
        },
        {
          "output_type": "display_data",
          "data": {
            "image/png": "[encoded data removed]",
            "text/plain": [
              "<Figure size 576x396 with 2 Axes>"
            ]
          },
          "metadata": {
            "tags": []
          }
        }
      ]
    },
    {
      "cell_type": "markdown",
      "metadata": {
        "id": "i_z8EB7lJg2I"
      },
      "source": [
        "*There exists a positive correlation between the variables `Height` and `Weight`*"
      ]
    },
    {
      "cell_type": "markdown",
      "metadata": {
        "id": "b4RDbxMJ6tb6"
      },
      "source": [
        "# Data Split"
      ]
    },
    {
      "cell_type": "code",
      "metadata": {
        "id": "5BcSCeOJ6PLF"
      },
      "source": [
        "trainDataset = dataset.sample(frac=0.8, random_state=0)                                  # Dividing datasets into parts (80% and 20%)\n",
        "testDataset = dataset.drop(trainDataset.index)\n"
      ],
      "execution_count": 65,
      "outputs": []
    },
    {
      "cell_type": "code",
      "metadata": {
        "colab": {
          "base_uri": "https://localhost:8080/"
        },
        "id": "9nNzrsNc7AfD",
        "outputId": "e1649222-a826-46e0-bbb8-50e943d04bbb"
      },
      "source": [
        "print(f'After split the number of samples in trainDataset {trainDataset.shape[0]}')      # Counting the samples\n",
        "print(f'After split the number of samples in testDataset {testDataset.shape[0]}')"
      ],
      "execution_count": 66,
      "outputs": [
        {
          "output_type": "stream",
          "text": [
            "After split the number of samples in trainDataset 400\n",
            "After split the number of samples in testDataset 100\n"
          ],
          "name": "stdout"
        }
      ]
    },
    {
      "cell_type": "code",
      "metadata": {
        "colab": {
          "base_uri": "https://localhost:8080/"
        },
        "id": "HurN4GVS8mFZ",
        "outputId": "4697ac15-192a-4370-ff40-69d88897a4a6"
      },
      "source": [
        "trainFeatures = trainDataset.copy()\n",
        "testFeatures = testDataset.copy()\n",
        "\n",
        "print(trainFeatures.head())\n",
        "print(testFeatures.head())"
      ],
      "execution_count": 67,
      "outputs": [
        {
          "output_type": "stream",
          "text": [
            "        Height      Weight\n",
            "90   71.815420  201.620667\n",
            "254  69.164381  196.892315\n",
            "283  66.414882  155.194772\n",
            "445  71.433376  216.634000\n",
            "461  66.676781  183.197307\n",
            "       Height      Weight\n",
            "9   63.456494  156.399676\n",
            "25  68.144033  192.343977\n",
            "28  67.421242  175.213922\n",
            "31  74.033808  212.910225\n",
            "32  71.528216  195.032243\n"
          ],
          "name": "stdout"
        }
      ]
    },
    {
      "cell_type": "code",
      "metadata": {
        "colab": {
          "base_uri": "https://localhost:8080/"
        },
        "id": "HzWMWklJ8o9Q",
        "outputId": "cb8fd88b-0c2f-4782-ea40-a66c80412ae5"
      },
      "source": [
        "trainLabels = trainFeatures.pop('Weight')\n",
        "testLabels = testFeatures.pop('Weight')\n",
        "\n",
        "print(trainLabels.head())\n",
        "print(testLabels.head())"
      ],
      "execution_count": 68,
      "outputs": [
        {
          "output_type": "stream",
          "text": [
            "90     201.620667\n",
            "254    196.892315\n",
            "283    155.194772\n",
            "445    216.634000\n",
            "461    183.197307\n",
            "Name: Weight, dtype: float64\n",
            "9     156.399676\n",
            "25    192.343977\n",
            "28    175.213922\n",
            "31    212.910225\n",
            "32    195.032243\n",
            "Name: Weight, dtype: float64\n"
          ],
          "name": "stdout"
        }
      ]
    },
    {
      "cell_type": "code",
      "metadata": {
        "colab": {
          "base_uri": "https://localhost:8080/"
        },
        "id": "Tvz6-pjB7_Is",
        "outputId": "2864dc19-5cba-44fb-afdb-8cfd01f6d87c"
      },
      "source": [
        "print(trainLabels.describe())\n"
      ],
      "execution_count": 69,
      "outputs": [
        {
          "output_type": "stream",
          "text": [
            "count    400.000000\n",
            "mean     186.853132\n",
            "std       19.441716\n",
            "min      135.655876\n",
            "25%      172.746315\n",
            "50%      186.346299\n",
            "75%      199.938897\n",
            "max      241.893563\n",
            "Name: Weight, dtype: float64\n"
          ],
          "name": "stdout"
        }
      ]
    },
    {
      "cell_type": "code",
      "metadata": {
        "id": "MbTR6IajTnso",
        "outputId": "53509d6d-c2dd-41bd-b9a2-614f76f3145a",
        "colab": {
          "base_uri": "https://localhost:8080/"
        }
      },
      "source": [
        "trainLabels_Original=trainLabels.copy()    #Lets store the original values as we're going to feature scale the column\n",
        "print(trainLabels_Original.head())\n",
        "testLabels_Original=testLabels.copy()\n",
        "print(testLabels_Original.head())"
      ],
      "execution_count": 70,
      "outputs": [
        {
          "output_type": "stream",
          "text": [
            "90     201.620667\n",
            "254    196.892315\n",
            "283    155.194772\n",
            "445    216.634000\n",
            "461    183.197307\n",
            "Name: Weight, dtype: float64\n",
            "9     156.399676\n",
            "25    192.343977\n",
            "28    175.213922\n",
            "31    212.910225\n",
            "32    195.032243\n",
            "Name: Weight, dtype: float64\n"
          ],
          "name": "stdout"
        }
      ]
    },
    {
      "cell_type": "markdown",
      "metadata": {
        "id": "6TksS_DiVXZy"
      },
      "source": [
        "###Feature Scaling"
      ]
    },
    {
      "cell_type": "code",
      "metadata": {
        "id": "yG6D2tAyJ5UW"
      },
      "source": [
        "from sklearn.preprocessing import StandardScaler\n",
        "sc = StandardScaler()\n",
        "trainFeatures = sc.fit_transform(trainFeatures)\n",
        "testFeatures = sc.transform(testFeatures)\n",
        "sc_Labels=StandardScaler()\n",
        "trainLabels=sc_Labels.fit_transform(trainLabels.values.reshape(-1,1))\n",
        "\n",
        "testLabels=sc_Labels.transform(testLabels.values.reshape(-1,1))"
      ],
      "execution_count": 71,
      "outputs": []
    },
    {
      "cell_type": "markdown",
      "metadata": {
        "id": "Jkbq7cSxH9NT"
      },
      "source": [
        "### Training a Perceptron"
      ]
    },
    {
      "cell_type": "code",
      "metadata": {
        "id": "sgK73w-79UrP"
      },
      "source": [
        "model=tf.keras.models.Sequential()"
      ],
      "execution_count": 41,
      "outputs": []
    },
    {
      "cell_type": "code",
      "metadata": {
        "id": "S4G7XrB89bmV"
      },
      "source": [
        "model.add(tf.keras.layers.Dense(units=6, activation='relu'))   # Adding a hidden layer"
      ],
      "execution_count": 42,
      "outputs": []
    },
    {
      "cell_type": "code",
      "metadata": {
        "id": "orOao82K9juC"
      },
      "source": [
        "model.add(tf.keras.layers.Dense(units=1))"
      ],
      "execution_count": 43,
      "outputs": []
    },
    {
      "cell_type": "code",
      "metadata": {
        "id": "5oflf1eJ90Q2"
      },
      "source": [
        "model.compile(\n",
        "    loss = 'mean_absolute_error', #minimizing the MAE loss\n",
        "    optimizer = tf.keras.optimizers.Adam(0.001), #learning rate specified as 0.001\n",
        "    # optimizer = 'adam', #takes the default learning rate\n",
        "    metrics = ['mae', 'mse'] #meanSquare and meanAbsolute error metrics\n",
        ")"
      ],
      "execution_count": 44,
      "outputs": []
    },
    {
      "cell_type": "code",
      "metadata": {
        "colab": {
          "base_uri": "https://localhost:8080/"
        },
        "id": "pXedvHW59-gc",
        "outputId": "d7968f3d-b93a-4584-db0e-639c87a1b29f"
      },
      "source": [
        "numEpochs = 600\n",
        "history = model.fit(x = trainFeatures, y = trainLabels, validation_data = (testFeatures, testLabels),epochs = numEpochs)"
      ],
      "execution_count": 45,
      "outputs": [
        {
          "output_type": "stream",
          "text": [
            "Epoch 1/600\n",
            "13/13 [==============================] - 1s 19ms/step - loss: 1.1523 - mae: 1.1523 - mse: 2.0777 - val_loss: 1.0976 - val_mae: 1.0976 - val_mse: 2.0140\n",
            "Epoch 2/600\n",
            "13/13 [==============================] - 0s 3ms/step - loss: 1.1159 - mae: 1.1159 - mse: 1.9541 - val_loss: 1.0666 - val_mae: 1.0666 - val_mse: 1.9009\n",
            "Epoch 3/600\n",
            "13/13 [==============================] - 0s 3ms/step - loss: 1.0823 - mae: 1.0823 - mse: 1.8480 - val_loss: 1.0359 - val_mae: 1.0359 - val_mse: 1.7909\n",
            "Epoch 4/600\n",
            "13/13 [==============================] - 0s 3ms/step - loss: 1.0484 - mae: 1.0484 - mse: 1.7401 - val_loss: 1.0065 - val_mae: 1.0065 - val_mse: 1.6916\n",
            "Epoch 5/600\n",
            "13/13 [==============================] - 0s 3ms/step - loss: 1.0165 - mae: 1.0165 - mse: 1.6446 - val_loss: 0.9775 - val_mae: 0.9775 - val_mse: 1.5961\n",
            "Epoch 6/600\n",
            "13/13 [==============================] - 0s 4ms/step - loss: 0.9859 - mae: 0.9859 - mse: 1.5529 - val_loss: 0.9486 - val_mae: 0.9486 - val_mse: 1.5057\n",
            "Epoch 7/600\n",
            "13/13 [==============================] - 0s 3ms/step - loss: 0.9547 - mae: 0.9547 - mse: 1.4631 - val_loss: 0.9214 - val_mae: 0.9214 - val_mse: 1.4258\n",
            "Epoch 8/600\n",
            "13/13 [==============================] - 0s 3ms/step - loss: 0.9258 - mae: 0.9258 - mse: 1.3840 - val_loss: 0.8933 - val_mae: 0.8933 - val_mse: 1.3462\n",
            "Epoch 9/600\n",
            "13/13 [==============================] - 0s 6ms/step - loss: 0.8973 - mae: 0.8973 - mse: 1.3073 - val_loss: 0.8657 - val_mae: 0.8657 - val_mse: 1.2710\n",
            "Epoch 10/600\n",
            "13/13 [==============================] - 0s 4ms/step - loss: 0.8695 - mae: 0.8695 - mse: 1.2327 - val_loss: 0.8397 - val_mae: 0.8397 - val_mse: 1.2021\n",
            "Epoch 11/600\n",
            "13/13 [==============================] - 0s 3ms/step - loss: 0.8427 - mae: 0.8427 - mse: 1.1619 - val_loss: 0.8139 - val_mae: 0.8139 - val_mse: 1.1362\n",
            "Epoch 12/600\n",
            "13/13 [==============================] - 0s 3ms/step - loss: 0.8170 - mae: 0.8170 - mse: 1.0966 - val_loss: 0.7881 - val_mae: 0.7881 - val_mse: 1.0702\n",
            "Epoch 13/600\n",
            "13/13 [==============================] - 0s 3ms/step - loss: 0.7908 - mae: 0.7908 - mse: 1.0318 - val_loss: 0.7638 - val_mae: 0.7638 - val_mse: 1.0060\n",
            "Epoch 14/600\n",
            "13/13 [==============================] - 0s 3ms/step - loss: 0.7645 - mae: 0.7645 - mse: 0.9679 - val_loss: 0.7404 - val_mae: 0.7404 - val_mse: 0.9482\n",
            "Epoch 15/600\n",
            "13/13 [==============================] - 0s 3ms/step - loss: 0.7403 - mae: 0.7403 - mse: 0.9102 - val_loss: 0.7172 - val_mae: 0.7172 - val_mse: 0.8906\n",
            "Epoch 16/600\n",
            "13/13 [==============================] - 0s 3ms/step - loss: 0.7164 - mae: 0.7164 - mse: 0.8556 - val_loss: 0.6964 - val_mae: 0.6964 - val_mse: 0.8383\n",
            "Epoch 17/600\n",
            "13/13 [==============================] - 0s 3ms/step - loss: 0.6930 - mae: 0.6930 - mse: 0.8002 - val_loss: 0.6754 - val_mae: 0.6754 - val_mse: 0.7870\n",
            "Epoch 18/600\n",
            "13/13 [==============================] - 0s 4ms/step - loss: 0.6702 - mae: 0.6702 - mse: 0.7510 - val_loss: 0.6554 - val_mae: 0.6554 - val_mse: 0.7382\n",
            "Epoch 19/600\n",
            "13/13 [==============================] - 0s 3ms/step - loss: 0.6477 - mae: 0.6477 - mse: 0.7017 - val_loss: 0.6365 - val_mae: 0.6365 - val_mse: 0.6934\n",
            "Epoch 20/600\n",
            "13/13 [==============================] - 0s 4ms/step - loss: 0.6264 - mae: 0.6264 - mse: 0.6595 - val_loss: 0.6184 - val_mae: 0.6184 - val_mse: 0.6510\n",
            "Epoch 21/600\n",
            "13/13 [==============================] - 0s 4ms/step - loss: 0.6060 - mae: 0.6060 - mse: 0.6168 - val_loss: 0.6016 - val_mae: 0.6016 - val_mse: 0.6121\n",
            "Epoch 22/600\n",
            "13/13 [==============================] - 0s 5ms/step - loss: 0.5870 - mae: 0.5870 - mse: 0.5792 - val_loss: 0.5848 - val_mae: 0.5848 - val_mse: 0.5757\n",
            "Epoch 23/600\n",
            "13/13 [==============================] - 0s 3ms/step - loss: 0.5684 - mae: 0.5684 - mse: 0.5435 - val_loss: 0.5694 - val_mae: 0.5694 - val_mse: 0.5420\n",
            "Epoch 24/600\n",
            "13/13 [==============================] - 0s 3ms/step - loss: 0.5523 - mae: 0.5523 - mse: 0.5114 - val_loss: 0.5533 - val_mae: 0.5533 - val_mse: 0.5095\n",
            "Epoch 25/600\n",
            "13/13 [==============================] - 0s 3ms/step - loss: 0.5365 - mae: 0.5365 - mse: 0.4812 - val_loss: 0.5386 - val_mae: 0.5386 - val_mse: 0.4816\n",
            "Epoch 26/600\n",
            "13/13 [==============================] - 0s 3ms/step - loss: 0.5229 - mae: 0.5229 - mse: 0.4555 - val_loss: 0.5259 - val_mae: 0.5259 - val_mse: 0.4577\n",
            "Epoch 27/600\n",
            "13/13 [==============================] - 0s 3ms/step - loss: 0.5103 - mae: 0.5103 - mse: 0.4329 - val_loss: 0.5135 - val_mae: 0.5135 - val_mse: 0.4356\n",
            "Epoch 28/600\n",
            "13/13 [==============================] - 0s 3ms/step - loss: 0.4996 - mae: 0.4996 - mse: 0.4117 - val_loss: 0.5021 - val_mae: 0.5021 - val_mse: 0.4187\n",
            "Epoch 29/600\n",
            "13/13 [==============================] - 0s 4ms/step - loss: 0.4895 - mae: 0.4895 - mse: 0.3948 - val_loss: 0.4929 - val_mae: 0.4929 - val_mse: 0.4023\n",
            "Epoch 30/600\n",
            "13/13 [==============================] - 0s 3ms/step - loss: 0.4816 - mae: 0.4816 - mse: 0.3798 - val_loss: 0.4847 - val_mae: 0.4847 - val_mse: 0.3856\n",
            "Epoch 31/600\n",
            "13/13 [==============================] - 0s 3ms/step - loss: 0.4741 - mae: 0.4741 - mse: 0.3661 - val_loss: 0.4781 - val_mae: 0.4781 - val_mse: 0.3732\n",
            "Epoch 32/600\n",
            "13/13 [==============================] - 0s 3ms/step - loss: 0.4685 - mae: 0.4685 - mse: 0.3553 - val_loss: 0.4718 - val_mae: 0.4718 - val_mse: 0.3619\n",
            "Epoch 33/600\n",
            "13/13 [==============================] - 0s 3ms/step - loss: 0.4632 - mae: 0.4632 - mse: 0.3461 - val_loss: 0.4673 - val_mae: 0.4673 - val_mse: 0.3536\n",
            "Epoch 34/600\n",
            "13/13 [==============================] - 0s 3ms/step - loss: 0.4593 - mae: 0.4593 - mse: 0.3395 - val_loss: 0.4645 - val_mae: 0.4645 - val_mse: 0.3476\n",
            "Epoch 35/600\n",
            "13/13 [==============================] - 0s 3ms/step - loss: 0.4561 - mae: 0.4561 - mse: 0.3339 - val_loss: 0.4623 - val_mae: 0.4623 - val_mse: 0.3424\n",
            "Epoch 36/600\n",
            "13/13 [==============================] - 0s 3ms/step - loss: 0.4539 - mae: 0.4539 - mse: 0.3300 - val_loss: 0.4598 - val_mae: 0.4598 - val_mse: 0.3381\n",
            "Epoch 37/600\n",
            "13/13 [==============================] - 0s 3ms/step - loss: 0.4512 - mae: 0.4512 - mse: 0.3256 - val_loss: 0.4582 - val_mae: 0.4582 - val_mse: 0.3354\n",
            "Epoch 38/600\n",
            "13/13 [==============================] - 0s 3ms/step - loss: 0.4498 - mae: 0.4498 - mse: 0.3228 - val_loss: 0.4561 - val_mae: 0.4561 - val_mse: 0.3323\n",
            "Epoch 39/600\n",
            "13/13 [==============================] - 0s 5ms/step - loss: 0.4483 - mae: 0.4483 - mse: 0.3204 - val_loss: 0.4547 - val_mae: 0.4547 - val_mse: 0.3308\n",
            "Epoch 40/600\n",
            "13/13 [==============================] - 0s 3ms/step - loss: 0.4474 - mae: 0.4474 - mse: 0.3185 - val_loss: 0.4529 - val_mae: 0.4529 - val_mse: 0.3299\n",
            "Epoch 41/600\n",
            "13/13 [==============================] - 0s 3ms/step - loss: 0.4466 - mae: 0.4466 - mse: 0.3168 - val_loss: 0.4514 - val_mae: 0.4514 - val_mse: 0.3266\n",
            "Epoch 42/600\n",
            "13/13 [==============================] - 0s 3ms/step - loss: 0.4453 - mae: 0.4453 - mse: 0.3150 - val_loss: 0.4504 - val_mae: 0.4504 - val_mse: 0.3262\n",
            "Epoch 43/600\n",
            "13/13 [==============================] - 0s 3ms/step - loss: 0.4447 - mae: 0.4447 - mse: 0.3142 - val_loss: 0.4491 - val_mae: 0.4491 - val_mse: 0.3249\n",
            "Epoch 44/600\n",
            "13/13 [==============================] - 0s 3ms/step - loss: 0.4439 - mae: 0.4439 - mse: 0.3133 - val_loss: 0.4480 - val_mae: 0.4480 - val_mse: 0.3250\n",
            "Epoch 45/600\n",
            "13/13 [==============================] - 0s 4ms/step - loss: 0.4432 - mae: 0.4432 - mse: 0.3125 - val_loss: 0.4474 - val_mae: 0.4474 - val_mse: 0.3247\n",
            "Epoch 46/600\n",
            "13/13 [==============================] - 0s 3ms/step - loss: 0.4430 - mae: 0.4430 - mse: 0.3121 - val_loss: 0.4471 - val_mae: 0.4471 - val_mse: 0.3250\n",
            "Epoch 47/600\n",
            "13/13 [==============================] - 0s 4ms/step - loss: 0.4427 - mae: 0.4427 - mse: 0.3118 - val_loss: 0.4465 - val_mae: 0.4465 - val_mse: 0.3241\n",
            "Epoch 48/600\n",
            "13/13 [==============================] - 0s 4ms/step - loss: 0.4424 - mae: 0.4424 - mse: 0.3114 - val_loss: 0.4459 - val_mae: 0.4459 - val_mse: 0.3226\n",
            "Epoch 49/600\n",
            "13/13 [==============================] - 0s 3ms/step - loss: 0.4421 - mae: 0.4421 - mse: 0.3110 - val_loss: 0.4456 - val_mae: 0.4456 - val_mse: 0.3223\n",
            "Epoch 50/600\n",
            "13/13 [==============================] - 0s 3ms/step - loss: 0.4420 - mae: 0.4420 - mse: 0.3109 - val_loss: 0.4453 - val_mae: 0.4453 - val_mse: 0.3215\n",
            "Epoch 51/600\n",
            "13/13 [==============================] - 0s 3ms/step - loss: 0.4416 - mae: 0.4416 - mse: 0.3105 - val_loss: 0.4450 - val_mae: 0.4450 - val_mse: 0.3212\n",
            "Epoch 52/600\n",
            "13/13 [==============================] - 0s 3ms/step - loss: 0.4415 - mae: 0.4415 - mse: 0.3103 - val_loss: 0.4447 - val_mae: 0.4447 - val_mse: 0.3211\n",
            "Epoch 53/600\n",
            "13/13 [==============================] - 0s 4ms/step - loss: 0.4414 - mae: 0.4414 - mse: 0.3101 - val_loss: 0.4445 - val_mae: 0.4445 - val_mse: 0.3208\n",
            "Epoch 54/600\n",
            "13/13 [==============================] - 0s 3ms/step - loss: 0.4412 - mae: 0.4412 - mse: 0.3099 - val_loss: 0.4442 - val_mae: 0.4442 - val_mse: 0.3197\n",
            "Epoch 55/600\n",
            "13/13 [==============================] - 0s 4ms/step - loss: 0.4411 - mae: 0.4411 - mse: 0.3096 - val_loss: 0.4441 - val_mae: 0.4441 - val_mse: 0.3198\n",
            "Epoch 56/600\n",
            "13/13 [==============================] - 0s 3ms/step - loss: 0.4412 - mae: 0.4412 - mse: 0.3096 - val_loss: 0.4440 - val_mae: 0.4440 - val_mse: 0.3191\n",
            "Epoch 57/600\n",
            "13/13 [==============================] - 0s 4ms/step - loss: 0.4410 - mae: 0.4410 - mse: 0.3094 - val_loss: 0.4439 - val_mae: 0.4439 - val_mse: 0.3184\n",
            "Epoch 58/600\n",
            "13/13 [==============================] - 0s 3ms/step - loss: 0.4406 - mae: 0.4406 - mse: 0.3090 - val_loss: 0.4438 - val_mae: 0.4438 - val_mse: 0.3194\n",
            "Epoch 59/600\n",
            "13/13 [==============================] - 0s 3ms/step - loss: 0.4405 - mae: 0.4405 - mse: 0.3089 - val_loss: 0.4435 - val_mae: 0.4435 - val_mse: 0.3189\n",
            "Epoch 60/600\n",
            "13/13 [==============================] - 0s 3ms/step - loss: 0.4405 - mae: 0.4405 - mse: 0.3087 - val_loss: 0.4433 - val_mae: 0.4433 - val_mse: 0.3188\n",
            "Epoch 61/600\n",
            "13/13 [==============================] - 0s 3ms/step - loss: 0.4402 - mae: 0.4402 - mse: 0.3085 - val_loss: 0.4431 - val_mae: 0.4431 - val_mse: 0.3179\n",
            "Epoch 62/600\n",
            "13/13 [==============================] - 0s 3ms/step - loss: 0.4400 - mae: 0.4400 - mse: 0.3082 - val_loss: 0.4430 - val_mae: 0.4430 - val_mse: 0.3182\n",
            "Epoch 63/600\n",
            "13/13 [==============================] - 0s 3ms/step - loss: 0.4400 - mae: 0.4400 - mse: 0.3082 - val_loss: 0.4429 - val_mae: 0.4429 - val_mse: 0.3177\n",
            "Epoch 64/600\n",
            "13/13 [==============================] - 0s 3ms/step - loss: 0.4400 - mae: 0.4400 - mse: 0.3081 - val_loss: 0.4428 - val_mae: 0.4428 - val_mse: 0.3174\n",
            "Epoch 65/600\n",
            "13/13 [==============================] - 0s 3ms/step - loss: 0.4397 - mae: 0.4397 - mse: 0.3079 - val_loss: 0.4426 - val_mae: 0.4426 - val_mse: 0.3168\n",
            "Epoch 66/600\n",
            "13/13 [==============================] - 0s 4ms/step - loss: 0.4395 - mae: 0.4395 - mse: 0.3076 - val_loss: 0.4426 - val_mae: 0.4426 - val_mse: 0.3170\n",
            "Epoch 67/600\n",
            "13/13 [==============================] - 0s 3ms/step - loss: 0.4396 - mae: 0.4396 - mse: 0.3077 - val_loss: 0.4423 - val_mae: 0.4423 - val_mse: 0.3163\n",
            "Epoch 68/600\n",
            "13/13 [==============================] - 0s 3ms/step - loss: 0.4394 - mae: 0.4394 - mse: 0.3074 - val_loss: 0.4424 - val_mae: 0.4424 - val_mse: 0.3175\n",
            "Epoch 69/600\n",
            "13/13 [==============================] - 0s 4ms/step - loss: 0.4393 - mae: 0.4393 - mse: 0.3073 - val_loss: 0.4423 - val_mae: 0.4423 - val_mse: 0.3168\n",
            "Epoch 70/600\n",
            "13/13 [==============================] - 0s 3ms/step - loss: 0.4389 - mae: 0.4389 - mse: 0.3069 - val_loss: 0.4419 - val_mae: 0.4419 - val_mse: 0.3158\n",
            "Epoch 71/600\n",
            "13/13 [==============================] - 0s 3ms/step - loss: 0.4389 - mae: 0.4389 - mse: 0.3069 - val_loss: 0.4417 - val_mae: 0.4417 - val_mse: 0.3145\n",
            "Epoch 72/600\n",
            "13/13 [==============================] - 0s 3ms/step - loss: 0.4386 - mae: 0.4386 - mse: 0.3065 - val_loss: 0.4415 - val_mae: 0.4415 - val_mse: 0.3145\n",
            "Epoch 73/600\n",
            "13/13 [==============================] - 0s 3ms/step - loss: 0.4387 - mae: 0.4387 - mse: 0.3065 - val_loss: 0.4414 - val_mae: 0.4414 - val_mse: 0.3150\n",
            "Epoch 74/600\n",
            "13/13 [==============================] - 0s 4ms/step - loss: 0.4383 - mae: 0.4383 - mse: 0.3060 - val_loss: 0.4411 - val_mae: 0.4411 - val_mse: 0.3141\n",
            "Epoch 75/600\n",
            "13/13 [==============================] - 0s 5ms/step - loss: 0.4381 - mae: 0.4381 - mse: 0.3059 - val_loss: 0.4409 - val_mae: 0.4409 - val_mse: 0.3134\n",
            "Epoch 76/600\n",
            "13/13 [==============================] - 0s 3ms/step - loss: 0.4382 - mae: 0.4382 - mse: 0.3060 - val_loss: 0.4407 - val_mae: 0.4407 - val_mse: 0.3138\n",
            "Epoch 77/600\n",
            "13/13 [==============================] - 0s 3ms/step - loss: 0.4379 - mae: 0.4379 - mse: 0.3055 - val_loss: 0.4405 - val_mae: 0.4405 - val_mse: 0.3125\n",
            "Epoch 78/600\n",
            "13/13 [==============================] - 0s 3ms/step - loss: 0.4380 - mae: 0.4380 - mse: 0.3055 - val_loss: 0.4405 - val_mae: 0.4405 - val_mse: 0.3119\n",
            "Epoch 79/600\n",
            "13/13 [==============================] - 0s 3ms/step - loss: 0.4375 - mae: 0.4375 - mse: 0.3051 - val_loss: 0.4402 - val_mae: 0.4402 - val_mse: 0.3125\n",
            "Epoch 80/600\n",
            "13/13 [==============================] - 0s 4ms/step - loss: 0.4374 - mae: 0.4374 - mse: 0.3049 - val_loss: 0.4400 - val_mae: 0.4400 - val_mse: 0.3126\n",
            "Epoch 81/600\n",
            "13/13 [==============================] - 0s 3ms/step - loss: 0.4373 - mae: 0.4373 - mse: 0.3048 - val_loss: 0.4399 - val_mae: 0.4399 - val_mse: 0.3124\n",
            "Epoch 82/600\n",
            "13/13 [==============================] - 0s 3ms/step - loss: 0.4371 - mae: 0.4371 - mse: 0.3046 - val_loss: 0.4398 - val_mae: 0.4398 - val_mse: 0.3123\n",
            "Epoch 83/600\n",
            "13/13 [==============================] - 0s 3ms/step - loss: 0.4369 - mae: 0.4369 - mse: 0.3044 - val_loss: 0.4395 - val_mae: 0.4395 - val_mse: 0.3115\n",
            "Epoch 84/600\n",
            "13/13 [==============================] - 0s 3ms/step - loss: 0.4369 - mae: 0.4369 - mse: 0.3044 - val_loss: 0.4396 - val_mae: 0.4396 - val_mse: 0.3118\n",
            "Epoch 85/600\n",
            "13/13 [==============================] - 0s 4ms/step - loss: 0.4367 - mae: 0.4367 - mse: 0.3041 - val_loss: 0.4391 - val_mae: 0.4391 - val_mse: 0.3102\n",
            "Epoch 86/600\n",
            "13/13 [==============================] - 0s 3ms/step - loss: 0.4365 - mae: 0.4365 - mse: 0.3038 - val_loss: 0.4389 - val_mae: 0.4389 - val_mse: 0.3103\n",
            "Epoch 87/600\n",
            "13/13 [==============================] - 0s 3ms/step - loss: 0.4364 - mae: 0.4364 - mse: 0.3036 - val_loss: 0.4387 - val_mae: 0.4387 - val_mse: 0.3096\n",
            "Epoch 88/600\n",
            "13/13 [==============================] - 0s 3ms/step - loss: 0.4364 - mae: 0.4364 - mse: 0.3035 - val_loss: 0.4386 - val_mae: 0.4386 - val_mse: 0.3099\n",
            "Epoch 89/600\n",
            "13/13 [==============================] - 0s 5ms/step - loss: 0.4360 - mae: 0.4360 - mse: 0.3033 - val_loss: 0.4382 - val_mae: 0.4382 - val_mse: 0.3088\n",
            "Epoch 90/600\n",
            "13/13 [==============================] - 0s 3ms/step - loss: 0.4360 - mae: 0.4360 - mse: 0.3032 - val_loss: 0.4382 - val_mae: 0.4382 - val_mse: 0.3084\n",
            "Epoch 91/600\n",
            "13/13 [==============================] - 0s 4ms/step - loss: 0.4359 - mae: 0.4359 - mse: 0.3030 - val_loss: 0.4382 - val_mae: 0.4382 - val_mse: 0.3094\n",
            "Epoch 92/600\n",
            "13/13 [==============================] - 0s 4ms/step - loss: 0.4356 - mae: 0.4356 - mse: 0.3026 - val_loss: 0.4377 - val_mae: 0.4377 - val_mse: 0.3076\n",
            "Epoch 93/600\n",
            "13/13 [==============================] - 0s 4ms/step - loss: 0.4355 - mae: 0.4355 - mse: 0.3025 - val_loss: 0.4375 - val_mae: 0.4375 - val_mse: 0.3069\n",
            "Epoch 94/600\n",
            "13/13 [==============================] - 0s 3ms/step - loss: 0.4353 - mae: 0.4353 - mse: 0.3022 - val_loss: 0.4373 - val_mae: 0.4373 - val_mse: 0.3074\n",
            "Epoch 95/600\n",
            "13/13 [==============================] - 0s 3ms/step - loss: 0.4352 - mae: 0.4352 - mse: 0.3020 - val_loss: 0.4372 - val_mae: 0.4372 - val_mse: 0.3076\n",
            "Epoch 96/600\n",
            "13/13 [==============================] - 0s 3ms/step - loss: 0.4352 - mae: 0.4352 - mse: 0.3022 - val_loss: 0.4367 - val_mae: 0.4367 - val_mse: 0.3060\n",
            "Epoch 97/600\n",
            "13/13 [==============================] - 0s 3ms/step - loss: 0.4348 - mae: 0.4348 - mse: 0.3016 - val_loss: 0.4365 - val_mae: 0.4365 - val_mse: 0.3058\n",
            "Epoch 98/600\n",
            "13/13 [==============================] - 0s 3ms/step - loss: 0.4347 - mae: 0.4347 - mse: 0.3015 - val_loss: 0.4364 - val_mae: 0.4364 - val_mse: 0.3054\n",
            "Epoch 99/600\n",
            "13/13 [==============================] - 0s 3ms/step - loss: 0.4344 - mae: 0.4344 - mse: 0.3012 - val_loss: 0.4363 - val_mae: 0.4363 - val_mse: 0.3062\n",
            "Epoch 100/600\n",
            "13/13 [==============================] - 0s 3ms/step - loss: 0.4343 - mae: 0.4343 - mse: 0.3010 - val_loss: 0.4361 - val_mae: 0.4361 - val_mse: 0.3060\n",
            "Epoch 101/600\n",
            "13/13 [==============================] - 0s 3ms/step - loss: 0.4343 - mae: 0.4343 - mse: 0.3011 - val_loss: 0.4361 - val_mae: 0.4361 - val_mse: 0.3062\n",
            "Epoch 102/600\n",
            "13/13 [==============================] - 0s 3ms/step - loss: 0.4338 - mae: 0.4338 - mse: 0.3006 - val_loss: 0.4354 - val_mae: 0.4354 - val_mse: 0.3047\n",
            "Epoch 103/600\n",
            "13/13 [==============================] - 0s 4ms/step - loss: 0.4339 - mae: 0.4339 - mse: 0.3006 - val_loss: 0.4351 - val_mae: 0.4351 - val_mse: 0.3030\n",
            "Epoch 104/600\n",
            "13/13 [==============================] - 0s 4ms/step - loss: 0.4339 - mae: 0.4339 - mse: 0.3004 - val_loss: 0.4349 - val_mae: 0.4349 - val_mse: 0.3037\n",
            "Epoch 105/600\n",
            "13/13 [==============================] - 0s 3ms/step - loss: 0.4336 - mae: 0.4336 - mse: 0.3001 - val_loss: 0.4348 - val_mae: 0.4348 - val_mse: 0.3028\n",
            "Epoch 106/600\n",
            "13/13 [==============================] - 0s 3ms/step - loss: 0.4335 - mae: 0.4335 - mse: 0.3000 - val_loss: 0.4348 - val_mae: 0.4348 - val_mse: 0.3037\n",
            "Epoch 107/600\n",
            "13/13 [==============================] - 0s 3ms/step - loss: 0.4334 - mae: 0.4334 - mse: 0.2998 - val_loss: 0.4347 - val_mae: 0.4347 - val_mse: 0.3036\n",
            "Epoch 108/600\n",
            "13/13 [==============================] - 0s 3ms/step - loss: 0.4335 - mae: 0.4335 - mse: 0.2998 - val_loss: 0.4343 - val_mae: 0.4343 - val_mse: 0.3018\n",
            "Epoch 109/600\n",
            "13/13 [==============================] - 0s 3ms/step - loss: 0.4331 - mae: 0.4331 - mse: 0.2996 - val_loss: 0.4343 - val_mae: 0.4343 - val_mse: 0.3026\n",
            "Epoch 110/600\n",
            "13/13 [==============================] - 0s 3ms/step - loss: 0.4330 - mae: 0.4330 - mse: 0.2994 - val_loss: 0.4339 - val_mae: 0.4339 - val_mse: 0.3017\n",
            "Epoch 111/600\n",
            "13/13 [==============================] - 0s 3ms/step - loss: 0.4328 - mae: 0.4328 - mse: 0.2991 - val_loss: 0.4338 - val_mae: 0.4338 - val_mse: 0.3017\n",
            "Epoch 112/600\n",
            "13/13 [==============================] - 0s 3ms/step - loss: 0.4327 - mae: 0.4327 - mse: 0.2990 - val_loss: 0.4335 - val_mae: 0.4335 - val_mse: 0.3014\n",
            "Epoch 113/600\n",
            "13/13 [==============================] - 0s 3ms/step - loss: 0.4326 - mae: 0.4326 - mse: 0.2989 - val_loss: 0.4333 - val_mae: 0.4333 - val_mse: 0.3011\n",
            "Epoch 114/600\n",
            "13/13 [==============================] - 0s 5ms/step - loss: 0.4323 - mae: 0.4323 - mse: 0.2985 - val_loss: 0.4332 - val_mae: 0.4332 - val_mse: 0.3011\n",
            "Epoch 115/600\n",
            "13/13 [==============================] - 0s 3ms/step - loss: 0.4322 - mae: 0.4322 - mse: 0.2983 - val_loss: 0.4330 - val_mae: 0.4330 - val_mse: 0.3010\n",
            "Epoch 116/600\n",
            "13/13 [==============================] - 0s 3ms/step - loss: 0.4322 - mae: 0.4322 - mse: 0.2983 - val_loss: 0.4329 - val_mae: 0.4329 - val_mse: 0.3009\n",
            "Epoch 117/600\n",
            "13/13 [==============================] - 0s 3ms/step - loss: 0.4320 - mae: 0.4320 - mse: 0.2982 - val_loss: 0.4328 - val_mae: 0.4328 - val_mse: 0.3007\n",
            "Epoch 118/600\n",
            "13/13 [==============================] - 0s 3ms/step - loss: 0.4320 - mae: 0.4320 - mse: 0.2982 - val_loss: 0.4327 - val_mae: 0.4327 - val_mse: 0.3005\n",
            "Epoch 119/600\n",
            "13/13 [==============================] - 0s 3ms/step - loss: 0.4318 - mae: 0.4318 - mse: 0.2978 - val_loss: 0.4323 - val_mae: 0.4323 - val_mse: 0.2993\n",
            "Epoch 120/600\n",
            "13/13 [==============================] - 0s 3ms/step - loss: 0.4316 - mae: 0.4316 - mse: 0.2977 - val_loss: 0.4320 - val_mae: 0.4320 - val_mse: 0.2989\n",
            "Epoch 121/600\n",
            "13/13 [==============================] - 0s 4ms/step - loss: 0.4317 - mae: 0.4317 - mse: 0.2977 - val_loss: 0.4320 - val_mae: 0.4320 - val_mse: 0.2997\n",
            "Epoch 122/600\n",
            "13/13 [==============================] - 0s 3ms/step - loss: 0.4314 - mae: 0.4314 - mse: 0.2974 - val_loss: 0.4318 - val_mae: 0.4318 - val_mse: 0.2994\n",
            "Epoch 123/600\n",
            "13/13 [==============================] - 0s 3ms/step - loss: 0.4314 - mae: 0.4314 - mse: 0.2974 - val_loss: 0.4316 - val_mae: 0.4316 - val_mse: 0.2985\n",
            "Epoch 124/600\n",
            "13/13 [==============================] - 0s 3ms/step - loss: 0.4313 - mae: 0.4313 - mse: 0.2973 - val_loss: 0.4315 - val_mae: 0.4315 - val_mse: 0.2981\n",
            "Epoch 125/600\n",
            "13/13 [==============================] - 0s 4ms/step - loss: 0.4312 - mae: 0.4312 - mse: 0.2973 - val_loss: 0.4314 - val_mae: 0.4314 - val_mse: 0.2984\n",
            "Epoch 126/600\n",
            "13/13 [==============================] - 0s 3ms/step - loss: 0.4310 - mae: 0.4310 - mse: 0.2970 - val_loss: 0.4312 - val_mae: 0.4312 - val_mse: 0.2982\n",
            "Epoch 127/600\n",
            "13/13 [==============================] - 0s 3ms/step - loss: 0.4310 - mae: 0.4310 - mse: 0.2969 - val_loss: 0.4311 - val_mae: 0.4311 - val_mse: 0.2974\n",
            "Epoch 128/600\n",
            "13/13 [==============================] - 0s 5ms/step - loss: 0.4310 - mae: 0.4310 - mse: 0.2969 - val_loss: 0.4309 - val_mae: 0.4309 - val_mse: 0.2972\n",
            "Epoch 129/600\n",
            "13/13 [==============================] - 0s 3ms/step - loss: 0.4308 - mae: 0.4308 - mse: 0.2966 - val_loss: 0.4308 - val_mae: 0.4308 - val_mse: 0.2973\n",
            "Epoch 130/600\n",
            "13/13 [==============================] - 0s 4ms/step - loss: 0.4307 - mae: 0.4307 - mse: 0.2965 - val_loss: 0.4308 - val_mae: 0.4308 - val_mse: 0.2974\n",
            "Epoch 131/600\n",
            "13/13 [==============================] - 0s 4ms/step - loss: 0.4306 - mae: 0.4306 - mse: 0.2965 - val_loss: 0.4307 - val_mae: 0.4307 - val_mse: 0.2972\n",
            "Epoch 132/600\n",
            "13/13 [==============================] - 0s 3ms/step - loss: 0.4306 - mae: 0.4306 - mse: 0.2965 - val_loss: 0.4306 - val_mae: 0.4306 - val_mse: 0.2969\n",
            "Epoch 133/600\n",
            "13/13 [==============================] - 0s 3ms/step - loss: 0.4304 - mae: 0.4304 - mse: 0.2963 - val_loss: 0.4304 - val_mae: 0.4304 - val_mse: 0.2965\n",
            "Epoch 134/600\n",
            "13/13 [==============================] - 0s 4ms/step - loss: 0.4303 - mae: 0.4303 - mse: 0.2962 - val_loss: 0.4303 - val_mae: 0.4303 - val_mse: 0.2960\n",
            "Epoch 135/600\n",
            "13/13 [==============================] - 0s 3ms/step - loss: 0.4302 - mae: 0.4302 - mse: 0.2960 - val_loss: 0.4302 - val_mae: 0.4302 - val_mse: 0.2959\n",
            "Epoch 136/600\n",
            "13/13 [==============================] - 0s 3ms/step - loss: 0.4302 - mae: 0.4302 - mse: 0.2960 - val_loss: 0.4303 - val_mae: 0.4303 - val_mse: 0.2960\n",
            "Epoch 137/600\n",
            "13/13 [==============================] - 0s 3ms/step - loss: 0.4302 - mae: 0.4302 - mse: 0.2959 - val_loss: 0.4302 - val_mae: 0.4302 - val_mse: 0.2960\n",
            "Epoch 138/600\n",
            "13/13 [==============================] - 0s 4ms/step - loss: 0.4301 - mae: 0.4301 - mse: 0.2960 - val_loss: 0.4301 - val_mae: 0.4301 - val_mse: 0.2958\n",
            "Epoch 139/600\n",
            "13/13 [==============================] - 0s 3ms/step - loss: 0.4301 - mae: 0.4301 - mse: 0.2958 - val_loss: 0.4297 - val_mae: 0.4297 - val_mse: 0.2955\n",
            "Epoch 140/600\n",
            "13/13 [==============================] - 0s 3ms/step - loss: 0.4298 - mae: 0.4298 - mse: 0.2955 - val_loss: 0.4296 - val_mae: 0.4296 - val_mse: 0.2950\n",
            "Epoch 141/600\n",
            "13/13 [==============================] - 0s 3ms/step - loss: 0.4298 - mae: 0.4298 - mse: 0.2954 - val_loss: 0.4294 - val_mae: 0.4294 - val_mse: 0.2946\n",
            "Epoch 142/600\n",
            "13/13 [==============================] - 0s 3ms/step - loss: 0.4298 - mae: 0.4298 - mse: 0.2955 - val_loss: 0.4296 - val_mae: 0.4296 - val_mse: 0.2951\n",
            "Epoch 143/600\n",
            "13/13 [==============================] - 0s 3ms/step - loss: 0.4296 - mae: 0.4296 - mse: 0.2954 - val_loss: 0.4293 - val_mae: 0.4293 - val_mse: 0.2946\n",
            "Epoch 144/600\n",
            "13/13 [==============================] - 0s 3ms/step - loss: 0.4297 - mae: 0.4297 - mse: 0.2954 - val_loss: 0.4292 - val_mae: 0.4292 - val_mse: 0.2947\n",
            "Epoch 145/600\n",
            "13/13 [==============================] - 0s 3ms/step - loss: 0.4295 - mae: 0.4295 - mse: 0.2953 - val_loss: 0.4293 - val_mae: 0.4293 - val_mse: 0.2954\n",
            "Epoch 146/600\n",
            "13/13 [==============================] - 0s 4ms/step - loss: 0.4295 - mae: 0.4295 - mse: 0.2952 - val_loss: 0.4292 - val_mae: 0.4292 - val_mse: 0.2950\n",
            "Epoch 147/600\n",
            "13/13 [==============================] - 0s 3ms/step - loss: 0.4295 - mae: 0.4295 - mse: 0.2951 - val_loss: 0.4292 - val_mae: 0.4292 - val_mse: 0.2953\n",
            "Epoch 148/600\n",
            "13/13 [==============================] - 0s 3ms/step - loss: 0.4294 - mae: 0.4294 - mse: 0.2950 - val_loss: 0.4294 - val_mae: 0.4294 - val_mse: 0.2956\n",
            "Epoch 149/600\n",
            "13/13 [==============================] - 0s 3ms/step - loss: 0.4293 - mae: 0.4293 - mse: 0.2950 - val_loss: 0.4290 - val_mae: 0.4290 - val_mse: 0.2949\n",
            "Epoch 150/600\n",
            "13/13 [==============================] - 0s 4ms/step - loss: 0.4295 - mae: 0.4295 - mse: 0.2951 - val_loss: 0.4288 - val_mae: 0.4288 - val_mse: 0.2940\n",
            "Epoch 151/600\n",
            "13/13 [==============================] - 0s 5ms/step - loss: 0.4294 - mae: 0.4294 - mse: 0.2949 - val_loss: 0.4291 - val_mae: 0.4291 - val_mse: 0.2947\n",
            "Epoch 152/600\n",
            "13/13 [==============================] - 0s 3ms/step - loss: 0.4291 - mae: 0.4291 - mse: 0.2946 - val_loss: 0.4286 - val_mae: 0.4286 - val_mse: 0.2934\n",
            "Epoch 153/600\n",
            "13/13 [==============================] - 0s 3ms/step - loss: 0.4292 - mae: 0.4292 - mse: 0.2947 - val_loss: 0.4287 - val_mae: 0.4287 - val_mse: 0.2937\n",
            "Epoch 154/600\n",
            "13/13 [==============================] - 0s 3ms/step - loss: 0.4290 - mae: 0.4290 - mse: 0.2945 - val_loss: 0.4287 - val_mae: 0.4287 - val_mse: 0.2943\n",
            "Epoch 155/600\n",
            "13/13 [==============================] - 0s 3ms/step - loss: 0.4291 - mae: 0.4291 - mse: 0.2946 - val_loss: 0.4288 - val_mae: 0.4288 - val_mse: 0.2952\n",
            "Epoch 156/600\n",
            "13/13 [==============================] - 0s 3ms/step - loss: 0.4291 - mae: 0.4291 - mse: 0.2947 - val_loss: 0.4285 - val_mae: 0.4285 - val_mse: 0.2939\n",
            "Epoch 157/600\n",
            "13/13 [==============================] - 0s 3ms/step - loss: 0.4289 - mae: 0.4289 - mse: 0.2946 - val_loss: 0.4282 - val_mae: 0.4282 - val_mse: 0.2932\n",
            "Epoch 158/600\n",
            "13/13 [==============================] - 0s 5ms/step - loss: 0.4289 - mae: 0.4289 - mse: 0.2945 - val_loss: 0.4279 - val_mae: 0.4279 - val_mse: 0.2933\n",
            "Epoch 159/600\n",
            "13/13 [==============================] - 0s 4ms/step - loss: 0.4289 - mae: 0.4289 - mse: 0.2945 - val_loss: 0.4280 - val_mae: 0.4280 - val_mse: 0.2939\n",
            "Epoch 160/600\n",
            "13/13 [==============================] - 0s 4ms/step - loss: 0.4290 - mae: 0.4290 - mse: 0.2945 - val_loss: 0.4279 - val_mae: 0.4279 - val_mse: 0.2940\n",
            "Epoch 161/600\n",
            "13/13 [==============================] - 0s 3ms/step - loss: 0.4288 - mae: 0.4288 - mse: 0.2946 - val_loss: 0.4278 - val_mae: 0.4278 - val_mse: 0.2929\n",
            "Epoch 162/600\n",
            "13/13 [==============================] - 0s 3ms/step - loss: 0.4289 - mae: 0.4289 - mse: 0.2945 - val_loss: 0.4278 - val_mae: 0.4278 - val_mse: 0.2924\n",
            "Epoch 163/600\n",
            "13/13 [==============================] - 0s 5ms/step - loss: 0.4287 - mae: 0.4287 - mse: 0.2943 - val_loss: 0.4276 - val_mae: 0.4276 - val_mse: 0.2933\n",
            "Epoch 164/600\n",
            "13/13 [==============================] - 0s 3ms/step - loss: 0.4288 - mae: 0.4288 - mse: 0.2943 - val_loss: 0.4277 - val_mae: 0.4277 - val_mse: 0.2942\n",
            "Epoch 165/600\n",
            "13/13 [==============================] - 0s 3ms/step - loss: 0.4286 - mae: 0.4286 - mse: 0.2941 - val_loss: 0.4272 - val_mae: 0.4272 - val_mse: 0.2929\n",
            "Epoch 166/600\n",
            "13/13 [==============================] - 0s 3ms/step - loss: 0.4288 - mae: 0.4288 - mse: 0.2944 - val_loss: 0.4270 - val_mae: 0.4270 - val_mse: 0.2913\n",
            "Epoch 167/600\n",
            "13/13 [==============================] - 0s 4ms/step - loss: 0.4287 - mae: 0.4287 - mse: 0.2941 - val_loss: 0.4271 - val_mae: 0.4271 - val_mse: 0.2932\n",
            "Epoch 168/600\n",
            "13/13 [==============================] - 0s 3ms/step - loss: 0.4286 - mae: 0.4286 - mse: 0.2942 - val_loss: 0.4273 - val_mae: 0.4273 - val_mse: 0.2937\n",
            "Epoch 169/600\n",
            "13/13 [==============================] - 0s 4ms/step - loss: 0.4285 - mae: 0.4285 - mse: 0.2939 - val_loss: 0.4269 - val_mae: 0.4269 - val_mse: 0.2926\n",
            "Epoch 170/600\n",
            "13/13 [==============================] - 0s 4ms/step - loss: 0.4283 - mae: 0.4283 - mse: 0.2938 - val_loss: 0.4268 - val_mae: 0.4268 - val_mse: 0.2922\n",
            "Epoch 171/600\n",
            "13/13 [==============================] - 0s 3ms/step - loss: 0.4283 - mae: 0.4283 - mse: 0.2938 - val_loss: 0.4267 - val_mae: 0.4267 - val_mse: 0.2918\n",
            "Epoch 172/600\n",
            "13/13 [==============================] - 0s 5ms/step - loss: 0.4283 - mae: 0.4283 - mse: 0.2939 - val_loss: 0.4266 - val_mae: 0.4266 - val_mse: 0.2918\n",
            "Epoch 173/600\n",
            "13/13 [==============================] - 0s 3ms/step - loss: 0.4283 - mae: 0.4283 - mse: 0.2939 - val_loss: 0.4267 - val_mae: 0.4267 - val_mse: 0.2926\n",
            "Epoch 174/600\n",
            "13/13 [==============================] - 0s 3ms/step - loss: 0.4282 - mae: 0.4282 - mse: 0.2937 - val_loss: 0.4264 - val_mae: 0.4264 - val_mse: 0.2919\n",
            "Epoch 175/600\n",
            "13/13 [==============================] - 0s 4ms/step - loss: 0.4282 - mae: 0.4282 - mse: 0.2936 - val_loss: 0.4264 - val_mae: 0.4264 - val_mse: 0.2916\n",
            "Epoch 176/600\n",
            "13/13 [==============================] - 0s 3ms/step - loss: 0.4282 - mae: 0.4282 - mse: 0.2936 - val_loss: 0.4266 - val_mae: 0.4266 - val_mse: 0.2923\n",
            "Epoch 177/600\n",
            "13/13 [==============================] - 0s 4ms/step - loss: 0.4282 - mae: 0.4282 - mse: 0.2936 - val_loss: 0.4263 - val_mae: 0.4263 - val_mse: 0.2920\n",
            "Epoch 178/600\n",
            "13/13 [==============================] - 0s 5ms/step - loss: 0.4282 - mae: 0.4282 - mse: 0.2936 - val_loss: 0.4262 - val_mae: 0.4262 - val_mse: 0.2920\n",
            "Epoch 179/600\n",
            "13/13 [==============================] - 0s 4ms/step - loss: 0.4281 - mae: 0.4281 - mse: 0.2936 - val_loss: 0.4260 - val_mae: 0.4260 - val_mse: 0.2902\n",
            "Epoch 180/600\n",
            "13/13 [==============================] - 0s 3ms/step - loss: 0.4281 - mae: 0.4281 - mse: 0.2935 - val_loss: 0.4261 - val_mae: 0.4261 - val_mse: 0.2905\n",
            "Epoch 181/600\n",
            "13/13 [==============================] - 0s 3ms/step - loss: 0.4278 - mae: 0.4278 - mse: 0.2933 - val_loss: 0.4262 - val_mae: 0.4262 - val_mse: 0.2917\n",
            "Epoch 182/600\n",
            "13/13 [==============================] - 0s 3ms/step - loss: 0.4279 - mae: 0.4279 - mse: 0.2934 - val_loss: 0.4261 - val_mae: 0.4261 - val_mse: 0.2917\n",
            "Epoch 183/600\n",
            "13/13 [==============================] - 0s 3ms/step - loss: 0.4281 - mae: 0.4281 - mse: 0.2934 - val_loss: 0.4259 - val_mae: 0.4259 - val_mse: 0.2911\n",
            "Epoch 184/600\n",
            "13/13 [==============================] - 0s 3ms/step - loss: 0.4278 - mae: 0.4278 - mse: 0.2933 - val_loss: 0.4258 - val_mae: 0.4258 - val_mse: 0.2914\n",
            "Epoch 185/600\n",
            "13/13 [==============================] - 0s 3ms/step - loss: 0.4279 - mae: 0.4279 - mse: 0.2934 - val_loss: 0.4259 - val_mae: 0.4259 - val_mse: 0.2920\n",
            "Epoch 186/600\n",
            "13/13 [==============================] - 0s 3ms/step - loss: 0.4278 - mae: 0.4278 - mse: 0.2933 - val_loss: 0.4257 - val_mae: 0.4257 - val_mse: 0.2912\n",
            "Epoch 187/600\n",
            "13/13 [==============================] - 0s 5ms/step - loss: 0.4280 - mae: 0.4280 - mse: 0.2934 - val_loss: 0.4255 - val_mae: 0.4255 - val_mse: 0.2907\n",
            "Epoch 188/600\n",
            "13/13 [==============================] - 0s 4ms/step - loss: 0.4277 - mae: 0.4277 - mse: 0.2933 - val_loss: 0.4256 - val_mae: 0.4256 - val_mse: 0.2917\n",
            "Epoch 189/600\n",
            "13/13 [==============================] - 0s 3ms/step - loss: 0.4280 - mae: 0.4280 - mse: 0.2935 - val_loss: 0.4257 - val_mae: 0.4257 - val_mse: 0.2917\n",
            "Epoch 190/600\n",
            "13/13 [==============================] - 0s 5ms/step - loss: 0.4277 - mae: 0.4277 - mse: 0.2931 - val_loss: 0.4254 - val_mae: 0.4254 - val_mse: 0.2910\n",
            "Epoch 191/600\n",
            "13/13 [==============================] - 0s 3ms/step - loss: 0.4279 - mae: 0.4279 - mse: 0.2932 - val_loss: 0.4251 - val_mae: 0.4251 - val_mse: 0.2902\n",
            "Epoch 192/600\n",
            "13/13 [==============================] - 0s 3ms/step - loss: 0.4276 - mae: 0.4276 - mse: 0.2930 - val_loss: 0.4255 - val_mae: 0.4255 - val_mse: 0.2914\n",
            "Epoch 193/600\n",
            "13/13 [==============================] - 0s 3ms/step - loss: 0.4279 - mae: 0.4279 - mse: 0.2933 - val_loss: 0.4257 - val_mae: 0.4257 - val_mse: 0.2920\n",
            "Epoch 194/600\n",
            "13/13 [==============================] - 0s 5ms/step - loss: 0.4278 - mae: 0.4278 - mse: 0.2931 - val_loss: 0.4250 - val_mae: 0.4250 - val_mse: 0.2906\n",
            "Epoch 195/600\n",
            "13/13 [==============================] - 0s 3ms/step - loss: 0.4277 - mae: 0.4277 - mse: 0.2930 - val_loss: 0.4252 - val_mae: 0.4252 - val_mse: 0.2911\n",
            "Epoch 196/600\n",
            "13/13 [==============================] - 0s 3ms/step - loss: 0.4275 - mae: 0.4275 - mse: 0.2929 - val_loss: 0.4248 - val_mae: 0.4248 - val_mse: 0.2906\n",
            "Epoch 197/600\n",
            "13/13 [==============================] - 0s 4ms/step - loss: 0.4275 - mae: 0.4275 - mse: 0.2929 - val_loss: 0.4246 - val_mae: 0.4246 - val_mse: 0.2898\n",
            "Epoch 198/600\n",
            "13/13 [==============================] - 0s 3ms/step - loss: 0.4276 - mae: 0.4276 - mse: 0.2929 - val_loss: 0.4244 - val_mae: 0.4244 - val_mse: 0.2893\n",
            "Epoch 199/600\n",
            "13/13 [==============================] - 0s 3ms/step - loss: 0.4275 - mae: 0.4275 - mse: 0.2927 - val_loss: 0.4247 - val_mae: 0.4247 - val_mse: 0.2905\n",
            "Epoch 200/600\n",
            "13/13 [==============================] - 0s 3ms/step - loss: 0.4276 - mae: 0.4276 - mse: 0.2930 - val_loss: 0.4246 - val_mae: 0.4246 - val_mse: 0.2902\n",
            "Epoch 201/600\n",
            "13/13 [==============================] - 0s 3ms/step - loss: 0.4274 - mae: 0.4274 - mse: 0.2928 - val_loss: 0.4251 - val_mae: 0.4251 - val_mse: 0.2910\n",
            "Epoch 202/600\n",
            "13/13 [==============================] - 0s 5ms/step - loss: 0.4275 - mae: 0.4275 - mse: 0.2930 - val_loss: 0.4250 - val_mae: 0.4250 - val_mse: 0.2910\n",
            "Epoch 203/600\n",
            "13/13 [==============================] - 0s 3ms/step - loss: 0.4275 - mae: 0.4275 - mse: 0.2929 - val_loss: 0.4246 - val_mae: 0.4246 - val_mse: 0.2900\n",
            "Epoch 204/600\n",
            "13/13 [==============================] - 0s 3ms/step - loss: 0.4276 - mae: 0.4276 - mse: 0.2929 - val_loss: 0.4249 - val_mae: 0.4249 - val_mse: 0.2903\n",
            "Epoch 205/600\n",
            "13/13 [==============================] - 0s 3ms/step - loss: 0.4277 - mae: 0.4277 - mse: 0.2929 - val_loss: 0.4249 - val_mae: 0.4249 - val_mse: 0.2904\n",
            "Epoch 206/600\n",
            "13/13 [==============================] - 0s 3ms/step - loss: 0.4274 - mae: 0.4274 - mse: 0.2926 - val_loss: 0.4246 - val_mae: 0.4246 - val_mse: 0.2898\n",
            "Epoch 207/600\n",
            "13/13 [==============================] - 0s 3ms/step - loss: 0.4275 - mae: 0.4275 - mse: 0.2927 - val_loss: 0.4243 - val_mae: 0.4243 - val_mse: 0.2892\n",
            "Epoch 208/600\n",
            "13/13 [==============================] - 0s 5ms/step - loss: 0.4277 - mae: 0.4277 - mse: 0.2929 - val_loss: 0.4243 - val_mae: 0.4243 - val_mse: 0.2899\n",
            "Epoch 209/600\n",
            "13/13 [==============================] - 0s 4ms/step - loss: 0.4275 - mae: 0.4275 - mse: 0.2927 - val_loss: 0.4240 - val_mae: 0.4240 - val_mse: 0.2892\n",
            "Epoch 210/600\n",
            "13/13 [==============================] - 0s 3ms/step - loss: 0.4273 - mae: 0.4273 - mse: 0.2924 - val_loss: 0.4245 - val_mae: 0.4245 - val_mse: 0.2902\n",
            "Epoch 211/600\n",
            "13/13 [==============================] - 0s 5ms/step - loss: 0.4274 - mae: 0.4274 - mse: 0.2927 - val_loss: 0.4243 - val_mae: 0.4243 - val_mse: 0.2898\n",
            "Epoch 212/600\n",
            "13/13 [==============================] - 0s 3ms/step - loss: 0.4273 - mae: 0.4273 - mse: 0.2926 - val_loss: 0.4244 - val_mae: 0.4244 - val_mse: 0.2901\n",
            "Epoch 213/600\n",
            "13/13 [==============================] - 0s 4ms/step - loss: 0.4274 - mae: 0.4274 - mse: 0.2926 - val_loss: 0.4244 - val_mae: 0.4244 - val_mse: 0.2900\n",
            "Epoch 214/600\n",
            "13/13 [==============================] - 0s 3ms/step - loss: 0.4274 - mae: 0.4274 - mse: 0.2928 - val_loss: 0.4241 - val_mae: 0.4241 - val_mse: 0.2898\n",
            "Epoch 215/600\n",
            "13/13 [==============================] - 0s 3ms/step - loss: 0.4276 - mae: 0.4276 - mse: 0.2927 - val_loss: 0.4237 - val_mae: 0.4237 - val_mse: 0.2888\n",
            "Epoch 216/600\n",
            "13/13 [==============================] - 0s 5ms/step - loss: 0.4273 - mae: 0.4273 - mse: 0.2926 - val_loss: 0.4244 - val_mae: 0.4244 - val_mse: 0.2898\n",
            "Epoch 217/600\n",
            "13/13 [==============================] - 0s 3ms/step - loss: 0.4273 - mae: 0.4273 - mse: 0.2925 - val_loss: 0.4243 - val_mae: 0.4243 - val_mse: 0.2895\n",
            "Epoch 218/600\n",
            "13/13 [==============================] - 0s 5ms/step - loss: 0.4274 - mae: 0.4274 - mse: 0.2925 - val_loss: 0.4243 - val_mae: 0.4243 - val_mse: 0.2894\n",
            "Epoch 219/600\n",
            "13/13 [==============================] - 0s 3ms/step - loss: 0.4272 - mae: 0.4272 - mse: 0.2924 - val_loss: 0.4243 - val_mae: 0.4243 - val_mse: 0.2897\n",
            "Epoch 220/600\n",
            "13/13 [==============================] - 0s 3ms/step - loss: 0.4273 - mae: 0.4273 - mse: 0.2926 - val_loss: 0.4244 - val_mae: 0.4244 - val_mse: 0.2902\n",
            "Epoch 221/600\n",
            "13/13 [==============================] - 0s 3ms/step - loss: 0.4272 - mae: 0.4272 - mse: 0.2924 - val_loss: 0.4241 - val_mae: 0.4241 - val_mse: 0.2893\n",
            "Epoch 222/600\n",
            "13/13 [==============================] - 0s 3ms/step - loss: 0.4271 - mae: 0.4271 - mse: 0.2924 - val_loss: 0.4239 - val_mae: 0.4239 - val_mse: 0.2889\n",
            "Epoch 223/600\n",
            "13/13 [==============================] - 0s 4ms/step - loss: 0.4272 - mae: 0.4272 - mse: 0.2923 - val_loss: 0.4240 - val_mae: 0.4240 - val_mse: 0.2892\n",
            "Epoch 224/600\n",
            "13/13 [==============================] - 0s 3ms/step - loss: 0.4274 - mae: 0.4274 - mse: 0.2926 - val_loss: 0.4239 - val_mae: 0.4239 - val_mse: 0.2891\n",
            "Epoch 225/600\n",
            "13/13 [==============================] - 0s 4ms/step - loss: 0.4275 - mae: 0.4275 - mse: 0.2927 - val_loss: 0.4241 - val_mae: 0.4241 - val_mse: 0.2899\n",
            "Epoch 226/600\n",
            "13/13 [==============================] - 0s 3ms/step - loss: 0.4273 - mae: 0.4273 - mse: 0.2924 - val_loss: 0.4239 - val_mae: 0.4239 - val_mse: 0.2893\n",
            "Epoch 227/600\n",
            "13/13 [==============================] - 0s 4ms/step - loss: 0.4272 - mae: 0.4272 - mse: 0.2924 - val_loss: 0.4240 - val_mae: 0.4240 - val_mse: 0.2896\n",
            "Epoch 228/600\n",
            "13/13 [==============================] - 0s 3ms/step - loss: 0.4272 - mae: 0.4272 - mse: 0.2925 - val_loss: 0.4238 - val_mae: 0.4238 - val_mse: 0.2894\n",
            "Epoch 229/600\n",
            "13/13 [==============================] - 0s 3ms/step - loss: 0.4273 - mae: 0.4273 - mse: 0.2925 - val_loss: 0.4240 - val_mae: 0.4240 - val_mse: 0.2894\n",
            "Epoch 230/600\n",
            "13/13 [==============================] - 0s 4ms/step - loss: 0.4272 - mae: 0.4272 - mse: 0.2924 - val_loss: 0.4238 - val_mae: 0.4238 - val_mse: 0.2894\n",
            "Epoch 231/600\n",
            "13/13 [==============================] - 0s 3ms/step - loss: 0.4271 - mae: 0.4271 - mse: 0.2924 - val_loss: 0.4238 - val_mae: 0.4238 - val_mse: 0.2895\n",
            "Epoch 232/600\n",
            "13/13 [==============================] - 0s 3ms/step - loss: 0.4275 - mae: 0.4275 - mse: 0.2926 - val_loss: 0.4234 - val_mae: 0.4234 - val_mse: 0.2892\n",
            "Epoch 233/600\n",
            "13/13 [==============================] - 0s 4ms/step - loss: 0.4273 - mae: 0.4273 - mse: 0.2925 - val_loss: 0.4237 - val_mae: 0.4237 - val_mse: 0.2891\n",
            "Epoch 234/600\n",
            "13/13 [==============================] - 0s 3ms/step - loss: 0.4272 - mae: 0.4272 - mse: 0.2924 - val_loss: 0.4239 - val_mae: 0.4239 - val_mse: 0.2895\n",
            "Epoch 235/600\n",
            "13/13 [==============================] - 0s 3ms/step - loss: 0.4272 - mae: 0.4272 - mse: 0.2922 - val_loss: 0.4238 - val_mae: 0.4238 - val_mse: 0.2892\n",
            "Epoch 236/600\n",
            "13/13 [==============================] - 0s 3ms/step - loss: 0.4272 - mae: 0.4272 - mse: 0.2924 - val_loss: 0.4236 - val_mae: 0.4236 - val_mse: 0.2893\n",
            "Epoch 237/600\n",
            "13/13 [==============================] - 0s 3ms/step - loss: 0.4271 - mae: 0.4271 - mse: 0.2923 - val_loss: 0.4234 - val_mae: 0.4234 - val_mse: 0.2887\n",
            "Epoch 238/600\n",
            "13/13 [==============================] - 0s 3ms/step - loss: 0.4271 - mae: 0.4271 - mse: 0.2922 - val_loss: 0.4236 - val_mae: 0.4236 - val_mse: 0.2893\n",
            "Epoch 239/600\n",
            "13/13 [==============================] - 0s 3ms/step - loss: 0.4271 - mae: 0.4271 - mse: 0.2924 - val_loss: 0.4238 - val_mae: 0.4238 - val_mse: 0.2895\n",
            "Epoch 240/600\n",
            "13/13 [==============================] - 0s 4ms/step - loss: 0.4271 - mae: 0.4271 - mse: 0.2923 - val_loss: 0.4240 - val_mae: 0.4240 - val_mse: 0.2898\n",
            "Epoch 241/600\n",
            "13/13 [==============================] - 0s 4ms/step - loss: 0.4272 - mae: 0.4272 - mse: 0.2924 - val_loss: 0.4236 - val_mae: 0.4236 - val_mse: 0.2888\n",
            "Epoch 242/600\n",
            "13/13 [==============================] - 0s 3ms/step - loss: 0.4271 - mae: 0.4271 - mse: 0.2923 - val_loss: 0.4236 - val_mae: 0.4236 - val_mse: 0.2888\n",
            "Epoch 243/600\n",
            "13/13 [==============================] - 0s 3ms/step - loss: 0.4271 - mae: 0.4271 - mse: 0.2922 - val_loss: 0.4233 - val_mae: 0.4233 - val_mse: 0.2881\n",
            "Epoch 244/600\n",
            "13/13 [==============================] - 0s 4ms/step - loss: 0.4271 - mae: 0.4271 - mse: 0.2922 - val_loss: 0.4234 - val_mae: 0.4234 - val_mse: 0.2888\n",
            "Epoch 245/600\n",
            "13/13 [==============================] - 0s 4ms/step - loss: 0.4272 - mae: 0.4272 - mse: 0.2923 - val_loss: 0.4239 - val_mae: 0.4239 - val_mse: 0.2902\n",
            "Epoch 246/600\n",
            "13/13 [==============================] - 0s 4ms/step - loss: 0.4271 - mae: 0.4271 - mse: 0.2924 - val_loss: 0.4238 - val_mae: 0.4238 - val_mse: 0.2897\n",
            "Epoch 247/600\n",
            "13/13 [==============================] - 0s 4ms/step - loss: 0.4272 - mae: 0.4272 - mse: 0.2924 - val_loss: 0.4237 - val_mae: 0.4237 - val_mse: 0.2890\n",
            "Epoch 248/600\n",
            "13/13 [==============================] - 0s 4ms/step - loss: 0.4272 - mae: 0.4272 - mse: 0.2923 - val_loss: 0.4235 - val_mae: 0.4235 - val_mse: 0.2891\n",
            "Epoch 249/600\n",
            "13/13 [==============================] - 0s 3ms/step - loss: 0.4270 - mae: 0.4270 - mse: 0.2922 - val_loss: 0.4237 - val_mae: 0.4237 - val_mse: 0.2894\n",
            "Epoch 250/600\n",
            "13/13 [==============================] - 0s 4ms/step - loss: 0.4274 - mae: 0.4274 - mse: 0.2927 - val_loss: 0.4238 - val_mae: 0.4238 - val_mse: 0.2902\n",
            "Epoch 251/600\n",
            "13/13 [==============================] - 0s 4ms/step - loss: 0.4273 - mae: 0.4273 - mse: 0.2924 - val_loss: 0.4232 - val_mae: 0.4232 - val_mse: 0.2882\n",
            "Epoch 252/600\n",
            "13/13 [==============================] - 0s 3ms/step - loss: 0.4271 - mae: 0.4271 - mse: 0.2922 - val_loss: 0.4232 - val_mae: 0.4232 - val_mse: 0.2885\n",
            "Epoch 253/600\n",
            "13/13 [==============================] - 0s 3ms/step - loss: 0.4271 - mae: 0.4271 - mse: 0.2923 - val_loss: 0.4236 - val_mae: 0.4236 - val_mse: 0.2895\n",
            "Epoch 254/600\n",
            "13/13 [==============================] - 0s 4ms/step - loss: 0.4271 - mae: 0.4271 - mse: 0.2922 - val_loss: 0.4235 - val_mae: 0.4235 - val_mse: 0.2891\n",
            "Epoch 255/600\n",
            "13/13 [==============================] - 0s 4ms/step - loss: 0.4272 - mae: 0.4272 - mse: 0.2922 - val_loss: 0.4230 - val_mae: 0.4230 - val_mse: 0.2880\n",
            "Epoch 256/600\n",
            "13/13 [==============================] - 0s 5ms/step - loss: 0.4270 - mae: 0.4270 - mse: 0.2921 - val_loss: 0.4233 - val_mae: 0.4233 - val_mse: 0.2886\n",
            "Epoch 257/600\n",
            "13/13 [==============================] - 0s 4ms/step - loss: 0.4271 - mae: 0.4271 - mse: 0.2923 - val_loss: 0.4240 - val_mae: 0.4240 - val_mse: 0.2897\n",
            "Epoch 258/600\n",
            "13/13 [==============================] - 0s 3ms/step - loss: 0.4271 - mae: 0.4271 - mse: 0.2924 - val_loss: 0.4239 - val_mae: 0.4239 - val_mse: 0.2897\n",
            "Epoch 259/600\n",
            "13/13 [==============================] - 0s 3ms/step - loss: 0.4270 - mae: 0.4270 - mse: 0.2922 - val_loss: 0.4233 - val_mae: 0.4233 - val_mse: 0.2883\n",
            "Epoch 260/600\n",
            "13/13 [==============================] - 0s 3ms/step - loss: 0.4270 - mae: 0.4270 - mse: 0.2922 - val_loss: 0.4231 - val_mae: 0.4231 - val_mse: 0.2883\n",
            "Epoch 261/600\n",
            "13/13 [==============================] - 0s 3ms/step - loss: 0.4270 - mae: 0.4270 - mse: 0.2921 - val_loss: 0.4232 - val_mae: 0.4232 - val_mse: 0.2887\n",
            "Epoch 262/600\n",
            "13/13 [==============================] - 0s 3ms/step - loss: 0.4270 - mae: 0.4270 - mse: 0.2923 - val_loss: 0.4236 - val_mae: 0.4236 - val_mse: 0.2895\n",
            "Epoch 263/600\n",
            "13/13 [==============================] - 0s 4ms/step - loss: 0.4273 - mae: 0.4273 - mse: 0.2922 - val_loss: 0.4229 - val_mae: 0.4229 - val_mse: 0.2880\n",
            "Epoch 264/600\n",
            "13/13 [==============================] - 0s 3ms/step - loss: 0.4270 - mae: 0.4270 - mse: 0.2922 - val_loss: 0.4232 - val_mae: 0.4232 - val_mse: 0.2890\n",
            "Epoch 265/600\n",
            "13/13 [==============================] - 0s 3ms/step - loss: 0.4271 - mae: 0.4271 - mse: 0.2923 - val_loss: 0.4233 - val_mae: 0.4233 - val_mse: 0.2893\n",
            "Epoch 266/600\n",
            "13/13 [==============================] - 0s 3ms/step - loss: 0.4273 - mae: 0.4273 - mse: 0.2925 - val_loss: 0.4232 - val_mae: 0.4232 - val_mse: 0.2888\n",
            "Epoch 267/600\n",
            "13/13 [==============================] - 0s 4ms/step - loss: 0.4274 - mae: 0.4274 - mse: 0.2924 - val_loss: 0.4237 - val_mae: 0.4237 - val_mse: 0.2899\n",
            "Epoch 268/600\n",
            "13/13 [==============================] - 0s 3ms/step - loss: 0.4272 - mae: 0.4272 - mse: 0.2923 - val_loss: 0.4229 - val_mae: 0.4229 - val_mse: 0.2878\n",
            "Epoch 269/600\n",
            "13/13 [==============================] - 0s 4ms/step - loss: 0.4272 - mae: 0.4272 - mse: 0.2922 - val_loss: 0.4231 - val_mae: 0.4231 - val_mse: 0.2875\n",
            "Epoch 270/600\n",
            "13/13 [==============================] - 0s 3ms/step - loss: 0.4271 - mae: 0.4271 - mse: 0.2921 - val_loss: 0.4233 - val_mae: 0.4233 - val_mse: 0.2882\n",
            "Epoch 271/600\n",
            "13/13 [==============================] - 0s 4ms/step - loss: 0.4270 - mae: 0.4270 - mse: 0.2921 - val_loss: 0.4234 - val_mae: 0.4234 - val_mse: 0.2885\n",
            "Epoch 272/600\n",
            "13/13 [==============================] - 0s 3ms/step - loss: 0.4272 - mae: 0.4272 - mse: 0.2922 - val_loss: 0.4234 - val_mae: 0.4234 - val_mse: 0.2890\n",
            "Epoch 273/600\n",
            "13/13 [==============================] - 0s 4ms/step - loss: 0.4271 - mae: 0.4271 - mse: 0.2921 - val_loss: 0.4233 - val_mae: 0.4233 - val_mse: 0.2886\n",
            "Epoch 274/600\n",
            "13/13 [==============================] - 0s 3ms/step - loss: 0.4269 - mae: 0.4269 - mse: 0.2921 - val_loss: 0.4231 - val_mae: 0.4231 - val_mse: 0.2886\n",
            "Epoch 275/600\n",
            "13/13 [==============================] - 0s 3ms/step - loss: 0.4271 - mae: 0.4271 - mse: 0.2921 - val_loss: 0.4227 - val_mae: 0.4227 - val_mse: 0.2883\n",
            "Epoch 276/600\n",
            "13/13 [==============================] - 0s 4ms/step - loss: 0.4272 - mae: 0.4272 - mse: 0.2922 - val_loss: 0.4227 - val_mae: 0.4227 - val_mse: 0.2885\n",
            "Epoch 277/600\n",
            "13/13 [==============================] - 0s 4ms/step - loss: 0.4270 - mae: 0.4270 - mse: 0.2921 - val_loss: 0.4230 - val_mae: 0.4230 - val_mse: 0.2885\n",
            "Epoch 278/600\n",
            "13/13 [==============================] - 0s 4ms/step - loss: 0.4271 - mae: 0.4271 - mse: 0.2921 - val_loss: 0.4236 - val_mae: 0.4236 - val_mse: 0.2896\n",
            "Epoch 279/600\n",
            "13/13 [==============================] - 0s 3ms/step - loss: 0.4271 - mae: 0.4271 - mse: 0.2923 - val_loss: 0.4233 - val_mae: 0.4233 - val_mse: 0.2888\n",
            "Epoch 280/600\n",
            "13/13 [==============================] - 0s 3ms/step - loss: 0.4271 - mae: 0.4271 - mse: 0.2922 - val_loss: 0.4233 - val_mae: 0.4233 - val_mse: 0.2887\n",
            "Epoch 281/600\n",
            "13/13 [==============================] - 0s 4ms/step - loss: 0.4270 - mae: 0.4270 - mse: 0.2920 - val_loss: 0.4230 - val_mae: 0.4230 - val_mse: 0.2874\n",
            "Epoch 282/600\n",
            "13/13 [==============================] - 0s 3ms/step - loss: 0.4272 - mae: 0.4272 - mse: 0.2921 - val_loss: 0.4229 - val_mae: 0.4229 - val_mse: 0.2878\n",
            "Epoch 283/600\n",
            "13/13 [==============================] - 0s 4ms/step - loss: 0.4274 - mae: 0.4274 - mse: 0.2926 - val_loss: 0.4237 - val_mae: 0.4237 - val_mse: 0.2893\n",
            "Epoch 284/600\n",
            "13/13 [==============================] - 0s 3ms/step - loss: 0.4271 - mae: 0.4271 - mse: 0.2921 - val_loss: 0.4228 - val_mae: 0.4228 - val_mse: 0.2884\n",
            "Epoch 285/600\n",
            "13/13 [==============================] - 0s 4ms/step - loss: 0.4271 - mae: 0.4271 - mse: 0.2921 - val_loss: 0.4225 - val_mae: 0.4225 - val_mse: 0.2878\n",
            "Epoch 286/600\n",
            "13/13 [==============================] - 0s 3ms/step - loss: 0.4273 - mae: 0.4273 - mse: 0.2923 - val_loss: 0.4225 - val_mae: 0.4225 - val_mse: 0.2877\n",
            "Epoch 287/600\n",
            "13/13 [==============================] - 0s 4ms/step - loss: 0.4271 - mae: 0.4271 - mse: 0.2920 - val_loss: 0.4232 - val_mae: 0.4232 - val_mse: 0.2883\n",
            "Epoch 288/600\n",
            "13/13 [==============================] - 0s 4ms/step - loss: 0.4270 - mae: 0.4270 - mse: 0.2921 - val_loss: 0.4234 - val_mae: 0.4234 - val_mse: 0.2886\n",
            "Epoch 289/600\n",
            "13/13 [==============================] - 0s 4ms/step - loss: 0.4271 - mae: 0.4271 - mse: 0.2921 - val_loss: 0.4232 - val_mae: 0.4232 - val_mse: 0.2885\n",
            "Epoch 290/600\n",
            "13/13 [==============================] - 0s 3ms/step - loss: 0.4271 - mae: 0.4271 - mse: 0.2922 - val_loss: 0.4233 - val_mae: 0.4233 - val_mse: 0.2895\n",
            "Epoch 291/600\n",
            "13/13 [==============================] - 0s 3ms/step - loss: 0.4271 - mae: 0.4271 - mse: 0.2922 - val_loss: 0.4230 - val_mae: 0.4230 - val_mse: 0.2889\n",
            "Epoch 292/600\n",
            "13/13 [==============================] - 0s 4ms/step - loss: 0.4273 - mae: 0.4273 - mse: 0.2925 - val_loss: 0.4231 - val_mae: 0.4231 - val_mse: 0.2881\n",
            "Epoch 293/600\n",
            "13/13 [==============================] - 0s 4ms/step - loss: 0.4270 - mae: 0.4270 - mse: 0.2921 - val_loss: 0.4230 - val_mae: 0.4230 - val_mse: 0.2882\n",
            "Epoch 294/600\n",
            "13/13 [==============================] - 0s 4ms/step - loss: 0.4270 - mae: 0.4270 - mse: 0.2921 - val_loss: 0.4228 - val_mae: 0.4228 - val_mse: 0.2883\n",
            "Epoch 295/600\n",
            "13/13 [==============================] - 0s 4ms/step - loss: 0.4272 - mae: 0.4272 - mse: 0.2923 - val_loss: 0.4232 - val_mae: 0.4232 - val_mse: 0.2890\n",
            "Epoch 296/600\n",
            "13/13 [==============================] - 0s 3ms/step - loss: 0.4271 - mae: 0.4271 - mse: 0.2922 - val_loss: 0.4230 - val_mae: 0.4230 - val_mse: 0.2883\n",
            "Epoch 297/600\n",
            "13/13 [==============================] - 0s 4ms/step - loss: 0.4271 - mae: 0.4271 - mse: 0.2921 - val_loss: 0.4226 - val_mae: 0.4226 - val_mse: 0.2876\n",
            "Epoch 298/600\n",
            "13/13 [==============================] - 0s 3ms/step - loss: 0.4272 - mae: 0.4272 - mse: 0.2923 - val_loss: 0.4230 - val_mae: 0.4230 - val_mse: 0.2878\n",
            "Epoch 299/600\n",
            "13/13 [==============================] - 0s 3ms/step - loss: 0.4271 - mae: 0.4271 - mse: 0.2921 - val_loss: 0.4235 - val_mae: 0.4235 - val_mse: 0.2894\n",
            "Epoch 300/600\n",
            "13/13 [==============================] - 0s 3ms/step - loss: 0.4272 - mae: 0.4272 - mse: 0.2922 - val_loss: 0.4232 - val_mae: 0.4232 - val_mse: 0.2883\n",
            "Epoch 301/600\n",
            "13/13 [==============================] - 0s 4ms/step - loss: 0.4270 - mae: 0.4270 - mse: 0.2921 - val_loss: 0.4230 - val_mae: 0.4230 - val_mse: 0.2885\n",
            "Epoch 302/600\n",
            "13/13 [==============================] - 0s 3ms/step - loss: 0.4270 - mae: 0.4270 - mse: 0.2922 - val_loss: 0.4230 - val_mae: 0.4230 - val_mse: 0.2890\n",
            "Epoch 303/600\n",
            "13/13 [==============================] - 0s 4ms/step - loss: 0.4270 - mae: 0.4270 - mse: 0.2922 - val_loss: 0.4228 - val_mae: 0.4228 - val_mse: 0.2880\n",
            "Epoch 304/600\n",
            "13/13 [==============================] - 0s 3ms/step - loss: 0.4273 - mae: 0.4273 - mse: 0.2922 - val_loss: 0.4234 - val_mae: 0.4234 - val_mse: 0.2896\n",
            "Epoch 305/600\n",
            "13/13 [==============================] - 0s 4ms/step - loss: 0.4271 - mae: 0.4271 - mse: 0.2922 - val_loss: 0.4229 - val_mae: 0.4229 - val_mse: 0.2884\n",
            "Epoch 306/600\n",
            "13/13 [==============================] - 0s 3ms/step - loss: 0.4270 - mae: 0.4270 - mse: 0.2921 - val_loss: 0.4231 - val_mae: 0.4231 - val_mse: 0.2883\n",
            "Epoch 307/600\n",
            "13/13 [==============================] - 0s 3ms/step - loss: 0.4272 - mae: 0.4272 - mse: 0.2923 - val_loss: 0.4234 - val_mae: 0.4234 - val_mse: 0.2890\n",
            "Epoch 308/600\n",
            "13/13 [==============================] - 0s 3ms/step - loss: 0.4270 - mae: 0.4270 - mse: 0.2921 - val_loss: 0.4232 - val_mae: 0.4232 - val_mse: 0.2885\n",
            "Epoch 309/600\n",
            "13/13 [==============================] - 0s 4ms/step - loss: 0.4270 - mae: 0.4270 - mse: 0.2921 - val_loss: 0.4229 - val_mae: 0.4229 - val_mse: 0.2881\n",
            "Epoch 310/600\n",
            "13/13 [==============================] - 0s 3ms/step - loss: 0.4271 - mae: 0.4271 - mse: 0.2922 - val_loss: 0.4229 - val_mae: 0.4229 - val_mse: 0.2882\n",
            "Epoch 311/600\n",
            "13/13 [==============================] - 0s 5ms/step - loss: 0.4275 - mae: 0.4275 - mse: 0.2922 - val_loss: 0.4228 - val_mae: 0.4228 - val_mse: 0.2867\n",
            "Epoch 312/600\n",
            "13/13 [==============================] - 0s 5ms/step - loss: 0.4272 - mae: 0.4272 - mse: 0.2923 - val_loss: 0.4232 - val_mae: 0.4232 - val_mse: 0.2880\n",
            "Epoch 313/600\n",
            "13/13 [==============================] - 0s 3ms/step - loss: 0.4271 - mae: 0.4271 - mse: 0.2921 - val_loss: 0.4232 - val_mae: 0.4232 - val_mse: 0.2881\n",
            "Epoch 314/600\n",
            "13/13 [==============================] - 0s 5ms/step - loss: 0.4271 - mae: 0.4271 - mse: 0.2922 - val_loss: 0.4234 - val_mae: 0.4234 - val_mse: 0.2890\n",
            "Epoch 315/600\n",
            "13/13 [==============================] - 0s 4ms/step - loss: 0.4271 - mae: 0.4271 - mse: 0.2923 - val_loss: 0.4234 - val_mae: 0.4234 - val_mse: 0.2892\n",
            "Epoch 316/600\n",
            "13/13 [==============================] - 0s 3ms/step - loss: 0.4271 - mae: 0.4271 - mse: 0.2923 - val_loss: 0.4237 - val_mae: 0.4237 - val_mse: 0.2896\n",
            "Epoch 317/600\n",
            "13/13 [==============================] - 0s 3ms/step - loss: 0.4272 - mae: 0.4272 - mse: 0.2923 - val_loss: 0.4231 - val_mae: 0.4231 - val_mse: 0.2883\n",
            "Epoch 318/600\n",
            "13/13 [==============================] - 0s 3ms/step - loss: 0.4270 - mae: 0.4270 - mse: 0.2921 - val_loss: 0.4234 - val_mae: 0.4234 - val_mse: 0.2888\n",
            "Epoch 319/600\n",
            "13/13 [==============================] - 0s 3ms/step - loss: 0.4270 - mae: 0.4270 - mse: 0.2921 - val_loss: 0.4233 - val_mae: 0.4233 - val_mse: 0.2883\n",
            "Epoch 320/600\n",
            "13/13 [==============================] - 0s 4ms/step - loss: 0.4270 - mae: 0.4270 - mse: 0.2921 - val_loss: 0.4232 - val_mae: 0.4232 - val_mse: 0.2885\n",
            "Epoch 321/600\n",
            "13/13 [==============================] - 0s 4ms/step - loss: 0.4270 - mae: 0.4270 - mse: 0.2921 - val_loss: 0.4232 - val_mae: 0.4232 - val_mse: 0.2888\n",
            "Epoch 322/600\n",
            "13/13 [==============================] - 0s 4ms/step - loss: 0.4270 - mae: 0.4270 - mse: 0.2921 - val_loss: 0.4235 - val_mae: 0.4235 - val_mse: 0.2895\n",
            "Epoch 323/600\n",
            "13/13 [==============================] - 0s 4ms/step - loss: 0.4271 - mae: 0.4271 - mse: 0.2923 - val_loss: 0.4233 - val_mae: 0.4233 - val_mse: 0.2887\n",
            "Epoch 324/600\n",
            "13/13 [==============================] - 0s 3ms/step - loss: 0.4270 - mae: 0.4270 - mse: 0.2921 - val_loss: 0.4235 - val_mae: 0.4235 - val_mse: 0.2893\n",
            "Epoch 325/600\n",
            "13/13 [==============================] - 0s 4ms/step - loss: 0.4272 - mae: 0.4272 - mse: 0.2924 - val_loss: 0.4234 - val_mae: 0.4234 - val_mse: 0.2892\n",
            "Epoch 326/600\n",
            "13/13 [==============================] - 0s 4ms/step - loss: 0.4269 - mae: 0.4269 - mse: 0.2922 - val_loss: 0.4228 - val_mae: 0.4228 - val_mse: 0.2884\n",
            "Epoch 327/600\n",
            "13/13 [==============================] - 0s 5ms/step - loss: 0.4271 - mae: 0.4271 - mse: 0.2922 - val_loss: 0.4229 - val_mae: 0.4229 - val_mse: 0.2881\n",
            "Epoch 328/600\n",
            "13/13 [==============================] - 0s 3ms/step - loss: 0.4270 - mae: 0.4270 - mse: 0.2920 - val_loss: 0.4229 - val_mae: 0.4229 - val_mse: 0.2884\n",
            "Epoch 329/600\n",
            "13/13 [==============================] - 0s 6ms/step - loss: 0.4272 - mae: 0.4272 - mse: 0.2924 - val_loss: 0.4236 - val_mae: 0.4236 - val_mse: 0.2898\n",
            "Epoch 330/600\n",
            "13/13 [==============================] - 0s 3ms/step - loss: 0.4273 - mae: 0.4273 - mse: 0.2924 - val_loss: 0.4233 - val_mae: 0.4233 - val_mse: 0.2895\n",
            "Epoch 331/600\n",
            "13/13 [==============================] - 0s 4ms/step - loss: 0.4270 - mae: 0.4270 - mse: 0.2921 - val_loss: 0.4231 - val_mae: 0.4231 - val_mse: 0.2887\n",
            "Epoch 332/600\n",
            "13/13 [==============================] - 0s 3ms/step - loss: 0.4270 - mae: 0.4270 - mse: 0.2922 - val_loss: 0.4232 - val_mae: 0.4232 - val_mse: 0.2887\n",
            "Epoch 333/600\n",
            "13/13 [==============================] - 0s 4ms/step - loss: 0.4269 - mae: 0.4269 - mse: 0.2920 - val_loss: 0.4230 - val_mae: 0.4230 - val_mse: 0.2876\n",
            "Epoch 334/600\n",
            "13/13 [==============================] - 0s 3ms/step - loss: 0.4272 - mae: 0.4272 - mse: 0.2920 - val_loss: 0.4230 - val_mae: 0.4230 - val_mse: 0.2874\n",
            "Epoch 335/600\n",
            "13/13 [==============================] - 0s 4ms/step - loss: 0.4271 - mae: 0.4271 - mse: 0.2921 - val_loss: 0.4227 - val_mae: 0.4227 - val_mse: 0.2878\n",
            "Epoch 336/600\n",
            "13/13 [==============================] - 0s 3ms/step - loss: 0.4269 - mae: 0.4269 - mse: 0.2921 - val_loss: 0.4233 - val_mae: 0.4233 - val_mse: 0.2892\n",
            "Epoch 337/600\n",
            "13/13 [==============================] - 0s 3ms/step - loss: 0.4273 - mae: 0.4273 - mse: 0.2924 - val_loss: 0.4236 - val_mae: 0.4236 - val_mse: 0.2900\n",
            "Epoch 338/600\n",
            "13/13 [==============================] - 0s 4ms/step - loss: 0.4272 - mae: 0.4272 - mse: 0.2922 - val_loss: 0.4235 - val_mae: 0.4235 - val_mse: 0.2890\n",
            "Epoch 339/600\n",
            "13/13 [==============================] - 0s 3ms/step - loss: 0.4272 - mae: 0.4272 - mse: 0.2922 - val_loss: 0.4230 - val_mae: 0.4230 - val_mse: 0.2884\n",
            "Epoch 340/600\n",
            "13/13 [==============================] - 0s 5ms/step - loss: 0.4271 - mae: 0.4271 - mse: 0.2922 - val_loss: 0.4235 - val_mae: 0.4235 - val_mse: 0.2894\n",
            "Epoch 341/600\n",
            "13/13 [==============================] - 0s 4ms/step - loss: 0.4271 - mae: 0.4271 - mse: 0.2922 - val_loss: 0.4233 - val_mae: 0.4233 - val_mse: 0.2890\n",
            "Epoch 342/600\n",
            "13/13 [==============================] - 0s 4ms/step - loss: 0.4270 - mae: 0.4270 - mse: 0.2921 - val_loss: 0.4231 - val_mae: 0.4231 - val_mse: 0.2884\n",
            "Epoch 343/600\n",
            "13/13 [==============================] - 0s 3ms/step - loss: 0.4271 - mae: 0.4271 - mse: 0.2922 - val_loss: 0.4231 - val_mae: 0.4231 - val_mse: 0.2883\n",
            "Epoch 344/600\n",
            "13/13 [==============================] - 0s 4ms/step - loss: 0.4272 - mae: 0.4272 - mse: 0.2923 - val_loss: 0.4231 - val_mae: 0.4231 - val_mse: 0.2886\n",
            "Epoch 345/600\n",
            "13/13 [==============================] - 0s 4ms/step - loss: 0.4271 - mae: 0.4271 - mse: 0.2922 - val_loss: 0.4227 - val_mae: 0.4227 - val_mse: 0.2879\n",
            "Epoch 346/600\n",
            "13/13 [==============================] - 0s 3ms/step - loss: 0.4270 - mae: 0.4270 - mse: 0.2921 - val_loss: 0.4229 - val_mae: 0.4229 - val_mse: 0.2885\n",
            "Epoch 347/600\n",
            "13/13 [==============================] - 0s 3ms/step - loss: 0.4272 - mae: 0.4272 - mse: 0.2923 - val_loss: 0.4228 - val_mae: 0.4228 - val_mse: 0.2885\n",
            "Epoch 348/600\n",
            "13/13 [==============================] - 0s 4ms/step - loss: 0.4271 - mae: 0.4271 - mse: 0.2922 - val_loss: 0.4231 - val_mae: 0.4231 - val_mse: 0.2885\n",
            "Epoch 349/600\n",
            "13/13 [==============================] - 0s 4ms/step - loss: 0.4272 - mae: 0.4272 - mse: 0.2923 - val_loss: 0.4236 - val_mae: 0.4236 - val_mse: 0.2893\n",
            "Epoch 350/600\n",
            "13/13 [==============================] - 0s 4ms/step - loss: 0.4269 - mae: 0.4269 - mse: 0.2920 - val_loss: 0.4231 - val_mae: 0.4231 - val_mse: 0.2885\n",
            "Epoch 351/600\n",
            "13/13 [==============================] - 0s 3ms/step - loss: 0.4270 - mae: 0.4270 - mse: 0.2921 - val_loss: 0.4231 - val_mae: 0.4231 - val_mse: 0.2887\n",
            "Epoch 352/600\n",
            "13/13 [==============================] - 0s 5ms/step - loss: 0.4271 - mae: 0.4271 - mse: 0.2922 - val_loss: 0.4229 - val_mae: 0.4229 - val_mse: 0.2883\n",
            "Epoch 353/600\n",
            "13/13 [==============================] - 0s 4ms/step - loss: 0.4270 - mae: 0.4270 - mse: 0.2921 - val_loss: 0.4232 - val_mae: 0.4232 - val_mse: 0.2888\n",
            "Epoch 354/600\n",
            "13/13 [==============================] - 0s 3ms/step - loss: 0.4270 - mae: 0.4270 - mse: 0.2921 - val_loss: 0.4231 - val_mae: 0.4231 - val_mse: 0.2890\n",
            "Epoch 355/600\n",
            "13/13 [==============================] - 0s 3ms/step - loss: 0.4270 - mae: 0.4270 - mse: 0.2921 - val_loss: 0.4235 - val_mae: 0.4235 - val_mse: 0.2895\n",
            "Epoch 356/600\n",
            "13/13 [==============================] - 0s 4ms/step - loss: 0.4270 - mae: 0.4270 - mse: 0.2922 - val_loss: 0.4235 - val_mae: 0.4235 - val_mse: 0.2892\n",
            "Epoch 357/600\n",
            "13/13 [==============================] - 0s 4ms/step - loss: 0.4270 - mae: 0.4270 - mse: 0.2922 - val_loss: 0.4231 - val_mae: 0.4231 - val_mse: 0.2889\n",
            "Epoch 358/600\n",
            "13/13 [==============================] - 0s 3ms/step - loss: 0.4270 - mae: 0.4270 - mse: 0.2921 - val_loss: 0.4231 - val_mae: 0.4231 - val_mse: 0.2882\n",
            "Epoch 359/600\n",
            "13/13 [==============================] - 0s 4ms/step - loss: 0.4271 - mae: 0.4271 - mse: 0.2920 - val_loss: 0.4230 - val_mae: 0.4230 - val_mse: 0.2881\n",
            "Epoch 360/600\n",
            "13/13 [==============================] - 0s 5ms/step - loss: 0.4269 - mae: 0.4269 - mse: 0.2920 - val_loss: 0.4234 - val_mae: 0.4234 - val_mse: 0.2895\n",
            "Epoch 361/600\n",
            "13/13 [==============================] - 0s 3ms/step - loss: 0.4270 - mae: 0.4270 - mse: 0.2922 - val_loss: 0.4235 - val_mae: 0.4235 - val_mse: 0.2898\n",
            "Epoch 362/600\n",
            "13/13 [==============================] - 0s 5ms/step - loss: 0.4270 - mae: 0.4270 - mse: 0.2922 - val_loss: 0.4232 - val_mae: 0.4232 - val_mse: 0.2893\n",
            "Epoch 363/600\n",
            "13/13 [==============================] - 0s 4ms/step - loss: 0.4272 - mae: 0.4272 - mse: 0.2922 - val_loss: 0.4234 - val_mae: 0.4234 - val_mse: 0.2886\n",
            "Epoch 364/600\n",
            "13/13 [==============================] - 0s 3ms/step - loss: 0.4273 - mae: 0.4273 - mse: 0.2922 - val_loss: 0.4230 - val_mae: 0.4230 - val_mse: 0.2876\n",
            "Epoch 365/600\n",
            "13/13 [==============================] - 0s 3ms/step - loss: 0.4271 - mae: 0.4271 - mse: 0.2921 - val_loss: 0.4234 - val_mae: 0.4234 - val_mse: 0.2888\n",
            "Epoch 366/600\n",
            "13/13 [==============================] - 0s 3ms/step - loss: 0.4271 - mae: 0.4271 - mse: 0.2922 - val_loss: 0.4235 - val_mae: 0.4235 - val_mse: 0.2889\n",
            "Epoch 367/600\n",
            "13/13 [==============================] - 0s 6ms/step - loss: 0.4270 - mae: 0.4270 - mse: 0.2922 - val_loss: 0.4236 - val_mae: 0.4236 - val_mse: 0.2891\n",
            "Epoch 368/600\n",
            "13/13 [==============================] - 0s 3ms/step - loss: 0.4271 - mae: 0.4271 - mse: 0.2923 - val_loss: 0.4233 - val_mae: 0.4233 - val_mse: 0.2887\n",
            "Epoch 369/600\n",
            "13/13 [==============================] - 0s 3ms/step - loss: 0.4271 - mae: 0.4271 - mse: 0.2922 - val_loss: 0.4233 - val_mae: 0.4233 - val_mse: 0.2893\n",
            "Epoch 370/600\n",
            "13/13 [==============================] - 0s 4ms/step - loss: 0.4270 - mae: 0.4270 - mse: 0.2921 - val_loss: 0.4233 - val_mae: 0.4233 - val_mse: 0.2892\n",
            "Epoch 371/600\n",
            "13/13 [==============================] - 0s 4ms/step - loss: 0.4270 - mae: 0.4270 - mse: 0.2922 - val_loss: 0.4232 - val_mae: 0.4232 - val_mse: 0.2889\n",
            "Epoch 372/600\n",
            "13/13 [==============================] - 0s 3ms/step - loss: 0.4271 - mae: 0.4271 - mse: 0.2922 - val_loss: 0.4229 - val_mae: 0.4229 - val_mse: 0.2880\n",
            "Epoch 373/600\n",
            "13/13 [==============================] - 0s 4ms/step - loss: 0.4270 - mae: 0.4270 - mse: 0.2921 - val_loss: 0.4235 - val_mae: 0.4235 - val_mse: 0.2895\n",
            "Epoch 374/600\n",
            "13/13 [==============================] - 0s 4ms/step - loss: 0.4272 - mae: 0.4272 - mse: 0.2924 - val_loss: 0.4239 - val_mae: 0.4239 - val_mse: 0.2901\n",
            "Epoch 375/600\n",
            "13/13 [==============================] - 0s 5ms/step - loss: 0.4271 - mae: 0.4271 - mse: 0.2923 - val_loss: 0.4232 - val_mae: 0.4232 - val_mse: 0.2890\n",
            "Epoch 376/600\n",
            "13/13 [==============================] - 0s 3ms/step - loss: 0.4270 - mae: 0.4270 - mse: 0.2921 - val_loss: 0.4234 - val_mae: 0.4234 - val_mse: 0.2896\n",
            "Epoch 377/600\n",
            "13/13 [==============================] - 0s 6ms/step - loss: 0.4270 - mae: 0.4270 - mse: 0.2922 - val_loss: 0.4230 - val_mae: 0.4230 - val_mse: 0.2887\n",
            "Epoch 378/600\n",
            "13/13 [==============================] - 0s 4ms/step - loss: 0.4270 - mae: 0.4270 - mse: 0.2921 - val_loss: 0.4232 - val_mae: 0.4232 - val_mse: 0.2894\n",
            "Epoch 379/600\n",
            "13/13 [==============================] - 0s 3ms/step - loss: 0.4272 - mae: 0.4272 - mse: 0.2924 - val_loss: 0.4234 - val_mae: 0.4234 - val_mse: 0.2896\n",
            "Epoch 380/600\n",
            "13/13 [==============================] - 0s 3ms/step - loss: 0.4270 - mae: 0.4270 - mse: 0.2922 - val_loss: 0.4230 - val_mae: 0.4230 - val_mse: 0.2887\n",
            "Epoch 381/600\n",
            "13/13 [==============================] - 0s 4ms/step - loss: 0.4270 - mae: 0.4270 - mse: 0.2921 - val_loss: 0.4230 - val_mae: 0.4230 - val_mse: 0.2885\n",
            "Epoch 382/600\n",
            "13/13 [==============================] - 0s 3ms/step - loss: 0.4270 - mae: 0.4270 - mse: 0.2920 - val_loss: 0.4231 - val_mae: 0.4231 - val_mse: 0.2889\n",
            "Epoch 383/600\n",
            "13/13 [==============================] - 0s 3ms/step - loss: 0.4271 - mae: 0.4271 - mse: 0.2922 - val_loss: 0.4233 - val_mae: 0.4233 - val_mse: 0.2887\n",
            "Epoch 384/600\n",
            "13/13 [==============================] - 0s 3ms/step - loss: 0.4270 - mae: 0.4270 - mse: 0.2922 - val_loss: 0.4233 - val_mae: 0.4233 - val_mse: 0.2892\n",
            "Epoch 385/600\n",
            "13/13 [==============================] - 0s 4ms/step - loss: 0.4273 - mae: 0.4273 - mse: 0.2925 - val_loss: 0.4236 - val_mae: 0.4236 - val_mse: 0.2899\n",
            "Epoch 386/600\n",
            "13/13 [==============================] - 0s 3ms/step - loss: 0.4270 - mae: 0.4270 - mse: 0.2922 - val_loss: 0.4235 - val_mae: 0.4235 - val_mse: 0.2897\n",
            "Epoch 387/600\n",
            "13/13 [==============================] - 0s 3ms/step - loss: 0.4273 - mae: 0.4273 - mse: 0.2923 - val_loss: 0.4229 - val_mae: 0.4229 - val_mse: 0.2886\n",
            "Epoch 388/600\n",
            "13/13 [==============================] - 0s 3ms/step - loss: 0.4273 - mae: 0.4273 - mse: 0.2924 - val_loss: 0.4240 - val_mae: 0.4240 - val_mse: 0.2906\n",
            "Epoch 389/600\n",
            "13/13 [==============================] - 0s 3ms/step - loss: 0.4272 - mae: 0.4272 - mse: 0.2924 - val_loss: 0.4238 - val_mae: 0.4238 - val_mse: 0.2902\n",
            "Epoch 390/600\n",
            "13/13 [==============================] - 0s 5ms/step - loss: 0.4271 - mae: 0.4271 - mse: 0.2923 - val_loss: 0.4231 - val_mae: 0.4231 - val_mse: 0.2886\n",
            "Epoch 391/600\n",
            "13/13 [==============================] - 0s 4ms/step - loss: 0.4271 - mae: 0.4271 - mse: 0.2921 - val_loss: 0.4227 - val_mae: 0.4227 - val_mse: 0.2881\n",
            "Epoch 392/600\n",
            "13/13 [==============================] - 0s 3ms/step - loss: 0.4270 - mae: 0.4270 - mse: 0.2922 - val_loss: 0.4229 - val_mae: 0.4229 - val_mse: 0.2889\n",
            "Epoch 393/600\n",
            "13/13 [==============================] - 0s 4ms/step - loss: 0.4270 - mae: 0.4270 - mse: 0.2922 - val_loss: 0.4233 - val_mae: 0.4233 - val_mse: 0.2890\n",
            "Epoch 394/600\n",
            "13/13 [==============================] - 0s 4ms/step - loss: 0.4270 - mae: 0.4270 - mse: 0.2921 - val_loss: 0.4231 - val_mae: 0.4231 - val_mse: 0.2889\n",
            "Epoch 395/600\n",
            "13/13 [==============================] - 0s 4ms/step - loss: 0.4270 - mae: 0.4270 - mse: 0.2921 - val_loss: 0.4231 - val_mae: 0.4231 - val_mse: 0.2888\n",
            "Epoch 396/600\n",
            "13/13 [==============================] - 0s 3ms/step - loss: 0.4270 - mae: 0.4270 - mse: 0.2922 - val_loss: 0.4232 - val_mae: 0.4232 - val_mse: 0.2885\n",
            "Epoch 397/600\n",
            "13/13 [==============================] - 0s 3ms/step - loss: 0.4270 - mae: 0.4270 - mse: 0.2920 - val_loss: 0.4235 - val_mae: 0.4235 - val_mse: 0.2893\n",
            "Epoch 398/600\n",
            "13/13 [==============================] - 0s 5ms/step - loss: 0.4271 - mae: 0.4271 - mse: 0.2922 - val_loss: 0.4237 - val_mae: 0.4237 - val_mse: 0.2898\n",
            "Epoch 399/600\n",
            "13/13 [==============================] - 0s 3ms/step - loss: 0.4273 - mae: 0.4273 - mse: 0.2923 - val_loss: 0.4228 - val_mae: 0.4228 - val_mse: 0.2880\n",
            "Epoch 400/600\n",
            "13/13 [==============================] - 0s 3ms/step - loss: 0.4273 - mae: 0.4273 - mse: 0.2922 - val_loss: 0.4229 - val_mae: 0.4229 - val_mse: 0.2892\n",
            "Epoch 401/600\n",
            "13/13 [==============================] - 0s 3ms/step - loss: 0.4270 - mae: 0.4270 - mse: 0.2920 - val_loss: 0.4228 - val_mae: 0.4228 - val_mse: 0.2885\n",
            "Epoch 402/600\n",
            "13/13 [==============================] - 0s 4ms/step - loss: 0.4274 - mae: 0.4274 - mse: 0.2923 - val_loss: 0.4227 - val_mae: 0.4227 - val_mse: 0.2881\n",
            "Epoch 403/600\n",
            "13/13 [==============================] - 0s 3ms/step - loss: 0.4271 - mae: 0.4271 - mse: 0.2921 - val_loss: 0.4236 - val_mae: 0.4236 - val_mse: 0.2896\n",
            "Epoch 404/600\n",
            "13/13 [==============================] - 0s 3ms/step - loss: 0.4271 - mae: 0.4271 - mse: 0.2923 - val_loss: 0.4237 - val_mae: 0.4237 - val_mse: 0.2894\n",
            "Epoch 405/600\n",
            "13/13 [==============================] - 0s 3ms/step - loss: 0.4271 - mae: 0.4271 - mse: 0.2922 - val_loss: 0.4232 - val_mae: 0.4232 - val_mse: 0.2884\n",
            "Epoch 406/600\n",
            "13/13 [==============================] - 0s 4ms/step - loss: 0.4270 - mae: 0.4270 - mse: 0.2920 - val_loss: 0.4230 - val_mae: 0.4230 - val_mse: 0.2881\n",
            "Epoch 407/600\n",
            "13/13 [==============================] - 0s 5ms/step - loss: 0.4270 - mae: 0.4270 - mse: 0.2920 - val_loss: 0.4227 - val_mae: 0.4227 - val_mse: 0.2879\n",
            "Epoch 408/600\n",
            "13/13 [==============================] - 0s 4ms/step - loss: 0.4271 - mae: 0.4271 - mse: 0.2920 - val_loss: 0.4232 - val_mae: 0.4232 - val_mse: 0.2894\n",
            "Epoch 409/600\n",
            "13/13 [==============================] - 0s 3ms/step - loss: 0.4269 - mae: 0.4269 - mse: 0.2921 - val_loss: 0.4232 - val_mae: 0.4232 - val_mse: 0.2893\n",
            "Epoch 410/600\n",
            "13/13 [==============================] - 0s 4ms/step - loss: 0.4272 - mae: 0.4272 - mse: 0.2921 - val_loss: 0.4230 - val_mae: 0.4230 - val_mse: 0.2885\n",
            "Epoch 411/600\n",
            "13/13 [==============================] - 0s 3ms/step - loss: 0.4270 - mae: 0.4270 - mse: 0.2920 - val_loss: 0.4229 - val_mae: 0.4229 - val_mse: 0.2889\n",
            "Epoch 412/600\n",
            "13/13 [==============================] - 0s 3ms/step - loss: 0.4270 - mae: 0.4270 - mse: 0.2921 - val_loss: 0.4230 - val_mae: 0.4230 - val_mse: 0.2891\n",
            "Epoch 413/600\n",
            "13/13 [==============================] - 0s 3ms/step - loss: 0.4270 - mae: 0.4270 - mse: 0.2920 - val_loss: 0.4234 - val_mae: 0.4234 - val_mse: 0.2894\n",
            "Epoch 414/600\n",
            "13/13 [==============================] - 0s 3ms/step - loss: 0.4272 - mae: 0.4272 - mse: 0.2922 - val_loss: 0.4230 - val_mae: 0.4230 - val_mse: 0.2881\n",
            "Epoch 415/600\n",
            "13/13 [==============================] - 0s 3ms/step - loss: 0.4270 - mae: 0.4270 - mse: 0.2920 - val_loss: 0.4231 - val_mae: 0.4231 - val_mse: 0.2883\n",
            "Epoch 416/600\n",
            "13/13 [==============================] - 0s 3ms/step - loss: 0.4269 - mae: 0.4269 - mse: 0.2919 - val_loss: 0.4233 - val_mae: 0.4233 - val_mse: 0.2893\n",
            "Epoch 417/600\n",
            "13/13 [==============================] - 0s 4ms/step - loss: 0.4272 - mae: 0.4272 - mse: 0.2923 - val_loss: 0.4234 - val_mae: 0.4234 - val_mse: 0.2894\n",
            "Epoch 418/600\n",
            "13/13 [==============================] - 0s 4ms/step - loss: 0.4271 - mae: 0.4271 - mse: 0.2922 - val_loss: 0.4236 - val_mae: 0.4236 - val_mse: 0.2894\n",
            "Epoch 419/600\n",
            "13/13 [==============================] - 0s 4ms/step - loss: 0.4271 - mae: 0.4271 - mse: 0.2922 - val_loss: 0.4236 - val_mae: 0.4236 - val_mse: 0.2897\n",
            "Epoch 420/600\n",
            "13/13 [==============================] - 0s 4ms/step - loss: 0.4270 - mae: 0.4270 - mse: 0.2922 - val_loss: 0.4234 - val_mae: 0.4234 - val_mse: 0.2892\n",
            "Epoch 421/600\n",
            "13/13 [==============================] - 0s 3ms/step - loss: 0.4269 - mae: 0.4269 - mse: 0.2921 - val_loss: 0.4235 - val_mae: 0.4235 - val_mse: 0.2895\n",
            "Epoch 422/600\n",
            "13/13 [==============================] - 0s 5ms/step - loss: 0.4272 - mae: 0.4272 - mse: 0.2924 - val_loss: 0.4232 - val_mae: 0.4232 - val_mse: 0.2887\n",
            "Epoch 423/600\n",
            "13/13 [==============================] - 0s 3ms/step - loss: 0.4270 - mae: 0.4270 - mse: 0.2921 - val_loss: 0.4233 - val_mae: 0.4233 - val_mse: 0.2892\n",
            "Epoch 424/600\n",
            "13/13 [==============================] - 0s 3ms/step - loss: 0.4270 - mae: 0.4270 - mse: 0.2921 - val_loss: 0.4235 - val_mae: 0.4235 - val_mse: 0.2894\n",
            "Epoch 425/600\n",
            "13/13 [==============================] - 0s 3ms/step - loss: 0.4272 - mae: 0.4272 - mse: 0.2922 - val_loss: 0.4238 - val_mae: 0.4238 - val_mse: 0.2897\n",
            "Epoch 426/600\n",
            "13/13 [==============================] - 0s 3ms/step - loss: 0.4270 - mae: 0.4270 - mse: 0.2922 - val_loss: 0.4238 - val_mae: 0.4238 - val_mse: 0.2901\n",
            "Epoch 427/600\n",
            "13/13 [==============================] - 0s 4ms/step - loss: 0.4270 - mae: 0.4270 - mse: 0.2922 - val_loss: 0.4235 - val_mae: 0.4235 - val_mse: 0.2894\n",
            "Epoch 428/600\n",
            "13/13 [==============================] - 0s 3ms/step - loss: 0.4272 - mae: 0.4272 - mse: 0.2922 - val_loss: 0.4236 - val_mae: 0.4236 - val_mse: 0.2891\n",
            "Epoch 429/600\n",
            "13/13 [==============================] - 0s 3ms/step - loss: 0.4271 - mae: 0.4271 - mse: 0.2922 - val_loss: 0.4236 - val_mae: 0.4236 - val_mse: 0.2901\n",
            "Epoch 430/600\n",
            "13/13 [==============================] - 0s 4ms/step - loss: 0.4270 - mae: 0.4270 - mse: 0.2922 - val_loss: 0.4233 - val_mae: 0.4233 - val_mse: 0.2895\n",
            "Epoch 431/600\n",
            "13/13 [==============================] - 0s 4ms/step - loss: 0.4269 - mae: 0.4269 - mse: 0.2921 - val_loss: 0.4230 - val_mae: 0.4230 - val_mse: 0.2886\n",
            "Epoch 432/600\n",
            "13/13 [==============================] - 0s 5ms/step - loss: 0.4271 - mae: 0.4271 - mse: 0.2922 - val_loss: 0.4230 - val_mae: 0.4230 - val_mse: 0.2889\n",
            "Epoch 433/600\n",
            "13/13 [==============================] - 0s 4ms/step - loss: 0.4270 - mae: 0.4270 - mse: 0.2921 - val_loss: 0.4231 - val_mae: 0.4231 - val_mse: 0.2885\n",
            "Epoch 434/600\n",
            "13/13 [==============================] - 0s 4ms/step - loss: 0.4270 - mae: 0.4270 - mse: 0.2919 - val_loss: 0.4232 - val_mae: 0.4232 - val_mse: 0.2885\n",
            "Epoch 435/600\n",
            "13/13 [==============================] - 0s 4ms/step - loss: 0.4270 - mae: 0.4270 - mse: 0.2921 - val_loss: 0.4237 - val_mae: 0.4237 - val_mse: 0.2895\n",
            "Epoch 436/600\n",
            "13/13 [==============================] - 0s 4ms/step - loss: 0.4270 - mae: 0.4270 - mse: 0.2922 - val_loss: 0.4238 - val_mae: 0.4238 - val_mse: 0.2900\n",
            "Epoch 437/600\n",
            "13/13 [==============================] - 0s 4ms/step - loss: 0.4271 - mae: 0.4271 - mse: 0.2923 - val_loss: 0.4235 - val_mae: 0.4235 - val_mse: 0.2897\n",
            "Epoch 438/600\n",
            "13/13 [==============================] - 0s 4ms/step - loss: 0.4270 - mae: 0.4270 - mse: 0.2922 - val_loss: 0.4230 - val_mae: 0.4230 - val_mse: 0.2894\n",
            "Epoch 439/600\n",
            "13/13 [==============================] - 0s 4ms/step - loss: 0.4270 - mae: 0.4270 - mse: 0.2920 - val_loss: 0.4229 - val_mae: 0.4229 - val_mse: 0.2887\n",
            "Epoch 440/600\n",
            "13/13 [==============================] - 0s 3ms/step - loss: 0.4269 - mae: 0.4269 - mse: 0.2920 - val_loss: 0.4230 - val_mae: 0.4230 - val_mse: 0.2887\n",
            "Epoch 441/600\n",
            "13/13 [==============================] - 0s 4ms/step - loss: 0.4269 - mae: 0.4269 - mse: 0.2920 - val_loss: 0.4236 - val_mae: 0.4236 - val_mse: 0.2899\n",
            "Epoch 442/600\n",
            "13/13 [==============================] - 0s 4ms/step - loss: 0.4276 - mae: 0.4276 - mse: 0.2928 - val_loss: 0.4243 - val_mae: 0.4243 - val_mse: 0.2910\n",
            "Epoch 443/600\n",
            "13/13 [==============================] - 0s 4ms/step - loss: 0.4270 - mae: 0.4270 - mse: 0.2921 - val_loss: 0.4232 - val_mae: 0.4232 - val_mse: 0.2884\n",
            "Epoch 444/600\n",
            "13/13 [==============================] - 0s 3ms/step - loss: 0.4270 - mae: 0.4270 - mse: 0.2920 - val_loss: 0.4234 - val_mae: 0.4234 - val_mse: 0.2887\n",
            "Epoch 445/600\n",
            "13/13 [==============================] - 0s 3ms/step - loss: 0.4271 - mae: 0.4271 - mse: 0.2921 - val_loss: 0.4232 - val_mae: 0.4232 - val_mse: 0.2877\n",
            "Epoch 446/600\n",
            "13/13 [==============================] - 0s 4ms/step - loss: 0.4270 - mae: 0.4270 - mse: 0.2920 - val_loss: 0.4234 - val_mae: 0.4234 - val_mse: 0.2889\n",
            "Epoch 447/600\n",
            "13/13 [==============================] - 0s 3ms/step - loss: 0.4269 - mae: 0.4269 - mse: 0.2921 - val_loss: 0.4232 - val_mae: 0.4232 - val_mse: 0.2889\n",
            "Epoch 448/600\n",
            "13/13 [==============================] - 0s 3ms/step - loss: 0.4270 - mae: 0.4270 - mse: 0.2920 - val_loss: 0.4234 - val_mae: 0.4234 - val_mse: 0.2891\n",
            "Epoch 449/600\n",
            "13/13 [==============================] - 0s 4ms/step - loss: 0.4270 - mae: 0.4270 - mse: 0.2921 - val_loss: 0.4239 - val_mae: 0.4239 - val_mse: 0.2902\n",
            "Epoch 450/600\n",
            "13/13 [==============================] - 0s 4ms/step - loss: 0.4270 - mae: 0.4270 - mse: 0.2921 - val_loss: 0.4234 - val_mae: 0.4234 - val_mse: 0.2887\n",
            "Epoch 451/600\n",
            "13/13 [==============================] - 0s 4ms/step - loss: 0.4271 - mae: 0.4271 - mse: 0.2920 - val_loss: 0.4237 - val_mae: 0.4237 - val_mse: 0.2890\n",
            "Epoch 452/600\n",
            "13/13 [==============================] - 0s 3ms/step - loss: 0.4270 - mae: 0.4270 - mse: 0.2920 - val_loss: 0.4234 - val_mae: 0.4234 - val_mse: 0.2886\n",
            "Epoch 453/600\n",
            "13/13 [==============================] - 0s 3ms/step - loss: 0.4272 - mae: 0.4272 - mse: 0.2923 - val_loss: 0.4239 - val_mae: 0.4239 - val_mse: 0.2903\n",
            "Epoch 454/600\n",
            "13/13 [==============================] - 0s 4ms/step - loss: 0.4269 - mae: 0.4269 - mse: 0.2921 - val_loss: 0.4235 - val_mae: 0.4235 - val_mse: 0.2892\n",
            "Epoch 455/600\n",
            "13/13 [==============================] - 0s 4ms/step - loss: 0.4270 - mae: 0.4270 - mse: 0.2921 - val_loss: 0.4232 - val_mae: 0.4232 - val_mse: 0.2891\n",
            "Epoch 456/600\n",
            "13/13 [==============================] - 0s 3ms/step - loss: 0.4271 - mae: 0.4271 - mse: 0.2920 - val_loss: 0.4229 - val_mae: 0.4229 - val_mse: 0.2885\n",
            "Epoch 457/600\n",
            "13/13 [==============================] - 0s 4ms/step - loss: 0.4269 - mae: 0.4269 - mse: 0.2919 - val_loss: 0.4231 - val_mae: 0.4231 - val_mse: 0.2890\n",
            "Epoch 458/600\n",
            "13/13 [==============================] - 0s 6ms/step - loss: 0.4270 - mae: 0.4270 - mse: 0.2921 - val_loss: 0.4234 - val_mae: 0.4234 - val_mse: 0.2895\n",
            "Epoch 459/600\n",
            "13/13 [==============================] - 0s 4ms/step - loss: 0.4271 - mae: 0.4271 - mse: 0.2922 - val_loss: 0.4238 - val_mae: 0.4238 - val_mse: 0.2899\n",
            "Epoch 460/600\n",
            "13/13 [==============================] - 0s 4ms/step - loss: 0.4269 - mae: 0.4269 - mse: 0.2921 - val_loss: 0.4234 - val_mae: 0.4234 - val_mse: 0.2895\n",
            "Epoch 461/600\n",
            "13/13 [==============================] - 0s 4ms/step - loss: 0.4274 - mae: 0.4274 - mse: 0.2927 - val_loss: 0.4238 - val_mae: 0.4238 - val_mse: 0.2907\n",
            "Epoch 462/600\n",
            "13/13 [==============================] - 0s 4ms/step - loss: 0.4272 - mae: 0.4272 - mse: 0.2923 - val_loss: 0.4232 - val_mae: 0.4232 - val_mse: 0.2888\n",
            "Epoch 463/600\n",
            "13/13 [==============================] - 0s 3ms/step - loss: 0.4270 - mae: 0.4270 - mse: 0.2921 - val_loss: 0.4233 - val_mae: 0.4233 - val_mse: 0.2891\n",
            "Epoch 464/600\n",
            "13/13 [==============================] - 0s 3ms/step - loss: 0.4270 - mae: 0.4270 - mse: 0.2920 - val_loss: 0.4232 - val_mae: 0.4232 - val_mse: 0.2881\n",
            "Epoch 465/600\n",
            "13/13 [==============================] - 0s 4ms/step - loss: 0.4270 - mae: 0.4270 - mse: 0.2920 - val_loss: 0.4235 - val_mae: 0.4235 - val_mse: 0.2893\n",
            "Epoch 466/600\n",
            "13/13 [==============================] - 0s 3ms/step - loss: 0.4270 - mae: 0.4270 - mse: 0.2922 - val_loss: 0.4236 - val_mae: 0.4236 - val_mse: 0.2893\n",
            "Epoch 467/600\n",
            "13/13 [==============================] - 0s 4ms/step - loss: 0.4271 - mae: 0.4271 - mse: 0.2922 - val_loss: 0.4231 - val_mae: 0.4231 - val_mse: 0.2888\n",
            "Epoch 468/600\n",
            "13/13 [==============================] - 0s 3ms/step - loss: 0.4270 - mae: 0.4270 - mse: 0.2921 - val_loss: 0.4234 - val_mae: 0.4234 - val_mse: 0.2886\n",
            "Epoch 469/600\n",
            "13/13 [==============================] - 0s 3ms/step - loss: 0.4272 - mae: 0.4272 - mse: 0.2923 - val_loss: 0.4239 - val_mae: 0.4239 - val_mse: 0.2897\n",
            "Epoch 470/600\n",
            "13/13 [==============================] - 0s 5ms/step - loss: 0.4269 - mae: 0.4269 - mse: 0.2920 - val_loss: 0.4231 - val_mae: 0.4231 - val_mse: 0.2883\n",
            "Epoch 471/600\n",
            "13/13 [==============================] - 0s 4ms/step - loss: 0.4272 - mae: 0.4272 - mse: 0.2922 - val_loss: 0.4235 - val_mae: 0.4235 - val_mse: 0.2894\n",
            "Epoch 472/600\n",
            "13/13 [==============================] - 0s 4ms/step - loss: 0.4269 - mae: 0.4269 - mse: 0.2921 - val_loss: 0.4235 - val_mae: 0.4235 - val_mse: 0.2895\n",
            "Epoch 473/600\n",
            "13/13 [==============================] - 0s 4ms/step - loss: 0.4271 - mae: 0.4271 - mse: 0.2922 - val_loss: 0.4230 - val_mae: 0.4230 - val_mse: 0.2879\n",
            "Epoch 474/600\n",
            "13/13 [==============================] - 0s 4ms/step - loss: 0.4271 - mae: 0.4271 - mse: 0.2920 - val_loss: 0.4230 - val_mae: 0.4230 - val_mse: 0.2876\n",
            "Epoch 475/600\n",
            "13/13 [==============================] - 0s 3ms/step - loss: 0.4270 - mae: 0.4270 - mse: 0.2922 - val_loss: 0.4235 - val_mae: 0.4235 - val_mse: 0.2895\n",
            "Epoch 476/600\n",
            "13/13 [==============================] - 0s 4ms/step - loss: 0.4269 - mae: 0.4269 - mse: 0.2922 - val_loss: 0.4236 - val_mae: 0.4236 - val_mse: 0.2898\n",
            "Epoch 477/600\n",
            "13/13 [==============================] - 0s 4ms/step - loss: 0.4269 - mae: 0.4269 - mse: 0.2920 - val_loss: 0.4234 - val_mae: 0.4234 - val_mse: 0.2897\n",
            "Epoch 478/600\n",
            "13/13 [==============================] - 0s 4ms/step - loss: 0.4269 - mae: 0.4269 - mse: 0.2920 - val_loss: 0.4232 - val_mae: 0.4232 - val_mse: 0.2889\n",
            "Epoch 479/600\n",
            "13/13 [==============================] - 0s 3ms/step - loss: 0.4270 - mae: 0.4270 - mse: 0.2921 - val_loss: 0.4234 - val_mae: 0.4234 - val_mse: 0.2890\n",
            "Epoch 480/600\n",
            "13/13 [==============================] - 0s 4ms/step - loss: 0.4270 - mae: 0.4270 - mse: 0.2921 - val_loss: 0.4233 - val_mae: 0.4233 - val_mse: 0.2886\n",
            "Epoch 481/600\n",
            "13/13 [==============================] - 0s 3ms/step - loss: 0.4270 - mae: 0.4270 - mse: 0.2920 - val_loss: 0.4236 - val_mae: 0.4236 - val_mse: 0.2892\n",
            "Epoch 482/600\n",
            "13/13 [==============================] - 0s 3ms/step - loss: 0.4269 - mae: 0.4269 - mse: 0.2921 - val_loss: 0.4238 - val_mae: 0.4238 - val_mse: 0.2898\n",
            "Epoch 483/600\n",
            "13/13 [==============================] - 0s 4ms/step - loss: 0.4269 - mae: 0.4269 - mse: 0.2921 - val_loss: 0.4235 - val_mae: 0.4235 - val_mse: 0.2891\n",
            "Epoch 484/600\n",
            "13/13 [==============================] - 0s 4ms/step - loss: 0.4270 - mae: 0.4270 - mse: 0.2920 - val_loss: 0.4236 - val_mae: 0.4236 - val_mse: 0.2887\n",
            "Epoch 485/600\n",
            "13/13 [==============================] - 0s 4ms/step - loss: 0.4273 - mae: 0.4273 - mse: 0.2924 - val_loss: 0.4242 - val_mae: 0.4242 - val_mse: 0.2902\n",
            "Epoch 486/600\n",
            "13/13 [==============================] - 0s 5ms/step - loss: 0.4270 - mae: 0.4270 - mse: 0.2922 - val_loss: 0.4235 - val_mae: 0.4235 - val_mse: 0.2895\n",
            "Epoch 487/600\n",
            "13/13 [==============================] - 0s 4ms/step - loss: 0.4270 - mae: 0.4270 - mse: 0.2921 - val_loss: 0.4233 - val_mae: 0.4233 - val_mse: 0.2891\n",
            "Epoch 488/600\n",
            "13/13 [==============================] - 0s 5ms/step - loss: 0.4269 - mae: 0.4269 - mse: 0.2920 - val_loss: 0.4234 - val_mae: 0.4234 - val_mse: 0.2894\n",
            "Epoch 489/600\n",
            "13/13 [==============================] - 0s 4ms/step - loss: 0.4269 - mae: 0.4269 - mse: 0.2920 - val_loss: 0.4233 - val_mae: 0.4233 - val_mse: 0.2891\n",
            "Epoch 490/600\n",
            "13/13 [==============================] - 0s 4ms/step - loss: 0.4269 - mae: 0.4269 - mse: 0.2920 - val_loss: 0.4232 - val_mae: 0.4232 - val_mse: 0.2888\n",
            "Epoch 491/600\n",
            "13/13 [==============================] - 0s 3ms/step - loss: 0.4269 - mae: 0.4269 - mse: 0.2921 - val_loss: 0.4235 - val_mae: 0.4235 - val_mse: 0.2889\n",
            "Epoch 492/600\n",
            "13/13 [==============================] - 0s 4ms/step - loss: 0.4270 - mae: 0.4270 - mse: 0.2922 - val_loss: 0.4234 - val_mae: 0.4234 - val_mse: 0.2888\n",
            "Epoch 493/600\n",
            "13/13 [==============================] - 0s 4ms/step - loss: 0.4271 - mae: 0.4271 - mse: 0.2921 - val_loss: 0.4233 - val_mae: 0.4233 - val_mse: 0.2891\n",
            "Epoch 494/600\n",
            "13/13 [==============================] - 0s 6ms/step - loss: 0.4271 - mae: 0.4271 - mse: 0.2921 - val_loss: 0.4233 - val_mae: 0.4233 - val_mse: 0.2883\n",
            "Epoch 495/600\n",
            "13/13 [==============================] - 0s 4ms/step - loss: 0.4271 - mae: 0.4271 - mse: 0.2921 - val_loss: 0.4233 - val_mae: 0.4233 - val_mse: 0.2889\n",
            "Epoch 496/600\n",
            "13/13 [==============================] - 0s 3ms/step - loss: 0.4269 - mae: 0.4269 - mse: 0.2920 - val_loss: 0.4232 - val_mae: 0.4232 - val_mse: 0.2885\n",
            "Epoch 497/600\n",
            "13/13 [==============================] - 0s 4ms/step - loss: 0.4271 - mae: 0.4271 - mse: 0.2922 - val_loss: 0.4236 - val_mae: 0.4236 - val_mse: 0.2891\n",
            "Epoch 498/600\n",
            "13/13 [==============================] - 0s 3ms/step - loss: 0.4270 - mae: 0.4270 - mse: 0.2919 - val_loss: 0.4232 - val_mae: 0.4232 - val_mse: 0.2886\n",
            "Epoch 499/600\n",
            "13/13 [==============================] - 0s 3ms/step - loss: 0.4270 - mae: 0.4270 - mse: 0.2921 - val_loss: 0.4234 - val_mae: 0.4234 - val_mse: 0.2887\n",
            "Epoch 500/600\n",
            "13/13 [==============================] - 0s 4ms/step - loss: 0.4268 - mae: 0.4268 - mse: 0.2920 - val_loss: 0.4237 - val_mae: 0.4237 - val_mse: 0.2894\n",
            "Epoch 501/600\n",
            "13/13 [==============================] - 0s 5ms/step - loss: 0.4269 - mae: 0.4269 - mse: 0.2921 - val_loss: 0.4238 - val_mae: 0.4238 - val_mse: 0.2897\n",
            "Epoch 502/600\n",
            "13/13 [==============================] - 0s 4ms/step - loss: 0.4269 - mae: 0.4269 - mse: 0.2921 - val_loss: 0.4239 - val_mae: 0.4239 - val_mse: 0.2898\n",
            "Epoch 503/600\n",
            "13/13 [==============================] - 0s 4ms/step - loss: 0.4268 - mae: 0.4268 - mse: 0.2920 - val_loss: 0.4235 - val_mae: 0.4235 - val_mse: 0.2885\n",
            "Epoch 504/600\n",
            "13/13 [==============================] - 0s 3ms/step - loss: 0.4274 - mae: 0.4274 - mse: 0.2922 - val_loss: 0.4229 - val_mae: 0.4229 - val_mse: 0.2879\n",
            "Epoch 505/600\n",
            "13/13 [==============================] - 0s 4ms/step - loss: 0.4270 - mae: 0.4270 - mse: 0.2919 - val_loss: 0.4234 - val_mae: 0.4234 - val_mse: 0.2888\n",
            "Epoch 506/600\n",
            "13/13 [==============================] - 0s 5ms/step - loss: 0.4271 - mae: 0.4271 - mse: 0.2921 - val_loss: 0.4239 - val_mae: 0.4239 - val_mse: 0.2904\n",
            "Epoch 507/600\n",
            "13/13 [==============================] - 0s 4ms/step - loss: 0.4272 - mae: 0.4272 - mse: 0.2923 - val_loss: 0.4240 - val_mae: 0.4240 - val_mse: 0.2901\n",
            "Epoch 508/600\n",
            "13/13 [==============================] - 0s 4ms/step - loss: 0.4270 - mae: 0.4270 - mse: 0.2921 - val_loss: 0.4233 - val_mae: 0.4233 - val_mse: 0.2887\n",
            "Epoch 509/600\n",
            "13/13 [==============================] - 0s 4ms/step - loss: 0.4271 - mae: 0.4271 - mse: 0.2923 - val_loss: 0.4236 - val_mae: 0.4236 - val_mse: 0.2899\n",
            "Epoch 510/600\n",
            "13/13 [==============================] - 0s 5ms/step - loss: 0.4269 - mae: 0.4269 - mse: 0.2921 - val_loss: 0.4238 - val_mae: 0.4238 - val_mse: 0.2903\n",
            "Epoch 511/600\n",
            "13/13 [==============================] - 0s 4ms/step - loss: 0.4269 - mae: 0.4269 - mse: 0.2921 - val_loss: 0.4237 - val_mae: 0.4237 - val_mse: 0.2894\n",
            "Epoch 512/600\n",
            "13/13 [==============================] - 0s 4ms/step - loss: 0.4269 - mae: 0.4269 - mse: 0.2920 - val_loss: 0.4235 - val_mae: 0.4235 - val_mse: 0.2889\n",
            "Epoch 513/600\n",
            "13/13 [==============================] - 0s 5ms/step - loss: 0.4269 - mae: 0.4269 - mse: 0.2920 - val_loss: 0.4234 - val_mae: 0.4234 - val_mse: 0.2888\n",
            "Epoch 514/600\n",
            "13/13 [==============================] - 0s 4ms/step - loss: 0.4269 - mae: 0.4269 - mse: 0.2920 - val_loss: 0.4234 - val_mae: 0.4234 - val_mse: 0.2889\n",
            "Epoch 515/600\n",
            "13/13 [==============================] - 0s 4ms/step - loss: 0.4269 - mae: 0.4269 - mse: 0.2919 - val_loss: 0.4234 - val_mae: 0.4234 - val_mse: 0.2888\n",
            "Epoch 516/600\n",
            "13/13 [==============================] - 0s 3ms/step - loss: 0.4271 - mae: 0.4271 - mse: 0.2921 - val_loss: 0.4237 - val_mae: 0.4237 - val_mse: 0.2899\n",
            "Epoch 517/600\n",
            "13/13 [==============================] - 0s 4ms/step - loss: 0.4270 - mae: 0.4270 - mse: 0.2921 - val_loss: 0.4236 - val_mae: 0.4236 - val_mse: 0.2898\n",
            "Epoch 518/600\n",
            "13/13 [==============================] - 0s 3ms/step - loss: 0.4272 - mae: 0.4272 - mse: 0.2922 - val_loss: 0.4230 - val_mae: 0.4230 - val_mse: 0.2881\n",
            "Epoch 519/600\n",
            "13/13 [==============================] - 0s 4ms/step - loss: 0.4269 - mae: 0.4269 - mse: 0.2920 - val_loss: 0.4233 - val_mae: 0.4233 - val_mse: 0.2888\n",
            "Epoch 520/600\n",
            "13/13 [==============================] - 0s 4ms/step - loss: 0.4271 - mae: 0.4271 - mse: 0.2923 - val_loss: 0.4236 - val_mae: 0.4236 - val_mse: 0.2892\n",
            "Epoch 521/600\n",
            "13/13 [==============================] - 0s 3ms/step - loss: 0.4270 - mae: 0.4270 - mse: 0.2921 - val_loss: 0.4233 - val_mae: 0.4233 - val_mse: 0.2891\n",
            "Epoch 522/600\n",
            "13/13 [==============================] - 0s 4ms/step - loss: 0.4271 - mae: 0.4271 - mse: 0.2923 - val_loss: 0.4232 - val_mae: 0.4232 - val_mse: 0.2884\n",
            "Epoch 523/600\n",
            "13/13 [==============================] - 0s 4ms/step - loss: 0.4273 - mae: 0.4273 - mse: 0.2926 - val_loss: 0.4240 - val_mae: 0.4240 - val_mse: 0.2903\n",
            "Epoch 524/600\n",
            "13/13 [==============================] - 0s 4ms/step - loss: 0.4270 - mae: 0.4270 - mse: 0.2922 - val_loss: 0.4237 - val_mae: 0.4237 - val_mse: 0.2898\n",
            "Epoch 525/600\n",
            "13/13 [==============================] - 0s 5ms/step - loss: 0.4270 - mae: 0.4270 - mse: 0.2921 - val_loss: 0.4236 - val_mae: 0.4236 - val_mse: 0.2888\n",
            "Epoch 526/600\n",
            "13/13 [==============================] - 0s 4ms/step - loss: 0.4270 - mae: 0.4270 - mse: 0.2922 - val_loss: 0.4237 - val_mae: 0.4237 - val_mse: 0.2894\n",
            "Epoch 527/600\n",
            "13/13 [==============================] - 0s 4ms/step - loss: 0.4269 - mae: 0.4269 - mse: 0.2921 - val_loss: 0.4235 - val_mae: 0.4235 - val_mse: 0.2890\n",
            "Epoch 528/600\n",
            "13/13 [==============================] - 0s 4ms/step - loss: 0.4270 - mae: 0.4270 - mse: 0.2920 - val_loss: 0.4232 - val_mae: 0.4232 - val_mse: 0.2883\n",
            "Epoch 529/600\n",
            "13/13 [==============================] - 0s 4ms/step - loss: 0.4269 - mae: 0.4269 - mse: 0.2920 - val_loss: 0.4233 - val_mae: 0.4233 - val_mse: 0.2888\n",
            "Epoch 530/600\n",
            "13/13 [==============================] - 0s 4ms/step - loss: 0.4270 - mae: 0.4270 - mse: 0.2921 - val_loss: 0.4234 - val_mae: 0.4234 - val_mse: 0.2894\n",
            "Epoch 531/600\n",
            "13/13 [==============================] - 0s 3ms/step - loss: 0.4269 - mae: 0.4269 - mse: 0.2921 - val_loss: 0.4236 - val_mae: 0.4236 - val_mse: 0.2896\n",
            "Epoch 532/600\n",
            "13/13 [==============================] - 0s 4ms/step - loss: 0.4270 - mae: 0.4270 - mse: 0.2922 - val_loss: 0.4234 - val_mae: 0.4234 - val_mse: 0.2892\n",
            "Epoch 533/600\n",
            "13/13 [==============================] - 0s 4ms/step - loss: 0.4269 - mae: 0.4269 - mse: 0.2920 - val_loss: 0.4233 - val_mae: 0.4233 - val_mse: 0.2893\n",
            "Epoch 534/600\n",
            "13/13 [==============================] - 0s 5ms/step - loss: 0.4270 - mae: 0.4270 - mse: 0.2921 - val_loss: 0.4228 - val_mae: 0.4228 - val_mse: 0.2885\n",
            "Epoch 535/600\n",
            "13/13 [==============================] - 0s 4ms/step - loss: 0.4272 - mae: 0.4272 - mse: 0.2922 - val_loss: 0.4235 - val_mae: 0.4235 - val_mse: 0.2899\n",
            "Epoch 536/600\n",
            "13/13 [==============================] - 0s 4ms/step - loss: 0.4272 - mae: 0.4272 - mse: 0.2923 - val_loss: 0.4232 - val_mae: 0.4232 - val_mse: 0.2891\n",
            "Epoch 537/600\n",
            "13/13 [==============================] - 0s 4ms/step - loss: 0.4271 - mae: 0.4271 - mse: 0.2921 - val_loss: 0.4233 - val_mae: 0.4233 - val_mse: 0.2893\n",
            "Epoch 538/600\n",
            "13/13 [==============================] - 0s 4ms/step - loss: 0.4270 - mae: 0.4270 - mse: 0.2921 - val_loss: 0.4238 - val_mae: 0.4238 - val_mse: 0.2902\n",
            "Epoch 539/600\n",
            "13/13 [==============================] - 0s 4ms/step - loss: 0.4271 - mae: 0.4271 - mse: 0.2922 - val_loss: 0.4233 - val_mae: 0.4233 - val_mse: 0.2888\n",
            "Epoch 540/600\n",
            "13/13 [==============================] - 0s 3ms/step - loss: 0.4270 - mae: 0.4270 - mse: 0.2921 - val_loss: 0.4233 - val_mae: 0.4233 - val_mse: 0.2890\n",
            "Epoch 541/600\n",
            "13/13 [==============================] - 0s 4ms/step - loss: 0.4273 - mae: 0.4273 - mse: 0.2922 - val_loss: 0.4231 - val_mae: 0.4231 - val_mse: 0.2881\n",
            "Epoch 542/600\n",
            "13/13 [==============================] - 0s 5ms/step - loss: 0.4269 - mae: 0.4269 - mse: 0.2920 - val_loss: 0.4233 - val_mae: 0.4233 - val_mse: 0.2890\n",
            "Epoch 543/600\n",
            "13/13 [==============================] - 0s 4ms/step - loss: 0.4270 - mae: 0.4270 - mse: 0.2921 - val_loss: 0.4231 - val_mae: 0.4231 - val_mse: 0.2888\n",
            "Epoch 544/600\n",
            "13/13 [==============================] - 0s 4ms/step - loss: 0.4269 - mae: 0.4269 - mse: 0.2920 - val_loss: 0.4234 - val_mae: 0.4234 - val_mse: 0.2889\n",
            "Epoch 545/600\n",
            "13/13 [==============================] - 0s 4ms/step - loss: 0.4270 - mae: 0.4270 - mse: 0.2921 - val_loss: 0.4235 - val_mae: 0.4235 - val_mse: 0.2886\n",
            "Epoch 546/600\n",
            "13/13 [==============================] - 0s 4ms/step - loss: 0.4274 - mae: 0.4274 - mse: 0.2924 - val_loss: 0.4231 - val_mae: 0.4231 - val_mse: 0.2882\n",
            "Epoch 547/600\n",
            "13/13 [==============================] - 0s 4ms/step - loss: 0.4269 - mae: 0.4269 - mse: 0.2919 - val_loss: 0.4240 - val_mae: 0.4240 - val_mse: 0.2901\n",
            "Epoch 548/600\n",
            "13/13 [==============================] - 0s 3ms/step - loss: 0.4274 - mae: 0.4274 - mse: 0.2926 - val_loss: 0.4238 - val_mae: 0.4238 - val_mse: 0.2904\n",
            "Epoch 549/600\n",
            "13/13 [==============================] - 0s 3ms/step - loss: 0.4270 - mae: 0.4270 - mse: 0.2922 - val_loss: 0.4235 - val_mae: 0.4235 - val_mse: 0.2896\n",
            "Epoch 550/600\n",
            "13/13 [==============================] - 0s 5ms/step - loss: 0.4271 - mae: 0.4271 - mse: 0.2920 - val_loss: 0.4227 - val_mae: 0.4227 - val_mse: 0.2883\n",
            "Epoch 551/600\n",
            "13/13 [==============================] - 0s 4ms/step - loss: 0.4271 - mae: 0.4271 - mse: 0.2922 - val_loss: 0.4235 - val_mae: 0.4235 - val_mse: 0.2895\n",
            "Epoch 552/600\n",
            "13/13 [==============================] - 0s 4ms/step - loss: 0.4268 - mae: 0.4268 - mse: 0.2920 - val_loss: 0.4236 - val_mae: 0.4236 - val_mse: 0.2893\n",
            "Epoch 553/600\n",
            "13/13 [==============================] - 0s 4ms/step - loss: 0.4273 - mae: 0.4273 - mse: 0.2923 - val_loss: 0.4240 - val_mae: 0.4240 - val_mse: 0.2897\n",
            "Epoch 554/600\n",
            "13/13 [==============================] - 0s 4ms/step - loss: 0.4270 - mae: 0.4270 - mse: 0.2922 - val_loss: 0.4234 - val_mae: 0.4234 - val_mse: 0.2889\n",
            "Epoch 555/600\n",
            "13/13 [==============================] - 0s 5ms/step - loss: 0.4274 - mae: 0.4274 - mse: 0.2927 - val_loss: 0.4239 - val_mae: 0.4239 - val_mse: 0.2899\n",
            "Epoch 556/600\n",
            "13/13 [==============================] - 0s 4ms/step - loss: 0.4269 - mae: 0.4269 - mse: 0.2920 - val_loss: 0.4233 - val_mae: 0.4233 - val_mse: 0.2886\n",
            "Epoch 557/600\n",
            "13/13 [==============================] - 0s 4ms/step - loss: 0.4271 - mae: 0.4271 - mse: 0.2921 - val_loss: 0.4227 - val_mae: 0.4227 - val_mse: 0.2880\n",
            "Epoch 558/600\n",
            "13/13 [==============================] - 0s 4ms/step - loss: 0.4270 - mae: 0.4270 - mse: 0.2920 - val_loss: 0.4230 - val_mae: 0.4230 - val_mse: 0.2891\n",
            "Epoch 559/600\n",
            "13/13 [==============================] - 0s 4ms/step - loss: 0.4271 - mae: 0.4271 - mse: 0.2924 - val_loss: 0.4237 - val_mae: 0.4237 - val_mse: 0.2897\n",
            "Epoch 560/600\n",
            "13/13 [==============================] - 0s 6ms/step - loss: 0.4269 - mae: 0.4269 - mse: 0.2921 - val_loss: 0.4235 - val_mae: 0.4235 - val_mse: 0.2893\n",
            "Epoch 561/600\n",
            "13/13 [==============================] - 0s 4ms/step - loss: 0.4273 - mae: 0.4273 - mse: 0.2926 - val_loss: 0.4234 - val_mae: 0.4234 - val_mse: 0.2896\n",
            "Epoch 562/600\n",
            "13/13 [==============================] - 0s 4ms/step - loss: 0.4268 - mae: 0.4268 - mse: 0.2920 - val_loss: 0.4233 - val_mae: 0.4233 - val_mse: 0.2891\n",
            "Epoch 563/600\n",
            "13/13 [==============================] - 0s 4ms/step - loss: 0.4270 - mae: 0.4270 - mse: 0.2923 - val_loss: 0.4236 - val_mae: 0.4236 - val_mse: 0.2896\n",
            "Epoch 564/600\n",
            "13/13 [==============================] - 0s 4ms/step - loss: 0.4268 - mae: 0.4268 - mse: 0.2919 - val_loss: 0.4233 - val_mae: 0.4233 - val_mse: 0.2886\n",
            "Epoch 565/600\n",
            "13/13 [==============================] - 0s 4ms/step - loss: 0.4270 - mae: 0.4270 - mse: 0.2920 - val_loss: 0.4232 - val_mae: 0.4232 - val_mse: 0.2882\n",
            "Epoch 566/600\n",
            "13/13 [==============================] - 0s 4ms/step - loss: 0.4269 - mae: 0.4269 - mse: 0.2920 - val_loss: 0.4235 - val_mae: 0.4235 - val_mse: 0.2894\n",
            "Epoch 567/600\n",
            "13/13 [==============================] - 0s 3ms/step - loss: 0.4269 - mae: 0.4269 - mse: 0.2921 - val_loss: 0.4234 - val_mae: 0.4234 - val_mse: 0.2892\n",
            "Epoch 568/600\n",
            "13/13 [==============================] - 0s 4ms/step - loss: 0.4270 - mae: 0.4270 - mse: 0.2923 - val_loss: 0.4235 - val_mae: 0.4235 - val_mse: 0.2899\n",
            "Epoch 569/600\n",
            "13/13 [==============================] - 0s 4ms/step - loss: 0.4273 - mae: 0.4273 - mse: 0.2923 - val_loss: 0.4227 - val_mae: 0.4227 - val_mse: 0.2878\n",
            "Epoch 570/600\n",
            "13/13 [==============================] - 0s 4ms/step - loss: 0.4273 - mae: 0.4273 - mse: 0.2921 - val_loss: 0.4233 - val_mae: 0.4233 - val_mse: 0.2886\n",
            "Epoch 571/600\n",
            "13/13 [==============================] - 0s 4ms/step - loss: 0.4269 - mae: 0.4269 - mse: 0.2919 - val_loss: 0.4232 - val_mae: 0.4232 - val_mse: 0.2883\n",
            "Epoch 572/600\n",
            "13/13 [==============================] - 0s 5ms/step - loss: 0.4269 - mae: 0.4269 - mse: 0.2920 - val_loss: 0.4233 - val_mae: 0.4233 - val_mse: 0.2889\n",
            "Epoch 573/600\n",
            "13/13 [==============================] - 0s 4ms/step - loss: 0.4269 - mae: 0.4269 - mse: 0.2920 - val_loss: 0.4241 - val_mae: 0.4241 - val_mse: 0.2903\n",
            "Epoch 574/600\n",
            "13/13 [==============================] - 0s 5ms/step - loss: 0.4270 - mae: 0.4270 - mse: 0.2922 - val_loss: 0.4238 - val_mae: 0.4238 - val_mse: 0.2899\n",
            "Epoch 575/600\n",
            "13/13 [==============================] - 0s 4ms/step - loss: 0.4272 - mae: 0.4272 - mse: 0.2922 - val_loss: 0.4233 - val_mae: 0.4233 - val_mse: 0.2883\n",
            "Epoch 576/600\n",
            "13/13 [==============================] - 0s 4ms/step - loss: 0.4270 - mae: 0.4270 - mse: 0.2920 - val_loss: 0.4239 - val_mae: 0.4239 - val_mse: 0.2896\n",
            "Epoch 577/600\n",
            "13/13 [==============================] - 0s 5ms/step - loss: 0.4270 - mae: 0.4270 - mse: 0.2921 - val_loss: 0.4240 - val_mae: 0.4240 - val_mse: 0.2900\n",
            "Epoch 578/600\n",
            "13/13 [==============================] - 0s 4ms/step - loss: 0.4269 - mae: 0.4269 - mse: 0.2921 - val_loss: 0.4237 - val_mae: 0.4237 - val_mse: 0.2896\n",
            "Epoch 579/600\n",
            "13/13 [==============================] - 0s 4ms/step - loss: 0.4269 - mae: 0.4269 - mse: 0.2921 - val_loss: 0.4230 - val_mae: 0.4230 - val_mse: 0.2885\n",
            "Epoch 580/600\n",
            "13/13 [==============================] - 0s 4ms/step - loss: 0.4271 - mae: 0.4271 - mse: 0.2922 - val_loss: 0.4232 - val_mae: 0.4232 - val_mse: 0.2889\n",
            "Epoch 581/600\n",
            "13/13 [==============================] - 0s 4ms/step - loss: 0.4269 - mae: 0.4269 - mse: 0.2920 - val_loss: 0.4232 - val_mae: 0.4232 - val_mse: 0.2883\n",
            "Epoch 582/600\n",
            "13/13 [==============================] - 0s 4ms/step - loss: 0.4270 - mae: 0.4270 - mse: 0.2920 - val_loss: 0.4231 - val_mae: 0.4231 - val_mse: 0.2882\n",
            "Epoch 583/600\n",
            "13/13 [==============================] - 0s 5ms/step - loss: 0.4270 - mae: 0.4270 - mse: 0.2921 - val_loss: 0.4233 - val_mae: 0.4233 - val_mse: 0.2884\n",
            "Epoch 584/600\n",
            "13/13 [==============================] - 0s 4ms/step - loss: 0.4272 - mae: 0.4272 - mse: 0.2924 - val_loss: 0.4236 - val_mae: 0.4236 - val_mse: 0.2895\n",
            "Epoch 585/600\n",
            "13/13 [==============================] - 0s 4ms/step - loss: 0.4269 - mae: 0.4269 - mse: 0.2919 - val_loss: 0.4231 - val_mae: 0.4231 - val_mse: 0.2884\n",
            "Epoch 586/600\n",
            "13/13 [==============================] - 0s 3ms/step - loss: 0.4269 - mae: 0.4269 - mse: 0.2920 - val_loss: 0.4233 - val_mae: 0.4233 - val_mse: 0.2886\n",
            "Epoch 587/600\n",
            "13/13 [==============================] - 0s 3ms/step - loss: 0.4271 - mae: 0.4271 - mse: 0.2922 - val_loss: 0.4232 - val_mae: 0.4232 - val_mse: 0.2887\n",
            "Epoch 588/600\n",
            "13/13 [==============================] - 0s 4ms/step - loss: 0.4272 - mae: 0.4272 - mse: 0.2923 - val_loss: 0.4238 - val_mae: 0.4238 - val_mse: 0.2897\n",
            "Epoch 589/600\n",
            "13/13 [==============================] - 0s 4ms/step - loss: 0.4271 - mae: 0.4271 - mse: 0.2922 - val_loss: 0.4232 - val_mae: 0.4232 - val_mse: 0.2887\n",
            "Epoch 590/600\n",
            "13/13 [==============================] - 0s 4ms/step - loss: 0.4269 - mae: 0.4269 - mse: 0.2921 - val_loss: 0.4233 - val_mae: 0.4233 - val_mse: 0.2891\n",
            "Epoch 591/600\n",
            "13/13 [==============================] - 0s 4ms/step - loss: 0.4270 - mae: 0.4270 - mse: 0.2918 - val_loss: 0.4229 - val_mae: 0.4229 - val_mse: 0.2881\n",
            "Epoch 592/600\n",
            "13/13 [==============================] - 0s 3ms/step - loss: 0.4270 - mae: 0.4270 - mse: 0.2920 - val_loss: 0.4232 - val_mae: 0.4232 - val_mse: 0.2885\n",
            "Epoch 593/600\n",
            "13/13 [==============================] - 0s 4ms/step - loss: 0.4269 - mae: 0.4269 - mse: 0.2920 - val_loss: 0.4233 - val_mae: 0.4233 - val_mse: 0.2881\n",
            "Epoch 594/600\n",
            "13/13 [==============================] - 0s 4ms/step - loss: 0.4270 - mae: 0.4270 - mse: 0.2920 - val_loss: 0.4232 - val_mae: 0.4232 - val_mse: 0.2883\n",
            "Epoch 595/600\n",
            "13/13 [==============================] - 0s 4ms/step - loss: 0.4274 - mae: 0.4274 - mse: 0.2925 - val_loss: 0.4237 - val_mae: 0.4237 - val_mse: 0.2897\n",
            "Epoch 596/600\n",
            "13/13 [==============================] - 0s 4ms/step - loss: 0.4267 - mae: 0.4267 - mse: 0.2920 - val_loss: 0.4231 - val_mae: 0.4231 - val_mse: 0.2883\n",
            "Epoch 597/600\n",
            "13/13 [==============================] - 0s 4ms/step - loss: 0.4271 - mae: 0.4271 - mse: 0.2920 - val_loss: 0.4232 - val_mae: 0.4232 - val_mse: 0.2884\n",
            "Epoch 598/600\n",
            "13/13 [==============================] - 0s 5ms/step - loss: 0.4275 - mae: 0.4275 - mse: 0.2923 - val_loss: 0.4232 - val_mae: 0.4232 - val_mse: 0.2876\n",
            "Epoch 599/600\n",
            "13/13 [==============================] - 0s 4ms/step - loss: 0.4270 - mae: 0.4270 - mse: 0.2921 - val_loss: 0.4238 - val_mae: 0.4238 - val_mse: 0.2897\n",
            "Epoch 600/600\n",
            "13/13 [==============================] - 0s 4ms/step - loss: 0.4271 - mae: 0.4271 - mse: 0.2923 - val_loss: 0.4239 - val_mae: 0.4239 - val_mse: 0.2901\n"
          ],
          "name": "stdout"
        }
      ]
    },
    {
      "cell_type": "code",
      "metadata": {
        "colab": {
          "base_uri": "https://localhost:8080/"
        },
        "id": "7Naj7L0w-7jW",
        "outputId": "e88c3bfe-1898-4cca-89b7-0b227184690d"
      },
      "source": [
        "print(history)"
      ],
      "execution_count": 46,
      "outputs": [
        {
          "output_type": "stream",
          "text": [
            "<tensorflow.python.keras.callbacks.History object at 0x7efd9ca2b1d0>\n"
          ],
          "name": "stdout"
        }
      ]
    },
    {
      "cell_type": "code",
      "metadata": {
        "colab": {
          "base_uri": "https://localhost:8080/"
        },
        "id": "YPRbkJ0x-8tR",
        "outputId": "bd90b4ad-ca51-4a28-90e8-7a2c8823f2ce"
      },
      "source": [
        "model.summary()"
      ],
      "execution_count": 47,
      "outputs": [
        {
          "output_type": "stream",
          "text": [
            "Model: \"sequential\"\n",
            "_________________________________________________________________\n",
            "Layer (type)                 Output Shape              Param #   \n",
            "=================================================================\n",
            "dense (Dense)                (None, 6)                 12        \n",
            "_________________________________________________________________\n",
            "dense_1 (Dense)              (None, 1)                 7         \n",
            "=================================================================\n",
            "Total params: 19\n",
            "Trainable params: 19\n",
            "Non-trainable params: 0\n",
            "_________________________________________________________________\n"
          ],
          "name": "stdout"
        }
      ]
    },
    {
      "cell_type": "code",
      "metadata": {
        "colab": {
          "base_uri": "https://localhost:8080/",
          "height": 1000
        },
        "id": "R-RO5mvlAaxi",
        "outputId": "bd8aff94-993d-45f8-ffa6-46bf0ff38255"
      },
      "source": [
        "# tempString = 'mse'\n",
        "def curvePlots(tempString):\n",
        "  plt.plot(history.history[tempString])\n",
        "  plt.plot(history.history[f'val_{tempString}'])\n",
        "  plt.xlabel('NumEpochs')\n",
        "  plt.ylabel(tempString)\n",
        "  \n",
        "  plt.legend([tempString, f'val_{tempString}'])\n",
        "  plt.show()\n",
        "\n",
        "\n",
        "curvePlots('mse')\n",
        "curvePlots('mae')\n",
        "curvePlots('loss')"
      ],
      "execution_count": 48,
      "outputs": [
        {
          "output_type": "display_data",
          "data": {
            "image/png": "[encoded data removed]",
            "text/plain": [
              "<Figure size 576x396 with 1 Axes>"
            ]
          },
          "metadata": {
            "tags": []
          }
        },
        {
          "output_type": "display_data",
          "data": {
            "image/png": "[encoded data removed]",
            "text/plain": [
              "<Figure size 576x396 with 1 Axes>"
            ]
          },
          "metadata": {
            "tags": []
          }
        },
        {
          "output_type": "display_data",
          "data": {
            "image/png": "[encoded data removed]",
            "text/plain": [
              "<Figure size 576x396 with 1 Axes>"
            ]
          },
          "metadata": {
            "tags": []
          }
        }
      ]
    },
    {
      "cell_type": "code",
      "metadata": {
        "id": "8LtRcZY5BjSD"
      },
      "source": [
        "testPreds = model.predict(testFeatures)\n",
        "testPreds_Array=sc_Labels.inverse_transform(testPreds).flatten() #array of all prediction values\n"
      ],
      "execution_count": 72,
      "outputs": []
    },
    {
      "cell_type": "code",
      "metadata": {
        "colab": {
          "base_uri": "https://localhost:8080/"
        },
        "id": "ogmo8gy3Bl06",
        "outputId": "06f0c576-3e97-4da9-da50-5e0e826532ac"
      },
      "source": [
        "print(len(testPreds_Array))\n",
        "print(testPreds_Array)"
      ],
      "execution_count": 73,
      "outputs": [
        {
          "output_type": "stream",
          "text": [
            "100\n",
            "[155.98772 180.3576  176.49515 217.44684 203.6584  167.99011 160.31572\n",
            " 165.24855 207.2051  176.01201 199.51044 190.4302  193.398   216.30396\n",
            " 168.7675  186.69275 180.89429 165.07855 191.76736 184.27599 215.5284\n",
            " 181.25284 204.63545 184.1456  199.65956 190.59894 167.98466 200.7623\n",
            " 165.65733 175.49419 164.4733  180.54732 169.30644 180.9022  180.55371\n",
            " 172.06468 181.12183 193.75613 210.65285 207.87665 227.96129 223.5388\n",
            " 160.86377 197.03568 175.55904 187.79694 198.9507  180.82304 156.94536\n",
            " 200.71387 163.51773 200.36157 207.68059 170.18105 179.774   199.6236\n",
            " 221.58463 201.11978 190.92438 176.25539 204.9805  165.3286  200.3215\n",
            " 204.8364  172.91165 197.46912 187.44695 197.95015 172.97287 188.56303\n",
            " 204.58801 175.56529 181.83699 186.02155 181.10841 179.6681  175.6675\n",
            " 168.02905 193.54146 198.63701 207.50725 168.62875 182.53172 179.09015\n",
            " 174.84625 157.09099 189.72037 169.10016 188.08838 193.48238 211.54677\n",
            " 206.01598 174.12094 182.14227 172.97166 187.14624 208.51414 166.08716\n",
            " 201.9028  201.1923 ]\n"
          ],
          "name": "stdout"
        }
      ]
    },
    {
      "cell_type": "code",
      "metadata": {
        "colab": {
          "base_uri": "https://localhost:8080/",
          "height": 361
        },
        "id": "D3GwZkABBn6D",
        "outputId": "db7bf7bf-aca1-4daf-cdc4-a025e29b4518"
      },
      "source": [
        "# prediciton plot --> how well is your model predicting across the actual labels\n",
        "\n",
        "def predPlot(labels, predictions):\n",
        "  plt.scatter(labels, predictions)\n",
        "  plt.ylabel('Predictions')\n",
        "  plt.xlabel('True Value or Labels')\n",
        "  plt.axis('equal')\n",
        "  plt.axis('square')\n",
        "  plt.xlim([0, plt.xlim()[1]])\n",
        "  plt.ylim([0, plt.ylim()[1]])\n",
        "  plt.show()\n",
        "\n",
        "predPlot(testLabels_Original, testPreds_Array)"
      ],
      "execution_count": 74,
      "outputs": [
        {
          "output_type": "display_data",
          "data": {
            "image/png": "[encoded data removed]",
            "text/plain": [
              "<Figure size 576x396 with 1 Axes>"
            ]
          },
          "metadata": {
            "tags": []
          }
        }
      ]
    },
    {
      "cell_type": "code",
      "metadata": {
        "colab": {
          "base_uri": "https://localhost:8080/",
          "height": 361
        },
        "id": "AKg26JRzBv77",
        "outputId": "9f3291e4-6acf-45e6-f01e-f26ded45f850"
      },
      "source": [
        "\n",
        "#error plot --> gaussian distribution \n",
        "\n",
        "def errorPlot(preds, labels, counts):\n",
        "  errors = preds - labels\n",
        "  plt.hist(errors, counts)\n",
        "  plt.xlabel('Error')\n",
        "  plt.ylabel('Counts')\n",
        "  plt.show()\n",
        "\n",
        "errorPlot(testPreds_Array, testLabels_Original, numEpochs)"
      ],
      "execution_count": 75,
      "outputs": [
        {
          "output_type": "display_data",
          "data": {
            "image/png": "[encoded data removed]",
            "text/plain": [
              "<Figure size 576x396 with 1 Axes>"
            ]
          },
          "metadata": {
            "tags": []
          }
        }
      ]
    },
    {
      "cell_type": "markdown",
      "metadata": {
        "id": "M5zZPXA3CPVs"
      },
      "source": [
        "# Using Other models on the dataset"
      ]
    },
    {
      "cell_type": "markdown",
      "metadata": {
        "id": "CGoUFjUHCR_u"
      },
      "source": [
        "## Simple Linear Regression"
      ]
    },
    {
      "cell_type": "code",
      "metadata": {
        "colab": {
          "base_uri": "https://localhost:8080/"
        },
        "id": "HPz14SBoCJn3",
        "outputId": "3b906146-b289-4b5a-8e4b-8ea94b49bed4"
      },
      "source": [
        "from sklearn.linear_model import LinearRegression\n",
        "regressor = LinearRegression()\n",
        "regressor.fit(trainFeatures, trainLabels)"
      ],
      "execution_count": 76,
      "outputs": [
        {
          "output_type": "execute_result",
          "data": {
            "text/plain": [
              "LinearRegression(copy_X=True, fit_intercept=True, n_jobs=None, normalize=False)"
            ]
          },
          "metadata": {
            "tags": []
          },
          "execution_count": 76
        }
      ]
    },
    {
      "cell_type": "code",
      "metadata": {
        "id": "NE5DdkRbCWcM"
      },
      "source": [
        "testPreds_LR = regressor.predict(testFeatures)\n",
        "testPreds_LR_Array=sc_Labels.inverse_transform(testPreds_LR).flatten()   #Flattening to 1d array"
      ],
      "execution_count": 77,
      "outputs": []
    },
    {
      "cell_type": "code",
      "metadata": {
        "colab": {
          "base_uri": "https://localhost:8080/",
          "height": 376
        },
        "id": "aNsnKV-iCXHa",
        "outputId": "52f6336b-146a-457a-c601-ca92ada78906"
      },
      "source": [
        "plt.grid(True)\n",
        "plt.scatter(testFeatures, testLabels, color = 'red')\n",
        "plt.plot(trainFeatures, regressor.predict(trainFeatures), color = 'blue')\n",
        "plt.title('G1 Vs G3 (Test set)')\n",
        "plt.xlabel('G1')\n",
        "plt.ylabel('G3')\n",
        "plt.show()"
      ],
      "execution_count": 78,
      "outputs": [
        {
          "output_type": "display_data",
          "data": {
            "image/png": "[encoded data removed]",
            "text/plain": [
              "<Figure size 576x396 with 1 Axes>"
            ]
          },
          "metadata": {
            "tags": []
          }
        }
      ]
    },
    {
      "cell_type": "markdown",
      "metadata": {
        "id": "vN-EituMF9cE"
      },
      "source": [
        "#Support Vector Machine"
      ]
    },
    {
      "cell_type": "code",
      "metadata": {
        "colab": {
          "base_uri": "https://localhost:8080/"
        },
        "id": "PSufi2WzF-OU",
        "outputId": "1e226a07-8501-45dd-9b0b-568a3d72f80a"
      },
      "source": [
        "from sklearn.svm import SVR\n",
        "SVM_regressor = SVR(kernel = 'rbf')\n",
        "SVM_regressor.fit(trainFeatures, trainLabels)"
      ],
      "execution_count": 79,
      "outputs": [
        {
          "output_type": "stream",
          "text": [
            "/usr/local/lib/python3.7/dist-packages/sklearn/utils/validation.py:760: DataConversionWarning: A column-vector y was passed when a 1d array was expected. Please change the shape of y to (n_samples, ), for example using ravel().\n",
            "  y = column_or_1d(y, warn=True)\n"
          ],
          "name": "stderr"
        },
        {
          "output_type": "execute_result",
          "data": {
            "text/plain": [
              "SVR(C=1.0, cache_size=200, coef0=0.0, degree=3, epsilon=0.1, gamma='scale',\n",
              "    kernel='rbf', max_iter=-1, shrinking=True, tol=0.001, verbose=False)"
            ]
          },
          "metadata": {
            "tags": []
          },
          "execution_count": 79
        }
      ]
    },
    {
      "cell_type": "code",
      "metadata": {
        "id": "d4zQVo89GA2t"
      },
      "source": [
        "testPreds_SVM=SVM_regressor.predict(testFeatures)\n",
        "testPreds_SVM_Array=sc_Labels.inverse_transform(testPreds_SVM).flatten()"
      ],
      "execution_count": 80,
      "outputs": []
    },
    {
      "cell_type": "code",
      "metadata": {
        "colab": {
          "base_uri": "https://localhost:8080/"
        },
        "id": "EFN3Ox5xGC2-",
        "outputId": "5475ee91-36bf-4f32-d2a6-125cc23467c1"
      },
      "source": [
        "CompareModels_df=pd.DataFrame({'testLabels':testLabels_Original,'testPreds':testPreds_Array,'testPreds_LR':testPreds_LR_Array,'testPreds_SVM':testPreds_SVM_Array})\n",
        "print(CompareModels_df.head(15))"
      ],
      "execution_count": 81,
      "outputs": [
        {
          "output_type": "stream",
          "text": [
            "    testLabels   testPreds  testPreds_LR  testPreds_SVM\n",
            "9   156.399676  155.987717    154.261263     157.088496\n",
            "25  192.343977  180.357605    182.534349     181.006920\n",
            "28  175.213922  176.495148    178.174808     175.273188\n",
            "31  212.910225  217.446838    218.058772     220.470018\n",
            "32  195.032243  203.658401    202.946192     201.177517\n",
            "38  163.851825  167.990112    168.440342     168.528028\n",
            "39  163.108017  160.315720    159.374164     162.850996\n",
            "42  168.617746  165.248550    165.201584     167.024801\n",
            "47  209.070863  207.205093    206.833479     204.553150\n",
            "53  181.407679  176.012009    177.629488     174.681833\n",
            "57  192.124847  199.510437    198.399875     198.810952\n",
            "70  184.595608  190.430206    189.443343     191.357073\n",
            "72  177.200929  193.397995    191.700438     194.070686\n",
            "82  237.916736  216.303955    216.806138     218.674705\n",
            "84  160.683917  168.767502    169.358717     168.937914\n"
          ],
          "name": "stdout"
        }
      ]
    },
    {
      "cell_type": "code",
      "metadata": {
        "colab": {
          "base_uri": "https://localhost:8080/"
        },
        "id": "AfsrYqvSGJ7e",
        "outputId": "6b3272b6-741b-433a-e041-30c6344ae04f"
      },
      "source": [
        "Errors_df=pd.DataFrame({'PerceptronError':abs(testLabels_Original-testPreds_Array),'LR_Error':abs(testLabels_Original-testPreds_LR_Array),'SVM_Error':abs(testLabels_Original-testPreds_SVM_Array)})\n",
        "print(Errors_df.head(15))"
      ],
      "execution_count": 82,
      "outputs": [
        {
          "output_type": "stream",
          "text": [
            "    PerceptronError   LR_Error  SVM_Error\n",
            "9          0.411960   2.138414   0.688820\n",
            "25        11.986372   9.809627  11.337057\n",
            "28         1.281225   2.960886   0.059265\n",
            "31         4.536613   5.148547   7.559793\n",
            "32         8.626158   7.913949   6.145274\n",
            "38         4.138287   4.588517   4.676203\n",
            "39         2.792298   3.733853   0.257021\n",
            "42         3.369196   3.416162   1.592945\n",
            "47         1.865770   2.237385   4.517713\n",
            "53         5.395671   3.778192   6.725846\n",
            "57         7.385590   6.275028   6.686105\n",
            "70         5.834598   4.847734   6.761465\n",
            "72        16.197066  14.499509  16.869757\n",
            "82        21.612781  21.110598  19.242031\n",
            "84         8.083585   8.674801   8.253998\n"
          ],
          "name": "stdout"
        }
      ]
    },
    {
      "cell_type": "markdown",
      "metadata": {
        "id": "cs32WxRZGPrC"
      },
      "source": [
        "# Rsquared test"
      ]
    },
    {
      "cell_type": "code",
      "metadata": {
        "colab": {
          "base_uri": "https://localhost:8080/"
        },
        "id": "iuTMHehuGQUv",
        "outputId": "ebe77e62-827b-43d7-e9cc-1920f7b60a9c"
      },
      "source": [
        "r2_score_LR=regressor.score(testFeatures,testLabels)\n",
        "print(r2_score_LR*100)"
      ],
      "execution_count": 83,
      "outputs": [
        {
          "output_type": "stream",
          "text": [
            "69.89451694217107\n"
          ],
          "name": "stdout"
        }
      ]
    },
    {
      "cell_type": "code",
      "metadata": {
        "colab": {
          "base_uri": "https://localhost:8080/"
        },
        "id": "e9dHM0gXGTmp",
        "outputId": "76cf3bf7-0188-4892-c041-6dce6f5c663c"
      },
      "source": [
        "r2_score_SVM=SVM_regressor.score(testFeatures,testLabels)\n",
        "print(r2_score_SVM*100)"
      ],
      "execution_count": 84,
      "outputs": [
        {
          "output_type": "stream",
          "text": [
            "68.87622702935187\n"
          ],
          "name": "stdout"
        }
      ]
    },
    {
      "cell_type": "markdown",
      "metadata": {
        "id": "kBauAKyjGdzE"
      },
      "source": [
        "` The model is performing well on Simple Linear Regression then SVM`"
      ]
    },
    {
      "cell_type": "markdown",
      "metadata": {
        "id": "zNu6GXDxI2Nu"
      },
      "source": [
        "``` Predicting the target value with a single feature is insufficient and the loss is too high which can't be minimized in anyway ```\n",
        "###### Multiple Features are must to train a good model. Hence on the above dataset I can't find anything that I can Improve."
      ]
    }
  ]
}