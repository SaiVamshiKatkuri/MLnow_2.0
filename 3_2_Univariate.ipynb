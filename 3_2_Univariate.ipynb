{
  "nbformat": 4,
  "nbformat_minor": 0,
  "metadata": {
    "colab": {
      "name": "3.2_Univariate.ipynb",
      "provenance": [],
      "authorship_tag": "ABX9TyOxtDgjdDEfhvVYdr0J+JBJ",
      "include_colab_link": true
    },
    "kernelspec": {
      "name": "python3",
      "display_name": "Python 3"
    },
    "language_info": {
      "name": "python"
    }
  },
  "cells": [
    {
      "cell_type": "markdown",
      "metadata": {
        "id": "view-in-github",
        "colab_type": "text"
      },
      "source": [
        "<a href=\"https://colab.research.google.com/github/SaiVamshiKatkuri/MLnow_2.0/blob/main/3_2_Univariate.ipynb\" target=\"_parent\"><img src=\"https://colab.research.google.com/assets/colab-badge.svg\" alt=\"Open In Colab\"/></a>"
      ]
    },
    {
      "cell_type": "markdown",
      "metadata": {
        "id": "B5I4gy6-23i5"
      },
      "source": [
        "**Topic**: `Univariate Linear Regression`\n",
        "\n",
        "[Link to download the Dataset](https://www.kaggle.com/mustafaali96/weight-height?select=weight-height.csv)\n",
        "\n",
        "**Date Created** :June 11,2021\n",
        "\n",
        "**AUTHOR**: Sai Vamshi Katkuri\n",
        "[Assessment Repository](https://github.com/SaiVamshiKatkuri/MLnow_2.0)\n",
        "\n",
        "**Reach out** :[Email](https://mail.google.com/mail/u/0/?tab=rm&ogbl#inbox) | [Linkedin](https://www.linkedin.com/in/katkuri-sai-vamshi-2209281a8/) | [Github](https://github.com/SaiVamshiKatkuri)\n",
        "\n",
        "\n",
        "\n"
      ]
    },
    {
      "cell_type": "markdown",
      "metadata": {
        "id": "2SYirMvuZp-S"
      },
      "source": [
        "## EDA and Univariate Modelling"
      ]
    },
    {
      "cell_type": "markdown",
      "metadata": {
        "id": "8wjWHQnBZvNt"
      },
      "source": [
        "## SETUP"
      ]
    },
    {
      "cell_type": "code",
      "metadata": {
        "colab": {
          "base_uri": "https://localhost:8080/"
        },
        "id": "YKAsxUQEbBPX",
        "outputId": "9326a321-b19d-461d-8c08-21ade0e37946"
      },
      "source": [
        "from google.colab import drive\n",
        "drive.mount('/content/drive')"
      ],
      "execution_count": 1,
      "outputs": [
        {
          "output_type": "stream",
          "text": [
            "Drive already mounted at /content/drive; to attempt to forcibly remount, call drive.mount(\"/content/drive\", force_remount=True).\n"
          ],
          "name": "stdout"
        }
      ]
    },
    {
      "cell_type": "code",
      "metadata": {
        "colab": {
          "base_uri": "https://localhost:8080/"
        },
        "id": "MWcsqM2bbSRI",
        "outputId": "4ea13e80-c0c4-4ad5-86d5-d661e7817322"
      },
      "source": [
        "cd '/content/drive/MyDrive/Datasets'"
      ],
      "execution_count": 2,
      "outputs": [
        {
          "output_type": "stream",
          "text": [
            "/content/drive/MyDrive/Datasets\n"
          ],
          "name": "stdout"
        }
      ]
    },
    {
      "cell_type": "code",
      "metadata": {
        "colab": {
          "base_uri": "https://localhost:8080/"
        },
        "id": "PHygaOE6bYIh",
        "outputId": "06f05cba-fc35-4494-a891-51e773398abb"
      },
      "source": [
        "ls -a"
      ],
      "execution_count": 3,
      "outputs": [
        {
          "output_type": "stream",
          "text": [
            "Churn_Modelling.csv  student-por.csv            w-h.csv\n",
            "student-mat.csv      univariate_MathData_2.csv\n"
          ],
          "name": "stdout"
        }
      ]
    },
    {
      "cell_type": "markdown",
      "metadata": {
        "id": "kyKNZVwLbdup"
      },
      "source": [
        "###We're  going to work on `w-h.csv (Weight-Height)`"
      ]
    },
    {
      "cell_type": "markdown",
      "metadata": {
        "id": "4g5D4mxSb4AI"
      },
      "source": [
        "## Data Preprocessing"
      ]
    },
    {
      "cell_type": "code",
      "metadata": {
        "id": "b0FUVxNsb7VW"
      },
      "source": [
        "# Import necessary libraries\n",
        "import pandas as pd                    # For handling csv files(constructs dataframes)\n",
        "import numpy as np                     # For scientific computations as well as hanlding arrays,vectors,tensors\n",
        "import matplotlib.pyplot as plt        # For visualisation of Data\n",
        "import seaborn as sns                  # For visualisation with different plots \n",
        "import tensorflow as tf                # Framework\n"
      ],
      "execution_count": 4,
      "outputs": []
    },
    {
      "cell_type": "code",
      "metadata": {
        "id": "tWttOhaxctSe"
      },
      "source": [
        "dataset=pd.read_csv('w-h.csv')         # Reading the csv and creates a dataframe\n"
      ],
      "execution_count": 5,
      "outputs": []
    },
    {
      "cell_type": "code",
      "metadata": {
        "colab": {
          "base_uri": "https://localhost:8080/"
        },
        "id": "DE4x-za7dEy7",
        "outputId": "7cde2735-f571-480b-bc79-0b7d0b098cc0"
      },
      "source": [
        "dataset.info()"
      ],
      "execution_count": 6,
      "outputs": [
        {
          "output_type": "stream",
          "text": [
            "<class 'pandas.core.frame.DataFrame'>\n",
            "RangeIndex: 5000 entries, 0 to 4999\n",
            "Data columns (total 4 columns):\n",
            " #   Column      Non-Null Count  Dtype  \n",
            "---  ------      --------------  -----  \n",
            " 0   Unnamed: 0  5000 non-null   int64  \n",
            " 1   Gender      5000 non-null   object \n",
            " 2   Height      5000 non-null   float64\n",
            " 3   Weight      5000 non-null   float64\n",
            "dtypes: float64(2), int64(1), object(1)\n",
            "memory usage: 156.4+ KB\n"
          ],
          "name": "stdout"
        }
      ]
    },
    {
      "cell_type": "code",
      "metadata": {
        "colab": {
          "base_uri": "https://localhost:8080/"
        },
        "id": "YXkOc-sFdNX4",
        "outputId": "148918ac-2e82-4c1d-a5ff-11252c48c800"
      },
      "source": [
        "dataset.shape                         # Shape of the Dataset"
      ],
      "execution_count": 7,
      "outputs": [
        {
          "output_type": "execute_result",
          "data": {
            "text/plain": [
              "(5000, 4)"
            ]
          },
          "metadata": {
            "tags": []
          },
          "execution_count": 7
        }
      ]
    },
    {
      "cell_type": "code",
      "metadata": {
        "id": "Rm7yjbGSFjYp"
      },
      "source": [
        "dataset=dataset.iloc[0:500,0:]        # Adjusting the samples from 5000 to 500"
      ],
      "execution_count": 8,
      "outputs": []
    },
    {
      "cell_type": "code",
      "metadata": {
        "colab": {
          "base_uri": "https://localhost:8080/",
          "height": 362
        },
        "id": "-GBt11XLdXjD",
        "outputId": "ab1a00ec-eb16-4978-ab75-4f04d0158bbe"
      },
      "source": [
        "dataset.head(10)                      # Prints 10 rows from the top"
      ],
      "execution_count": 9,
      "outputs": [
        {
          "output_type": "execute_result",
          "data": {
            "text/html": [
              "<div>\n",
              "<style scoped>\n",
              "    .dataframe tbody tr th:only-of-type {\n",
              "        vertical-align: middle;\n",
              "    }\n",
              "\n",
              "    .dataframe tbody tr th {\n",
              "        vertical-align: top;\n",
              "    }\n",
              "\n",
              "    .dataframe thead th {\n",
              "        text-align: right;\n",
              "    }\n",
              "</style>\n",
              "<table border=\"1\" class=\"dataframe\">\n",
              "  <thead>\n",
              "    <tr style=\"text-align: right;\">\n",
              "      <th></th>\n",
              "      <th>Unnamed: 0</th>\n",
              "      <th>Gender</th>\n",
              "      <th>Height</th>\n",
              "      <th>Weight</th>\n",
              "    </tr>\n",
              "  </thead>\n",
              "  <tbody>\n",
              "    <tr>\n",
              "      <th>0</th>\n",
              "      <td>0</td>\n",
              "      <td>Male</td>\n",
              "      <td>73.847017</td>\n",
              "      <td>241.893563</td>\n",
              "    </tr>\n",
              "    <tr>\n",
              "      <th>1</th>\n",
              "      <td>1</td>\n",
              "      <td>Male</td>\n",
              "      <td>68.781904</td>\n",
              "      <td>162.310473</td>\n",
              "    </tr>\n",
              "    <tr>\n",
              "      <th>2</th>\n",
              "      <td>2</td>\n",
              "      <td>Male</td>\n",
              "      <td>74.110105</td>\n",
              "      <td>212.740856</td>\n",
              "    </tr>\n",
              "    <tr>\n",
              "      <th>3</th>\n",
              "      <td>3</td>\n",
              "      <td>Male</td>\n",
              "      <td>71.730978</td>\n",
              "      <td>220.042470</td>\n",
              "    </tr>\n",
              "    <tr>\n",
              "      <th>4</th>\n",
              "      <td>4</td>\n",
              "      <td>Male</td>\n",
              "      <td>69.881796</td>\n",
              "      <td>206.349801</td>\n",
              "    </tr>\n",
              "    <tr>\n",
              "      <th>5</th>\n",
              "      <td>5</td>\n",
              "      <td>Male</td>\n",
              "      <td>67.253016</td>\n",
              "      <td>152.212156</td>\n",
              "    </tr>\n",
              "    <tr>\n",
              "      <th>6</th>\n",
              "      <td>6</td>\n",
              "      <td>Male</td>\n",
              "      <td>68.785081</td>\n",
              "      <td>183.927889</td>\n",
              "    </tr>\n",
              "    <tr>\n",
              "      <th>7</th>\n",
              "      <td>7</td>\n",
              "      <td>Male</td>\n",
              "      <td>68.348516</td>\n",
              "      <td>167.971110</td>\n",
              "    </tr>\n",
              "    <tr>\n",
              "      <th>8</th>\n",
              "      <td>8</td>\n",
              "      <td>Male</td>\n",
              "      <td>67.018950</td>\n",
              "      <td>175.929440</td>\n",
              "    </tr>\n",
              "    <tr>\n",
              "      <th>9</th>\n",
              "      <td>9</td>\n",
              "      <td>Male</td>\n",
              "      <td>63.456494</td>\n",
              "      <td>156.399676</td>\n",
              "    </tr>\n",
              "  </tbody>\n",
              "</table>\n",
              "</div>"
            ],
            "text/plain": [
              "   Unnamed: 0 Gender     Height      Weight\n",
              "0           0   Male  73.847017  241.893563\n",
              "1           1   Male  68.781904  162.310473\n",
              "2           2   Male  74.110105  212.740856\n",
              "3           3   Male  71.730978  220.042470\n",
              "4           4   Male  69.881796  206.349801\n",
              "5           5   Male  67.253016  152.212156\n",
              "6           6   Male  68.785081  183.927889\n",
              "7           7   Male  68.348516  167.971110\n",
              "8           8   Male  67.018950  175.929440\n",
              "9           9   Male  63.456494  156.399676"
            ]
          },
          "metadata": {
            "tags": []
          },
          "execution_count": 9
        }
      ]
    },
    {
      "cell_type": "code",
      "metadata": {
        "colab": {
          "base_uri": "https://localhost:8080/",
          "height": 362
        },
        "id": "BtAyKmLqddfj",
        "outputId": "8bf1d828-4618-4867-9188-b20435d0e9fd"
      },
      "source": [
        "dataset.tail(10)                         # Prints ten rows from the bottom"
      ],
      "execution_count": 10,
      "outputs": [
        {
          "output_type": "execute_result",
          "data": {
            "text/html": [
              "<div>\n",
              "<style scoped>\n",
              "    .dataframe tbody tr th:only-of-type {\n",
              "        vertical-align: middle;\n",
              "    }\n",
              "\n",
              "    .dataframe tbody tr th {\n",
              "        vertical-align: top;\n",
              "    }\n",
              "\n",
              "    .dataframe thead th {\n",
              "        text-align: right;\n",
              "    }\n",
              "</style>\n",
              "<table border=\"1\" class=\"dataframe\">\n",
              "  <thead>\n",
              "    <tr style=\"text-align: right;\">\n",
              "      <th></th>\n",
              "      <th>Unnamed: 0</th>\n",
              "      <th>Gender</th>\n",
              "      <th>Height</th>\n",
              "      <th>Weight</th>\n",
              "    </tr>\n",
              "  </thead>\n",
              "  <tbody>\n",
              "    <tr>\n",
              "      <th>490</th>\n",
              "      <td>490</td>\n",
              "      <td>Male</td>\n",
              "      <td>68.792984</td>\n",
              "      <td>174.489486</td>\n",
              "    </tr>\n",
              "    <tr>\n",
              "      <th>491</th>\n",
              "      <td>491</td>\n",
              "      <td>Male</td>\n",
              "      <td>68.445747</td>\n",
              "      <td>183.783383</td>\n",
              "    </tr>\n",
              "    <tr>\n",
              "      <th>492</th>\n",
              "      <td>492</td>\n",
              "      <td>Male</td>\n",
              "      <td>69.201578</td>\n",
              "      <td>188.103506</td>\n",
              "    </tr>\n",
              "    <tr>\n",
              "      <th>493</th>\n",
              "      <td>493</td>\n",
              "      <td>Male</td>\n",
              "      <td>69.426017</td>\n",
              "      <td>176.193430</td>\n",
              "    </tr>\n",
              "    <tr>\n",
              "      <th>494</th>\n",
              "      <td>494</td>\n",
              "      <td>Male</td>\n",
              "      <td>69.606225</td>\n",
              "      <td>194.200712</td>\n",
              "    </tr>\n",
              "    <tr>\n",
              "      <th>495</th>\n",
              "      <td>495</td>\n",
              "      <td>Male</td>\n",
              "      <td>72.881707</td>\n",
              "      <td>194.199509</td>\n",
              "    </tr>\n",
              "    <tr>\n",
              "      <th>496</th>\n",
              "      <td>496</td>\n",
              "      <td>Male</td>\n",
              "      <td>62.178331</td>\n",
              "      <td>145.898842</td>\n",
              "    </tr>\n",
              "    <tr>\n",
              "      <th>497</th>\n",
              "      <td>497</td>\n",
              "      <td>Male</td>\n",
              "      <td>68.874707</td>\n",
              "      <td>191.833709</td>\n",
              "    </tr>\n",
              "    <tr>\n",
              "      <th>498</th>\n",
              "      <td>498</td>\n",
              "      <td>Male</td>\n",
              "      <td>71.080084</td>\n",
              "      <td>209.853554</td>\n",
              "    </tr>\n",
              "    <tr>\n",
              "      <th>499</th>\n",
              "      <td>499</td>\n",
              "      <td>Male</td>\n",
              "      <td>72.182534</td>\n",
              "      <td>201.261464</td>\n",
              "    </tr>\n",
              "  </tbody>\n",
              "</table>\n",
              "</div>"
            ],
            "text/plain": [
              "     Unnamed: 0 Gender     Height      Weight\n",
              "490         490   Male  68.792984  174.489486\n",
              "491         491   Male  68.445747  183.783383\n",
              "492         492   Male  69.201578  188.103506\n",
              "493         493   Male  69.426017  176.193430\n",
              "494         494   Male  69.606225  194.200712\n",
              "495         495   Male  72.881707  194.199509\n",
              "496         496   Male  62.178331  145.898842\n",
              "497         497   Male  68.874707  191.833709\n",
              "498         498   Male  71.080084  209.853554\n",
              "499         499   Male  72.182534  201.261464"
            ]
          },
          "metadata": {
            "tags": []
          },
          "execution_count": 10
        }
      ]
    },
    {
      "cell_type": "code",
      "metadata": {
        "id": "Lg1ghHxVdhlT"
      },
      "source": [
        "dataset.columns = ['S.no','Gender','Height','Weight']              #  Renaming columns"
      ],
      "execution_count": 11,
      "outputs": []
    },
    {
      "cell_type": "code",
      "metadata": {
        "colab": {
          "base_uri": "https://localhost:8080/"
        },
        "id": "skEpRxivefEQ",
        "outputId": "cc9ee768-4d23-47c3-8ac6-9a22cc6a281e"
      },
      "source": [
        "print(f\"There are {len(dataset.columns)} columns in the dataset\")  # Finding number of  cols\n",
        "print(dataset.columns)"
      ],
      "execution_count": 12,
      "outputs": [
        {
          "output_type": "stream",
          "text": [
            "There are 4 columns in the dataset\n",
            "Index(['S.no', 'Gender', 'Height', 'Weight'], dtype='object')\n"
          ],
          "name": "stdout"
        }
      ]
    },
    {
      "cell_type": "code",
      "metadata": {
        "id": "GaO_Q1okejCq"
      },
      "source": [
        "dataset=dataset.drop(['S.no','Gender'],axis=1)                     # Dropping Unnecessary cols"
      ],
      "execution_count": 13,
      "outputs": []
    },
    {
      "cell_type": "code",
      "metadata": {
        "colab": {
          "base_uri": "https://localhost:8080/",
          "height": 299
        },
        "id": "euQNPkFuer7b",
        "outputId": "03e02227-45da-43bd-bb13-46e9f9c1c48c"
      },
      "source": [
        "dataset.iloc[:,1:].describe()                                      # Basic analysis over the dataset"
      ],
      "execution_count": 14,
      "outputs": [
        {
          "output_type": "execute_result",
          "data": {
            "text/html": [
              "<div>\n",
              "<style scoped>\n",
              "    .dataframe tbody tr th:only-of-type {\n",
              "        vertical-align: middle;\n",
              "    }\n",
              "\n",
              "    .dataframe tbody tr th {\n",
              "        vertical-align: top;\n",
              "    }\n",
              "\n",
              "    .dataframe thead th {\n",
              "        text-align: right;\n",
              "    }\n",
              "</style>\n",
              "<table border=\"1\" class=\"dataframe\">\n",
              "  <thead>\n",
              "    <tr style=\"text-align: right;\">\n",
              "      <th></th>\n",
              "      <th>Weight</th>\n",
              "    </tr>\n",
              "  </thead>\n",
              "  <tbody>\n",
              "    <tr>\n",
              "      <th>count</th>\n",
              "      <td>500.000000</td>\n",
              "    </tr>\n",
              "    <tr>\n",
              "      <th>mean</th>\n",
              "      <td>187.141335</td>\n",
              "    </tr>\n",
              "    <tr>\n",
              "      <th>std</th>\n",
              "      <td>19.305476</td>\n",
              "    </tr>\n",
              "    <tr>\n",
              "      <th>min</th>\n",
              "      <td>135.655876</td>\n",
              "    </tr>\n",
              "    <tr>\n",
              "      <th>25%</th>\n",
              "      <td>173.027386</td>\n",
              "    </tr>\n",
              "    <tr>\n",
              "      <th>50%</th>\n",
              "      <td>186.885972</td>\n",
              "    </tr>\n",
              "    <tr>\n",
              "      <th>75%</th>\n",
              "      <td>200.038625</td>\n",
              "    </tr>\n",
              "    <tr>\n",
              "      <th>max</th>\n",
              "      <td>241.893563</td>\n",
              "    </tr>\n",
              "  </tbody>\n",
              "</table>\n",
              "</div>"
            ],
            "text/plain": [
              "           Weight\n",
              "count  500.000000\n",
              "mean   187.141335\n",
              "std     19.305476\n",
              "min    135.655876\n",
              "25%    173.027386\n",
              "50%    186.885972\n",
              "75%    200.038625\n",
              "max    241.893563"
            ]
          },
          "metadata": {
            "tags": []
          },
          "execution_count": 14
        }
      ]
    },
    {
      "cell_type": "code",
      "metadata": {
        "colab": {
          "base_uri": "https://localhost:8080/"
        },
        "id": "xbNdApQ6gkug",
        "outputId": "9bc65f36-6356-4679-bcf0-c890dd862cf9"
      },
      "source": [
        "dataset.isnull().sum()                                              # Checking Null values"
      ],
      "execution_count": 15,
      "outputs": [
        {
          "output_type": "execute_result",
          "data": {
            "text/plain": [
              "Height    0\n",
              "Weight    0\n",
              "dtype: int64"
            ]
          },
          "metadata": {
            "tags": []
          },
          "execution_count": 15
        }
      ]
    },
    {
      "cell_type": "markdown",
      "metadata": {
        "id": "1EQmZJFKg_xl"
      },
      "source": [
        "## Data Visualisation"
      ]
    },
    {
      "cell_type": "markdown",
      "metadata": {
        "id": "-Jhfl7e0HRan"
      },
      "source": [
        "**Scatter Plot**"
      ]
    },
    {
      "cell_type": "code",
      "metadata": {
        "colab": {
          "base_uri": "https://localhost:8080/",
          "height": 322
        },
        "id": "sshQCNHthCgI",
        "outputId": "f5414bde-a80a-4d1a-edeb-09524d5ce9c5"
      },
      "source": [
        "plt.grid(True)\n",
        "font = {'family': 'serif',\n",
        "        'color':  'darkred',\n",
        "        'weight': 'normal',\n",
        "        'size': 16,\n",
        "        }\n",
        "plt.scatter(dataset['Height'],dataset['Weight'],s=40,color='cornflowerblue')\n",
        "plt.title('Height vs Weight',fontdict=font)\n",
        "plt.xlabel('Height',fontdict=font)\n",
        "plt.ylabel('Weight',fontdict=font)\n",
        "plt.figure(figsize=(40,40))\n",
        "plt.show()"
      ],
      "execution_count": 16,
      "outputs": [
        {
          "output_type": "display_data",
          "data": {
            "image/png": "[encoded data removed]",
            "text/plain": [
              "<Figure size 432x288 with 1 Axes>"
            ]
          },
          "metadata": {
            "tags": [],
            "needs_background": "light"
          }
        },
        {
          "output_type": "display_data",
          "data": {
            "text/plain": [
              "<Figure size 2880x2880 with 0 Axes>"
            ]
          },
          "metadata": {
            "tags": []
          }
        }
      ]
    },
    {
      "cell_type": "code",
      "metadata": {
        "colab": {
          "base_uri": "https://localhost:8080/",
          "height": 157
        },
        "id": "_pfXMB9ljMBZ",
        "outputId": "c2f7f8dc-0b6b-4791-b370-5c7b84a13c58"
      },
      "source": [
        "sns.palplot(sns.color_palette('PuOr')) #Purple to Orange colors\n",
        "pal = sns.color_palette('PuOr', 6) #print 6 color shades from Purple to Orange\n",
        "pal.as_hex() #set hex code values for colors\n",
        "\n",
        "import matplotlib.pyplot as plt\n",
        "plt.style.use(['seaborn'])\n",
        "sns_colors = ['#c6690c', '#664697'] #orange Purple hex codes\n",
        "sns.set_palette(sns_colors) #set the palette as sns_colors \n",
        "sns.palplot(sns.color_palette(sns_colors)) #plot the color codes"
      ],
      "execution_count": 17,
      "outputs": [
        {
          "output_type": "display_data",
          "data": {
            "image/png": "[encoded data removed]",
            "text/plain": [
              "<Figure size 432x72 with 1 Axes>"
            ]
          },
          "metadata": {
            "tags": [],
            "needs_background": "light"
          }
        },
        {
          "output_type": "display_data",
          "data": {
            "image/png": "[encoded data removed]",
            "text/plain": [
              "<Figure size 144x72 with 1 Axes>"
            ]
          },
          "metadata": {
            "tags": []
          }
        }
      ]
    },
    {
      "cell_type": "markdown",
      "metadata": {
        "id": "acAh7thzHYyk"
      },
      "source": [
        "**Pair Plot**"
      ]
    },
    {
      "cell_type": "code",
      "metadata": {
        "colab": {
          "base_uri": "https://localhost:8080/",
          "height": 461
        },
        "id": "xzeU092_jaJv",
        "outputId": "e2ec2420-ae3a-49c3-c1c9-32574b4483c7"
      },
      "source": [
        "\n",
        "sns.pairplot(dataset,x_vars=['Height','Weight'],y_vars=['Height','Weight'],diag_kind='kde',palette=\"hls\",height=3)\n"
      ],
      "execution_count": 18,
      "outputs": [
        {
          "output_type": "execute_result",
          "data": {
            "text/plain": [
              "<seaborn.axisgrid.PairGrid at 0x7fe88a1dc410>"
            ]
          },
          "metadata": {
            "tags": []
          },
          "execution_count": 18
        },
        {
          "output_type": "display_data",
          "data": {
            "image/png": "[encoded data removed]",
            "text/plain": [
              "<Figure size 432x432 with 6 Axes>"
            ]
          },
          "metadata": {
            "tags": []
          }
        }
      ]
    },
    {
      "cell_type": "markdown",
      "metadata": {
        "id": "_ZTZIUzVHba8"
      },
      "source": [
        "**Box Plot**"
      ]
    },
    {
      "cell_type": "code",
      "metadata": {
        "id": "BIiIUEKyphym",
        "colab": {
          "base_uri": "https://localhost:8080/",
          "height": 347
        },
        "outputId": "9c4b8e6e-9a8a-4969-f8f2-47f243c7d189"
      },
      "source": [
        "\n",
        "sns.boxplot(y=dataset['Weight'],palette='muted')"
      ],
      "execution_count": 19,
      "outputs": [
        {
          "output_type": "execute_result",
          "data": {
            "text/plain": [
              "<matplotlib.axes._subplots.AxesSubplot at 0x7fe87e870990>"
            ]
          },
          "metadata": {
            "tags": []
          },
          "execution_count": 19
        },
        {
          "output_type": "display_data",
          "data": {
            "image/png": "[encoded data removed]",
            "text/plain": [
              "<Figure size 576x396 with 1 Axes>"
            ]
          },
          "metadata": {
            "tags": []
          }
        }
      ]
    },
    {
      "cell_type": "markdown",
      "metadata": {
        "id": "fMxF3PwQHgNv"
      },
      "source": [
        "**Violin Plot**"
      ]
    },
    {
      "cell_type": "code",
      "metadata": {
        "colab": {
          "base_uri": "https://localhost:8080/",
          "height": 349
        },
        "id": "RD5uOn9v4I4W",
        "outputId": "56df626d-1139-4f0c-d4c6-b3f8d5797c0f"
      },
      "source": [
        "sns.violinplot(y=dataset[\"Weight\"])"
      ],
      "execution_count": 20,
      "outputs": [
        {
          "output_type": "execute_result",
          "data": {
            "text/plain": [
              "<matplotlib.axes._subplots.AxesSubplot at 0x7fe87d0026d0>"
            ]
          },
          "metadata": {
            "tags": []
          },
          "execution_count": 20
        },
        {
          "output_type": "display_data",
          "data": {
            "image/png": "[encoded data removed]",
            "text/plain": [
              "<Figure size 576x396 with 1 Axes>"
            ]
          },
          "metadata": {
            "tags": []
          }
        }
      ]
    },
    {
      "cell_type": "code",
      "metadata": {
        "colab": {
          "base_uri": "https://localhost:8080/",
          "height": 112
        },
        "id": "uFFle0z95Ej3",
        "outputId": "6ee79f84-9cce-42e5-b8d0-aacc4a662489"
      },
      "source": [
        "dataset.corr()                                          # Finding the correlation b/w variables"
      ],
      "execution_count": 21,
      "outputs": [
        {
          "output_type": "execute_result",
          "data": {
            "text/html": [
              "<div>\n",
              "<style scoped>\n",
              "    .dataframe tbody tr th:only-of-type {\n",
              "        vertical-align: middle;\n",
              "    }\n",
              "\n",
              "    .dataframe tbody tr th {\n",
              "        vertical-align: top;\n",
              "    }\n",
              "\n",
              "    .dataframe thead th {\n",
              "        text-align: right;\n",
              "    }\n",
              "</style>\n",
              "<table border=\"1\" class=\"dataframe\">\n",
              "  <thead>\n",
              "    <tr style=\"text-align: right;\">\n",
              "      <th></th>\n",
              "      <th>Height</th>\n",
              "      <th>Weight</th>\n",
              "    </tr>\n",
              "  </thead>\n",
              "  <tbody>\n",
              "    <tr>\n",
              "      <th>Height</th>\n",
              "      <td>1.000000</td>\n",
              "      <td>0.837903</td>\n",
              "    </tr>\n",
              "    <tr>\n",
              "      <th>Weight</th>\n",
              "      <td>0.837903</td>\n",
              "      <td>1.000000</td>\n",
              "    </tr>\n",
              "  </tbody>\n",
              "</table>\n",
              "</div>"
            ],
            "text/plain": [
              "          Height    Weight\n",
              "Height  1.000000  0.837903\n",
              "Weight  0.837903  1.000000"
            ]
          },
          "metadata": {
            "tags": []
          },
          "execution_count": 21
        }
      ]
    },
    {
      "cell_type": "markdown",
      "metadata": {
        "id": "zud5kwPDHpD_"
      },
      "source": [
        "**Heat Map**"
      ]
    },
    {
      "cell_type": "code",
      "metadata": {
        "colab": {
          "base_uri": "https://localhost:8080/",
          "height": 368
        },
        "id": "qr53vel55rAr",
        "outputId": "40ec2dbc-8140-4cc9-e857-341351546efa"
      },
      "source": [
        "sns.heatmap(dataset.corr(),annot=True,cmap=\"PuBuGn\")"
      ],
      "execution_count": 22,
      "outputs": [
        {
          "output_type": "execute_result",
          "data": {
            "text/plain": [
              "<matplotlib.axes._subplots.AxesSubplot at 0x7fe87cf50f10>"
            ]
          },
          "metadata": {
            "tags": []
          },
          "execution_count": 22
        },
        {
          "output_type": "display_data",
          "data": {
            "image/png": "[encoded data removed]",
            "text/plain": [
              "<Figure size 576x396 with 2 Axes>"
            ]
          },
          "metadata": {
            "tags": []
          }
        }
      ]
    },
    {
      "cell_type": "markdown",
      "metadata": {
        "id": "i_z8EB7lJg2I"
      },
      "source": [
        "*There exists a positive correlation between the variables `Height` and `Weight`*"
      ]
    },
    {
      "cell_type": "markdown",
      "metadata": {
        "id": "b4RDbxMJ6tb6"
      },
      "source": [
        "# Data Split"
      ]
    },
    {
      "cell_type": "code",
      "metadata": {
        "id": "5BcSCeOJ6PLF"
      },
      "source": [
        "trainDataset = dataset.sample(frac=0.8, random_state=0)                                  # Dividing datasets into parts (80% and 20%)\n",
        "testDataset = dataset.drop(trainDataset.index)\n"
      ],
      "execution_count": 23,
      "outputs": []
    },
    {
      "cell_type": "code",
      "metadata": {
        "colab": {
          "base_uri": "https://localhost:8080/"
        },
        "id": "9nNzrsNc7AfD",
        "outputId": "3d48c47d-aaec-4d96-9da0-2fb476d3b83e"
      },
      "source": [
        "print(f'After split the number of samples in trainDataset {trainDataset.shape[0]}')      # Counting the samples\n",
        "print(f'After split the number of samples in testDataset {testDataset.shape[0]}')"
      ],
      "execution_count": 24,
      "outputs": [
        {
          "output_type": "stream",
          "text": [
            "After split the number of samples in trainDataset 400\n",
            "After split the number of samples in testDataset 100\n"
          ],
          "name": "stdout"
        }
      ]
    },
    {
      "cell_type": "code",
      "metadata": {
        "colab": {
          "base_uri": "https://localhost:8080/"
        },
        "id": "HurN4GVS8mFZ",
        "outputId": "e745ec88-242e-49e8-d5d6-e43ac2f52f25"
      },
      "source": [
        "trainFeatures = trainDataset.copy()\n",
        "testFeatures = testDataset.copy()\n",
        "\n",
        "print(trainFeatures.head())\n",
        "print(testFeatures.head())"
      ],
      "execution_count": 25,
      "outputs": [
        {
          "output_type": "stream",
          "text": [
            "        Height      Weight\n",
            "90   71.815420  201.620667\n",
            "254  69.164381  196.892315\n",
            "283  66.414882  155.194772\n",
            "445  71.433376  216.634000\n",
            "461  66.676781  183.197307\n",
            "       Height      Weight\n",
            "9   63.456494  156.399676\n",
            "25  68.144033  192.343977\n",
            "28  67.421242  175.213922\n",
            "31  74.033808  212.910225\n",
            "32  71.528216  195.032243\n"
          ],
          "name": "stdout"
        }
      ]
    },
    {
      "cell_type": "code",
      "metadata": {
        "colab": {
          "base_uri": "https://localhost:8080/"
        },
        "id": "HzWMWklJ8o9Q",
        "outputId": "d0112948-2469-4f2f-eda5-c1dcf38cffe0"
      },
      "source": [
        "trainLabels = trainFeatures.pop('Weight')\n",
        "testLabels = testFeatures.pop('Weight')\n",
        "\n",
        "print(trainLabels.head())\n",
        "print(testLabels.head())"
      ],
      "execution_count": 26,
      "outputs": [
        {
          "output_type": "stream",
          "text": [
            "90     201.620667\n",
            "254    196.892315\n",
            "283    155.194772\n",
            "445    216.634000\n",
            "461    183.197307\n",
            "Name: Weight, dtype: float64\n",
            "9     156.399676\n",
            "25    192.343977\n",
            "28    175.213922\n",
            "31    212.910225\n",
            "32    195.032243\n",
            "Name: Weight, dtype: float64\n"
          ],
          "name": "stdout"
        }
      ]
    },
    {
      "cell_type": "code",
      "metadata": {
        "colab": {
          "base_uri": "https://localhost:8080/"
        },
        "id": "Tvz6-pjB7_Is",
        "outputId": "54969f7f-ae09-4ea9-ecbb-98afef8c43b8"
      },
      "source": [
        "print(trainLabels.describe())\n"
      ],
      "execution_count": 27,
      "outputs": [
        {
          "output_type": "stream",
          "text": [
            "count    400.000000\n",
            "mean     186.853132\n",
            "std       19.441716\n",
            "min      135.655876\n",
            "25%      172.746315\n",
            "50%      186.346299\n",
            "75%      199.938897\n",
            "max      241.893563\n",
            "Name: Weight, dtype: float64\n"
          ],
          "name": "stdout"
        }
      ]
    },
    {
      "cell_type": "markdown",
      "metadata": {
        "id": "Jkbq7cSxH9NT"
      },
      "source": [
        "### Training a Perceptron"
      ]
    },
    {
      "cell_type": "code",
      "metadata": {
        "id": "sgK73w-79UrP"
      },
      "source": [
        "model=tf.keras.models.Sequential()"
      ],
      "execution_count": 28,
      "outputs": []
    },
    {
      "cell_type": "code",
      "metadata": {
        "id": "S4G7XrB89bmV"
      },
      "source": [
        "model.add(tf.keras.layers.Dense(units=6, activation='relu'))   # Adding a hidden layer"
      ],
      "execution_count": 29,
      "outputs": []
    },
    {
      "cell_type": "code",
      "metadata": {
        "id": "orOao82K9juC"
      },
      "source": [
        "model.add(tf.keras.layers.Dense(units=1))"
      ],
      "execution_count": 30,
      "outputs": []
    },
    {
      "cell_type": "code",
      "metadata": {
        "id": "5oflf1eJ90Q2"
      },
      "source": [
        "model.compile(\n",
        "    loss = 'mean_absolute_error', #minimizing the MAE loss\n",
        "    optimizer = tf.keras.optimizers.Adam(0.001), #learning rate specified as 0.001\n",
        "    # optimizer = 'adam', #takes the default learning rate\n",
        "    metrics = ['mae', 'mse'] #meanSquare and meanAbsolute error metrics\n",
        ")"
      ],
      "execution_count": 31,
      "outputs": []
    },
    {
      "cell_type": "code",
      "metadata": {
        "colab": {
          "base_uri": "https://localhost:8080/"
        },
        "id": "pXedvHW59-gc",
        "outputId": "841165cb-e75f-4d76-ab38-7884dbf5a8fe"
      },
      "source": [
        "numEpochs = 600\n",
        "history = model.fit(x = trainFeatures, y = trainLabels, validation_data = (testFeatures, testLabels),epochs = numEpochs)"
      ],
      "execution_count": 32,
      "outputs": [
        {
          "output_type": "stream",
          "text": [
            "Epoch 1/600\n",
            "13/13 [==============================] - 1s 16ms/step - loss: 33.8500 - mae: 33.8500 - mse: 1362.2896 - val_loss: 32.0603 - val_mae: 32.0603 - val_mse: 1221.1071\n",
            "Epoch 2/600\n",
            "13/13 [==============================] - 0s 4ms/step - loss: 28.5122 - mae: 28.5122 - mse: 1017.7198 - val_loss: 26.6595 - val_mae: 26.6595 - val_mse: 894.6848\n",
            "Epoch 3/600\n",
            "13/13 [==============================] - 0s 3ms/step - loss: 23.2847 - mae: 23.2847 - mse: 727.2237 - val_loss: 21.2949 - val_mae: 21.2949 - val_mse: 627.2303\n",
            "Epoch 4/600\n",
            "13/13 [==============================] - 0s 3ms/step - loss: 18.5965 - mae: 18.5965 - mse: 505.2365 - val_loss: 16.4838 - val_mae: 16.4838 - val_mse: 428.0133\n",
            "Epoch 5/600\n",
            "13/13 [==============================] - 0s 3ms/step - loss: 15.1410 - mae: 15.1410 - mse: 353.1697 - val_loss: 13.5016 - val_mae: 13.5016 - val_mse: 297.8041\n",
            "Epoch 6/600\n",
            "13/13 [==============================] - 0s 4ms/step - loss: 12.7900 - mae: 12.7900 - mse: 262.0797 - val_loss: 12.0795 - val_mae: 12.0795 - val_mse: 227.5816\n",
            "Epoch 7/600\n",
            "13/13 [==============================] - 0s 3ms/step - loss: 11.7777 - mae: 11.7777 - mse: 215.6914 - val_loss: 11.2893 - val_mae: 11.2893 - val_mse: 192.3234\n",
            "Epoch 8/600\n",
            "13/13 [==============================] - 0s 3ms/step - loss: 11.2979 - mae: 11.2979 - mse: 198.5273 - val_loss: 10.9977 - val_mae: 10.9977 - val_mse: 181.2216\n",
            "Epoch 9/600\n",
            "13/13 [==============================] - 0s 3ms/step - loss: 11.2194 - mae: 11.2194 - mse: 193.8163 - val_loss: 10.8977 - val_mae: 10.8977 - val_mse: 177.0645\n",
            "Epoch 10/600\n",
            "13/13 [==============================] - 0s 5ms/step - loss: 11.2191 - mae: 11.2191 - mse: 192.8424 - val_loss: 10.8663 - val_mae: 10.8663 - val_mse: 175.5614\n",
            "Epoch 11/600\n",
            "13/13 [==============================] - 0s 4ms/step - loss: 11.2269 - mae: 11.2269 - mse: 192.5428 - val_loss: 10.8504 - val_mae: 10.8504 - val_mse: 174.8943\n",
            "Epoch 12/600\n",
            "13/13 [==============================] - 0s 4ms/step - loss: 11.2281 - mae: 11.2281 - mse: 192.6094 - val_loss: 10.8572 - val_mae: 10.8572 - val_mse: 175.1829\n",
            "Epoch 13/600\n",
            "13/13 [==============================] - 0s 4ms/step - loss: 11.2272 - mae: 11.2272 - mse: 192.5966 - val_loss: 10.8725 - val_mae: 10.8725 - val_mse: 175.8315\n",
            "Epoch 14/600\n",
            "13/13 [==============================] - 0s 3ms/step - loss: 11.2264 - mae: 11.2264 - mse: 192.8673 - val_loss: 10.8775 - val_mae: 10.8775 - val_mse: 176.0630\n",
            "Epoch 15/600\n",
            "13/13 [==============================] - 0s 4ms/step - loss: 11.2262 - mae: 11.2262 - mse: 192.7987 - val_loss: 10.8713 - val_mae: 10.8713 - val_mse: 175.7789\n",
            "Epoch 16/600\n",
            "13/13 [==============================] - 0s 3ms/step - loss: 11.2391 - mae: 11.2391 - mse: 193.0373 - val_loss: 10.8583 - val_mae: 10.8583 - val_mse: 175.2292\n",
            "Epoch 17/600\n",
            "13/13 [==============================] - 0s 3ms/step - loss: 11.2253 - mae: 11.2253 - mse: 192.6788 - val_loss: 10.8685 - val_mae: 10.8685 - val_mse: 175.6582\n",
            "Epoch 18/600\n",
            "13/13 [==============================] - 0s 4ms/step - loss: 11.2237 - mae: 11.2237 - mse: 192.8051 - val_loss: 10.8788 - val_mae: 10.8788 - val_mse: 176.1244\n",
            "Epoch 19/600\n",
            "13/13 [==============================] - 0s 3ms/step - loss: 11.2239 - mae: 11.2239 - mse: 192.9311 - val_loss: 10.8825 - val_mae: 10.8825 - val_mse: 176.3014\n",
            "Epoch 20/600\n",
            "13/13 [==============================] - 0s 3ms/step - loss: 11.2248 - mae: 11.2248 - mse: 193.2560 - val_loss: 10.9044 - val_mae: 10.9044 - val_mse: 177.3660\n",
            "Epoch 21/600\n",
            "13/13 [==============================] - 0s 3ms/step - loss: 11.2249 - mae: 11.2249 - mse: 193.1491 - val_loss: 10.8855 - val_mae: 10.8855 - val_mse: 176.4491\n",
            "Epoch 22/600\n",
            "13/13 [==============================] - 0s 4ms/step - loss: 11.2239 - mae: 11.2239 - mse: 192.9447 - val_loss: 10.8778 - val_mae: 10.8778 - val_mse: 176.0811\n",
            "Epoch 23/600\n",
            "13/13 [==============================] - 0s 3ms/step - loss: 11.2569 - mae: 11.2569 - mse: 193.7596 - val_loss: 10.9120 - val_mae: 10.9120 - val_mse: 177.7060\n",
            "Epoch 24/600\n",
            "13/13 [==============================] - 0s 3ms/step - loss: 11.2210 - mae: 11.2210 - mse: 193.1592 - val_loss: 10.8741 - val_mae: 10.8741 - val_mse: 175.9116\n",
            "Epoch 25/600\n",
            "13/13 [==============================] - 0s 3ms/step - loss: 11.2307 - mae: 11.2307 - mse: 192.7764 - val_loss: 10.8522 - val_mae: 10.8522 - val_mse: 174.9897\n",
            "Epoch 26/600\n",
            "13/13 [==============================] - 0s 3ms/step - loss: 11.2273 - mae: 11.2273 - mse: 192.7841 - val_loss: 10.8705 - val_mae: 10.8705 - val_mse: 175.7512\n",
            "Epoch 27/600\n",
            "13/13 [==============================] - 0s 4ms/step - loss: 11.2306 - mae: 11.2306 - mse: 193.0736 - val_loss: 10.8775 - val_mae: 10.8775 - val_mse: 176.0708\n",
            "Epoch 28/600\n",
            "13/13 [==============================] - 0s 3ms/step - loss: 11.2293 - mae: 11.2293 - mse: 192.8322 - val_loss: 10.8647 - val_mae: 10.8647 - val_mse: 175.4989\n",
            "Epoch 29/600\n",
            "13/13 [==============================] - 0s 3ms/step - loss: 11.2255 - mae: 11.2255 - mse: 193.0428 - val_loss: 10.8946 - val_mae: 10.8946 - val_mse: 176.9197\n",
            "Epoch 30/600\n",
            "13/13 [==============================] - 0s 3ms/step - loss: 11.2312 - mae: 11.2312 - mse: 193.5384 - val_loss: 10.9078 - val_mae: 10.9078 - val_mse: 177.5204\n",
            "Epoch 31/600\n",
            "13/13 [==============================] - 0s 3ms/step - loss: 11.2245 - mae: 11.2245 - mse: 193.1758 - val_loss: 10.8829 - val_mae: 10.8829 - val_mse: 176.3312\n",
            "Epoch 32/600\n",
            "13/13 [==============================] - 0s 3ms/step - loss: 11.2280 - mae: 11.2280 - mse: 192.8664 - val_loss: 10.8697 - val_mae: 10.8697 - val_mse: 175.7188\n",
            "Epoch 33/600\n",
            "13/13 [==============================] - 0s 4ms/step - loss: 11.2298 - mae: 11.2298 - mse: 192.8210 - val_loss: 10.8647 - val_mae: 10.8647 - val_mse: 175.5034\n",
            "Epoch 34/600\n",
            "13/13 [==============================] - 0s 3ms/step - loss: 11.2386 - mae: 11.2386 - mse: 193.5065 - val_loss: 10.8975 - val_mae: 10.8975 - val_mse: 177.0757\n",
            "Epoch 35/600\n",
            "13/13 [==============================] - 0s 3ms/step - loss: 11.2279 - mae: 11.2279 - mse: 193.4509 - val_loss: 10.9114 - val_mae: 10.9114 - val_mse: 177.6851\n",
            "Epoch 36/600\n",
            "13/13 [==============================] - 0s 3ms/step - loss: 11.2211 - mae: 11.2211 - mse: 193.0037 - val_loss: 10.8759 - val_mae: 10.8759 - val_mse: 176.0048\n",
            "Epoch 37/600\n",
            "13/13 [==============================] - 0s 3ms/step - loss: 11.2225 - mae: 11.2225 - mse: 192.7877 - val_loss: 10.8673 - val_mae: 10.8673 - val_mse: 175.6171\n",
            "Epoch 38/600\n",
            "13/13 [==============================] - 0s 3ms/step - loss: 11.2251 - mae: 11.2251 - mse: 192.8656 - val_loss: 10.8826 - val_mae: 10.8826 - val_mse: 176.3214\n",
            "Epoch 39/600\n",
            "13/13 [==============================] - 0s 3ms/step - loss: 11.2251 - mae: 11.2251 - mse: 192.8393 - val_loss: 10.8740 - val_mae: 10.8740 - val_mse: 175.9158\n",
            "Epoch 40/600\n",
            "13/13 [==============================] - 0s 3ms/step - loss: 11.2233 - mae: 11.2233 - mse: 193.0148 - val_loss: 10.8970 - val_mae: 10.8970 - val_mse: 177.0596\n",
            "Epoch 41/600\n",
            "13/13 [==============================] - 0s 3ms/step - loss: 11.2305 - mae: 11.2305 - mse: 193.2859 - val_loss: 10.8871 - val_mae: 10.8871 - val_mse: 176.5452\n",
            "Epoch 42/600\n",
            "13/13 [==============================] - 0s 5ms/step - loss: 11.2259 - mae: 11.2259 - mse: 193.1455 - val_loss: 10.8922 - val_mae: 10.8922 - val_mse: 176.8101\n",
            "Epoch 43/600\n",
            "13/13 [==============================] - 0s 3ms/step - loss: 11.2294 - mae: 11.2294 - mse: 193.2323 - val_loss: 10.8980 - val_mae: 10.8980 - val_mse: 177.1017\n",
            "Epoch 44/600\n",
            "13/13 [==============================] - 0s 3ms/step - loss: 11.2477 - mae: 11.2477 - mse: 193.6658 - val_loss: 10.8535 - val_mae: 10.8535 - val_mse: 175.0483\n",
            "Epoch 45/600\n",
            "13/13 [==============================] - 0s 3ms/step - loss: 11.2286 - mae: 11.2286 - mse: 192.5642 - val_loss: 10.8869 - val_mae: 10.8869 - val_mse: 176.5419\n",
            "Epoch 46/600\n",
            "13/13 [==============================] - 0s 3ms/step - loss: 11.2258 - mae: 11.2258 - mse: 193.2127 - val_loss: 10.8949 - val_mae: 10.8949 - val_mse: 176.9516\n",
            "Epoch 47/600\n",
            "13/13 [==============================] - 0s 3ms/step - loss: 11.2282 - mae: 11.2282 - mse: 193.4160 - val_loss: 10.8850 - val_mae: 10.8850 - val_mse: 176.4497\n",
            "Epoch 48/600\n",
            "13/13 [==============================] - 0s 3ms/step - loss: 11.2235 - mae: 11.2235 - mse: 193.0244 - val_loss: 10.8813 - val_mae: 10.8813 - val_mse: 176.2692\n",
            "Epoch 49/600\n",
            "13/13 [==============================] - 0s 3ms/step - loss: 11.2245 - mae: 11.2245 - mse: 192.8596 - val_loss: 10.8796 - val_mae: 10.8796 - val_mse: 176.1884\n",
            "Epoch 50/600\n",
            "13/13 [==============================] - 0s 3ms/step - loss: 11.2501 - mae: 11.2501 - mse: 193.7565 - val_loss: 10.9060 - val_mae: 10.9060 - val_mse: 177.4565\n",
            "Epoch 51/600\n",
            "13/13 [==============================] - 0s 3ms/step - loss: 11.2292 - mae: 11.2292 - mse: 192.8504 - val_loss: 10.8739 - val_mae: 10.8739 - val_mse: 175.9205\n",
            "Epoch 52/600\n",
            "13/13 [==============================] - 0s 3ms/step - loss: 11.2256 - mae: 11.2256 - mse: 192.8716 - val_loss: 10.8666 - val_mae: 10.8666 - val_mse: 175.5969\n",
            "Epoch 53/600\n",
            "13/13 [==============================] - 0s 3ms/step - loss: 11.2214 - mae: 11.2214 - mse: 192.6402 - val_loss: 10.8863 - val_mae: 10.8863 - val_mse: 176.5190\n",
            "Epoch 54/600\n",
            "13/13 [==============================] - 0s 4ms/step - loss: 11.2321 - mae: 11.2321 - mse: 193.5293 - val_loss: 10.8977 - val_mae: 10.8977 - val_mse: 177.0966\n",
            "Epoch 55/600\n",
            "13/13 [==============================] - 0s 5ms/step - loss: 11.2308 - mae: 11.2308 - mse: 193.6748 - val_loss: 10.8890 - val_mae: 10.8890 - val_mse: 176.6590\n",
            "Epoch 56/600\n",
            "13/13 [==============================] - 0s 4ms/step - loss: 11.2180 - mae: 11.2180 - mse: 192.4807 - val_loss: 10.8581 - val_mae: 10.8581 - val_mse: 175.2390\n",
            "Epoch 57/600\n",
            "13/13 [==============================] - 0s 3ms/step - loss: 11.2400 - mae: 11.2400 - mse: 192.6876 - val_loss: 10.8372 - val_mae: 10.8372 - val_mse: 174.2991\n",
            "Epoch 58/600\n",
            "13/13 [==============================] - 0s 3ms/step - loss: 11.2298 - mae: 11.2298 - mse: 192.6025 - val_loss: 10.8685 - val_mae: 10.8685 - val_mse: 175.6829\n",
            "Epoch 59/600\n",
            "13/13 [==============================] - 0s 3ms/step - loss: 11.2472 - mae: 11.2472 - mse: 193.8201 - val_loss: 10.9031 - val_mae: 10.9031 - val_mse: 177.3321\n",
            "Epoch 60/600\n",
            "13/13 [==============================] - 0s 3ms/step - loss: 11.2230 - mae: 11.2230 - mse: 193.0845 - val_loss: 10.8797 - val_mae: 10.8797 - val_mse: 176.2051\n",
            "Epoch 61/600\n",
            "13/13 [==============================] - 0s 3ms/step - loss: 11.2213 - mae: 11.2213 - mse: 192.4251 - val_loss: 10.8421 - val_mae: 10.8421 - val_mse: 174.5302\n",
            "Epoch 62/600\n",
            "13/13 [==============================] - 0s 3ms/step - loss: 11.2258 - mae: 11.2258 - mse: 192.4267 - val_loss: 10.8518 - val_mae: 10.8518 - val_mse: 174.9885\n",
            "Epoch 63/600\n",
            "13/13 [==============================] - 0s 3ms/step - loss: 11.2257 - mae: 11.2257 - mse: 192.7363 - val_loss: 10.8855 - val_mae: 10.8855 - val_mse: 176.4943\n",
            "Epoch 64/600\n",
            "13/13 [==============================] - 0s 3ms/step - loss: 11.2234 - mae: 11.2234 - mse: 192.7819 - val_loss: 10.8759 - val_mae: 10.8759 - val_mse: 176.0286\n",
            "Epoch 65/600\n",
            "13/13 [==============================] - 0s 3ms/step - loss: 11.2211 - mae: 11.2211 - mse: 192.6989 - val_loss: 10.8647 - val_mae: 10.8647 - val_mse: 175.5226\n",
            "Epoch 66/600\n",
            "13/13 [==============================] - 0s 4ms/step - loss: 11.2291 - mae: 11.2291 - mse: 192.8406 - val_loss: 10.8872 - val_mae: 10.8872 - val_mse: 176.5838\n",
            "Epoch 67/600\n",
            "13/13 [==============================] - 0s 3ms/step - loss: 11.2624 - mae: 11.2624 - mse: 193.2745 - val_loss: 10.8361 - val_mae: 10.8361 - val_mse: 174.2606\n",
            "Epoch 68/600\n",
            "13/13 [==============================] - 0s 3ms/step - loss: 11.2586 - mae: 11.2586 - mse: 193.1992 - val_loss: 10.9243 - val_mae: 10.9243 - val_mse: 178.2541\n",
            "Epoch 69/600\n",
            "13/13 [==============================] - 0s 3ms/step - loss: 11.2244 - mae: 11.2244 - mse: 193.1299 - val_loss: 10.8849 - val_mae: 10.8849 - val_mse: 176.4723\n",
            "Epoch 70/600\n",
            "13/13 [==============================] - 0s 3ms/step - loss: 11.2230 - mae: 11.2230 - mse: 192.8251 - val_loss: 10.8625 - val_mae: 10.8625 - val_mse: 175.4328\n",
            "Epoch 71/600\n",
            "13/13 [==============================] - 0s 3ms/step - loss: 11.2277 - mae: 11.2277 - mse: 193.5553 - val_loss: 10.9119 - val_mae: 10.9119 - val_mse: 177.7382\n",
            "Epoch 72/600\n",
            "13/13 [==============================] - 0s 3ms/step - loss: 11.2267 - mae: 11.2267 - mse: 193.3021 - val_loss: 10.8881 - val_mae: 10.8881 - val_mse: 176.6391\n",
            "Epoch 73/600\n",
            "13/13 [==============================] - 0s 3ms/step - loss: 11.2237 - mae: 11.2237 - mse: 192.7651 - val_loss: 10.8709 - val_mae: 10.8709 - val_mse: 175.8057\n",
            "Epoch 74/600\n",
            "13/13 [==============================] - 0s 3ms/step - loss: 11.2195 - mae: 11.2195 - mse: 192.5677 - val_loss: 10.8545 - val_mae: 10.8545 - val_mse: 175.1027\n",
            "Epoch 75/600\n",
            "13/13 [==============================] - 0s 3ms/step - loss: 11.2271 - mae: 11.2271 - mse: 192.6743 - val_loss: 10.8516 - val_mae: 10.8516 - val_mse: 174.9857\n",
            "Epoch 76/600\n",
            "13/13 [==============================] - 0s 3ms/step - loss: 11.2192 - mae: 11.2192 - mse: 192.6534 - val_loss: 10.8805 - val_mae: 10.8805 - val_mse: 176.2627\n",
            "Epoch 77/600\n",
            "13/13 [==============================] - 0s 3ms/step - loss: 11.2226 - mae: 11.2226 - mse: 193.2126 - val_loss: 10.9104 - val_mae: 10.9104 - val_mse: 177.6782\n",
            "Epoch 78/600\n",
            "13/13 [==============================] - 0s 5ms/step - loss: 11.2356 - mae: 11.2356 - mse: 194.1149 - val_loss: 10.9129 - val_mae: 10.9129 - val_mse: 177.7953\n",
            "Epoch 79/600\n",
            "13/13 [==============================] - 0s 3ms/step - loss: 11.2192 - mae: 11.2192 - mse: 193.2730 - val_loss: 10.8796 - val_mae: 10.8796 - val_mse: 176.2217\n",
            "Epoch 80/600\n",
            "13/13 [==============================] - 0s 4ms/step - loss: 11.2471 - mae: 11.2471 - mse: 192.9172 - val_loss: 10.8427 - val_mae: 10.8427 - val_mse: 174.5796\n",
            "Epoch 81/600\n",
            "13/13 [==============================] - 0s 3ms/step - loss: 11.2345 - mae: 11.2345 - mse: 193.0305 - val_loss: 10.8834 - val_mae: 10.8834 - val_mse: 176.4133\n",
            "Epoch 82/600\n",
            "13/13 [==============================] - 0s 5ms/step - loss: 11.2205 - mae: 11.2205 - mse: 192.7364 - val_loss: 10.8763 - val_mae: 10.8763 - val_mse: 176.0684\n",
            "Epoch 83/600\n",
            "13/13 [==============================] - 0s 4ms/step - loss: 11.2258 - mae: 11.2258 - mse: 193.2286 - val_loss: 10.8919 - val_mae: 10.8919 - val_mse: 176.8505\n",
            "Epoch 84/600\n",
            "13/13 [==============================] - 0s 4ms/step - loss: 11.2225 - mae: 11.2225 - mse: 192.7811 - val_loss: 10.8474 - val_mae: 10.8474 - val_mse: 174.8207\n",
            "Epoch 85/600\n",
            "13/13 [==============================] - 0s 5ms/step - loss: 11.2318 - mae: 11.2318 - mse: 192.6657 - val_loss: 10.8445 - val_mae: 10.8445 - val_mse: 174.6761\n",
            "Epoch 86/600\n",
            "13/13 [==============================] - 0s 4ms/step - loss: 11.2145 - mae: 11.2145 - mse: 192.2298 - val_loss: 10.8873 - val_mae: 10.8873 - val_mse: 176.6194\n",
            "Epoch 87/600\n",
            "13/13 [==============================] - 0s 3ms/step - loss: 11.2219 - mae: 11.2219 - mse: 193.0907 - val_loss: 10.9135 - val_mae: 10.9135 - val_mse: 177.8315\n",
            "Epoch 88/600\n",
            "13/13 [==============================] - 0s 3ms/step - loss: 11.2328 - mae: 11.2328 - mse: 193.4754 - val_loss: 10.8676 - val_mae: 10.8676 - val_mse: 175.6705\n",
            "Epoch 89/600\n",
            "13/13 [==============================] - 0s 3ms/step - loss: 11.2247 - mae: 11.2247 - mse: 192.8231 - val_loss: 10.8801 - val_mae: 10.8801 - val_mse: 176.2604\n",
            "Epoch 90/600\n",
            "13/13 [==============================] - 0s 3ms/step - loss: 11.2264 - mae: 11.2264 - mse: 193.0416 - val_loss: 10.8825 - val_mae: 10.8825 - val_mse: 176.3815\n",
            "Epoch 91/600\n",
            "13/13 [==============================] - 0s 4ms/step - loss: 11.2311 - mae: 11.2311 - mse: 193.2939 - val_loss: 10.8960 - val_mae: 10.8960 - val_mse: 177.0532\n",
            "Epoch 92/600\n",
            "13/13 [==============================] - 0s 3ms/step - loss: 11.2385 - mae: 11.2385 - mse: 192.6861 - val_loss: 10.8391 - val_mae: 10.8391 - val_mse: 174.4225\n",
            "Epoch 93/600\n",
            "13/13 [==============================] - 0s 3ms/step - loss: 11.2255 - mae: 11.2255 - mse: 192.4902 - val_loss: 10.8485 - val_mae: 10.8485 - val_mse: 174.8724\n",
            "Epoch 94/600\n",
            "13/13 [==============================] - 0s 3ms/step - loss: 11.2235 - mae: 11.2235 - mse: 192.6684 - val_loss: 10.8790 - val_mae: 10.8790 - val_mse: 176.2142\n",
            "Epoch 95/600\n",
            "13/13 [==============================] - 0s 3ms/step - loss: 11.2258 - mae: 11.2258 - mse: 192.7567 - val_loss: 10.8667 - val_mae: 10.8667 - val_mse: 175.6379\n",
            "Epoch 96/600\n",
            "13/13 [==============================] - 0s 3ms/step - loss: 11.2202 - mae: 11.2202 - mse: 192.8650 - val_loss: 10.8970 - val_mae: 10.8970 - val_mse: 177.0983\n",
            "Epoch 97/600\n",
            "13/13 [==============================] - 0s 3ms/step - loss: 11.2226 - mae: 11.2226 - mse: 192.8505 - val_loss: 10.8791 - val_mae: 10.8791 - val_mse: 176.2248\n",
            "Epoch 98/600\n",
            "13/13 [==============================] - 0s 3ms/step - loss: 11.2213 - mae: 11.2213 - mse: 192.9406 - val_loss: 10.8949 - val_mae: 10.8949 - val_mse: 177.0106\n",
            "Epoch 99/600\n",
            "13/13 [==============================] - 0s 3ms/step - loss: 11.2545 - mae: 11.2545 - mse: 194.4214 - val_loss: 10.9225 - val_mae: 10.9225 - val_mse: 178.1946\n",
            "Epoch 100/600\n",
            "13/13 [==============================] - 0s 3ms/step - loss: 11.2259 - mae: 11.2259 - mse: 192.6490 - val_loss: 10.8489 - val_mae: 10.8489 - val_mse: 174.8907\n",
            "Epoch 101/600\n",
            "13/13 [==============================] - 0s 3ms/step - loss: 11.2235 - mae: 11.2235 - mse: 192.9123 - val_loss: 10.8788 - val_mae: 10.8788 - val_mse: 176.2125\n",
            "Epoch 102/600\n",
            "13/13 [==============================] - 0s 3ms/step - loss: 11.2194 - mae: 11.2194 - mse: 192.8033 - val_loss: 10.8727 - val_mae: 10.8727 - val_mse: 175.9205\n",
            "Epoch 103/600\n",
            "13/13 [==============================] - 0s 3ms/step - loss: 11.2281 - mae: 11.2281 - mse: 192.6546 - val_loss: 10.8448 - val_mae: 10.8448 - val_mse: 174.7195\n",
            "Epoch 104/600\n",
            "13/13 [==============================] - 0s 3ms/step - loss: 11.2257 - mae: 11.2257 - mse: 192.4745 - val_loss: 10.8745 - val_mae: 10.8745 - val_mse: 176.0100\n",
            "Epoch 105/600\n",
            "13/13 [==============================] - 0s 3ms/step - loss: 11.2229 - mae: 11.2229 - mse: 192.6827 - val_loss: 10.8719 - val_mae: 10.8719 - val_mse: 175.8891\n",
            "Epoch 106/600\n",
            "13/13 [==============================] - 0s 3ms/step - loss: 11.2228 - mae: 11.2228 - mse: 192.4589 - val_loss: 10.8519 - val_mae: 10.8519 - val_mse: 175.0146\n",
            "Epoch 107/600\n",
            "13/13 [==============================] - 0s 3ms/step - loss: 11.2218 - mae: 11.2218 - mse: 192.5630 - val_loss: 10.8651 - val_mae: 10.8651 - val_mse: 175.5793\n",
            "Epoch 108/600\n",
            "13/13 [==============================] - 0s 3ms/step - loss: 11.2253 - mae: 11.2253 - mse: 193.1002 - val_loss: 10.8853 - val_mae: 10.8853 - val_mse: 176.5536\n",
            "Epoch 109/600\n",
            "13/13 [==============================] - 0s 3ms/step - loss: 11.2424 - mae: 11.2424 - mse: 193.7961 - val_loss: 10.9443 - val_mae: 10.9443 - val_mse: 179.1185\n",
            "Epoch 110/600\n",
            "13/13 [==============================] - 0s 3ms/step - loss: 11.2513 - mae: 11.2513 - mse: 193.4297 - val_loss: 10.8288 - val_mae: 10.8288 - val_mse: 173.9740\n",
            "Epoch 111/600\n",
            "13/13 [==============================] - 0s 4ms/step - loss: 11.2224 - mae: 11.2224 - mse: 192.2091 - val_loss: 10.8592 - val_mae: 10.8592 - val_mse: 175.3246\n",
            "Epoch 112/600\n",
            "13/13 [==============================] - 0s 4ms/step - loss: 11.2238 - mae: 11.2238 - mse: 192.8345 - val_loss: 10.8982 - val_mae: 10.8982 - val_mse: 177.1680\n",
            "Epoch 113/600\n",
            "13/13 [==============================] - 0s 3ms/step - loss: 11.2181 - mae: 11.2181 - mse: 192.9688 - val_loss: 10.8832 - val_mae: 10.8832 - val_mse: 176.4525\n",
            "Epoch 114/600\n",
            "13/13 [==============================] - 0s 3ms/step - loss: 11.2227 - mae: 11.2227 - mse: 192.9691 - val_loss: 10.8902 - val_mae: 10.8902 - val_mse: 176.8199\n",
            "Epoch 115/600\n",
            "13/13 [==============================] - 0s 3ms/step - loss: 11.2196 - mae: 11.2196 - mse: 192.9973 - val_loss: 10.8711 - val_mae: 10.8711 - val_mse: 175.8648\n",
            "Epoch 116/600\n",
            "13/13 [==============================] - 0s 5ms/step - loss: 11.2220 - mae: 11.2220 - mse: 192.0541 - val_loss: 10.8251 - val_mae: 10.8251 - val_mse: 173.8261\n",
            "Epoch 117/600\n",
            "13/13 [==============================] - 0s 3ms/step - loss: 11.2221 - mae: 11.2221 - mse: 192.3518 - val_loss: 10.8587 - val_mae: 10.8587 - val_mse: 175.3052\n",
            "Epoch 118/600\n",
            "13/13 [==============================] - 0s 4ms/step - loss: 11.2208 - mae: 11.2208 - mse: 192.5239 - val_loss: 10.8584 - val_mae: 10.8584 - val_mse: 175.2930\n",
            "Epoch 119/600\n",
            "13/13 [==============================] - 0s 3ms/step - loss: 11.2330 - mae: 11.2330 - mse: 193.2697 - val_loss: 10.8951 - val_mae: 10.8951 - val_mse: 177.0377\n",
            "Epoch 120/600\n",
            "13/13 [==============================] - 0s 4ms/step - loss: 11.2204 - mae: 11.2204 - mse: 192.6591 - val_loss: 10.8409 - val_mae: 10.8409 - val_mse: 174.5435\n",
            "Epoch 121/600\n",
            "13/13 [==============================] - 0s 4ms/step - loss: 11.2225 - mae: 11.2225 - mse: 192.5821 - val_loss: 10.8635 - val_mae: 10.8635 - val_mse: 175.5221\n",
            "Epoch 122/600\n",
            "13/13 [==============================] - 0s 3ms/step - loss: 11.2283 - mae: 11.2283 - mse: 193.1780 - val_loss: 10.8925 - val_mae: 10.8925 - val_mse: 176.9278\n",
            "Epoch 123/600\n",
            "13/13 [==============================] - 0s 3ms/step - loss: 11.2178 - mae: 11.2178 - mse: 192.6304 - val_loss: 10.8639 - val_mae: 10.8639 - val_mse: 175.5414\n",
            "Epoch 124/600\n",
            "13/13 [==============================] - 0s 4ms/step - loss: 11.2299 - mae: 11.2299 - mse: 192.9729 - val_loss: 10.8787 - val_mae: 10.8787 - val_mse: 176.2418\n",
            "Epoch 125/600\n",
            "13/13 [==============================] - 0s 3ms/step - loss: 11.2197 - mae: 11.2197 - mse: 192.3534 - val_loss: 10.8281 - val_mae: 10.8281 - val_mse: 173.9537\n",
            "Epoch 126/600\n",
            "13/13 [==============================] - 0s 3ms/step - loss: 11.2531 - mae: 11.2531 - mse: 192.8817 - val_loss: 10.8161 - val_mae: 10.8161 - val_mse: 173.4821\n",
            "Epoch 127/600\n",
            "13/13 [==============================] - 0s 3ms/step - loss: 11.2726 - mae: 11.2726 - mse: 194.0191 - val_loss: 10.9040 - val_mae: 10.9040 - val_mse: 177.4438\n",
            "Epoch 128/600\n",
            "13/13 [==============================] - 0s 3ms/step - loss: 11.2498 - mae: 11.2498 - mse: 193.7499 - val_loss: 10.8402 - val_mae: 10.8402 - val_mse: 174.5235\n",
            "Epoch 129/600\n",
            "13/13 [==============================] - 0s 3ms/step - loss: 11.2376 - mae: 11.2376 - mse: 192.4194 - val_loss: 10.8432 - val_mae: 10.8432 - val_mse: 174.6756\n",
            "Epoch 130/600\n",
            "13/13 [==============================] - 0s 3ms/step - loss: 11.2122 - mae: 11.2122 - mse: 192.6476 - val_loss: 10.9012 - val_mae: 10.9012 - val_mse: 177.3179\n",
            "Epoch 131/600\n",
            "13/13 [==============================] - 0s 3ms/step - loss: 11.2240 - mae: 11.2240 - mse: 193.6092 - val_loss: 10.9090 - val_mae: 10.9090 - val_mse: 177.6707\n",
            "Epoch 132/600\n",
            "13/13 [==============================] - 0s 3ms/step - loss: 11.2096 - mae: 11.2096 - mse: 192.2693 - val_loss: 10.8408 - val_mae: 10.8408 - val_mse: 174.5577\n",
            "Epoch 133/600\n",
            "13/13 [==============================] - 0s 3ms/step - loss: 11.2706 - mae: 11.2706 - mse: 193.2024 - val_loss: 10.8159 - val_mae: 10.8159 - val_mse: 173.4773\n",
            "Epoch 134/600\n",
            "13/13 [==============================] - 0s 3ms/step - loss: 11.2364 - mae: 11.2364 - mse: 192.9225 - val_loss: 10.9137 - val_mae: 10.9137 - val_mse: 177.8586\n",
            "Epoch 135/600\n",
            "13/13 [==============================] - 0s 3ms/step - loss: 11.2150 - mae: 11.2150 - mse: 193.2739 - val_loss: 10.8885 - val_mae: 10.8885 - val_mse: 176.7660\n",
            "Epoch 136/600\n",
            "13/13 [==============================] - 0s 3ms/step - loss: 11.2462 - mae: 11.2462 - mse: 193.5081 - val_loss: 10.8773 - val_mae: 10.8773 - val_mse: 176.1953\n",
            "Epoch 137/600\n",
            "13/13 [==============================] - 0s 3ms/step - loss: 11.2093 - mae: 11.2093 - mse: 192.3154 - val_loss: 10.8467 - val_mae: 10.8467 - val_mse: 174.8222\n",
            "Epoch 138/600\n",
            "13/13 [==============================] - 0s 3ms/step - loss: 11.2184 - mae: 11.2184 - mse: 192.0507 - val_loss: 10.8300 - val_mae: 10.8300 - val_mse: 174.0493\n",
            "Epoch 139/600\n",
            "13/13 [==============================] - 0s 4ms/step - loss: 11.2288 - mae: 11.2288 - mse: 193.0420 - val_loss: 10.8688 - val_mae: 10.8688 - val_mse: 175.7852\n",
            "Epoch 140/600\n",
            "13/13 [==============================] - 0s 3ms/step - loss: 11.2199 - mae: 11.2199 - mse: 192.9583 - val_loss: 10.8798 - val_mae: 10.8798 - val_mse: 176.3274\n",
            "Epoch 141/600\n",
            "13/13 [==============================] - 0s 4ms/step - loss: 11.2143 - mae: 11.2143 - mse: 192.4474 - val_loss: 10.8406 - val_mae: 10.8406 - val_mse: 174.5605\n",
            "Epoch 142/600\n",
            "13/13 [==============================] - 0s 5ms/step - loss: 11.2212 - mae: 11.2212 - mse: 192.3276 - val_loss: 10.8551 - val_mae: 10.8551 - val_mse: 175.1738\n",
            "Epoch 143/600\n",
            "13/13 [==============================] - 0s 5ms/step - loss: 11.2228 - mae: 11.2228 - mse: 192.2538 - val_loss: 10.8475 - val_mae: 10.8475 - val_mse: 174.8595\n",
            "Epoch 144/600\n",
            "13/13 [==============================] - 0s 4ms/step - loss: 11.2247 - mae: 11.2247 - mse: 192.8510 - val_loss: 10.8957 - val_mae: 10.8957 - val_mse: 177.0894\n",
            "Epoch 145/600\n",
            "13/13 [==============================] - 0s 3ms/step - loss: 11.2231 - mae: 11.2231 - mse: 192.7040 - val_loss: 10.8477 - val_mae: 10.8477 - val_mse: 174.8675\n",
            "Epoch 146/600\n",
            "13/13 [==============================] - 0s 3ms/step - loss: 11.2301 - mae: 11.2301 - mse: 193.0703 - val_loss: 10.8847 - val_mae: 10.8847 - val_mse: 176.5897\n",
            "Epoch 147/600\n",
            "13/13 [==============================] - 0s 3ms/step - loss: 11.2167 - mae: 11.2167 - mse: 192.3406 - val_loss: 10.8551 - val_mae: 10.8551 - val_mse: 175.1783\n",
            "Epoch 148/600\n",
            "13/13 [==============================] - 0s 4ms/step - loss: 11.2475 - mae: 11.2475 - mse: 192.5803 - val_loss: 10.8235 - val_mae: 10.8235 - val_mse: 173.7781\n",
            "Epoch 149/600\n",
            "13/13 [==============================] - 0s 4ms/step - loss: 11.2239 - mae: 11.2239 - mse: 192.5469 - val_loss: 10.8623 - val_mae: 10.8623 - val_mse: 175.4991\n",
            "Epoch 150/600\n",
            "13/13 [==============================] - 0s 3ms/step - loss: 11.2211 - mae: 11.2211 - mse: 192.3707 - val_loss: 10.8425 - val_mae: 10.8425 - val_mse: 174.6647\n",
            "Epoch 151/600\n",
            "13/13 [==============================] - 0s 3ms/step - loss: 11.2204 - mae: 11.2204 - mse: 192.2310 - val_loss: 10.8479 - val_mae: 10.8479 - val_mse: 174.8815\n",
            "Epoch 152/600\n",
            "13/13 [==============================] - 0s 4ms/step - loss: 11.2175 - mae: 11.2175 - mse: 192.6113 - val_loss: 10.8631 - val_mae: 10.8631 - val_mse: 175.5398\n",
            "Epoch 153/600\n",
            "13/13 [==============================] - 0s 3ms/step - loss: 11.2440 - mae: 11.2440 - mse: 193.3262 - val_loss: 10.9136 - val_mae: 10.9136 - val_mse: 177.8613\n",
            "Epoch 154/600\n",
            "13/13 [==============================] - 0s 3ms/step - loss: 11.2083 - mae: 11.2083 - mse: 192.6485 - val_loss: 10.8555 - val_mae: 10.8555 - val_mse: 175.2048\n",
            "Epoch 155/600\n",
            "13/13 [==============================] - 0s 3ms/step - loss: 11.2126 - mae: 11.2126 - mse: 192.0223 - val_loss: 10.8301 - val_mae: 10.8301 - val_mse: 174.0709\n",
            "Epoch 156/600\n",
            "13/13 [==============================] - 0s 3ms/step - loss: 11.2592 - mae: 11.2592 - mse: 192.7472 - val_loss: 10.8169 - val_mae: 10.8169 - val_mse: 173.5203\n",
            "Epoch 157/600\n",
            "13/13 [==============================] - 0s 3ms/step - loss: 11.2282 - mae: 11.2282 - mse: 192.1757 - val_loss: 10.8427 - val_mae: 10.8427 - val_mse: 174.6788\n",
            "Epoch 158/600\n",
            "13/13 [==============================] - 0s 3ms/step - loss: 11.1973 - mae: 11.1973 - mse: 192.0323 - val_loss: 10.9114 - val_mae: 10.9114 - val_mse: 177.7755\n",
            "Epoch 159/600\n",
            "13/13 [==============================] - 0s 3ms/step - loss: 11.2287 - mae: 11.2287 - mse: 194.2118 - val_loss: 10.9502 - val_mae: 10.9502 - val_mse: 179.3602\n",
            "Epoch 160/600\n",
            "13/13 [==============================] - 0s 4ms/step - loss: 11.2436 - mae: 11.2436 - mse: 194.0519 - val_loss: 10.8417 - val_mae: 10.8417 - val_mse: 174.6408\n",
            "Epoch 161/600\n",
            "13/13 [==============================] - 0s 3ms/step - loss: 11.2417 - mae: 11.2417 - mse: 193.3240 - val_loss: 10.8725 - val_mae: 10.8725 - val_mse: 175.9981\n",
            "Epoch 162/600\n",
            "13/13 [==============================] - 0s 3ms/step - loss: 11.2123 - mae: 11.2123 - mse: 192.5021 - val_loss: 10.8690 - val_mae: 10.8690 - val_mse: 175.8294\n",
            "Epoch 163/600\n",
            "13/13 [==============================] - 0s 3ms/step - loss: 11.2185 - mae: 11.2185 - mse: 192.5749 - val_loss: 10.8625 - val_mae: 10.8625 - val_mse: 175.5249\n",
            "Epoch 164/600\n",
            "13/13 [==============================] - 0s 5ms/step - loss: 11.2112 - mae: 11.2112 - mse: 192.4259 - val_loss: 10.8540 - val_mae: 10.8540 - val_mse: 175.1477\n",
            "Epoch 165/600\n",
            "13/13 [==============================] - 0s 4ms/step - loss: 11.2138 - mae: 11.2138 - mse: 192.3016 - val_loss: 10.8481 - val_mae: 10.8481 - val_mse: 174.9001\n",
            "Epoch 166/600\n",
            "13/13 [==============================] - 0s 3ms/step - loss: 11.2227 - mae: 11.2227 - mse: 192.8177 - val_loss: 10.9071 - val_mae: 10.9071 - val_mse: 177.6105\n",
            "Epoch 167/600\n",
            "13/13 [==============================] - 0s 3ms/step - loss: 11.2151 - mae: 11.2151 - mse: 193.0069 - val_loss: 10.8837 - val_mae: 10.8837 - val_mse: 176.5768\n",
            "Epoch 168/600\n",
            "13/13 [==============================] - 0s 3ms/step - loss: 11.2156 - mae: 11.2156 - mse: 192.2332 - val_loss: 10.8250 - val_mae: 10.8250 - val_mse: 173.8592\n",
            "Epoch 169/600\n",
            "13/13 [==============================] - 0s 4ms/step - loss: 11.2201 - mae: 11.2201 - mse: 192.0079 - val_loss: 10.8323 - val_mae: 10.8323 - val_mse: 174.1952\n",
            "Epoch 170/600\n",
            "13/13 [==============================] - 0s 3ms/step - loss: 11.2283 - mae: 11.2283 - mse: 192.8731 - val_loss: 10.8784 - val_mae: 10.8784 - val_mse: 176.3093\n",
            "Epoch 171/600\n",
            "13/13 [==============================] - 0s 4ms/step - loss: 11.2245 - mae: 11.2245 - mse: 192.5473 - val_loss: 10.8374 - val_mae: 10.8374 - val_mse: 174.4469\n",
            "Epoch 172/600\n",
            "13/13 [==============================] - 0s 3ms/step - loss: 11.2247 - mae: 11.2247 - mse: 192.9748 - val_loss: 10.8930 - val_mae: 10.8930 - val_mse: 177.0003\n",
            "Epoch 173/600\n",
            "13/13 [==============================] - 0s 3ms/step - loss: 11.2237 - mae: 11.2237 - mse: 192.7925 - val_loss: 10.8545 - val_mae: 10.8545 - val_mse: 175.1796\n",
            "Epoch 174/600\n",
            "13/13 [==============================] - 0s 3ms/step - loss: 11.2179 - mae: 11.2179 - mse: 192.4653 - val_loss: 10.8774 - val_mae: 10.8774 - val_mse: 176.2631\n",
            "Epoch 175/600\n",
            "13/13 [==============================] - 0s 3ms/step - loss: 11.2175 - mae: 11.2175 - mse: 193.0135 - val_loss: 10.8730 - val_mae: 10.8730 - val_mse: 176.0440\n",
            "Epoch 176/600\n",
            "13/13 [==============================] - 0s 3ms/step - loss: 11.2121 - mae: 11.2121 - mse: 192.4429 - val_loss: 10.8528 - val_mae: 10.8528 - val_mse: 175.1082\n",
            "Epoch 177/600\n",
            "13/13 [==============================] - 0s 4ms/step - loss: 11.2289 - mae: 11.2289 - mse: 193.3301 - val_loss: 10.8893 - val_mae: 10.8893 - val_mse: 176.8420\n",
            "Epoch 178/600\n",
            "13/13 [==============================] - 0s 4ms/step - loss: 11.2229 - mae: 11.2229 - mse: 192.5874 - val_loss: 10.8303 - val_mae: 10.8303 - val_mse: 174.1095\n",
            "Epoch 179/600\n",
            "13/13 [==============================] - 0s 5ms/step - loss: 11.2167 - mae: 11.2167 - mse: 192.2877 - val_loss: 10.8489 - val_mae: 10.8489 - val_mse: 174.9461\n",
            "Epoch 180/600\n",
            "13/13 [==============================] - 0s 3ms/step - loss: 11.2087 - mae: 11.2087 - mse: 192.2603 - val_loss: 10.8650 - val_mae: 10.8650 - val_mse: 175.6646\n",
            "Epoch 181/600\n",
            "13/13 [==============================] - 0s 5ms/step - loss: 11.2160 - mae: 11.2160 - mse: 192.7614 - val_loss: 10.8785 - val_mae: 10.8785 - val_mse: 176.3354\n",
            "Epoch 182/600\n",
            "13/13 [==============================] - 0s 3ms/step - loss: 11.2098 - mae: 11.2098 - mse: 192.7203 - val_loss: 10.8949 - val_mae: 10.8949 - val_mse: 177.0941\n",
            "Epoch 183/600\n",
            "13/13 [==============================] - 0s 3ms/step - loss: 11.2382 - mae: 11.2382 - mse: 193.0871 - val_loss: 10.8463 - val_mae: 10.8463 - val_mse: 174.8399\n",
            "Epoch 184/600\n",
            "13/13 [==============================] - 0s 4ms/step - loss: 11.2174 - mae: 11.2174 - mse: 193.2104 - val_loss: 10.9438 - val_mae: 10.9438 - val_mse: 179.1225\n",
            "Epoch 185/600\n",
            "13/13 [==============================] - 0s 3ms/step - loss: 11.2298 - mae: 11.2298 - mse: 193.3727 - val_loss: 10.8434 - val_mae: 10.8434 - val_mse: 174.7208\n",
            "Epoch 186/600\n",
            "13/13 [==============================] - 0s 4ms/step - loss: 11.2154 - mae: 11.2154 - mse: 192.0806 - val_loss: 10.8553 - val_mae: 10.8553 - val_mse: 175.2281\n",
            "Epoch 187/600\n",
            "13/13 [==============================] - 0s 4ms/step - loss: 11.2284 - mae: 11.2284 - mse: 192.7830 - val_loss: 10.8652 - val_mae: 10.8652 - val_mse: 175.6833\n",
            "Epoch 188/600\n",
            "13/13 [==============================] - 0s 3ms/step - loss: 11.2192 - mae: 11.2192 - mse: 192.5528 - val_loss: 10.8788 - val_mae: 10.8788 - val_mse: 176.3645\n",
            "Epoch 189/600\n",
            "13/13 [==============================] - 0s 3ms/step - loss: 11.2308 - mae: 11.2308 - mse: 192.5779 - val_loss: 10.8258 - val_mae: 10.8258 - val_mse: 173.9129\n",
            "Epoch 190/600\n",
            "13/13 [==============================] - 0s 3ms/step - loss: 11.2383 - mae: 11.2383 - mse: 193.2762 - val_loss: 10.8705 - val_mae: 10.8705 - val_mse: 175.9478\n",
            "Epoch 191/600\n",
            "13/13 [==============================] - 0s 5ms/step - loss: 11.2079 - mae: 11.2079 - mse: 192.2759 - val_loss: 10.8375 - val_mae: 10.8375 - val_mse: 174.4875\n",
            "Epoch 192/600\n",
            "13/13 [==============================] - 0s 4ms/step - loss: 11.2119 - mae: 11.2119 - mse: 192.2233 - val_loss: 10.8474 - val_mae: 10.8474 - val_mse: 174.8925\n",
            "Epoch 193/600\n",
            "13/13 [==============================] - 0s 3ms/step - loss: 11.2109 - mae: 11.2109 - mse: 192.2205 - val_loss: 10.8648 - val_mae: 10.8648 - val_mse: 175.6734\n",
            "Epoch 194/600\n",
            "13/13 [==============================] - 0s 4ms/step - loss: 11.2239 - mae: 11.2239 - mse: 192.7002 - val_loss: 10.8367 - val_mae: 10.8367 - val_mse: 174.4548\n",
            "Epoch 195/600\n",
            "13/13 [==============================] - 0s 3ms/step - loss: 11.2099 - mae: 11.2099 - mse: 192.4472 - val_loss: 10.8831 - val_mae: 10.8831 - val_mse: 176.5928\n",
            "Epoch 196/600\n",
            "13/13 [==============================] - 0s 3ms/step - loss: 11.2093 - mae: 11.2093 - mse: 192.4979 - val_loss: 10.8639 - val_mae: 10.8639 - val_mse: 175.6350\n",
            "Epoch 197/600\n",
            "13/13 [==============================] - 0s 4ms/step - loss: 11.2149 - mae: 11.2149 - mse: 192.2782 - val_loss: 10.8514 - val_mae: 10.8514 - val_mse: 175.0668\n",
            "Epoch 198/600\n",
            "13/13 [==============================] - 0s 3ms/step - loss: 11.2315 - mae: 11.2315 - mse: 192.8262 - val_loss: 10.8551 - val_mae: 10.8551 - val_mse: 175.2316\n",
            "Epoch 199/600\n",
            "13/13 [==============================] - 0s 3ms/step - loss: 11.2168 - mae: 11.2168 - mse: 193.2008 - val_loss: 10.9041 - val_mae: 10.9041 - val_mse: 177.5030\n",
            "Epoch 200/600\n",
            "13/13 [==============================] - 0s 3ms/step - loss: 11.2066 - mae: 11.2066 - mse: 192.7454 - val_loss: 10.8661 - val_mae: 10.8661 - val_mse: 175.7457\n",
            "Epoch 201/600\n",
            "13/13 [==============================] - 0s 3ms/step - loss: 11.2218 - mae: 11.2218 - mse: 192.3833 - val_loss: 10.8145 - val_mae: 10.8145 - val_mse: 173.4426\n",
            "Epoch 202/600\n",
            "13/13 [==============================] - 0s 4ms/step - loss: 11.2191 - mae: 11.2191 - mse: 192.1582 - val_loss: 10.8523 - val_mae: 10.8523 - val_mse: 175.1120\n",
            "Epoch 203/600\n",
            "13/13 [==============================] - 0s 3ms/step - loss: 11.2093 - mae: 11.2093 - mse: 192.2186 - val_loss: 10.8834 - val_mae: 10.8834 - val_mse: 176.6161\n",
            "Epoch 204/600\n",
            "13/13 [==============================] - 0s 4ms/step - loss: 11.2119 - mae: 11.2119 - mse: 192.4377 - val_loss: 10.8692 - val_mae: 10.8692 - val_mse: 175.9077\n",
            "Epoch 205/600\n",
            "13/13 [==============================] - 0s 4ms/step - loss: 11.2240 - mae: 11.2240 - mse: 192.6032 - val_loss: 10.8830 - val_mae: 10.8830 - val_mse: 176.6002\n",
            "Epoch 206/600\n",
            "13/13 [==============================] - 0s 3ms/step - loss: 11.2218 - mae: 11.2218 - mse: 192.3717 - val_loss: 10.8275 - val_mae: 10.8275 - val_mse: 174.0166\n",
            "Epoch 207/600\n",
            "13/13 [==============================] - 0s 4ms/step - loss: 11.2087 - mae: 11.2087 - mse: 192.0269 - val_loss: 10.8641 - val_mae: 10.8641 - val_mse: 175.6637\n",
            "Epoch 208/600\n",
            "13/13 [==============================] - 0s 3ms/step - loss: 11.2153 - mae: 11.2153 - mse: 192.5312 - val_loss: 10.8865 - val_mae: 10.8865 - val_mse: 176.7533\n",
            "Epoch 209/600\n",
            "13/13 [==============================] - 0s 4ms/step - loss: 11.2139 - mae: 11.2139 - mse: 193.0964 - val_loss: 10.8734 - val_mae: 10.8734 - val_mse: 176.1265\n",
            "Epoch 210/600\n",
            "13/13 [==============================] - 0s 3ms/step - loss: 11.2278 - mae: 11.2278 - mse: 192.3113 - val_loss: 10.8252 - val_mae: 10.8252 - val_mse: 173.9128\n",
            "Epoch 211/600\n",
            "13/13 [==============================] - 0s 3ms/step - loss: 11.2065 - mae: 11.2065 - mse: 192.2008 - val_loss: 10.8811 - val_mae: 10.8811 - val_mse: 176.5243\n",
            "Epoch 212/600\n",
            "13/13 [==============================] - 0s 4ms/step - loss: 11.2155 - mae: 11.2155 - mse: 193.2122 - val_loss: 10.9099 - val_mae: 10.9099 - val_mse: 177.7407\n",
            "Epoch 213/600\n",
            "13/13 [==============================] - 0s 3ms/step - loss: 11.2393 - mae: 11.2393 - mse: 194.0138 - val_loss: 10.8817 - val_mae: 10.8817 - val_mse: 176.5515\n",
            "Epoch 214/600\n",
            "13/13 [==============================] - 0s 4ms/step - loss: 11.2499 - mae: 11.2499 - mse: 192.9071 - val_loss: 10.8124 - val_mae: 10.8124 - val_mse: 173.3672\n",
            "Epoch 215/600\n",
            "13/13 [==============================] - 0s 3ms/step - loss: 11.2753 - mae: 11.2753 - mse: 194.6561 - val_loss: 10.9342 - val_mae: 10.9342 - val_mse: 178.7638\n",
            "Epoch 216/600\n",
            "13/13 [==============================] - 0s 5ms/step - loss: 11.2754 - mae: 11.2754 - mse: 194.4951 - val_loss: 10.8321 - val_mae: 10.8321 - val_mse: 174.2569\n",
            "Epoch 217/600\n",
            "13/13 [==============================] - 0s 3ms/step - loss: 11.2099 - mae: 11.2099 - mse: 192.3010 - val_loss: 10.9015 - val_mae: 10.9015 - val_mse: 177.4089\n",
            "Epoch 218/600\n",
            "13/13 [==============================] - 0s 3ms/step - loss: 11.2212 - mae: 11.2212 - mse: 192.6762 - val_loss: 10.8614 - val_mae: 10.8614 - val_mse: 175.5488\n",
            "Epoch 219/600\n",
            "13/13 [==============================] - 0s 3ms/step - loss: 11.2146 - mae: 11.2146 - mse: 192.3157 - val_loss: 10.8582 - val_mae: 10.8582 - val_mse: 175.4033\n",
            "Epoch 220/600\n",
            "13/13 [==============================] - 0s 4ms/step - loss: 11.2111 - mae: 11.2111 - mse: 192.4910 - val_loss: 10.8721 - val_mae: 10.8721 - val_mse: 176.0800\n",
            "Epoch 221/600\n",
            "13/13 [==============================] - 0s 3ms/step - loss: 11.2255 - mae: 11.2255 - mse: 193.3231 - val_loss: 10.8806 - val_mae: 10.8806 - val_mse: 176.5126\n",
            "Epoch 222/600\n",
            "13/13 [==============================] - 0s 3ms/step - loss: 11.2100 - mae: 11.2100 - mse: 192.5680 - val_loss: 10.8699 - val_mae: 10.8699 - val_mse: 175.9698\n",
            "Epoch 223/600\n",
            "13/13 [==============================] - 0s 4ms/step - loss: 11.2055 - mae: 11.2055 - mse: 192.1960 - val_loss: 10.8487 - val_mae: 10.8487 - val_mse: 174.9792\n",
            "Epoch 224/600\n",
            "13/13 [==============================] - 0s 4ms/step - loss: 11.2336 - mae: 11.2336 - mse: 192.7258 - val_loss: 10.8325 - val_mae: 10.8325 - val_mse: 174.2934\n",
            "Epoch 225/600\n",
            "13/13 [==============================] - 0s 4ms/step - loss: 11.2272 - mae: 11.2272 - mse: 193.4730 - val_loss: 10.9326 - val_mae: 10.9326 - val_mse: 178.7035\n",
            "Epoch 226/600\n",
            "13/13 [==============================] - 0s 3ms/step - loss: 11.2182 - mae: 11.2182 - mse: 193.4851 - val_loss: 10.8930 - val_mae: 10.8930 - val_mse: 177.0641\n",
            "Epoch 227/600\n",
            "13/13 [==============================] - 0s 4ms/step - loss: 11.2436 - mae: 11.2436 - mse: 193.1132 - val_loss: 10.8114 - val_mae: 10.8114 - val_mse: 173.3332\n",
            "Epoch 228/600\n",
            "13/13 [==============================] - 0s 4ms/step - loss: 11.2303 - mae: 11.2303 - mse: 192.2028 - val_loss: 10.8190 - val_mae: 10.8190 - val_mse: 173.6523\n",
            "Epoch 229/600\n",
            "13/13 [==============================] - 0s 3ms/step - loss: 11.2171 - mae: 11.2171 - mse: 192.0061 - val_loss: 10.8898 - val_mae: 10.8898 - val_mse: 176.9258\n",
            "Epoch 230/600\n",
            "13/13 [==============================] - 0s 4ms/step - loss: 11.2082 - mae: 11.2082 - mse: 192.9375 - val_loss: 10.8879 - val_mae: 10.8879 - val_mse: 176.8398\n",
            "Epoch 231/600\n",
            "13/13 [==============================] - 0s 4ms/step - loss: 11.2064 - mae: 11.2064 - mse: 192.4928 - val_loss: 10.8698 - val_mae: 10.8698 - val_mse: 175.9854\n",
            "Epoch 232/600\n",
            "13/13 [==============================] - 0s 3ms/step - loss: 11.2076 - mae: 11.2076 - mse: 192.4026 - val_loss: 10.8597 - val_mae: 10.8597 - val_mse: 175.4908\n",
            "Epoch 233/600\n",
            "13/13 [==============================] - 0s 3ms/step - loss: 11.2143 - mae: 11.2143 - mse: 192.0412 - val_loss: 10.8225 - val_mae: 10.8225 - val_mse: 173.8161\n",
            "Epoch 234/600\n",
            "13/13 [==============================] - 0s 3ms/step - loss: 11.2109 - mae: 11.2109 - mse: 192.1959 - val_loss: 10.8634 - val_mae: 10.8634 - val_mse: 175.6711\n",
            "Epoch 235/600\n",
            "13/13 [==============================] - 0s 3ms/step - loss: 11.2039 - mae: 11.2039 - mse: 192.2125 - val_loss: 10.8604 - val_mae: 10.8604 - val_mse: 175.5286\n",
            "Epoch 236/600\n",
            "13/13 [==============================] - 0s 4ms/step - loss: 11.2047 - mae: 11.2047 - mse: 192.0962 - val_loss: 10.8413 - val_mae: 10.8413 - val_mse: 174.6761\n",
            "Epoch 237/600\n",
            "13/13 [==============================] - 0s 3ms/step - loss: 11.2257 - mae: 11.2257 - mse: 192.6140 - val_loss: 10.8888 - val_mae: 10.8888 - val_mse: 176.8898\n",
            "Epoch 238/600\n",
            "13/13 [==============================] - 0s 3ms/step - loss: 11.2128 - mae: 11.2128 - mse: 192.4470 - val_loss: 10.8644 - val_mae: 10.8644 - val_mse: 175.7281\n",
            "Epoch 239/600\n",
            "13/13 [==============================] - 0s 3ms/step - loss: 11.2042 - mae: 11.2042 - mse: 192.1703 - val_loss: 10.8414 - val_mae: 10.8414 - val_mse: 174.6826\n",
            "Epoch 240/600\n",
            "13/13 [==============================] - 0s 3ms/step - loss: 11.2134 - mae: 11.2134 - mse: 192.3376 - val_loss: 10.8595 - val_mae: 10.8595 - val_mse: 175.4919\n",
            "Epoch 241/600\n",
            "13/13 [==============================] - 0s 3ms/step - loss: 11.2083 - mae: 11.2083 - mse: 192.0970 - val_loss: 10.8540 - val_mae: 10.8540 - val_mse: 175.2374\n",
            "Epoch 242/600\n",
            "13/13 [==============================] - 0s 3ms/step - loss: 11.2125 - mae: 11.2125 - mse: 192.1234 - val_loss: 10.8430 - val_mae: 10.8430 - val_mse: 174.7521\n",
            "Epoch 243/600\n",
            "13/13 [==============================] - 0s 3ms/step - loss: 11.1965 - mae: 11.1965 - mse: 191.9655 - val_loss: 10.8726 - val_mae: 10.8726 - val_mse: 176.1488\n",
            "Epoch 244/600\n",
            "13/13 [==============================] - 0s 4ms/step - loss: 11.2072 - mae: 11.2072 - mse: 193.0393 - val_loss: 10.8953 - val_mae: 10.8953 - val_mse: 177.1778\n",
            "Epoch 245/600\n",
            "13/13 [==============================] - 0s 3ms/step - loss: 11.2096 - mae: 11.2096 - mse: 192.7056 - val_loss: 10.8710 - val_mae: 10.8710 - val_mse: 176.0709\n",
            "Epoch 246/600\n",
            "13/13 [==============================] - 0s 3ms/step - loss: 11.2037 - mae: 11.2037 - mse: 192.5804 - val_loss: 10.8588 - val_mae: 10.8588 - val_mse: 175.4681\n",
            "Epoch 247/600\n",
            "13/13 [==============================] - 0s 4ms/step - loss: 11.1942 - mae: 11.1942 - mse: 191.8415 - val_loss: 10.8192 - val_mae: 10.8192 - val_mse: 173.6812\n",
            "Epoch 248/600\n",
            "13/13 [==============================] - 0s 3ms/step - loss: 11.2286 - mae: 11.2286 - mse: 192.0368 - val_loss: 10.8122 - val_mae: 10.8122 - val_mse: 173.3775\n",
            "Epoch 249/600\n",
            "13/13 [==============================] - 0s 4ms/step - loss: 11.2082 - mae: 11.2082 - mse: 191.8979 - val_loss: 10.8523 - val_mae: 10.8523 - val_mse: 175.1721\n",
            "Epoch 250/600\n",
            "13/13 [==============================] - 0s 4ms/step - loss: 11.2085 - mae: 11.2085 - mse: 192.0959 - val_loss: 10.8517 - val_mae: 10.8517 - val_mse: 175.1429\n",
            "Epoch 251/600\n",
            "13/13 [==============================] - 0s 4ms/step - loss: 11.2040 - mae: 11.2040 - mse: 192.6869 - val_loss: 10.8794 - val_mae: 10.8794 - val_mse: 176.4912\n",
            "Epoch 252/600\n",
            "13/13 [==============================] - 0s 3ms/step - loss: 11.2058 - mae: 11.2058 - mse: 192.1376 - val_loss: 10.8405 - val_mae: 10.8405 - val_mse: 174.6544\n",
            "Epoch 253/600\n",
            "13/13 [==============================] - 0s 3ms/step - loss: 11.2057 - mae: 11.2057 - mse: 192.3122 - val_loss: 10.8604 - val_mae: 10.8604 - val_mse: 175.5585\n",
            "Epoch 254/600\n",
            "13/13 [==============================] - 0s 3ms/step - loss: 11.2004 - mae: 11.2004 - mse: 191.7430 - val_loss: 10.8283 - val_mae: 10.8283 - val_mse: 174.1321\n",
            "Epoch 255/600\n",
            "13/13 [==============================] - 0s 3ms/step - loss: 11.2150 - mae: 11.2150 - mse: 192.2146 - val_loss: 10.8671 - val_mae: 10.8671 - val_mse: 175.8903\n",
            "Epoch 256/600\n",
            "13/13 [==============================] - 0s 4ms/step - loss: 11.2538 - mae: 11.2538 - mse: 192.6869 - val_loss: 10.8163 - val_mae: 10.8163 - val_mse: 173.5593\n",
            "Epoch 257/600\n",
            "13/13 [==============================] - 0s 3ms/step - loss: 11.2050 - mae: 11.2050 - mse: 191.8565 - val_loss: 10.8526 - val_mae: 10.8526 - val_mse: 175.1969\n",
            "Epoch 258/600\n",
            "13/13 [==============================] - 0s 3ms/step - loss: 11.2092 - mae: 11.2092 - mse: 192.3271 - val_loss: 10.8548 - val_mae: 10.8548 - val_mse: 175.2982\n",
            "Epoch 259/600\n",
            "13/13 [==============================] - 0s 4ms/step - loss: 11.2036 - mae: 11.2036 - mse: 192.2453 - val_loss: 10.8693 - val_mae: 10.8693 - val_mse: 176.0128\n",
            "Epoch 260/600\n",
            "13/13 [==============================] - 0s 3ms/step - loss: 11.2005 - mae: 11.2005 - mse: 192.1235 - val_loss: 10.8539 - val_mae: 10.8539 - val_mse: 175.2578\n",
            "Epoch 261/600\n",
            "13/13 [==============================] - 0s 3ms/step - loss: 11.2008 - mae: 11.2008 - mse: 191.9010 - val_loss: 10.8483 - val_mae: 10.8483 - val_mse: 175.0028\n",
            "Epoch 262/600\n",
            "13/13 [==============================] - 0s 3ms/step - loss: 11.2046 - mae: 11.2046 - mse: 192.2835 - val_loss: 10.8846 - val_mae: 10.8846 - val_mse: 176.7317\n",
            "Epoch 263/600\n",
            "13/13 [==============================] - 0s 3ms/step - loss: 11.2078 - mae: 11.2078 - mse: 192.3562 - val_loss: 10.8373 - val_mae: 10.8373 - val_mse: 174.5328\n",
            "Epoch 264/600\n",
            "13/13 [==============================] - 0s 3ms/step - loss: 11.2115 - mae: 11.2115 - mse: 191.7897 - val_loss: 10.8191 - val_mae: 10.8191 - val_mse: 173.6946\n",
            "Epoch 265/600\n",
            "13/13 [==============================] - 0s 3ms/step - loss: 11.2122 - mae: 11.2122 - mse: 191.7986 - val_loss: 10.8304 - val_mae: 10.8304 - val_mse: 174.2570\n",
            "Epoch 266/600\n",
            "13/13 [==============================] - 0s 3ms/step - loss: 11.2086 - mae: 11.2086 - mse: 192.3651 - val_loss: 10.8642 - val_mae: 10.8642 - val_mse: 175.7658\n",
            "Epoch 267/600\n",
            "13/13 [==============================] - 0s 3ms/step - loss: 11.2002 - mae: 11.2002 - mse: 192.4563 - val_loss: 10.8844 - val_mae: 10.8844 - val_mse: 176.7307\n",
            "Epoch 268/600\n",
            "13/13 [==============================] - 0s 3ms/step - loss: 11.2156 - mae: 11.2156 - mse: 193.0637 - val_loss: 10.8912 - val_mae: 10.8912 - val_mse: 177.0266\n",
            "Epoch 269/600\n",
            "13/13 [==============================] - 0s 3ms/step - loss: 11.2191 - mae: 11.2191 - mse: 192.3136 - val_loss: 10.8181 - val_mae: 10.8181 - val_mse: 173.6562\n",
            "Epoch 270/600\n",
            "13/13 [==============================] - 0s 3ms/step - loss: 11.2055 - mae: 11.2055 - mse: 191.5795 - val_loss: 10.8234 - val_mae: 10.8234 - val_mse: 173.9133\n",
            "Epoch 271/600\n",
            "13/13 [==============================] - 0s 4ms/step - loss: 11.2015 - mae: 11.2015 - mse: 191.6502 - val_loss: 10.8369 - val_mae: 10.8369 - val_mse: 174.5250\n",
            "Epoch 272/600\n",
            "13/13 [==============================] - 0s 3ms/step - loss: 11.2121 - mae: 11.2121 - mse: 192.6651 - val_loss: 10.8813 - val_mae: 10.8813 - val_mse: 176.5976\n",
            "Epoch 273/600\n",
            "13/13 [==============================] - 0s 3ms/step - loss: 11.2036 - mae: 11.2036 - mse: 192.3823 - val_loss: 10.8548 - val_mae: 10.8548 - val_mse: 175.3219\n",
            "Epoch 274/600\n",
            "13/13 [==============================] - 0s 3ms/step - loss: 11.1967 - mae: 11.1967 - mse: 192.2295 - val_loss: 10.8749 - val_mae: 10.8749 - val_mse: 176.3214\n",
            "Epoch 275/600\n",
            "13/13 [==============================] - 0s 4ms/step - loss: 11.2550 - mae: 11.2550 - mse: 192.9435 - val_loss: 10.8089 - val_mae: 10.8089 - val_mse: 173.2607\n",
            "Epoch 276/600\n",
            "13/13 [==============================] - 0s 5ms/step - loss: 11.1987 - mae: 11.1987 - mse: 191.5915 - val_loss: 10.8358 - val_mae: 10.8358 - val_mse: 174.4821\n",
            "Epoch 277/600\n",
            "13/13 [==============================] - 0s 3ms/step - loss: 11.2016 - mae: 11.2016 - mse: 192.4033 - val_loss: 10.9185 - val_mae: 10.9185 - val_mse: 178.1404\n",
            "Epoch 278/600\n",
            "13/13 [==============================] - 0s 5ms/step - loss: 11.2108 - mae: 11.2108 - mse: 193.3166 - val_loss: 10.8750 - val_mae: 10.8750 - val_mse: 176.3297\n",
            "Epoch 279/600\n",
            "13/13 [==============================] - 0s 3ms/step - loss: 11.2040 - mae: 11.2040 - mse: 191.8075 - val_loss: 10.8133 - val_mae: 10.8133 - val_mse: 173.4530\n",
            "Epoch 280/600\n",
            "13/13 [==============================] - 0s 4ms/step - loss: 11.2029 - mae: 11.2029 - mse: 191.6469 - val_loss: 10.8335 - val_mae: 10.8335 - val_mse: 174.3907\n",
            "Epoch 281/600\n",
            "13/13 [==============================] - 0s 4ms/step - loss: 11.2114 - mae: 11.2114 - mse: 192.3207 - val_loss: 10.8918 - val_mae: 10.8918 - val_mse: 177.0536\n",
            "Epoch 282/600\n",
            "13/13 [==============================] - 0s 3ms/step - loss: 11.2175 - mae: 11.2175 - mse: 192.3322 - val_loss: 10.8362 - val_mae: 10.8362 - val_mse: 174.5039\n",
            "Epoch 283/600\n",
            "13/13 [==============================] - 0s 3ms/step - loss: 11.2070 - mae: 11.2070 - mse: 192.5516 - val_loss: 10.8759 - val_mae: 10.8759 - val_mse: 176.3746\n",
            "Epoch 284/600\n",
            "13/13 [==============================] - 0s 4ms/step - loss: 11.2057 - mae: 11.2057 - mse: 192.5373 - val_loss: 10.8726 - val_mae: 10.8726 - val_mse: 176.2347\n",
            "Epoch 285/600\n",
            "13/13 [==============================] - 0s 4ms/step - loss: 11.2005 - mae: 11.2005 - mse: 191.6575 - val_loss: 10.8169 - val_mae: 10.8169 - val_mse: 173.6220\n",
            "Epoch 286/600\n",
            "13/13 [==============================] - 0s 4ms/step - loss: 11.2235 - mae: 11.2235 - mse: 192.6307 - val_loss: 10.8488 - val_mae: 10.8488 - val_mse: 175.0612\n",
            "Epoch 287/600\n",
            "13/13 [==============================] - 0s 4ms/step - loss: 11.2025 - mae: 11.2025 - mse: 192.1187 - val_loss: 10.8324 - val_mae: 10.8324 - val_mse: 174.3507\n",
            "Epoch 288/600\n",
            "13/13 [==============================] - 0s 4ms/step - loss: 11.1982 - mae: 11.1982 - mse: 191.9886 - val_loss: 10.8545 - val_mae: 10.8545 - val_mse: 175.3307\n",
            "Epoch 289/600\n",
            "13/13 [==============================] - 0s 3ms/step - loss: 11.2029 - mae: 11.2029 - mse: 192.0975 - val_loss: 10.8555 - val_mae: 10.8555 - val_mse: 175.3809\n",
            "Epoch 290/600\n",
            "13/13 [==============================] - 0s 3ms/step - loss: 11.2022 - mae: 11.2022 - mse: 192.0184 - val_loss: 10.8323 - val_mae: 10.8323 - val_mse: 174.3495\n",
            "Epoch 291/600\n",
            "13/13 [==============================] - 0s 4ms/step - loss: 11.2036 - mae: 11.2036 - mse: 191.7811 - val_loss: 10.8315 - val_mae: 10.8315 - val_mse: 174.3177\n",
            "Epoch 292/600\n",
            "13/13 [==============================] - 0s 4ms/step - loss: 11.2087 - mae: 11.2087 - mse: 192.2512 - val_loss: 10.8679 - val_mae: 10.8679 - val_mse: 176.0087\n",
            "Epoch 293/600\n",
            "13/13 [==============================] - 0s 3ms/step - loss: 11.1994 - mae: 11.1994 - mse: 191.9715 - val_loss: 10.8586 - val_mae: 10.8586 - val_mse: 175.5403\n",
            "Epoch 294/600\n",
            "13/13 [==============================] - 0s 5ms/step - loss: 11.2091 - mae: 11.2091 - mse: 192.5693 - val_loss: 10.8578 - val_mae: 10.8578 - val_mse: 175.4994\n",
            "Epoch 295/600\n",
            "13/13 [==============================] - 0s 4ms/step - loss: 11.1959 - mae: 11.1959 - mse: 191.8650 - val_loss: 10.8516 - val_mae: 10.8516 - val_mse: 175.2015\n",
            "Epoch 296/600\n",
            "13/13 [==============================] - 0s 5ms/step - loss: 11.2086 - mae: 11.2086 - mse: 192.5585 - val_loss: 10.8631 - val_mae: 10.8631 - val_mse: 175.7693\n",
            "Epoch 297/600\n",
            "13/13 [==============================] - 0s 4ms/step - loss: 11.1972 - mae: 11.1972 - mse: 191.8170 - val_loss: 10.8368 - val_mae: 10.8368 - val_mse: 174.5410\n",
            "Epoch 298/600\n",
            "13/13 [==============================] - 0s 3ms/step - loss: 11.2089 - mae: 11.2089 - mse: 192.0844 - val_loss: 10.8539 - val_mae: 10.8539 - val_mse: 175.3168\n",
            "Epoch 299/600\n",
            "13/13 [==============================] - 0s 3ms/step - loss: 11.2051 - mae: 11.2051 - mse: 191.5974 - val_loss: 10.8247 - val_mae: 10.8247 - val_mse: 174.0260\n",
            "Epoch 300/600\n",
            "13/13 [==============================] - 0s 3ms/step - loss: 11.2043 - mae: 11.2043 - mse: 192.1426 - val_loss: 10.8558 - val_mae: 10.8558 - val_mse: 175.4118\n",
            "Epoch 301/600\n",
            "13/13 [==============================] - 0s 3ms/step - loss: 11.2012 - mae: 11.2012 - mse: 192.2942 - val_loss: 10.8803 - val_mae: 10.8803 - val_mse: 176.5909\n",
            "Epoch 302/600\n",
            "13/13 [==============================] - 0s 4ms/step - loss: 11.2110 - mae: 11.2110 - mse: 192.8339 - val_loss: 10.8774 - val_mae: 10.8774 - val_mse: 176.4611\n",
            "Epoch 303/600\n",
            "13/13 [==============================] - 0s 4ms/step - loss: 11.2467 - mae: 11.2467 - mse: 192.5130 - val_loss: 10.7759 - val_mae: 10.7759 - val_mse: 172.1554\n",
            "Epoch 304/600\n",
            "13/13 [==============================] - 0s 3ms/step - loss: 11.2396 - mae: 11.2396 - mse: 192.9803 - val_loss: 10.8382 - val_mae: 10.8382 - val_mse: 174.6097\n",
            "Epoch 305/600\n",
            "13/13 [==============================] - 0s 3ms/step - loss: 11.2021 - mae: 11.2021 - mse: 192.1053 - val_loss: 10.8713 - val_mae: 10.8713 - val_mse: 176.1998\n",
            "Epoch 306/600\n",
            "13/13 [==============================] - 0s 4ms/step - loss: 11.2157 - mae: 11.2157 - mse: 191.9422 - val_loss: 10.8206 - val_mae: 10.8206 - val_mse: 173.8317\n",
            "Epoch 307/600\n",
            "13/13 [==============================] - 0s 4ms/step - loss: 11.1976 - mae: 11.1976 - mse: 191.8292 - val_loss: 10.8462 - val_mae: 10.8462 - val_mse: 174.9722\n",
            "Epoch 308/600\n",
            "13/13 [==============================] - 0s 4ms/step - loss: 11.1986 - mae: 11.1986 - mse: 192.0232 - val_loss: 10.8568 - val_mae: 10.8568 - val_mse: 175.4778\n",
            "Epoch 309/600\n",
            "13/13 [==============================] - 0s 3ms/step - loss: 11.2034 - mae: 11.2034 - mse: 192.5067 - val_loss: 10.8813 - val_mae: 10.8813 - val_mse: 176.6443\n",
            "Epoch 310/600\n",
            "13/13 [==============================] - 0s 4ms/step - loss: 11.2194 - mae: 11.2194 - mse: 192.0515 - val_loss: 10.8196 - val_mae: 10.8196 - val_mse: 173.7906\n",
            "Epoch 311/600\n",
            "13/13 [==============================] - 0s 3ms/step - loss: 11.2010 - mae: 11.2010 - mse: 191.9909 - val_loss: 10.8727 - val_mae: 10.8727 - val_mse: 176.2659\n",
            "Epoch 312/600\n",
            "13/13 [==============================] - 0s 3ms/step - loss: 11.1985 - mae: 11.1985 - mse: 192.1149 - val_loss: 10.8322 - val_mae: 10.8322 - val_mse: 174.3651\n",
            "Epoch 313/600\n",
            "13/13 [==============================] - 0s 5ms/step - loss: 11.1990 - mae: 11.1990 - mse: 191.8745 - val_loss: 10.8738 - val_mae: 10.8738 - val_mse: 176.3182\n",
            "Epoch 314/600\n",
            "13/13 [==============================] - 0s 4ms/step - loss: 11.1997 - mae: 11.1997 - mse: 192.3924 - val_loss: 10.8565 - val_mae: 10.8565 - val_mse: 175.4707\n",
            "Epoch 315/600\n",
            "13/13 [==============================] - 0s 3ms/step - loss: 11.1918 - mae: 11.1918 - mse: 191.5970 - val_loss: 10.8271 - val_mae: 10.8271 - val_mse: 174.1582\n",
            "Epoch 316/600\n",
            "13/13 [==============================] - 0s 3ms/step - loss: 11.2114 - mae: 11.2114 - mse: 191.7715 - val_loss: 10.8313 - val_mae: 10.8313 - val_mse: 174.3314\n",
            "Epoch 317/600\n",
            "13/13 [==============================] - 0s 3ms/step - loss: 11.2068 - mae: 11.2068 - mse: 192.4875 - val_loss: 10.8758 - val_mae: 10.8758 - val_mse: 176.4114\n",
            "Epoch 318/600\n",
            "13/13 [==============================] - 0s 3ms/step - loss: 11.1912 - mae: 11.1912 - mse: 191.9936 - val_loss: 10.8321 - val_mae: 10.8321 - val_mse: 174.3644\n",
            "Epoch 319/600\n",
            "13/13 [==============================] - 0s 3ms/step - loss: 11.1943 - mae: 11.1943 - mse: 191.5795 - val_loss: 10.8304 - val_mae: 10.8304 - val_mse: 174.2934\n",
            "Epoch 320/600\n",
            "13/13 [==============================] - 0s 3ms/step - loss: 11.1984 - mae: 11.1984 - mse: 191.7784 - val_loss: 10.8374 - val_mae: 10.8374 - val_mse: 174.5937\n",
            "Epoch 321/600\n",
            "13/13 [==============================] - 0s 4ms/step - loss: 11.1971 - mae: 11.1971 - mse: 191.9219 - val_loss: 10.8662 - val_mae: 10.8662 - val_mse: 175.9824\n",
            "Epoch 322/600\n",
            "13/13 [==============================] - 0s 3ms/step - loss: 11.2130 - mae: 11.2130 - mse: 192.8891 - val_loss: 10.8904 - val_mae: 10.8904 - val_mse: 177.0169\n",
            "Epoch 323/600\n",
            "13/13 [==============================] - 0s 4ms/step - loss: 11.2108 - mae: 11.2108 - mse: 192.1409 - val_loss: 10.8056 - val_mae: 10.8056 - val_mse: 173.1618\n",
            "Epoch 324/600\n",
            "13/13 [==============================] - 0s 3ms/step - loss: 11.2353 - mae: 11.2353 - mse: 193.0582 - val_loss: 10.8768 - val_mae: 10.8768 - val_mse: 176.4651\n",
            "Epoch 325/600\n",
            "13/13 [==============================] - 0s 4ms/step - loss: 11.2115 - mae: 11.2115 - mse: 191.9749 - val_loss: 10.7833 - val_mae: 10.7833 - val_mse: 172.3604\n",
            "Epoch 326/600\n",
            "13/13 [==============================] - 0s 4ms/step - loss: 11.2058 - mae: 11.2058 - mse: 191.1222 - val_loss: 10.8175 - val_mae: 10.8175 - val_mse: 173.7118\n",
            "Epoch 327/600\n",
            "13/13 [==============================] - 0s 3ms/step - loss: 11.2048 - mae: 11.2048 - mse: 192.3144 - val_loss: 10.9017 - val_mae: 10.9017 - val_mse: 177.4732\n",
            "Epoch 328/600\n",
            "13/13 [==============================] - 0s 3ms/step - loss: 11.1981 - mae: 11.1981 - mse: 192.4351 - val_loss: 10.8484 - val_mae: 10.8484 - val_mse: 175.1024\n",
            "Epoch 329/600\n",
            "13/13 [==============================] - 0s 3ms/step - loss: 11.2186 - mae: 11.2186 - mse: 192.1461 - val_loss: 10.8198 - val_mae: 10.8198 - val_mse: 173.8319\n",
            "Epoch 330/600\n",
            "13/13 [==============================] - 0s 4ms/step - loss: 11.1905 - mae: 11.1905 - mse: 191.9237 - val_loss: 10.9046 - val_mae: 10.9046 - val_mse: 177.5955\n",
            "Epoch 331/600\n",
            "13/13 [==============================] - 0s 4ms/step - loss: 11.2032 - mae: 11.2032 - mse: 193.0661 - val_loss: 10.8881 - val_mae: 10.8881 - val_mse: 176.9303\n",
            "Epoch 332/600\n",
            "13/13 [==============================] - 0s 3ms/step - loss: 11.1988 - mae: 11.1988 - mse: 191.7780 - val_loss: 10.8356 - val_mae: 10.8356 - val_mse: 174.5298\n",
            "Epoch 333/600\n",
            "13/13 [==============================] - 0s 3ms/step - loss: 11.1918 - mae: 11.1918 - mse: 191.7078 - val_loss: 10.8573 - val_mae: 10.8573 - val_mse: 175.5461\n",
            "Epoch 334/600\n",
            "13/13 [==============================] - 0s 3ms/step - loss: 11.2090 - mae: 11.2090 - mse: 191.8091 - val_loss: 10.8186 - val_mae: 10.8186 - val_mse: 173.7787\n",
            "Epoch 335/600\n",
            "13/13 [==============================] - 0s 3ms/step - loss: 11.1965 - mae: 11.1965 - mse: 191.5445 - val_loss: 10.8589 - val_mae: 10.8589 - val_mse: 175.6305\n",
            "Epoch 336/600\n",
            "13/13 [==============================] - 0s 3ms/step - loss: 11.1931 - mae: 11.1931 - mse: 191.7588 - val_loss: 10.8426 - val_mae: 10.8426 - val_mse: 174.8434\n",
            "Epoch 337/600\n",
            "13/13 [==============================] - 0s 3ms/step - loss: 11.2086 - mae: 11.2086 - mse: 191.3608 - val_loss: 10.8122 - val_mae: 10.8122 - val_mse: 173.4731\n",
            "Epoch 338/600\n",
            "13/13 [==============================] - 0s 3ms/step - loss: 11.2041 - mae: 11.2041 - mse: 191.5119 - val_loss: 10.8800 - val_mae: 10.8800 - val_mse: 176.6210\n",
            "Epoch 339/600\n",
            "13/13 [==============================] - 0s 3ms/step - loss: 11.2070 - mae: 11.2070 - mse: 191.6644 - val_loss: 10.8367 - val_mae: 10.8367 - val_mse: 174.5826\n",
            "Epoch 340/600\n",
            "13/13 [==============================] - 0s 4ms/step - loss: 11.2020 - mae: 11.2020 - mse: 192.2352 - val_loss: 10.8695 - val_mae: 10.8695 - val_mse: 176.1626\n",
            "Epoch 341/600\n",
            "13/13 [==============================] - 0s 4ms/step - loss: 11.2030 - mae: 11.2030 - mse: 191.6197 - val_loss: 10.8101 - val_mae: 10.8101 - val_mse: 173.3818\n",
            "Epoch 342/600\n",
            "13/13 [==============================] - 0s 4ms/step - loss: 11.1911 - mae: 11.1911 - mse: 191.7133 - val_loss: 10.8587 - val_mae: 10.8587 - val_mse: 175.6355\n",
            "Epoch 343/600\n",
            "13/13 [==============================] - 0s 4ms/step - loss: 11.2036 - mae: 11.2036 - mse: 192.7146 - val_loss: 10.8822 - val_mae: 10.8822 - val_mse: 176.7077\n",
            "Epoch 344/600\n",
            "13/13 [==============================] - 0s 3ms/step - loss: 11.2037 - mae: 11.2037 - mse: 191.2818 - val_loss: 10.8122 - val_mae: 10.8122 - val_mse: 173.4817\n",
            "Epoch 345/600\n",
            "13/13 [==============================] - 0s 3ms/step - loss: 11.1968 - mae: 11.1968 - mse: 191.3982 - val_loss: 10.8343 - val_mae: 10.8343 - val_mse: 174.4857\n",
            "Epoch 346/600\n",
            "13/13 [==============================] - 0s 3ms/step - loss: 11.1968 - mae: 11.1968 - mse: 191.7905 - val_loss: 10.8538 - val_mae: 10.8538 - val_mse: 175.3963\n",
            "Epoch 347/600\n",
            "13/13 [==============================] - 0s 3ms/step - loss: 11.1956 - mae: 11.1956 - mse: 192.1719 - val_loss: 10.8629 - val_mae: 10.8629 - val_mse: 175.8649\n",
            "Epoch 348/600\n",
            "13/13 [==============================] - 0s 4ms/step - loss: 11.1971 - mae: 11.1971 - mse: 192.2128 - val_loss: 10.8210 - val_mae: 10.8210 - val_mse: 173.9327\n",
            "Epoch 349/600\n",
            "13/13 [==============================] - 0s 3ms/step - loss: 11.1943 - mae: 11.1943 - mse: 191.3735 - val_loss: 10.8168 - val_mae: 10.8168 - val_mse: 173.7166\n",
            "Epoch 350/600\n",
            "13/13 [==============================] - 0s 3ms/step - loss: 11.1988 - mae: 11.1988 - mse: 191.8944 - val_loss: 10.8685 - val_mae: 10.8685 - val_mse: 176.1296\n",
            "Epoch 351/600\n",
            "13/13 [==============================] - 0s 4ms/step - loss: 11.1927 - mae: 11.1927 - mse: 192.2948 - val_loss: 10.8684 - val_mae: 10.8684 - val_mse: 176.1263\n",
            "Epoch 352/600\n",
            "13/13 [==============================] - 0s 3ms/step - loss: 11.1874 - mae: 11.1874 - mse: 191.6719 - val_loss: 10.8350 - val_mae: 10.8350 - val_mse: 174.5239\n",
            "Epoch 353/600\n",
            "13/13 [==============================] - 0s 4ms/step - loss: 11.1917 - mae: 11.1917 - mse: 191.3385 - val_loss: 10.8204 - val_mae: 10.8204 - val_mse: 173.9128\n",
            "Epoch 354/600\n",
            "13/13 [==============================] - 0s 3ms/step - loss: 11.2231 - mae: 11.2231 - mse: 192.0262 - val_loss: 10.7952 - val_mae: 10.7952 - val_mse: 172.7613\n",
            "Epoch 355/600\n",
            "13/13 [==============================] - 0s 3ms/step - loss: 11.1947 - mae: 11.1947 - mse: 191.7470 - val_loss: 10.8729 - val_mae: 10.8729 - val_mse: 176.3291\n",
            "Epoch 356/600\n",
            "13/13 [==============================] - 0s 3ms/step - loss: 11.1985 - mae: 11.1985 - mse: 191.7375 - val_loss: 10.8460 - val_mae: 10.8460 - val_mse: 175.0369\n",
            "Epoch 357/600\n",
            "13/13 [==============================] - 0s 3ms/step - loss: 11.2141 - mae: 11.2141 - mse: 192.0941 - val_loss: 10.8291 - val_mae: 10.8291 - val_mse: 174.2755\n",
            "Epoch 358/600\n",
            "13/13 [==============================] - 0s 4ms/step - loss: 11.2163 - mae: 11.2163 - mse: 192.7475 - val_loss: 10.8678 - val_mae: 10.8678 - val_mse: 176.1089\n",
            "Epoch 359/600\n",
            "13/13 [==============================] - 0s 3ms/step - loss: 11.2000 - mae: 11.2000 - mse: 192.1358 - val_loss: 10.8399 - val_mae: 10.8399 - val_mse: 174.7567\n",
            "Epoch 360/600\n",
            "13/13 [==============================] - 0s 5ms/step - loss: 11.1967 - mae: 11.1967 - mse: 192.1449 - val_loss: 10.8656 - val_mae: 10.8656 - val_mse: 176.0152\n",
            "Epoch 361/600\n",
            "13/13 [==============================] - 0s 3ms/step - loss: 11.1997 - mae: 11.1997 - mse: 191.8954 - val_loss: 10.8489 - val_mae: 10.8489 - val_mse: 175.1830\n",
            "Epoch 362/600\n",
            "13/13 [==============================] - 0s 4ms/step - loss: 11.1994 - mae: 11.1994 - mse: 192.1616 - val_loss: 10.8447 - val_mae: 10.8447 - val_mse: 174.9819\n",
            "Epoch 363/600\n",
            "13/13 [==============================] - 0s 4ms/step - loss: 11.1892 - mae: 11.1892 - mse: 191.5576 - val_loss: 10.8344 - val_mae: 10.8344 - val_mse: 174.5130\n",
            "Epoch 364/600\n",
            "13/13 [==============================] - 0s 4ms/step - loss: 11.1883 - mae: 11.1883 - mse: 191.3447 - val_loss: 10.8168 - val_mae: 10.8168 - val_mse: 173.7478\n",
            "Epoch 365/600\n",
            "13/13 [==============================] - 0s 5ms/step - loss: 11.1948 - mae: 11.1948 - mse: 191.2797 - val_loss: 10.8047 - val_mae: 10.8047 - val_mse: 173.1640\n",
            "Epoch 366/600\n",
            "13/13 [==============================] - 0s 4ms/step - loss: 11.1826 - mae: 11.1826 - mse: 191.1399 - val_loss: 10.8499 - val_mae: 10.8499 - val_mse: 175.2398\n",
            "Epoch 367/600\n",
            "13/13 [==============================] - 0s 4ms/step - loss: 11.2206 - mae: 11.2206 - mse: 193.4763 - val_loss: 10.9232 - val_mae: 10.9232 - val_mse: 178.3912\n",
            "Epoch 368/600\n",
            "13/13 [==============================] - 0s 3ms/step - loss: 11.1819 - mae: 11.1819 - mse: 191.3959 - val_loss: 10.8184 - val_mae: 10.8184 - val_mse: 173.8376\n",
            "Epoch 369/600\n",
            "13/13 [==============================] - 0s 4ms/step - loss: 11.1905 - mae: 11.1905 - mse: 191.1967 - val_loss: 10.7930 - val_mae: 10.7930 - val_mse: 172.6806\n",
            "Epoch 370/600\n",
            "13/13 [==============================] - 0s 4ms/step - loss: 11.2243 - mae: 11.2243 - mse: 192.3698 - val_loss: 10.8419 - val_mae: 10.8419 - val_mse: 174.8644\n",
            "Epoch 371/600\n",
            "13/13 [==============================] - 0s 3ms/step - loss: 11.1997 - mae: 11.1997 - mse: 191.5099 - val_loss: 10.8122 - val_mae: 10.8122 - val_mse: 173.5269\n",
            "Epoch 372/600\n",
            "13/13 [==============================] - 0s 3ms/step - loss: 11.1984 - mae: 11.1984 - mse: 191.4217 - val_loss: 10.8155 - val_mae: 10.8155 - val_mse: 173.6971\n",
            "Epoch 373/600\n",
            "13/13 [==============================] - 0s 3ms/step - loss: 11.1981 - mae: 11.1981 - mse: 191.4383 - val_loss: 10.8375 - val_mae: 10.8375 - val_mse: 174.6629\n",
            "Epoch 374/600\n",
            "13/13 [==============================] - 0s 3ms/step - loss: 11.1863 - mae: 11.1863 - mse: 191.5145 - val_loss: 10.8404 - val_mae: 10.8404 - val_mse: 174.8011\n",
            "Epoch 375/600\n",
            "13/13 [==============================] - 0s 4ms/step - loss: 11.2043 - mae: 11.2043 - mse: 191.6310 - val_loss: 10.8154 - val_mae: 10.8154 - val_mse: 173.6955\n",
            "Epoch 376/600\n",
            "13/13 [==============================] - 0s 4ms/step - loss: 11.1951 - mae: 11.1951 - mse: 191.3519 - val_loss: 10.8522 - val_mae: 10.8522 - val_mse: 175.3758\n",
            "Epoch 377/600\n",
            "13/13 [==============================] - 0s 3ms/step - loss: 11.1916 - mae: 11.1916 - mse: 191.9854 - val_loss: 10.8458 - val_mae: 10.8458 - val_mse: 175.0621\n",
            "Epoch 378/600\n",
            "13/13 [==============================] - 0s 4ms/step - loss: 11.1951 - mae: 11.1951 - mse: 191.5610 - val_loss: 10.8307 - val_mae: 10.8307 - val_mse: 174.3666\n",
            "Epoch 379/600\n",
            "13/13 [==============================] - 0s 3ms/step - loss: 11.1869 - mae: 11.1869 - mse: 191.6484 - val_loss: 10.8548 - val_mae: 10.8548 - val_mse: 175.5168\n",
            "Epoch 380/600\n",
            "13/13 [==============================] - 0s 3ms/step - loss: 11.1914 - mae: 11.1914 - mse: 192.2125 - val_loss: 10.8665 - val_mae: 10.8665 - val_mse: 176.0800\n",
            "Epoch 381/600\n",
            "13/13 [==============================] - 0s 3ms/step - loss: 11.1923 - mae: 11.1923 - mse: 191.4524 - val_loss: 10.8237 - val_mae: 10.8237 - val_mse: 174.0733\n",
            "Epoch 382/600\n",
            "13/13 [==============================] - 0s 4ms/step - loss: 11.2046 - mae: 11.2046 - mse: 192.1119 - val_loss: 10.8550 - val_mae: 10.8550 - val_mse: 175.5300\n",
            "Epoch 383/600\n",
            "13/13 [==============================] - 0s 4ms/step - loss: 11.2024 - mae: 11.2024 - mse: 192.3712 - val_loss: 10.8504 - val_mae: 10.8504 - val_mse: 175.3001\n",
            "Epoch 384/600\n",
            "13/13 [==============================] - 0s 3ms/step - loss: 11.1841 - mae: 11.1841 - mse: 190.9130 - val_loss: 10.7980 - val_mae: 10.7980 - val_mse: 172.8922\n",
            "Epoch 385/600\n",
            "13/13 [==============================] - 0s 3ms/step - loss: 11.1858 - mae: 11.1858 - mse: 191.0039 - val_loss: 10.8173 - val_mae: 10.8173 - val_mse: 173.8156\n",
            "Epoch 386/600\n",
            "13/13 [==============================] - 0s 3ms/step - loss: 11.2157 - mae: 11.2157 - mse: 192.7223 - val_loss: 10.9071 - val_mae: 10.9071 - val_mse: 177.7426\n",
            "Epoch 387/600\n",
            "13/13 [==============================] - 0s 4ms/step - loss: 11.1867 - mae: 11.1867 - mse: 192.3724 - val_loss: 10.8589 - val_mae: 10.8589 - val_mse: 175.7437\n",
            "Epoch 388/600\n",
            "13/13 [==============================] - 0s 5ms/step - loss: 11.2247 - mae: 11.2247 - mse: 191.9033 - val_loss: 10.7790 - val_mae: 10.7790 - val_mse: 172.1964\n",
            "Epoch 389/600\n",
            "13/13 [==============================] - 0s 4ms/step - loss: 11.1973 - mae: 11.1973 - mse: 191.2336 - val_loss: 10.8240 - val_mae: 10.8240 - val_mse: 174.0927\n",
            "Epoch 390/600\n",
            "13/13 [==============================] - 0s 3ms/step - loss: 11.2742 - mae: 11.2742 - mse: 194.5795 - val_loss: 10.9329 - val_mae: 10.9329 - val_mse: 178.7753\n",
            "Epoch 391/600\n",
            "13/13 [==============================] - 0s 3ms/step - loss: 11.1828 - mae: 11.1828 - mse: 191.5542 - val_loss: 10.8113 - val_mae: 10.8113 - val_mse: 173.5172\n",
            "Epoch 392/600\n",
            "13/13 [==============================] - 0s 4ms/step - loss: 11.2109 - mae: 11.2109 - mse: 191.4505 - val_loss: 10.7806 - val_mae: 10.7806 - val_mse: 172.2452\n",
            "Epoch 393/600\n",
            "13/13 [==============================] - 0s 3ms/step - loss: 11.1835 - mae: 11.1835 - mse: 190.4426 - val_loss: 10.8532 - val_mae: 10.8532 - val_mse: 175.4616\n",
            "Epoch 394/600\n",
            "13/13 [==============================] - 0s 4ms/step - loss: 11.2106 - mae: 11.2106 - mse: 193.0027 - val_loss: 10.9003 - val_mae: 10.9003 - val_mse: 177.4610\n",
            "Epoch 395/600\n",
            "13/13 [==============================] - 0s 4ms/step - loss: 11.1833 - mae: 11.1833 - mse: 191.6789 - val_loss: 10.8121 - val_mae: 10.8121 - val_mse: 173.5667\n",
            "Epoch 396/600\n",
            "13/13 [==============================] - 0s 3ms/step - loss: 11.2039 - mae: 11.2039 - mse: 191.4342 - val_loss: 10.7851 - val_mae: 10.7851 - val_mse: 172.3989\n",
            "Epoch 397/600\n",
            "13/13 [==============================] - 0s 3ms/step - loss: 11.2028 - mae: 11.2028 - mse: 191.5442 - val_loss: 10.8634 - val_mae: 10.8634 - val_mse: 175.9641\n",
            "Epoch 398/600\n",
            "13/13 [==============================] - 0s 3ms/step - loss: 11.1911 - mae: 11.1911 - mse: 191.8389 - val_loss: 10.8676 - val_mae: 10.8676 - val_mse: 176.1510\n",
            "Epoch 399/600\n",
            "13/13 [==============================] - 0s 4ms/step - loss: 11.1887 - mae: 11.1887 - mse: 191.5269 - val_loss: 10.8274 - val_mae: 10.8274 - val_mse: 174.2498\n",
            "Epoch 400/600\n",
            "13/13 [==============================] - 0s 4ms/step - loss: 11.1799 - mae: 11.1799 - mse: 191.3557 - val_loss: 10.8668 - val_mae: 10.8668 - val_mse: 176.1147\n",
            "Epoch 401/600\n",
            "13/13 [==============================] - 0s 6ms/step - loss: 11.1869 - mae: 11.1869 - mse: 191.9344 - val_loss: 10.8451 - val_mae: 10.8451 - val_mse: 175.0687\n",
            "Epoch 402/600\n",
            "13/13 [==============================] - 0s 3ms/step - loss: 11.1888 - mae: 11.1888 - mse: 191.6904 - val_loss: 10.8290 - val_mae: 10.8290 - val_mse: 174.3204\n",
            "Epoch 403/600\n",
            "13/13 [==============================] - 0s 4ms/step - loss: 11.1819 - mae: 11.1819 - mse: 191.3323 - val_loss: 10.8487 - val_mae: 10.8487 - val_mse: 175.2525\n",
            "Epoch 404/600\n",
            "13/13 [==============================] - 0s 5ms/step - loss: 11.1888 - mae: 11.1888 - mse: 191.6747 - val_loss: 10.8399 - val_mae: 10.8399 - val_mse: 174.8235\n",
            "Epoch 405/600\n",
            "13/13 [==============================] - 0s 5ms/step - loss: 11.1858 - mae: 11.1858 - mse: 191.5587 - val_loss: 10.8604 - val_mae: 10.8604 - val_mse: 175.8406\n",
            "Epoch 406/600\n",
            "13/13 [==============================] - 0s 5ms/step - loss: 11.1880 - mae: 11.1880 - mse: 192.0790 - val_loss: 10.8642 - val_mae: 10.8642 - val_mse: 176.0096\n",
            "Epoch 407/600\n",
            "13/13 [==============================] - 0s 3ms/step - loss: 11.2016 - mae: 11.2016 - mse: 192.3099 - val_loss: 10.8653 - val_mae: 10.8653 - val_mse: 176.0594\n",
            "Epoch 408/600\n",
            "13/13 [==============================] - 0s 4ms/step - loss: 11.1874 - mae: 11.1874 - mse: 191.2429 - val_loss: 10.7956 - val_mae: 10.7956 - val_mse: 172.8098\n",
            "Epoch 409/600\n",
            "13/13 [==============================] - 0s 4ms/step - loss: 11.1933 - mae: 11.1933 - mse: 190.9740 - val_loss: 10.8361 - val_mae: 10.8361 - val_mse: 174.6534\n",
            "Epoch 410/600\n",
            "13/13 [==============================] - 0s 4ms/step - loss: 11.1832 - mae: 11.1832 - mse: 191.5822 - val_loss: 10.8655 - val_mae: 10.8655 - val_mse: 176.0704\n",
            "Epoch 411/600\n",
            "13/13 [==============================] - 0s 5ms/step - loss: 11.2075 - mae: 11.2075 - mse: 192.3506 - val_loss: 10.8251 - val_mae: 10.8251 - val_mse: 174.1642\n",
            "Epoch 412/600\n",
            "13/13 [==============================] - 0s 4ms/step - loss: 11.1924 - mae: 11.1924 - mse: 191.4290 - val_loss: 10.8300 - val_mae: 10.8300 - val_mse: 174.3809\n",
            "Epoch 413/600\n",
            "13/13 [==============================] - 0s 4ms/step - loss: 11.1809 - mae: 11.1809 - mse: 191.5632 - val_loss: 10.8569 - val_mae: 10.8569 - val_mse: 175.6984\n",
            "Epoch 414/600\n",
            "13/13 [==============================] - 0s 6ms/step - loss: 11.1948 - mae: 11.1948 - mse: 191.9082 - val_loss: 10.8360 - val_mae: 10.8360 - val_mse: 174.6552\n",
            "Epoch 415/600\n",
            "13/13 [==============================] - 0s 4ms/step - loss: 11.1807 - mae: 11.1807 - mse: 191.4249 - val_loss: 10.8414 - val_mae: 10.8414 - val_mse: 174.9146\n",
            "Epoch 416/600\n",
            "13/13 [==============================] - 0s 4ms/step - loss: 11.1901 - mae: 11.1901 - mse: 191.3192 - val_loss: 10.8082 - val_mae: 10.8082 - val_mse: 173.4044\n",
            "Epoch 417/600\n",
            "13/13 [==============================] - 0s 4ms/step - loss: 11.2277 - mae: 11.2277 - mse: 193.1204 - val_loss: 10.8597 - val_mae: 10.8597 - val_mse: 175.8274\n",
            "Epoch 418/600\n",
            "13/13 [==============================] - 0s 4ms/step - loss: 11.1921 - mae: 11.1921 - mse: 190.9998 - val_loss: 10.8002 - val_mae: 10.8002 - val_mse: 173.0249\n",
            "Epoch 419/600\n",
            "13/13 [==============================] - 0s 3ms/step - loss: 11.2360 - mae: 11.2360 - mse: 193.1988 - val_loss: 10.8505 - val_mae: 10.8505 - val_mse: 175.3795\n",
            "Epoch 420/600\n",
            "13/13 [==============================] - 0s 4ms/step - loss: 11.1833 - mae: 11.1833 - mse: 191.6069 - val_loss: 10.8040 - val_mae: 10.8040 - val_mse: 173.2063\n",
            "Epoch 421/600\n",
            "13/13 [==============================] - 0s 4ms/step - loss: 11.1944 - mae: 11.1944 - mse: 191.1596 - val_loss: 10.8008 - val_mae: 10.8008 - val_mse: 173.0582\n",
            "Epoch 422/600\n",
            "13/13 [==============================] - 0s 3ms/step - loss: 11.1808 - mae: 11.1808 - mse: 190.9999 - val_loss: 10.8201 - val_mae: 10.8201 - val_mse: 173.9594\n",
            "Epoch 423/600\n",
            "13/13 [==============================] - 0s 3ms/step - loss: 11.1829 - mae: 11.1829 - mse: 191.5239 - val_loss: 10.8499 - val_mae: 10.8499 - val_mse: 175.3535\n",
            "Epoch 424/600\n",
            "13/13 [==============================] - 0s 4ms/step - loss: 11.1893 - mae: 11.1893 - mse: 191.8555 - val_loss: 10.8358 - val_mae: 10.8358 - val_mse: 174.6614\n",
            "Epoch 425/600\n",
            "13/13 [==============================] - 0s 5ms/step - loss: 11.2003 - mae: 11.2003 - mse: 192.3778 - val_loss: 10.8468 - val_mae: 10.8468 - val_mse: 175.1989\n",
            "Epoch 426/600\n",
            "13/13 [==============================] - 0s 4ms/step - loss: 11.1762 - mae: 11.1762 - mse: 191.1592 - val_loss: 10.8107 - val_mae: 10.8107 - val_mse: 173.5566\n",
            "Epoch 427/600\n",
            "13/13 [==============================] - 0s 4ms/step - loss: 11.1888 - mae: 11.1888 - mse: 191.2048 - val_loss: 10.7970 - val_mae: 10.7970 - val_mse: 172.8906\n",
            "Epoch 428/600\n",
            "13/13 [==============================] - 0s 3ms/step - loss: 11.1860 - mae: 11.1860 - mse: 191.0636 - val_loss: 10.8384 - val_mae: 10.8384 - val_mse: 174.7908\n",
            "Epoch 429/600\n",
            "13/13 [==============================] - 0s 3ms/step - loss: 11.1837 - mae: 11.1837 - mse: 191.4398 - val_loss: 10.8478 - val_mae: 10.8478 - val_mse: 175.2610\n",
            "Epoch 430/600\n",
            "13/13 [==============================] - 0s 4ms/step - loss: 11.2301 - mae: 11.2301 - mse: 192.0554 - val_loss: 10.7971 - val_mae: 10.7971 - val_mse: 172.8975\n",
            "Epoch 431/600\n",
            "13/13 [==============================] - 0s 4ms/step - loss: 11.2387 - mae: 11.2387 - mse: 193.4843 - val_loss: 10.9017 - val_mae: 10.9017 - val_mse: 177.5504\n",
            "Epoch 432/600\n",
            "13/13 [==============================] - 0s 4ms/step - loss: 11.1956 - mae: 11.1956 - mse: 192.0882 - val_loss: 10.8258 - val_mae: 10.8258 - val_mse: 174.2179\n",
            "Epoch 433/600\n",
            "13/13 [==============================] - 0s 4ms/step - loss: 11.1816 - mae: 11.1816 - mse: 191.0741 - val_loss: 10.8310 - val_mae: 10.8310 - val_mse: 174.4546\n",
            "Epoch 434/600\n",
            "13/13 [==============================] - 0s 5ms/step - loss: 11.1746 - mae: 11.1746 - mse: 191.1459 - val_loss: 10.8458 - val_mae: 10.8458 - val_mse: 175.1702\n",
            "Epoch 435/600\n",
            "13/13 [==============================] - 0s 4ms/step - loss: 11.1850 - mae: 11.1850 - mse: 192.0260 - val_loss: 10.8803 - val_mae: 10.8803 - val_mse: 176.6687\n",
            "Epoch 436/600\n",
            "13/13 [==============================] - 0s 4ms/step - loss: 11.2059 - mae: 11.2059 - mse: 191.5070 - val_loss: 10.8133 - val_mae: 10.8133 - val_mse: 173.6915\n",
            "Epoch 437/600\n",
            "13/13 [==============================] - 0s 4ms/step - loss: 11.1885 - mae: 11.1885 - mse: 192.0397 - val_loss: 10.8764 - val_mae: 10.8764 - val_mse: 176.5158\n",
            "Epoch 438/600\n",
            "13/13 [==============================] - 0s 3ms/step - loss: 11.1898 - mae: 11.1898 - mse: 192.4040 - val_loss: 10.8509 - val_mae: 10.8509 - val_mse: 175.4379\n",
            "Epoch 439/600\n",
            "13/13 [==============================] - 0s 4ms/step - loss: 11.1844 - mae: 11.1844 - mse: 191.7084 - val_loss: 10.8357 - val_mae: 10.8357 - val_mse: 174.6836\n",
            "Epoch 440/600\n",
            "13/13 [==============================] - 0s 3ms/step - loss: 11.1801 - mae: 11.1801 - mse: 191.2248 - val_loss: 10.8192 - val_mae: 10.8192 - val_mse: 173.9398\n",
            "Epoch 441/600\n",
            "13/13 [==============================] - 0s 4ms/step - loss: 11.1817 - mae: 11.1817 - mse: 190.9864 - val_loss: 10.8213 - val_mae: 10.8213 - val_mse: 174.0320\n",
            "Epoch 442/600\n",
            "13/13 [==============================] - 0s 4ms/step - loss: 11.1814 - mae: 11.1814 - mse: 191.0950 - val_loss: 10.8326 - val_mae: 10.8326 - val_mse: 174.5405\n",
            "Epoch 443/600\n",
            "13/13 [==============================] - 0s 4ms/step - loss: 11.1815 - mae: 11.1815 - mse: 191.9460 - val_loss: 10.8718 - val_mae: 10.8718 - val_mse: 176.3403\n",
            "Epoch 444/600\n",
            "13/13 [==============================] - 0s 4ms/step - loss: 11.1829 - mae: 11.1829 - mse: 191.8890 - val_loss: 10.8576 - val_mae: 10.8576 - val_mse: 175.7668\n",
            "Epoch 445/600\n",
            "13/13 [==============================] - 0s 4ms/step - loss: 11.1824 - mae: 11.1824 - mse: 192.1218 - val_loss: 10.8816 - val_mae: 10.8816 - val_mse: 176.7275\n",
            "Epoch 446/600\n",
            "13/13 [==============================] - 0s 4ms/step - loss: 11.1827 - mae: 11.1827 - mse: 192.1808 - val_loss: 10.8449 - val_mae: 10.8449 - val_mse: 175.1490\n",
            "Epoch 447/600\n",
            "13/13 [==============================] - 0s 3ms/step - loss: 11.2094 - mae: 11.2094 - mse: 191.7463 - val_loss: 10.7918 - val_mae: 10.7918 - val_mse: 172.6835\n",
            "Epoch 448/600\n",
            "13/13 [==============================] - 0s 3ms/step - loss: 11.1859 - mae: 11.1859 - mse: 191.1601 - val_loss: 10.8515 - val_mae: 10.8515 - val_mse: 175.4919\n",
            "Epoch 449/600\n",
            "13/13 [==============================] - 0s 4ms/step - loss: 11.1775 - mae: 11.1775 - mse: 191.6327 - val_loss: 10.8487 - val_mae: 10.8487 - val_mse: 175.3496\n",
            "Epoch 450/600\n",
            "13/13 [==============================] - 0s 3ms/step - loss: 11.1867 - mae: 11.1867 - mse: 191.3550 - val_loss: 10.8219 - val_mae: 10.8219 - val_mse: 174.0682\n",
            "Epoch 451/600\n",
            "13/13 [==============================] - 0s 4ms/step - loss: 11.2105 - mae: 11.2105 - mse: 193.0322 - val_loss: 10.8712 - val_mae: 10.8712 - val_mse: 176.3210\n",
            "Epoch 452/600\n",
            "13/13 [==============================] - 0s 3ms/step - loss: 11.2076 - mae: 11.2076 - mse: 192.1504 - val_loss: 10.7974 - val_mae: 10.7974 - val_mse: 172.9426\n",
            "Epoch 453/600\n",
            "13/13 [==============================] - 0s 4ms/step - loss: 11.1763 - mae: 11.1763 - mse: 190.9682 - val_loss: 10.8336 - val_mae: 10.8336 - val_mse: 174.6049\n",
            "Epoch 454/600\n",
            "13/13 [==============================] - 0s 4ms/step - loss: 11.1868 - mae: 11.1868 - mse: 191.6262 - val_loss: 10.8489 - val_mae: 10.8489 - val_mse: 175.3687\n",
            "Epoch 455/600\n",
            "13/13 [==============================] - 0s 3ms/step - loss: 11.1836 - mae: 11.1836 - mse: 192.0278 - val_loss: 10.8780 - val_mae: 10.8780 - val_mse: 176.5900\n",
            "Epoch 456/600\n",
            "13/13 [==============================] - 0s 4ms/step - loss: 11.1986 - mae: 11.1986 - mse: 192.6547 - val_loss: 10.8043 - val_mae: 10.8043 - val_mse: 173.2828\n",
            "Epoch 457/600\n",
            "13/13 [==============================] - 0s 4ms/step - loss: 11.1809 - mae: 11.1809 - mse: 190.9208 - val_loss: 10.8354 - val_mae: 10.8354 - val_mse: 174.6955\n",
            "Epoch 458/600\n",
            "13/13 [==============================] - 0s 4ms/step - loss: 11.1860 - mae: 11.1860 - mse: 191.3781 - val_loss: 10.8206 - val_mae: 10.8206 - val_mse: 174.0188\n",
            "Epoch 459/600\n",
            "13/13 [==============================] - 0s 4ms/step - loss: 11.1802 - mae: 11.1802 - mse: 191.3920 - val_loss: 10.8509 - val_mae: 10.8509 - val_mse: 175.4894\n",
            "Epoch 460/600\n",
            "13/13 [==============================] - 0s 3ms/step - loss: 11.1762 - mae: 11.1762 - mse: 191.4943 - val_loss: 10.8418 - val_mae: 10.8418 - val_mse: 175.0194\n",
            "Epoch 461/600\n",
            "13/13 [==============================] - 0s 4ms/step - loss: 11.1854 - mae: 11.1854 - mse: 191.6825 - val_loss: 10.8373 - val_mae: 10.8373 - val_mse: 174.7954\n",
            "Epoch 462/600\n",
            "13/13 [==============================] - 0s 5ms/step - loss: 11.1827 - mae: 11.1827 - mse: 191.4449 - val_loss: 10.8397 - val_mae: 10.8397 - val_mse: 174.9153\n",
            "Epoch 463/600\n",
            "13/13 [==============================] - 0s 4ms/step - loss: 11.1760 - mae: 11.1760 - mse: 191.1749 - val_loss: 10.8272 - val_mae: 10.8272 - val_mse: 174.3216\n",
            "Epoch 464/600\n",
            "13/13 [==============================] - 0s 4ms/step - loss: 11.1832 - mae: 11.1832 - mse: 191.3908 - val_loss: 10.8447 - val_mae: 10.8447 - val_mse: 175.1730\n",
            "Epoch 465/600\n",
            "13/13 [==============================] - 0s 4ms/step - loss: 11.1799 - mae: 11.1799 - mse: 191.9270 - val_loss: 10.8513 - val_mae: 10.8513 - val_mse: 175.5168\n",
            "Epoch 466/600\n",
            "13/13 [==============================] - 0s 4ms/step - loss: 11.1762 - mae: 11.1762 - mse: 191.3838 - val_loss: 10.8344 - val_mae: 10.8344 - val_mse: 174.6655\n",
            "Epoch 467/600\n",
            "13/13 [==============================] - 0s 3ms/step - loss: 11.1894 - mae: 11.1894 - mse: 191.9350 - val_loss: 10.8471 - val_mae: 10.8471 - val_mse: 175.3069\n",
            "Epoch 468/600\n",
            "13/13 [==============================] - 0s 3ms/step - loss: 11.1836 - mae: 11.1836 - mse: 191.5871 - val_loss: 10.8433 - val_mae: 10.8433 - val_mse: 175.1086\n",
            "Epoch 469/600\n",
            "13/13 [==============================] - 0s 3ms/step - loss: 11.1928 - mae: 11.1928 - mse: 191.2548 - val_loss: 10.8036 - val_mae: 10.8036 - val_mse: 173.2722\n",
            "Epoch 470/600\n",
            "13/13 [==============================] - 0s 4ms/step - loss: 11.1758 - mae: 11.1758 - mse: 190.8778 - val_loss: 10.8065 - val_mae: 10.8065 - val_mse: 173.4225\n",
            "Epoch 471/600\n",
            "13/13 [==============================] - 0s 5ms/step - loss: 11.1908 - mae: 11.1908 - mse: 191.1176 - val_loss: 10.7955 - val_mae: 10.7955 - val_mse: 172.8763\n",
            "Epoch 472/600\n",
            "13/13 [==============================] - 0s 3ms/step - loss: 11.1882 - mae: 11.1882 - mse: 191.3959 - val_loss: 10.8549 - val_mae: 10.8549 - val_mse: 175.6813\n",
            "Epoch 473/600\n",
            "13/13 [==============================] - 0s 4ms/step - loss: 11.1795 - mae: 11.1795 - mse: 191.7379 - val_loss: 10.8651 - val_mae: 10.8651 - val_mse: 176.0931\n",
            "Epoch 474/600\n",
            "13/13 [==============================] - 0s 5ms/step - loss: 11.1807 - mae: 11.1807 - mse: 191.3472 - val_loss: 10.8254 - val_mae: 10.8254 - val_mse: 174.2538\n",
            "Epoch 475/600\n",
            "13/13 [==============================] - 0s 6ms/step - loss: 11.1918 - mae: 11.1918 - mse: 191.7772 - val_loss: 10.8273 - val_mae: 10.8273 - val_mse: 174.3442\n",
            "Epoch 476/600\n",
            "13/13 [==============================] - 0s 4ms/step - loss: 11.1773 - mae: 11.1773 - mse: 191.1379 - val_loss: 10.8273 - val_mae: 10.8273 - val_mse: 174.3435\n",
            "Epoch 477/600\n",
            "13/13 [==============================] - 0s 6ms/step - loss: 11.2005 - mae: 11.2005 - mse: 191.5208 - val_loss: 10.8120 - val_mae: 10.8120 - val_mse: 173.6738\n",
            "Epoch 478/600\n",
            "13/13 [==============================] - 0s 3ms/step - loss: 11.1858 - mae: 11.1858 - mse: 192.2825 - val_loss: 10.8928 - val_mae: 10.8928 - val_mse: 177.2096\n",
            "Epoch 479/600\n",
            "13/13 [==============================] - 0s 3ms/step - loss: 11.1821 - mae: 11.1821 - mse: 191.6290 - val_loss: 10.8084 - val_mae: 10.8084 - val_mse: 173.5269\n",
            "Epoch 480/600\n",
            "13/13 [==============================] - 0s 4ms/step - loss: 11.1775 - mae: 11.1775 - mse: 190.9081 - val_loss: 10.8007 - val_mae: 10.8007 - val_mse: 173.1456\n",
            "Epoch 481/600\n",
            "13/13 [==============================] - 0s 3ms/step - loss: 11.1785 - mae: 11.1785 - mse: 191.0907 - val_loss: 10.8193 - val_mae: 10.8193 - val_mse: 173.9900\n",
            "Epoch 482/600\n",
            "13/13 [==============================] - 0s 3ms/step - loss: 11.1885 - mae: 11.1885 - mse: 191.1521 - val_loss: 10.8089 - val_mae: 10.8089 - val_mse: 173.5528\n",
            "Epoch 483/600\n",
            "13/13 [==============================] - 0s 3ms/step - loss: 11.1713 - mae: 11.1713 - mse: 190.9010 - val_loss: 10.8347 - val_mae: 10.8347 - val_mse: 174.7091\n",
            "Epoch 484/600\n",
            "13/13 [==============================] - 0s 4ms/step - loss: 11.1778 - mae: 11.1778 - mse: 191.1046 - val_loss: 10.8358 - val_mae: 10.8358 - val_mse: 174.7660\n",
            "Epoch 485/600\n",
            "13/13 [==============================] - 0s 5ms/step - loss: 11.1740 - mae: 11.1740 - mse: 191.6653 - val_loss: 10.8517 - val_mae: 10.8517 - val_mse: 175.5585\n",
            "Epoch 486/600\n",
            "13/13 [==============================] - 0s 4ms/step - loss: 11.1751 - mae: 11.1751 - mse: 191.5902 - val_loss: 10.8319 - val_mae: 10.8319 - val_mse: 174.5757\n",
            "Epoch 487/600\n",
            "13/13 [==============================] - 0s 4ms/step - loss: 11.1685 - mae: 11.1685 - mse: 190.9579 - val_loss: 10.8152 - val_mae: 10.8152 - val_mse: 173.8186\n",
            "Epoch 488/600\n",
            "13/13 [==============================] - 0s 3ms/step - loss: 11.1914 - mae: 11.1914 - mse: 191.0504 - val_loss: 10.7794 - val_mae: 10.7794 - val_mse: 172.2102\n",
            "Epoch 489/600\n",
            "13/13 [==============================] - 0s 4ms/step - loss: 11.1645 - mae: 11.1645 - mse: 190.6021 - val_loss: 10.8382 - val_mae: 10.8382 - val_mse: 174.8938\n",
            "Epoch 490/600\n",
            "13/13 [==============================] - 0s 4ms/step - loss: 11.1966 - mae: 11.1966 - mse: 192.7661 - val_loss: 10.9019 - val_mae: 10.9019 - val_mse: 177.6129\n",
            "Epoch 491/600\n",
            "13/13 [==============================] - 0s 4ms/step - loss: 11.2065 - mae: 11.2065 - mse: 192.3594 - val_loss: 10.8233 - val_mae: 10.8233 - val_mse: 174.1835\n",
            "Epoch 492/600\n",
            "13/13 [==============================] - 0s 5ms/step - loss: 11.1781 - mae: 11.1781 - mse: 191.2981 - val_loss: 10.8280 - val_mae: 10.8280 - val_mse: 174.4018\n",
            "Epoch 493/600\n",
            "13/13 [==============================] - 0s 4ms/step - loss: 11.1773 - mae: 11.1773 - mse: 191.1028 - val_loss: 10.8100 - val_mae: 10.8100 - val_mse: 173.6040\n",
            "Epoch 494/600\n",
            "13/13 [==============================] - 0s 4ms/step - loss: 11.1885 - mae: 11.1885 - mse: 190.9452 - val_loss: 10.8036 - val_mae: 10.8036 - val_mse: 173.3215\n",
            "Epoch 495/600\n",
            "13/13 [==============================] - 0s 4ms/step - loss: 11.1737 - mae: 11.1737 - mse: 191.2453 - val_loss: 10.8846 - val_mae: 10.8846 - val_mse: 176.8809\n",
            "Epoch 496/600\n",
            "13/13 [==============================] - 0s 4ms/step - loss: 11.1750 - mae: 11.1750 - mse: 191.6569 - val_loss: 10.8221 - val_mae: 10.8221 - val_mse: 174.1353\n",
            "Epoch 497/600\n",
            "13/13 [==============================] - 0s 3ms/step - loss: 11.1821 - mae: 11.1821 - mse: 191.3618 - val_loss: 10.8237 - val_mae: 10.8237 - val_mse: 174.2111\n",
            "Epoch 498/600\n",
            "13/13 [==============================] - 0s 4ms/step - loss: 11.1715 - mae: 11.1715 - mse: 190.9745 - val_loss: 10.8160 - val_mae: 10.8160 - val_mse: 173.8670\n",
            "Epoch 499/600\n",
            "13/13 [==============================] - 0s 4ms/step - loss: 11.1744 - mae: 11.1744 - mse: 190.8022 - val_loss: 10.8035 - val_mae: 10.8035 - val_mse: 173.3256\n",
            "Epoch 500/600\n",
            "13/13 [==============================] - 0s 4ms/step - loss: 11.1997 - mae: 11.1997 - mse: 190.6967 - val_loss: 10.7816 - val_mae: 10.7816 - val_mse: 172.3023\n",
            "Epoch 501/600\n",
            "13/13 [==============================] - 0s 4ms/step - loss: 11.1804 - mae: 11.1804 - mse: 190.9860 - val_loss: 10.8641 - val_mae: 10.8641 - val_mse: 176.0669\n",
            "Epoch 502/600\n",
            "13/13 [==============================] - 0s 4ms/step - loss: 11.1819 - mae: 11.1819 - mse: 191.8560 - val_loss: 10.8405 - val_mae: 10.8405 - val_mse: 175.0376\n",
            "Epoch 503/600\n",
            "13/13 [==============================] - 0s 4ms/step - loss: 11.1770 - mae: 11.1770 - mse: 191.6106 - val_loss: 10.8414 - val_mae: 10.8414 - val_mse: 175.0855\n",
            "Epoch 504/600\n",
            "13/13 [==============================] - 0s 4ms/step - loss: 11.1837 - mae: 11.1837 - mse: 191.5159 - val_loss: 10.8781 - val_mae: 10.8781 - val_mse: 176.6197\n",
            "Epoch 505/600\n",
            "13/13 [==============================] - 0s 5ms/step - loss: 11.1709 - mae: 11.1709 - mse: 191.4004 - val_loss: 10.8350 - val_mae: 10.8350 - val_mse: 174.7660\n",
            "Epoch 506/600\n",
            "13/13 [==============================] - 0s 4ms/step - loss: 11.1709 - mae: 11.1709 - mse: 191.3097 - val_loss: 10.8260 - val_mae: 10.8260 - val_mse: 174.3293\n",
            "Epoch 507/600\n",
            "13/13 [==============================] - 0s 4ms/step - loss: 11.2628 - mae: 11.2628 - mse: 192.5700 - val_loss: 10.7578 - val_mae: 10.7578 - val_mse: 171.4995\n",
            "Epoch 508/600\n",
            "13/13 [==============================] - 0s 5ms/step - loss: 11.1523 - mae: 11.1523 - mse: 190.6807 - val_loss: 10.8414 - val_mae: 10.8414 - val_mse: 175.0977\n",
            "Epoch 509/600\n",
            "13/13 [==============================] - 0s 5ms/step - loss: 11.1858 - mae: 11.1858 - mse: 192.4510 - val_loss: 10.9431 - val_mae: 10.9431 - val_mse: 179.2378\n",
            "Epoch 510/600\n",
            "13/13 [==============================] - 0s 4ms/step - loss: 11.2071 - mae: 11.2071 - mse: 192.8420 - val_loss: 10.8229 - val_mae: 10.8229 - val_mse: 174.1909\n",
            "Epoch 511/600\n",
            "13/13 [==============================] - 0s 4ms/step - loss: 11.1703 - mae: 11.1703 - mse: 190.7589 - val_loss: 10.7965 - val_mae: 10.7965 - val_mse: 172.9871\n",
            "Epoch 512/600\n",
            "13/13 [==============================] - 0s 7ms/step - loss: 11.1751 - mae: 11.1751 - mse: 190.8390 - val_loss: 10.8280 - val_mae: 10.8280 - val_mse: 174.4341\n",
            "Epoch 513/600\n",
            "13/13 [==============================] - 0s 4ms/step - loss: 11.1903 - mae: 11.1903 - mse: 190.8460 - val_loss: 10.7923 - val_mae: 10.7923 - val_mse: 172.7870\n",
            "Epoch 514/600\n",
            "13/13 [==============================] - 0s 4ms/step - loss: 11.1813 - mae: 11.1813 - mse: 190.4305 - val_loss: 10.8271 - val_mae: 10.8271 - val_mse: 174.3965\n",
            "Epoch 515/600\n",
            "13/13 [==============================] - 0s 4ms/step - loss: 11.1706 - mae: 11.1706 - mse: 191.2905 - val_loss: 10.8564 - val_mae: 10.8564 - val_mse: 175.7780\n",
            "Epoch 516/600\n",
            "13/13 [==============================] - 0s 4ms/step - loss: 11.1647 - mae: 11.1647 - mse: 191.1360 - val_loss: 10.8115 - val_mae: 10.8115 - val_mse: 173.6919\n",
            "Epoch 517/600\n",
            "13/13 [==============================] - 0s 3ms/step - loss: 11.1688 - mae: 11.1688 - mse: 190.6883 - val_loss: 10.7949 - val_mae: 10.7949 - val_mse: 172.9212\n",
            "Epoch 518/600\n",
            "13/13 [==============================] - 0s 3ms/step - loss: 11.1665 - mae: 11.1665 - mse: 190.5452 - val_loss: 10.8193 - val_mae: 10.8193 - val_mse: 174.0374\n",
            "Epoch 519/600\n",
            "13/13 [==============================] - 0s 4ms/step - loss: 11.1778 - mae: 11.1778 - mse: 191.3326 - val_loss: 10.8501 - val_mae: 10.8501 - val_mse: 175.5284\n",
            "Epoch 520/600\n",
            "13/13 [==============================] - 0s 3ms/step - loss: 11.1801 - mae: 11.1801 - mse: 191.2421 - val_loss: 10.7962 - val_mae: 10.7962 - val_mse: 172.9917\n",
            "Epoch 521/600\n",
            "13/13 [==============================] - 0s 4ms/step - loss: 11.1744 - mae: 11.1744 - mse: 191.2120 - val_loss: 10.8661 - val_mae: 10.8661 - val_mse: 176.1499\n",
            "Epoch 522/600\n",
            "13/13 [==============================] - 0s 4ms/step - loss: 11.1720 - mae: 11.1720 - mse: 191.7274 - val_loss: 10.8434 - val_mae: 10.8434 - val_mse: 175.2350\n",
            "Epoch 523/600\n",
            "13/13 [==============================] - 0s 4ms/step - loss: 11.1688 - mae: 11.1688 - mse: 191.5209 - val_loss: 10.8039 - val_mae: 10.8039 - val_mse: 173.3825\n",
            "Epoch 524/600\n",
            "13/13 [==============================] - 0s 4ms/step - loss: 11.1865 - mae: 11.1865 - mse: 190.7683 - val_loss: 10.7958 - val_mae: 10.7958 - val_mse: 172.9789\n",
            "Epoch 525/600\n",
            "13/13 [==============================] - 0s 4ms/step - loss: 11.1483 - mae: 11.1483 - mse: 191.0178 - val_loss: 10.8991 - val_mae: 10.8991 - val_mse: 177.5214\n",
            "Epoch 526/600\n",
            "13/13 [==============================] - 0s 4ms/step - loss: 11.1936 - mae: 11.1936 - mse: 193.1168 - val_loss: 10.9131 - val_mae: 10.9131 - val_mse: 178.0595\n",
            "Epoch 527/600\n",
            "13/13 [==============================] - 0s 3ms/step - loss: 11.1604 - mae: 11.1604 - mse: 191.4945 - val_loss: 10.8259 - val_mae: 10.8259 - val_mse: 174.3607\n",
            "Epoch 528/600\n",
            "13/13 [==============================] - 0s 3ms/step - loss: 11.1702 - mae: 11.1702 - mse: 190.6229 - val_loss: 10.7837 - val_mae: 10.7837 - val_mse: 172.4143\n",
            "Epoch 529/600\n",
            "13/13 [==============================] - 0s 3ms/step - loss: 11.1790 - mae: 11.1790 - mse: 190.5699 - val_loss: 10.7842 - val_mae: 10.7842 - val_mse: 172.4372\n",
            "Epoch 530/600\n",
            "13/13 [==============================] - 0s 6ms/step - loss: 11.1741 - mae: 11.1741 - mse: 190.5882 - val_loss: 10.7979 - val_mae: 10.7979 - val_mse: 173.0984\n",
            "Epoch 531/600\n",
            "13/13 [==============================] - 0s 3ms/step - loss: 11.2301 - mae: 11.2301 - mse: 192.9817 - val_loss: 10.9217 - val_mae: 10.9217 - val_mse: 178.4005\n",
            "Epoch 532/600\n",
            "13/13 [==============================] - 0s 4ms/step - loss: 11.1678 - mae: 11.1678 - mse: 191.7425 - val_loss: 10.8202 - val_mae: 10.8202 - val_mse: 174.1003\n",
            "Epoch 533/600\n",
            "13/13 [==============================] - 0s 4ms/step - loss: 11.1662 - mae: 11.1662 - mse: 190.5106 - val_loss: 10.7779 - val_mae: 10.7779 - val_mse: 172.1732\n",
            "Epoch 534/600\n",
            "13/13 [==============================] - 0s 3ms/step - loss: 11.1700 - mae: 11.1700 - mse: 190.4619 - val_loss: 10.7986 - val_mae: 10.7986 - val_mse: 173.1416\n",
            "Epoch 535/600\n",
            "13/13 [==============================] - 0s 4ms/step - loss: 11.1969 - mae: 11.1969 - mse: 192.2673 - val_loss: 10.8551 - val_mae: 10.8551 - val_mse: 175.7331\n",
            "Epoch 536/600\n",
            "13/13 [==============================] - 0s 5ms/step - loss: 11.1791 - mae: 11.1791 - mse: 191.3875 - val_loss: 10.8374 - val_mae: 10.8374 - val_mse: 174.9474\n",
            "Epoch 537/600\n",
            "13/13 [==============================] - 0s 3ms/step - loss: 11.1715 - mae: 11.1715 - mse: 190.8914 - val_loss: 10.8091 - val_mae: 10.8091 - val_mse: 173.6130\n",
            "Epoch 538/600\n",
            "13/13 [==============================] - 0s 4ms/step - loss: 11.1730 - mae: 11.1730 - mse: 191.0365 - val_loss: 10.8064 - val_mae: 10.8064 - val_mse: 173.4989\n",
            "Epoch 539/600\n",
            "13/13 [==============================] - 0s 3ms/step - loss: 11.1633 - mae: 11.1633 - mse: 190.6920 - val_loss: 10.8349 - val_mae: 10.8349 - val_mse: 174.8289\n",
            "Epoch 540/600\n",
            "13/13 [==============================] - 0s 3ms/step - loss: 11.1751 - mae: 11.1751 - mse: 191.5055 - val_loss: 10.8250 - val_mae: 10.8250 - val_mse: 174.3363\n",
            "Epoch 541/600\n",
            "13/13 [==============================] - 0s 3ms/step - loss: 11.2056 - mae: 11.2056 - mse: 192.3587 - val_loss: 10.8417 - val_mae: 10.8417 - val_mse: 175.1879\n",
            "Epoch 542/600\n",
            "13/13 [==============================] - 0s 5ms/step - loss: 11.1661 - mae: 11.1661 - mse: 190.4012 - val_loss: 10.7883 - val_mae: 10.7883 - val_mse: 172.6399\n",
            "Epoch 543/600\n",
            "13/13 [==============================] - 0s 4ms/step - loss: 11.1672 - mae: 11.1672 - mse: 190.4968 - val_loss: 10.8065 - val_mae: 10.8065 - val_mse: 173.5062\n",
            "Epoch 544/600\n",
            "13/13 [==============================] - 0s 3ms/step - loss: 11.1998 - mae: 11.1998 - mse: 192.0717 - val_loss: 10.8554 - val_mae: 10.8554 - val_mse: 175.7491\n",
            "Epoch 545/600\n",
            "13/13 [==============================] - 0s 4ms/step - loss: 11.1636 - mae: 11.1636 - mse: 190.5905 - val_loss: 10.7792 - val_mae: 10.7792 - val_mse: 172.2367\n",
            "Epoch 546/600\n",
            "13/13 [==============================] - 0s 4ms/step - loss: 11.1908 - mae: 11.1908 - mse: 190.6881 - val_loss: 10.7644 - val_mae: 10.7644 - val_mse: 171.6768\n",
            "Epoch 547/600\n",
            "13/13 [==============================] - 0s 3ms/step - loss: 11.1617 - mae: 11.1617 - mse: 190.1212 - val_loss: 10.8200 - val_mae: 10.8200 - val_mse: 174.1119\n",
            "Epoch 548/600\n",
            "13/13 [==============================] - 0s 4ms/step - loss: 11.1931 - mae: 11.1931 - mse: 192.2038 - val_loss: 10.8404 - val_mae: 10.8404 - val_mse: 175.1352\n",
            "Epoch 549/600\n",
            "13/13 [==============================] - 0s 4ms/step - loss: 11.1850 - mae: 11.1850 - mse: 192.1465 - val_loss: 10.8776 - val_mae: 10.8776 - val_mse: 176.6295\n",
            "Epoch 550/600\n",
            "13/13 [==============================] - 0s 4ms/step - loss: 11.1753 - mae: 11.1753 - mse: 191.9742 - val_loss: 10.8442 - val_mae: 10.8442 - val_mse: 175.3075\n",
            "Epoch 551/600\n",
            "13/13 [==============================] - 0s 4ms/step - loss: 11.1594 - mae: 11.1594 - mse: 190.7762 - val_loss: 10.8029 - val_mae: 10.8029 - val_mse: 173.3632\n",
            "Epoch 552/600\n",
            "13/13 [==============================] - 0s 4ms/step - loss: 11.1925 - mae: 11.1925 - mse: 191.0823 - val_loss: 10.7612 - val_mae: 10.7612 - val_mse: 171.5727\n",
            "Epoch 553/600\n",
            "13/13 [==============================] - 0s 4ms/step - loss: 11.1740 - mae: 11.1740 - mse: 190.7420 - val_loss: 10.8138 - val_mae: 10.8138 - val_mse: 173.8378\n",
            "Epoch 554/600\n",
            "13/13 [==============================] - 0s 4ms/step - loss: 11.1650 - mae: 11.1650 - mse: 190.9153 - val_loss: 10.8303 - val_mae: 10.8303 - val_mse: 174.6228\n",
            "Epoch 555/600\n",
            "13/13 [==============================] - 0s 3ms/step - loss: 11.1742 - mae: 11.1742 - mse: 190.8975 - val_loss: 10.8228 - val_mae: 10.8228 - val_mse: 174.2552\n",
            "Epoch 556/600\n",
            "13/13 [==============================] - 0s 4ms/step - loss: 11.1626 - mae: 11.1626 - mse: 190.8294 - val_loss: 10.8327 - val_mae: 10.8327 - val_mse: 174.7469\n",
            "Epoch 557/600\n",
            "13/13 [==============================] - 0s 4ms/step - loss: 11.1731 - mae: 11.1731 - mse: 191.5262 - val_loss: 10.8375 - val_mae: 10.8375 - val_mse: 174.9991\n",
            "Epoch 558/600\n",
            "13/13 [==============================] - 0s 3ms/step - loss: 11.1666 - mae: 11.1666 - mse: 190.9778 - val_loss: 10.8190 - val_mae: 10.8190 - val_mse: 174.0823\n",
            "Epoch 559/600\n",
            "13/13 [==============================] - 0s 5ms/step - loss: 11.1641 - mae: 11.1641 - mse: 190.5390 - val_loss: 10.8017 - val_mae: 10.8017 - val_mse: 173.3197\n",
            "Epoch 560/600\n",
            "13/13 [==============================] - 0s 4ms/step - loss: 11.1643 - mae: 11.1643 - mse: 190.5652 - val_loss: 10.8179 - val_mae: 10.8179 - val_mse: 174.0318\n",
            "Epoch 561/600\n",
            "13/13 [==============================] - 0s 4ms/step - loss: 11.1688 - mae: 11.1688 - mse: 190.9257 - val_loss: 10.7963 - val_mae: 10.7963 - val_mse: 173.0763\n",
            "Epoch 562/600\n",
            "13/13 [==============================] - 0s 5ms/step - loss: 11.1723 - mae: 11.1723 - mse: 191.0508 - val_loss: 10.8454 - val_mae: 10.8454 - val_mse: 175.3752\n",
            "Epoch 563/600\n",
            "13/13 [==============================] - 0s 5ms/step - loss: 11.1654 - mae: 11.1654 - mse: 191.0556 - val_loss: 10.8318 - val_mae: 10.8318 - val_mse: 174.7167\n",
            "Epoch 564/600\n",
            "13/13 [==============================] - 0s 4ms/step - loss: 11.1653 - mae: 11.1653 - mse: 190.9413 - val_loss: 10.8183 - val_mae: 10.8183 - val_mse: 174.0607\n",
            "Epoch 565/600\n",
            "13/13 [==============================] - 0s 4ms/step - loss: 11.1795 - mae: 11.1795 - mse: 190.8846 - val_loss: 10.7666 - val_mae: 10.7666 - val_mse: 171.7541\n",
            "Epoch 566/600\n",
            "13/13 [==============================] - 0s 4ms/step - loss: 11.1638 - mae: 11.1638 - mse: 190.2591 - val_loss: 10.7999 - val_mae: 10.7999 - val_mse: 173.2521\n",
            "Epoch 567/600\n",
            "13/13 [==============================] - 0s 4ms/step - loss: 11.1572 - mae: 11.1572 - mse: 190.9451 - val_loss: 10.8458 - val_mae: 10.8458 - val_mse: 175.3956\n",
            "Epoch 568/600\n",
            "13/13 [==============================] - 0s 3ms/step - loss: 11.1693 - mae: 11.1693 - mse: 191.2338 - val_loss: 10.8322 - val_mae: 10.8322 - val_mse: 174.7456\n",
            "Epoch 569/600\n",
            "13/13 [==============================] - 0s 5ms/step - loss: 11.1728 - mae: 11.1728 - mse: 191.7651 - val_loss: 10.8752 - val_mae: 10.8752 - val_mse: 176.5445\n",
            "Epoch 570/600\n",
            "13/13 [==============================] - 0s 4ms/step - loss: 11.1671 - mae: 11.1671 - mse: 191.7333 - val_loss: 10.8367 - val_mae: 10.8367 - val_mse: 174.9864\n",
            "Epoch 571/600\n",
            "13/13 [==============================] - 0s 4ms/step - loss: 11.1921 - mae: 11.1921 - mse: 191.0247 - val_loss: 10.7636 - val_mae: 10.7636 - val_mse: 171.6483\n",
            "Epoch 572/600\n",
            "13/13 [==============================] - 0s 4ms/step - loss: 11.1602 - mae: 11.1602 - mse: 190.2131 - val_loss: 10.8180 - val_mae: 10.8180 - val_mse: 174.0569\n",
            "Epoch 573/600\n",
            "13/13 [==============================] - 0s 4ms/step - loss: 11.1840 - mae: 11.1840 - mse: 191.0890 - val_loss: 10.8441 - val_mae: 10.8441 - val_mse: 175.3284\n",
            "Epoch 574/600\n",
            "13/13 [==============================] - 0s 4ms/step - loss: 11.1660 - mae: 11.1660 - mse: 191.5676 - val_loss: 10.8427 - val_mae: 10.8427 - val_mse: 175.2706\n",
            "Epoch 575/600\n",
            "13/13 [==============================] - 0s 4ms/step - loss: 11.1621 - mae: 11.1621 - mse: 191.1365 - val_loss: 10.8299 - val_mae: 10.8299 - val_mse: 174.6427\n",
            "Epoch 576/600\n",
            "13/13 [==============================] - 0s 4ms/step - loss: 11.1709 - mae: 11.1709 - mse: 191.2954 - val_loss: 10.8209 - val_mae: 10.8209 - val_mse: 174.2018\n",
            "Epoch 577/600\n",
            "13/13 [==============================] - 0s 4ms/step - loss: 11.1759 - mae: 11.1759 - mse: 190.8671 - val_loss: 10.7682 - val_mae: 10.7682 - val_mse: 171.8151\n",
            "Epoch 578/600\n",
            "13/13 [==============================] - 0s 4ms/step - loss: 11.1611 - mae: 11.1611 - mse: 190.4158 - val_loss: 10.8350 - val_mae: 10.8350 - val_mse: 174.9177\n",
            "Epoch 579/600\n",
            "13/13 [==============================] - 0s 6ms/step - loss: 11.1599 - mae: 11.1599 - mse: 191.0980 - val_loss: 10.8415 - val_mae: 10.8415 - val_mse: 175.2248\n",
            "Epoch 580/600\n",
            "13/13 [==============================] - 0s 4ms/step - loss: 11.1622 - mae: 11.1622 - mse: 190.9337 - val_loss: 10.8205 - val_mae: 10.8205 - val_mse: 174.1902\n",
            "Epoch 581/600\n",
            "13/13 [==============================] - 0s 4ms/step - loss: 11.1650 - mae: 11.1650 - mse: 190.7037 - val_loss: 10.8101 - val_mae: 10.8101 - val_mse: 173.7068\n",
            "Epoch 582/600\n",
            "13/13 [==============================] - 0s 4ms/step - loss: 11.1646 - mae: 11.1646 - mse: 190.8857 - val_loss: 10.8149 - val_mae: 10.8149 - val_mse: 173.9277\n",
            "Epoch 583/600\n",
            "13/13 [==============================] - 0s 4ms/step - loss: 11.1810 - mae: 11.1810 - mse: 191.4569 - val_loss: 10.8087 - val_mae: 10.8087 - val_mse: 173.6453\n",
            "Epoch 584/600\n",
            "13/13 [==============================] - 0s 4ms/step - loss: 11.1580 - mae: 11.1580 - mse: 190.4697 - val_loss: 10.8065 - val_mae: 10.8065 - val_mse: 173.5507\n",
            "Epoch 585/600\n",
            "13/13 [==============================] - 0s 4ms/step - loss: 11.1640 - mae: 11.1640 - mse: 190.5601 - val_loss: 10.8023 - val_mae: 10.8023 - val_mse: 173.3699\n",
            "Epoch 586/600\n",
            "13/13 [==============================] - 0s 4ms/step - loss: 11.1745 - mae: 11.1745 - mse: 191.2992 - val_loss: 10.8570 - val_mae: 10.8570 - val_mse: 175.8248\n",
            "Epoch 587/600\n",
            "13/13 [==============================] - 0s 3ms/step - loss: 11.1552 - mae: 11.1552 - mse: 190.5683 - val_loss: 10.7986 - val_mae: 10.7986 - val_mse: 173.2198\n",
            "Epoch 588/600\n",
            "13/13 [==============================] - 0s 4ms/step - loss: 11.1631 - mae: 11.1631 - mse: 190.3864 - val_loss: 10.7757 - val_mae: 10.7757 - val_mse: 172.1256\n",
            "Epoch 589/600\n",
            "13/13 [==============================] - 0s 4ms/step - loss: 11.1710 - mae: 11.1710 - mse: 190.8540 - val_loss: 10.8318 - val_mae: 10.8318 - val_mse: 174.7715\n",
            "Epoch 590/600\n",
            "13/13 [==============================] - 0s 4ms/step - loss: 11.1697 - mae: 11.1697 - mse: 191.2440 - val_loss: 10.8224 - val_mae: 10.8224 - val_mse: 174.2996\n",
            "Epoch 591/600\n",
            "13/13 [==============================] - 0s 4ms/step - loss: 11.1682 - mae: 11.1682 - mse: 191.3131 - val_loss: 10.8287 - val_mae: 10.8287 - val_mse: 174.6183\n",
            "Epoch 592/600\n",
            "13/13 [==============================] - 0s 4ms/step - loss: 11.1758 - mae: 11.1758 - mse: 190.8108 - val_loss: 10.7448 - val_mae: 10.7448 - val_mse: 171.0245\n",
            "Epoch 593/600\n",
            "13/13 [==============================] - 0s 4ms/step - loss: 11.2311 - mae: 11.2311 - mse: 192.3889 - val_loss: 10.8275 - val_mae: 10.8275 - val_mse: 174.5575\n",
            "Epoch 594/600\n",
            "13/13 [==============================] - 0s 4ms/step - loss: 11.1743 - mae: 11.1743 - mse: 190.5438 - val_loss: 10.7840 - val_mae: 10.7840 - val_mse: 172.5125\n",
            "Epoch 595/600\n",
            "13/13 [==============================] - 0s 4ms/step - loss: 11.1676 - mae: 11.1676 - mse: 190.9531 - val_loss: 10.8573 - val_mae: 10.8573 - val_mse: 175.8413\n",
            "Epoch 596/600\n",
            "13/13 [==============================] - 0s 4ms/step - loss: 11.1773 - mae: 11.1773 - mse: 191.1646 - val_loss: 10.8029 - val_mae: 10.8029 - val_mse: 173.4101\n",
            "Epoch 597/600\n",
            "13/13 [==============================] - 0s 4ms/step - loss: 11.2214 - mae: 11.2214 - mse: 192.7660 - val_loss: 10.8831 - val_mae: 10.8831 - val_mse: 176.8953\n",
            "Epoch 598/600\n",
            "13/13 [==============================] - 0s 4ms/step - loss: 11.1600 - mae: 11.1600 - mse: 190.7040 - val_loss: 10.7781 - val_mae: 10.7781 - val_mse: 172.2435\n",
            "Epoch 599/600\n",
            "13/13 [==============================] - 0s 4ms/step - loss: 11.2097 - mae: 11.2097 - mse: 191.1640 - val_loss: 10.7616 - val_mae: 10.7616 - val_mse: 171.5812\n",
            "Epoch 600/600\n",
            "13/13 [==============================] - 0s 4ms/step - loss: 11.1482 - mae: 11.1482 - mse: 190.7840 - val_loss: 10.8729 - val_mae: 10.8729 - val_mse: 176.4673\n"
          ],
          "name": "stdout"
        }
      ]
    },
    {
      "cell_type": "code",
      "metadata": {
        "colab": {
          "base_uri": "https://localhost:8080/"
        },
        "id": "7Naj7L0w-7jW",
        "outputId": "6c546aa7-3515-45ea-9b9d-f6a6343cdaa5"
      },
      "source": [
        "print(history)"
      ],
      "execution_count": 33,
      "outputs": [
        {
          "output_type": "stream",
          "text": [
            "<tensorflow.python.keras.callbacks.History object at 0x7fe878e3d610>\n"
          ],
          "name": "stdout"
        }
      ]
    },
    {
      "cell_type": "code",
      "metadata": {
        "colab": {
          "base_uri": "https://localhost:8080/"
        },
        "id": "YPRbkJ0x-8tR",
        "outputId": "64489f19-404d-4ed8-abc2-4d9d6f944828"
      },
      "source": [
        "model.summary()"
      ],
      "execution_count": 34,
      "outputs": [
        {
          "output_type": "stream",
          "text": [
            "Model: \"sequential\"\n",
            "_________________________________________________________________\n",
            "Layer (type)                 Output Shape              Param #   \n",
            "=================================================================\n",
            "dense (Dense)                (None, 6)                 12        \n",
            "_________________________________________________________________\n",
            "dense_1 (Dense)              (None, 1)                 7         \n",
            "=================================================================\n",
            "Total params: 19\n",
            "Trainable params: 19\n",
            "Non-trainable params: 0\n",
            "_________________________________________________________________\n"
          ],
          "name": "stdout"
        }
      ]
    },
    {
      "cell_type": "code",
      "metadata": {
        "colab": {
          "base_uri": "https://localhost:8080/",
          "height": 1000
        },
        "id": "R-RO5mvlAaxi",
        "outputId": "2f189936-fb73-4e37-b507-595130f4a130"
      },
      "source": [
        "# tempString = 'mse'\n",
        "def curvePlots(tempString):\n",
        "  plt.plot(history.history[tempString])\n",
        "  plt.plot(history.history[f'val_{tempString}'])\n",
        "  plt.xlabel('NumEpochs')\n",
        "  plt.ylabel(tempString)\n",
        "  \n",
        "  plt.legend([tempString, f'val_{tempString}'])\n",
        "  plt.show()\n",
        "\n",
        "\n",
        "curvePlots('mse')\n",
        "curvePlots('mae')\n",
        "curvePlots('loss')"
      ],
      "execution_count": 35,
      "outputs": [
        {
          "output_type": "display_data",
          "data": {
            "image/png": "[encoded data removed]",
            "text/plain": [
              "<Figure size 576x396 with 1 Axes>"
            ]
          },
          "metadata": {
            "tags": []
          }
        },
        {
          "output_type": "display_data",
          "data": {
            "image/png": "[encoded data removed]",
            "text/plain": [
              "<Figure size 576x396 with 1 Axes>"
            ]
          },
          "metadata": {
            "tags": []
          }
        },
        {
          "output_type": "display_data",
          "data": {
            "image/png": "[encoded data removed]",
            "text/plain": [
              "<Figure size 576x396 with 1 Axes>"
            ]
          },
          "metadata": {
            "tags": []
          }
        }
      ]
    },
    {
      "cell_type": "code",
      "metadata": {
        "colab": {
          "base_uri": "https://localhost:8080/"
        },
        "id": "r5ud2BfzBLWi",
        "outputId": "08952077-8e9b-4630-9cf5-8d2e63c589cb"
      },
      "source": [
        "model.predict([77.2])"
      ],
      "execution_count": 36,
      "outputs": [
        {
          "output_type": "execute_result",
          "data": {
            "text/plain": [
              "array([[208.8998]], dtype=float32)"
            ]
          },
          "metadata": {
            "tags": []
          },
          "execution_count": 36
        }
      ]
    },
    {
      "cell_type": "code",
      "metadata": {
        "id": "8LtRcZY5BjSD"
      },
      "source": [
        "testPreds = model.predict(testFeatures)\n",
        "testPreds_Array=testPreds.flatten() #array of all prediction values"
      ],
      "execution_count": 37,
      "outputs": []
    },
    {
      "cell_type": "code",
      "metadata": {
        "colab": {
          "base_uri": "https://localhost:8080/"
        },
        "id": "ogmo8gy3Bl06",
        "outputId": "f0b27220-371a-426f-a485-ebb92731823e"
      },
      "source": [
        "print(len(testPreds_Array))\n",
        "print(testPreds_Array)"
      ],
      "execution_count": 38,
      "outputs": [
        {
          "output_type": "stream",
          "text": [
            "100\n",
            "[171.16454 184.03502 182.05048 200.20645 193.32689 177.61913 173.49203\n",
            " 176.1448  195.09647 181.80223 191.25732 187.18013 188.20761 199.63623\n",
            " 178.03722 186.25217 184.31076 176.05339 187.51517 185.6521  199.24927\n",
            " 184.49501 193.81439 185.61974 191.33174 187.22203 177.61623 191.88193\n",
            " 176.36462 181.53616 175.72789 184.13249 178.32704 184.31482 184.13579\n",
            " 179.77406 184.42767 188.38629 196.81668 195.43155 205.4525  203.24597\n",
            " 173.78676 190.02258 181.56947 186.5263  190.97804 184.27415 171.67952\n",
            " 191.85776 175.214   191.68198 195.33371 178.79736 183.73515 191.3138\n",
            " 202.27095 192.0603  187.30283 181.92726 193.98654 176.18785 191.662\n",
            " 193.91466 180.20926 190.23885 186.43942 190.47885 180.24069 186.71654\n",
            " 193.79073 181.57271 184.79515 186.08551 184.42079 183.68076 181.62521\n",
            " 177.64008 188.27919 190.82155 195.24724 177.9626  185.15208 183.3838\n",
            " 181.20325 171.75786 187.00389 178.21611 186.5987  188.24971 197.2627\n",
            " 194.50317 180.83058 184.952   180.24008 186.36476 195.7496  176.59576\n",
            " 192.45099 192.09648]\n"
          ],
          "name": "stdout"
        }
      ]
    },
    {
      "cell_type": "code",
      "metadata": {
        "colab": {
          "base_uri": "https://localhost:8080/",
          "height": 361
        },
        "id": "D3GwZkABBn6D",
        "outputId": "439f7375-b601-449f-f6ac-cbb917eccf72"
      },
      "source": [
        "# prediciton plot --> how well is your model predicting across the actual labels\n",
        "\n",
        "def predPlot(labels, predictions):\n",
        "  plt.scatter(labels, predictions)\n",
        "  plt.ylabel('Predictions')\n",
        "  plt.xlabel('True Value or Labels')\n",
        "  plt.axis('equal')\n",
        "  plt.axis('square')\n",
        "  plt.xlim([0, plt.xlim()[1]])\n",
        "  plt.ylim([0, plt.ylim()[1]])\n",
        "  plt.show()\n",
        "\n",
        "predPlot(testLabels, testPreds_Array)"
      ],
      "execution_count": 39,
      "outputs": [
        {
          "output_type": "display_data",
          "data": {
            "image/png": "[encoded data removed]",
            "text/plain": [
              "<Figure size 576x396 with 1 Axes>"
            ]
          },
          "metadata": {
            "tags": []
          }
        }
      ]
    },
    {
      "cell_type": "code",
      "metadata": {
        "colab": {
          "base_uri": "https://localhost:8080/",
          "height": 361
        },
        "id": "AKg26JRzBv77",
        "outputId": "8ccf3e61-53ab-4f65-aa34-afc269e1b267"
      },
      "source": [
        "\n",
        "#error plot --> gaussian distribution \n",
        "\n",
        "def errorPlot(preds, labels, counts):\n",
        "  errors = preds - labels\n",
        "  plt.hist(errors, counts)\n",
        "  plt.xlabel('Error')\n",
        "  plt.ylabel('Counts')\n",
        "  plt.show()\n",
        "\n",
        "errorPlot(testPreds_Array, testLabels, numEpochs)"
      ],
      "execution_count": 40,
      "outputs": [
        {
          "output_type": "display_data",
          "data": {
            "image/png": "[encoded data removed]",
            "text/plain": [
              "<Figure size 576x396 with 1 Axes>"
            ]
          },
          "metadata": {
            "tags": []
          }
        }
      ]
    },
    {
      "cell_type": "markdown",
      "metadata": {
        "id": "M5zZPXA3CPVs"
      },
      "source": [
        "# Using Other models on the dataset"
      ]
    },
    {
      "cell_type": "markdown",
      "metadata": {
        "id": "CGoUFjUHCR_u"
      },
      "source": [
        "## Simple Linear Regression"
      ]
    },
    {
      "cell_type": "code",
      "metadata": {
        "colab": {
          "base_uri": "https://localhost:8080/"
        },
        "id": "HPz14SBoCJn3",
        "outputId": "4f7e70ee-0b8b-44f6-ccb5-8020d7c36806"
      },
      "source": [
        "from sklearn.linear_model import LinearRegression\n",
        "regressor = LinearRegression()\n",
        "regressor.fit(trainFeatures, trainLabels)"
      ],
      "execution_count": 41,
      "outputs": [
        {
          "output_type": "execute_result",
          "data": {
            "text/plain": [
              "LinearRegression(copy_X=True, fit_intercept=True, n_jobs=None, normalize=False)"
            ]
          },
          "metadata": {
            "tags": []
          },
          "execution_count": 41
        }
      ]
    },
    {
      "cell_type": "code",
      "metadata": {
        "id": "NE5DdkRbCWcM"
      },
      "source": [
        "testPreds_LR = regressor.predict(testFeatures)\n",
        "testPreds_LR_Array=testPreds_LR.flatten()   #Flattening to 1d array"
      ],
      "execution_count": 42,
      "outputs": []
    },
    {
      "cell_type": "code",
      "metadata": {
        "colab": {
          "base_uri": "https://localhost:8080/",
          "height": 0
        },
        "id": "aNsnKV-iCXHa",
        "outputId": "6caa592f-be40-4f4b-9873-f50b993234b0"
      },
      "source": [
        "plt.grid(True)\n",
        "plt.scatter(testFeatures, testLabels, color = 'red')\n",
        "plt.plot(trainFeatures, regressor.predict(trainFeatures), color = 'blue')\n",
        "plt.title('G1 Vs G3 (Test set)')\n",
        "plt.xlabel('G1')\n",
        "plt.ylabel('G3')\n",
        "plt.show()"
      ],
      "execution_count": 43,
      "outputs": [
        {
          "output_type": "display_data",
          "data": {
            "image/png": "[encoded data removed]",
            "text/plain": [
              "<Figure size 576x396 with 1 Axes>"
            ]
          },
          "metadata": {
            "tags": []
          }
        }
      ]
    },
    {
      "cell_type": "markdown",
      "metadata": {
        "id": "vN-EituMF9cE"
      },
      "source": [
        "#Support Vector Machine"
      ]
    },
    {
      "cell_type": "code",
      "metadata": {
        "colab": {
          "base_uri": "https://localhost:8080/"
        },
        "id": "PSufi2WzF-OU",
        "outputId": "a92cec6e-4eab-493a-bfca-d5f5ecc245f1"
      },
      "source": [
        "from sklearn.svm import SVR\n",
        "SVM_regressor = SVR(kernel = 'rbf')\n",
        "SVM_regressor.fit(trainFeatures, trainLabels)"
      ],
      "execution_count": 44,
      "outputs": [
        {
          "output_type": "execute_result",
          "data": {
            "text/plain": [
              "SVR(C=1.0, cache_size=200, coef0=0.0, degree=3, epsilon=0.1, gamma='scale',\n",
              "    kernel='rbf', max_iter=-1, shrinking=True, tol=0.001, verbose=False)"
            ]
          },
          "metadata": {
            "tags": []
          },
          "execution_count": 44
        }
      ]
    },
    {
      "cell_type": "code",
      "metadata": {
        "id": "d4zQVo89GA2t"
      },
      "source": [
        "testPreds_SVM=SVM_regressor.predict(testFeatures)\n",
        "testPreds_SVM_Array=testPreds_SVM.flatten()"
      ],
      "execution_count": 45,
      "outputs": []
    },
    {
      "cell_type": "code",
      "metadata": {
        "colab": {
          "base_uri": "https://localhost:8080/"
        },
        "id": "EFN3Ox5xGC2-",
        "outputId": "6e0ae971-5f47-42dc-fe74-be405b43f98c"
      },
      "source": [
        "CompareModels_df=pd.DataFrame({'testLabels':testLabels,'testPreds':testPreds_Array,'testPreds_LR':testPreds_LR_Array,'testPreds_SVM':testPreds_SVM_Array})\n",
        "print(CompareModels_df.head(15))"
      ],
      "execution_count": 46,
      "outputs": [
        {
          "output_type": "stream",
          "text": [
            "    testLabels   testPreds  testPreds_LR  testPreds_SVM\n",
            "9   156.399676  171.164536    154.261263     168.690299\n",
            "25  192.343977  184.035019    182.534349     182.130680\n",
            "28  175.213922  182.050476    178.174808     176.977416\n",
            "31  212.910225  200.206451    218.058772     208.414757\n",
            "32  195.032243  193.326889    202.946192     201.194730\n",
            "38  163.851825  177.619125    168.440342     168.873780\n",
            "39  163.108017  173.492035    159.374164     167.352368\n",
            "42  168.617746  176.144806    165.201584     167.670971\n",
            "47  209.070863  195.096466    206.833479     203.967716\n",
            "53  181.407679  181.802231    177.629488     176.373930\n",
            "57  192.124847  191.257324    198.399875     197.924805\n",
            "70  184.595608  187.180130    189.443343     190.168517\n",
            "72  177.200929  188.207611    191.700438     192.425933\n",
            "82  237.916736  199.636230    216.806138     208.446641\n",
            "84  160.683917  178.037216    169.358717     169.357372\n"
          ],
          "name": "stdout"
        }
      ]
    },
    {
      "cell_type": "code",
      "metadata": {
        "colab": {
          "base_uri": "https://localhost:8080/"
        },
        "id": "AfsrYqvSGJ7e",
        "outputId": "6cb71d83-6e6d-4964-d80c-a3d6e15a64ee"
      },
      "source": [
        "Errors_df=pd.DataFrame({'PerceptronError':abs(testLabels-testPreds_Array),'LR_Error':abs(testLabels-testPreds_LR_Array),'SVM_Error':abs(testLabels-testPreds_SVM_Array)})\n",
        "print(Errors_df.head(15))"
      ],
      "execution_count": 47,
      "outputs": [
        {
          "output_type": "stream",
          "text": [
            "    PerceptronError   LR_Error  SVM_Error\n",
            "9         14.764859   2.138414  12.290623\n",
            "25         8.308958   9.809627  10.213297\n",
            "28         6.836554   2.960886   1.763494\n",
            "31        12.703774   5.148547   4.495468\n",
            "32         1.705354   7.913949   6.162487\n",
            "38        13.767300   4.588517   5.021956\n",
            "39        10.384018   3.733853   4.244350\n",
            "42         7.527060   3.416162   0.946775\n",
            "47        13.974397   2.237385   5.103148\n",
            "53         0.394552   3.778192   5.033750\n",
            "57         0.867523   6.275028   5.799957\n",
            "70         2.584522   4.847734   5.572909\n",
            "72        11.006682  14.499509  15.225004\n",
            "82        38.280505  21.110598  29.470095\n",
            "84        17.353300   8.674801   8.673456\n"
          ],
          "name": "stdout"
        }
      ]
    },
    {
      "cell_type": "markdown",
      "metadata": {
        "id": "cs32WxRZGPrC"
      },
      "source": [
        "# Rsquared test"
      ]
    },
    {
      "cell_type": "code",
      "metadata": {
        "colab": {
          "base_uri": "https://localhost:8080/"
        },
        "id": "iuTMHehuGQUv",
        "outputId": "f094a0f0-90c6-45cc-b799-d3782a634d97"
      },
      "source": [
        "r2_score_LR=regressor.score(testFeatures,testLabels)\n",
        "print(r2_score_LR*100)"
      ],
      "execution_count": 48,
      "outputs": [
        {
          "output_type": "stream",
          "text": [
            "69.894516942171\n"
          ],
          "name": "stdout"
        }
      ]
    },
    {
      "cell_type": "code",
      "metadata": {
        "colab": {
          "base_uri": "https://localhost:8080/"
        },
        "id": "e9dHM0gXGTmp",
        "outputId": "240ecd84-d9d7-4515-c728-1cd19a95fa3e"
      },
      "source": [
        "r2_score_SVM=SVM_regressor.score(testFeatures,testLabels)\n",
        "print(r2_score_SVM*100)"
      ],
      "execution_count": 49,
      "outputs": [
        {
          "output_type": "stream",
          "text": [
            "61.22648934303421\n"
          ],
          "name": "stdout"
        }
      ]
    },
    {
      "cell_type": "markdown",
      "metadata": {
        "id": "kBauAKyjGdzE"
      },
      "source": [
        "` The model is performing well on Simple Linear Regression then SVM`"
      ]
    },
    {
      "cell_type": "markdown",
      "metadata": {
        "id": "zNu6GXDxI2Nu"
      },
      "source": [
        "``` Predicting the target value with a single feature is insufficient and the loss is too high which can't be minimized in anyway ```\n",
        "###### Multiple Features are must to train a good model. Hence on the above dataset I can't find anything that I can Improve."
      ]
    }
  ]
}