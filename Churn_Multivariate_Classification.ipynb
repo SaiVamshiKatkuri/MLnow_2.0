{
  "nbformat": 4,
  "nbformat_minor": 0,
  "metadata": {
    "colab": {
      "name": "Churn_Multivariate_Classification.ipynb",
      "provenance": [],
      "authorship_tag": "ABX9TyP0cfSMWVeZwAFlHyvenbPX",
      "include_colab_link": true
    },
    "kernelspec": {
      "name": "python3",
      "display_name": "Python 3"
    },
    "language_info": {
      "name": "python"
    }
  },
  "cells": [
    {
      "cell_type": "markdown",
      "metadata": {
        "id": "view-in-github",
        "colab_type": "text"
      },
      "source": [
        "<a href=\"https://colab.research.google.com/github/SaiVamshiKatkuri/MLnow_2.0/blob/main/Churn_Multivariate_Classification.ipynb\" target=\"_parent\"><img src=\"https://colab.research.google.com/assets/colab-badge.svg\" alt=\"Open In Colab\"/></a>"
      ]
    },
    {
      "cell_type": "markdown",
      "metadata": {
        "id": "lvcJ-vuK9UCX"
      },
      "source": [
        "**Topic**: `MultiVariate Classification`\n",
        "\n",
        "[Link to download the Dataset](https://www.kaggle.com/shrutimechlearn/churn-modelling?select=Churn_Modelling.csv)\n",
        "\n",
        "\n",
        "**AUTHOR**: Sai Vamshi Katkuri\n",
        "[Assessment Repository](https://github.com/SaiVamshiKatkuri/MLnow_2.0)\n",
        "\n",
        "**Reach out** :[Email](https://mail.google.com/mail/u/0/?tab=rm&ogbl#inbox) | [Linkedin](https://www.linkedin.com/in/katkuri-sai-vamshi-2209281a8/) | [Github](https://github.com/SaiVamshiKatkuri)\n",
        "\n",
        "*Multivariate Modelling* using `ANN` and other `ML` techniques\n",
        "\n",
        "**Description**: The dataset contains multiple features and in the end predicts a single column that tells whether a customer leaves from the bank or not. Churn modelling now a days plays a vital role in many fields. Because this is a chance to prevent customer from leaving our service. We can target the customers who are about to leave and provide them with considerable offers.\n",
        "\n"
      ]
    },
    {
      "cell_type": "markdown",
      "metadata": {
        "id": "o624GYV9-ZK5"
      },
      "source": [
        "## Setup"
      ]
    },
    {
      "cell_type": "code",
      "metadata": {
        "colab": {
          "base_uri": "https://localhost:8080/",
          "height": 304
        },
        "id": "Z26usAdk4ulZ",
        "outputId": "89e1cd7e-f29b-4df9-8f37-67eeb21123c5"
      },
      "source": [
        "from google.colab import drive\n",
        "drive.mount('/content/drive')"
      ],
      "execution_count": 4,
      "outputs": [
        {
          "output_type": "error",
          "ename": "MessageError",
          "evalue": "Error: credential propagation was unsuccessful",
          "traceback": [
            "\u001b[0;31m---------------------------------------------------------------------------\u001b[0m",
            "\u001b[0;31mMessageError\u001b[0m                              Traceback (most recent call last)",
            "\u001b[0;32m<ipython-input-4-d5df0069828e>\u001b[0m in \u001b[0;36m<cell line: 0>\u001b[0;34m()\u001b[0m\n\u001b[1;32m      1\u001b[0m \u001b[0;32mfrom\u001b[0m \u001b[0mgoogle\u001b[0m\u001b[0;34m.\u001b[0m\u001b[0mcolab\u001b[0m \u001b[0;32mimport\u001b[0m \u001b[0mdrive\u001b[0m\u001b[0;34m\u001b[0m\u001b[0;34m\u001b[0m\u001b[0m\n\u001b[0;32m----> 2\u001b[0;31m \u001b[0mdrive\u001b[0m\u001b[0;34m.\u001b[0m\u001b[0mmount\u001b[0m\u001b[0;34m(\u001b[0m\u001b[0;34m'/content/drive'\u001b[0m\u001b[0;34m)\u001b[0m\u001b[0;34m\u001b[0m\u001b[0;34m\u001b[0m\u001b[0m\n\u001b[0m",
            "\u001b[0;32m/usr/local/lib/python3.11/dist-packages/google/colab/drive.py\u001b[0m in \u001b[0;36mmount\u001b[0;34m(mountpoint, force_remount, timeout_ms, readonly)\u001b[0m\n\u001b[1;32m     98\u001b[0m \u001b[0;32mdef\u001b[0m \u001b[0mmount\u001b[0m\u001b[0;34m(\u001b[0m\u001b[0mmountpoint\u001b[0m\u001b[0;34m,\u001b[0m \u001b[0mforce_remount\u001b[0m\u001b[0;34m=\u001b[0m\u001b[0;32mFalse\u001b[0m\u001b[0;34m,\u001b[0m \u001b[0mtimeout_ms\u001b[0m\u001b[0;34m=\u001b[0m\u001b[0;36m120000\u001b[0m\u001b[0;34m,\u001b[0m \u001b[0mreadonly\u001b[0m\u001b[0;34m=\u001b[0m\u001b[0;32mFalse\u001b[0m\u001b[0;34m)\u001b[0m\u001b[0;34m:\u001b[0m\u001b[0;34m\u001b[0m\u001b[0;34m\u001b[0m\u001b[0m\n\u001b[1;32m     99\u001b[0m   \u001b[0;34m\"\"\"Mount your Google Drive at the specified mountpoint path.\"\"\"\u001b[0m\u001b[0;34m\u001b[0m\u001b[0;34m\u001b[0m\u001b[0m\n\u001b[0;32m--> 100\u001b[0;31m   return _mount(\n\u001b[0m\u001b[1;32m    101\u001b[0m       \u001b[0mmountpoint\u001b[0m\u001b[0;34m,\u001b[0m\u001b[0;34m\u001b[0m\u001b[0;34m\u001b[0m\u001b[0m\n\u001b[1;32m    102\u001b[0m       \u001b[0mforce_remount\u001b[0m\u001b[0;34m=\u001b[0m\u001b[0mforce_remount\u001b[0m\u001b[0;34m,\u001b[0m\u001b[0;34m\u001b[0m\u001b[0;34m\u001b[0m\u001b[0m\n",
            "\u001b[0;32m/usr/local/lib/python3.11/dist-packages/google/colab/drive.py\u001b[0m in \u001b[0;36m_mount\u001b[0;34m(mountpoint, force_remount, timeout_ms, ephemeral, readonly)\u001b[0m\n\u001b[1;32m    135\u001b[0m   )\n\u001b[1;32m    136\u001b[0m   \u001b[0;32mif\u001b[0m \u001b[0mephemeral\u001b[0m\u001b[0;34m:\u001b[0m\u001b[0;34m\u001b[0m\u001b[0;34m\u001b[0m\u001b[0m\n\u001b[0;32m--> 137\u001b[0;31m     _message.blocking_request(\n\u001b[0m\u001b[1;32m    138\u001b[0m         \u001b[0;34m'request_auth'\u001b[0m\u001b[0;34m,\u001b[0m\u001b[0;34m\u001b[0m\u001b[0;34m\u001b[0m\u001b[0m\n\u001b[1;32m    139\u001b[0m         \u001b[0mrequest\u001b[0m\u001b[0;34m=\u001b[0m\u001b[0;34m{\u001b[0m\u001b[0;34m'authType'\u001b[0m\u001b[0;34m:\u001b[0m \u001b[0;34m'dfs_ephemeral'\u001b[0m\u001b[0;34m}\u001b[0m\u001b[0;34m,\u001b[0m\u001b[0;34m\u001b[0m\u001b[0;34m\u001b[0m\u001b[0m\n",
            "\u001b[0;32m/usr/local/lib/python3.11/dist-packages/google/colab/_message.py\u001b[0m in \u001b[0;36mblocking_request\u001b[0;34m(request_type, request, timeout_sec, parent)\u001b[0m\n\u001b[1;32m    174\u001b[0m       \u001b[0mrequest_type\u001b[0m\u001b[0;34m,\u001b[0m \u001b[0mrequest\u001b[0m\u001b[0;34m,\u001b[0m \u001b[0mparent\u001b[0m\u001b[0;34m=\u001b[0m\u001b[0mparent\u001b[0m\u001b[0;34m,\u001b[0m \u001b[0mexpect_reply\u001b[0m\u001b[0;34m=\u001b[0m\u001b[0;32mTrue\u001b[0m\u001b[0;34m\u001b[0m\u001b[0;34m\u001b[0m\u001b[0m\n\u001b[1;32m    175\u001b[0m   )\n\u001b[0;32m--> 176\u001b[0;31m   \u001b[0;32mreturn\u001b[0m \u001b[0mread_reply_from_input\u001b[0m\u001b[0;34m(\u001b[0m\u001b[0mrequest_id\u001b[0m\u001b[0;34m,\u001b[0m \u001b[0mtimeout_sec\u001b[0m\u001b[0;34m)\u001b[0m\u001b[0;34m\u001b[0m\u001b[0;34m\u001b[0m\u001b[0m\n\u001b[0m",
            "\u001b[0;32m/usr/local/lib/python3.11/dist-packages/google/colab/_message.py\u001b[0m in \u001b[0;36mread_reply_from_input\u001b[0;34m(message_id, timeout_sec)\u001b[0m\n\u001b[1;32m    101\u001b[0m     ):\n\u001b[1;32m    102\u001b[0m       \u001b[0;32mif\u001b[0m \u001b[0;34m'error'\u001b[0m \u001b[0;32min\u001b[0m \u001b[0mreply\u001b[0m\u001b[0;34m:\u001b[0m\u001b[0;34m\u001b[0m\u001b[0;34m\u001b[0m\u001b[0m\n\u001b[0;32m--> 103\u001b[0;31m         \u001b[0;32mraise\u001b[0m \u001b[0mMessageError\u001b[0m\u001b[0;34m(\u001b[0m\u001b[0mreply\u001b[0m\u001b[0;34m[\u001b[0m\u001b[0;34m'error'\u001b[0m\u001b[0;34m]\u001b[0m\u001b[0;34m)\u001b[0m\u001b[0;34m\u001b[0m\u001b[0;34m\u001b[0m\u001b[0m\n\u001b[0m\u001b[1;32m    104\u001b[0m       \u001b[0;32mreturn\u001b[0m \u001b[0mreply\u001b[0m\u001b[0;34m.\u001b[0m\u001b[0mget\u001b[0m\u001b[0;34m(\u001b[0m\u001b[0;34m'data'\u001b[0m\u001b[0;34m,\u001b[0m \u001b[0;32mNone\u001b[0m\u001b[0;34m)\u001b[0m\u001b[0;34m\u001b[0m\u001b[0;34m\u001b[0m\u001b[0m\n\u001b[1;32m    105\u001b[0m \u001b[0;34m\u001b[0m\u001b[0m\n",
            "\u001b[0;31mMessageError\u001b[0m: Error: credential propagation was unsuccessful"
          ]
        }
      ]
    },
    {
      "cell_type": "code",
      "metadata": {
        "id": "0wdtNTIZ-meV"
      },
      "source": [
        "cd '/content/drive/MyDrive/Datasets'"
      ],
      "execution_count": null,
      "outputs": []
    },
    {
      "cell_type": "code",
      "metadata": {
        "id": "ZxLMlPWW-n3N"
      },
      "source": [
        "ls"
      ],
      "execution_count": null,
      "outputs": []
    },
    {
      "cell_type": "code",
      "metadata": {
        "id": "rG3-1r4V-qeb"
      },
      "source": [
        "import os"
      ],
      "execution_count": null,
      "outputs": []
    },
    {
      "cell_type": "markdown",
      "metadata": {
        "id": "zeMw8SCl-ufu"
      },
      "source": [
        "#### Importing necessary libraries"
      ]
    },
    {
      "cell_type": "code",
      "metadata": {
        "id": "Z2ZQlb_x-1oE"
      },
      "source": [
        "import pandas as pd #working with csv or excel files\n",
        "import numpy as np #working with numbers/ arrays/ tensors\n",
        "import tensorflow as tf #framework\n",
        "from tensorflow import keras #API / library\n",
        "import os #using os commands between the python language\n",
        "import matplotlib.pyplot as plt\n",
        "import seaborn as sns"
      ],
      "execution_count": null,
      "outputs": []
    },
    {
      "cell_type": "code",
      "metadata": {
        "id": "4OAVcohV-7UI"
      },
      "source": [
        "dataset= pd.read_csv('Churn_Modelling.csv') #load the csv file as dataframe\n",
        "df=pd.read_csv('Churn_Modelling.csv')"
      ],
      "execution_count": null,
      "outputs": []
    },
    {
      "cell_type": "code",
      "metadata": {
        "id": "KY0DNgg-_DUo"
      },
      "source": [
        "dataset.info()"
      ],
      "execution_count": null,
      "outputs": []
    },
    {
      "cell_type": "code",
      "metadata": {
        "id": "j3SBTXOw_LPv"
      },
      "source": [
        "print(f'There are {len(dataset.columns)} columns in the dataset ')    # Finding number of columns in dataset\n",
        "print(dataset.columns)"
      ],
      "execution_count": null,
      "outputs": []
    },
    {
      "cell_type": "code",
      "metadata": {
        "id": "KM3Qfm0mAW88"
      },
      "source": [
        "dataset.shape     # dimensions of dataset"
      ],
      "execution_count": null,
      "outputs": []
    },
    {
      "cell_type": "code",
      "metadata": {
        "id": "RR7gy0RB_gq8"
      },
      "source": [
        "dataset.head(10)                       # Ten rows from top"
      ],
      "execution_count": null,
      "outputs": []
    },
    {
      "cell_type": "code",
      "metadata": {
        "id": "jYZj5cO8_oVg"
      },
      "source": [
        "dataset.tail(10)             # Ten rows from bottom"
      ],
      "execution_count": null,
      "outputs": []
    },
    {
      "cell_type": "markdown",
      "metadata": {
        "id": "3p5X_65p_0xI"
      },
      "source": [
        "*Let's drop first three columns as they have no significance*"
      ]
    },
    {
      "cell_type": "code",
      "metadata": {
        "id": "Zy3vtx1r_v-p"
      },
      "source": [
        "dataset=dataset.drop(['RowNumber','CustomerId','Surname'],axis=1)\n"
      ],
      "execution_count": null,
      "outputs": []
    },
    {
      "cell_type": "code",
      "metadata": {
        "id": "vimzbZlfFLBp"
      },
      "source": [
        "df=df.drop(['RowNumber','CustomerId','Surname'],axis=1)"
      ],
      "execution_count": null,
      "outputs": []
    },
    {
      "cell_type": "code",
      "metadata": {
        "id": "I2fEWMglAcuy"
      },
      "source": [
        "df.shape"
      ],
      "execution_count": null,
      "outputs": []
    },
    {
      "cell_type": "code",
      "metadata": {
        "id": "DEBtSgQtAueZ"
      },
      "source": [
        "dataset.isnull().sum()       # Check for Null values"
      ],
      "execution_count": null,
      "outputs": []
    },
    {
      "cell_type": "markdown",
      "metadata": {
        "id": "kHqnrK3xA1Uf"
      },
      "source": [
        "There are no null values in the dataset. Cheers! 🎊"
      ]
    },
    {
      "cell_type": "code",
      "metadata": {
        "id": "OJ8C4APrBNjw"
      },
      "source": [
        "dataset.describe()"
      ],
      "execution_count": null,
      "outputs": []
    },
    {
      "cell_type": "markdown",
      "metadata": {
        "id": "zrqEi62GHldm"
      },
      "source": [
        "Let's define a function that plots a bar graph for `value_counts` of categorical data"
      ]
    },
    {
      "cell_type": "code",
      "metadata": {
        "id": "xtZxp3yAGZ5p"
      },
      "source": [
        "def plot_count(feature):\n",
        "   plt.grid(True)\n",
        "   font = {'family': 'serif',\n",
        "        'color':  'cornflowerblue',\n",
        "        'weight': 'normal',\n",
        "        'size': 16,\n",
        "        }\n",
        "   dataset[feature].value_counts().plot(kind='barh',figsize=(8, 6))\n",
        "   plt.xlabel(\"Count\", labelpad=14,fontdict=font,color='darkred')\n",
        "   plt.ylabel(feature+\" variable\", labelpad=14,fontdict=font,color='darkred')\n",
        "   plt.title(\"Count of \"+feature+\" Variable per category\", y=1.02,fontdict=font,color='darkred');"
      ],
      "execution_count": null,
      "outputs": []
    },
    {
      "cell_type": "code",
      "metadata": {
        "id": "W4hRv0xkBioZ"
      },
      "source": [
        "dataset['Geography'].value_counts()"
      ],
      "execution_count": null,
      "outputs": []
    },
    {
      "cell_type": "markdown",
      "metadata": {
        "id": "XPJW8z6HBqkm"
      },
      "source": [
        "So, The data contains customer details from `3` different countries 🙂"
      ]
    },
    {
      "cell_type": "code",
      "metadata": {
        "id": "E_19kEnQHWy4"
      },
      "source": [
        "plot_count('Geography')"
      ],
      "execution_count": null,
      "outputs": []
    },
    {
      "cell_type": "code",
      "metadata": {
        "id": "Z6K0jtbgEYg9"
      },
      "source": [
        "dataset['Gender'].value_counts()"
      ],
      "execution_count": null,
      "outputs": []
    },
    {
      "cell_type": "code",
      "metadata": {
        "id": "ODkBkn_TFSbh"
      },
      "source": [
        "plot_count('Gender')"
      ],
      "execution_count": null,
      "outputs": []
    },
    {
      "cell_type": "markdown",
      "metadata": {
        "id": "qXTky-DSCBJZ"
      },
      "source": [
        "Let's Find percentage of people who got Exited."
      ]
    },
    {
      "cell_type": "code",
      "metadata": {
        "id": "eVbo_Nz7BzxQ"
      },
      "source": [
        "100*dataset['Exited'].value_counts()/len(dataset['Exited'])"
      ],
      "execution_count": null,
      "outputs": []
    },
    {
      "cell_type": "markdown",
      "metadata": {
        "id": "NZpqveL9CX5f"
      },
      "source": [
        "From the above info we can infer that approximately `20` percentage of total are about to leave.😥"
      ]
    },
    {
      "cell_type": "markdown",
      "metadata": {
        "id": "_ltkh3NWCreu"
      },
      "source": [
        "Now, Lets plot a Bar Graph for that *Exited* column ✌\n",
        "\n",
        "\n",
        "\n"
      ]
    },
    {
      "cell_type": "code",
      "metadata": {
        "id": "XJ3iWtt2Cnoc"
      },
      "source": [
        "plot_count('Exited')"
      ],
      "execution_count": null,
      "outputs": []
    },
    {
      "cell_type": "markdown",
      "metadata": {
        "id": "ZYDHJwNAD79g"
      },
      "source": [
        "Clearly most of the people wont exit. Even though we need to make sure that they stay long. .😎"
      ]
    },
    {
      "cell_type": "markdown",
      "metadata": {
        "id": "KdMct8aN79db"
      },
      "source": [
        "#### For HasCrCard"
      ]
    },
    {
      "cell_type": "code",
      "metadata": {
        "id": "pCNIcwujwUyY"
      },
      "source": [
        "dataset['HasCrCard'].value_counts()"
      ],
      "execution_count": null,
      "outputs": []
    },
    {
      "cell_type": "code",
      "metadata": {
        "id": "zVZBHmvuwaa3"
      },
      "source": [
        "plot_count('HasCrCard')"
      ],
      "execution_count": null,
      "outputs": []
    },
    {
      "cell_type": "markdown",
      "metadata": {
        "id": "JhxUV5V86mhR"
      },
      "source": [
        "#### For Number of ActiveMembers"
      ]
    },
    {
      "cell_type": "code",
      "metadata": {
        "id": "TfTzCKGdwqnY"
      },
      "source": [
        "dataset['IsActiveMember'].value_counts()"
      ],
      "execution_count": null,
      "outputs": []
    },
    {
      "cell_type": "code",
      "metadata": {
        "id": "SXS-dirsw3hZ"
      },
      "source": [
        "plot_count('IsActiveMember')"
      ],
      "execution_count": null,
      "outputs": []
    },
    {
      "cell_type": "markdown",
      "metadata": {
        "id": "9mkvZeDD6sZF"
      },
      "source": [
        "#### For Number of Products"
      ]
    },
    {
      "cell_type": "code",
      "metadata": {
        "id": "9F01rX_ow9ew"
      },
      "source": [
        "dataset['NumOfProducts'].value_counts()"
      ],
      "execution_count": null,
      "outputs": []
    },
    {
      "cell_type": "code",
      "metadata": {
        "id": "fRQCuDHrxGwe"
      },
      "source": [
        "plot_count('NumOfProducts')"
      ],
      "execution_count": null,
      "outputs": []
    },
    {
      "cell_type": "code",
      "metadata": {
        "id": "-e984MUDEIUS"
      },
      "source": [
        "dataset.dtypes"
      ],
      "execution_count": null,
      "outputs": []
    },
    {
      "cell_type": "markdown",
      "metadata": {
        "id": "-fOEJ_AQEkka"
      },
      "source": [
        "We can see that there exists two categorical variables i.e: *Geography and Gender*. We cant find correlation using heatmaps if there are `categorical` variables because heatmaps dont work on categorical variables.\n",
        "\n",
        "*We shall encode variables* 🛠"
      ]
    },
    {
      "cell_type": "markdown",
      "metadata": {
        "id": "WbFa7B3Z2Vu6"
      },
      "source": [
        "#### Function To Print the users in a category for specific Geographic Location"
      ]
    },
    {
      "cell_type": "code",
      "metadata": {
        "id": "oTJXI77j030i"
      },
      "source": [
        "def Calculate(Geography,Feature):\n",
        "  Geography_list=dataset['Geography']\n",
        "  Variable_List=dataset[Feature]              # Contains a column from dataset\n",
        "  li=[]\n",
        "  for i in range(len(Geography_list)):\n",
        "    if Geography_list[i]== Geography:\n",
        "       li.append(Variable_List[i])\n",
        "\n",
        "  return sum(li)\n"
      ],
      "execution_count": null,
      "outputs": []
    },
    {
      "cell_type": "markdown",
      "metadata": {
        "id": "aPo7VK-K2rDA"
      },
      "source": [
        "#### Let us Analyse France over `4` cols `HasCrCard`,`IsActiveMember`,`NumOfProducts` and `Exited`"
      ]
    },
    {
      "cell_type": "code",
      "metadata": {
        "id": "hwCEAweD3B_L"
      },
      "source": [
        "Result=Calculate('France','HasCrCard')\n",
        "print(f'There are {Result} people in france having Credit cards')\n",
        "Result=Calculate('France','Exited')\n",
        "print(f'There are {Result} people in France who exited the bank')\n",
        "Result=Calculate('France','IsActiveMember')\n",
        "print(f'There are {Result} people active from France')\n",
        "Result=Calculate('France','NumOfProducts')\n",
        "print(f'The number of products purchased from France is  {Result}')"
      ],
      "execution_count": null,
      "outputs": []
    },
    {
      "cell_type": "markdown",
      "metadata": {
        "id": "bB0x-VVf4Kfh"
      },
      "source": [
        "#### Let us Analyse Spain over `4` cols `HasCrCard`,`IsActiveMember`,`NumOfProducts` and `Exited`"
      ]
    },
    {
      "cell_type": "code",
      "metadata": {
        "id": "G2jRpKc94N0m"
      },
      "source": [
        "Result=Calculate('Spain','HasCrCard')\n",
        "print(f'There are {Result} people in Spain having Credit cards')\n",
        "Result=Calculate('Spain','Exited')\n",
        "print(f'There are {Result} people in Spain who exited the bank')\n",
        "Result=Calculate('Spain','IsActiveMember')\n",
        "print(f'There are {Result} people active from Spain')\n",
        "Result=Calculate('Spain','NumOfProducts')\n",
        "print(f'The number of products purchased from Spain is  {Result}')"
      ],
      "execution_count": null,
      "outputs": []
    },
    {
      "cell_type": "markdown",
      "metadata": {
        "id": "LdJypgKW4Z-C"
      },
      "source": [
        "#### Let us Analyse Germany over `4` cols `HasCrCard`,`IsActiveMember`,`NumOfProducts` and `Exited`"
      ]
    },
    {
      "cell_type": "code",
      "metadata": {
        "id": "r2UFI9e54cN0"
      },
      "source": [
        "Result=Calculate('Germany','HasCrCard')\n",
        "print(f'There are {Result} people in Germany having Credit cards')\n",
        "Result=Calculate('Germany','Exited')\n",
        "print(f'There are {Result} people in Germany who exited the bank')\n",
        "Result=Calculate('Germany','IsActiveMember')\n",
        "print(f'There are {Result} people active from Germany')\n",
        "Result=Calculate('Germany','NumOfProducts')\n",
        "print(f'The number of products purchased from Germany is  {Result}')"
      ],
      "execution_count": null,
      "outputs": []
    },
    {
      "cell_type": "markdown",
      "metadata": {
        "id": "V9N_PVnQS2Kp"
      },
      "source": [
        "#### Pair Plot"
      ]
    },
    {
      "cell_type": "markdown",
      "metadata": {
        "id": "GrWnrLFQTBxk"
      },
      "source": [
        "*Let us now find the relationship between variables*"
      ]
    },
    {
      "cell_type": "code",
      "metadata": {
        "id": "ylHXBPI3IuEa"
      },
      "source": [
        "sns.pairplot(dataset,\n",
        "             x_vars = ['CreditScore', 'Geography', 'Gender', 'Age', 'Tenure', 'Balance', 'NumOfProducts',\n",
        "       'HasCrCard', 'IsActiveMember', 'EstimatedSalary', 'Exited'],\n",
        "             y_vars =  ['CreditScore', 'Geography', 'Gender', 'Age', 'Tenure', 'Balance', 'NumOfProducts',\n",
        "       'HasCrCard', 'IsActiveMember', 'EstimatedSalary', 'Exited'],\n",
        "        palette='husl'\n",
        "             )\n"
      ],
      "execution_count": null,
      "outputs": []
    },
    {
      "cell_type": "markdown",
      "metadata": {
        "id": "nps_UHKmTI0U"
      },
      "source": [
        "#### Strip Plot"
      ]
    },
    {
      "cell_type": "code",
      "metadata": {
        "id": "M6mBO4IVJ-an"
      },
      "source": [
        "fig_dims = (14, 12)\n",
        "fig, ax = plt.subplots(figsize=fig_dims)\n",
        "sns.stripplot(y='Balance', x='Age', data=dataset, hue=None)"
      ],
      "execution_count": null,
      "outputs": []
    },
    {
      "cell_type": "code",
      "metadata": {
        "id": "ViLRPLP1Tx4P"
      },
      "source": [
        "sns.stripplot(x=\"Exited\", y=\"EstimatedSalary\", data=dataset)"
      ],
      "execution_count": null,
      "outputs": []
    },
    {
      "cell_type": "code",
      "metadata": {
        "id": "fqWtLqUQULbG"
      },
      "source": [
        "sns.stripplot(x=\"Geography\", y=\"EstimatedSalary\", data=dataset)"
      ],
      "execution_count": null,
      "outputs": []
    },
    {
      "cell_type": "markdown",
      "metadata": {
        "id": "Nb57u46YURVv"
      },
      "source": [
        "*There is no bias in salary estimate as max salary is almost same for all locations mentioned* 🤔"
      ]
    },
    {
      "cell_type": "markdown",
      "metadata": {
        "id": "IaikCWgFM9QY"
      },
      "source": [
        "*Encoding Categorical Variables*"
      ]
    },
    {
      "cell_type": "code",
      "metadata": {
        "id": "p4GborF3NEYO"
      },
      "source": [
        "dataset.head()"
      ],
      "execution_count": null,
      "outputs": []
    },
    {
      "cell_type": "markdown",
      "metadata": {
        "id": "sK9BgtO1YNsN"
      },
      "source": [
        "*Finding Correlation*"
      ]
    },
    {
      "cell_type": "code",
      "metadata": {
        "id": "o5ak1hLxNJng"
      },
      "source": [
        "# dataset.corr()\n",
        "# Create a copy of the dataset to avoid modifying the original\n",
        "encoded_dataset = dataset.copy()\n",
        "\n",
        "# Encode 'Gender' using LabelEncoder\n",
        "from sklearn.preprocessing import LabelEncoder\n",
        "le = LabelEncoder()\n",
        "encoded_dataset['Gender'] = le.fit_transform(encoded_dataset['Gender'])\n",
        "\n",
        "# One-hot encode 'Geography'\n",
        "encoded_dataset = pd.get_dummies(encoded_dataset, columns=['Geography'], drop_first=True)\n",
        "\n",
        "# Now compute the correlation\n",
        "print(encoded_dataset.corr())\n"
      ],
      "execution_count": null,
      "outputs": []
    },
    {
      "cell_type": "markdown",
      "metadata": {
        "id": "miGHYwrUUpYk"
      },
      "source": [
        "### HeatMap"
      ]
    },
    {
      "cell_type": "markdown",
      "metadata": {
        "id": "mvzE9f6pUtGB"
      },
      "source": [
        "*Correlation ranges from -1 to +1 wheres as covariance varies from -${\\infty}$ to +${\\infty}$*\n"
      ]
    },
    {
      "cell_type": "markdown",
      "metadata": {
        "id": "IwhW6N8lV-Jg"
      },
      "source": [
        "<img src=\"data:image/png;base64,iVBORw0KGgoAAAANSUhEUgAAAYwAAAB/CAMAAADLlgV7AAACSVBMVEX///8AAAAqKir8/Pz///27u7vKysrV1dUlJSWZmZlGRkb8//////v5//8JAAD///hBQUEAAA////QAAAnz//8fAAAAAC/y+//u7u709PQAAAoAABQAACUkAAD//+bV8P8UAAAAACsAABs2AACKi4v27+bl5unp+P/48OYcKTsAACc8SFXP5PYAACFmeJLp/v8wAABbAABPAADm7Pf//93v59GVq7wAFCO4zN2LeWYADzEcHB2urq7Mv7JFKwDS2ujm4NqpoZwuGACFna3y48FWRS81R128r6AqLYW5qJE8GQCRnKR9c2grEAAIU4LL1+V2f4k4Kh4RQIWmjnlXcYRINyMgLFluYE1SYGm1w86oi2tYlMLAoYBDBwA1Q3NFU2GgyuPizbVNGQA3TnXLpHU+dpymv8+UhnpWT3qCVTCbsdF5SjMbISwAFynYtZxua2mXbUuEnLx4dHNSJgBrMABUQTwbEwhueZ+dinhuh54lNEMAGEtvU0eqdUEAFy/lypd5bFB9s9gjLBbhw5FOYn5hVldrVzXbp11OZp28kW8LX6YVMVdNYoSnUgBRdrsAAHxxHwCLGQAAAFaBVReAZDaTWAy+nXT2z5KidD5VjcZsf5F+sOKAlMa8tcVZLie03PsAAECZPACyaAU5KAWQZ1diQRcyPFoqO2pPUlSJbkkAImc1WHPbs6VhkbbR4dNfcqQmNT5qQQAADVzHjUg3R4ukXjsdY5WAwfJPISQ4ISQVJBQ0TFMASWgAJCUyPDN4MByUYFhfZlTEnF/lWwLzAAATh0lEQVR4nO1d+0MTV76fbzLhOSYQCiQgEZXAUNFqdXiFgQABNuADChigKEy1cIs8pCgCpajLQyl0r1etrdxu6y7KYlmutt3t3b279+5u/7L7PWeSMJlAC5RWHufzQzuPc86E8z3f9/ccOY7hl4fRbkPYja/6dzAwMDAwMDAwMDAwMDAwMDAwMDAwMDAwMDAwMDAwMDAwMDAwMGwUxs1UPrFqqVVhtBNsdnJ4m9t0LnbD3URTZKZ9k5/cvRDccmlGRkZ0UUTJxqeU4yxyQRmUv7Hhfp4KqMw9uYkP7mLwzqoKAFcUIH61iblxeqsTKmsyN05Gi3z6DJzdBEvtXhjdBWY4UltUdLoO4K2sDfd31kNeQ/7mvm2tb4Tzm+y7G8FLPkhoak5GEd5SBm8nb7S/pTUxr2HTskaQL8DFnM323nWQWgDamuklyvD2jcoMXnkn4dJPmc3L5pR3md5Q4axPh8qOffTa0flvBzbaX3wPsrt+yg+wXoHunzTA7gEvFUPP8GvqjeAuCRq3dlumxuwUbH79zLsjbSED9JrjGzR6xp7pb4g9wq1WITMz3HruhdSJjWuq3QjjI4DKMA0qoKXb19dX67c7RRnvarIIKTr7Fmub92maXoWe/uCNs+p03/u55LW78/2+3NdCR7XgMO/XnKTjd6Il3aHqJ2lglV+wJ+G4BqnH9OvSUn99MLs2owKyb5TgrTjUiEbv0XxOUHxmvBrWiHjHOzDSHrgR66vx9QeoQaRRM7y+rBvWS4bpyeUIUdExgWWVGJYPYUzfdE+CvwmQ3a97KKBVdaTZZpNvQVJuMicVmCeqGiG1i5MaC/tNFXBMo6+x/5GgnqkaWCq6DnCbc1wF+HV2e+iwnrLzzU8hpYE6h4oPUnNVYvDjkDCxcY9x98HyZzSldLYQ33oGFvJR8lu8Z+DYSU7yHSsRK2B/OydN9ie7p2BOwxl3IPVuQGoJ3ol8froMPhJaYKRZrtEZAzdHulA/wNKX5EaZgpmAt+c5DEe+/Jn+wJ0E6QwcuqsT7Z5qcN2mV3IjzJZwvM3GSfMwlsMZbSc599T+fk2Hj+HQbwLXvA3V8806+Hc5DU1kwa6zki2ZyGUXYIaOrTyD5QBNxXsaUbeHoQCM/afuGar0BbqoeXkeKs+p7c7AiLrQ5XfOtq+05f8D8t4O6e0YhaN1cHsNd0X8BJ58Hks878T7+YE2SIwZ/Y/YixgHeNmue/YAEm5QycPLxbBUorYbhEuUH8RHMKzR9443ofu/Q7tfTUfVvI9bHZbvIf4Y6gfPQ1gODmP5hBGDYBoNW51oP3Uc8lQpZfEeJ2KK4JEZ7tKFrJwIMUORGDrO4C4PQvaaboNw0wwNB8jIfz8XfGj/BAo//yl/xS7BdLgh8ylAt6pOrd50osAJPjPDY/J/51WY08604wLk6RY1MtH5tW0j6U2iwaVbWvvYyIhBMQ3xszr9fQfApTKL9BlAuWp+vgdA5lzoTQ/1z4iYuh3S3YPOxNjasSrnA5jp4qqqtaFapjNUIDEmgrGQ39LFisT4FX0kyIfhgw767tQXAF+SoGDxE90S/h3kPdbeS6OAfmH7mh90tkBhl/QQcjXRYUYMFZdXdIbn4UFq3yAxvqJiRmxBZ1t96akDOIAO+Pyhch0f/V5j2iKsLelLT82ADjVPg1BGfS5XaIWeDC+8q+UdxwmobN/SP2tnAk1bv4kvFcBZqqwDxLDIF+C8yhiEGN+8YZeqUxr0Ud07EP8nP32Mdptl+sz9LNTgZ5Fw/WTtu69AUrO2vaCkuRoHskOeeRLDHM89CetDSJ0oMfJ299BxUFNEp8rA1R6Ls/YQ8sr9yppwRvNQYmpD2Jx5AP7mf6jcavOVjXXEegbhYL48MEPi4u5RSOrQ+hy8Mg9wSBvd4gRkTxYOIfBUALTlRpRWrAQAUTotdERWDUB2eWDOiM4AyK4NTwJZBwLpDF7GRkeRHxzPAFLNSdRPDyeGGxX8bAhNrQ9gTB8e26Pw+OpcZnBFGWKa/CFta+f1KDOkvGzrCipZ69OoqJdNXau5cs8DIXShqjEqjnpylxujoo6ofiMSo7A5xBtHwbXQETKCdBgqmZRS4ZRLo6OLikyRwfIOAZ+UFpm0bCCVRptWz40q5oQJNXjiLo1upuTj5egif85DrgCNd0fHru4pDx2pFVJnN5B5J6eFbb7CSw+3iWDDif9tCpJ27V8z+lFVHZL9QIpNxU+EsoH4bCN5W6dcFE0rvH67idKgVSD7UP7uXx9jWiNMa6zIbQPlmRpwXwWCMhXfECyLIotZegpLoVk96yPU5+vOuiqdjWboRnPClaTPI24ONvfzQfjD+r7v8UUNtm/FR38+CL1lCU3nVn0ltsJckBbW6KLXkBYvQ6xazuIFCLfR1oBFRtugqchk6iyD/blrseMGcTURfrMmkwnaQoDeeUja7srNXj+Y0tC8Gv8Kck1J8MYDPTUFMBIyh4LbOwhrUHKV4arQEhsmI0rPIdRV2Twc6KPeXvOt1FcbtDYs02mbqfH7heGs8sFIbfMqWlBbmn6ZWMcLHdpWUqkv/ejwemnBKXUB89vqNVeuu9sPA237+DWXO7pA3bnBG3eE6dz2r5sX3KWN8f0/IsOnAZKGz4VQzNMIq7PUqnCgrr2kthbkyeEtUqXj8/DNmssdrZORjrVebls4I4t+rH4Z11WEbgKtG7JOLpcBBMwuu6YAS7BlZgYbGTNtgYdU2Aua+5VVbQt2F1D2PNb8chwY14vF31ZJD3GBQvegqE0D1/5VYgutKntF+Nk3y5BYwf2wqIlTPj0ZE7fod1id3smYRVLQ4p1cjFk8wIn1kzFtaHaJ3r7FxTZ1uQjuTuwR06R6O4Td2jWDLcbFLNYWnT6C9qFoIiVK3U19k4s1WZaqycXFxbngVLtL+2JiYhaH6RYK9xD5LMdLQ9houITb/eitg3BN6ymog5GMTjNk38BZcReko146W6L4BoFQTvKR+6V8ZZTcf0XXuLXgenpS7eliGKOpGo8PDgaCn2KBAXVfRoU5Kj0JCfcpSQaoGH5NkPFL8MLPCkLv9cH4poxJiL94jpQdkYaXspRR0jZVZ6gbZVM4trtR9iOwFgyGM4aE07BsMxoVgMovOfdzOCZPwVcmHwy3AHwnVsBs5AOYuTEKtUPF8Jiywi0zLGXZnd7javnXH7+AGb/xKn6GdvM5o9FzC0dDwWexOe9BzzI5HhxbGB0FAP3+Sq/eQRhptxvFToDlLGTZZWUeZv7rRF4//gRd5I0Tr0WFY4enbyRcdu/qnonICe+S+RF+D0df7HMWDJ+UCohPmJvs+AfcFn13s8TvodvQXZ6FU0lDbWhGLJDJkotVYnjrYEIlhnPa7/EI9Wkwqwaw0+FlsKBLugXxfudWKUMTnVz0fg3f5Eu+4WRHI3RXoOHFK2/qvVrxTQjHDieG0ggJ+qjJ5WJIoH85/ymkzr7G2+3EA1FzxU7UrvZkzonLPQ/veRvVtjfNYCbTK8jH6cwLQ4OwTDUXr1RDJbWcCDHUytNPkXJBZvRMwX11zfOfIAtRWeR5Dk/yY/EznnlQhahyD5ZCOcPojgjHNo+q/Bha56FQJ2mJ4PiITgp/B6eHin4FffTvNH+qdELr4VuvYA/6+CGkEpI5CtITuuhyN05DvFprQYZV7YEPtWnM1ncCA3sAstWl7Xnobzqehp/F/1vQ/hre8LYKFasw0KtDX+YP/dSWMzCi8wfGceLb1Qqvb/35KUvVGTivcQctCi7uFYZC+XI0B9dq/TzEUymF+jtVNbLEe4GiY5zh+/SZ9YSm2sIxhJ66qjK+DeaqlffgEN3b0uov/BMfQbw+M71evOr5D8EPEsP6NB3+FOrjW+uPw1vqWrX+DlJfkDkQ69NDwsQi+v1zK2q/lXwmBv+T0K0mMXufwVe0Oe+hNgB9NuBnAQ8aacFVjmr9aD6lvOMEjPmLMLDpE6pHUDjeIA8kWvwSCuMqWJUYhu0D1/s/RAzHqBnuhhJDHEKVrjKL4x4U0vkRC+D1kMKTB1CoySK2mFGdG+IW+/wbT4T6w/BYzcGgoGtTpdQQ+Ksdx9FeDY6loJmmehBESgWq/A7DW4QPrQP+Uiblgl5lcEJVdDh2tmlL4nmPAzFGtfIEJz5Q1jUeqKuQpiBbk1nkpbKQjThXzXAjUnMQAFEPquxBQXeI8haZ9aPqtjpiXgUTbt5qeDeoMkZUHkLTTS3f9gxCKplfizc9ZU4nTHehNaUlhlO1RpAYCaqiFT4LFEbKz+CSRmUIyiBocln8eyvTQOmJFlJSDp1v68cB3kLd4Nc6zyFhONBVRLPL72UogcJwYi0kUbrdGVQrapwtfl9SA+eVuJgw6OqTdxj4lsSAzBC8iTNktYtBq0cqhrx+9dXxkJIsYyukalcqEkMtwhPcNCqGKgO1jhU5xfIxvP4iloxQDIQFnMmkApyUrvLOSLItu8C8PzdZIJ2UgP62eAfVwnDhz2agZpfzOWTnopLQhumM7shw7HTTtgyy6TTz7inVWMX5UQsTLWRfIn3nQMe7XLvdswWdDE0CBcXUC3Jrl6dmiE9BdbWll/gh30LKbBbJTZp/jSaA6MWZv0aIwTvrF/KpRBrLj1Vqz1ExRf1GXkGdTn+A4wsAutbdD2EhX5Brcnb5oQ9SBQqNklijTS5As5RMuMVbht5uLOdENTqiOgtole7v0Ey+8wFZqStoRZc6NzIyonM+vuEc0d/VcNbkTZvJIXvZyKuq0cq+L6DB5E1fOMl/DfGzkfg50hSJ0VMjjxLHzvEedKOmEJSCxPhjVKd76iCe8or7a3TN5YpvOrYoC7ldYalCr6KhqLSzDiDpc9U1qEcxUWMaOgN/UItReGUA3tIGI6QLUKm1NEU0QfPi4gwo2eks9qJ8M8BSMyoQCYfPM7jaOvA7+GwiP5m7iiZwXJ2axScy0VCXR0O9SiOMzRWV+qBwTj33phVVBr1AzkiJGhzp3+FS6MdB4qaDkOCKMjQN+yfcPRQ3aIaEI7X+e0vVX6KWNSqD9xw3hCbYpc46l8tlaMhVZZnUUufqbqK9jXKFy/WyoTlWavmrK4owA6f4sO2R8hx16Apyrdphsi/KjIzUFDSQDVFq2MzuNbi62zq2fW52C+A2FSFMpsigaeqMIA8iAvYLqmVTicaY4UVsrHNOZNIj6NHgkIH8loBvTLjSefJMbeDGtoHBScdAnpKnv8QUKBbiyWfVKye+KNGZU7sV4Z4rv+Ex1u6xyhvjmq83/mEGBgYGBgaGPQyLO2AMOjNteld/veX5zp0ekXk1cJdm9C3GxBEsNMdyVu91g4EGKqWCOMOcri7I85emVU9hEeXo9/sW6SBxd09yymicIY7GiZz1Bhw3f5dHDLYIos8wGAy8f9DMcdPkFCl4gbS4ApAwp1vfnrSRVYjB98a5gmVH8N1JUoLmzwMIyi2Ag7s9fLM18AyQaXP9FV7WZmRkoMffWzyT02qGyizLVYD/idfG65W/5XDivcoDnHI6NNlomSaDdBvSoAkHyWiXKmD5VCKk0gC21ZsIZ3d2rusXgnIYV/9wDqekJan5Sv6Pkx37pEYozBmH7i6bSXMmtPUKHCq3X1vKaq0O3WQhfIikqOxItrbCRRr5EQteJHOfQUID4Qd8mrI1W112OUjw8gmtc/jQf0wXhdUHB4sO9+hy7fwjlGd/f5aNYqewXxuRuQOQSo+xkos1+YVWSFgiN9JzWNqigv7dDZze1HZygcR4oknlo4SCvOGw5taWRqJfRkL3TErpED+rpkGLA+fycLSmm5gBgvzmUX1ukmEVnEI9+52aLPgQkjQbJ8dxymfDQ8O88RH8L/Qsh87tZSSPKrVCiCGV0bIB0QsL7LTOdWB8nhwSQoDEOKghhgfVcVilHG+TL8D/lbkMsJCr3XyKymGO3vIhxLD+gxaFuadg/Tsq9zD4q2nwkTqr0jUUUyvEuAnQE2bBWq5AalPug0qTLxE0x6FbT0CKql2sK8eHcSRvDz1vc5betIuMMdYB6z/T/XsgLEqitjYOTVNICS/2mY46dtKKpq1UH6fRAqcOQ4+fvVpCTsEdh0N390kPCrdqo+ruBiGGuv7JNK5UHIlXE/5lTrgbNodSETlbrRKdjQiNeYTE+EAtqVSewSFNgR/KuktvtELDXtjb89OBxEhQz55AE7cnWMErtqRfPHWcnN9pDN+y5knXHzmJxPCfWNWKs68RSY4TcKT5WfaqZ5AwhGH6jCqmcPoDvoA7wt1aVtjFDaDLxyu1YeLekVGj86at1+A83XWCjDGmrXy1fAJRixs4D2GPw9NIal14d+k8nFcP1bHUd/+r7vV+UrgSP1E0NdO1jvqsR7R02Cn74Kj2qG6O/x4NZH1hMMNaELzzsBRd6jNDW4eqeE+he32IeNF0U32oo70WpIcwVhvdWQE9wyH/oBY9eZ39WxnrhrXqVlyU4WVbTfCg8luGuGE1iGEwLJavLyUhdVYYogxH5vQ77m9C3g0mpNYPgW5BW6n9ESMjIlStjS8i1xvFcGKviEj9KUTSlMbrYHilEJ+yOMi2AEnNtqSnMKt2G6Bq8kvrP9MCOxQZXiX4IXPlZCIMM77YBrA+JfnwXMYX2wHkrImLB7b/wVl7ArzdtmWHnzIwMDAwMDAwMDAwMDAwMDAwMDAwMDAwMDAwMDAwMDAwMOx8/D9qkfQUaCbDNwAAAABJRU5ErkJggg==\">"
      ]
    },
    {
      "cell_type": "code",
      "metadata": {
        "id": "CKSpEy-RNRM4"
      },
      "source": [
        "plt.subplots(figsize=fig_dims)\n",
        "sns.heatmap(dataset.corr(),annot=True,cmap=\"PuBuGn\")"
      ],
      "execution_count": null,
      "outputs": []
    },
    {
      "cell_type": "markdown",
      "metadata": {
        "id": "g4XkvZ0IYSBE"
      },
      "source": [
        "### Splitting the Model"
      ]
    },
    {
      "cell_type": "code",
      "metadata": {
        "id": "tDG3X_MgUpsh"
      },
      "source": [
        "X = df.iloc[:, 0:-1].values       # We shall use df variable instead of dataset variable\n",
        "y = df.iloc[:, -1].values"
      ],
      "execution_count": null,
      "outputs": []
    },
    {
      "cell_type": "code",
      "metadata": {
        "id": "bvOPxHo3Uzi5"
      },
      "source": [
        "print(X)"
      ],
      "execution_count": null,
      "outputs": []
    },
    {
      "cell_type": "markdown",
      "metadata": {
        "id": "S1kdyqWvYYTS"
      },
      "source": [
        "#### Label Encoding\n",
        "\n",
        "**Encoded gender column into 1's annd 0's**"
      ]
    },
    {
      "cell_type": "code",
      "metadata": {
        "id": "47jYsqIJVH6l"
      },
      "source": [
        "from sklearn.preprocessing import LabelEncoder\n",
        "le = LabelEncoder()\n",
        "X[:, 2] = le.fit_transform(X[:, 2])"
      ],
      "execution_count": null,
      "outputs": []
    },
    {
      "cell_type": "markdown",
      "metadata": {
        "id": "NS-e81rxYj5d"
      },
      "source": [
        "#### OneHotEncoding\n",
        "\n",
        "**OneHotEncoding the Geography column**\n",
        "\n",
        "<img src=\"https://miro.medium.com/max/2474/1*ggtP4a5YaRx6l09KQaYOnw.png\" />"
      ]
    },
    {
      "cell_type": "code",
      "metadata": {
        "id": "N8Ljdh4wVOjx"
      },
      "source": [
        "from sklearn.compose import ColumnTransformer\n",
        "from sklearn.preprocessing import OneHotEncoder\n",
        "ct = ColumnTransformer(transformers=[('encoder', OneHotEncoder(), [1])], remainder='passthrough')\n",
        "X = np.array(ct.fit_transform(X))"
      ],
      "execution_count": null,
      "outputs": []
    },
    {
      "cell_type": "code",
      "metadata": {
        "id": "fJwafLXkVUUJ"
      },
      "source": [
        "print(X)"
      ],
      "execution_count": null,
      "outputs": []
    },
    {
      "cell_type": "markdown",
      "metadata": {
        "id": "H9lSeT-kY-y5"
      },
      "source": [
        "**Using Sklearn Library to split the model into Train and Test**"
      ]
    },
    {
      "cell_type": "code",
      "metadata": {
        "id": "SbVL7ssnV6p3"
      },
      "source": [
        "from sklearn.model_selection import train_test_split\n",
        "trainFeatures, testFeatures, trainLabels, testLabels = train_test_split(X, y, test_size = 0.2, random_state = 0)"
      ],
      "execution_count": null,
      "outputs": []
    },
    {
      "cell_type": "markdown",
      "metadata": {
        "id": "H5ZhTMVRWapt"
      },
      "source": [
        "### Feature Scaling"
      ]
    },
    {
      "cell_type": "markdown",
      "metadata": {
        "id": "ornHi9_UW2hQ"
      },
      "source": [
        "This is a formula similar to `z-score`\n",
        "\n",
        "<img src=\"data:image/jpeg;base64,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\" >"
      ]
    },
    {
      "cell_type": "code",
      "metadata": {
        "id": "MFvqlKXqWHzY"
      },
      "source": [
        "from sklearn.preprocessing import StandardScaler\n",
        "sc = StandardScaler()\n",
        "trainFeatures = sc.fit_transform(trainFeatures)\n",
        "testFeatures = sc.transform(testFeatures)"
      ],
      "execution_count": null,
      "outputs": []
    },
    {
      "cell_type": "code",
      "metadata": {
        "id": "bfFAP2eYXxYQ"
      },
      "source": [
        "print(trainFeatures)"
      ],
      "execution_count": null,
      "outputs": []
    },
    {
      "cell_type": "markdown",
      "metadata": {
        "id": "EuPLCGYrXM6g"
      },
      "source": [
        "#Building Ann"
      ]
    },
    {
      "cell_type": "markdown",
      "metadata": {
        "id": "uoCek9xwXQQI"
      },
      "source": [
        "**Cheers!** 😁\n",
        "\n",
        " *As the EDA and Data Processing is done. Let's build the model using ANN*"
      ]
    },
    {
      "cell_type": "markdown",
      "metadata": {
        "id": "HXlnm_kgXmRh"
      },
      "source": [
        "*Creating a Sequential Model*"
      ]
    },
    {
      "cell_type": "code",
      "metadata": {
        "id": "-q3XEYPbP3QC"
      },
      "source": [
        "ann = tf.keras.models.Sequential()"
      ],
      "execution_count": null,
      "outputs": []
    },
    {
      "cell_type": "markdown",
      "metadata": {
        "id": "Z0nicyIPXs_7"
      },
      "source": [
        "*Let's add first hidden Layer* 🐱‍🏍"
      ]
    },
    {
      "cell_type": "code",
      "metadata": {
        "id": "R3aTT-pmP7Iq"
      },
      "source": [
        "ann.add(tf.keras.layers.Dense(units=6, activation='relu'))"
      ],
      "execution_count": null,
      "outputs": []
    },
    {
      "cell_type": "markdown",
      "metadata": {
        "id": "7jIK-6QSX0q5"
      },
      "source": [
        "*Let's add second hidden Layer* 🐱‍🏍🐱‍🏍"
      ]
    },
    {
      "cell_type": "code",
      "metadata": {
        "id": "A73_Vt9_P74A"
      },
      "source": [
        "ann.add(tf.keras.layers.Dense(units=6, activation='relu'))"
      ],
      "execution_count": null,
      "outputs": []
    },
    {
      "cell_type": "markdown",
      "metadata": {
        "id": "IFK5AhpdX7xz"
      },
      "source": [
        "*Let's add first output Layer* 💖"
      ]
    },
    {
      "cell_type": "code",
      "metadata": {
        "id": "0T_ync8kP_16"
      },
      "source": [
        "ann.add(tf.keras.layers.Dense(units=1, activation='sigmoid'))"
      ],
      "execution_count": null,
      "outputs": []
    },
    {
      "cell_type": "markdown",
      "metadata": {
        "id": "cFEAo1BHYKeR"
      },
      "source": [
        "*Compilation Of Model*  🛠"
      ]
    },
    {
      "cell_type": "markdown",
      "metadata": {
        "id": "YM4cDF-EYUQl"
      },
      "source": [
        "**Binary cross entropy is used for binary classification**\n",
        "\n",
        "<img src=\"data:image/png;base64,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\" >"
      ]
    },
    {
      "cell_type": "code",
      "metadata": {
        "id": "P5GrOfKqQFtC"
      },
      "source": [
        "ann.compile(optimizer = 'adam', loss = 'binary_crossentropy', metrics = ['accuracy'])"
      ],
      "execution_count": null,
      "outputs": []
    },
    {
      "cell_type": "markdown",
      "metadata": {
        "id": "vFsK9ajRYtTh"
      },
      "source": [
        "*Time to Prove the power of our model* 💪💪"
      ]
    },
    {
      "cell_type": "code",
      "metadata": {
        "id": "Xid9gJG3QG3H"
      },
      "source": [
        "ann.fit(trainFeatures, trainLabels, batch_size = 32, epochs = 100)"
      ],
      "execution_count": null,
      "outputs": []
    },
    {
      "cell_type": "markdown",
      "metadata": {
        "id": "kr9jiEFYZU8K"
      },
      "source": [
        "*Hehe* 😎\n",
        "\n",
        "**Our Model now has an accuracy of `85%` with loss `0.34`**"
      ]
    },
    {
      "cell_type": "code",
      "metadata": {
        "id": "3rfV5YSkQYWi"
      },
      "source": [
        "testPred = ann.predict(testFeatures)\n",
        "print(testPred)\n",
        "testPred_Transformed= (testPred > 0.5)\n"
      ],
      "execution_count": null,
      "outputs": []
    },
    {
      "cell_type": "markdown",
      "metadata": {
        "id": "hsbPW9lWZoqr"
      },
      "source": [
        "#####Confusion Matrix\n",
        "**It's a matrix with dimesnions `(2,2)` where columns and rows are positives and negatives**\n",
        "\n",
        "<img src=\"https://www.nbshare.io/static/snapshots/cm_colored_1-min.png\" >"
      ]
    },
    {
      "cell_type": "code",
      "metadata": {
        "id": "n5DXwU9oSAUP"
      },
      "source": [
        "from sklearn.metrics import confusion_matrix, accuracy_score\n",
        "cm = confusion_matrix(testLabels, testPred_Transformed)\n",
        "print(cm)\n",
        "accuracy_score(testLabels,testPred_Transformed)"
      ],
      "execution_count": null,
      "outputs": []
    },
    {
      "cell_type": "markdown",
      "metadata": {
        "id": "qt-MRDEkbUve"
      },
      "source": [
        "**Hurrah!** 🥳\n",
        "\n",
        "On the test set our model has an accuracy of `86%`"
      ]
    },
    {
      "cell_type": "markdown",
      "metadata": {
        "id": "O2qV_vVayew5"
      },
      "source": [
        "Awww!! Let's now explore other models too 😁"
      ]
    },
    {
      "cell_type": "markdown",
      "metadata": {
        "id": "dzCQo1fsym9R"
      },
      "source": [
        "### Logistic Regression"
      ]
    },
    {
      "cell_type": "code",
      "metadata": {
        "id": "HlCxKag3xX9_"
      },
      "source": [
        "from sklearn.linear_model import LogisticRegression     # Importing the necessary module\n",
        "classifier = LogisticRegression(random_state = 0)       # Assigning variable to the model name\n",
        "classifier.fit(trainFeatures, trainLabels)              # Fit the model"
      ],
      "execution_count": null,
      "outputs": []
    },
    {
      "cell_type": "code",
      "metadata": {
        "id": "jAGr77mtxsKN"
      },
      "source": [
        "pred_LR = classifier.predict(testFeatures)              # Prediction on testSet\n"
      ],
      "execution_count": null,
      "outputs": []
    },
    {
      "cell_type": "code",
      "metadata": {
        "id": "jdMCKKqiyKjZ"
      },
      "source": [
        "from sklearn.metrics import confusion_matrix, accuracy_score          # Checking the accuracy and confusion matrix\n",
        "cm = confusion_matrix(testLabels, pred_LR)\n",
        "print(cm)\n",
        "accuracy_score(testLabels, pred_LR)"
      ],
      "execution_count": null,
      "outputs": []
    },
    {
      "cell_type": "markdown",
      "metadata": {
        "id": "Mm1cc-1fzlcq"
      },
      "source": [
        "### Support Vector Machines\n"
      ]
    },
    {
      "cell_type": "code",
      "metadata": {
        "id": "u6Z0mBk9yq2N"
      },
      "source": [
        "from sklearn.svm import SVC                                   # Importing the necessary module\n",
        "classifier_SVM = SVC(kernel = 'linear', random_state = 0)     # Assigning variable to the model name\n",
        "classifier_SVM.fit(trainFeatures, trainLabels)                # Fit the model"
      ],
      "execution_count": null,
      "outputs": []
    },
    {
      "cell_type": "code",
      "metadata": {
        "id": "vQzFKqSXzDV2"
      },
      "source": [
        "pred_SVM = classifier_SVM.predict(testFeatures)               # Prediction on testSet"
      ],
      "execution_count": null,
      "outputs": []
    },
    {
      "cell_type": "code",
      "metadata": {
        "id": "6rUtUupezKXo"
      },
      "source": [
        "from sklearn.metrics import confusion_matrix, accuracy_score   # Checking the accuracy and confusion matrix\n",
        "cm_SVM = confusion_matrix(testLabels, pred_SVM)\n",
        "print(cm_SVM)\n",
        "accuracy_score(testLabels, pred_SVM)"
      ],
      "execution_count": null,
      "outputs": []
    },
    {
      "cell_type": "markdown",
      "metadata": {
        "id": "25oxE7GR0bZU"
      },
      "source": [
        "### RandomForest"
      ]
    },
    {
      "cell_type": "code",
      "metadata": {
        "id": "jbyqcSUP0fKK"
      },
      "source": [
        "from sklearn.ensemble import RandomForestClassifier                                                    # Importing the necessary module\n",
        "classifier_RF = RandomForestClassifier(n_estimators = 10, criterion = 'entropy', random_state = 0)     # Assigning variable to the model name\n",
        "classifier_RF.fit(trainFeatures, trainLabels)                                                          # Fit the model"
      ],
      "execution_count": null,
      "outputs": []
    },
    {
      "cell_type": "code",
      "metadata": {
        "id": "9UVdL19K0yyx"
      },
      "source": [
        "pred_RF = classifier_RF.predict(testFeatures)        # Prediction on testSet"
      ],
      "execution_count": null,
      "outputs": []
    },
    {
      "cell_type": "code",
      "metadata": {
        "id": "BsQzlAle06hX"
      },
      "source": [
        "from sklearn.metrics import confusion_matrix, accuracy_score              # Checking the accuracy and confusion matrix\n",
        "cm_RF = confusion_matrix(testLabels,pred_RF)\n",
        "print(cm_RF)\n",
        "accuracy_score(testLabels, pred_RF)"
      ],
      "execution_count": null,
      "outputs": []
    },
    {
      "cell_type": "markdown",
      "metadata": {
        "id": "-gFCpQgxnEMT"
      },
      "source": [
        "## XGB"
      ]
    },
    {
      "cell_type": "code",
      "metadata": {
        "id": "mCq3AqP-mooP"
      },
      "source": [
        "from xgboost import XGBClassifier                                 # Importing the necessary module\n",
        "classifier_XGB = XGBClassifier()                                  # Assigning variable to the model name\n",
        "classifier_XGB.fit(trainFeatures,trainLabels)                     # Fit the model"
      ],
      "execution_count": null,
      "outputs": []
    },
    {
      "cell_type": "code",
      "metadata": {
        "id": "QZk91drbm02k"
      },
      "source": [
        "pred_XGB = classifier_XGB.predict(testFeatures)                          # Prediction on testSet\n"
      ],
      "execution_count": null,
      "outputs": []
    },
    {
      "cell_type": "code",
      "metadata": {
        "id": "f4CpHH_Wm6xJ"
      },
      "source": [
        "from sklearn.metrics import confusion_matrix, accuracy_score              # Checking the accuracy and confusion matrix\n",
        "cm_XGB = confusion_matrix(testLabels,pred_XGB)\n",
        "print(cm_XGB)\n",
        "accuracy_score(testLabels, pred_XGB)"
      ],
      "execution_count": null,
      "outputs": []
    },
    {
      "cell_type": "markdown",
      "metadata": {
        "id": "wzxhApCKouMq"
      },
      "source": [
        "## KNN"
      ]
    },
    {
      "cell_type": "code",
      "metadata": {
        "id": "Pp02PpUvdKF0"
      },
      "source": [
        "from sklearn.metrics import mean_squared_error\n",
        "from math import sqrt\n",
        "rmse=[]\n",
        "\n",
        "for i  in range(20,30):\n",
        "    knn=KNeighborsClassifier(n_neighbors=i,metric='minkowski',p=2)\n",
        "    knn.fit(trainFeatures,trainLabels)\n",
        "    preds=knn.predict(testFeatures)\n",
        "    error = sqrt(mean_squared_error(testLabels,preds))\n",
        "    rmse.append(error)\n",
        "\n",
        "\n",
        "curve = pd.DataFrame(rmse)\n",
        "curve.plot()"
      ],
      "execution_count": null,
      "outputs": []
    },
    {
      "cell_type": "code",
      "metadata": {
        "id": "3K370BlOntTR"
      },
      "source": [
        "# From the graph we can see that the best K value is 25\n",
        "from sklearn.neighbors import KNeighborsClassifier                                     # Importing the necessary module\n",
        "classifier_KNN = KNeighborsClassifier(n_neighbors = 25, metric = 'minkowski', p = 2)    # Assigning variable to the model name\n",
        "classifier_KNN.fit(trainFeatures,trainLabels)                                          # Fit the model"
      ],
      "execution_count": null,
      "outputs": []
    },
    {
      "cell_type": "code",
      "metadata": {
        "id": "NpIEptrxn-fB"
      },
      "source": [
        "pred_KNN = classifier_KNN.predict(testFeatures)                                        # Prediction on testSet"
      ],
      "execution_count": null,
      "outputs": []
    },
    {
      "cell_type": "code",
      "metadata": {
        "id": "oZYl1381oYzg"
      },
      "source": [
        "from sklearn.metrics import confusion_matrix, accuracy_score                             # Checking the accuracy and confusion matrix\n",
        "cm_KNN = confusion_matrix(testLabels,pred_KNN)\n",
        "print(cm_KNN)\n",
        "accuracy_score(testLabels, pred_KNN)"
      ],
      "execution_count": null,
      "outputs": []
    },
    {
      "cell_type": "markdown",
      "metadata": {
        "id": "Dn3ivOCRppaK"
      },
      "source": [
        "## Decision Tree"
      ]
    },
    {
      "cell_type": "code",
      "metadata": {
        "id": "7Mlk5LR5pL9J"
      },
      "source": [
        "from sklearn.tree import DecisionTreeClassifier                                     # Importing the necessary module\n",
        "classifier_DT = DecisionTreeClassifier(criterion = 'entropy', random_state = 0)     # Assigning variable to the model name\n",
        "classifier_DT.fit(trainFeatures,trainLabels)                                        # Fit the model"
      ],
      "execution_count": null,
      "outputs": []
    },
    {
      "cell_type": "code",
      "metadata": {
        "id": "IX_8ihBqpU0e"
      },
      "source": [
        "pred_DT = classifier_DT.predict(testFeatures)                                       # Prediction on testSet"
      ],
      "execution_count": null,
      "outputs": []
    },
    {
      "cell_type": "code",
      "metadata": {
        "id": "TWr1esiCpar0"
      },
      "source": [
        "from sklearn.metrics import confusion_matrix, accuracy_score                         # Checking the accuracy and confusion matrix\n",
        "cm_DT = confusion_matrix(testLabels,pred_DT)\n",
        "print(cm_DT)\n",
        "accuracy_score(testLabels, pred_DT)"
      ],
      "execution_count": null,
      "outputs": []
    },
    {
      "cell_type": "markdown",
      "metadata": {
        "id": "EJjyoegLe_iq"
      },
      "source": [
        "#### Gradient Boosting"
      ]
    },
    {
      "cell_type": "code",
      "metadata": {
        "id": "za72dBfKebMU"
      },
      "source": [
        "from sklearn.ensemble import GradientBoostingClassifier as gbc\n",
        "classifier_gb=gbc(n_estimators=200,max_depth=3,learning_rate=0.1)\n",
        "classifier_gb.fit(trainFeatures,trainLabels)"
      ],
      "execution_count": null,
      "outputs": []
    },
    {
      "cell_type": "code",
      "metadata": {
        "id": "JbsH1zkOekuj"
      },
      "source": [
        "pred_GB=classifier_gb.predict(testFeatures)\n",
        "cm_GB=confusion_matrix(testLabels,pred_GB)\n",
        "print(cm_GB)\n",
        "accuracy_score(testLabels, pred_GB)"
      ],
      "execution_count": null,
      "outputs": []
    },
    {
      "cell_type": "markdown",
      "metadata": {
        "id": "9bawRPOm1J6E"
      },
      "source": [
        "## Observations:\n",
        "As we've done the classification using different algorithms on Multivariate Dataset. The accuracies are as below:\n",
        "\n",
        "**1.XGboost   : 86%  (First Place)🥇**\n",
        "\n",
        "**2.Gradient Boosting: 86% (Second Place)🥈**\n",
        "\n",
        "**3. Artificial Neural Networks : 85%  (Third Place)🥉**\n",
        "\n",
        "**4. Random Forest : 85% Approx**\n",
        "\n",
        "**5. KNN : 83%**\n",
        "\n",
        "**6. Decision Trees : 80%**\n",
        "\n",
        "**7. Logistic Regression : 80%**\n",
        "\n",
        "**8. Support Vector Machines : 80% Approx**\n",
        "\n",
        "\n",
        "\n"
      ]
    },
    {
      "cell_type": "markdown",
      "metadata": {
        "id": "yPr38viEba1C"
      },
      "source": [
        "*Though all the models are having good accuracy, true negatives are correctly being predicted bt ANN, XGB, Decision Trees*"
      ]
    },
    {
      "cell_type": "markdown",
      "metadata": {
        "id": "2pJQXjhJsn5h"
      },
      "source": [
        "### Weighted Average of three models\n",
        "\n",
        "* Lets Assign weight to the predictions of `XGBOOST`,`GradientBoosting`,`Decision Trees`"
      ]
    },
    {
      "cell_type": "code",
      "metadata": {
        "id": "4Pv6_PdKsmo4"
      },
      "source": [
        "Weighted_Preds=((0.34*pred_XGB)+(0.33*pred_GB)+(0.33*pred_DT))\n",
        "Weighted_Preds=(Weighted_Preds>=0.5)\n",
        "print(Weighted_Preds)"
      ],
      "execution_count": null,
      "outputs": []
    },
    {
      "cell_type": "code",
      "metadata": {
        "id": "EF_QYVYev3Vk"
      },
      "source": [
        "from sklearn.metrics import confusion_matrix, accuracy_score\n",
        "cm_Weighted = confusion_matrix(testLabels,Weighted_Preds)\n",
        "print(cm_Weighted)\n",
        "accuracy_score(testLabels, Weighted_Preds)"
      ],
      "execution_count": null,
      "outputs": []
    },
    {
      "cell_type": "markdown",
      "metadata": {
        "id": "CIDLCD5uwzLK"
      },
      "source": [
        "## End of Code 😎"
      ]
    }
  ]
}